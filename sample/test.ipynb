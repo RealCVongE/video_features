{
 "cells": [
  {
   "cell_type": "code",
   "execution_count": 5,
   "metadata": {},
   "outputs": [
    {
     "name": "stdout",
     "output_type": "stream",
     "text": [
      "50\n",
      "['Shoplifting030_x264__0.npy', 'Shoplifting019_x264__0.npy', 'Shoplifting008_x264__0.npy', 'Shoplifting042_x264__0.npy', 'Shoplifting043_x264__0.npy', 'Shoplifting037_x264__0.npy', 'Shoplifting020_x264__0.npy', 'Shoplifting052_x264__0.npy', 'Shoplifting045_x264__0.npy', 'Shoplifting001_x264__0.npy', 'Shoplifting009_x264__0.npy', 'Shoplifting022_x264__0.npy', 'Shoplifting049_x264__0.npy', 'Shoplifting053_x264__0.npy', 'Shoplifting005_x264__0.npy', 'Shoplifting034_x264__0.npy', 'Shoplifting050_x264__0.npy', 'Shoplifting032_x264__0.npy', 'Shoplifting039_x264__0.npy', 'Shoplifting024_x264__0.npy', 'Shoplifting016_x264__0.npy', 'Shoplifting004_x264__0.npy', 'Shoplifting014_x264__0.npy', 'Shoplifting017_x264__0.npy', 'Shoplifting018_x264__0.npy', 'Shoplifting048_x264__0.npy', 'Shoplifting041_x264__0.npy', 'Shoplifting021_x264__0.npy', 'Shoplifting006_x264__0.npy', 'Shoplifting012_x264__0.npy', 'Shoplifting010_x264__0.npy', 'Shoplifting029_x264__0.npy', 'Shoplifting054_x264__0.npy', 'Shoplifting027_x264__0.npy', 'Shoplifting055_x264__0.npy', 'Shoplifting013_x264__0.npy', 'Shoplifting003_x264__0.npy', 'Shoplifting038_x264__0.npy', 'Shoplifting007_x264__0.npy', 'Shoplifting044_x264__0.npy', 'Shoplifting051_x264__0.npy', 'Shoplifting036_x264__0.npy', 'Shoplifting015_x264__0.npy', 'Shoplifting031_x264__0.npy', 'Shoplifting025_x264__0.npy', 'Shoplifting047_x264__0.npy', 'Shoplifting040_x264__0.npy', 'Shoplifting033_x264__0.npy', 'Shoplifting028_x264__0.npy', 'Shoplifting026_x264__0.npy']\n",
      "mp4 파일 개수: 50\n"
     ]
    }
   ],
   "source": [
    "import os\n",
    "\n",
    "mp4_files=[]\n",
    "def count_mp4_files(path):\n",
    "  \"\"\"\n",
    "  주어진 경로의 하위 파일들을 전부 검사해서 mp4 파일 개수를 센다.\n",
    "\n",
    "  Args:\n",
    "    path: 하위 파일들을 검사할 경로\n",
    "\n",
    "  Returns:\n",
    "    mp4 파일 개수\n",
    "  \"\"\"\n",
    "\n",
    "  mp4_count = 0\n",
    "  for root, dirs, files in os.walk(path):\n",
    "    for file in files:\n",
    "      if file.endswith(\"_0.npy\"):\n",
    "        mp4_count += 1\n",
    "        mp4_files.append(file)\n",
    "  return mp4_count\n",
    "\n",
    "rootdir= \"UCF_Crimes\"\n",
    "\n",
    "rootdir_crop= \"UCF_Crimes_10crop\"\n",
    "# 예시\n",
    "path = \"UCF_Crimes/Videos/Training_Normal_Videos_Anomaly/\"\n",
    "new_path = \"UCF_Crimes_npy/Shoplifting/i3d/\"\n",
    "mp4_count = count_mp4_files(new_path)\n",
    "print(len(mp4_files))\n",
    "print(mp4_files)\n",
    "print(f\"mp4 파일 개수: {mp4_count}\")\n"
   ]
  },
  {
   "cell_type": "code",
   "execution_count": 9,
   "metadata": {},
   "outputs": [
    {
     "name": "stdout",
     "output_type": "stream",
     "text": [
      "50\n",
      "['Shoplifting010_x264.mp4', 'Shoplifting034_x264.mp4', 'Shoplifting036_x264.mp4', 'Shoplifting013_x264.mp4', 'Shoplifting004_x264.mp4', 'Shoplifting048_x264.mp4', 'Shoplifting027_x264.mp4', 'Shoplifting052_x264.mp4', 'Shoplifting054_x264.mp4', 'Shoplifting031_x264.mp4', 'Shoplifting024_x264.mp4', 'Shoplifting044_x264.mp4', 'Shoplifting040_x264.mp4', 'Shoplifting045_x264.mp4', 'Shoplifting019_x264.mp4', 'Shoplifting015_x264.mp4', 'Shoplifting018_x264.mp4', 'Shoplifting039_x264.mp4', 'Shoplifting012_x264.mp4', 'Shoplifting030_x264.mp4', 'Shoplifting041_x264.mp4', 'Shoplifting047_x264.mp4', 'Shoplifting038_x264.mp4', 'Shoplifting017_x264.mp4', 'Shoplifting005_x264.mp4', 'Shoplifting025_x264.mp4', 'Shoplifting053_x264.mp4', 'Shoplifting029_x264.mp4', 'Shoplifting026_x264.mp4', 'Shoplifting037_x264.mp4', 'Shoplifting043_x264.mp4', 'Shoplifting008_x264.mp4', 'Shoplifting042_x264.mp4', 'Shoplifting006_x264.mp4', 'Shoplifting055_x264.mp4', 'Shoplifting003_x264.mp4', 'Shoplifting020_x264.mp4', 'Shoplifting009_x264.mp4', 'Shoplifting001_x264.mp4', 'Shoplifting028_x264.mp4', 'Shoplifting016_x264.mp4', 'Shoplifting049_x264.mp4', 'Shoplifting022_x264.mp4', 'Shoplifting050_x264.mp4', 'Shoplifting014_x264.mp4', 'Shoplifting007_x264.mp4', 'Shoplifting051_x264.mp4', 'Shoplifting021_x264.mp4', 'Shoplifting032_x264.mp4', 'Shoplifting033_x264.mp4']\n",
      "mp4 파일 개수: 50\n"
     ]
    }
   ],
   "source": [
    "import os\n",
    "\n",
    "mp4_files=[]\n",
    "def count_mp4_files(path):\n",
    "  \"\"\"\n",
    "  주어진 경로의 하위 파일들을 전부 검사해서 mp4 파일 개수를 센다.\n",
    "\n",
    "  Args:\n",
    "    path: 하위 파일들을 검사할 경로\n",
    "\n",
    "  Returns:\n",
    "    mp4 파일 개수\n",
    "  \"\"\"\n",
    "\n",
    "  mp4_count = 0\n",
    "  for root, dirs, files in os.walk(path):\n",
    "    for file in files:\n",
    "      if file.endswith(\".mp4\"):\n",
    "        mp4_count += 1\n",
    "        mp4_files.append(file)\n",
    "  return mp4_count\n",
    "rootdir= \"UCF_Crimes\"\n",
    "\n",
    "rootdir_crop= \"UCF_Crimes_10crop\"\n",
    "# 예시\n",
    "path = \"UCF_Crimes/Videos/Shoplifting/\"\n",
    "new_path = \"UCF_Crimes_npy/Shoplifting/i3d/\"\n",
    "mp4_count = count_mp4_files(path)\n",
    "print(len(mp4_files))\n",
    "print(mp4_files)\n",
    "print(f\"mp4 파일 개수: {mp4_count}\")\n"
   ]
  },
  {
   "cell_type": "code",
   "execution_count": 19,
   "metadata": {},
   "outputs": [
    {
     "name": "stdout",
     "output_type": "stream",
     "text": [
      "Shoplifting033_x264.mp4: 5761\n",
      "360\n"
     ]
    }
   ],
   "source": [
    "# A.Beautiful.Mind.2001__#00-25-20_00-29-20_label_A__0.npy\n",
    "video_path = os.path.join(\"/home/bigdeal/mnt2/BN-WVAD/videos\", \"A.Beautiful.Mind.2001__#00-25-20_00-29-20_label_A.mp4\")\n",
    "num_frames = count_frames(video_path)\n",
    "print(f\"{file}: {num_frames}\")\n",
    "frames = np.load(os.path.join(\"/home/bigdeal/mnt2/BN-WVAD/i3d-features/i3d-features/test\",\"A.Beautiful.Mind.2001__#00-25-20_00-29-20_label_A__0.npy\"))\n",
    "print(frames.shape[0])"
   ]
  },
  {
   "cell_type": "code",
   "execution_count": 24,
   "metadata": {},
   "outputs": [
    {
     "name": "stdout",
     "output_type": "stream",
     "text": [
      "Shoplifting033_x264.mp4: 1640\n",
      "102\n"
     ]
    }
   ],
   "source": [
    "video_path = os.path.join(\"UCF_Crimes_10crop/Videos/Shoplifting/\", \"Shoplifting045_x264__0.mp4\")\n",
    "num_frames = count_frames(video_path)\n",
    "print(f\"{file}: {num_frames}\")\n",
    "frames = np.load(os.path.join(\"UCF_Crimes_npy/Shoplifting/i3d/\",\"Shoplifting045_x264__0.npy\"))\n",
    "print(frames.shape[0])"
   ]
  },
  {
   "cell_type": "code",
   "execution_count": 11,
   "metadata": {},
   "outputs": [
    {
     "name": "stdout",
     "output_type": "stream",
     "text": [
      "Shoplifting010_x264.mp4: 2736\n",
      "Shoplifting034_x264.mp4: 11937\n",
      "Shoplifting036_x264.mp4: 3657\n",
      "Shoplifting013_x264.mp4: 2021\n",
      "Shoplifting004_x264.mp4: 6673\n",
      "Shoplifting048_x264.mp4: 3108\n",
      "Shoplifting027_x264.mp4: 1873\n",
      "Shoplifting052_x264.mp4: 7646\n",
      "Shoplifting054_x264.mp4: 1025\n",
      "Shoplifting031_x264.mp4: 447\n",
      "Shoplifting024_x264.mp4: 1208\n",
      "Shoplifting044_x264.mp4: 14555\n",
      "Shoplifting040_x264.mp4: 27208\n",
      "Shoplifting045_x264.mp4: 1640\n",
      "Shoplifting019_x264.mp4: 657\n",
      "Shoplifting015_x264.mp4: 2256\n",
      "Shoplifting018_x264.mp4: 2132\n",
      "Shoplifting039_x264.mp4: 2803\n",
      "Shoplifting012_x264.mp4: 23433\n",
      "Shoplifting030_x264.mp4: 24193\n",
      "Shoplifting041_x264.mp4: 12335\n",
      "Shoplifting047_x264.mp4: 2377\n",
      "Shoplifting038_x264.mp4: 2904\n",
      "Shoplifting017_x264.mp4: 457\n",
      "Shoplifting005_x264.mp4: 1967\n",
      "Shoplifting025_x264.mp4: 1824\n",
      "Shoplifting053_x264.mp4: 2097\n",
      "Shoplifting029_x264.mp4: 2176\n",
      "Shoplifting026_x264.mp4: 1410\n",
      "Shoplifting037_x264.mp4: 1386\n",
      "Shoplifting043_x264.mp4: 9518\n",
      "Shoplifting008_x264.mp4: 8927\n",
      "Shoplifting042_x264.mp4: 5121\n",
      "Shoplifting006_x264.mp4: 3156\n",
      "Shoplifting055_x264.mp4: 6770\n",
      "Shoplifting003_x264.mp4: 10817\n",
      "Shoplifting020_x264.mp4: 5770\n",
      "Shoplifting009_x264.mp4: 5201\n",
      "Shoplifting001_x264.mp4: 4344\n",
      "Shoplifting028_x264.mp4: 1357\n",
      "Shoplifting016_x264.mp4: 1483\n",
      "Shoplifting049_x264.mp4: 2149\n",
      "Shoplifting022_x264.mp4: 2191\n",
      "Shoplifting050_x264.mp4: 2506\n",
      "Shoplifting014_x264.mp4: 66698\n",
      "Shoplifting007_x264.mp4: 5124\n",
      "Shoplifting051_x264.mp4: 7218\n",
      "Shoplifting021_x264.mp4: 3551\n",
      "Shoplifting032_x264.mp4: 1426\n",
      "Shoplifting033_x264.mp4: 899\n"
     ]
    }
   ],
   "source": [
    "import os\n",
    "import cv2\n",
    "\n",
    "def count_frames(path):\n",
    "  \"\"\"\n",
    "  주어진 mp4 파일의 프레임 수를 계산합니다.\n",
    "\n",
    "  Args:\n",
    "    path: mp4 파일 경로\n",
    "\n",
    "  Returns:\n",
    "    프레임 수\n",
    "  \"\"\"\n",
    "\n",
    "  cap = cv2.VideoCapture(path)\n",
    "  total_frames = 0\n",
    "  while True:\n",
    "    ret, frame = cap.read()\n",
    "    if not ret:\n",
    "      break\n",
    "    total_frames += 1\n",
    "  cap.release()\n",
    "  return total_frames\n",
    "\n",
    "# 경로 설정\n",
    "path = \"UCF_Crimes/Videos/Shoplifting\"\n",
    "\n",
    "# 각 mp4 파일의 프레임 수 계산\n",
    "for file in os.listdir(path):\n",
    "  if file.endswith(\".mp4\"):\n",
    "    video_path = os.path.join(path, file)\n",
    "    num_frames = count_frames(video_path)\n",
    "    print(f\"{file}: {num_frames}\")\n",
    "\n"
   ]
  },
  {
   "cell_type": "code",
   "execution_count": null,
   "metadata": {},
   "outputs": [],
   "source": []
  },
  {
   "cell_type": "code",
   "execution_count": 8,
   "metadata": {},
   "outputs": [
    {
     "name": "stdout",
     "output_type": "stream",
     "text": [
      "378\n",
      "10\n",
      "139\n",
      "80\n",
      "148\n",
      "21\n",
      "90\n",
      "119\n",
      "25\n",
      "67\n",
      "81\n",
      "34\n",
      "33\n",
      "32\n",
      "30\n",
      "186\n",
      "39\n",
      "22\n",
      "43\n",
      "18\n",
      "23\n",
      "104\n",
      "1042\n",
      "7\n",
      "33\n",
      "48\n",
      "192\n",
      "55\n",
      "49\n",
      "366\n",
      "42\n",
      "33\n",
      "16\n",
      "29\n",
      "105\n",
      "31\n",
      "169\n",
      "45\n",
      "80\n",
      "227\n",
      "112\n",
      "57\n",
      "35\n",
      "6\n",
      "28\n",
      "37\n",
      "425\n",
      "14\n",
      "21\n",
      "22\n",
      "5048\n"
     ]
    }
   ],
   "source": [
    "import numpy as np\n",
    "new_path = \"UCF_Crimes_npy/Shoplifting/i3d/\"\n",
    "path = \"UCF_Crimes/Videos/Shoplifting\"\n",
    "\n",
    "total_frames=0\n",
    "\n",
    "for item in mp4_files:\n",
    "    frames = np.load(os.path.join(path,item))\n",
    "    total_frames+=frames.shape[0]\n",
    "    print(frames.shape[0])\n",
    "print(total_frames)"
   ]
  },
  {
   "cell_type": "markdown",
   "metadata": {},
   "source": [
    "# 좀도둑질 mp4 갯수 파악하기"
   ]
  },
  {
   "cell_type": "code",
   "execution_count": null,
   "metadata": {},
   "outputs": [],
   "source": [
    "import os\n",
    "\n",
    "mp4_files=[]\n",
    "def count_mp4_files(path):\n",
    "  \"\"\"\n",
    "  주어진 경로의 하위 파일들을 전부 검사해서 mp4 파일 개수를 센다.\n",
    "\n",
    "  Args:\n",
    "    path: 하위 파일들을 검사할 경로\n",
    "\n",
    "  Returns:\n",
    "    mp4 파일 개수\n",
    "  \"\"\"\n",
    "\n",
    "  mp4_count = 0\n",
    "  for root, dirs, files in os.walk(path):\n",
    "    for file in files:\n",
    "      if file.endswith(\".mp4\"):\n",
    "        mp4_count += 1\n",
    "        mp4_files.append(file)\n",
    "  return mp4_count\n",
    "\n",
    "rootdir= \"UCF_Crimes\"\n",
    "\n",
    "rootdir_crop= \"UCF_Crimes_10crop\"\n",
    "# 예시\n",
    "path = \"UCF_Crimes/Videos/Testing_Normal_Videos_Anomaly/\"\n",
    "new_path = \"UCF_Crimes_10crop/Videos/Testing_Normal_Videos_Anomaly/\"\n",
    "mp4_count = count_mp4_files(new_path)\n",
    "print(len(mp4_files))\n",
    "print(mp4_files)\n",
    "print(f\"mp4 파일 개수: {mp4_count}\")\n"
   ]
  },
  {
   "cell_type": "code",
   "execution_count": 1,
   "metadata": {},
   "outputs": [
    {
     "name": "stdout",
     "output_type": "stream",
     "text": [
      "1500\n",
      "['Normal_Videos_926_x264__3.mp4', 'Normal_Videos_704_x264__7.mp4', 'Normal_Videos_873_x264__1.mp4', 'Normal_Videos_936_x264__8.mp4', 'Normal_Videos_310_x264__9.mp4', 'Normal_Videos_168_x264__5.mp4', 'Normal_Videos_704_x264__4.mp4', 'Normal_Videos_929_x264__7.mp4', 'Normal_Videos_478_x264__8.mp4', 'Normal_Videos_059_x264__0.mp4', 'Normal_Videos_014_x264__1.mp4', 'Normal_Videos_439_x264__1.mp4', 'Normal_Videos_906_x264__5.mp4', 'Normal_Videos_014_x264__2.mp4', 'Normal_Videos_217_x264__6.mp4', 'Normal_Videos_182_x264__7.mp4', 'Normal_Videos_926_x264__5.mp4', 'Normal_Videos_931_x264__8.mp4', 'Normal_Videos_783_x264__5.mp4', 'Normal_Videos_900_x264__4.mp4', 'Normal_Videos_908_x264__9.mp4', 'Normal_Videos_725_x264__4.mp4', 'Normal_Videos_880_x264__9.mp4', 'Normal_Videos_870_x264__3.mp4', 'Normal_Videos_801_x264__7.mp4', 'Normal_Videos_150_x264__1.mp4', 'Normal_Videos_006_x264__2.mp4', 'Normal_Videos_621_x264__6.mp4', 'Normal_Videos_943_x264__9.mp4', 'Normal_Videos_868_x264__4.mp4', 'Normal_Videos_895_x264__4.mp4', 'Normal_Videos_893_x264__3.mp4', 'Normal_Videos_876_x264__5.mp4', 'Normal_Videos_928_x264__0.mp4', 'Normal_Videos_903_x264__2.mp4', 'Normal_Videos_911_x264__8.mp4', 'Normal_Videos_722_x264__2.mp4', 'Normal_Videos_401_x264__0.mp4', 'Normal_Videos_873_x264__9.mp4', 'Normal_Videos_024_x264__4.mp4', 'Normal_Videos_927_x264__0.mp4', 'Normal_Videos_168_x264__3.mp4', 'Normal_Videos_150_x264__2.mp4', 'Normal_Videos_925_x264__5.mp4', 'Normal_Videos_887_x264__8.mp4', 'Normal_Videos_929_x264__9.mp4', 'Normal_Videos_034_x264__1.mp4', 'Normal_Videos_888_x264__9.mp4', 'Normal_Videos_798_x264__6.mp4', 'Normal_Videos_452_x264__9.mp4', 'Normal_Videos_937_x264__2.mp4', 'Normal_Videos_910_x264__4.mp4', 'Normal_Videos_778_x264__1.mp4', 'Normal_Videos_906_x264__2.mp4', 'Normal_Videos_014_x264__8.mp4', 'Normal_Videos_876_x264__2.mp4', 'Normal_Videos_063_x264__4.mp4', 'Normal_Videos_890_x264__8.mp4', 'Normal_Videos_070_x264__3.mp4', 'Normal_Videos_927_x264__7.mp4', 'Normal_Videos_059_x264__5.mp4', 'Normal_Videos_933_x264__5.mp4', 'Normal_Videos_365_x264__5.mp4', 'Normal_Videos_780_x264__3.mp4', 'Normal_Videos_247_x264__6.mp4', 'Normal_Videos_478_x264__1.mp4', 'Normal_Videos_027_x264__9.mp4', 'Normal_Videos_930_x264__6.mp4', 'Normal_Videos_597_x264__4.mp4', 'Normal_Videos_056_x264__8.mp4', 'Normal_Videos_745_x264__0.mp4', 'Normal_Videos_883_x264__0.mp4', 'Normal_Videos_247_x264__5.mp4', 'Normal_Videos_006_x264__0.mp4', 'Normal_Videos_930_x264__3.mp4', 'Normal_Videos_696_x264__8.mp4', 'Normal_Videos_634_x264__2.mp4', 'Normal_Videos_196_x264__6.mp4', 'Normal_Videos_912_x264__5.mp4', 'Normal_Videos_246_x264__9.mp4', 'Normal_Videos_417_x264__9.mp4', 'Normal_Videos_933_x264__9.mp4', 'Normal_Videos_931_x264__3.mp4', 'Normal_Videos_247_x264__8.mp4', 'Normal_Videos_168_x264__8.mp4', 'Normal_Videos_941_x264__6.mp4', 'Normal_Videos_896_x264__7.mp4', 'Normal_Videos_453_x264__1.mp4', 'Normal_Videos_056_x264__6.mp4', 'Normal_Videos_034_x264__0.mp4', 'Normal_Videos_929_x264__4.mp4', 'Normal_Videos_926_x264__4.mp4', 'Normal_Videos_911_x264__2.mp4', 'Normal_Videos_006_x264__6.mp4', 'Normal_Videos_895_x264__1.mp4', 'Normal_Videos_915_x264__9.mp4', 'Normal_Videos_576_x264__0.mp4', 'Normal_Videos_745_x264__2.mp4', 'Normal_Videos_828_x264__0.mp4', 'Normal_Videos_893_x264__8.mp4', 'Normal_Videos_196_x264__7.mp4', 'Normal_Videos_696_x264__7.mp4', 'Normal_Videos_905_x264__4.mp4', 'Normal_Videos_940_x264__0.mp4', 'Normal_Videos_897_x264__7.mp4', 'Normal_Videos_877_x264__1.mp4', 'Normal_Videos_641_x264__5.mp4', 'Normal_Videos_345_x264__2.mp4', 'Normal_Videos_641_x264__0.mp4', 'Normal_Videos_895_x264__3.mp4', 'Normal_Videos_597_x264__8.mp4', 'Normal_Videos_783_x264__7.mp4', 'Normal_Videos_929_x264__5.mp4', 'Normal_Videos_875_x264__2.mp4', 'Normal_Videos_929_x264__3.mp4', 'Normal_Videos_781_x264__8.mp4', 'Normal_Videos_874_x264__0.mp4', 'Normal_Videos_929_x264__1.mp4', 'Normal_Videos_621_x264__7.mp4', 'Normal_Videos_932_x264__1.mp4', 'Normal_Videos_686_x264__2.mp4', 'Normal_Videos_872_x264__5.mp4', 'Normal_Videos_203_x264__4.mp4', 'Normal_Videos_935_x264__3.mp4', 'Normal_Videos_902_x264__6.mp4', 'Normal_Videos_906_x264__7.mp4', 'Normal_Videos_928_x264__9.mp4', 'Normal_Videos_884_x264__5.mp4', 'Normal_Videos_869_x264__1.mp4', 'Normal_Videos_006_x264__3.mp4', 'Normal_Videos_070_x264__4.mp4', 'Normal_Videos_908_x264__8.mp4', 'Normal_Videos_050_x264__1.mp4', 'Normal_Videos_910_x264__3.mp4', 'Normal_Videos_798_x264__3.mp4', 'Normal_Videos_924_x264__9.mp4', 'Normal_Videos_182_x264__1.mp4', 'Normal_Videos_033_x264__9.mp4', 'Normal_Videos_210_x264__9.mp4', 'Normal_Videos_478_x264__5.mp4', 'Normal_Videos_902_x264__9.mp4', 'Normal_Videos_196_x264__9.mp4', 'Normal_Videos_783_x264__1.mp4', 'Normal_Videos_041_x264__7.mp4', 'Normal_Videos_872_x264__0.mp4', 'Normal_Videos_686_x264__8.mp4', 'Normal_Videos_641_x264__9.mp4', 'Normal_Videos_890_x264__6.mp4', 'Normal_Videos_417_x264__1.mp4', 'Normal_Videos_910_x264__2.mp4', 'Normal_Videos_915_x264__7.mp4', 'Normal_Videos_710_x264__2.mp4', 'Normal_Videos_897_x264__4.mp4', 'Normal_Videos_905_x264__8.mp4', 'Normal_Videos_360_x264__9.mp4', 'Normal_Videos_401_x264__7.mp4', 'Normal_Videos_702_x264__2.mp4', 'Normal_Videos_894_x264__4.mp4', 'Normal_Videos_914_x264__4.mp4', 'Normal_Videos_015_x264__0.mp4', 'Normal_Videos_175_x264__4.mp4', 'Normal_Videos_891_x264__3.mp4', 'Normal_Videos_893_x264__2.mp4', 'Normal_Videos_868_x264__7.mp4', 'Normal_Videos_352_x264__2.mp4', 'Normal_Videos_210_x264__6.mp4', 'Normal_Videos_907_x264__5.mp4', 'Normal_Videos_889_x264__0.mp4', 'Normal_Videos_828_x264__9.mp4', 'Normal_Videos_923_x264__9.mp4', 'Normal_Videos_943_x264__1.mp4', 'Normal_Videos_868_x264__6.mp4', 'Normal_Videos_925_x264__0.mp4', 'Normal_Videos_439_x264__8.mp4', 'Normal_Videos_041_x264__2.mp4', 'Normal_Videos_943_x264__6.mp4', 'Normal_Videos_352_x264__6.mp4', 'Normal_Videos_892_x264__1.mp4', 'Normal_Videos_010_x264__2.mp4', 'Normal_Videos_886_x264__1.mp4', 'Normal_Videos_780_x264__1.mp4', 'Normal_Videos_867_x264__9.mp4', 'Normal_Videos_884_x264__0.mp4', 'Normal_Videos_725_x264__5.mp4', 'Normal_Videos_015_x264__9.mp4', 'Normal_Videos_943_x264__0.mp4', 'Normal_Videos_912_x264__8.mp4', 'Normal_Videos_182_x264__2.mp4', 'Normal_Videos_783_x264__2.mp4', 'Normal_Videos_902_x264__4.mp4', 'Normal_Videos_246_x264__2.mp4', 'Normal_Videos_909_x264__8.mp4', 'Normal_Videos_909_x264__5.mp4', 'Normal_Videos_871_x264__5.mp4', 'Normal_Videos_906_x264__3.mp4', 'Normal_Videos_634_x264__6.mp4', 'Normal_Videos_018_x264__0.mp4', 'Normal_Videos_059_x264__9.mp4', 'Normal_Videos_782_x264__9.mp4', 'Normal_Videos_872_x264__1.mp4', 'Normal_Videos_189_x264__4.mp4', 'Normal_Videos_798_x264__1.mp4', 'Normal_Videos_892_x264__4.mp4', 'Normal_Videos_196_x264__8.mp4', 'Normal_Videos_150_x264__4.mp4', 'Normal_Videos_758_x264__4.mp4', 'Normal_Videos_894_x264__1.mp4', 'Normal_Videos_882_x264__4.mp4', 'Normal_Videos_251_x264__9.mp4', 'Normal_Videos_941_x264__8.mp4', 'Normal_Videos_059_x264__1.mp4', 'Normal_Videos_798_x264__2.mp4', 'Normal_Videos_041_x264__6.mp4', 'Normal_Videos_935_x264__8.mp4', 'Normal_Videos_100_x264__9.mp4', 'Normal_Videos_798_x264__8.mp4', 'Normal_Videos_041_x264__8.mp4', 'Normal_Videos_453_x264__8.mp4', 'Normal_Videos_217_x264__0.mp4', 'Normal_Videos_886_x264__8.mp4', 'Normal_Videos_934_x264__1.mp4', 'Normal_Videos_050_x264__4.mp4', 'Normal_Videos_886_x264__9.mp4', 'Normal_Videos_926_x264__8.mp4', 'Normal_Videos_902_x264__7.mp4', 'Normal_Videos_345_x264__3.mp4', 'Normal_Videos_903_x264__6.mp4', 'Normal_Videos_014_x264__9.mp4', 'Normal_Videos_251_x264__6.mp4', 'Normal_Videos_129_x264__4.mp4', 'Normal_Videos_923_x264__1.mp4', 'Normal_Videos_310_x264__1.mp4', 'Normal_Videos_345_x264__0.mp4', 'Normal_Videos_019_x264__4.mp4', 'Normal_Videos_911_x264__0.mp4', 'Normal_Videos_911_x264__6.mp4', 'Normal_Videos_014_x264__0.mp4', 'Normal_Videos_869_x264__7.mp4', 'Normal_Videos_778_x264__5.mp4', 'Normal_Videos_246_x264__4.mp4', 'Normal_Videos_360_x264__6.mp4', 'Normal_Videos_910_x264__0.mp4', 'Normal_Videos_248_x264__4.mp4', 'Normal_Videos_051_x264__8.mp4', 'Normal_Videos_758_x264__0.mp4', 'Normal_Videos_879_x264__4.mp4', 'Normal_Videos_702_x264__4.mp4', 'Normal_Videos_042_x264__0.mp4', 'Normal_Videos_894_x264__3.mp4', 'Normal_Videos_867_x264__2.mp4', 'Normal_Videos_603_x264__4.mp4', 'Normal_Videos_070_x264__8.mp4', 'Normal_Videos_899_x264__4.mp4', 'Normal_Videos_310_x264__6.mp4', 'Normal_Videos_909_x264__1.mp4', 'Normal_Videos_899_x264__5.mp4', 'Normal_Videos_944_x264__9.mp4', 'Normal_Videos_641_x264__3.mp4', 'Normal_Videos_189_x264__1.mp4', 'Normal_Videos_782_x264__0.mp4', 'Normal_Videos_909_x264__3.mp4', 'Normal_Videos_018_x264__4.mp4', 'Normal_Videos_938_x264__0.mp4', 'Normal_Videos_196_x264__0.mp4', 'Normal_Videos_879_x264__2.mp4', 'Normal_Videos_758_x264__1.mp4', 'Normal_Videos_010_x264__7.mp4', 'Normal_Videos_656_x264__1.mp4', 'Normal_Videos_878_x264__3.mp4', 'Normal_Videos_634_x264__8.mp4', 'Normal_Videos_696_x264__5.mp4', 'Normal_Videos_360_x264__5.mp4', 'Normal_Videos_778_x264__2.mp4', 'Normal_Videos_882_x264__2.mp4', 'Normal_Videos_745_x264__1.mp4', 'Normal_Videos_452_x264__2.mp4', 'Normal_Videos_722_x264__0.mp4', 'Normal_Videos_866_x264__5.mp4', 'Normal_Videos_939_x264__1.mp4', 'Normal_Videos_150_x264__7.mp4', 'Normal_Videos_024_x264__1.mp4', 'Normal_Videos_881_x264__0.mp4', 'Normal_Videos_895_x264__2.mp4', 'Normal_Videos_696_x264__6.mp4', 'Normal_Videos_909_x264__9.mp4', 'Normal_Videos_024_x264__9.mp4', 'Normal_Videos_898_x264__7.mp4', 'Normal_Videos_874_x264__8.mp4', 'Normal_Videos_889_x264__7.mp4', 'Normal_Videos_310_x264__8.mp4', 'Normal_Videos_365_x264__1.mp4', 'Normal_Videos_059_x264__4.mp4', 'Normal_Videos_042_x264__9.mp4', 'Normal_Videos_944_x264__1.mp4', 'Normal_Videos_175_x264__9.mp4', 'Normal_Videos_067_x264__3.mp4', 'Normal_Videos_886_x264__4.mp4', 'Normal_Videos_914_x264__8.mp4', 'Normal_Videos_932_x264__2.mp4', 'Normal_Videos_025_x264__0.mp4', 'Normal_Videos_352_x264__1.mp4', 'Normal_Videos_248_x264__8.mp4', 'Normal_Videos_876_x264__4.mp4', 'Normal_Videos_867_x264__4.mp4', 'Normal_Videos_015_x264__8.mp4', 'Normal_Videos_312_x264__2.mp4', 'Normal_Videos_878_x264__0.mp4', 'Normal_Videos_576_x264__7.mp4', 'Normal_Videos_289_x264__0.mp4', 'Normal_Videos_943_x264__8.mp4', 'Normal_Videos_940_x264__6.mp4', 'Normal_Videos_018_x264__5.mp4', 'Normal_Videos_914_x264__3.mp4', 'Normal_Videos_867_x264__1.mp4', 'Normal_Videos_939_x264__5.mp4', 'Normal_Videos_439_x264__5.mp4', 'Normal_Videos_478_x264__4.mp4', 'Normal_Videos_310_x264__5.mp4', 'Normal_Videos_453_x264__3.mp4', 'Normal_Videos_345_x264__5.mp4', 'Normal_Videos_782_x264__2.mp4', 'Normal_Videos_717_x264__6.mp4', 'Normal_Videos_872_x264__3.mp4', 'Normal_Videos_941_x264__4.mp4', 'Normal_Videos_881_x264__1.mp4', 'Normal_Videos_352_x264__4.mp4', 'Normal_Videos_182_x264__9.mp4', 'Normal_Videos_870_x264__4.mp4', 'Normal_Videos_940_x264__8.mp4', 'Normal_Videos_831_x264__6.mp4', 'Normal_Videos_927_x264__8.mp4', 'Normal_Videos_248_x264__1.mp4', 'Normal_Videos_871_x264__3.mp4', 'Normal_Videos_905_x264__7.mp4', 'Normal_Videos_874_x264__6.mp4', 'Normal_Videos_897_x264__5.mp4', 'Normal_Videos_417_x264__6.mp4', 'Normal_Videos_478_x264__6.mp4', 'Normal_Videos_634_x264__7.mp4', 'Normal_Videos_365_x264__7.mp4', 'Normal_Videos_876_x264__7.mp4', 'Normal_Videos_899_x264__6.mp4', 'Normal_Videos_717_x264__3.mp4', 'Normal_Videos_875_x264__0.mp4', 'Normal_Videos_888_x264__6.mp4', 'Normal_Videos_902_x264__2.mp4', 'Normal_Videos_453_x264__5.mp4', 'Normal_Videos_913_x264__5.mp4', 'Normal_Videos_901_x264__1.mp4', 'Normal_Videos_019_x264__6.mp4', 'Normal_Videos_930_x264__2.mp4', 'Normal_Videos_899_x264__2.mp4', 'Normal_Videos_940_x264__7.mp4', 'Normal_Videos_168_x264__4.mp4', 'Normal_Videos_870_x264__7.mp4', 'Normal_Videos_439_x264__3.mp4', 'Normal_Videos_902_x264__0.mp4', 'Normal_Videos_224_x264__7.mp4', 'Normal_Videos_940_x264__5.mp4', 'Normal_Videos_907_x264__6.mp4', 'Normal_Videos_828_x264__6.mp4', 'Normal_Videos_872_x264__2.mp4', 'Normal_Videos_778_x264__8.mp4', 'Normal_Videos_890_x264__7.mp4', 'Normal_Videos_923_x264__3.mp4', 'Normal_Videos_656_x264__2.mp4', 'Normal_Videos_882_x264__8.mp4', 'Normal_Videos_018_x264__2.mp4', 'Normal_Videos_217_x264__9.mp4', 'Normal_Videos_944_x264__0.mp4', 'Normal_Videos_897_x264__3.mp4', 'Normal_Videos_915_x264__0.mp4', 'Normal_Videos_930_x264__4.mp4', 'Normal_Videos_758_x264__2.mp4', 'Normal_Videos_937_x264__7.mp4', 'Normal_Videos_417_x264__0.mp4', 'Normal_Videos_015_x264__1.mp4', 'Normal_Videos_882_x264__9.mp4', 'Normal_Videos_203_x264__9.mp4', 'Normal_Videos_417_x264__7.mp4', 'Normal_Videos_801_x264__2.mp4', 'Normal_Videos_722_x264__3.mp4', 'Normal_Videos_003_x264__8.mp4', 'Normal_Videos_932_x264__7.mp4', 'Normal_Videos_902_x264__3.mp4', 'Normal_Videos_453_x264__2.mp4', 'Normal_Videos_196_x264__2.mp4', 'Normal_Videos_168_x264__1.mp4', 'Normal_Videos_725_x264__3.mp4', 'Normal_Videos_782_x264__3.mp4', 'Normal_Videos_033_x264__2.mp4', 'Normal_Videos_889_x264__8.mp4', 'Normal_Videos_417_x264__8.mp4', 'Normal_Videos_938_x264__9.mp4', 'Normal_Videos_634_x264__3.mp4', 'Normal_Videos_934_x264__2.mp4', 'Normal_Videos_878_x264__7.mp4', 'Normal_Videos_289_x264__6.mp4', 'Normal_Videos_938_x264__4.mp4', 'Normal_Videos_597_x264__6.mp4', 'Normal_Videos_892_x264__0.mp4', 'Normal_Videos_289_x264__9.mp4', 'Normal_Videos_893_x264__7.mp4', 'Normal_Videos_417_x264__3.mp4', 'Normal_Videos_070_x264__1.mp4', 'Normal_Videos_018_x264__1.mp4', 'Normal_Videos_056_x264__7.mp4', 'Normal_Videos_745_x264__7.mp4', 'Normal_Videos_360_x264__3.mp4', 'Normal_Videos_911_x264__7.mp4', 'Normal_Videos_901_x264__8.mp4', 'Normal_Videos_798_x264__0.mp4', 'Normal_Videos_938_x264__8.mp4', 'Normal_Videos_938_x264__7.mp4', 'Normal_Videos_312_x264__9.mp4', 'Normal_Videos_886_x264__6.mp4', 'Normal_Videos_888_x264__3.mp4', 'Normal_Videos_603_x264__0.mp4', 'Normal_Videos_059_x264__3.mp4', 'Normal_Videos_758_x264__8.mp4', 'Normal_Videos_042_x264__1.mp4', 'Normal_Videos_063_x264__1.mp4', 'Normal_Videos_912_x264__6.mp4', 'Normal_Videos_010_x264__4.mp4', 'Normal_Videos_890_x264__1.mp4', 'Normal_Videos_745_x264__5.mp4', 'Normal_Videos_868_x264__2.mp4', 'Normal_Videos_897_x264__0.mp4', 'Normal_Videos_801_x264__0.mp4', 'Normal_Videos_006_x264__8.mp4', 'Normal_Videos_027_x264__5.mp4', 'Normal_Videos_196_x264__1.mp4', 'Normal_Videos_189_x264__9.mp4', 'Normal_Videos_944_x264__8.mp4', 'Normal_Videos_247_x264__7.mp4', 'Normal_Videos_887_x264__5.mp4', 'Normal_Videos_870_x264__1.mp4', 'Normal_Videos_063_x264__8.mp4', 'Normal_Videos_251_x264__2.mp4', 'Normal_Videos_210_x264__1.mp4', 'Normal_Videos_042_x264__5.mp4', 'Normal_Videos_911_x264__9.mp4', 'Normal_Videos_365_x264__0.mp4', 'Normal_Videos_056_x264__9.mp4', 'Normal_Videos_924_x264__6.mp4', 'Normal_Videos_909_x264__6.mp4', 'Normal_Videos_251_x264__7.mp4', 'Normal_Videos_892_x264__3.mp4', 'Normal_Videos_901_x264__7.mp4', 'Normal_Videos_900_x264__9.mp4', 'Normal_Videos_873_x264__0.mp4', 'Normal_Videos_871_x264__9.mp4', 'Normal_Videos_801_x264__9.mp4', 'Normal_Videos_621_x264__9.mp4', 'Normal_Videos_051_x264__2.mp4', 'Normal_Videos_930_x264__1.mp4', 'Normal_Videos_641_x264__2.mp4', 'Normal_Videos_056_x264__1.mp4', 'Normal_Videos_927_x264__2.mp4', 'Normal_Videos_289_x264__4.mp4', 'Normal_Videos_051_x264__0.mp4', 'Normal_Videos_034_x264__8.mp4', 'Normal_Videos_798_x264__7.mp4', 'Normal_Videos_745_x264__3.mp4', 'Normal_Videos_903_x264__0.mp4', 'Normal_Videos_927_x264__4.mp4', 'Normal_Videos_597_x264__7.mp4', 'Normal_Videos_780_x264__5.mp4', 'Normal_Videos_882_x264__7.mp4', 'Normal_Videos_248_x264__3.mp4', 'Normal_Videos_453_x264__6.mp4', 'Normal_Videos_452_x264__8.mp4', 'Normal_Videos_902_x264__8.mp4', 'Normal_Videos_872_x264__4.mp4', 'Normal_Videos_899_x264__3.mp4', 'Normal_Videos_899_x264__7.mp4', 'Normal_Videos_710_x264__3.mp4', 'Normal_Videos_006_x264__9.mp4', 'Normal_Videos_891_x264__0.mp4', 'Normal_Videos_901_x264__5.mp4', 'Normal_Videos_401_x264__8.mp4', 'Normal_Videos_704_x264__2.mp4', 'Normal_Videos_621_x264__4.mp4', 'Normal_Videos_875_x264__8.mp4', 'Normal_Videos_909_x264__4.mp4', 'Normal_Videos_904_x264__4.mp4', 'Normal_Videos_898_x264__3.mp4', 'Normal_Videos_866_x264__6.mp4', 'Normal_Videos_873_x264__7.mp4', 'Normal_Videos_915_x264__3.mp4', 'Normal_Videos_873_x264__2.mp4', 'Normal_Videos_606_x264__1.mp4', 'Normal_Videos_781_x264__0.mp4', 'Normal_Videos_019_x264__7.mp4', 'Normal_Videos_880_x264__7.mp4', 'Normal_Videos_891_x264__2.mp4', 'Normal_Videos_717_x264__7.mp4', 'Normal_Videos_289_x264__2.mp4', 'Normal_Videos_150_x264__0.mp4', 'Normal_Videos_901_x264__9.mp4', 'Normal_Videos_710_x264__1.mp4', 'Normal_Videos_878_x264__1.mp4', 'Normal_Videos_603_x264__7.mp4', 'Normal_Videos_883_x264__3.mp4', 'Normal_Videos_891_x264__5.mp4', 'Normal_Videos_129_x264__3.mp4', 'Normal_Videos_874_x264__5.mp4', 'Normal_Videos_783_x264__4.mp4', 'Normal_Videos_941_x264__0.mp4', 'Normal_Videos_246_x264__1.mp4', 'Normal_Videos_871_x264__2.mp4', 'Normal_Videos_129_x264__9.mp4', 'Normal_Videos_877_x264__6.mp4', 'Normal_Videos_932_x264__6.mp4', 'Normal_Videos_874_x264__3.mp4', 'Normal_Videos_869_x264__3.mp4', 'Normal_Videos_289_x264__8.mp4', 'Normal_Videos_913_x264__0.mp4', 'Normal_Videos_869_x264__5.mp4', 'Normal_Videos_015_x264__5.mp4', 'Normal_Videos_866_x264__2.mp4', 'Normal_Videos_019_x264__1.mp4', 'Normal_Videos_150_x264__6.mp4', 'Normal_Videos_033_x264__4.mp4', 'Normal_Videos_452_x264__0.mp4', 'Normal_Videos_908_x264__7.mp4', 'Normal_Videos_603_x264__9.mp4', 'Normal_Videos_892_x264__8.mp4', 'Normal_Videos_831_x264__1.mp4', 'Normal_Videos_904_x264__0.mp4', 'Normal_Videos_196_x264__4.mp4', 'Normal_Videos_710_x264__5.mp4', 'Normal_Videos_606_x264__6.mp4', 'Normal_Videos_100_x264__1.mp4', 'Normal_Videos_439_x264__0.mp4', 'Normal_Videos_003_x264__5.mp4', 'Normal_Videos_034_x264__6.mp4', 'Normal_Videos_033_x264__7.mp4', 'Normal_Videos_935_x264__9.mp4', 'Normal_Videos_898_x264__5.mp4', 'Normal_Videos_915_x264__5.mp4', 'Normal_Videos_868_x264__9.mp4', 'Normal_Videos_896_x264__0.mp4', 'Normal_Videos_897_x264__6.mp4', 'Normal_Videos_903_x264__5.mp4', 'Normal_Videos_175_x264__8.mp4', 'Normal_Videos_906_x264__0.mp4', 'Normal_Videos_940_x264__4.mp4', 'Normal_Videos_051_x264__5.mp4', 'Normal_Videos_929_x264__6.mp4', 'Normal_Videos_312_x264__7.mp4', 'Normal_Videos_888_x264__8.mp4', 'Normal_Videos_317_x264__7.mp4', 'Normal_Videos_063_x264__2.mp4', 'Normal_Videos_896_x264__5.mp4', 'Normal_Videos_903_x264__7.mp4', 'Normal_Videos_907_x264__4.mp4', 'Normal_Videos_059_x264__2.mp4', 'Normal_Videos_944_x264__7.mp4', 'Normal_Videos_401_x264__3.mp4', 'Normal_Videos_904_x264__1.mp4', 'Normal_Videos_042_x264__2.mp4', 'Normal_Videos_934_x264__0.mp4', 'Normal_Videos_656_x264__8.mp4', 'Normal_Videos_063_x264__6.mp4', 'Normal_Videos_875_x264__7.mp4', 'Normal_Videos_890_x264__4.mp4', 'Normal_Videos_933_x264__2.mp4', 'Normal_Videos_866_x264__8.mp4', 'Normal_Videos_778_x264__0.mp4', 'Normal_Videos_905_x264__0.mp4', 'Normal_Videos_210_x264__8.mp4', 'Normal_Videos_686_x264__7.mp4', 'Normal_Videos_877_x264__4.mp4', 'Normal_Videos_912_x264__4.mp4', 'Normal_Videos_781_x264__3.mp4', 'Normal_Videos_868_x264__1.mp4', 'Normal_Videos_831_x264__4.mp4', 'Normal_Videos_129_x264__7.mp4', 'Normal_Videos_939_x264__9.mp4', 'Normal_Videos_828_x264__4.mp4', 'Normal_Videos_686_x264__1.mp4', 'Normal_Videos_034_x264__4.mp4', 'Normal_Videos_717_x264__5.mp4', 'Normal_Videos_056_x264__4.mp4', 'Normal_Videos_702_x264__1.mp4', 'Normal_Videos_941_x264__1.mp4', 'Normal_Videos_758_x264__5.mp4', 'Normal_Videos_027_x264__6.mp4', 'Normal_Videos_937_x264__8.mp4', 'Normal_Videos_717_x264__9.mp4', 'Normal_Videos_801_x264__6.mp4', 'Normal_Videos_780_x264__4.mp4', 'Normal_Videos_360_x264__1.mp4', 'Normal_Videos_051_x264__9.mp4', 'Normal_Videos_217_x264__3.mp4', 'Normal_Videos_931_x264__5.mp4', 'Normal_Videos_932_x264__0.mp4', 'Normal_Videos_904_x264__6.mp4', 'Normal_Videos_905_x264__1.mp4', 'Normal_Videos_893_x264__0.mp4', 'Normal_Videos_365_x264__3.mp4', 'Normal_Videos_887_x264__3.mp4', 'Normal_Videos_246_x264__5.mp4', 'Normal_Videos_312_x264__4.mp4', 'Normal_Videos_939_x264__3.mp4', 'Normal_Videos_892_x264__6.mp4', 'Normal_Videos_003_x264__0.mp4', 'Normal_Videos_317_x264__2.mp4', 'Normal_Videos_898_x264__1.mp4', 'Normal_Videos_905_x264__2.mp4', 'Normal_Videos_887_x264__7.mp4', 'Normal_Videos_634_x264__1.mp4', 'Normal_Videos_050_x264__5.mp4', 'Normal_Videos_641_x264__4.mp4', 'Normal_Videos_129_x264__2.mp4', 'Normal_Videos_798_x264__9.mp4', 'Normal_Videos_224_x264__5.mp4', 'Normal_Videos_934_x264__6.mp4', 'Normal_Videos_913_x264__8.mp4', 'Normal_Videos_780_x264__2.mp4', 'Normal_Videos_067_x264__5.mp4', 'Normal_Videos_899_x264__9.mp4', 'Normal_Videos_778_x264__9.mp4', 'Normal_Videos_866_x264__1.mp4', 'Normal_Videos_912_x264__3.mp4', 'Normal_Videos_100_x264__5.mp4', 'Normal_Videos_024_x264__2.mp4', 'Normal_Videos_175_x264__1.mp4', 'Normal_Videos_939_x264__2.mp4', 'Normal_Videos_686_x264__0.mp4', 'Normal_Videos_067_x264__9.mp4', 'Normal_Videos_903_x264__3.mp4', 'Normal_Videos_725_x264__7.mp4', 'Normal_Videos_914_x264__5.mp4', 'Normal_Videos_926_x264__7.mp4', 'Normal_Videos_892_x264__7.mp4', 'Normal_Videos_923_x264__6.mp4', 'Normal_Videos_345_x264__7.mp4', 'Normal_Videos_401_x264__6.mp4', 'Normal_Videos_401_x264__2.mp4', 'Normal_Videos_289_x264__7.mp4', 'Normal_Videos_880_x264__4.mp4', 'Normal_Videos_909_x264__7.mp4', 'Normal_Videos_603_x264__8.mp4', 'Normal_Videos_885_x264__4.mp4', 'Normal_Videos_896_x264__2.mp4', 'Normal_Videos_926_x264__6.mp4', 'Normal_Videos_782_x264__6.mp4', 'Normal_Videos_175_x264__5.mp4', 'Normal_Videos_925_x264__6.mp4', 'Normal_Videos_900_x264__3.mp4', 'Normal_Videos_745_x264__6.mp4', 'Normal_Videos_901_x264__3.mp4', 'Normal_Videos_915_x264__4.mp4', 'Normal_Videos_898_x264__6.mp4', 'Normal_Videos_015_x264__6.mp4', 'Normal_Videos_063_x264__0.mp4', 'Normal_Videos_401_x264__9.mp4', 'Normal_Videos_745_x264__9.mp4', 'Normal_Videos_439_x264__9.mp4', 'Normal_Videos_210_x264__2.mp4', 'Normal_Videos_940_x264__2.mp4', 'Normal_Videos_930_x264__7.mp4', 'Normal_Videos_641_x264__6.mp4', 'Normal_Videos_603_x264__3.mp4', 'Normal_Videos_360_x264__8.mp4', 'Normal_Videos_606_x264__2.mp4', 'Normal_Videos_904_x264__8.mp4', 'Normal_Videos_452_x264__7.mp4', 'Normal_Videos_869_x264__9.mp4', 'Normal_Videos_906_x264__4.mp4', 'Normal_Videos_889_x264__5.mp4', 'Normal_Videos_906_x264__1.mp4', 'Normal_Videos_722_x264__5.mp4', 'Normal_Videos_070_x264__7.mp4', 'Normal_Videos_710_x264__0.mp4', 'Normal_Videos_935_x264__2.mp4', 'Normal_Videos_801_x264__1.mp4', 'Normal_Videos_881_x264__4.mp4', 'Normal_Videos_927_x264__1.mp4', 'Normal_Videos_911_x264__1.mp4', 'Normal_Videos_912_x264__9.mp4', 'Normal_Videos_898_x264__9.mp4', 'Normal_Videos_621_x264__5.mp4', 'Normal_Videos_883_x264__9.mp4', 'Normal_Videos_019_x264__9.mp4', 'Normal_Videos_880_x264__6.mp4', 'Normal_Videos_894_x264__6.mp4', 'Normal_Videos_934_x264__4.mp4', 'Normal_Videos_597_x264__5.mp4', 'Normal_Videos_888_x264__1.mp4', 'Normal_Videos_883_x264__6.mp4', 'Normal_Videos_877_x264__0.mp4', 'Normal_Videos_891_x264__4.mp4', 'Normal_Videos_781_x264__6.mp4', 'Normal_Videos_003_x264__9.mp4', 'Normal_Videos_929_x264__8.mp4', 'Normal_Videos_168_x264__0.mp4', 'Normal_Videos_725_x264__0.mp4', 'Normal_Videos_018_x264__6.mp4', 'Normal_Videos_927_x264__6.mp4', 'Normal_Videos_897_x264__2.mp4', 'Normal_Videos_883_x264__8.mp4', 'Normal_Videos_907_x264__3.mp4', 'Normal_Videos_203_x264__2.mp4', 'Normal_Videos_898_x264__4.mp4', 'Normal_Videos_033_x264__0.mp4', 'Normal_Videos_866_x264__0.mp4', 'Normal_Videos_869_x264__8.mp4', 'Normal_Videos_217_x264__2.mp4', 'Normal_Videos_905_x264__3.mp4', 'Normal_Videos_883_x264__1.mp4', 'Normal_Videos_923_x264__8.mp4', 'Normal_Videos_936_x264__7.mp4', 'Normal_Videos_059_x264__6.mp4', 'Normal_Videos_934_x264__8.mp4', 'Normal_Videos_175_x264__2.mp4', 'Normal_Videos_890_x264__5.mp4', 'Normal_Videos_931_x264__2.mp4', 'Normal_Videos_150_x264__5.mp4', 'Normal_Videos_014_x264__3.mp4', 'Normal_Videos_710_x264__9.mp4', 'Normal_Videos_880_x264__5.mp4', 'Normal_Videos_882_x264__3.mp4', 'Normal_Videos_196_x264__3.mp4', 'Normal_Videos_888_x264__2.mp4', 'Normal_Videos_027_x264__3.mp4', 'Normal_Videos_059_x264__7.mp4', 'Normal_Videos_911_x264__3.mp4', 'Normal_Videos_891_x264__9.mp4', 'Normal_Videos_597_x264__3.mp4', 'Normal_Videos_831_x264__9.mp4', 'Normal_Videos_417_x264__5.mp4', 'Normal_Videos_597_x264__1.mp4', 'Normal_Videos_870_x264__6.mp4', 'Normal_Videos_634_x264__0.mp4', 'Normal_Videos_780_x264__0.mp4', 'Normal_Videos_048_x264__3.mp4', 'Normal_Videos_051_x264__3.mp4', 'Normal_Videos_656_x264__7.mp4', 'Normal_Videos_870_x264__0.mp4', 'Normal_Videos_067_x264__1.mp4', 'Normal_Videos_936_x264__4.mp4', 'Normal_Videos_780_x264__6.mp4', 'Normal_Videos_725_x264__6.mp4', 'Normal_Videos_248_x264__5.mp4', 'Normal_Videos_907_x264__1.mp4', 'Normal_Videos_722_x264__4.mp4', 'Normal_Videos_100_x264__7.mp4', 'Normal_Videos_050_x264__3.mp4', 'Normal_Videos_936_x264__1.mp4', 'Normal_Videos_345_x264__1.mp4', 'Normal_Videos_878_x264__8.mp4', 'Normal_Videos_006_x264__7.mp4', 'Normal_Videos_063_x264__5.mp4', 'Normal_Videos_042_x264__4.mp4', 'Normal_Videos_872_x264__7.mp4', 'Normal_Videos_025_x264__8.mp4', 'Normal_Videos_702_x264__7.mp4', 'Normal_Videos_831_x264__7.mp4', 'Normal_Videos_048_x264__4.mp4', 'Normal_Videos_025_x264__4.mp4', 'Normal_Videos_878_x264__4.mp4', 'Normal_Videos_182_x264__5.mp4', 'Normal_Videos_041_x264__4.mp4', 'Normal_Videos_781_x264__7.mp4', 'Normal_Videos_656_x264__5.mp4', 'Normal_Videos_933_x264__7.mp4', 'Normal_Videos_915_x264__1.mp4', 'Normal_Videos_868_x264__3.mp4', 'Normal_Videos_910_x264__5.mp4', 'Normal_Videos_782_x264__8.mp4', 'Normal_Videos_897_x264__8.mp4', 'Normal_Videos_935_x264__4.mp4', 'Normal_Videos_417_x264__4.mp4', 'Normal_Videos_725_x264__1.mp4', 'Normal_Videos_801_x264__3.mp4', 'Normal_Videos_933_x264__6.mp4', 'Normal_Videos_606_x264__4.mp4', 'Normal_Videos_010_x264__6.mp4', 'Normal_Videos_907_x264__7.mp4', 'Normal_Videos_203_x264__5.mp4', 'Normal_Videos_310_x264__0.mp4', 'Normal_Videos_780_x264__7.mp4', 'Normal_Videos_866_x264__9.mp4', 'Normal_Videos_872_x264__9.mp4', 'Normal_Videos_871_x264__1.mp4', 'Normal_Videos_606_x264__5.mp4', 'Normal_Videos_801_x264__8.mp4', 'Normal_Videos_901_x264__2.mp4', 'Normal_Videos_717_x264__8.mp4', 'Normal_Videos_914_x264__9.mp4', 'Normal_Videos_798_x264__4.mp4', 'Normal_Videos_876_x264__8.mp4', 'Normal_Videos_937_x264__4.mp4', 'Normal_Videos_867_x264__0.mp4', 'Normal_Videos_696_x264__9.mp4', 'Normal_Videos_247_x264__2.mp4', 'Normal_Videos_900_x264__8.mp4', 'Normal_Videos_310_x264__2.mp4', 'Normal_Videos_913_x264__1.mp4', 'Normal_Videos_880_x264__8.mp4', 'Normal_Videos_722_x264__1.mp4', 'Normal_Videos_203_x264__3.mp4', 'Normal_Videos_935_x264__5.mp4', 'Normal_Videos_913_x264__2.mp4', 'Normal_Videos_880_x264__3.mp4', 'Normal_Videos_870_x264__5.mp4', 'Normal_Videos_783_x264__3.mp4', 'Normal_Videos_656_x264__0.mp4', 'Normal_Videos_048_x264__1.mp4', 'Normal_Videos_885_x264__9.mp4', 'Normal_Videos_875_x264__9.mp4', 'Normal_Videos_888_x264__4.mp4', 'Normal_Videos_913_x264__9.mp4', 'Normal_Videos_175_x264__7.mp4', 'Normal_Videos_908_x264__2.mp4', 'Normal_Videos_927_x264__5.mp4', 'Normal_Videos_906_x264__8.mp4', 'Normal_Videos_042_x264__6.mp4', 'Normal_Videos_603_x264__5.mp4', 'Normal_Videos_914_x264__6.mp4', 'Normal_Videos_944_x264__3.mp4', 'Normal_Videos_024_x264__8.mp4', 'Normal_Videos_048_x264__7.mp4', 'Normal_Videos_710_x264__4.mp4', 'Normal_Videos_895_x264__6.mp4', 'Normal_Videos_867_x264__7.mp4', 'Normal_Videos_168_x264__7.mp4', 'Normal_Videos_063_x264__3.mp4', 'Normal_Videos_877_x264__5.mp4', 'Normal_Videos_886_x264__3.mp4', 'Normal_Videos_006_x264__5.mp4', 'Normal_Videos_246_x264__7.mp4', 'Normal_Videos_930_x264__9.mp4', 'Normal_Videos_312_x264__6.mp4', 'Normal_Videos_203_x264__8.mp4', 'Normal_Videos_881_x264__8.mp4', 'Normal_Videos_908_x264__1.mp4', 'Normal_Videos_453_x264__0.mp4', 'Normal_Videos_878_x264__2.mp4', 'Normal_Videos_924_x264__3.mp4', 'Normal_Videos_780_x264__9.mp4', 'Normal_Videos_224_x264__9.mp4', 'Normal_Videos_866_x264__4.mp4', 'Normal_Videos_217_x264__8.mp4', 'Normal_Videos_889_x264__2.mp4', 'Normal_Videos_717_x264__1.mp4', 'Normal_Videos_936_x264__5.mp4', 'Normal_Videos_869_x264__0.mp4', 'Normal_Videos_576_x264__8.mp4', 'Normal_Videos_801_x264__4.mp4', 'Normal_Videos_923_x264__7.mp4', 'Normal_Videos_929_x264__2.mp4', 'Normal_Videos_924_x264__0.mp4', 'Normal_Videos_352_x264__9.mp4', 'Normal_Videos_478_x264__9.mp4', 'Normal_Videos_934_x264__3.mp4', 'Normal_Videos_312_x264__8.mp4', 'Normal_Videos_778_x264__7.mp4', 'Normal_Videos_033_x264__6.mp4', 'Normal_Videos_936_x264__9.mp4', 'Normal_Videos_899_x264__8.mp4', 'Normal_Videos_874_x264__9.mp4', 'Normal_Videos_003_x264__3.mp4', 'Normal_Videos_606_x264__8.mp4', 'Normal_Videos_745_x264__8.mp4', 'Normal_Videos_883_x264__4.mp4', 'Normal_Videos_944_x264__4.mp4', 'Normal_Videos_722_x264__9.mp4', 'Normal_Videos_885_x264__2.mp4', 'Normal_Videos_905_x264__5.mp4', 'Normal_Videos_875_x264__1.mp4', 'Normal_Videos_885_x264__8.mp4', 'Normal_Videos_452_x264__3.mp4', 'Normal_Videos_246_x264__6.mp4', 'Normal_Videos_876_x264__6.mp4', 'Normal_Videos_902_x264__5.mp4', 'Normal_Videos_907_x264__0.mp4', 'Normal_Videos_924_x264__5.mp4', 'Normal_Videos_312_x264__3.mp4', 'Normal_Videos_100_x264__8.mp4', 'Normal_Videos_928_x264__2.mp4', 'Normal_Videos_024_x264__6.mp4', 'Normal_Videos_895_x264__9.mp4', 'Normal_Videos_360_x264__7.mp4', 'Normal_Videos_935_x264__1.mp4', 'Normal_Videos_453_x264__4.mp4', 'Normal_Videos_010_x264__1.mp4', 'Normal_Videos_868_x264__5.mp4', 'Normal_Videos_033_x264__8.mp4', 'Normal_Videos_050_x264__7.mp4', 'Normal_Videos_875_x264__3.mp4', 'Normal_Videos_027_x264__1.mp4', 'Normal_Videos_908_x264__4.mp4', 'Normal_Videos_886_x264__5.mp4', 'Normal_Videos_417_x264__2.mp4', 'Normal_Videos_875_x264__6.mp4', 'Normal_Videos_189_x264__6.mp4', 'Normal_Videos_923_x264__4.mp4', 'Normal_Videos_936_x264__2.mp4', 'Normal_Videos_909_x264__2.mp4', 'Normal_Videos_003_x264__4.mp4', 'Normal_Videos_034_x264__7.mp4', 'Normal_Videos_884_x264__1.mp4', 'Normal_Videos_931_x264__9.mp4', 'Normal_Videos_914_x264__7.mp4', 'Normal_Videos_903_x264__1.mp4', 'Normal_Videos_939_x264__4.mp4', 'Normal_Videos_801_x264__5.mp4', 'Normal_Videos_900_x264__0.mp4', 'Normal_Videos_597_x264__2.mp4', 'Normal_Videos_656_x264__9.mp4', 'Normal_Videos_880_x264__2.mp4', 'Normal_Videos_014_x264__4.mp4', 'Normal_Videos_897_x264__1.mp4', 'Normal_Videos_129_x264__5.mp4', 'Normal_Videos_880_x264__0.mp4', 'Normal_Videos_889_x264__9.mp4', 'Normal_Videos_894_x264__0.mp4', 'Normal_Videos_641_x264__8.mp4', 'Normal_Videos_877_x264__3.mp4', 'Normal_Videos_877_x264__8.mp4', 'Normal_Videos_901_x264__4.mp4', 'Normal_Videos_051_x264__1.mp4', 'Normal_Videos_937_x264__6.mp4', 'Normal_Videos_696_x264__3.mp4', 'Normal_Videos_310_x264__7.mp4', 'Normal_Videos_704_x264__3.mp4', 'Normal_Videos_891_x264__8.mp4', 'Normal_Videos_452_x264__4.mp4', 'Normal_Videos_042_x264__7.mp4', 'Normal_Videos_943_x264__7.mp4', 'Normal_Videos_621_x264__0.mp4', 'Normal_Videos_033_x264__3.mp4', 'Normal_Videos_621_x264__8.mp4', 'Normal_Videos_877_x264__2.mp4', 'Normal_Videos_935_x264__0.mp4', 'Normal_Videos_828_x264__2.mp4', 'Normal_Videos_717_x264__2.mp4', 'Normal_Videos_879_x264__9.mp4', 'Normal_Videos_015_x264__7.mp4', 'Normal_Videos_189_x264__7.mp4', 'Normal_Videos_831_x264__5.mp4', 'Normal_Videos_931_x264__0.mp4', 'Normal_Videos_898_x264__8.mp4', 'Normal_Videos_597_x264__9.mp4', 'Normal_Videos_702_x264__9.mp4', 'Normal_Videos_150_x264__8.mp4', 'Normal_Videos_940_x264__9.mp4', 'Normal_Videos_203_x264__7.mp4', 'Normal_Videos_312_x264__0.mp4', 'Normal_Videos_930_x264__0.mp4', 'Normal_Videos_941_x264__3.mp4', 'Normal_Videos_933_x264__1.mp4', 'Normal_Videos_882_x264__6.mp4', 'Normal_Videos_067_x264__4.mp4', 'Normal_Videos_702_x264__6.mp4', 'Normal_Videos_870_x264__2.mp4', 'Normal_Videos_722_x264__8.mp4', 'Normal_Videos_048_x264__0.mp4', 'Normal_Videos_063_x264__9.mp4', 'Normal_Videos_885_x264__5.mp4', 'Normal_Videos_894_x264__8.mp4', 'Normal_Videos_868_x264__0.mp4', 'Normal_Videos_041_x264__9.mp4', 'Normal_Videos_925_x264__3.mp4', 'Normal_Videos_168_x264__9.mp4', 'Normal_Videos_889_x264__1.mp4', 'Normal_Videos_906_x264__6.mp4', 'Normal_Videos_027_x264__7.mp4', 'Normal_Videos_885_x264__1.mp4', 'Normal_Videos_831_x264__8.mp4', 'Normal_Videos_365_x264__6.mp4', 'Normal_Videos_027_x264__0.mp4', 'Normal_Videos_224_x264__6.mp4', 'Normal_Videos_876_x264__9.mp4', 'Normal_Videos_453_x264__9.mp4', 'Normal_Videos_360_x264__2.mp4', 'Normal_Videos_936_x264__6.mp4', 'Normal_Videos_175_x264__0.mp4', 'Normal_Videos_686_x264__6.mp4', 'Normal_Videos_704_x264__0.mp4', 'Normal_Videos_745_x264__4.mp4', 'Normal_Videos_887_x264__2.mp4', 'Normal_Videos_901_x264__6.mp4', 'Normal_Videos_048_x264__6.mp4', 'Normal_Videos_702_x264__8.mp4', 'Normal_Videos_401_x264__1.mp4', 'Normal_Videos_910_x264__7.mp4', 'Normal_Videos_924_x264__7.mp4', 'Normal_Videos_923_x264__2.mp4', 'Normal_Videos_224_x264__0.mp4', 'Normal_Videos_003_x264__6.mp4', 'Normal_Videos_882_x264__0.mp4', 'Normal_Videos_941_x264__9.mp4', 'Normal_Videos_725_x264__9.mp4', 'Normal_Videos_896_x264__8.mp4', 'Normal_Videos_129_x264__0.mp4', 'Normal_Videos_034_x264__5.mp4', 'Normal_Videos_893_x264__4.mp4', 'Normal_Videos_453_x264__7.mp4', 'Normal_Videos_034_x264__2.mp4', 'Normal_Videos_015_x264__3.mp4', 'Normal_Videos_317_x264__4.mp4', 'Normal_Videos_024_x264__5.mp4', 'Normal_Videos_889_x264__4.mp4', 'Normal_Videos_896_x264__4.mp4', 'Normal_Videos_150_x264__3.mp4', 'Normal_Videos_019_x264__5.mp4', 'Normal_Videos_870_x264__8.mp4', 'Normal_Videos_050_x264__8.mp4', 'Normal_Videos_895_x264__7.mp4', 'Normal_Videos_893_x264__6.mp4', 'Normal_Videos_911_x264__4.mp4', 'Normal_Videos_891_x264__7.mp4', 'Normal_Videos_019_x264__2.mp4', 'Normal_Videos_247_x264__3.mp4', 'Normal_Videos_634_x264__4.mp4', 'Normal_Videos_289_x264__1.mp4', 'Normal_Videos_782_x264__4.mp4', 'Normal_Videos_932_x264__9.mp4', 'Normal_Videos_941_x264__2.mp4', 'Normal_Videos_870_x264__9.mp4', 'Normal_Videos_940_x264__3.mp4', 'Normal_Videos_944_x264__6.mp4', 'Normal_Videos_932_x264__4.mp4', 'Normal_Videos_928_x264__6.mp4', 'Normal_Videos_943_x264__5.mp4', 'Normal_Videos_702_x264__3.mp4', 'Normal_Videos_439_x264__4.mp4', 'Normal_Videos_100_x264__4.mp4', 'Normal_Videos_866_x264__7.mp4', 'Normal_Videos_576_x264__5.mp4', 'Normal_Videos_758_x264__3.mp4', 'Normal_Videos_925_x264__2.mp4', 'Normal_Videos_010_x264__3.mp4', 'Normal_Videos_894_x264__9.mp4', 'Normal_Videos_203_x264__0.mp4', 'Normal_Videos_881_x264__7.mp4', 'Normal_Videos_224_x264__3.mp4', 'Normal_Videos_828_x264__8.mp4', 'Normal_Videos_828_x264__1.mp4', 'Normal_Videos_931_x264__7.mp4', 'Normal_Videos_871_x264__7.mp4', 'Normal_Videos_940_x264__1.mp4', 'Normal_Videos_686_x264__5.mp4', 'Normal_Videos_939_x264__0.mp4', 'Normal_Videos_289_x264__3.mp4', 'Normal_Videos_926_x264__9.mp4', 'Normal_Videos_798_x264__5.mp4', 'Normal_Videos_782_x264__1.mp4', 'Normal_Videos_936_x264__0.mp4', 'Normal_Videos_033_x264__5.mp4', 'Normal_Videos_702_x264__0.mp4', 'Normal_Videos_634_x264__5.mp4', 'Normal_Videos_910_x264__6.mp4', 'Normal_Videos_070_x264__6.mp4', 'Normal_Videos_401_x264__5.mp4', 'Normal_Videos_365_x264__8.mp4', 'Normal_Videos_576_x264__3.mp4', 'Normal_Videos_875_x264__5.mp4', 'Normal_Videos_909_x264__0.mp4', 'Normal_Videos_317_x264__9.mp4', 'Normal_Videos_938_x264__2.mp4', 'Normal_Videos_873_x264__3.mp4', 'Normal_Videos_576_x264__2.mp4', 'Normal_Videos_025_x264__7.mp4', 'Normal_Videos_056_x264__3.mp4', 'Normal_Videos_783_x264__0.mp4', 'Normal_Videos_882_x264__5.mp4', 'Normal_Videos_939_x264__7.mp4', 'Normal_Videos_014_x264__6.mp4', 'Normal_Videos_937_x264__9.mp4', 'Normal_Videos_067_x264__8.mp4', 'Normal_Videos_224_x264__1.mp4', 'Normal_Videos_890_x264__3.mp4', 'Normal_Videos_175_x264__6.mp4', 'Normal_Videos_603_x264__1.mp4', 'Normal_Videos_915_x264__6.mp4', 'Normal_Videos_019_x264__8.mp4', 'Normal_Videos_941_x264__7.mp4', 'Normal_Videos_938_x264__3.mp4', 'Normal_Videos_317_x264__5.mp4', 'Normal_Videos_439_x264__6.mp4', 'Normal_Videos_893_x264__9.mp4', 'Normal_Videos_880_x264__1.mp4', 'Normal_Videos_248_x264__2.mp4', 'Normal_Videos_905_x264__9.mp4', 'Normal_Videos_912_x264__2.mp4', 'Normal_Videos_928_x264__7.mp4', 'Normal_Videos_937_x264__1.mp4', 'Normal_Videos_877_x264__9.mp4', 'Normal_Videos_924_x264__4.mp4', 'Normal_Videos_704_x264__9.mp4', 'Normal_Videos_935_x264__6.mp4', 'Normal_Videos_907_x264__8.mp4', 'Normal_Videos_928_x264__4.mp4', 'Normal_Videos_876_x264__1.mp4', 'Normal_Videos_924_x264__2.mp4', 'Normal_Videos_894_x264__5.mp4', 'Normal_Videos_010_x264__5.mp4', 'Normal_Videos_289_x264__5.mp4', 'Normal_Videos_051_x264__7.mp4', 'Normal_Videos_871_x264__8.mp4', 'Normal_Videos_911_x264__5.mp4', 'Normal_Videos_903_x264__9.mp4', 'Normal_Videos_217_x264__1.mp4', 'Normal_Videos_908_x264__0.mp4', 'Normal_Videos_885_x264__0.mp4', 'Normal_Videos_758_x264__6.mp4', 'Normal_Videos_717_x264__0.mp4', 'Normal_Videos_915_x264__8.mp4', 'Normal_Videos_882_x264__1.mp4', 'Normal_Videos_251_x264__0.mp4', 'Normal_Videos_656_x264__3.mp4', 'Normal_Videos_887_x264__0.mp4', 'Normal_Videos_129_x264__1.mp4', 'Normal_Videos_317_x264__1.mp4', 'Normal_Videos_892_x264__9.mp4', 'Normal_Videos_783_x264__6.mp4', 'Normal_Videos_150_x264__9.mp4', 'Normal_Videos_182_x264__6.mp4', 'Normal_Videos_928_x264__5.mp4', 'Normal_Videos_656_x264__6.mp4', 'Normal_Videos_722_x264__7.mp4', 'Normal_Videos_896_x264__3.mp4', 'Normal_Videos_923_x264__0.mp4', 'Normal_Videos_925_x264__7.mp4', 'Normal_Videos_910_x264__8.mp4', 'Normal_Videos_941_x264__5.mp4', 'Normal_Videos_934_x264__5.mp4', 'Normal_Videos_059_x264__8.mp4', 'Normal_Videos_725_x264__8.mp4', 'Normal_Videos_781_x264__1.mp4', 'Normal_Videos_894_x264__7.mp4', 'Normal_Videos_050_x264__6.mp4', 'Normal_Videos_926_x264__1.mp4', 'Normal_Videos_900_x264__7.mp4', 'Normal_Videos_019_x264__0.mp4', 'Normal_Videos_884_x264__9.mp4', 'Normal_Videos_722_x264__6.mp4', 'Normal_Videos_879_x264__1.mp4', 'Normal_Videos_251_x264__3.mp4', 'Normal_Videos_702_x264__5.mp4', 'Normal_Videos_888_x264__0.mp4', 'Normal_Videos_913_x264__4.mp4', 'Normal_Videos_345_x264__4.mp4', 'Normal_Videos_778_x264__4.mp4', 'Normal_Videos_041_x264__0.mp4', 'Normal_Videos_210_x264__3.mp4', 'Normal_Videos_934_x264__9.mp4', 'Normal_Videos_875_x264__4.mp4', 'Normal_Videos_931_x264__4.mp4', 'Normal_Videos_782_x264__7.mp4', 'Normal_Videos_928_x264__8.mp4', 'Normal_Videos_935_x264__7.mp4', 'Normal_Videos_885_x264__7.mp4', 'Normal_Videos_903_x264__4.mp4', 'Normal_Videos_899_x264__1.mp4', 'Normal_Videos_912_x264__0.mp4', 'Normal_Videos_933_x264__8.mp4', 'Normal_Videos_873_x264__4.mp4', 'Normal_Videos_034_x264__9.mp4', 'Normal_Videos_048_x264__2.mp4', 'Normal_Videos_780_x264__8.mp4', 'Normal_Videos_886_x264__7.mp4', 'Normal_Videos_927_x264__9.mp4', 'Normal_Videos_831_x264__3.mp4', 'Normal_Videos_924_x264__1.mp4', 'Normal_Videos_025_x264__6.mp4', 'Normal_Videos_710_x264__6.mp4', 'Normal_Videos_182_x264__3.mp4', 'Normal_Videos_168_x264__6.mp4', 'Normal_Videos_931_x264__6.mp4', 'Normal_Videos_874_x264__2.mp4', 'Normal_Videos_913_x264__6.mp4', 'Normal_Videos_937_x264__0.mp4', 'Normal_Videos_890_x264__0.mp4', 'Normal_Videos_246_x264__3.mp4', 'Normal_Videos_725_x264__2.mp4', 'Normal_Videos_904_x264__7.mp4', 'Normal_Videos_067_x264__6.mp4', 'Normal_Videos_896_x264__6.mp4', 'Normal_Videos_129_x264__6.mp4', 'Normal_Videos_189_x264__2.mp4', 'Normal_Videos_070_x264__5.mp4', 'Normal_Videos_900_x264__1.mp4', 'Normal_Videos_907_x264__2.mp4', 'Normal_Videos_042_x264__3.mp4', 'Normal_Videos_010_x264__8.mp4', 'Normal_Videos_042_x264__8.mp4', 'Normal_Videos_452_x264__6.mp4', 'Normal_Videos_478_x264__2.mp4', 'Normal_Videos_783_x264__9.mp4', 'Normal_Videos_003_x264__1.mp4', 'Normal_Videos_100_x264__3.mp4', 'Normal_Videos_352_x264__8.mp4', 'Normal_Videos_251_x264__5.mp4', 'Normal_Videos_439_x264__2.mp4', 'Normal_Videos_885_x264__6.mp4', 'Normal_Videos_597_x264__0.mp4', 'Normal_Videos_051_x264__6.mp4', 'Normal_Videos_908_x264__3.mp4', 'Normal_Videos_606_x264__0.mp4', 'Normal_Videos_900_x264__6.mp4', 'Normal_Videos_247_x264__1.mp4', 'Normal_Videos_884_x264__4.mp4', 'Normal_Videos_168_x264__2.mp4', 'Normal_Videos_024_x264__7.mp4', 'Normal_Videos_041_x264__1.mp4', 'Normal_Videos_203_x264__6.mp4', 'Normal_Videos_025_x264__3.mp4', 'Normal_Videos_189_x264__3.mp4', 'Normal_Videos_926_x264__2.mp4', 'Normal_Videos_878_x264__5.mp4', 'Normal_Videos_452_x264__1.mp4', 'Normal_Videos_010_x264__9.mp4', 'Normal_Videos_063_x264__7.mp4', 'Normal_Videos_621_x264__3.mp4', 'Normal_Videos_879_x264__7.mp4', 'Normal_Videos_710_x264__8.mp4', 'Normal_Videos_024_x264__0.mp4', 'Normal_Videos_778_x264__3.mp4', 'Normal_Videos_904_x264__9.mp4', 'Normal_Videos_352_x264__7.mp4', 'Normal_Videos_883_x264__5.mp4', 'Normal_Videos_210_x264__7.mp4', 'Normal_Videos_877_x264__7.mp4', 'Normal_Videos_027_x264__2.mp4', 'Normal_Videos_933_x264__0.mp4', 'Normal_Videos_478_x264__3.mp4', 'Normal_Videos_892_x264__2.mp4', 'Normal_Videos_781_x264__4.mp4', 'Normal_Videos_926_x264__0.mp4', 'Normal_Videos_873_x264__6.mp4', 'Normal_Videos_345_x264__8.mp4', 'Normal_Videos_217_x264__5.mp4', 'Normal_Videos_576_x264__9.mp4', 'Normal_Videos_014_x264__5.mp4', 'Normal_Videos_890_x264__2.mp4', 'Normal_Videos_932_x264__3.mp4', 'Normal_Videos_871_x264__6.mp4', 'Normal_Videos_943_x264__2.mp4', 'Normal_Videos_893_x264__1.mp4', 'Normal_Videos_345_x264__9.mp4', 'Normal_Videos_887_x264__1.mp4', 'Normal_Videos_778_x264__6.mp4', 'Normal_Videos_890_x264__9.mp4', 'Normal_Videos_034_x264__3.mp4', 'Normal_Videos_912_x264__1.mp4', 'Normal_Videos_888_x264__5.mp4', 'Normal_Videos_925_x264__9.mp4', 'Normal_Videos_914_x264__0.mp4', 'Normal_Videos_704_x264__1.mp4', 'Normal_Videos_100_x264__0.mp4', 'Normal_Videos_831_x264__0.mp4', 'Normal_Videos_828_x264__3.mp4', 'Normal_Videos_930_x264__5.mp4', 'Normal_Videos_879_x264__3.mp4', 'Normal_Videos_886_x264__0.mp4', 'Normal_Videos_401_x264__4.mp4', 'Normal_Videos_871_x264__4.mp4', 'Normal_Videos_056_x264__0.mp4', 'Normal_Videos_913_x264__3.mp4', 'Normal_Videos_019_x264__3.mp4', 'Normal_Videos_182_x264__4.mp4', 'Normal_Videos_641_x264__1.mp4', 'Normal_Videos_925_x264__1.mp4', 'Normal_Videos_889_x264__3.mp4', 'Normal_Videos_895_x264__8.mp4', 'Normal_Videos_015_x264__4.mp4', 'Normal_Videos_888_x264__7.mp4', 'Normal_Videos_704_x264__5.mp4', 'Normal_Videos_576_x264__1.mp4', 'Normal_Videos_914_x264__2.mp4', 'Normal_Videos_873_x264__8.mp4', 'Normal_Videos_050_x264__0.mp4', 'Normal_Videos_352_x264__0.mp4', 'Normal_Videos_781_x264__9.mp4', 'Normal_Videos_925_x264__4.mp4', 'Normal_Videos_317_x264__3.mp4', 'Normal_Videos_869_x264__4.mp4', 'Normal_Videos_884_x264__3.mp4', 'Normal_Videos_247_x264__9.mp4', 'Normal_Videos_603_x264__6.mp4', 'Normal_Videos_317_x264__8.mp4', 'Normal_Videos_939_x264__8.mp4', 'Normal_Videos_869_x264__6.mp4', 'Normal_Videos_717_x264__4.mp4', 'Normal_Videos_686_x264__3.mp4', 'Normal_Videos_352_x264__3.mp4', 'Normal_Videos_874_x264__1.mp4', 'Normal_Videos_937_x264__3.mp4', 'Normal_Videos_884_x264__2.mp4', 'Normal_Videos_189_x264__5.mp4', 'Normal_Videos_696_x264__1.mp4', 'Normal_Videos_025_x264__5.mp4', 'Normal_Videos_182_x264__8.mp4', 'Normal_Videos_876_x264__3.mp4', 'Normal_Videos_070_x264__2.mp4', 'Normal_Videos_900_x264__2.mp4', 'Normal_Videos_933_x264__4.mp4', 'Normal_Videos_904_x264__3.mp4', 'Normal_Videos_881_x264__2.mp4', 'Normal_Videos_866_x264__3.mp4', 'Normal_Videos_018_x264__7.mp4', 'Normal_Videos_025_x264__1.mp4', 'Normal_Videos_696_x264__0.mp4', 'Normal_Videos_003_x264__7.mp4', 'Normal_Videos_248_x264__6.mp4', 'Normal_Videos_899_x264__0.mp4', 'Normal_Videos_182_x264__0.mp4', 'Normal_Videos_783_x264__8.mp4', 'Normal_Videos_891_x264__6.mp4', 'Normal_Videos_050_x264__2.mp4', 'Normal_Videos_010_x264__0.mp4', 'Normal_Videos_910_x264__9.mp4', 'Normal_Videos_874_x264__7.mp4', 'Normal_Videos_758_x264__7.mp4', 'Normal_Videos_938_x264__6.mp4', 'Normal_Videos_906_x264__9.mp4', 'Normal_Videos_930_x264__8.mp4', 'Normal_Videos_928_x264__1.mp4', 'Normal_Videos_478_x264__7.mp4', 'Normal_Videos_312_x264__1.mp4', 'Normal_Videos_025_x264__2.mp4', 'Normal_Videos_217_x264__7.mp4', 'Normal_Videos_478_x264__0.mp4', 'Normal_Videos_360_x264__4.mp4', 'Normal_Videos_248_x264__7.mp4', 'Normal_Videos_872_x264__6.mp4', 'Normal_Videos_006_x264__4.mp4', 'Normal_Videos_224_x264__4.mp4', 'Normal_Videos_189_x264__8.mp4', 'Normal_Videos_912_x264__7.mp4', 'Normal_Videos_938_x264__1.mp4', 'Normal_Videos_100_x264__2.mp4', 'Normal_Videos_067_x264__7.mp4', 'Normal_Videos_879_x264__8.mp4', 'Normal_Videos_056_x264__2.mp4', 'Normal_Videos_641_x264__7.mp4', 'Normal_Videos_881_x264__5.mp4', 'Normal_Videos_782_x264__5.mp4', 'Normal_Videos_210_x264__4.mp4', 'Normal_Videos_310_x264__4.mp4', 'Normal_Videos_910_x264__1.mp4', 'Normal_Videos_927_x264__3.mp4', 'Normal_Videos_932_x264__8.mp4', 'Normal_Videos_881_x264__6.mp4', 'Normal_Videos_895_x264__0.mp4', 'Normal_Videos_704_x264__6.mp4', 'Normal_Videos_925_x264__8.mp4', 'Normal_Videos_892_x264__5.mp4', 'Normal_Videos_452_x264__5.mp4', 'Normal_Videos_576_x264__6.mp4', 'Normal_Videos_175_x264__3.mp4', 'Normal_Videos_603_x264__2.mp4', 'Normal_Videos_014_x264__7.mp4', 'Normal_Videos_896_x264__1.mp4', 'Normal_Videos_884_x264__6.mp4', 'Normal_Videos_881_x264__3.mp4', 'Normal_Videos_879_x264__0.mp4', 'Normal_Videos_908_x264__6.mp4', 'Normal_Videos_883_x264__7.mp4', 'Normal_Videos_439_x264__7.mp4', 'Normal_Videos_048_x264__8.mp4', 'Normal_Videos_944_x264__5.mp4', 'Normal_Videos_894_x264__2.mp4', 'Normal_Videos_884_x264__7.mp4', 'Normal_Videos_828_x264__5.mp4', 'Normal_Videos_907_x264__9.mp4', 'Normal_Videos_932_x264__5.mp4', 'Normal_Videos_867_x264__8.mp4', 'Normal_Videos_704_x264__8.mp4', 'Normal_Videos_018_x264__9.mp4', 'Normal_Videos_027_x264__4.mp4', 'Normal_Videos_900_x264__5.mp4', 'Normal_Videos_129_x264__8.mp4', 'Normal_Videos_246_x264__0.mp4', 'Normal_Videos_874_x264__4.mp4', 'Normal_Videos_048_x264__5.mp4', 'Normal_Videos_006_x264__1.mp4', 'Normal_Videos_898_x264__2.mp4', 'Normal_Videos_895_x264__5.mp4', 'Normal_Videos_056_x264__5.mp4', 'Normal_Videos_939_x264__6.mp4', 'Normal_Videos_936_x264__3.mp4', 'Normal_Videos_248_x264__9.mp4', 'Normal_Videos_879_x264__6.mp4', 'Normal_Videos_656_x264__4.mp4', 'Normal_Videos_710_x264__7.mp4', 'Normal_Videos_067_x264__0.mp4', 'Normal_Videos_317_x264__0.mp4', 'Normal_Videos_934_x264__7.mp4', 'Normal_Videos_867_x264__5.mp4', 'Normal_Videos_914_x264__1.mp4', 'Normal_Videos_041_x264__3.mp4', 'Normal_Videos_033_x264__1.mp4', 'Normal_Videos_686_x264__4.mp4', 'Normal_Videos_018_x264__8.mp4', 'Normal_Videos_887_x264__9.mp4', 'Normal_Videos_878_x264__6.mp4', 'Normal_Videos_929_x264__0.mp4', 'Normal_Videos_928_x264__3.mp4', 'Normal_Videos_251_x264__1.mp4', 'Normal_Videos_621_x264__2.mp4', 'Normal_Videos_100_x264__6.mp4', 'Normal_Videos_015_x264__2.mp4', 'Normal_Videos_893_x264__5.mp4', 'Normal_Videos_224_x264__2.mp4', 'Normal_Videos_210_x264__5.mp4', 'Normal_Videos_913_x264__7.mp4', 'Normal_Videos_018_x264__3.mp4', 'Normal_Videos_879_x264__5.mp4', 'Normal_Videos_898_x264__0.mp4', 'Normal_Videos_903_x264__8.mp4', 'Normal_Videos_246_x264__8.mp4', 'Normal_Videos_345_x264__6.mp4', 'Normal_Videos_867_x264__3.mp4', 'Normal_Videos_884_x264__8.mp4', 'Normal_Videos_885_x264__3.mp4', 'Normal_Videos_828_x264__7.mp4', 'Normal_Videos_041_x264__5.mp4', 'Normal_Videos_312_x264__5.mp4', 'Normal_Videos_003_x264__2.mp4', 'Normal_Videos_025_x264__9.mp4', 'Normal_Videos_758_x264__9.mp4', 'Normal_Videos_027_x264__8.mp4', 'Normal_Videos_606_x264__7.mp4', 'Normal_Videos_886_x264__2.mp4', 'Normal_Videos_887_x264__6.mp4', 'Normal_Videos_696_x264__4.mp4', 'Normal_Videos_896_x264__9.mp4', 'Normal_Videos_606_x264__9.mp4', 'Normal_Videos_904_x264__5.mp4', 'Normal_Videos_048_x264__9.mp4', 'Normal_Videos_189_x264__0.mp4', 'Normal_Videos_831_x264__2.mp4', 'Normal_Videos_869_x264__2.mp4', 'Normal_Videos_781_x264__5.mp4', 'Normal_Videos_868_x264__8.mp4', 'Normal_Videos_317_x264__6.mp4', 'Normal_Videos_365_x264__2.mp4', 'Normal_Videos_931_x264__1.mp4', 'Normal_Videos_251_x264__8.mp4', 'Normal_Videos_210_x264__0.mp4', 'Normal_Videos_634_x264__9.mp4', 'Normal_Videos_196_x264__5.mp4', 'Normal_Videos_872_x264__8.mp4', 'Normal_Videos_915_x264__2.mp4', 'Normal_Videos_217_x264__4.mp4', 'Normal_Videos_867_x264__6.mp4', 'Normal_Videos_904_x264__2.mp4', 'Normal_Videos_070_x264__9.mp4', 'Normal_Videos_881_x264__9.mp4', 'Normal_Videos_352_x264__5.mp4', 'Normal_Videos_943_x264__4.mp4', 'Normal_Videos_606_x264__3.mp4', 'Normal_Videos_576_x264__4.mp4', 'Normal_Videos_902_x264__1.mp4', 'Normal_Videos_781_x264__2.mp4', 'Normal_Videos_933_x264__3.mp4', 'Normal_Videos_251_x264__4.mp4', 'Normal_Videos_876_x264__0.mp4', 'Normal_Videos_891_x264__1.mp4', 'Normal_Videos_897_x264__9.mp4', 'Normal_Videos_050_x264__9.mp4', 'Normal_Videos_686_x264__9.mp4', 'Normal_Videos_923_x264__5.mp4', 'Normal_Videos_901_x264__0.mp4', 'Normal_Videos_938_x264__5.mp4', 'Normal_Videos_621_x264__1.mp4', 'Normal_Videos_878_x264__9.mp4', 'Normal_Videos_365_x264__9.mp4', 'Normal_Videos_051_x264__4.mp4', 'Normal_Videos_887_x264__4.mp4', 'Normal_Videos_203_x264__1.mp4', 'Normal_Videos_889_x264__6.mp4', 'Normal_Videos_924_x264__8.mp4', 'Normal_Videos_908_x264__5.mp4', 'Normal_Videos_883_x264__2.mp4', 'Normal_Videos_067_x264__2.mp4', 'Normal_Videos_247_x264__4.mp4', 'Normal_Videos_024_x264__3.mp4', 'Normal_Videos_944_x264__2.mp4', 'Normal_Videos_360_x264__0.mp4', 'Normal_Videos_224_x264__8.mp4', 'Normal_Videos_696_x264__2.mp4', 'Normal_Videos_943_x264__3.mp4', 'Normal_Videos_871_x264__0.mp4', 'Normal_Videos_247_x264__0.mp4', 'Normal_Videos_365_x264__4.mp4', 'Normal_Videos_310_x264__3.mp4', 'Normal_Videos_873_x264__5.mp4', 'Normal_Videos_937_x264__5.mp4', 'Normal_Videos_905_x264__6.mp4', 'Normal_Videos_248_x264__0.mp4', 'Normal_Videos_070_x264__0.mp4']\n",
      "mp4 파일 개수: 1500\n"
     ]
    }
   ],
   "source": [
    "import os\n",
    "\n",
    "mp4_files=[]\n",
    "def count_mp4_files(path):\n",
    "  \"\"\"\n",
    "  주어진 경로의 하위 파일들을 전부 검사해서 mp4 파일 개수를 센다.\n",
    "\n",
    "  Args:\n",
    "    path: 하위 파일들을 검사할 경로\n",
    "\n",
    "  Returns:\n",
    "    mp4 파일 개수\n",
    "  \"\"\"\n",
    "\n",
    "  mp4_count = 0\n",
    "  for root, dirs, files in os.walk(path):\n",
    "    for file in files:\n",
    "      if file.endswith(\".mp4\"):\n",
    "        mp4_count += 1\n",
    "        mp4_files.append(file)\n",
    "  return mp4_count\n",
    "\n",
    "rootdir= \"UCF_Crimes\"\n",
    "\n",
    "rootdir_crop= \"UCF_Crimes_10crop\"\n",
    "# 예시\n",
    "path = \"UCF_Crimes/Videos/Testing_Normal_Videos_Anomaly/\"\n",
    "new_path = \"UCF_Crimes_10crop/Videos/Testing_Normal_Videos_Anomaly/\"\n",
    "mp4_count = count_mp4_files(new_path)\n",
    "print(len(mp4_files))\n",
    "print(mp4_files)\n",
    "print(f\"mp4 파일 개수: {mp4_count}\")\n"
   ]
  },
  {
   "cell_type": "code",
   "execution_count": 31,
   "metadata": {},
   "outputs": [],
   "source": [
    "# 파일 이름이 담긴 리스트\n",
    "\n",
    "# 파일 이름을 나열하여 저장할 텍스트 파일 열기\n",
    "with open('file_list_test_normal.txt', 'w') as file:\n",
    "    # 리스트의 각 파일 이름을 파일에 쓰기\n",
    "    for filename in mp4_files:\n",
    "        file.write(filename + '\\n')  # 파일 이름 뒤에 줄바꿈 추가\n"
   ]
  },
  {
   "cell_type": "code",
   "execution_count": null,
   "metadata": {},
   "outputs": [],
   "source": []
  },
  {
   "cell_type": "code",
   "execution_count": 27,
   "metadata": {},
   "outputs": [
    {
     "data": {
      "text/plain": [
       "'Normal_Videos687_x264__0.mp4'"
      ]
     },
     "execution_count": 27,
     "metadata": {},
     "output_type": "execute_result"
    }
   ],
   "source": [
    "i= 'Normal_Videos687_x264.mp4'\n",
    "f\"{i[:22]}__0.{i[-3:]}\""
   ]
  },
  {
   "cell_type": "code",
   "execution_count": 29,
   "metadata": {},
   "outputs": [
    {
     "name": "stdout",
     "output_type": "stream",
     "text": [
      "320   240\n",
      "FPS: 30.0\n",
      "<class 'list'>\n",
      "<class 'numpy.ndarray'>\n",
      "(120, 160, 3)\n",
      "비디오 저장 완료: UCF_Crimes_10crop/Videos/Testing_Normal_Videos_Anomaly/Normal_Videos_907_x264__0.mp4\n",
      "비디오 저장 완료: UCF_Crimes_10crop/Videos/Testing_Normal_Videos_Anomaly/Normal_Videos_907_x264__5.mp4\n",
      "<class 'list'>\n",
      "<class 'numpy.ndarray'>\n",
      "(120, 160, 3)\n"
     ]
    },
    {
     "name": "stderr",
     "output_type": "stream",
     "text": [
      "OpenCV: FFMPEG: tag 0x44495658/'XVID' is not supported with codec id 12 and format 'mp4 / MP4 (MPEG-4 Part 14)'\n",
      "OpenCV: FFMPEG: fallback to use tag 0x7634706d/'mp4v'\n",
      "OpenCV: FFMPEG: tag 0x44495658/'XVID' is not supported with codec id 12 and format 'mp4 / MP4 (MPEG-4 Part 14)'\n",
      "OpenCV: FFMPEG: fallback to use tag 0x7634706d/'mp4v'\n",
      "OpenCV: FFMPEG: tag 0x44495658/'XVID' is not supported with codec id 12 and format 'mp4 / MP4 (MPEG-4 Part 14)'\n",
      "OpenCV: FFMPEG: fallback to use tag 0x7634706d/'mp4v'\n",
      "OpenCV: FFMPEG: tag 0x44495658/'XVID' is not supported with codec id 12 and format 'mp4 / MP4 (MPEG-4 Part 14)'\n",
      "OpenCV: FFMPEG: fallback to use tag 0x7634706d/'mp4v'\n"
     ]
    },
    {
     "name": "stdout",
     "output_type": "stream",
     "text": [
      "비디오 저장 완료: UCF_Crimes_10crop/Videos/Testing_Normal_Videos_Anomaly/Normal_Videos_907_x264__1.mp4\n",
      "비디오 저장 완료: UCF_Crimes_10crop/Videos/Testing_Normal_Videos_Anomaly/Normal_Videos_907_x264__6.mp4\n",
      "<class 'list'>\n",
      "<class 'numpy.ndarray'>\n",
      "(120, 160, 3)\n",
      "비디오 저장 완료: UCF_Crimes_10crop/Videos/Testing_Normal_Videos_Anomaly/Normal_Videos_907_x264__2.mp4\n",
      "비디오 저장 완료: UCF_Crimes_10crop/Videos/Testing_Normal_Videos_Anomaly/Normal_Videos_907_x264__7.mp4\n",
      "<class 'list'>\n",
      "<class 'numpy.ndarray'>\n",
      "(120, 160, 3)\n"
     ]
    },
    {
     "name": "stderr",
     "output_type": "stream",
     "text": [
      "OpenCV: FFMPEG: tag 0x44495658/'XVID' is not supported with codec id 12 and format 'mp4 / MP4 (MPEG-4 Part 14)'\n",
      "OpenCV: FFMPEG: fallback to use tag 0x7634706d/'mp4v'\n",
      "OpenCV: FFMPEG: tag 0x44495658/'XVID' is not supported with codec id 12 and format 'mp4 / MP4 (MPEG-4 Part 14)'\n",
      "OpenCV: FFMPEG: fallback to use tag 0x7634706d/'mp4v'\n",
      "OpenCV: FFMPEG: tag 0x44495658/'XVID' is not supported with codec id 12 and format 'mp4 / MP4 (MPEG-4 Part 14)'\n",
      "OpenCV: FFMPEG: fallback to use tag 0x7634706d/'mp4v'\n",
      "OpenCV: FFMPEG: tag 0x44495658/'XVID' is not supported with codec id 12 and format 'mp4 / MP4 (MPEG-4 Part 14)'\n",
      "OpenCV: FFMPEG: fallback to use tag 0x7634706d/'mp4v'\n"
     ]
    },
    {
     "name": "stdout",
     "output_type": "stream",
     "text": [
      "비디오 저장 완료: UCF_Crimes_10crop/Videos/Testing_Normal_Videos_Anomaly/Normal_Videos_907_x264__3.mp4\n",
      "비디오 저장 완료: UCF_Crimes_10crop/Videos/Testing_Normal_Videos_Anomaly/Normal_Videos_907_x264__8.mp4\n",
      "<class 'list'>\n",
      "<class 'numpy.ndarray'>\n",
      "(120, 160, 3)\n",
      "비디오 저장 완료: UCF_Crimes_10crop/Videos/Testing_Normal_Videos_Anomaly/Normal_Videos_907_x264__4.mp4\n",
      "비디오 저장 완료: UCF_Crimes_10crop/Videos/Testing_Normal_Videos_Anomaly/Normal_Videos_907_x264__9.mp4\n",
      "320   240\n",
      "FPS: 30.0\n"
     ]
    },
    {
     "name": "stderr",
     "output_type": "stream",
     "text": [
      "OpenCV: FFMPEG: tag 0x44495658/'XVID' is not supported with codec id 12 and format 'mp4 / MP4 (MPEG-4 Part 14)'\n",
      "OpenCV: FFMPEG: fallback to use tag 0x7634706d/'mp4v'\n",
      "OpenCV: FFMPEG: tag 0x44495658/'XVID' is not supported with codec id 12 and format 'mp4 / MP4 (MPEG-4 Part 14)'\n",
      "OpenCV: FFMPEG: fallback to use tag 0x7634706d/'mp4v'\n"
     ]
    },
    {
     "name": "stdout",
     "output_type": "stream",
     "text": [
      "<class 'list'>\n",
      "<class 'numpy.ndarray'>\n",
      "(120, 160, 3)\n",
      "비디오 저장 완료: UCF_Crimes_10crop/Videos/Testing_Normal_Videos_Anomaly/Normal_Videos_150_x264__0.mp4\n",
      "비디오 저장 완료: UCF_Crimes_10crop/Videos/Testing_Normal_Videos_Anomaly/Normal_Videos_150_x264__5.mp4\n",
      "<class 'list'>\n",
      "<class 'numpy.ndarray'>\n",
      "(120, 160, 3)\n"
     ]
    },
    {
     "name": "stderr",
     "output_type": "stream",
     "text": [
      "OpenCV: FFMPEG: tag 0x44495658/'XVID' is not supported with codec id 12 and format 'mp4 / MP4 (MPEG-4 Part 14)'\n",
      "OpenCV: FFMPEG: fallback to use tag 0x7634706d/'mp4v'\n",
      "OpenCV: FFMPEG: tag 0x44495658/'XVID' is not supported with codec id 12 and format 'mp4 / MP4 (MPEG-4 Part 14)'\n",
      "OpenCV: FFMPEG: fallback to use tag 0x7634706d/'mp4v'\n",
      "OpenCV: FFMPEG: tag 0x44495658/'XVID' is not supported with codec id 12 and format 'mp4 / MP4 (MPEG-4 Part 14)'\n",
      "OpenCV: FFMPEG: fallback to use tag 0x7634706d/'mp4v'\n",
      "OpenCV: FFMPEG: tag 0x44495658/'XVID' is not supported with codec id 12 and format 'mp4 / MP4 (MPEG-4 Part 14)'\n",
      "OpenCV: FFMPEG: fallback to use tag 0x7634706d/'mp4v'\n"
     ]
    },
    {
     "name": "stdout",
     "output_type": "stream",
     "text": [
      "비디오 저장 완료: UCF_Crimes_10crop/Videos/Testing_Normal_Videos_Anomaly/Normal_Videos_150_x264__1.mp4\n",
      "비디오 저장 완료: UCF_Crimes_10crop/Videos/Testing_Normal_Videos_Anomaly/Normal_Videos_150_x264__6.mp4\n",
      "<class 'list'>\n",
      "<class 'numpy.ndarray'>\n",
      "(120, 160, 3)\n",
      "비디오 저장 완료: UCF_Crimes_10crop/Videos/Testing_Normal_Videos_Anomaly/Normal_Videos_150_x264__2.mp4\n",
      "비디오 저장 완료: UCF_Crimes_10crop/Videos/Testing_Normal_Videos_Anomaly/Normal_Videos_150_x264__7.mp4\n",
      "<class 'list'>\n",
      "<class 'numpy.ndarray'>\n",
      "(120, 160, 3)\n"
     ]
    },
    {
     "name": "stderr",
     "output_type": "stream",
     "text": [
      "OpenCV: FFMPEG: tag 0x44495658/'XVID' is not supported with codec id 12 and format 'mp4 / MP4 (MPEG-4 Part 14)'\n",
      "OpenCV: FFMPEG: fallback to use tag 0x7634706d/'mp4v'\n",
      "OpenCV: FFMPEG: tag 0x44495658/'XVID' is not supported with codec id 12 and format 'mp4 / MP4 (MPEG-4 Part 14)'\n",
      "OpenCV: FFMPEG: fallback to use tag 0x7634706d/'mp4v'\n",
      "OpenCV: FFMPEG: tag 0x44495658/'XVID' is not supported with codec id 12 and format 'mp4 / MP4 (MPEG-4 Part 14)'\n",
      "OpenCV: FFMPEG: fallback to use tag 0x7634706d/'mp4v'\n",
      "OpenCV: FFMPEG: tag 0x44495658/'XVID' is not supported with codec id 12 and format 'mp4 / MP4 (MPEG-4 Part 14)'\n",
      "OpenCV: FFMPEG: fallback to use tag 0x7634706d/'mp4v'\n"
     ]
    },
    {
     "name": "stdout",
     "output_type": "stream",
     "text": [
      "비디오 저장 완료: UCF_Crimes_10crop/Videos/Testing_Normal_Videos_Anomaly/Normal_Videos_150_x264__3.mp4\n",
      "비디오 저장 완료: UCF_Crimes_10crop/Videos/Testing_Normal_Videos_Anomaly/Normal_Videos_150_x264__8.mp4\n",
      "<class 'list'>\n",
      "<class 'numpy.ndarray'>\n",
      "(120, 160, 3)\n",
      "비디오 저장 완료: UCF_Crimes_10crop/Videos/Testing_Normal_Videos_Anomaly/Normal_Videos_150_x264__4.mp4\n",
      "비디오 저장 완료: UCF_Crimes_10crop/Videos/Testing_Normal_Videos_Anomaly/Normal_Videos_150_x264__9.mp4\n",
      "320   240\n",
      "FPS: 30.0\n"
     ]
    },
    {
     "name": "stderr",
     "output_type": "stream",
     "text": [
      "OpenCV: FFMPEG: tag 0x44495658/'XVID' is not supported with codec id 12 and format 'mp4 / MP4 (MPEG-4 Part 14)'\n",
      "OpenCV: FFMPEG: fallback to use tag 0x7634706d/'mp4v'\n",
      "OpenCV: FFMPEG: tag 0x44495658/'XVID' is not supported with codec id 12 and format 'mp4 / MP4 (MPEG-4 Part 14)'\n",
      "OpenCV: FFMPEG: fallback to use tag 0x7634706d/'mp4v'\n"
     ]
    },
    {
     "name": "stdout",
     "output_type": "stream",
     "text": [
      "<class 'list'>\n",
      "<class 'numpy.ndarray'>\n",
      "(120, 160, 3)\n"
     ]
    },
    {
     "name": "stderr",
     "output_type": "stream",
     "text": [
      "OpenCV: FFMPEG: tag 0x44495658/'XVID' is not supported with codec id 12 and format 'mp4 / MP4 (MPEG-4 Part 14)'\n",
      "OpenCV: FFMPEG: fallback to use tag 0x7634706d/'mp4v'\n",
      "OpenCV: FFMPEG: tag 0x44495658/'XVID' is not supported with codec id 12 and format 'mp4 / MP4 (MPEG-4 Part 14)'\n",
      "OpenCV: FFMPEG: fallback to use tag 0x7634706d/'mp4v'\n"
     ]
    },
    {
     "name": "stdout",
     "output_type": "stream",
     "text": [
      "비디오 저장 완료: UCF_Crimes_10crop/Videos/Testing_Normal_Videos_Anomaly/Normal_Videos_869_x264__0.mp4\n",
      "비디오 저장 완료: UCF_Crimes_10crop/Videos/Testing_Normal_Videos_Anomaly/Normal_Videos_869_x264__5.mp4\n",
      "<class 'list'>\n",
      "<class 'numpy.ndarray'>\n",
      "(120, 160, 3)\n"
     ]
    },
    {
     "name": "stderr",
     "output_type": "stream",
     "text": [
      "OpenCV: FFMPEG: tag 0x44495658/'XVID' is not supported with codec id 12 and format 'mp4 / MP4 (MPEG-4 Part 14)'\n",
      "OpenCV: FFMPEG: fallback to use tag 0x7634706d/'mp4v'\n",
      "OpenCV: FFMPEG: tag 0x44495658/'XVID' is not supported with codec id 12 and format 'mp4 / MP4 (MPEG-4 Part 14)'\n",
      "OpenCV: FFMPEG: fallback to use tag 0x7634706d/'mp4v'\n"
     ]
    },
    {
     "name": "stdout",
     "output_type": "stream",
     "text": [
      "비디오 저장 완료: UCF_Crimes_10crop/Videos/Testing_Normal_Videos_Anomaly/Normal_Videos_869_x264__1.mp4\n",
      "비디오 저장 완료: UCF_Crimes_10crop/Videos/Testing_Normal_Videos_Anomaly/Normal_Videos_869_x264__6.mp4\n",
      "<class 'list'>\n",
      "<class 'numpy.ndarray'>\n",
      "(120, 160, 3)\n"
     ]
    },
    {
     "name": "stderr",
     "output_type": "stream",
     "text": [
      "OpenCV: FFMPEG: tag 0x44495658/'XVID' is not supported with codec id 12 and format 'mp4 / MP4 (MPEG-4 Part 14)'\n",
      "OpenCV: FFMPEG: fallback to use tag 0x7634706d/'mp4v'\n",
      "OpenCV: FFMPEG: tag 0x44495658/'XVID' is not supported with codec id 12 and format 'mp4 / MP4 (MPEG-4 Part 14)'\n",
      "OpenCV: FFMPEG: fallback to use tag 0x7634706d/'mp4v'\n"
     ]
    },
    {
     "name": "stdout",
     "output_type": "stream",
     "text": [
      "비디오 저장 완료: UCF_Crimes_10crop/Videos/Testing_Normal_Videos_Anomaly/Normal_Videos_869_x264__2.mp4\n",
      "비디오 저장 완료: UCF_Crimes_10crop/Videos/Testing_Normal_Videos_Anomaly/Normal_Videos_869_x264__7.mp4\n",
      "<class 'list'>\n",
      "<class 'numpy.ndarray'>\n",
      "(120, 160, 3)\n"
     ]
    },
    {
     "name": "stderr",
     "output_type": "stream",
     "text": [
      "OpenCV: FFMPEG: tag 0x44495658/'XVID' is not supported with codec id 12 and format 'mp4 / MP4 (MPEG-4 Part 14)'\n",
      "OpenCV: FFMPEG: fallback to use tag 0x7634706d/'mp4v'\n",
      "OpenCV: FFMPEG: tag 0x44495658/'XVID' is not supported with codec id 12 and format 'mp4 / MP4 (MPEG-4 Part 14)'\n",
      "OpenCV: FFMPEG: fallback to use tag 0x7634706d/'mp4v'\n"
     ]
    },
    {
     "name": "stdout",
     "output_type": "stream",
     "text": [
      "비디오 저장 완료: UCF_Crimes_10crop/Videos/Testing_Normal_Videos_Anomaly/Normal_Videos_869_x264__3.mp4\n",
      "비디오 저장 완료: UCF_Crimes_10crop/Videos/Testing_Normal_Videos_Anomaly/Normal_Videos_869_x264__8.mp4\n",
      "<class 'list'>\n",
      "<class 'numpy.ndarray'>\n",
      "(120, 160, 3)\n"
     ]
    },
    {
     "name": "stderr",
     "output_type": "stream",
     "text": [
      "OpenCV: FFMPEG: tag 0x44495658/'XVID' is not supported with codec id 12 and format 'mp4 / MP4 (MPEG-4 Part 14)'\n",
      "OpenCV: FFMPEG: fallback to use tag 0x7634706d/'mp4v'\n",
      "OpenCV: FFMPEG: tag 0x44495658/'XVID' is not supported with codec id 12 and format 'mp4 / MP4 (MPEG-4 Part 14)'\n",
      "OpenCV: FFMPEG: fallback to use tag 0x7634706d/'mp4v'\n"
     ]
    },
    {
     "name": "stdout",
     "output_type": "stream",
     "text": [
      "비디오 저장 완료: UCF_Crimes_10crop/Videos/Testing_Normal_Videos_Anomaly/Normal_Videos_869_x264__4.mp4\n",
      "비디오 저장 완료: UCF_Crimes_10crop/Videos/Testing_Normal_Videos_Anomaly/Normal_Videos_869_x264__9.mp4\n",
      "320   240\n",
      "FPS: 30.0\n",
      "<class 'list'>\n",
      "<class 'numpy.ndarray'>\n",
      "(120, 160, 3)\n",
      "비디오 저장 완료: UCF_Crimes_10crop/Videos/Testing_Normal_Videos_Anomaly/Normal_Videos_063_x264__0.mp4\n",
      "비디오 저장 완료: UCF_Crimes_10crop/Videos/Testing_Normal_Videos_Anomaly/Normal_Videos_063_x264__5.mp4\n",
      "<class 'list'>\n",
      "<class 'numpy.ndarray'>\n",
      "(120, 160, 3)\n",
      "비디오 저장 완료: UCF_Crimes_10crop/Videos/Testing_Normal_Videos_Anomaly/Normal_Videos_063_x264__1.mp4\n",
      "비디오 저장 완료: UCF_Crimes_10crop/Videos/Testing_Normal_Videos_Anomaly/Normal_Videos_063_x264__6.mp4\n",
      "<class 'list'>\n",
      "<class 'numpy.ndarray'>\n",
      "(120, 160, 3)\n"
     ]
    },
    {
     "name": "stderr",
     "output_type": "stream",
     "text": [
      "OpenCV: FFMPEG: tag 0x44495658/'XVID' is not supported with codec id 12 and format 'mp4 / MP4 (MPEG-4 Part 14)'\n",
      "OpenCV: FFMPEG: fallback to use tag 0x7634706d/'mp4v'\n",
      "OpenCV: FFMPEG: tag 0x44495658/'XVID' is not supported with codec id 12 and format 'mp4 / MP4 (MPEG-4 Part 14)'\n",
      "OpenCV: FFMPEG: fallback to use tag 0x7634706d/'mp4v'\n",
      "OpenCV: FFMPEG: tag 0x44495658/'XVID' is not supported with codec id 12 and format 'mp4 / MP4 (MPEG-4 Part 14)'\n",
      "OpenCV: FFMPEG: fallback to use tag 0x7634706d/'mp4v'\n",
      "OpenCV: FFMPEG: tag 0x44495658/'XVID' is not supported with codec id 12 and format 'mp4 / MP4 (MPEG-4 Part 14)'\n",
      "OpenCV: FFMPEG: fallback to use tag 0x7634706d/'mp4v'\n",
      "OpenCV: FFMPEG: tag 0x44495658/'XVID' is not supported with codec id 12 and format 'mp4 / MP4 (MPEG-4 Part 14)'\n",
      "OpenCV: FFMPEG: fallback to use tag 0x7634706d/'mp4v'\n",
      "OpenCV: FFMPEG: tag 0x44495658/'XVID' is not supported with codec id 12 and format 'mp4 / MP4 (MPEG-4 Part 14)'\n",
      "OpenCV: FFMPEG: fallback to use tag 0x7634706d/'mp4v'\n"
     ]
    },
    {
     "name": "stdout",
     "output_type": "stream",
     "text": [
      "비디오 저장 완료: UCF_Crimes_10crop/Videos/Testing_Normal_Videos_Anomaly/Normal_Videos_063_x264__2.mp4\n",
      "비디오 저장 완료: UCF_Crimes_10crop/Videos/Testing_Normal_Videos_Anomaly/Normal_Videos_063_x264__7.mp4\n",
      "<class 'list'>\n",
      "<class 'numpy.ndarray'>\n",
      "(120, 160, 3)\n",
      "비디오 저장 완료: UCF_Crimes_10crop/Videos/Testing_Normal_Videos_Anomaly/Normal_Videos_063_x264__3.mp4\n",
      "비디오 저장 완료: UCF_Crimes_10crop/Videos/Testing_Normal_Videos_Anomaly/Normal_Videos_063_x264__8.mp4\n",
      "<class 'list'>\n",
      "<class 'numpy.ndarray'>\n",
      "(120, 160, 3)\n",
      "비디오 저장 완료: UCF_Crimes_10crop/Videos/Testing_Normal_Videos_Anomaly/Normal_Videos_063_x264__4.mp4\n",
      "비디오 저장 완료: UCF_Crimes_10crop/Videos/Testing_Normal_Videos_Anomaly/Normal_Videos_063_x264__9.mp4\n",
      "320   240\n",
      "FPS: 30.0\n"
     ]
    },
    {
     "name": "stderr",
     "output_type": "stream",
     "text": [
      "OpenCV: FFMPEG: tag 0x44495658/'XVID' is not supported with codec id 12 and format 'mp4 / MP4 (MPEG-4 Part 14)'\n",
      "OpenCV: FFMPEG: fallback to use tag 0x7634706d/'mp4v'\n",
      "OpenCV: FFMPEG: tag 0x44495658/'XVID' is not supported with codec id 12 and format 'mp4 / MP4 (MPEG-4 Part 14)'\n",
      "OpenCV: FFMPEG: fallback to use tag 0x7634706d/'mp4v'\n",
      "OpenCV: FFMPEG: tag 0x44495658/'XVID' is not supported with codec id 12 and format 'mp4 / MP4 (MPEG-4 Part 14)'\n",
      "OpenCV: FFMPEG: fallback to use tag 0x7634706d/'mp4v'\n",
      "OpenCV: FFMPEG: tag 0x44495658/'XVID' is not supported with codec id 12 and format 'mp4 / MP4 (MPEG-4 Part 14)'\n",
      "OpenCV: FFMPEG: fallback to use tag 0x7634706d/'mp4v'\n"
     ]
    },
    {
     "name": "stdout",
     "output_type": "stream",
     "text": [
      "<class 'list'>\n",
      "<class 'numpy.ndarray'>\n",
      "(120, 160, 3)\n"
     ]
    },
    {
     "name": "stderr",
     "output_type": "stream",
     "text": [
      "OpenCV: FFMPEG: tag 0x44495658/'XVID' is not supported with codec id 12 and format 'mp4 / MP4 (MPEG-4 Part 14)'\n",
      "OpenCV: FFMPEG: fallback to use tag 0x7634706d/'mp4v'\n",
      "OpenCV: FFMPEG: tag 0x44495658/'XVID' is not supported with codec id 12 and format 'mp4 / MP4 (MPEG-4 Part 14)'\n",
      "OpenCV: FFMPEG: fallback to use tag 0x7634706d/'mp4v'\n"
     ]
    },
    {
     "name": "stdout",
     "output_type": "stream",
     "text": [
      "비디오 저장 완료: UCF_Crimes_10crop/Videos/Testing_Normal_Videos_Anomaly/Normal_Videos_937_x264__0.mp4\n",
      "비디오 저장 완료: UCF_Crimes_10crop/Videos/Testing_Normal_Videos_Anomaly/Normal_Videos_937_x264__5.mp4\n",
      "<class 'list'>\n",
      "<class 'numpy.ndarray'>\n",
      "(120, 160, 3)\n"
     ]
    },
    {
     "name": "stderr",
     "output_type": "stream",
     "text": [
      "OpenCV: FFMPEG: tag 0x44495658/'XVID' is not supported with codec id 12 and format 'mp4 / MP4 (MPEG-4 Part 14)'\n",
      "OpenCV: FFMPEG: fallback to use tag 0x7634706d/'mp4v'\n",
      "OpenCV: FFMPEG: tag 0x44495658/'XVID' is not supported with codec id 12 and format 'mp4 / MP4 (MPEG-4 Part 14)'\n",
      "OpenCV: FFMPEG: fallback to use tag 0x7634706d/'mp4v'\n"
     ]
    },
    {
     "name": "stdout",
     "output_type": "stream",
     "text": [
      "비디오 저장 완료: UCF_Crimes_10crop/Videos/Testing_Normal_Videos_Anomaly/Normal_Videos_937_x264__1.mp4\n",
      "비디오 저장 완료: UCF_Crimes_10crop/Videos/Testing_Normal_Videos_Anomaly/Normal_Videos_937_x264__6.mp4\n",
      "<class 'list'>\n",
      "<class 'numpy.ndarray'>\n",
      "(120, 160, 3)\n"
     ]
    },
    {
     "name": "stderr",
     "output_type": "stream",
     "text": [
      "OpenCV: FFMPEG: tag 0x44495658/'XVID' is not supported with codec id 12 and format 'mp4 / MP4 (MPEG-4 Part 14)'\n",
      "OpenCV: FFMPEG: fallback to use tag 0x7634706d/'mp4v'\n",
      "OpenCV: FFMPEG: tag 0x44495658/'XVID' is not supported with codec id 12 and format 'mp4 / MP4 (MPEG-4 Part 14)'\n",
      "OpenCV: FFMPEG: fallback to use tag 0x7634706d/'mp4v'\n"
     ]
    },
    {
     "name": "stdout",
     "output_type": "stream",
     "text": [
      "비디오 저장 완료: UCF_Crimes_10crop/Videos/Testing_Normal_Videos_Anomaly/Normal_Videos_937_x264__2.mp4\n",
      "비디오 저장 완료: UCF_Crimes_10crop/Videos/Testing_Normal_Videos_Anomaly/Normal_Videos_937_x264__7.mp4\n",
      "<class 'list'>\n",
      "<class 'numpy.ndarray'>\n",
      "(120, 160, 3)\n"
     ]
    },
    {
     "name": "stderr",
     "output_type": "stream",
     "text": [
      "OpenCV: FFMPEG: tag 0x44495658/'XVID' is not supported with codec id 12 and format 'mp4 / MP4 (MPEG-4 Part 14)'\n",
      "OpenCV: FFMPEG: fallback to use tag 0x7634706d/'mp4v'\n",
      "OpenCV: FFMPEG: tag 0x44495658/'XVID' is not supported with codec id 12 and format 'mp4 / MP4 (MPEG-4 Part 14)'\n",
      "OpenCV: FFMPEG: fallback to use tag 0x7634706d/'mp4v'\n"
     ]
    },
    {
     "name": "stdout",
     "output_type": "stream",
     "text": [
      "비디오 저장 완료: UCF_Crimes_10crop/Videos/Testing_Normal_Videos_Anomaly/Normal_Videos_937_x264__3.mp4\n",
      "비디오 저장 완료: UCF_Crimes_10crop/Videos/Testing_Normal_Videos_Anomaly/Normal_Videos_937_x264__8.mp4\n",
      "<class 'list'>\n",
      "<class 'numpy.ndarray'>\n",
      "(120, 160, 3)\n",
      "비디오 저장 완료: UCF_Crimes_10crop/Videos/Testing_Normal_Videos_Anomaly/Normal_Videos_937_x264__4.mp4\n",
      "비디오 저장 완료: UCF_Crimes_10crop/Videos/Testing_Normal_Videos_Anomaly/Normal_Videos_937_x264__9.mp4\n"
     ]
    },
    {
     "name": "stderr",
     "output_type": "stream",
     "text": [
      "OpenCV: FFMPEG: tag 0x44495658/'XVID' is not supported with codec id 12 and format 'mp4 / MP4 (MPEG-4 Part 14)'\n",
      "OpenCV: FFMPEG: fallback to use tag 0x7634706d/'mp4v'\n",
      "OpenCV: FFMPEG: tag 0x44495658/'XVID' is not supported with codec id 12 and format 'mp4 / MP4 (MPEG-4 Part 14)'\n",
      "OpenCV: FFMPEG: fallback to use tag 0x7634706d/'mp4v'\n"
     ]
    },
    {
     "name": "stdout",
     "output_type": "stream",
     "text": [
      "320   240\n",
      "FPS: 30.0\n",
      "<class 'list'>\n",
      "<class 'numpy.ndarray'>\n",
      "(120, 160, 3)\n",
      "비디오 저장 완료: UCF_Crimes_10crop/Videos/Testing_Normal_Videos_Anomaly/Normal_Videos_878_x264__0.mp4\n",
      "비디오 저장 완료: UCF_Crimes_10crop/Videos/Testing_Normal_Videos_Anomaly/Normal_Videos_878_x264__5.mp4\n",
      "<class 'list'>\n",
      "<class 'numpy.ndarray'>\n",
      "(120, 160, 3)\n",
      "비디오 저장 완료: UCF_Crimes_10crop/Videos/Testing_Normal_Videos_Anomaly/Normal_Videos_878_x264__1.mp4\n",
      "비디오 저장 완료: UCF_Crimes_10crop/Videos/Testing_Normal_Videos_Anomaly/Normal_Videos_878_x264__6.mp4\n",
      "<class 'list'>\n",
      "<class 'numpy.ndarray'>\n",
      "(120, 160, 3)\n",
      "비디오 저장 완료: UCF_Crimes_10crop/Videos/Testing_Normal_Videos_Anomaly/Normal_Videos_878_x264__2.mp4\n",
      "비디오 저장 완료: UCF_Crimes_10crop/Videos/Testing_Normal_Videos_Anomaly/Normal_Videos_878_x264__7.mp4\n",
      "<class 'list'>\n",
      "<class 'numpy.ndarray'>\n",
      "(120, 160, 3)\n"
     ]
    },
    {
     "name": "stderr",
     "output_type": "stream",
     "text": [
      "OpenCV: FFMPEG: tag 0x44495658/'XVID' is not supported with codec id 12 and format 'mp4 / MP4 (MPEG-4 Part 14)'\n",
      "OpenCV: FFMPEG: fallback to use tag 0x7634706d/'mp4v'\n",
      "OpenCV: FFMPEG: tag 0x44495658/'XVID' is not supported with codec id 12 and format 'mp4 / MP4 (MPEG-4 Part 14)'\n",
      "OpenCV: FFMPEG: fallback to use tag 0x7634706d/'mp4v'\n",
      "OpenCV: FFMPEG: tag 0x44495658/'XVID' is not supported with codec id 12 and format 'mp4 / MP4 (MPEG-4 Part 14)'\n",
      "OpenCV: FFMPEG: fallback to use tag 0x7634706d/'mp4v'\n",
      "OpenCV: FFMPEG: tag 0x44495658/'XVID' is not supported with codec id 12 and format 'mp4 / MP4 (MPEG-4 Part 14)'\n",
      "OpenCV: FFMPEG: fallback to use tag 0x7634706d/'mp4v'\n",
      "OpenCV: FFMPEG: tag 0x44495658/'XVID' is not supported with codec id 12 and format 'mp4 / MP4 (MPEG-4 Part 14)'\n",
      "OpenCV: FFMPEG: fallback to use tag 0x7634706d/'mp4v'\n",
      "OpenCV: FFMPEG: tag 0x44495658/'XVID' is not supported with codec id 12 and format 'mp4 / MP4 (MPEG-4 Part 14)'\n",
      "OpenCV: FFMPEG: fallback to use tag 0x7634706d/'mp4v'\n",
      "OpenCV: FFMPEG: tag 0x44495658/'XVID' is not supported with codec id 12 and format 'mp4 / MP4 (MPEG-4 Part 14)'\n",
      "OpenCV: FFMPEG: fallback to use tag 0x7634706d/'mp4v'\n",
      "OpenCV: FFMPEG: tag 0x44495658/'XVID' is not supported with codec id 12 and format 'mp4 / MP4 (MPEG-4 Part 14)'\n",
      "OpenCV: FFMPEG: fallback to use tag 0x7634706d/'mp4v'\n"
     ]
    },
    {
     "name": "stdout",
     "output_type": "stream",
     "text": [
      "비디오 저장 완료: UCF_Crimes_10crop/Videos/Testing_Normal_Videos_Anomaly/Normal_Videos_878_x264__3.mp4\n",
      "비디오 저장 완료: UCF_Crimes_10crop/Videos/Testing_Normal_Videos_Anomaly/Normal_Videos_878_x264__8.mp4\n",
      "<class 'list'>\n",
      "<class 'numpy.ndarray'>\n",
      "(120, 160, 3)\n",
      "비디오 저장 완료: UCF_Crimes_10crop/Videos/Testing_Normal_Videos_Anomaly/Normal_Videos_878_x264__4.mp4\n",
      "비디오 저장 완료: UCF_Crimes_10crop/Videos/Testing_Normal_Videos_Anomaly/Normal_Videos_878_x264__9.mp4\n",
      "320   240\n",
      "FPS: 30.0\n"
     ]
    },
    {
     "name": "stderr",
     "output_type": "stream",
     "text": [
      "OpenCV: FFMPEG: tag 0x44495658/'XVID' is not supported with codec id 12 and format 'mp4 / MP4 (MPEG-4 Part 14)'\n",
      "OpenCV: FFMPEG: fallback to use tag 0x7634706d/'mp4v'\n",
      "OpenCV: FFMPEG: tag 0x44495658/'XVID' is not supported with codec id 12 and format 'mp4 / MP4 (MPEG-4 Part 14)'\n",
      "OpenCV: FFMPEG: fallback to use tag 0x7634706d/'mp4v'\n"
     ]
    },
    {
     "name": "stdout",
     "output_type": "stream",
     "text": [
      "<class 'list'>\n",
      "<class 'numpy.ndarray'>\n",
      "(120, 160, 3)\n"
     ]
    },
    {
     "name": "stderr",
     "output_type": "stream",
     "text": [
      "OpenCV: FFMPEG: tag 0x44495658/'XVID' is not supported with codec id 12 and format 'mp4 / MP4 (MPEG-4 Part 14)'\n",
      "OpenCV: FFMPEG: fallback to use tag 0x7634706d/'mp4v'\n",
      "OpenCV: FFMPEG: tag 0x44495658/'XVID' is not supported with codec id 12 and format 'mp4 / MP4 (MPEG-4 Part 14)'\n",
      "OpenCV: FFMPEG: fallback to use tag 0x7634706d/'mp4v'\n"
     ]
    },
    {
     "name": "stdout",
     "output_type": "stream",
     "text": [
      "비디오 저장 완료: UCF_Crimes_10crop/Videos/Testing_Normal_Videos_Anomaly/Normal_Videos_439_x264__0.mp4\n",
      "비디오 저장 완료: UCF_Crimes_10crop/Videos/Testing_Normal_Videos_Anomaly/Normal_Videos_439_x264__5.mp4\n",
      "<class 'list'>\n",
      "<class 'numpy.ndarray'>\n",
      "(120, 160, 3)\n"
     ]
    },
    {
     "name": "stderr",
     "output_type": "stream",
     "text": [
      "OpenCV: FFMPEG: tag 0x44495658/'XVID' is not supported with codec id 12 and format 'mp4 / MP4 (MPEG-4 Part 14)'\n",
      "OpenCV: FFMPEG: fallback to use tag 0x7634706d/'mp4v'\n",
      "OpenCV: FFMPEG: tag 0x44495658/'XVID' is not supported with codec id 12 and format 'mp4 / MP4 (MPEG-4 Part 14)'\n",
      "OpenCV: FFMPEG: fallback to use tag 0x7634706d/'mp4v'\n"
     ]
    },
    {
     "name": "stdout",
     "output_type": "stream",
     "text": [
      "비디오 저장 완료: UCF_Crimes_10crop/Videos/Testing_Normal_Videos_Anomaly/Normal_Videos_439_x264__1.mp4\n",
      "비디오 저장 완료: UCF_Crimes_10crop/Videos/Testing_Normal_Videos_Anomaly/Normal_Videos_439_x264__6.mp4\n",
      "<class 'list'>\n",
      "<class 'numpy.ndarray'>\n",
      "(120, 160, 3)\n"
     ]
    },
    {
     "name": "stderr",
     "output_type": "stream",
     "text": [
      "OpenCV: FFMPEG: tag 0x44495658/'XVID' is not supported with codec id 12 and format 'mp4 / MP4 (MPEG-4 Part 14)'\n",
      "OpenCV: FFMPEG: fallback to use tag 0x7634706d/'mp4v'\n",
      "OpenCV: FFMPEG: tag 0x44495658/'XVID' is not supported with codec id 12 and format 'mp4 / MP4 (MPEG-4 Part 14)'\n",
      "OpenCV: FFMPEG: fallback to use tag 0x7634706d/'mp4v'\n"
     ]
    },
    {
     "name": "stdout",
     "output_type": "stream",
     "text": [
      "비디오 저장 완료: UCF_Crimes_10crop/Videos/Testing_Normal_Videos_Anomaly/Normal_Videos_439_x264__2.mp4\n",
      "비디오 저장 완료: UCF_Crimes_10crop/Videos/Testing_Normal_Videos_Anomaly/Normal_Videos_439_x264__7.mp4\n",
      "<class 'list'>\n",
      "<class 'numpy.ndarray'>\n",
      "(120, 160, 3)\n"
     ]
    },
    {
     "name": "stderr",
     "output_type": "stream",
     "text": [
      "OpenCV: FFMPEG: tag 0x44495658/'XVID' is not supported with codec id 12 and format 'mp4 / MP4 (MPEG-4 Part 14)'\n",
      "OpenCV: FFMPEG: fallback to use tag 0x7634706d/'mp4v'\n",
      "OpenCV: FFMPEG: tag 0x44495658/'XVID' is not supported with codec id 12 and format 'mp4 / MP4 (MPEG-4 Part 14)'\n",
      "OpenCV: FFMPEG: fallback to use tag 0x7634706d/'mp4v'\n"
     ]
    },
    {
     "name": "stdout",
     "output_type": "stream",
     "text": [
      "비디오 저장 완료: UCF_Crimes_10crop/Videos/Testing_Normal_Videos_Anomaly/Normal_Videos_439_x264__3.mp4\n",
      "비디오 저장 완료: UCF_Crimes_10crop/Videos/Testing_Normal_Videos_Anomaly/Normal_Videos_439_x264__8.mp4\n",
      "<class 'list'>\n",
      "<class 'numpy.ndarray'>\n",
      "(120, 160, 3)\n"
     ]
    },
    {
     "name": "stderr",
     "output_type": "stream",
     "text": [
      "OpenCV: FFMPEG: tag 0x44495658/'XVID' is not supported with codec id 12 and format 'mp4 / MP4 (MPEG-4 Part 14)'\n",
      "OpenCV: FFMPEG: fallback to use tag 0x7634706d/'mp4v'\n",
      "OpenCV: FFMPEG: tag 0x44495658/'XVID' is not supported with codec id 12 and format 'mp4 / MP4 (MPEG-4 Part 14)'\n",
      "OpenCV: FFMPEG: fallback to use tag 0x7634706d/'mp4v'\n"
     ]
    },
    {
     "name": "stdout",
     "output_type": "stream",
     "text": [
      "비디오 저장 완료: UCF_Crimes_10crop/Videos/Testing_Normal_Videos_Anomaly/Normal_Videos_439_x264__4.mp4\n",
      "비디오 저장 완료: UCF_Crimes_10crop/Videos/Testing_Normal_Videos_Anomaly/Normal_Videos_439_x264__9.mp4\n",
      "320   240\n",
      "FPS: 30.0\n",
      "<class 'list'>\n",
      "<class 'numpy.ndarray'>\n",
      "(120, 160, 3)\n"
     ]
    },
    {
     "name": "stderr",
     "output_type": "stream",
     "text": [
      "OpenCV: FFMPEG: tag 0x44495658/'XVID' is not supported with codec id 12 and format 'mp4 / MP4 (MPEG-4 Part 14)'\n",
      "OpenCV: FFMPEG: fallback to use tag 0x7634706d/'mp4v'\n",
      "OpenCV: FFMPEG: tag 0x44495658/'XVID' is not supported with codec id 12 and format 'mp4 / MP4 (MPEG-4 Part 14)'\n",
      "OpenCV: FFMPEG: fallback to use tag 0x7634706d/'mp4v'\n"
     ]
    },
    {
     "name": "stdout",
     "output_type": "stream",
     "text": [
      "비디오 저장 완료: UCF_Crimes_10crop/Videos/Testing_Normal_Videos_Anomaly/Normal_Videos_210_x264__0.mp4\n",
      "비디오 저장 완료: UCF_Crimes_10crop/Videos/Testing_Normal_Videos_Anomaly/Normal_Videos_210_x264__5.mp4\n",
      "<class 'list'>\n",
      "<class 'numpy.ndarray'>\n",
      "(120, 160, 3)\n"
     ]
    },
    {
     "name": "stderr",
     "output_type": "stream",
     "text": [
      "OpenCV: FFMPEG: tag 0x44495658/'XVID' is not supported with codec id 12 and format 'mp4 / MP4 (MPEG-4 Part 14)'\n",
      "OpenCV: FFMPEG: fallback to use tag 0x7634706d/'mp4v'\n",
      "OpenCV: FFMPEG: tag 0x44495658/'XVID' is not supported with codec id 12 and format 'mp4 / MP4 (MPEG-4 Part 14)'\n",
      "OpenCV: FFMPEG: fallback to use tag 0x7634706d/'mp4v'\n"
     ]
    },
    {
     "name": "stdout",
     "output_type": "stream",
     "text": [
      "비디오 저장 완료: UCF_Crimes_10crop/Videos/Testing_Normal_Videos_Anomaly/Normal_Videos_210_x264__1.mp4\n",
      "비디오 저장 완료: UCF_Crimes_10crop/Videos/Testing_Normal_Videos_Anomaly/Normal_Videos_210_x264__6.mp4\n",
      "<class 'list'>\n",
      "<class 'numpy.ndarray'>\n",
      "(120, 160, 3)\n"
     ]
    },
    {
     "name": "stderr",
     "output_type": "stream",
     "text": [
      "OpenCV: FFMPEG: tag 0x44495658/'XVID' is not supported with codec id 12 and format 'mp4 / MP4 (MPEG-4 Part 14)'\n",
      "OpenCV: FFMPEG: fallback to use tag 0x7634706d/'mp4v'\n",
      "OpenCV: FFMPEG: tag 0x44495658/'XVID' is not supported with codec id 12 and format 'mp4 / MP4 (MPEG-4 Part 14)'\n",
      "OpenCV: FFMPEG: fallback to use tag 0x7634706d/'mp4v'\n"
     ]
    },
    {
     "name": "stdout",
     "output_type": "stream",
     "text": [
      "비디오 저장 완료: UCF_Crimes_10crop/Videos/Testing_Normal_Videos_Anomaly/Normal_Videos_210_x264__2.mp4\n",
      "비디오 저장 완료: UCF_Crimes_10crop/Videos/Testing_Normal_Videos_Anomaly/Normal_Videos_210_x264__7.mp4\n",
      "<class 'list'>\n",
      "<class 'numpy.ndarray'>\n",
      "(120, 160, 3)\n"
     ]
    },
    {
     "name": "stderr",
     "output_type": "stream",
     "text": [
      "OpenCV: FFMPEG: tag 0x44495658/'XVID' is not supported with codec id 12 and format 'mp4 / MP4 (MPEG-4 Part 14)'\n",
      "OpenCV: FFMPEG: fallback to use tag 0x7634706d/'mp4v'\n",
      "OpenCV: FFMPEG: tag 0x44495658/'XVID' is not supported with codec id 12 and format 'mp4 / MP4 (MPEG-4 Part 14)'\n",
      "OpenCV: FFMPEG: fallback to use tag 0x7634706d/'mp4v'\n"
     ]
    },
    {
     "name": "stdout",
     "output_type": "stream",
     "text": [
      "비디오 저장 완료: UCF_Crimes_10crop/Videos/Testing_Normal_Videos_Anomaly/Normal_Videos_210_x264__3.mp4\n",
      "비디오 저장 완료: UCF_Crimes_10crop/Videos/Testing_Normal_Videos_Anomaly/Normal_Videos_210_x264__8.mp4\n",
      "<class 'list'>\n",
      "<class 'numpy.ndarray'>\n",
      "(120, 160, 3)\n"
     ]
    },
    {
     "name": "stderr",
     "output_type": "stream",
     "text": [
      "OpenCV: FFMPEG: tag 0x44495658/'XVID' is not supported with codec id 12 and format 'mp4 / MP4 (MPEG-4 Part 14)'\n",
      "OpenCV: FFMPEG: fallback to use tag 0x7634706d/'mp4v'\n",
      "OpenCV: FFMPEG: tag 0x44495658/'XVID' is not supported with codec id 12 and format 'mp4 / MP4 (MPEG-4 Part 14)'\n",
      "OpenCV: FFMPEG: fallback to use tag 0x7634706d/'mp4v'\n"
     ]
    },
    {
     "name": "stdout",
     "output_type": "stream",
     "text": [
      "비디오 저장 완료: UCF_Crimes_10crop/Videos/Testing_Normal_Videos_Anomaly/Normal_Videos_210_x264__4.mp4\n",
      "비디오 저장 완료: UCF_Crimes_10crop/Videos/Testing_Normal_Videos_Anomaly/Normal_Videos_210_x264__9.mp4\n",
      "320   240\n",
      "FPS: 30.0\n",
      "<class 'list'>\n",
      "<class 'numpy.ndarray'>\n",
      "(120, 160, 3)\n"
     ]
    },
    {
     "name": "stderr",
     "output_type": "stream",
     "text": [
      "OpenCV: FFMPEG: tag 0x44495658/'XVID' is not supported with codec id 12 and format 'mp4 / MP4 (MPEG-4 Part 14)'\n",
      "OpenCV: FFMPEG: fallback to use tag 0x7634706d/'mp4v'\n",
      "OpenCV: FFMPEG: tag 0x44495658/'XVID' is not supported with codec id 12 and format 'mp4 / MP4 (MPEG-4 Part 14)'\n",
      "OpenCV: FFMPEG: fallback to use tag 0x7634706d/'mp4v'\n"
     ]
    },
    {
     "name": "stdout",
     "output_type": "stream",
     "text": [
      "비디오 저장 완료: UCF_Crimes_10crop/Videos/Testing_Normal_Videos_Anomaly/Normal_Videos_059_x264__0.mp4\n",
      "비디오 저장 완료: UCF_Crimes_10crop/Videos/Testing_Normal_Videos_Anomaly/Normal_Videos_059_x264__5.mp4\n",
      "<class 'list'>\n",
      "<class 'numpy.ndarray'>\n",
      "(120, 160, 3)\n"
     ]
    },
    {
     "name": "stderr",
     "output_type": "stream",
     "text": [
      "OpenCV: FFMPEG: tag 0x44495658/'XVID' is not supported with codec id 12 and format 'mp4 / MP4 (MPEG-4 Part 14)'\n",
      "OpenCV: FFMPEG: fallback to use tag 0x7634706d/'mp4v'\n",
      "OpenCV: FFMPEG: tag 0x44495658/'XVID' is not supported with codec id 12 and format 'mp4 / MP4 (MPEG-4 Part 14)'\n",
      "OpenCV: FFMPEG: fallback to use tag 0x7634706d/'mp4v'\n"
     ]
    },
    {
     "name": "stdout",
     "output_type": "stream",
     "text": [
      "비디오 저장 완료: UCF_Crimes_10crop/Videos/Testing_Normal_Videos_Anomaly/Normal_Videos_059_x264__1.mp4\n",
      "비디오 저장 완료: UCF_Crimes_10crop/Videos/Testing_Normal_Videos_Anomaly/Normal_Videos_059_x264__6.mp4\n",
      "<class 'list'>\n",
      "<class 'numpy.ndarray'>\n",
      "(120, 160, 3)\n"
     ]
    },
    {
     "name": "stderr",
     "output_type": "stream",
     "text": [
      "OpenCV: FFMPEG: tag 0x44495658/'XVID' is not supported with codec id 12 and format 'mp4 / MP4 (MPEG-4 Part 14)'\n",
      "OpenCV: FFMPEG: fallback to use tag 0x7634706d/'mp4v'\n",
      "OpenCV: FFMPEG: tag 0x44495658/'XVID' is not supported with codec id 12 and format 'mp4 / MP4 (MPEG-4 Part 14)'\n",
      "OpenCV: FFMPEG: fallback to use tag 0x7634706d/'mp4v'\n"
     ]
    },
    {
     "name": "stdout",
     "output_type": "stream",
     "text": [
      "비디오 저장 완료: UCF_Crimes_10crop/Videos/Testing_Normal_Videos_Anomaly/Normal_Videos_059_x264__2.mp4\n",
      "비디오 저장 완료: UCF_Crimes_10crop/Videos/Testing_Normal_Videos_Anomaly/Normal_Videos_059_x264__7.mp4\n",
      "<class 'list'>\n",
      "<class 'numpy.ndarray'>\n",
      "(120, 160, 3)\n"
     ]
    },
    {
     "name": "stderr",
     "output_type": "stream",
     "text": [
      "OpenCV: FFMPEG: tag 0x44495658/'XVID' is not supported with codec id 12 and format 'mp4 / MP4 (MPEG-4 Part 14)'\n",
      "OpenCV: FFMPEG: fallback to use tag 0x7634706d/'mp4v'\n",
      "OpenCV: FFMPEG: tag 0x44495658/'XVID' is not supported with codec id 12 and format 'mp4 / MP4 (MPEG-4 Part 14)'\n",
      "OpenCV: FFMPEG: fallback to use tag 0x7634706d/'mp4v'\n"
     ]
    },
    {
     "name": "stdout",
     "output_type": "stream",
     "text": [
      "비디오 저장 완료: UCF_Crimes_10crop/Videos/Testing_Normal_Videos_Anomaly/Normal_Videos_059_x264__3.mp4\n",
      "비디오 저장 완료: UCF_Crimes_10crop/Videos/Testing_Normal_Videos_Anomaly/Normal_Videos_059_x264__8.mp4\n",
      "<class 'list'>\n",
      "<class 'numpy.ndarray'>\n",
      "(120, 160, 3)\n"
     ]
    },
    {
     "name": "stderr",
     "output_type": "stream",
     "text": [
      "OpenCV: FFMPEG: tag 0x44495658/'XVID' is not supported with codec id 12 and format 'mp4 / MP4 (MPEG-4 Part 14)'\n",
      "OpenCV: FFMPEG: fallback to use tag 0x7634706d/'mp4v'\n",
      "OpenCV: FFMPEG: tag 0x44495658/'XVID' is not supported with codec id 12 and format 'mp4 / MP4 (MPEG-4 Part 14)'\n",
      "OpenCV: FFMPEG: fallback to use tag 0x7634706d/'mp4v'\n"
     ]
    },
    {
     "name": "stdout",
     "output_type": "stream",
     "text": [
      "비디오 저장 완료: UCF_Crimes_10crop/Videos/Testing_Normal_Videos_Anomaly/Normal_Videos_059_x264__4.mp4\n",
      "비디오 저장 완료: UCF_Crimes_10crop/Videos/Testing_Normal_Videos_Anomaly/Normal_Videos_059_x264__9.mp4\n",
      "320   240\n",
      "FPS: 30.0\n",
      "<class 'list'>\n",
      "<class 'numpy.ndarray'>\n",
      "(120, 160, 3)\n",
      "비디오 저장 완료: UCF_Crimes_10crop/Videos/Testing_Normal_Videos_Anomaly/Normal_Videos_745_x264__0.mp4\n",
      "비디오 저장 완료: UCF_Crimes_10crop/Videos/Testing_Normal_Videos_Anomaly/Normal_Videos_745_x264__5.mp4\n",
      "<class 'list'>\n",
      "<class 'numpy.ndarray'>\n",
      "(120, 160, 3)\n",
      "비디오 저장 완료: UCF_Crimes_10crop/Videos/Testing_Normal_Videos_Anomaly/Normal_Videos_745_x264__1.mp4\n",
      "비디오 저장 완료: UCF_Crimes_10crop/Videos/Testing_Normal_Videos_Anomaly/Normal_Videos_745_x264__6.mp4\n",
      "<class 'list'>\n",
      "<class 'numpy.ndarray'>\n",
      "(120, 160, 3)\n",
      "비디오 저장 완료: UCF_Crimes_10crop/Videos/Testing_Normal_Videos_Anomaly/Normal_Videos_745_x264__2.mp4\n",
      "비디오 저장 완료: UCF_Crimes_10crop/Videos/Testing_Normal_Videos_Anomaly/Normal_Videos_745_x264__7.mp4\n",
      "<class 'list'>\n",
      "<class 'numpy.ndarray'>\n",
      "(120, 160, 3)\n"
     ]
    },
    {
     "name": "stderr",
     "output_type": "stream",
     "text": [
      "OpenCV: FFMPEG: tag 0x44495658/'XVID' is not supported with codec id 12 and format 'mp4 / MP4 (MPEG-4 Part 14)'\n",
      "OpenCV: FFMPEG: fallback to use tag 0x7634706d/'mp4v'\n",
      "OpenCV: FFMPEG: tag 0x44495658/'XVID' is not supported with codec id 12 and format 'mp4 / MP4 (MPEG-4 Part 14)'\n",
      "OpenCV: FFMPEG: fallback to use tag 0x7634706d/'mp4v'\n",
      "OpenCV: FFMPEG: tag 0x44495658/'XVID' is not supported with codec id 12 and format 'mp4 / MP4 (MPEG-4 Part 14)'\n",
      "OpenCV: FFMPEG: fallback to use tag 0x7634706d/'mp4v'\n",
      "OpenCV: FFMPEG: tag 0x44495658/'XVID' is not supported with codec id 12 and format 'mp4 / MP4 (MPEG-4 Part 14)'\n",
      "OpenCV: FFMPEG: fallback to use tag 0x7634706d/'mp4v'\n",
      "OpenCV: FFMPEG: tag 0x44495658/'XVID' is not supported with codec id 12 and format 'mp4 / MP4 (MPEG-4 Part 14)'\n",
      "OpenCV: FFMPEG: fallback to use tag 0x7634706d/'mp4v'\n",
      "OpenCV: FFMPEG: tag 0x44495658/'XVID' is not supported with codec id 12 and format 'mp4 / MP4 (MPEG-4 Part 14)'\n",
      "OpenCV: FFMPEG: fallback to use tag 0x7634706d/'mp4v'\n",
      "OpenCV: FFMPEG: tag 0x44495658/'XVID' is not supported with codec id 12 and format 'mp4 / MP4 (MPEG-4 Part 14)'\n",
      "OpenCV: FFMPEG: fallback to use tag 0x7634706d/'mp4v'\n",
      "OpenCV: FFMPEG: tag 0x44495658/'XVID' is not supported with codec id 12 and format 'mp4 / MP4 (MPEG-4 Part 14)'\n",
      "OpenCV: FFMPEG: fallback to use tag 0x7634706d/'mp4v'\n"
     ]
    },
    {
     "name": "stdout",
     "output_type": "stream",
     "text": [
      "비디오 저장 완료: UCF_Crimes_10crop/Videos/Testing_Normal_Videos_Anomaly/Normal_Videos_745_x264__3.mp4\n",
      "비디오 저장 완료: UCF_Crimes_10crop/Videos/Testing_Normal_Videos_Anomaly/Normal_Videos_745_x264__8.mp4\n",
      "<class 'list'>\n",
      "<class 'numpy.ndarray'>\n",
      "(120, 160, 3)\n",
      "비디오 저장 완료: UCF_Crimes_10crop/Videos/Testing_Normal_Videos_Anomaly/Normal_Videos_745_x264__4.mp4\n",
      "비디오 저장 완료: UCF_Crimes_10crop/Videos/Testing_Normal_Videos_Anomaly/Normal_Videos_745_x264__9.mp4\n"
     ]
    },
    {
     "name": "stderr",
     "output_type": "stream",
     "text": [
      "OpenCV: FFMPEG: tag 0x44495658/'XVID' is not supported with codec id 12 and format 'mp4 / MP4 (MPEG-4 Part 14)'\n",
      "OpenCV: FFMPEG: fallback to use tag 0x7634706d/'mp4v'\n",
      "OpenCV: FFMPEG: tag 0x44495658/'XVID' is not supported with codec id 12 and format 'mp4 / MP4 (MPEG-4 Part 14)'\n",
      "OpenCV: FFMPEG: fallback to use tag 0x7634706d/'mp4v'\n"
     ]
    },
    {
     "name": "stdout",
     "output_type": "stream",
     "text": [
      "320   240\n",
      "FPS: 30.0\n",
      "<class 'list'>\n",
      "<class 'numpy.ndarray'>\n",
      "(120, 160, 3)\n"
     ]
    },
    {
     "name": "stderr",
     "output_type": "stream",
     "text": [
      "OpenCV: FFMPEG: tag 0x44495658/'XVID' is not supported with codec id 12 and format 'mp4 / MP4 (MPEG-4 Part 14)'\n",
      "OpenCV: FFMPEG: fallback to use tag 0x7634706d/'mp4v'\n",
      "OpenCV: FFMPEG: tag 0x44495658/'XVID' is not supported with codec id 12 and format 'mp4 / MP4 (MPEG-4 Part 14)'\n",
      "OpenCV: FFMPEG: fallback to use tag 0x7634706d/'mp4v'\n"
     ]
    },
    {
     "name": "stdout",
     "output_type": "stream",
     "text": [
      "비디오 저장 완료: UCF_Crimes_10crop/Videos/Testing_Normal_Videos_Anomaly/Normal_Videos_048_x264__0.mp4\n",
      "비디오 저장 완료: UCF_Crimes_10crop/Videos/Testing_Normal_Videos_Anomaly/Normal_Videos_048_x264__5.mp4\n",
      "<class 'list'>\n",
      "<class 'numpy.ndarray'>\n",
      "(120, 160, 3)\n"
     ]
    },
    {
     "name": "stderr",
     "output_type": "stream",
     "text": [
      "OpenCV: FFMPEG: tag 0x44495658/'XVID' is not supported with codec id 12 and format 'mp4 / MP4 (MPEG-4 Part 14)'\n",
      "OpenCV: FFMPEG: fallback to use tag 0x7634706d/'mp4v'\n",
      "OpenCV: FFMPEG: tag 0x44495658/'XVID' is not supported with codec id 12 and format 'mp4 / MP4 (MPEG-4 Part 14)'\n",
      "OpenCV: FFMPEG: fallback to use tag 0x7634706d/'mp4v'\n"
     ]
    },
    {
     "name": "stdout",
     "output_type": "stream",
     "text": [
      "비디오 저장 완료: UCF_Crimes_10crop/Videos/Testing_Normal_Videos_Anomaly/Normal_Videos_048_x264__1.mp4\n",
      "비디오 저장 완료: UCF_Crimes_10crop/Videos/Testing_Normal_Videos_Anomaly/Normal_Videos_048_x264__6.mp4\n",
      "<class 'list'>\n",
      "<class 'numpy.ndarray'>\n",
      "(120, 160, 3)\n"
     ]
    },
    {
     "name": "stderr",
     "output_type": "stream",
     "text": [
      "OpenCV: FFMPEG: tag 0x44495658/'XVID' is not supported with codec id 12 and format 'mp4 / MP4 (MPEG-4 Part 14)'\n",
      "OpenCV: FFMPEG: fallback to use tag 0x7634706d/'mp4v'\n",
      "OpenCV: FFMPEG: tag 0x44495658/'XVID' is not supported with codec id 12 and format 'mp4 / MP4 (MPEG-4 Part 14)'\n",
      "OpenCV: FFMPEG: fallback to use tag 0x7634706d/'mp4v'\n"
     ]
    },
    {
     "name": "stdout",
     "output_type": "stream",
     "text": [
      "비디오 저장 완료: UCF_Crimes_10crop/Videos/Testing_Normal_Videos_Anomaly/Normal_Videos_048_x264__2.mp4\n",
      "비디오 저장 완료: UCF_Crimes_10crop/Videos/Testing_Normal_Videos_Anomaly/Normal_Videos_048_x264__7.mp4\n",
      "<class 'list'>\n",
      "<class 'numpy.ndarray'>\n",
      "(120, 160, 3)\n"
     ]
    },
    {
     "name": "stderr",
     "output_type": "stream",
     "text": [
      "OpenCV: FFMPEG: tag 0x44495658/'XVID' is not supported with codec id 12 and format 'mp4 / MP4 (MPEG-4 Part 14)'\n",
      "OpenCV: FFMPEG: fallback to use tag 0x7634706d/'mp4v'\n",
      "OpenCV: FFMPEG: tag 0x44495658/'XVID' is not supported with codec id 12 and format 'mp4 / MP4 (MPEG-4 Part 14)'\n",
      "OpenCV: FFMPEG: fallback to use tag 0x7634706d/'mp4v'\n"
     ]
    },
    {
     "name": "stdout",
     "output_type": "stream",
     "text": [
      "비디오 저장 완료: UCF_Crimes_10crop/Videos/Testing_Normal_Videos_Anomaly/Normal_Videos_048_x264__3.mp4\n",
      "비디오 저장 완료: UCF_Crimes_10crop/Videos/Testing_Normal_Videos_Anomaly/Normal_Videos_048_x264__8.mp4\n",
      "<class 'list'>\n",
      "<class 'numpy.ndarray'>\n",
      "(120, 160, 3)\n"
     ]
    },
    {
     "name": "stderr",
     "output_type": "stream",
     "text": [
      "OpenCV: FFMPEG: tag 0x44495658/'XVID' is not supported with codec id 12 and format 'mp4 / MP4 (MPEG-4 Part 14)'\n",
      "OpenCV: FFMPEG: fallback to use tag 0x7634706d/'mp4v'\n",
      "OpenCV: FFMPEG: tag 0x44495658/'XVID' is not supported with codec id 12 and format 'mp4 / MP4 (MPEG-4 Part 14)'\n",
      "OpenCV: FFMPEG: fallback to use tag 0x7634706d/'mp4v'\n"
     ]
    },
    {
     "name": "stdout",
     "output_type": "stream",
     "text": [
      "비디오 저장 완료: UCF_Crimes_10crop/Videos/Testing_Normal_Videos_Anomaly/Normal_Videos_048_x264__4.mp4\n",
      "비디오 저장 완료: UCF_Crimes_10crop/Videos/Testing_Normal_Videos_Anomaly/Normal_Videos_048_x264__9.mp4\n",
      "320   240\n",
      "FPS: 30.0\n",
      "<class 'list'>\n",
      "<class 'numpy.ndarray'>\n",
      "(120, 160, 3)\n"
     ]
    },
    {
     "name": "stderr",
     "output_type": "stream",
     "text": [
      "OpenCV: FFMPEG: tag 0x44495658/'XVID' is not supported with codec id 12 and format 'mp4 / MP4 (MPEG-4 Part 14)'\n",
      "OpenCV: FFMPEG: fallback to use tag 0x7634706d/'mp4v'\n",
      "OpenCV: FFMPEG: tag 0x44495658/'XVID' is not supported with codec id 12 and format 'mp4 / MP4 (MPEG-4 Part 14)'\n",
      "OpenCV: FFMPEG: fallback to use tag 0x7634706d/'mp4v'\n"
     ]
    },
    {
     "name": "stdout",
     "output_type": "stream",
     "text": [
      "비디오 저장 완료: UCF_Crimes_10crop/Videos/Testing_Normal_Videos_Anomaly/Normal_Videos_175_x264__0.mp4\n",
      "비디오 저장 완료: UCF_Crimes_10crop/Videos/Testing_Normal_Videos_Anomaly/Normal_Videos_175_x264__5.mp4\n",
      "<class 'list'>\n",
      "<class 'numpy.ndarray'>\n",
      "(120, 160, 3)\n"
     ]
    },
    {
     "name": "stderr",
     "output_type": "stream",
     "text": [
      "OpenCV: FFMPEG: tag 0x44495658/'XVID' is not supported with codec id 12 and format 'mp4 / MP4 (MPEG-4 Part 14)'\n",
      "OpenCV: FFMPEG: fallback to use tag 0x7634706d/'mp4v'\n",
      "OpenCV: FFMPEG: tag 0x44495658/'XVID' is not supported with codec id 12 and format 'mp4 / MP4 (MPEG-4 Part 14)'\n",
      "OpenCV: FFMPEG: fallback to use tag 0x7634706d/'mp4v'\n"
     ]
    },
    {
     "name": "stdout",
     "output_type": "stream",
     "text": [
      "비디오 저장 완료: UCF_Crimes_10crop/Videos/Testing_Normal_Videos_Anomaly/Normal_Videos_175_x264__1.mp4\n",
      "비디오 저장 완료: UCF_Crimes_10crop/Videos/Testing_Normal_Videos_Anomaly/Normal_Videos_175_x264__6.mp4\n",
      "<class 'list'>\n",
      "<class 'numpy.ndarray'>\n",
      "(120, 160, 3)\n"
     ]
    },
    {
     "name": "stderr",
     "output_type": "stream",
     "text": [
      "OpenCV: FFMPEG: tag 0x44495658/'XVID' is not supported with codec id 12 and format 'mp4 / MP4 (MPEG-4 Part 14)'\n",
      "OpenCV: FFMPEG: fallback to use tag 0x7634706d/'mp4v'\n",
      "OpenCV: FFMPEG: tag 0x44495658/'XVID' is not supported with codec id 12 and format 'mp4 / MP4 (MPEG-4 Part 14)'\n",
      "OpenCV: FFMPEG: fallback to use tag 0x7634706d/'mp4v'\n"
     ]
    },
    {
     "name": "stdout",
     "output_type": "stream",
     "text": [
      "비디오 저장 완료: UCF_Crimes_10crop/Videos/Testing_Normal_Videos_Anomaly/Normal_Videos_175_x264__2.mp4\n",
      "비디오 저장 완료: UCF_Crimes_10crop/Videos/Testing_Normal_Videos_Anomaly/Normal_Videos_175_x264__7.mp4\n",
      "<class 'list'>\n",
      "<class 'numpy.ndarray'>\n",
      "(120, 160, 3)\n"
     ]
    },
    {
     "name": "stderr",
     "output_type": "stream",
     "text": [
      "OpenCV: FFMPEG: tag 0x44495658/'XVID' is not supported with codec id 12 and format 'mp4 / MP4 (MPEG-4 Part 14)'\n",
      "OpenCV: FFMPEG: fallback to use tag 0x7634706d/'mp4v'\n",
      "OpenCV: FFMPEG: tag 0x44495658/'XVID' is not supported with codec id 12 and format 'mp4 / MP4 (MPEG-4 Part 14)'\n",
      "OpenCV: FFMPEG: fallback to use tag 0x7634706d/'mp4v'\n"
     ]
    },
    {
     "name": "stdout",
     "output_type": "stream",
     "text": [
      "비디오 저장 완료: UCF_Crimes_10crop/Videos/Testing_Normal_Videos_Anomaly/Normal_Videos_175_x264__3.mp4\n",
      "비디오 저장 완료: UCF_Crimes_10crop/Videos/Testing_Normal_Videos_Anomaly/Normal_Videos_175_x264__8.mp4\n",
      "<class 'list'>\n",
      "<class 'numpy.ndarray'>\n",
      "(120, 160, 3)\n"
     ]
    },
    {
     "name": "stderr",
     "output_type": "stream",
     "text": [
      "OpenCV: FFMPEG: tag 0x44495658/'XVID' is not supported with codec id 12 and format 'mp4 / MP4 (MPEG-4 Part 14)'\n",
      "OpenCV: FFMPEG: fallback to use tag 0x7634706d/'mp4v'\n",
      "OpenCV: FFMPEG: tag 0x44495658/'XVID' is not supported with codec id 12 and format 'mp4 / MP4 (MPEG-4 Part 14)'\n",
      "OpenCV: FFMPEG: fallback to use tag 0x7634706d/'mp4v'\n"
     ]
    },
    {
     "name": "stdout",
     "output_type": "stream",
     "text": [
      "비디오 저장 완료: UCF_Crimes_10crop/Videos/Testing_Normal_Videos_Anomaly/Normal_Videos_175_x264__4.mp4\n",
      "비디오 저장 완료: UCF_Crimes_10crop/Videos/Testing_Normal_Videos_Anomaly/Normal_Videos_175_x264__9.mp4\n",
      "320   240\n",
      "FPS: 30.0\n",
      "<class 'list'>\n",
      "<class 'numpy.ndarray'>\n",
      "(120, 160, 3)\n"
     ]
    },
    {
     "name": "stderr",
     "output_type": "stream",
     "text": [
      "OpenCV: FFMPEG: tag 0x44495658/'XVID' is not supported with codec id 12 and format 'mp4 / MP4 (MPEG-4 Part 14)'\n",
      "OpenCV: FFMPEG: fallback to use tag 0x7634706d/'mp4v'\n",
      "OpenCV: FFMPEG: tag 0x44495658/'XVID' is not supported with codec id 12 and format 'mp4 / MP4 (MPEG-4 Part 14)'\n",
      "OpenCV: FFMPEG: fallback to use tag 0x7634706d/'mp4v'\n"
     ]
    },
    {
     "name": "stdout",
     "output_type": "stream",
     "text": [
      "비디오 저장 완료: UCF_Crimes_10crop/Videos/Testing_Normal_Videos_Anomaly/Normal_Videos_934_x264__0.mp4\n",
      "비디오 저장 완료: UCF_Crimes_10crop/Videos/Testing_Normal_Videos_Anomaly/Normal_Videos_934_x264__5.mp4\n",
      "<class 'list'>\n",
      "<class 'numpy.ndarray'>\n",
      "(120, 160, 3)\n"
     ]
    },
    {
     "name": "stderr",
     "output_type": "stream",
     "text": [
      "OpenCV: FFMPEG: tag 0x44495658/'XVID' is not supported with codec id 12 and format 'mp4 / MP4 (MPEG-4 Part 14)'\n",
      "OpenCV: FFMPEG: fallback to use tag 0x7634706d/'mp4v'\n",
      "OpenCV: FFMPEG: tag 0x44495658/'XVID' is not supported with codec id 12 and format 'mp4 / MP4 (MPEG-4 Part 14)'\n",
      "OpenCV: FFMPEG: fallback to use tag 0x7634706d/'mp4v'\n"
     ]
    },
    {
     "name": "stdout",
     "output_type": "stream",
     "text": [
      "비디오 저장 완료: UCF_Crimes_10crop/Videos/Testing_Normal_Videos_Anomaly/Normal_Videos_934_x264__1.mp4\n",
      "비디오 저장 완료: UCF_Crimes_10crop/Videos/Testing_Normal_Videos_Anomaly/Normal_Videos_934_x264__6.mp4\n",
      "<class 'list'>\n",
      "<class 'numpy.ndarray'>\n",
      "(120, 160, 3)\n"
     ]
    },
    {
     "name": "stderr",
     "output_type": "stream",
     "text": [
      "OpenCV: FFMPEG: tag 0x44495658/'XVID' is not supported with codec id 12 and format 'mp4 / MP4 (MPEG-4 Part 14)'\n",
      "OpenCV: FFMPEG: fallback to use tag 0x7634706d/'mp4v'\n",
      "OpenCV: FFMPEG: tag 0x44495658/'XVID' is not supported with codec id 12 and format 'mp4 / MP4 (MPEG-4 Part 14)'\n",
      "OpenCV: FFMPEG: fallback to use tag 0x7634706d/'mp4v'\n"
     ]
    },
    {
     "name": "stdout",
     "output_type": "stream",
     "text": [
      "비디오 저장 완료: UCF_Crimes_10crop/Videos/Testing_Normal_Videos_Anomaly/Normal_Videos_934_x264__2.mp4\n",
      "비디오 저장 완료: UCF_Crimes_10crop/Videos/Testing_Normal_Videos_Anomaly/Normal_Videos_934_x264__7.mp4\n",
      "<class 'list'>\n",
      "<class 'numpy.ndarray'>\n",
      "(120, 160, 3)\n"
     ]
    },
    {
     "name": "stderr",
     "output_type": "stream",
     "text": [
      "OpenCV: FFMPEG: tag 0x44495658/'XVID' is not supported with codec id 12 and format 'mp4 / MP4 (MPEG-4 Part 14)'\n",
      "OpenCV: FFMPEG: fallback to use tag 0x7634706d/'mp4v'\n",
      "OpenCV: FFMPEG: tag 0x44495658/'XVID' is not supported with codec id 12 and format 'mp4 / MP4 (MPEG-4 Part 14)'\n",
      "OpenCV: FFMPEG: fallback to use tag 0x7634706d/'mp4v'\n"
     ]
    },
    {
     "name": "stdout",
     "output_type": "stream",
     "text": [
      "비디오 저장 완료: UCF_Crimes_10crop/Videos/Testing_Normal_Videos_Anomaly/Normal_Videos_934_x264__3.mp4\n",
      "비디오 저장 완료: UCF_Crimes_10crop/Videos/Testing_Normal_Videos_Anomaly/Normal_Videos_934_x264__8.mp4\n",
      "<class 'list'>\n",
      "<class 'numpy.ndarray'>\n",
      "(120, 160, 3)\n"
     ]
    },
    {
     "name": "stderr",
     "output_type": "stream",
     "text": [
      "OpenCV: FFMPEG: tag 0x44495658/'XVID' is not supported with codec id 12 and format 'mp4 / MP4 (MPEG-4 Part 14)'\n",
      "OpenCV: FFMPEG: fallback to use tag 0x7634706d/'mp4v'\n",
      "OpenCV: FFMPEG: tag 0x44495658/'XVID' is not supported with codec id 12 and format 'mp4 / MP4 (MPEG-4 Part 14)'\n",
      "OpenCV: FFMPEG: fallback to use tag 0x7634706d/'mp4v'\n"
     ]
    },
    {
     "name": "stdout",
     "output_type": "stream",
     "text": [
      "비디오 저장 완료: UCF_Crimes_10crop/Videos/Testing_Normal_Videos_Anomaly/Normal_Videos_934_x264__4.mp4\n",
      "비디오 저장 완료: UCF_Crimes_10crop/Videos/Testing_Normal_Videos_Anomaly/Normal_Videos_934_x264__9.mp4\n",
      "320   240\n",
      "FPS: 30.0\n",
      "<class 'list'>\n",
      "<class 'numpy.ndarray'>\n",
      "(120, 160, 3)\n"
     ]
    },
    {
     "name": "stderr",
     "output_type": "stream",
     "text": [
      "OpenCV: FFMPEG: tag 0x44495658/'XVID' is not supported with codec id 12 and format 'mp4 / MP4 (MPEG-4 Part 14)'\n",
      "OpenCV: FFMPEG: fallback to use tag 0x7634706d/'mp4v'\n",
      "OpenCV: FFMPEG: tag 0x44495658/'XVID' is not supported with codec id 12 and format 'mp4 / MP4 (MPEG-4 Part 14)'\n",
      "OpenCV: FFMPEG: fallback to use tag 0x7634706d/'mp4v'\n"
     ]
    },
    {
     "name": "stdout",
     "output_type": "stream",
     "text": [
      "비디오 저장 완료: UCF_Crimes_10crop/Videos/Testing_Normal_Videos_Anomaly/Normal_Videos_932_x264__0.mp4\n",
      "비디오 저장 완료: UCF_Crimes_10crop/Videos/Testing_Normal_Videos_Anomaly/Normal_Videos_932_x264__5.mp4\n",
      "<class 'list'>\n",
      "<class 'numpy.ndarray'>\n",
      "(120, 160, 3)\n"
     ]
    },
    {
     "name": "stderr",
     "output_type": "stream",
     "text": [
      "OpenCV: FFMPEG: tag 0x44495658/'XVID' is not supported with codec id 12 and format 'mp4 / MP4 (MPEG-4 Part 14)'\n",
      "OpenCV: FFMPEG: fallback to use tag 0x7634706d/'mp4v'\n",
      "OpenCV: FFMPEG: tag 0x44495658/'XVID' is not supported with codec id 12 and format 'mp4 / MP4 (MPEG-4 Part 14)'\n",
      "OpenCV: FFMPEG: fallback to use tag 0x7634706d/'mp4v'\n"
     ]
    },
    {
     "name": "stdout",
     "output_type": "stream",
     "text": [
      "비디오 저장 완료: UCF_Crimes_10crop/Videos/Testing_Normal_Videos_Anomaly/Normal_Videos_932_x264__1.mp4\n",
      "비디오 저장 완료: UCF_Crimes_10crop/Videos/Testing_Normal_Videos_Anomaly/Normal_Videos_932_x264__6.mp4\n",
      "<class 'list'>\n",
      "<class 'numpy.ndarray'>\n",
      "(120, 160, 3)\n"
     ]
    },
    {
     "name": "stderr",
     "output_type": "stream",
     "text": [
      "OpenCV: FFMPEG: tag 0x44495658/'XVID' is not supported with codec id 12 and format 'mp4 / MP4 (MPEG-4 Part 14)'\n",
      "OpenCV: FFMPEG: fallback to use tag 0x7634706d/'mp4v'\n",
      "OpenCV: FFMPEG: tag 0x44495658/'XVID' is not supported with codec id 12 and format 'mp4 / MP4 (MPEG-4 Part 14)'\n",
      "OpenCV: FFMPEG: fallback to use tag 0x7634706d/'mp4v'\n"
     ]
    },
    {
     "name": "stdout",
     "output_type": "stream",
     "text": [
      "비디오 저장 완료: UCF_Crimes_10crop/Videos/Testing_Normal_Videos_Anomaly/Normal_Videos_932_x264__2.mp4\n",
      "비디오 저장 완료: UCF_Crimes_10crop/Videos/Testing_Normal_Videos_Anomaly/Normal_Videos_932_x264__7.mp4\n",
      "<class 'list'>\n",
      "<class 'numpy.ndarray'>\n",
      "(120, 160, 3)\n"
     ]
    },
    {
     "name": "stderr",
     "output_type": "stream",
     "text": [
      "OpenCV: FFMPEG: tag 0x44495658/'XVID' is not supported with codec id 12 and format 'mp4 / MP4 (MPEG-4 Part 14)'\n",
      "OpenCV: FFMPEG: fallback to use tag 0x7634706d/'mp4v'\n",
      "OpenCV: FFMPEG: tag 0x44495658/'XVID' is not supported with codec id 12 and format 'mp4 / MP4 (MPEG-4 Part 14)'\n",
      "OpenCV: FFMPEG: fallback to use tag 0x7634706d/'mp4v'\n"
     ]
    },
    {
     "name": "stdout",
     "output_type": "stream",
     "text": [
      "비디오 저장 완료: UCF_Crimes_10crop/Videos/Testing_Normal_Videos_Anomaly/Normal_Videos_932_x264__3.mp4\n",
      "비디오 저장 완료: UCF_Crimes_10crop/Videos/Testing_Normal_Videos_Anomaly/Normal_Videos_932_x264__8.mp4\n",
      "<class 'list'>\n",
      "<class 'numpy.ndarray'>\n",
      "(120, 160, 3)\n"
     ]
    },
    {
     "name": "stderr",
     "output_type": "stream",
     "text": [
      "OpenCV: FFMPEG: tag 0x44495658/'XVID' is not supported with codec id 12 and format 'mp4 / MP4 (MPEG-4 Part 14)'\n",
      "OpenCV: FFMPEG: fallback to use tag 0x7634706d/'mp4v'\n",
      "OpenCV: FFMPEG: tag 0x44495658/'XVID' is not supported with codec id 12 and format 'mp4 / MP4 (MPEG-4 Part 14)'\n",
      "OpenCV: FFMPEG: fallback to use tag 0x7634706d/'mp4v'\n"
     ]
    },
    {
     "name": "stdout",
     "output_type": "stream",
     "text": [
      "비디오 저장 완료: UCF_Crimes_10crop/Videos/Testing_Normal_Videos_Anomaly/Normal_Videos_932_x264__4.mp4\n",
      "비디오 저장 완료: UCF_Crimes_10crop/Videos/Testing_Normal_Videos_Anomaly/Normal_Videos_932_x264__9.mp4\n",
      "320   240\n",
      "FPS: 30.0\n",
      "<class 'list'>\n",
      "<class 'numpy.ndarray'>\n",
      "(120, 160, 3)\n",
      "비디오 저장 완료: UCF_Crimes_10crop/Videos/Testing_Normal_Videos_Anomaly/Normal_Videos_903_x264__0.mp4\n",
      "비디오 저장 완료: UCF_Crimes_10crop/Videos/Testing_Normal_Videos_Anomaly/Normal_Videos_903_x264__5.mp4\n",
      "<class 'list'>\n",
      "<class 'numpy.ndarray'>\n",
      "(120, 160, 3)\n"
     ]
    },
    {
     "name": "stderr",
     "output_type": "stream",
     "text": [
      "OpenCV: FFMPEG: tag 0x44495658/'XVID' is not supported with codec id 12 and format 'mp4 / MP4 (MPEG-4 Part 14)'\n",
      "OpenCV: FFMPEG: fallback to use tag 0x7634706d/'mp4v'\n",
      "OpenCV: FFMPEG: tag 0x44495658/'XVID' is not supported with codec id 12 and format 'mp4 / MP4 (MPEG-4 Part 14)'\n",
      "OpenCV: FFMPEG: fallback to use tag 0x7634706d/'mp4v'\n",
      "OpenCV: FFMPEG: tag 0x44495658/'XVID' is not supported with codec id 12 and format 'mp4 / MP4 (MPEG-4 Part 14)'\n",
      "OpenCV: FFMPEG: fallback to use tag 0x7634706d/'mp4v'\n",
      "OpenCV: FFMPEG: tag 0x44495658/'XVID' is not supported with codec id 12 and format 'mp4 / MP4 (MPEG-4 Part 14)'\n",
      "OpenCV: FFMPEG: fallback to use tag 0x7634706d/'mp4v'\n"
     ]
    },
    {
     "name": "stdout",
     "output_type": "stream",
     "text": [
      "비디오 저장 완료: UCF_Crimes_10crop/Videos/Testing_Normal_Videos_Anomaly/Normal_Videos_903_x264__1.mp4\n",
      "비디오 저장 완료: UCF_Crimes_10crop/Videos/Testing_Normal_Videos_Anomaly/Normal_Videos_903_x264__6.mp4\n",
      "<class 'list'>\n",
      "<class 'numpy.ndarray'>\n",
      "(120, 160, 3)\n",
      "비디오 저장 완료: UCF_Crimes_10crop/Videos/Testing_Normal_Videos_Anomaly/Normal_Videos_903_x264__2.mp4\n",
      "비디오 저장 완료: UCF_Crimes_10crop/Videos/Testing_Normal_Videos_Anomaly/Normal_Videos_903_x264__7.mp4\n",
      "<class 'list'>\n",
      "<class 'numpy.ndarray'>\n",
      "(120, 160, 3)\n"
     ]
    },
    {
     "name": "stderr",
     "output_type": "stream",
     "text": [
      "OpenCV: FFMPEG: tag 0x44495658/'XVID' is not supported with codec id 12 and format 'mp4 / MP4 (MPEG-4 Part 14)'\n",
      "OpenCV: FFMPEG: fallback to use tag 0x7634706d/'mp4v'\n",
      "OpenCV: FFMPEG: tag 0x44495658/'XVID' is not supported with codec id 12 and format 'mp4 / MP4 (MPEG-4 Part 14)'\n",
      "OpenCV: FFMPEG: fallback to use tag 0x7634706d/'mp4v'\n",
      "OpenCV: FFMPEG: tag 0x44495658/'XVID' is not supported with codec id 12 and format 'mp4 / MP4 (MPEG-4 Part 14)'\n",
      "OpenCV: FFMPEG: fallback to use tag 0x7634706d/'mp4v'\n",
      "OpenCV: FFMPEG: tag 0x44495658/'XVID' is not supported with codec id 12 and format 'mp4 / MP4 (MPEG-4 Part 14)'\n",
      "OpenCV: FFMPEG: fallback to use tag 0x7634706d/'mp4v'\n"
     ]
    },
    {
     "name": "stdout",
     "output_type": "stream",
     "text": [
      "비디오 저장 완료: UCF_Crimes_10crop/Videos/Testing_Normal_Videos_Anomaly/Normal_Videos_903_x264__3.mp4\n",
      "비디오 저장 완료: UCF_Crimes_10crop/Videos/Testing_Normal_Videos_Anomaly/Normal_Videos_903_x264__8.mp4\n",
      "<class 'list'>\n",
      "<class 'numpy.ndarray'>\n",
      "(120, 160, 3)\n",
      "비디오 저장 완료: UCF_Crimes_10crop/Videos/Testing_Normal_Videos_Anomaly/Normal_Videos_903_x264__4.mp4\n",
      "비디오 저장 완료: UCF_Crimes_10crop/Videos/Testing_Normal_Videos_Anomaly/Normal_Videos_903_x264__9.mp4\n",
      "320   240\n",
      "FPS: 30.0\n"
     ]
    },
    {
     "name": "stderr",
     "output_type": "stream",
     "text": [
      "OpenCV: FFMPEG: tag 0x44495658/'XVID' is not supported with codec id 12 and format 'mp4 / MP4 (MPEG-4 Part 14)'\n",
      "OpenCV: FFMPEG: fallback to use tag 0x7634706d/'mp4v'\n",
      "OpenCV: FFMPEG: tag 0x44495658/'XVID' is not supported with codec id 12 and format 'mp4 / MP4 (MPEG-4 Part 14)'\n",
      "OpenCV: FFMPEG: fallback to use tag 0x7634706d/'mp4v'\n"
     ]
    },
    {
     "name": "stdout",
     "output_type": "stream",
     "text": [
      "<class 'list'>\n",
      "<class 'numpy.ndarray'>\n",
      "(120, 160, 3)\n"
     ]
    },
    {
     "name": "stderr",
     "output_type": "stream",
     "text": [
      "OpenCV: FFMPEG: tag 0x44495658/'XVID' is not supported with codec id 12 and format 'mp4 / MP4 (MPEG-4 Part 14)'\n",
      "OpenCV: FFMPEG: fallback to use tag 0x7634706d/'mp4v'\n",
      "OpenCV: FFMPEG: tag 0x44495658/'XVID' is not supported with codec id 12 and format 'mp4 / MP4 (MPEG-4 Part 14)'\n",
      "OpenCV: FFMPEG: fallback to use tag 0x7634706d/'mp4v'\n"
     ]
    },
    {
     "name": "stdout",
     "output_type": "stream",
     "text": [
      "비디오 저장 완료: UCF_Crimes_10crop/Videos/Testing_Normal_Videos_Anomaly/Normal_Videos_027_x264__0.mp4\n",
      "비디오 저장 완료: UCF_Crimes_10crop/Videos/Testing_Normal_Videos_Anomaly/Normal_Videos_027_x264__5.mp4\n",
      "<class 'list'>\n",
      "<class 'numpy.ndarray'>\n",
      "(120, 160, 3)\n"
     ]
    },
    {
     "name": "stderr",
     "output_type": "stream",
     "text": [
      "OpenCV: FFMPEG: tag 0x44495658/'XVID' is not supported with codec id 12 and format 'mp4 / MP4 (MPEG-4 Part 14)'\n",
      "OpenCV: FFMPEG: fallback to use tag 0x7634706d/'mp4v'\n",
      "OpenCV: FFMPEG: tag 0x44495658/'XVID' is not supported with codec id 12 and format 'mp4 / MP4 (MPEG-4 Part 14)'\n",
      "OpenCV: FFMPEG: fallback to use tag 0x7634706d/'mp4v'\n"
     ]
    },
    {
     "name": "stdout",
     "output_type": "stream",
     "text": [
      "비디오 저장 완료: UCF_Crimes_10crop/Videos/Testing_Normal_Videos_Anomaly/Normal_Videos_027_x264__1.mp4\n",
      "비디오 저장 완료: UCF_Crimes_10crop/Videos/Testing_Normal_Videos_Anomaly/Normal_Videos_027_x264__6.mp4\n",
      "<class 'list'>\n",
      "<class 'numpy.ndarray'>\n",
      "(120, 160, 3)\n"
     ]
    },
    {
     "name": "stderr",
     "output_type": "stream",
     "text": [
      "OpenCV: FFMPEG: tag 0x44495658/'XVID' is not supported with codec id 12 and format 'mp4 / MP4 (MPEG-4 Part 14)'\n",
      "OpenCV: FFMPEG: fallback to use tag 0x7634706d/'mp4v'\n",
      "OpenCV: FFMPEG: tag 0x44495658/'XVID' is not supported with codec id 12 and format 'mp4 / MP4 (MPEG-4 Part 14)'\n",
      "OpenCV: FFMPEG: fallback to use tag 0x7634706d/'mp4v'\n"
     ]
    },
    {
     "name": "stdout",
     "output_type": "stream",
     "text": [
      "비디오 저장 완료: UCF_Crimes_10crop/Videos/Testing_Normal_Videos_Anomaly/Normal_Videos_027_x264__2.mp4\n",
      "비디오 저장 완료: UCF_Crimes_10crop/Videos/Testing_Normal_Videos_Anomaly/Normal_Videos_027_x264__7.mp4\n",
      "<class 'list'>\n",
      "<class 'numpy.ndarray'>\n",
      "(120, 160, 3)\n"
     ]
    },
    {
     "name": "stderr",
     "output_type": "stream",
     "text": [
      "OpenCV: FFMPEG: tag 0x44495658/'XVID' is not supported with codec id 12 and format 'mp4 / MP4 (MPEG-4 Part 14)'\n",
      "OpenCV: FFMPEG: fallback to use tag 0x7634706d/'mp4v'\n",
      "OpenCV: FFMPEG: tag 0x44495658/'XVID' is not supported with codec id 12 and format 'mp4 / MP4 (MPEG-4 Part 14)'\n",
      "OpenCV: FFMPEG: fallback to use tag 0x7634706d/'mp4v'\n"
     ]
    },
    {
     "name": "stdout",
     "output_type": "stream",
     "text": [
      "비디오 저장 완료: UCF_Crimes_10crop/Videos/Testing_Normal_Videos_Anomaly/Normal_Videos_027_x264__3.mp4\n",
      "비디오 저장 완료: UCF_Crimes_10crop/Videos/Testing_Normal_Videos_Anomaly/Normal_Videos_027_x264__8.mp4\n",
      "<class 'list'>\n",
      "<class 'numpy.ndarray'>\n",
      "(120, 160, 3)\n"
     ]
    },
    {
     "name": "stderr",
     "output_type": "stream",
     "text": [
      "OpenCV: FFMPEG: tag 0x44495658/'XVID' is not supported with codec id 12 and format 'mp4 / MP4 (MPEG-4 Part 14)'\n",
      "OpenCV: FFMPEG: fallback to use tag 0x7634706d/'mp4v'\n",
      "OpenCV: FFMPEG: tag 0x44495658/'XVID' is not supported with codec id 12 and format 'mp4 / MP4 (MPEG-4 Part 14)'\n",
      "OpenCV: FFMPEG: fallback to use tag 0x7634706d/'mp4v'\n"
     ]
    },
    {
     "name": "stdout",
     "output_type": "stream",
     "text": [
      "비디오 저장 완료: UCF_Crimes_10crop/Videos/Testing_Normal_Videos_Anomaly/Normal_Videos_027_x264__4.mp4\n",
      "비디오 저장 완료: UCF_Crimes_10crop/Videos/Testing_Normal_Videos_Anomaly/Normal_Videos_027_x264__9.mp4\n",
      "320   240\n",
      "FPS: 30.0\n",
      "<class 'list'>\n",
      "<class 'numpy.ndarray'>\n",
      "(120, 160, 3)\n",
      "비디오 저장 완료: UCF_Crimes_10crop/Videos/Testing_Normal_Videos_Anomaly/Normal_Videos_345_x264__0.mp4\n",
      "비디오 저장 완료: UCF_Crimes_10crop/Videos/Testing_Normal_Videos_Anomaly/Normal_Videos_345_x264__5.mp4\n",
      "<class 'list'>\n",
      "<class 'numpy.ndarray'>\n",
      "(120, 160, 3)\n",
      "비디오 저장 완료: UCF_Crimes_10crop/Videos/Testing_Normal_Videos_Anomaly/Normal_Videos_345_x264__1.mp4\n",
      "비디오 저장 완료: UCF_Crimes_10crop/Videos/Testing_Normal_Videos_Anomaly/Normal_Videos_345_x264__6.mp4\n",
      "<class 'list'>\n",
      "<class 'numpy.ndarray'>\n",
      "(120, 160, 3)\n",
      "비디오 저장 완료: UCF_Crimes_10crop/Videos/Testing_Normal_Videos_Anomaly/Normal_Videos_345_x264__2.mp4\n",
      "비디오 저장 완료: UCF_Crimes_10crop/Videos/Testing_Normal_Videos_Anomaly/Normal_Videos_345_x264__7.mp4\n",
      "<class 'list'>\n",
      "<class 'numpy.ndarray'>\n",
      "(120, 160, 3)\n",
      "비디오 저장 완료: UCF_Crimes_10crop/Videos/Testing_Normal_Videos_Anomaly/Normal_Videos_345_x264__3.mp4\n",
      "비디오 저장 완료: UCF_Crimes_10crop/Videos/Testing_Normal_Videos_Anomaly/Normal_Videos_345_x264__8.mp4\n",
      "<class 'list'>\n",
      "<class 'numpy.ndarray'>\n",
      "(120, 160, 3)\n",
      "비디오 저장 완료: UCF_Crimes_10crop/Videos/Testing_Normal_Videos_Anomaly/Normal_Videos_345_x264__4.mp4\n",
      "비디오 저장 완료: UCF_Crimes_10crop/Videos/Testing_Normal_Videos_Anomaly/Normal_Videos_345_x264__9.mp4\n"
     ]
    },
    {
     "name": "stderr",
     "output_type": "stream",
     "text": [
      "OpenCV: FFMPEG: tag 0x44495658/'XVID' is not supported with codec id 12 and format 'mp4 / MP4 (MPEG-4 Part 14)'\n",
      "OpenCV: FFMPEG: fallback to use tag 0x7634706d/'mp4v'\n",
      "OpenCV: FFMPEG: tag 0x44495658/'XVID' is not supported with codec id 12 and format 'mp4 / MP4 (MPEG-4 Part 14)'\n",
      "OpenCV: FFMPEG: fallback to use tag 0x7634706d/'mp4v'\n",
      "OpenCV: FFMPEG: tag 0x44495658/'XVID' is not supported with codec id 12 and format 'mp4 / MP4 (MPEG-4 Part 14)'\n",
      "OpenCV: FFMPEG: fallback to use tag 0x7634706d/'mp4v'\n",
      "OpenCV: FFMPEG: tag 0x44495658/'XVID' is not supported with codec id 12 and format 'mp4 / MP4 (MPEG-4 Part 14)'\n",
      "OpenCV: FFMPEG: fallback to use tag 0x7634706d/'mp4v'\n",
      "OpenCV: FFMPEG: tag 0x44495658/'XVID' is not supported with codec id 12 and format 'mp4 / MP4 (MPEG-4 Part 14)'\n",
      "OpenCV: FFMPEG: fallback to use tag 0x7634706d/'mp4v'\n",
      "OpenCV: FFMPEG: tag 0x44495658/'XVID' is not supported with codec id 12 and format 'mp4 / MP4 (MPEG-4 Part 14)'\n",
      "OpenCV: FFMPEG: fallback to use tag 0x7634706d/'mp4v'\n",
      "OpenCV: FFMPEG: tag 0x44495658/'XVID' is not supported with codec id 12 and format 'mp4 / MP4 (MPEG-4 Part 14)'\n",
      "OpenCV: FFMPEG: fallback to use tag 0x7634706d/'mp4v'\n",
      "OpenCV: FFMPEG: tag 0x44495658/'XVID' is not supported with codec id 12 and format 'mp4 / MP4 (MPEG-4 Part 14)'\n",
      "OpenCV: FFMPEG: fallback to use tag 0x7634706d/'mp4v'\n",
      "OpenCV: FFMPEG: tag 0x44495658/'XVID' is not supported with codec id 12 and format 'mp4 / MP4 (MPEG-4 Part 14)'\n",
      "OpenCV: FFMPEG: fallback to use tag 0x7634706d/'mp4v'\n",
      "OpenCV: FFMPEG: tag 0x44495658/'XVID' is not supported with codec id 12 and format 'mp4 / MP4 (MPEG-4 Part 14)'\n",
      "OpenCV: FFMPEG: fallback to use tag 0x7634706d/'mp4v'\n"
     ]
    },
    {
     "name": "stdout",
     "output_type": "stream",
     "text": [
      "320   240\n",
      "FPS: 30.0\n",
      "<class 'list'>\n",
      "<class 'numpy.ndarray'>\n",
      "(120, 160, 3)\n",
      "비디오 저장 완료: UCF_Crimes_10crop/Videos/Testing_Normal_Videos_Anomaly/Normal_Videos_881_x264__0.mp4\n",
      "비디오 저장 완료: UCF_Crimes_10crop/Videos/Testing_Normal_Videos_Anomaly/Normal_Videos_881_x264__5.mp4\n",
      "<class 'list'>\n",
      "<class 'numpy.ndarray'>\n",
      "(120, 160, 3)\n",
      "비디오 저장 완료: UCF_Crimes_10crop/Videos/Testing_Normal_Videos_Anomaly/Normal_Videos_881_x264__1.mp4\n",
      "비디오 저장 완료: UCF_Crimes_10crop/Videos/Testing_Normal_Videos_Anomaly/Normal_Videos_881_x264__6.mp4\n",
      "<class 'list'>\n",
      "<class 'numpy.ndarray'>\n",
      "(120, 160, 3)\n",
      "비디오 저장 완료: UCF_Crimes_10crop/Videos/Testing_Normal_Videos_Anomaly/Normal_Videos_881_x264__2.mp4\n",
      "비디오 저장 완료: UCF_Crimes_10crop/Videos/Testing_Normal_Videos_Anomaly/Normal_Videos_881_x264__7.mp4\n",
      "<class 'list'>\n",
      "<class 'numpy.ndarray'>\n",
      "(120, 160, 3)\n",
      "비디오 저장 완료: UCF_Crimes_10crop/Videos/Testing_Normal_Videos_Anomaly/Normal_Videos_881_x264__3.mp4\n",
      "비디오 저장 완료: UCF_Crimes_10crop/Videos/Testing_Normal_Videos_Anomaly/Normal_Videos_881_x264__8.mp4\n",
      "<class 'list'>\n",
      "<class 'numpy.ndarray'>\n",
      "(120, 160, 3)\n",
      "비디오 저장 완료: UCF_Crimes_10crop/Videos/Testing_Normal_Videos_Anomaly/Normal_Videos_881_x264__4.mp4\n",
      "비디오 저장 완료: UCF_Crimes_10crop/Videos/Testing_Normal_Videos_Anomaly/Normal_Videos_881_x264__9.mp4\n"
     ]
    },
    {
     "name": "stderr",
     "output_type": "stream",
     "text": [
      "OpenCV: FFMPEG: tag 0x44495658/'XVID' is not supported with codec id 12 and format 'mp4 / MP4 (MPEG-4 Part 14)'\n",
      "OpenCV: FFMPEG: fallback to use tag 0x7634706d/'mp4v'\n",
      "OpenCV: FFMPEG: tag 0x44495658/'XVID' is not supported with codec id 12 and format 'mp4 / MP4 (MPEG-4 Part 14)'\n",
      "OpenCV: FFMPEG: fallback to use tag 0x7634706d/'mp4v'\n",
      "OpenCV: FFMPEG: tag 0x44495658/'XVID' is not supported with codec id 12 and format 'mp4 / MP4 (MPEG-4 Part 14)'\n",
      "OpenCV: FFMPEG: fallback to use tag 0x7634706d/'mp4v'\n",
      "OpenCV: FFMPEG: tag 0x44495658/'XVID' is not supported with codec id 12 and format 'mp4 / MP4 (MPEG-4 Part 14)'\n",
      "OpenCV: FFMPEG: fallback to use tag 0x7634706d/'mp4v'\n",
      "OpenCV: FFMPEG: tag 0x44495658/'XVID' is not supported with codec id 12 and format 'mp4 / MP4 (MPEG-4 Part 14)'\n",
      "OpenCV: FFMPEG: fallback to use tag 0x7634706d/'mp4v'\n",
      "OpenCV: FFMPEG: tag 0x44495658/'XVID' is not supported with codec id 12 and format 'mp4 / MP4 (MPEG-4 Part 14)'\n",
      "OpenCV: FFMPEG: fallback to use tag 0x7634706d/'mp4v'\n",
      "OpenCV: FFMPEG: tag 0x44495658/'XVID' is not supported with codec id 12 and format 'mp4 / MP4 (MPEG-4 Part 14)'\n",
      "OpenCV: FFMPEG: fallback to use tag 0x7634706d/'mp4v'\n",
      "OpenCV: FFMPEG: tag 0x44495658/'XVID' is not supported with codec id 12 and format 'mp4 / MP4 (MPEG-4 Part 14)'\n",
      "OpenCV: FFMPEG: fallback to use tag 0x7634706d/'mp4v'\n",
      "OpenCV: FFMPEG: tag 0x44495658/'XVID' is not supported with codec id 12 and format 'mp4 / MP4 (MPEG-4 Part 14)'\n",
      "OpenCV: FFMPEG: fallback to use tag 0x7634706d/'mp4v'\n",
      "OpenCV: FFMPEG: tag 0x44495658/'XVID' is not supported with codec id 12 and format 'mp4 / MP4 (MPEG-4 Part 14)'\n",
      "OpenCV: FFMPEG: fallback to use tag 0x7634706d/'mp4v'\n"
     ]
    },
    {
     "name": "stdout",
     "output_type": "stream",
     "text": [
      "320   240\n",
      "FPS: 30.0\n",
      "<class 'list'>\n",
      "<class 'numpy.ndarray'>\n",
      "(120, 160, 3)\n"
     ]
    },
    {
     "name": "stderr",
     "output_type": "stream",
     "text": [
      "OpenCV: FFMPEG: tag 0x44495658/'XVID' is not supported with codec id 12 and format 'mp4 / MP4 (MPEG-4 Part 14)'\n",
      "OpenCV: FFMPEG: fallback to use tag 0x7634706d/'mp4v'\n",
      "OpenCV: FFMPEG: tag 0x44495658/'XVID' is not supported with codec id 12 and format 'mp4 / MP4 (MPEG-4 Part 14)'\n",
      "OpenCV: FFMPEG: fallback to use tag 0x7634706d/'mp4v'\n"
     ]
    },
    {
     "name": "stdout",
     "output_type": "stream",
     "text": [
      "비디오 저장 완료: UCF_Crimes_10crop/Videos/Testing_Normal_Videos_Anomaly/Normal_Videos_182_x264__0.mp4\n",
      "비디오 저장 완료: UCF_Crimes_10crop/Videos/Testing_Normal_Videos_Anomaly/Normal_Videos_182_x264__5.mp4\n",
      "<class 'list'>\n",
      "<class 'numpy.ndarray'>\n",
      "(120, 160, 3)\n"
     ]
    },
    {
     "name": "stderr",
     "output_type": "stream",
     "text": [
      "OpenCV: FFMPEG: tag 0x44495658/'XVID' is not supported with codec id 12 and format 'mp4 / MP4 (MPEG-4 Part 14)'\n",
      "OpenCV: FFMPEG: fallback to use tag 0x7634706d/'mp4v'\n",
      "OpenCV: FFMPEG: tag 0x44495658/'XVID' is not supported with codec id 12 and format 'mp4 / MP4 (MPEG-4 Part 14)'\n",
      "OpenCV: FFMPEG: fallback to use tag 0x7634706d/'mp4v'\n"
     ]
    },
    {
     "name": "stdout",
     "output_type": "stream",
     "text": [
      "비디오 저장 완료: UCF_Crimes_10crop/Videos/Testing_Normal_Videos_Anomaly/Normal_Videos_182_x264__1.mp4\n",
      "비디오 저장 완료: UCF_Crimes_10crop/Videos/Testing_Normal_Videos_Anomaly/Normal_Videos_182_x264__6.mp4\n",
      "<class 'list'>\n",
      "<class 'numpy.ndarray'>\n",
      "(120, 160, 3)\n"
     ]
    },
    {
     "name": "stderr",
     "output_type": "stream",
     "text": [
      "OpenCV: FFMPEG: tag 0x44495658/'XVID' is not supported with codec id 12 and format 'mp4 / MP4 (MPEG-4 Part 14)'\n",
      "OpenCV: FFMPEG: fallback to use tag 0x7634706d/'mp4v'\n",
      "OpenCV: FFMPEG: tag 0x44495658/'XVID' is not supported with codec id 12 and format 'mp4 / MP4 (MPEG-4 Part 14)'\n",
      "OpenCV: FFMPEG: fallback to use tag 0x7634706d/'mp4v'\n"
     ]
    },
    {
     "name": "stdout",
     "output_type": "stream",
     "text": [
      "비디오 저장 완료: UCF_Crimes_10crop/Videos/Testing_Normal_Videos_Anomaly/Normal_Videos_182_x264__2.mp4\n",
      "비디오 저장 완료: UCF_Crimes_10crop/Videos/Testing_Normal_Videos_Anomaly/Normal_Videos_182_x264__7.mp4\n",
      "<class 'list'>\n",
      "<class 'numpy.ndarray'>\n",
      "(120, 160, 3)\n"
     ]
    },
    {
     "name": "stderr",
     "output_type": "stream",
     "text": [
      "OpenCV: FFMPEG: tag 0x44495658/'XVID' is not supported with codec id 12 and format 'mp4 / MP4 (MPEG-4 Part 14)'\n",
      "OpenCV: FFMPEG: fallback to use tag 0x7634706d/'mp4v'\n",
      "OpenCV: FFMPEG: tag 0x44495658/'XVID' is not supported with codec id 12 and format 'mp4 / MP4 (MPEG-4 Part 14)'\n",
      "OpenCV: FFMPEG: fallback to use tag 0x7634706d/'mp4v'\n"
     ]
    },
    {
     "name": "stdout",
     "output_type": "stream",
     "text": [
      "비디오 저장 완료: UCF_Crimes_10crop/Videos/Testing_Normal_Videos_Anomaly/Normal_Videos_182_x264__3.mp4\n",
      "비디오 저장 완료: UCF_Crimes_10crop/Videos/Testing_Normal_Videos_Anomaly/Normal_Videos_182_x264__8.mp4\n",
      "<class 'list'>\n",
      "<class 'numpy.ndarray'>\n",
      "(120, 160, 3)\n"
     ]
    },
    {
     "name": "stderr",
     "output_type": "stream",
     "text": [
      "OpenCV: FFMPEG: tag 0x44495658/'XVID' is not supported with codec id 12 and format 'mp4 / MP4 (MPEG-4 Part 14)'\n",
      "OpenCV: FFMPEG: fallback to use tag 0x7634706d/'mp4v'\n",
      "OpenCV: FFMPEG: tag 0x44495658/'XVID' is not supported with codec id 12 and format 'mp4 / MP4 (MPEG-4 Part 14)'\n",
      "OpenCV: FFMPEG: fallback to use tag 0x7634706d/'mp4v'\n"
     ]
    },
    {
     "name": "stdout",
     "output_type": "stream",
     "text": [
      "비디오 저장 완료: UCF_Crimes_10crop/Videos/Testing_Normal_Videos_Anomaly/Normal_Videos_182_x264__4.mp4\n",
      "비디오 저장 완료: UCF_Crimes_10crop/Videos/Testing_Normal_Videos_Anomaly/Normal_Videos_182_x264__9.mp4\n",
      "320   240\n",
      "FPS: 30.0\n",
      "<class 'list'>\n",
      "<class 'numpy.ndarray'>\n",
      "(120, 160, 3)\n"
     ]
    },
    {
     "name": "stderr",
     "output_type": "stream",
     "text": [
      "OpenCV: FFMPEG: tag 0x44495658/'XVID' is not supported with codec id 12 and format 'mp4 / MP4 (MPEG-4 Part 14)'\n",
      "OpenCV: FFMPEG: fallback to use tag 0x7634706d/'mp4v'\n",
      "OpenCV: FFMPEG: tag 0x44495658/'XVID' is not supported with codec id 12 and format 'mp4 / MP4 (MPEG-4 Part 14)'\n",
      "OpenCV: FFMPEG: fallback to use tag 0x7634706d/'mp4v'\n"
     ]
    },
    {
     "name": "stdout",
     "output_type": "stream",
     "text": [
      "비디오 저장 완료: UCF_Crimes_10crop/Videos/Testing_Normal_Videos_Anomaly/Normal_Videos_868_x264__0.mp4\n",
      "비디오 저장 완료: UCF_Crimes_10crop/Videos/Testing_Normal_Videos_Anomaly/Normal_Videos_868_x264__5.mp4\n",
      "<class 'list'>\n",
      "<class 'numpy.ndarray'>\n",
      "(120, 160, 3)\n"
     ]
    },
    {
     "name": "stderr",
     "output_type": "stream",
     "text": [
      "OpenCV: FFMPEG: tag 0x44495658/'XVID' is not supported with codec id 12 and format 'mp4 / MP4 (MPEG-4 Part 14)'\n",
      "OpenCV: FFMPEG: fallback to use tag 0x7634706d/'mp4v'\n",
      "OpenCV: FFMPEG: tag 0x44495658/'XVID' is not supported with codec id 12 and format 'mp4 / MP4 (MPEG-4 Part 14)'\n",
      "OpenCV: FFMPEG: fallback to use tag 0x7634706d/'mp4v'\n"
     ]
    },
    {
     "name": "stdout",
     "output_type": "stream",
     "text": [
      "비디오 저장 완료: UCF_Crimes_10crop/Videos/Testing_Normal_Videos_Anomaly/Normal_Videos_868_x264__1.mp4\n",
      "비디오 저장 완료: UCF_Crimes_10crop/Videos/Testing_Normal_Videos_Anomaly/Normal_Videos_868_x264__6.mp4\n",
      "<class 'list'>\n",
      "<class 'numpy.ndarray'>\n",
      "(120, 160, 3)\n"
     ]
    },
    {
     "name": "stderr",
     "output_type": "stream",
     "text": [
      "OpenCV: FFMPEG: tag 0x44495658/'XVID' is not supported with codec id 12 and format 'mp4 / MP4 (MPEG-4 Part 14)'\n",
      "OpenCV: FFMPEG: fallback to use tag 0x7634706d/'mp4v'\n",
      "OpenCV: FFMPEG: tag 0x44495658/'XVID' is not supported with codec id 12 and format 'mp4 / MP4 (MPEG-4 Part 14)'\n",
      "OpenCV: FFMPEG: fallback to use tag 0x7634706d/'mp4v'\n"
     ]
    },
    {
     "name": "stdout",
     "output_type": "stream",
     "text": [
      "비디오 저장 완료: UCF_Crimes_10crop/Videos/Testing_Normal_Videos_Anomaly/Normal_Videos_868_x264__2.mp4\n",
      "비디오 저장 완료: UCF_Crimes_10crop/Videos/Testing_Normal_Videos_Anomaly/Normal_Videos_868_x264__7.mp4\n",
      "<class 'list'>\n",
      "<class 'numpy.ndarray'>\n",
      "(120, 160, 3)\n"
     ]
    },
    {
     "name": "stderr",
     "output_type": "stream",
     "text": [
      "OpenCV: FFMPEG: tag 0x44495658/'XVID' is not supported with codec id 12 and format 'mp4 / MP4 (MPEG-4 Part 14)'\n",
      "OpenCV: FFMPEG: fallback to use tag 0x7634706d/'mp4v'\n",
      "OpenCV: FFMPEG: tag 0x44495658/'XVID' is not supported with codec id 12 and format 'mp4 / MP4 (MPEG-4 Part 14)'\n",
      "OpenCV: FFMPEG: fallback to use tag 0x7634706d/'mp4v'\n"
     ]
    },
    {
     "name": "stdout",
     "output_type": "stream",
     "text": [
      "비디오 저장 완료: UCF_Crimes_10crop/Videos/Testing_Normal_Videos_Anomaly/Normal_Videos_868_x264__3.mp4\n",
      "비디오 저장 완료: UCF_Crimes_10crop/Videos/Testing_Normal_Videos_Anomaly/Normal_Videos_868_x264__8.mp4\n",
      "<class 'list'>\n",
      "<class 'numpy.ndarray'>\n",
      "(120, 160, 3)\n"
     ]
    },
    {
     "name": "stderr",
     "output_type": "stream",
     "text": [
      "OpenCV: FFMPEG: tag 0x44495658/'XVID' is not supported with codec id 12 and format 'mp4 / MP4 (MPEG-4 Part 14)'\n",
      "OpenCV: FFMPEG: fallback to use tag 0x7634706d/'mp4v'\n",
      "OpenCV: FFMPEG: tag 0x44495658/'XVID' is not supported with codec id 12 and format 'mp4 / MP4 (MPEG-4 Part 14)'\n",
      "OpenCV: FFMPEG: fallback to use tag 0x7634706d/'mp4v'\n"
     ]
    },
    {
     "name": "stdout",
     "output_type": "stream",
     "text": [
      "비디오 저장 완료: UCF_Crimes_10crop/Videos/Testing_Normal_Videos_Anomaly/Normal_Videos_868_x264__4.mp4\n",
      "비디오 저장 완료: UCF_Crimes_10crop/Videos/Testing_Normal_Videos_Anomaly/Normal_Videos_868_x264__9.mp4\n",
      "320   240\n",
      "FPS: 30.0\n",
      "<class 'list'>\n",
      "<class 'numpy.ndarray'>\n",
      "(120, 160, 3)\n",
      "비디오 저장 완료: UCF_Crimes_10crop/Videos/Testing_Normal_Videos_Anomaly/Normal_Videos_908_x264__0.mp4\n",
      "비디오 저장 완료: UCF_Crimes_10crop/Videos/Testing_Normal_Videos_Anomaly/Normal_Videos_908_x264__5.mp4\n",
      "<class 'list'>\n",
      "<class 'numpy.ndarray'>\n",
      "(120, 160, 3)\n"
     ]
    },
    {
     "name": "stderr",
     "output_type": "stream",
     "text": [
      "OpenCV: FFMPEG: tag 0x44495658/'XVID' is not supported with codec id 12 and format 'mp4 / MP4 (MPEG-4 Part 14)'\n",
      "OpenCV: FFMPEG: fallback to use tag 0x7634706d/'mp4v'\n",
      "OpenCV: FFMPEG: tag 0x44495658/'XVID' is not supported with codec id 12 and format 'mp4 / MP4 (MPEG-4 Part 14)'\n",
      "OpenCV: FFMPEG: fallback to use tag 0x7634706d/'mp4v'\n",
      "OpenCV: FFMPEG: tag 0x44495658/'XVID' is not supported with codec id 12 and format 'mp4 / MP4 (MPEG-4 Part 14)'\n",
      "OpenCV: FFMPEG: fallback to use tag 0x7634706d/'mp4v'\n",
      "OpenCV: FFMPEG: tag 0x44495658/'XVID' is not supported with codec id 12 and format 'mp4 / MP4 (MPEG-4 Part 14)'\n",
      "OpenCV: FFMPEG: fallback to use tag 0x7634706d/'mp4v'\n"
     ]
    },
    {
     "name": "stdout",
     "output_type": "stream",
     "text": [
      "비디오 저장 완료: UCF_Crimes_10crop/Videos/Testing_Normal_Videos_Anomaly/Normal_Videos_908_x264__1.mp4\n",
      "비디오 저장 완료: UCF_Crimes_10crop/Videos/Testing_Normal_Videos_Anomaly/Normal_Videos_908_x264__6.mp4\n",
      "<class 'list'>\n",
      "<class 'numpy.ndarray'>\n",
      "(120, 160, 3)\n",
      "비디오 저장 완료: UCF_Crimes_10crop/Videos/Testing_Normal_Videos_Anomaly/Normal_Videos_908_x264__2.mp4\n",
      "비디오 저장 완료: UCF_Crimes_10crop/Videos/Testing_Normal_Videos_Anomaly/Normal_Videos_908_x264__7.mp4\n",
      "<class 'list'>\n",
      "<class 'numpy.ndarray'>\n",
      "(120, 160, 3)\n"
     ]
    },
    {
     "name": "stderr",
     "output_type": "stream",
     "text": [
      "OpenCV: FFMPEG: tag 0x44495658/'XVID' is not supported with codec id 12 and format 'mp4 / MP4 (MPEG-4 Part 14)'\n",
      "OpenCV: FFMPEG: fallback to use tag 0x7634706d/'mp4v'\n",
      "OpenCV: FFMPEG: tag 0x44495658/'XVID' is not supported with codec id 12 and format 'mp4 / MP4 (MPEG-4 Part 14)'\n",
      "OpenCV: FFMPEG: fallback to use tag 0x7634706d/'mp4v'\n",
      "OpenCV: FFMPEG: tag 0x44495658/'XVID' is not supported with codec id 12 and format 'mp4 / MP4 (MPEG-4 Part 14)'\n",
      "OpenCV: FFMPEG: fallback to use tag 0x7634706d/'mp4v'\n",
      "OpenCV: FFMPEG: tag 0x44495658/'XVID' is not supported with codec id 12 and format 'mp4 / MP4 (MPEG-4 Part 14)'\n",
      "OpenCV: FFMPEG: fallback to use tag 0x7634706d/'mp4v'\n"
     ]
    },
    {
     "name": "stdout",
     "output_type": "stream",
     "text": [
      "비디오 저장 완료: UCF_Crimes_10crop/Videos/Testing_Normal_Videos_Anomaly/Normal_Videos_908_x264__3.mp4\n",
      "비디오 저장 완료: UCF_Crimes_10crop/Videos/Testing_Normal_Videos_Anomaly/Normal_Videos_908_x264__8.mp4\n",
      "<class 'list'>\n",
      "<class 'numpy.ndarray'>\n",
      "(120, 160, 3)\n",
      "비디오 저장 완료: UCF_Crimes_10crop/Videos/Testing_Normal_Videos_Anomaly/Normal_Videos_908_x264__4.mp4\n",
      "비디오 저장 완료: UCF_Crimes_10crop/Videos/Testing_Normal_Videos_Anomaly/Normal_Videos_908_x264__9.mp4\n",
      "320   240\n",
      "FPS: 30.0\n"
     ]
    },
    {
     "name": "stderr",
     "output_type": "stream",
     "text": [
      "OpenCV: FFMPEG: tag 0x44495658/'XVID' is not supported with codec id 12 and format 'mp4 / MP4 (MPEG-4 Part 14)'\n",
      "OpenCV: FFMPEG: fallback to use tag 0x7634706d/'mp4v'\n",
      "OpenCV: FFMPEG: tag 0x44495658/'XVID' is not supported with codec id 12 and format 'mp4 / MP4 (MPEG-4 Part 14)'\n",
      "OpenCV: FFMPEG: fallback to use tag 0x7634706d/'mp4v'\n"
     ]
    },
    {
     "name": "stdout",
     "output_type": "stream",
     "text": [
      "<class 'list'>\n",
      "<class 'numpy.ndarray'>\n",
      "(120, 160, 3)\n"
     ]
    },
    {
     "name": "stderr",
     "output_type": "stream",
     "text": [
      "OpenCV: FFMPEG: tag 0x44495658/'XVID' is not supported with codec id 12 and format 'mp4 / MP4 (MPEG-4 Part 14)'\n",
      "OpenCV: FFMPEG: fallback to use tag 0x7634706d/'mp4v'\n",
      "OpenCV: FFMPEG: tag 0x44495658/'XVID' is not supported with codec id 12 and format 'mp4 / MP4 (MPEG-4 Part 14)'\n",
      "OpenCV: FFMPEG: fallback to use tag 0x7634706d/'mp4v'\n"
     ]
    },
    {
     "name": "stdout",
     "output_type": "stream",
     "text": [
      "비디오 저장 완료: UCF_Crimes_10crop/Videos/Testing_Normal_Videos_Anomaly/Normal_Videos_925_x264__0.mp4\n",
      "비디오 저장 완료: UCF_Crimes_10crop/Videos/Testing_Normal_Videos_Anomaly/Normal_Videos_925_x264__5.mp4\n",
      "<class 'list'>\n",
      "<class 'numpy.ndarray'>\n",
      "(120, 160, 3)\n"
     ]
    },
    {
     "name": "stderr",
     "output_type": "stream",
     "text": [
      "OpenCV: FFMPEG: tag 0x44495658/'XVID' is not supported with codec id 12 and format 'mp4 / MP4 (MPEG-4 Part 14)'\n",
      "OpenCV: FFMPEG: fallback to use tag 0x7634706d/'mp4v'\n",
      "OpenCV: FFMPEG: tag 0x44495658/'XVID' is not supported with codec id 12 and format 'mp4 / MP4 (MPEG-4 Part 14)'\n",
      "OpenCV: FFMPEG: fallback to use tag 0x7634706d/'mp4v'\n"
     ]
    },
    {
     "name": "stdout",
     "output_type": "stream",
     "text": [
      "비디오 저장 완료: UCF_Crimes_10crop/Videos/Testing_Normal_Videos_Anomaly/Normal_Videos_925_x264__1.mp4\n",
      "비디오 저장 완료: UCF_Crimes_10crop/Videos/Testing_Normal_Videos_Anomaly/Normal_Videos_925_x264__6.mp4\n",
      "<class 'list'>\n",
      "<class 'numpy.ndarray'>\n",
      "(120, 160, 3)\n"
     ]
    },
    {
     "name": "stderr",
     "output_type": "stream",
     "text": [
      "OpenCV: FFMPEG: tag 0x44495658/'XVID' is not supported with codec id 12 and format 'mp4 / MP4 (MPEG-4 Part 14)'\n",
      "OpenCV: FFMPEG: fallback to use tag 0x7634706d/'mp4v'\n",
      "OpenCV: FFMPEG: tag 0x44495658/'XVID' is not supported with codec id 12 and format 'mp4 / MP4 (MPEG-4 Part 14)'\n",
      "OpenCV: FFMPEG: fallback to use tag 0x7634706d/'mp4v'\n"
     ]
    },
    {
     "name": "stdout",
     "output_type": "stream",
     "text": [
      "비디오 저장 완료: UCF_Crimes_10crop/Videos/Testing_Normal_Videos_Anomaly/Normal_Videos_925_x264__2.mp4\n",
      "비디오 저장 완료: UCF_Crimes_10crop/Videos/Testing_Normal_Videos_Anomaly/Normal_Videos_925_x264__7.mp4\n",
      "<class 'list'>\n",
      "<class 'numpy.ndarray'>\n",
      "(120, 160, 3)\n"
     ]
    },
    {
     "name": "stderr",
     "output_type": "stream",
     "text": [
      "OpenCV: FFMPEG: tag 0x44495658/'XVID' is not supported with codec id 12 and format 'mp4 / MP4 (MPEG-4 Part 14)'\n",
      "OpenCV: FFMPEG: fallback to use tag 0x7634706d/'mp4v'\n",
      "OpenCV: FFMPEG: tag 0x44495658/'XVID' is not supported with codec id 12 and format 'mp4 / MP4 (MPEG-4 Part 14)'\n",
      "OpenCV: FFMPEG: fallback to use tag 0x7634706d/'mp4v'\n"
     ]
    },
    {
     "name": "stdout",
     "output_type": "stream",
     "text": [
      "비디오 저장 완료: UCF_Crimes_10crop/Videos/Testing_Normal_Videos_Anomaly/Normal_Videos_925_x264__3.mp4\n",
      "비디오 저장 완료: UCF_Crimes_10crop/Videos/Testing_Normal_Videos_Anomaly/Normal_Videos_925_x264__8.mp4\n",
      "<class 'list'>\n",
      "<class 'numpy.ndarray'>\n",
      "(120, 160, 3)\n"
     ]
    },
    {
     "name": "stderr",
     "output_type": "stream",
     "text": [
      "OpenCV: FFMPEG: tag 0x44495658/'XVID' is not supported with codec id 12 and format 'mp4 / MP4 (MPEG-4 Part 14)'\n",
      "OpenCV: FFMPEG: fallback to use tag 0x7634706d/'mp4v'\n",
      "OpenCV: FFMPEG: tag 0x44495658/'XVID' is not supported with codec id 12 and format 'mp4 / MP4 (MPEG-4 Part 14)'\n",
      "OpenCV: FFMPEG: fallback to use tag 0x7634706d/'mp4v'\n"
     ]
    },
    {
     "name": "stdout",
     "output_type": "stream",
     "text": [
      "비디오 저장 완료: UCF_Crimes_10crop/Videos/Testing_Normal_Videos_Anomaly/Normal_Videos_925_x264__4.mp4\n",
      "비디오 저장 완료: UCF_Crimes_10crop/Videos/Testing_Normal_Videos_Anomaly/Normal_Videos_925_x264__9.mp4\n",
      "320   240\n",
      "FPS: 30.0\n",
      "<class 'list'>\n",
      "<class 'numpy.ndarray'>\n",
      "(120, 160, 3)\n"
     ]
    },
    {
     "name": "stderr",
     "output_type": "stream",
     "text": [
      "OpenCV: FFMPEG: tag 0x44495658/'XVID' is not supported with codec id 12 and format 'mp4 / MP4 (MPEG-4 Part 14)'\n",
      "OpenCV: FFMPEG: fallback to use tag 0x7634706d/'mp4v'\n",
      "OpenCV: FFMPEG: tag 0x44495658/'XVID' is not supported with codec id 12 and format 'mp4 / MP4 (MPEG-4 Part 14)'\n",
      "OpenCV: FFMPEG: fallback to use tag 0x7634706d/'mp4v'\n"
     ]
    },
    {
     "name": "stdout",
     "output_type": "stream",
     "text": [
      "비디오 저장 완료: UCF_Crimes_10crop/Videos/Testing_Normal_Videos_Anomaly/Normal_Videos_603_x264__0.mp4\n",
      "비디오 저장 완료: UCF_Crimes_10crop/Videos/Testing_Normal_Videos_Anomaly/Normal_Videos_603_x264__5.mp4\n",
      "<class 'list'>\n",
      "<class 'numpy.ndarray'>\n",
      "(120, 160, 3)\n"
     ]
    },
    {
     "name": "stderr",
     "output_type": "stream",
     "text": [
      "OpenCV: FFMPEG: tag 0x44495658/'XVID' is not supported with codec id 12 and format 'mp4 / MP4 (MPEG-4 Part 14)'\n",
      "OpenCV: FFMPEG: fallback to use tag 0x7634706d/'mp4v'\n",
      "OpenCV: FFMPEG: tag 0x44495658/'XVID' is not supported with codec id 12 and format 'mp4 / MP4 (MPEG-4 Part 14)'\n",
      "OpenCV: FFMPEG: fallback to use tag 0x7634706d/'mp4v'\n"
     ]
    },
    {
     "name": "stdout",
     "output_type": "stream",
     "text": [
      "비디오 저장 완료: UCF_Crimes_10crop/Videos/Testing_Normal_Videos_Anomaly/Normal_Videos_603_x264__1.mp4\n",
      "비디오 저장 완료: UCF_Crimes_10crop/Videos/Testing_Normal_Videos_Anomaly/Normal_Videos_603_x264__6.mp4\n",
      "<class 'list'>\n",
      "<class 'numpy.ndarray'>\n",
      "(120, 160, 3)\n"
     ]
    },
    {
     "name": "stderr",
     "output_type": "stream",
     "text": [
      "OpenCV: FFMPEG: tag 0x44495658/'XVID' is not supported with codec id 12 and format 'mp4 / MP4 (MPEG-4 Part 14)'\n",
      "OpenCV: FFMPEG: fallback to use tag 0x7634706d/'mp4v'\n",
      "OpenCV: FFMPEG: tag 0x44495658/'XVID' is not supported with codec id 12 and format 'mp4 / MP4 (MPEG-4 Part 14)'\n",
      "OpenCV: FFMPEG: fallback to use tag 0x7634706d/'mp4v'\n"
     ]
    },
    {
     "name": "stdout",
     "output_type": "stream",
     "text": [
      "비디오 저장 완료: UCF_Crimes_10crop/Videos/Testing_Normal_Videos_Anomaly/Normal_Videos_603_x264__2.mp4\n",
      "비디오 저장 완료: UCF_Crimes_10crop/Videos/Testing_Normal_Videos_Anomaly/Normal_Videos_603_x264__7.mp4\n",
      "<class 'list'>\n",
      "<class 'numpy.ndarray'>\n",
      "(120, 160, 3)\n"
     ]
    },
    {
     "name": "stderr",
     "output_type": "stream",
     "text": [
      "OpenCV: FFMPEG: tag 0x44495658/'XVID' is not supported with codec id 12 and format 'mp4 / MP4 (MPEG-4 Part 14)'\n",
      "OpenCV: FFMPEG: fallback to use tag 0x7634706d/'mp4v'\n",
      "OpenCV: FFMPEG: tag 0x44495658/'XVID' is not supported with codec id 12 and format 'mp4 / MP4 (MPEG-4 Part 14)'\n",
      "OpenCV: FFMPEG: fallback to use tag 0x7634706d/'mp4v'\n"
     ]
    },
    {
     "name": "stdout",
     "output_type": "stream",
     "text": [
      "비디오 저장 완료: UCF_Crimes_10crop/Videos/Testing_Normal_Videos_Anomaly/Normal_Videos_603_x264__3.mp4\n",
      "비디오 저장 완료: UCF_Crimes_10crop/Videos/Testing_Normal_Videos_Anomaly/Normal_Videos_603_x264__8.mp4\n",
      "<class 'list'>\n",
      "<class 'numpy.ndarray'>\n",
      "(120, 160, 3)\n"
     ]
    },
    {
     "name": "stderr",
     "output_type": "stream",
     "text": [
      "OpenCV: FFMPEG: tag 0x44495658/'XVID' is not supported with codec id 12 and format 'mp4 / MP4 (MPEG-4 Part 14)'\n",
      "OpenCV: FFMPEG: fallback to use tag 0x7634706d/'mp4v'\n",
      "OpenCV: FFMPEG: tag 0x44495658/'XVID' is not supported with codec id 12 and format 'mp4 / MP4 (MPEG-4 Part 14)'\n",
      "OpenCV: FFMPEG: fallback to use tag 0x7634706d/'mp4v'\n"
     ]
    },
    {
     "name": "stdout",
     "output_type": "stream",
     "text": [
      "비디오 저장 완료: UCF_Crimes_10crop/Videos/Testing_Normal_Videos_Anomaly/Normal_Videos_603_x264__4.mp4\n",
      "비디오 저장 완료: UCF_Crimes_10crop/Videos/Testing_Normal_Videos_Anomaly/Normal_Videos_603_x264__9.mp4\n",
      "320   240\n",
      "FPS: 30.0\n",
      "<class 'list'>\n",
      "<class 'numpy.ndarray'>\n",
      "(120, 160, 3)\n"
     ]
    },
    {
     "name": "stderr",
     "output_type": "stream",
     "text": [
      "OpenCV: FFMPEG: tag 0x44495658/'XVID' is not supported with codec id 12 and format 'mp4 / MP4 (MPEG-4 Part 14)'\n",
      "OpenCV: FFMPEG: fallback to use tag 0x7634706d/'mp4v'\n",
      "OpenCV: FFMPEG: tag 0x44495658/'XVID' is not supported with codec id 12 and format 'mp4 / MP4 (MPEG-4 Part 14)'\n",
      "OpenCV: FFMPEG: fallback to use tag 0x7634706d/'mp4v'\n"
     ]
    },
    {
     "name": "stdout",
     "output_type": "stream",
     "text": [
      "비디오 저장 완료: UCF_Crimes_10crop/Videos/Testing_Normal_Videos_Anomaly/Normal_Videos_900_x264__0.mp4\n",
      "비디오 저장 완료: UCF_Crimes_10crop/Videos/Testing_Normal_Videos_Anomaly/Normal_Videos_900_x264__5.mp4\n",
      "<class 'list'>\n",
      "<class 'numpy.ndarray'>\n",
      "(120, 160, 3)\n"
     ]
    },
    {
     "name": "stderr",
     "output_type": "stream",
     "text": [
      "OpenCV: FFMPEG: tag 0x44495658/'XVID' is not supported with codec id 12 and format 'mp4 / MP4 (MPEG-4 Part 14)'\n",
      "OpenCV: FFMPEG: fallback to use tag 0x7634706d/'mp4v'\n",
      "OpenCV: FFMPEG: tag 0x44495658/'XVID' is not supported with codec id 12 and format 'mp4 / MP4 (MPEG-4 Part 14)'\n",
      "OpenCV: FFMPEG: fallback to use tag 0x7634706d/'mp4v'\n"
     ]
    },
    {
     "name": "stdout",
     "output_type": "stream",
     "text": [
      "비디오 저장 완료: UCF_Crimes_10crop/Videos/Testing_Normal_Videos_Anomaly/Normal_Videos_900_x264__1.mp4\n",
      "비디오 저장 완료: UCF_Crimes_10crop/Videos/Testing_Normal_Videos_Anomaly/Normal_Videos_900_x264__6.mp4\n",
      "<class 'list'>\n",
      "<class 'numpy.ndarray'>\n",
      "(120, 160, 3)\n"
     ]
    },
    {
     "name": "stderr",
     "output_type": "stream",
     "text": [
      "OpenCV: FFMPEG: tag 0x44495658/'XVID' is not supported with codec id 12 and format 'mp4 / MP4 (MPEG-4 Part 14)'\n",
      "OpenCV: FFMPEG: fallback to use tag 0x7634706d/'mp4v'\n",
      "OpenCV: FFMPEG: tag 0x44495658/'XVID' is not supported with codec id 12 and format 'mp4 / MP4 (MPEG-4 Part 14)'\n",
      "OpenCV: FFMPEG: fallback to use tag 0x7634706d/'mp4v'\n"
     ]
    },
    {
     "name": "stdout",
     "output_type": "stream",
     "text": [
      "비디오 저장 완료: UCF_Crimes_10crop/Videos/Testing_Normal_Videos_Anomaly/Normal_Videos_900_x264__2.mp4\n",
      "비디오 저장 완료: UCF_Crimes_10crop/Videos/Testing_Normal_Videos_Anomaly/Normal_Videos_900_x264__7.mp4\n",
      "<class 'list'>\n",
      "<class 'numpy.ndarray'>\n",
      "(120, 160, 3)\n"
     ]
    },
    {
     "name": "stderr",
     "output_type": "stream",
     "text": [
      "OpenCV: FFMPEG: tag 0x44495658/'XVID' is not supported with codec id 12 and format 'mp4 / MP4 (MPEG-4 Part 14)'\n",
      "OpenCV: FFMPEG: fallback to use tag 0x7634706d/'mp4v'\n",
      "OpenCV: FFMPEG: tag 0x44495658/'XVID' is not supported with codec id 12 and format 'mp4 / MP4 (MPEG-4 Part 14)'\n",
      "OpenCV: FFMPEG: fallback to use tag 0x7634706d/'mp4v'\n"
     ]
    },
    {
     "name": "stdout",
     "output_type": "stream",
     "text": [
      "비디오 저장 완료: UCF_Crimes_10crop/Videos/Testing_Normal_Videos_Anomaly/Normal_Videos_900_x264__3.mp4\n",
      "비디오 저장 완료: UCF_Crimes_10crop/Videos/Testing_Normal_Videos_Anomaly/Normal_Videos_900_x264__8.mp4\n",
      "<class 'list'>\n",
      "<class 'numpy.ndarray'>\n",
      "(120, 160, 3)\n"
     ]
    },
    {
     "name": "stderr",
     "output_type": "stream",
     "text": [
      "OpenCV: FFMPEG: tag 0x44495658/'XVID' is not supported with codec id 12 and format 'mp4 / MP4 (MPEG-4 Part 14)'\n",
      "OpenCV: FFMPEG: fallback to use tag 0x7634706d/'mp4v'\n",
      "OpenCV: FFMPEG: tag 0x44495658/'XVID' is not supported with codec id 12 and format 'mp4 / MP4 (MPEG-4 Part 14)'\n",
      "OpenCV: FFMPEG: fallback to use tag 0x7634706d/'mp4v'\n"
     ]
    },
    {
     "name": "stdout",
     "output_type": "stream",
     "text": [
      "비디오 저장 완료: UCF_Crimes_10crop/Videos/Testing_Normal_Videos_Anomaly/Normal_Videos_900_x264__4.mp4\n",
      "비디오 저장 완료: UCF_Crimes_10crop/Videos/Testing_Normal_Videos_Anomaly/Normal_Videos_900_x264__9.mp4\n",
      "320   240\n",
      "FPS: 30.0\n",
      "<class 'list'>\n",
      "<class 'numpy.ndarray'>\n",
      "(120, 160, 3)\n"
     ]
    },
    {
     "name": "stderr",
     "output_type": "stream",
     "text": [
      "OpenCV: FFMPEG: tag 0x44495658/'XVID' is not supported with codec id 12 and format 'mp4 / MP4 (MPEG-4 Part 14)'\n",
      "OpenCV: FFMPEG: fallback to use tag 0x7634706d/'mp4v'\n",
      "OpenCV: FFMPEG: tag 0x44495658/'XVID' is not supported with codec id 12 and format 'mp4 / MP4 (MPEG-4 Part 14)'\n",
      "OpenCV: FFMPEG: fallback to use tag 0x7634706d/'mp4v'\n"
     ]
    },
    {
     "name": "stdout",
     "output_type": "stream",
     "text": [
      "비디오 저장 완료: UCF_Crimes_10crop/Videos/Testing_Normal_Videos_Anomaly/Normal_Videos_656_x264__0.mp4\n",
      "비디오 저장 완료: UCF_Crimes_10crop/Videos/Testing_Normal_Videos_Anomaly/Normal_Videos_656_x264__5.mp4\n",
      "<class 'list'>\n",
      "<class 'numpy.ndarray'>\n",
      "(120, 160, 3)\n"
     ]
    },
    {
     "name": "stderr",
     "output_type": "stream",
     "text": [
      "OpenCV: FFMPEG: tag 0x44495658/'XVID' is not supported with codec id 12 and format 'mp4 / MP4 (MPEG-4 Part 14)'\n",
      "OpenCV: FFMPEG: fallback to use tag 0x7634706d/'mp4v'\n",
      "OpenCV: FFMPEG: tag 0x44495658/'XVID' is not supported with codec id 12 and format 'mp4 / MP4 (MPEG-4 Part 14)'\n",
      "OpenCV: FFMPEG: fallback to use tag 0x7634706d/'mp4v'\n"
     ]
    },
    {
     "name": "stdout",
     "output_type": "stream",
     "text": [
      "비디오 저장 완료: UCF_Crimes_10crop/Videos/Testing_Normal_Videos_Anomaly/Normal_Videos_656_x264__1.mp4\n",
      "비디오 저장 완료: UCF_Crimes_10crop/Videos/Testing_Normal_Videos_Anomaly/Normal_Videos_656_x264__6.mp4\n",
      "<class 'list'>\n",
      "<class 'numpy.ndarray'>\n",
      "(120, 160, 3)\n"
     ]
    },
    {
     "name": "stderr",
     "output_type": "stream",
     "text": [
      "OpenCV: FFMPEG: tag 0x44495658/'XVID' is not supported with codec id 12 and format 'mp4 / MP4 (MPEG-4 Part 14)'\n",
      "OpenCV: FFMPEG: fallback to use tag 0x7634706d/'mp4v'\n",
      "OpenCV: FFMPEG: tag 0x44495658/'XVID' is not supported with codec id 12 and format 'mp4 / MP4 (MPEG-4 Part 14)'\n",
      "OpenCV: FFMPEG: fallback to use tag 0x7634706d/'mp4v'\n"
     ]
    },
    {
     "name": "stdout",
     "output_type": "stream",
     "text": [
      "비디오 저장 완료: UCF_Crimes_10crop/Videos/Testing_Normal_Videos_Anomaly/Normal_Videos_656_x264__2.mp4\n",
      "비디오 저장 완료: UCF_Crimes_10crop/Videos/Testing_Normal_Videos_Anomaly/Normal_Videos_656_x264__7.mp4\n",
      "<class 'list'>\n",
      "<class 'numpy.ndarray'>\n",
      "(120, 160, 3)\n"
     ]
    },
    {
     "name": "stderr",
     "output_type": "stream",
     "text": [
      "OpenCV: FFMPEG: tag 0x44495658/'XVID' is not supported with codec id 12 and format 'mp4 / MP4 (MPEG-4 Part 14)'\n",
      "OpenCV: FFMPEG: fallback to use tag 0x7634706d/'mp4v'\n",
      "OpenCV: FFMPEG: tag 0x44495658/'XVID' is not supported with codec id 12 and format 'mp4 / MP4 (MPEG-4 Part 14)'\n",
      "OpenCV: FFMPEG: fallback to use tag 0x7634706d/'mp4v'\n"
     ]
    },
    {
     "name": "stdout",
     "output_type": "stream",
     "text": [
      "비디오 저장 완료: UCF_Crimes_10crop/Videos/Testing_Normal_Videos_Anomaly/Normal_Videos_656_x264__3.mp4\n",
      "비디오 저장 완료: UCF_Crimes_10crop/Videos/Testing_Normal_Videos_Anomaly/Normal_Videos_656_x264__8.mp4\n",
      "<class 'list'>\n",
      "<class 'numpy.ndarray'>\n",
      "(120, 160, 3)\n"
     ]
    },
    {
     "name": "stderr",
     "output_type": "stream",
     "text": [
      "OpenCV: FFMPEG: tag 0x44495658/'XVID' is not supported with codec id 12 and format 'mp4 / MP4 (MPEG-4 Part 14)'\n",
      "OpenCV: FFMPEG: fallback to use tag 0x7634706d/'mp4v'\n",
      "OpenCV: FFMPEG: tag 0x44495658/'XVID' is not supported with codec id 12 and format 'mp4 / MP4 (MPEG-4 Part 14)'\n",
      "OpenCV: FFMPEG: fallback to use tag 0x7634706d/'mp4v'\n"
     ]
    },
    {
     "name": "stdout",
     "output_type": "stream",
     "text": [
      "비디오 저장 완료: UCF_Crimes_10crop/Videos/Testing_Normal_Videos_Anomaly/Normal_Videos_656_x264__4.mp4\n",
      "비디오 저장 완료: UCF_Crimes_10crop/Videos/Testing_Normal_Videos_Anomaly/Normal_Videos_656_x264__9.mp4\n",
      "320   240\n",
      "FPS: 30.0\n",
      "<class 'list'>\n",
      "<class 'numpy.ndarray'>\n",
      "(120, 160, 3)\n"
     ]
    },
    {
     "name": "stderr",
     "output_type": "stream",
     "text": [
      "OpenCV: FFMPEG: tag 0x44495658/'XVID' is not supported with codec id 12 and format 'mp4 / MP4 (MPEG-4 Part 14)'\n",
      "OpenCV: FFMPEG: fallback to use tag 0x7634706d/'mp4v'\n",
      "OpenCV: FFMPEG: tag 0x44495658/'XVID' is not supported with codec id 12 and format 'mp4 / MP4 (MPEG-4 Part 14)'\n",
      "OpenCV: FFMPEG: fallback to use tag 0x7634706d/'mp4v'\n"
     ]
    },
    {
     "name": "stdout",
     "output_type": "stream",
     "text": [
      "비디오 저장 완료: UCF_Crimes_10crop/Videos/Testing_Normal_Videos_Anomaly/Normal_Videos_896_x264__0.mp4\n",
      "비디오 저장 완료: UCF_Crimes_10crop/Videos/Testing_Normal_Videos_Anomaly/Normal_Videos_896_x264__5.mp4\n",
      "<class 'list'>\n",
      "<class 'numpy.ndarray'>\n",
      "(120, 160, 3)\n"
     ]
    },
    {
     "name": "stderr",
     "output_type": "stream",
     "text": [
      "OpenCV: FFMPEG: tag 0x44495658/'XVID' is not supported with codec id 12 and format 'mp4 / MP4 (MPEG-4 Part 14)'\n",
      "OpenCV: FFMPEG: fallback to use tag 0x7634706d/'mp4v'\n",
      "OpenCV: FFMPEG: tag 0x44495658/'XVID' is not supported with codec id 12 and format 'mp4 / MP4 (MPEG-4 Part 14)'\n",
      "OpenCV: FFMPEG: fallback to use tag 0x7634706d/'mp4v'\n"
     ]
    },
    {
     "name": "stdout",
     "output_type": "stream",
     "text": [
      "비디오 저장 완료: UCF_Crimes_10crop/Videos/Testing_Normal_Videos_Anomaly/Normal_Videos_896_x264__1.mp4\n",
      "비디오 저장 완료: UCF_Crimes_10crop/Videos/Testing_Normal_Videos_Anomaly/Normal_Videos_896_x264__6.mp4\n",
      "<class 'list'>\n",
      "<class 'numpy.ndarray'>\n",
      "(120, 160, 3)\n"
     ]
    },
    {
     "name": "stderr",
     "output_type": "stream",
     "text": [
      "OpenCV: FFMPEG: tag 0x44495658/'XVID' is not supported with codec id 12 and format 'mp4 / MP4 (MPEG-4 Part 14)'\n",
      "OpenCV: FFMPEG: fallback to use tag 0x7634706d/'mp4v'\n",
      "OpenCV: FFMPEG: tag 0x44495658/'XVID' is not supported with codec id 12 and format 'mp4 / MP4 (MPEG-4 Part 14)'\n",
      "OpenCV: FFMPEG: fallback to use tag 0x7634706d/'mp4v'\n"
     ]
    },
    {
     "name": "stdout",
     "output_type": "stream",
     "text": [
      "비디오 저장 완료: UCF_Crimes_10crop/Videos/Testing_Normal_Videos_Anomaly/Normal_Videos_896_x264__2.mp4\n",
      "비디오 저장 완료: UCF_Crimes_10crop/Videos/Testing_Normal_Videos_Anomaly/Normal_Videos_896_x264__7.mp4\n",
      "<class 'list'>\n",
      "<class 'numpy.ndarray'>\n",
      "(120, 160, 3)\n"
     ]
    },
    {
     "name": "stderr",
     "output_type": "stream",
     "text": [
      "OpenCV: FFMPEG: tag 0x44495658/'XVID' is not supported with codec id 12 and format 'mp4 / MP4 (MPEG-4 Part 14)'\n",
      "OpenCV: FFMPEG: fallback to use tag 0x7634706d/'mp4v'\n",
      "OpenCV: FFMPEG: tag 0x44495658/'XVID' is not supported with codec id 12 and format 'mp4 / MP4 (MPEG-4 Part 14)'\n",
      "OpenCV: FFMPEG: fallback to use tag 0x7634706d/'mp4v'\n"
     ]
    },
    {
     "name": "stdout",
     "output_type": "stream",
     "text": [
      "비디오 저장 완료: UCF_Crimes_10crop/Videos/Testing_Normal_Videos_Anomaly/Normal_Videos_896_x264__3.mp4\n",
      "비디오 저장 완료: UCF_Crimes_10crop/Videos/Testing_Normal_Videos_Anomaly/Normal_Videos_896_x264__8.mp4\n",
      "<class 'list'>\n",
      "<class 'numpy.ndarray'>\n",
      "(120, 160, 3)\n"
     ]
    },
    {
     "name": "stderr",
     "output_type": "stream",
     "text": [
      "OpenCV: FFMPEG: tag 0x44495658/'XVID' is not supported with codec id 12 and format 'mp4 / MP4 (MPEG-4 Part 14)'\n",
      "OpenCV: FFMPEG: fallback to use tag 0x7634706d/'mp4v'\n",
      "OpenCV: FFMPEG: tag 0x44495658/'XVID' is not supported with codec id 12 and format 'mp4 / MP4 (MPEG-4 Part 14)'\n",
      "OpenCV: FFMPEG: fallback to use tag 0x7634706d/'mp4v'\n"
     ]
    },
    {
     "name": "stdout",
     "output_type": "stream",
     "text": [
      "비디오 저장 완료: UCF_Crimes_10crop/Videos/Testing_Normal_Videos_Anomaly/Normal_Videos_896_x264__4.mp4\n",
      "비디오 저장 완료: UCF_Crimes_10crop/Videos/Testing_Normal_Videos_Anomaly/Normal_Videos_896_x264__9.mp4\n",
      "320   240\n",
      "FPS: 30.0\n",
      "<class 'list'>\n",
      "<class 'numpy.ndarray'>\n",
      "(120, 160, 3)\n"
     ]
    },
    {
     "name": "stderr",
     "output_type": "stream",
     "text": [
      "OpenCV: FFMPEG: tag 0x44495658/'XVID' is not supported with codec id 12 and format 'mp4 / MP4 (MPEG-4 Part 14)'\n",
      "OpenCV: FFMPEG: fallback to use tag 0x7634706d/'mp4v'\n",
      "OpenCV: FFMPEG: tag 0x44495658/'XVID' is not supported with codec id 12 and format 'mp4 / MP4 (MPEG-4 Part 14)'\n",
      "OpenCV: FFMPEG: fallback to use tag 0x7634706d/'mp4v'\n"
     ]
    },
    {
     "name": "stdout",
     "output_type": "stream",
     "text": [
      "비디오 저장 완료: UCF_Crimes_10crop/Videos/Testing_Normal_Videos_Anomaly/Normal_Videos_936_x264__0.mp4\n",
      "비디오 저장 완료: UCF_Crimes_10crop/Videos/Testing_Normal_Videos_Anomaly/Normal_Videos_936_x264__5.mp4\n",
      "<class 'list'>\n",
      "<class 'numpy.ndarray'>\n",
      "(120, 160, 3)\n"
     ]
    },
    {
     "name": "stderr",
     "output_type": "stream",
     "text": [
      "OpenCV: FFMPEG: tag 0x44495658/'XVID' is not supported with codec id 12 and format 'mp4 / MP4 (MPEG-4 Part 14)'\n",
      "OpenCV: FFMPEG: fallback to use tag 0x7634706d/'mp4v'\n",
      "OpenCV: FFMPEG: tag 0x44495658/'XVID' is not supported with codec id 12 and format 'mp4 / MP4 (MPEG-4 Part 14)'\n",
      "OpenCV: FFMPEG: fallback to use tag 0x7634706d/'mp4v'\n"
     ]
    },
    {
     "name": "stdout",
     "output_type": "stream",
     "text": [
      "비디오 저장 완료: UCF_Crimes_10crop/Videos/Testing_Normal_Videos_Anomaly/Normal_Videos_936_x264__1.mp4\n",
      "비디오 저장 완료: UCF_Crimes_10crop/Videos/Testing_Normal_Videos_Anomaly/Normal_Videos_936_x264__6.mp4\n",
      "<class 'list'>\n",
      "<class 'numpy.ndarray'>\n",
      "(120, 160, 3)\n"
     ]
    },
    {
     "name": "stderr",
     "output_type": "stream",
     "text": [
      "OpenCV: FFMPEG: tag 0x44495658/'XVID' is not supported with codec id 12 and format 'mp4 / MP4 (MPEG-4 Part 14)'\n",
      "OpenCV: FFMPEG: fallback to use tag 0x7634706d/'mp4v'\n",
      "OpenCV: FFMPEG: tag 0x44495658/'XVID' is not supported with codec id 12 and format 'mp4 / MP4 (MPEG-4 Part 14)'\n",
      "OpenCV: FFMPEG: fallback to use tag 0x7634706d/'mp4v'\n"
     ]
    },
    {
     "name": "stdout",
     "output_type": "stream",
     "text": [
      "비디오 저장 완료: UCF_Crimes_10crop/Videos/Testing_Normal_Videos_Anomaly/Normal_Videos_936_x264__2.mp4\n",
      "비디오 저장 완료: UCF_Crimes_10crop/Videos/Testing_Normal_Videos_Anomaly/Normal_Videos_936_x264__7.mp4\n",
      "<class 'list'>\n",
      "<class 'numpy.ndarray'>\n",
      "(120, 160, 3)\n"
     ]
    },
    {
     "name": "stderr",
     "output_type": "stream",
     "text": [
      "OpenCV: FFMPEG: tag 0x44495658/'XVID' is not supported with codec id 12 and format 'mp4 / MP4 (MPEG-4 Part 14)'\n",
      "OpenCV: FFMPEG: fallback to use tag 0x7634706d/'mp4v'\n",
      "OpenCV: FFMPEG: tag 0x44495658/'XVID' is not supported with codec id 12 and format 'mp4 / MP4 (MPEG-4 Part 14)'\n",
      "OpenCV: FFMPEG: fallback to use tag 0x7634706d/'mp4v'\n"
     ]
    },
    {
     "name": "stdout",
     "output_type": "stream",
     "text": [
      "비디오 저장 완료: UCF_Crimes_10crop/Videos/Testing_Normal_Videos_Anomaly/Normal_Videos_936_x264__3.mp4\n",
      "비디오 저장 완료: UCF_Crimes_10crop/Videos/Testing_Normal_Videos_Anomaly/Normal_Videos_936_x264__8.mp4\n",
      "<class 'list'>\n",
      "<class 'numpy.ndarray'>\n",
      "(120, 160, 3)\n",
      "비디오 저장 완료: UCF_Crimes_10crop/Videos/Testing_Normal_Videos_Anomaly/Normal_Videos_936_x264__4.mp4\n",
      "비디오 저장 완료: UCF_Crimes_10crop/Videos/Testing_Normal_Videos_Anomaly/Normal_Videos_936_x264__9.mp4\n"
     ]
    },
    {
     "name": "stderr",
     "output_type": "stream",
     "text": [
      "OpenCV: FFMPEG: tag 0x44495658/'XVID' is not supported with codec id 12 and format 'mp4 / MP4 (MPEG-4 Part 14)'\n",
      "OpenCV: FFMPEG: fallback to use tag 0x7634706d/'mp4v'\n",
      "OpenCV: FFMPEG: tag 0x44495658/'XVID' is not supported with codec id 12 and format 'mp4 / MP4 (MPEG-4 Part 14)'\n",
      "OpenCV: FFMPEG: fallback to use tag 0x7634706d/'mp4v'\n"
     ]
    },
    {
     "name": "stdout",
     "output_type": "stream",
     "text": [
      "320   240\n",
      "FPS: 30.0\n",
      "<class 'list'>\n",
      "<class 'numpy.ndarray'>\n",
      "(120, 160, 3)\n"
     ]
    },
    {
     "name": "stderr",
     "output_type": "stream",
     "text": [
      "OpenCV: FFMPEG: tag 0x44495658/'XVID' is not supported with codec id 12 and format 'mp4 / MP4 (MPEG-4 Part 14)'\n",
      "OpenCV: FFMPEG: fallback to use tag 0x7634706d/'mp4v'\n",
      "OpenCV: FFMPEG: tag 0x44495658/'XVID' is not supported with codec id 12 and format 'mp4 / MP4 (MPEG-4 Part 14)'\n",
      "OpenCV: FFMPEG: fallback to use tag 0x7634706d/'mp4v'\n"
     ]
    },
    {
     "name": "stdout",
     "output_type": "stream",
     "text": [
      "비디오 저장 완료: UCF_Crimes_10crop/Videos/Testing_Normal_Videos_Anomaly/Normal_Videos_686_x264__0.mp4\n",
      "비디오 저장 완료: UCF_Crimes_10crop/Videos/Testing_Normal_Videos_Anomaly/Normal_Videos_686_x264__5.mp4\n",
      "<class 'list'>\n",
      "<class 'numpy.ndarray'>\n",
      "(120, 160, 3)\n"
     ]
    },
    {
     "name": "stderr",
     "output_type": "stream",
     "text": [
      "OpenCV: FFMPEG: tag 0x44495658/'XVID' is not supported with codec id 12 and format 'mp4 / MP4 (MPEG-4 Part 14)'\n",
      "OpenCV: FFMPEG: fallback to use tag 0x7634706d/'mp4v'\n",
      "OpenCV: FFMPEG: tag 0x44495658/'XVID' is not supported with codec id 12 and format 'mp4 / MP4 (MPEG-4 Part 14)'\n",
      "OpenCV: FFMPEG: fallback to use tag 0x7634706d/'mp4v'\n"
     ]
    },
    {
     "name": "stdout",
     "output_type": "stream",
     "text": [
      "비디오 저장 완료: UCF_Crimes_10crop/Videos/Testing_Normal_Videos_Anomaly/Normal_Videos_686_x264__1.mp4\n",
      "비디오 저장 완료: UCF_Crimes_10crop/Videos/Testing_Normal_Videos_Anomaly/Normal_Videos_686_x264__6.mp4\n",
      "<class 'list'>\n",
      "<class 'numpy.ndarray'>\n",
      "(120, 160, 3)\n"
     ]
    },
    {
     "name": "stderr",
     "output_type": "stream",
     "text": [
      "OpenCV: FFMPEG: tag 0x44495658/'XVID' is not supported with codec id 12 and format 'mp4 / MP4 (MPEG-4 Part 14)'\n",
      "OpenCV: FFMPEG: fallback to use tag 0x7634706d/'mp4v'\n",
      "OpenCV: FFMPEG: tag 0x44495658/'XVID' is not supported with codec id 12 and format 'mp4 / MP4 (MPEG-4 Part 14)'\n",
      "OpenCV: FFMPEG: fallback to use tag 0x7634706d/'mp4v'\n"
     ]
    },
    {
     "name": "stdout",
     "output_type": "stream",
     "text": [
      "비디오 저장 완료: UCF_Crimes_10crop/Videos/Testing_Normal_Videos_Anomaly/Normal_Videos_686_x264__2.mp4\n",
      "비디오 저장 완료: UCF_Crimes_10crop/Videos/Testing_Normal_Videos_Anomaly/Normal_Videos_686_x264__7.mp4\n",
      "<class 'list'>\n",
      "<class 'numpy.ndarray'>\n",
      "(120, 160, 3)\n"
     ]
    },
    {
     "name": "stderr",
     "output_type": "stream",
     "text": [
      "OpenCV: FFMPEG: tag 0x44495658/'XVID' is not supported with codec id 12 and format 'mp4 / MP4 (MPEG-4 Part 14)'\n",
      "OpenCV: FFMPEG: fallback to use tag 0x7634706d/'mp4v'\n",
      "OpenCV: FFMPEG: tag 0x44495658/'XVID' is not supported with codec id 12 and format 'mp4 / MP4 (MPEG-4 Part 14)'\n",
      "OpenCV: FFMPEG: fallback to use tag 0x7634706d/'mp4v'\n"
     ]
    },
    {
     "name": "stdout",
     "output_type": "stream",
     "text": [
      "비디오 저장 완료: UCF_Crimes_10crop/Videos/Testing_Normal_Videos_Anomaly/Normal_Videos_686_x264__3.mp4\n",
      "비디오 저장 완료: UCF_Crimes_10crop/Videos/Testing_Normal_Videos_Anomaly/Normal_Videos_686_x264__8.mp4\n",
      "<class 'list'>\n",
      "<class 'numpy.ndarray'>\n",
      "(120, 160, 3)\n"
     ]
    },
    {
     "name": "stderr",
     "output_type": "stream",
     "text": [
      "OpenCV: FFMPEG: tag 0x44495658/'XVID' is not supported with codec id 12 and format 'mp4 / MP4 (MPEG-4 Part 14)'\n",
      "OpenCV: FFMPEG: fallback to use tag 0x7634706d/'mp4v'\n",
      "OpenCV: FFMPEG: tag 0x44495658/'XVID' is not supported with codec id 12 and format 'mp4 / MP4 (MPEG-4 Part 14)'\n",
      "OpenCV: FFMPEG: fallback to use tag 0x7634706d/'mp4v'\n"
     ]
    },
    {
     "name": "stdout",
     "output_type": "stream",
     "text": [
      "비디오 저장 완료: UCF_Crimes_10crop/Videos/Testing_Normal_Videos_Anomaly/Normal_Videos_686_x264__4.mp4\n",
      "비디오 저장 완료: UCF_Crimes_10crop/Videos/Testing_Normal_Videos_Anomaly/Normal_Videos_686_x264__9.mp4\n",
      "320   240\n",
      "FPS: 30.0\n",
      "<class 'list'>\n",
      "<class 'numpy.ndarray'>\n",
      "(120, 160, 3)\n"
     ]
    },
    {
     "name": "stderr",
     "output_type": "stream",
     "text": [
      "OpenCV: FFMPEG: tag 0x44495658/'XVID' is not supported with codec id 12 and format 'mp4 / MP4 (MPEG-4 Part 14)'\n",
      "OpenCV: FFMPEG: fallback to use tag 0x7634706d/'mp4v'\n",
      "OpenCV: FFMPEG: tag 0x44495658/'XVID' is not supported with codec id 12 and format 'mp4 / MP4 (MPEG-4 Part 14)'\n",
      "OpenCV: FFMPEG: fallback to use tag 0x7634706d/'mp4v'\n"
     ]
    },
    {
     "name": "stdout",
     "output_type": "stream",
     "text": [
      "비디오 저장 완료: UCF_Crimes_10crop/Videos/Testing_Normal_Videos_Anomaly/Normal_Videos_915_x264__0.mp4\n",
      "비디오 저장 완료: UCF_Crimes_10crop/Videos/Testing_Normal_Videos_Anomaly/Normal_Videos_915_x264__5.mp4\n",
      "<class 'list'>\n",
      "<class 'numpy.ndarray'>\n",
      "(120, 160, 3)\n"
     ]
    },
    {
     "name": "stderr",
     "output_type": "stream",
     "text": [
      "OpenCV: FFMPEG: tag 0x44495658/'XVID' is not supported with codec id 12 and format 'mp4 / MP4 (MPEG-4 Part 14)'\n",
      "OpenCV: FFMPEG: fallback to use tag 0x7634706d/'mp4v'\n",
      "OpenCV: FFMPEG: tag 0x44495658/'XVID' is not supported with codec id 12 and format 'mp4 / MP4 (MPEG-4 Part 14)'\n",
      "OpenCV: FFMPEG: fallback to use tag 0x7634706d/'mp4v'\n"
     ]
    },
    {
     "name": "stdout",
     "output_type": "stream",
     "text": [
      "비디오 저장 완료: UCF_Crimes_10crop/Videos/Testing_Normal_Videos_Anomaly/Normal_Videos_915_x264__1.mp4\n",
      "비디오 저장 완료: UCF_Crimes_10crop/Videos/Testing_Normal_Videos_Anomaly/Normal_Videos_915_x264__6.mp4\n",
      "<class 'list'>\n",
      "<class 'numpy.ndarray'>\n",
      "(120, 160, 3)\n"
     ]
    },
    {
     "name": "stderr",
     "output_type": "stream",
     "text": [
      "OpenCV: FFMPEG: tag 0x44495658/'XVID' is not supported with codec id 12 and format 'mp4 / MP4 (MPEG-4 Part 14)'\n",
      "OpenCV: FFMPEG: fallback to use tag 0x7634706d/'mp4v'\n",
      "OpenCV: FFMPEG: tag 0x44495658/'XVID' is not supported with codec id 12 and format 'mp4 / MP4 (MPEG-4 Part 14)'\n",
      "OpenCV: FFMPEG: fallback to use tag 0x7634706d/'mp4v'\n"
     ]
    },
    {
     "name": "stdout",
     "output_type": "stream",
     "text": [
      "비디오 저장 완료: UCF_Crimes_10crop/Videos/Testing_Normal_Videos_Anomaly/Normal_Videos_915_x264__2.mp4\n",
      "비디오 저장 완료: UCF_Crimes_10crop/Videos/Testing_Normal_Videos_Anomaly/Normal_Videos_915_x264__7.mp4\n",
      "<class 'list'>\n",
      "<class 'numpy.ndarray'>\n",
      "(120, 160, 3)\n"
     ]
    },
    {
     "name": "stderr",
     "output_type": "stream",
     "text": [
      "OpenCV: FFMPEG: tag 0x44495658/'XVID' is not supported with codec id 12 and format 'mp4 / MP4 (MPEG-4 Part 14)'\n",
      "OpenCV: FFMPEG: fallback to use tag 0x7634706d/'mp4v'\n",
      "OpenCV: FFMPEG: tag 0x44495658/'XVID' is not supported with codec id 12 and format 'mp4 / MP4 (MPEG-4 Part 14)'\n",
      "OpenCV: FFMPEG: fallback to use tag 0x7634706d/'mp4v'\n"
     ]
    },
    {
     "name": "stdout",
     "output_type": "stream",
     "text": [
      "비디오 저장 완료: UCF_Crimes_10crop/Videos/Testing_Normal_Videos_Anomaly/Normal_Videos_915_x264__3.mp4\n",
      "비디오 저장 완료: UCF_Crimes_10crop/Videos/Testing_Normal_Videos_Anomaly/Normal_Videos_915_x264__8.mp4\n",
      "<class 'list'>\n",
      "<class 'numpy.ndarray'>\n",
      "(120, 160, 3)\n"
     ]
    },
    {
     "name": "stderr",
     "output_type": "stream",
     "text": [
      "OpenCV: FFMPEG: tag 0x44495658/'XVID' is not supported with codec id 12 and format 'mp4 / MP4 (MPEG-4 Part 14)'\n",
      "OpenCV: FFMPEG: fallback to use tag 0x7634706d/'mp4v'\n",
      "OpenCV: FFMPEG: tag 0x44495658/'XVID' is not supported with codec id 12 and format 'mp4 / MP4 (MPEG-4 Part 14)'\n",
      "OpenCV: FFMPEG: fallback to use tag 0x7634706d/'mp4v'\n"
     ]
    },
    {
     "name": "stdout",
     "output_type": "stream",
     "text": [
      "비디오 저장 완료: UCF_Crimes_10crop/Videos/Testing_Normal_Videos_Anomaly/Normal_Videos_915_x264__4.mp4\n",
      "비디오 저장 완료: UCF_Crimes_10crop/Videos/Testing_Normal_Videos_Anomaly/Normal_Videos_915_x264__9.mp4\n",
      "320   240\n",
      "FPS: 30.0\n",
      "<class 'list'>\n",
      "<class 'numpy.ndarray'>\n",
      "(120, 160, 3)\n"
     ]
    },
    {
     "name": "stderr",
     "output_type": "stream",
     "text": [
      "OpenCV: FFMPEG: tag 0x44495658/'XVID' is not supported with codec id 12 and format 'mp4 / MP4 (MPEG-4 Part 14)'\n",
      "OpenCV: FFMPEG: fallback to use tag 0x7634706d/'mp4v'\n",
      "OpenCV: FFMPEG: tag 0x44495658/'XVID' is not supported with codec id 12 and format 'mp4 / MP4 (MPEG-4 Part 14)'\n",
      "OpenCV: FFMPEG: fallback to use tag 0x7634706d/'mp4v'\n"
     ]
    },
    {
     "name": "stdout",
     "output_type": "stream",
     "text": [
      "비디오 저장 완료: UCF_Crimes_10crop/Videos/Testing_Normal_Videos_Anomaly/Normal_Videos_634_x264__0.mp4\n",
      "비디오 저장 완료: UCF_Crimes_10crop/Videos/Testing_Normal_Videos_Anomaly/Normal_Videos_634_x264__5.mp4\n",
      "<class 'list'>\n",
      "<class 'numpy.ndarray'>\n",
      "(120, 160, 3)\n"
     ]
    },
    {
     "name": "stderr",
     "output_type": "stream",
     "text": [
      "OpenCV: FFMPEG: tag 0x44495658/'XVID' is not supported with codec id 12 and format 'mp4 / MP4 (MPEG-4 Part 14)'\n",
      "OpenCV: FFMPEG: fallback to use tag 0x7634706d/'mp4v'\n",
      "OpenCV: FFMPEG: tag 0x44495658/'XVID' is not supported with codec id 12 and format 'mp4 / MP4 (MPEG-4 Part 14)'\n",
      "OpenCV: FFMPEG: fallback to use tag 0x7634706d/'mp4v'\n"
     ]
    },
    {
     "name": "stdout",
     "output_type": "stream",
     "text": [
      "비디오 저장 완료: UCF_Crimes_10crop/Videos/Testing_Normal_Videos_Anomaly/Normal_Videos_634_x264__1.mp4\n",
      "비디오 저장 완료: UCF_Crimes_10crop/Videos/Testing_Normal_Videos_Anomaly/Normal_Videos_634_x264__6.mp4\n",
      "<class 'list'>\n",
      "<class 'numpy.ndarray'>\n",
      "(120, 160, 3)\n"
     ]
    },
    {
     "name": "stderr",
     "output_type": "stream",
     "text": [
      "OpenCV: FFMPEG: tag 0x44495658/'XVID' is not supported with codec id 12 and format 'mp4 / MP4 (MPEG-4 Part 14)'\n",
      "OpenCV: FFMPEG: fallback to use tag 0x7634706d/'mp4v'\n",
      "OpenCV: FFMPEG: tag 0x44495658/'XVID' is not supported with codec id 12 and format 'mp4 / MP4 (MPEG-4 Part 14)'\n",
      "OpenCV: FFMPEG: fallback to use tag 0x7634706d/'mp4v'\n"
     ]
    },
    {
     "name": "stdout",
     "output_type": "stream",
     "text": [
      "비디오 저장 완료: UCF_Crimes_10crop/Videos/Testing_Normal_Videos_Anomaly/Normal_Videos_634_x264__2.mp4\n",
      "비디오 저장 완료: UCF_Crimes_10crop/Videos/Testing_Normal_Videos_Anomaly/Normal_Videos_634_x264__7.mp4\n",
      "<class 'list'>\n",
      "<class 'numpy.ndarray'>\n",
      "(120, 160, 3)\n"
     ]
    },
    {
     "name": "stderr",
     "output_type": "stream",
     "text": [
      "OpenCV: FFMPEG: tag 0x44495658/'XVID' is not supported with codec id 12 and format 'mp4 / MP4 (MPEG-4 Part 14)'\n",
      "OpenCV: FFMPEG: fallback to use tag 0x7634706d/'mp4v'\n",
      "OpenCV: FFMPEG: tag 0x44495658/'XVID' is not supported with codec id 12 and format 'mp4 / MP4 (MPEG-4 Part 14)'\n",
      "OpenCV: FFMPEG: fallback to use tag 0x7634706d/'mp4v'\n"
     ]
    },
    {
     "name": "stdout",
     "output_type": "stream",
     "text": [
      "비디오 저장 완료: UCF_Crimes_10crop/Videos/Testing_Normal_Videos_Anomaly/Normal_Videos_634_x264__3.mp4\n",
      "비디오 저장 완료: UCF_Crimes_10crop/Videos/Testing_Normal_Videos_Anomaly/Normal_Videos_634_x264__8.mp4\n",
      "<class 'list'>\n",
      "<class 'numpy.ndarray'>\n",
      "(120, 160, 3)\n"
     ]
    },
    {
     "name": "stderr",
     "output_type": "stream",
     "text": [
      "OpenCV: FFMPEG: tag 0x44495658/'XVID' is not supported with codec id 12 and format 'mp4 / MP4 (MPEG-4 Part 14)'\n",
      "OpenCV: FFMPEG: fallback to use tag 0x7634706d/'mp4v'\n",
      "OpenCV: FFMPEG: tag 0x44495658/'XVID' is not supported with codec id 12 and format 'mp4 / MP4 (MPEG-4 Part 14)'\n",
      "OpenCV: FFMPEG: fallback to use tag 0x7634706d/'mp4v'\n"
     ]
    },
    {
     "name": "stdout",
     "output_type": "stream",
     "text": [
      "비디오 저장 완료: UCF_Crimes_10crop/Videos/Testing_Normal_Videos_Anomaly/Normal_Videos_634_x264__4.mp4\n",
      "비디오 저장 완료: UCF_Crimes_10crop/Videos/Testing_Normal_Videos_Anomaly/Normal_Videos_634_x264__9.mp4\n",
      "320   240\n",
      "FPS: 30.0\n",
      "<class 'list'>\n",
      "<class 'numpy.ndarray'>\n",
      "(120, 160, 3)\n",
      "비디오 저장 완료: UCF_Crimes_10crop/Videos/Testing_Normal_Videos_Anomaly/Normal_Videos_912_x264__0.mp4\n",
      "비디오 저장 완료: UCF_Crimes_10crop/Videos/Testing_Normal_Videos_Anomaly/Normal_Videos_912_x264__5.mp4\n",
      "<class 'list'>\n",
      "<class 'numpy.ndarray'>\n",
      "(120, 160, 3)\n"
     ]
    },
    {
     "name": "stderr",
     "output_type": "stream",
     "text": [
      "OpenCV: FFMPEG: tag 0x44495658/'XVID' is not supported with codec id 12 and format 'mp4 / MP4 (MPEG-4 Part 14)'\n",
      "OpenCV: FFMPEG: fallback to use tag 0x7634706d/'mp4v'\n",
      "OpenCV: FFMPEG: tag 0x44495658/'XVID' is not supported with codec id 12 and format 'mp4 / MP4 (MPEG-4 Part 14)'\n",
      "OpenCV: FFMPEG: fallback to use tag 0x7634706d/'mp4v'\n",
      "OpenCV: FFMPEG: tag 0x44495658/'XVID' is not supported with codec id 12 and format 'mp4 / MP4 (MPEG-4 Part 14)'\n",
      "OpenCV: FFMPEG: fallback to use tag 0x7634706d/'mp4v'\n",
      "OpenCV: FFMPEG: tag 0x44495658/'XVID' is not supported with codec id 12 and format 'mp4 / MP4 (MPEG-4 Part 14)'\n",
      "OpenCV: FFMPEG: fallback to use tag 0x7634706d/'mp4v'\n"
     ]
    },
    {
     "name": "stdout",
     "output_type": "stream",
     "text": [
      "비디오 저장 완료: UCF_Crimes_10crop/Videos/Testing_Normal_Videos_Anomaly/Normal_Videos_912_x264__1.mp4\n",
      "비디오 저장 완료: UCF_Crimes_10crop/Videos/Testing_Normal_Videos_Anomaly/Normal_Videos_912_x264__6.mp4\n",
      "<class 'list'>\n",
      "<class 'numpy.ndarray'>\n",
      "(120, 160, 3)\n",
      "비디오 저장 완료: UCF_Crimes_10crop/Videos/Testing_Normal_Videos_Anomaly/Normal_Videos_912_x264__2.mp4\n",
      "비디오 저장 완료: UCF_Crimes_10crop/Videos/Testing_Normal_Videos_Anomaly/Normal_Videos_912_x264__7.mp4\n",
      "<class 'list'>\n",
      "<class 'numpy.ndarray'>\n",
      "(120, 160, 3)\n"
     ]
    },
    {
     "name": "stderr",
     "output_type": "stream",
     "text": [
      "OpenCV: FFMPEG: tag 0x44495658/'XVID' is not supported with codec id 12 and format 'mp4 / MP4 (MPEG-4 Part 14)'\n",
      "OpenCV: FFMPEG: fallback to use tag 0x7634706d/'mp4v'\n",
      "OpenCV: FFMPEG: tag 0x44495658/'XVID' is not supported with codec id 12 and format 'mp4 / MP4 (MPEG-4 Part 14)'\n",
      "OpenCV: FFMPEG: fallback to use tag 0x7634706d/'mp4v'\n",
      "OpenCV: FFMPEG: tag 0x44495658/'XVID' is not supported with codec id 12 and format 'mp4 / MP4 (MPEG-4 Part 14)'\n",
      "OpenCV: FFMPEG: fallback to use tag 0x7634706d/'mp4v'\n",
      "OpenCV: FFMPEG: tag 0x44495658/'XVID' is not supported with codec id 12 and format 'mp4 / MP4 (MPEG-4 Part 14)'\n",
      "OpenCV: FFMPEG: fallback to use tag 0x7634706d/'mp4v'\n"
     ]
    },
    {
     "name": "stdout",
     "output_type": "stream",
     "text": [
      "비디오 저장 완료: UCF_Crimes_10crop/Videos/Testing_Normal_Videos_Anomaly/Normal_Videos_912_x264__3.mp4\n",
      "비디오 저장 완료: UCF_Crimes_10crop/Videos/Testing_Normal_Videos_Anomaly/Normal_Videos_912_x264__8.mp4\n",
      "<class 'list'>\n",
      "<class 'numpy.ndarray'>\n",
      "(120, 160, 3)\n",
      "비디오 저장 완료: UCF_Crimes_10crop/Videos/Testing_Normal_Videos_Anomaly/Normal_Videos_912_x264__4.mp4\n",
      "비디오 저장 완료: UCF_Crimes_10crop/Videos/Testing_Normal_Videos_Anomaly/Normal_Videos_912_x264__9.mp4\n",
      "320   240\n",
      "FPS: 30.0\n"
     ]
    },
    {
     "name": "stderr",
     "output_type": "stream",
     "text": [
      "OpenCV: FFMPEG: tag 0x44495658/'XVID' is not supported with codec id 12 and format 'mp4 / MP4 (MPEG-4 Part 14)'\n",
      "OpenCV: FFMPEG: fallback to use tag 0x7634706d/'mp4v'\n",
      "OpenCV: FFMPEG: tag 0x44495658/'XVID' is not supported with codec id 12 and format 'mp4 / MP4 (MPEG-4 Part 14)'\n",
      "OpenCV: FFMPEG: fallback to use tag 0x7634706d/'mp4v'\n"
     ]
    },
    {
     "name": "stdout",
     "output_type": "stream",
     "text": [
      "<class 'list'>\n",
      "<class 'numpy.ndarray'>\n",
      "(120, 160, 3)\n"
     ]
    },
    {
     "name": "stderr",
     "output_type": "stream",
     "text": [
      "OpenCV: FFMPEG: tag 0x44495658/'XVID' is not supported with codec id 12 and format 'mp4 / MP4 (MPEG-4 Part 14)'\n",
      "OpenCV: FFMPEG: fallback to use tag 0x7634706d/'mp4v'\n",
      "OpenCV: FFMPEG: tag 0x44495658/'XVID' is not supported with codec id 12 and format 'mp4 / MP4 (MPEG-4 Part 14)'\n",
      "OpenCV: FFMPEG: fallback to use tag 0x7634706d/'mp4v'\n"
     ]
    },
    {
     "name": "stdout",
     "output_type": "stream",
     "text": [
      "비디오 저장 완료: UCF_Crimes_10crop/Videos/Testing_Normal_Videos_Anomaly/Normal_Videos_034_x264__0.mp4\n",
      "비디오 저장 완료: UCF_Crimes_10crop/Videos/Testing_Normal_Videos_Anomaly/Normal_Videos_034_x264__5.mp4\n",
      "<class 'list'>\n",
      "<class 'numpy.ndarray'>\n",
      "(120, 160, 3)\n"
     ]
    },
    {
     "name": "stderr",
     "output_type": "stream",
     "text": [
      "OpenCV: FFMPEG: tag 0x44495658/'XVID' is not supported with codec id 12 and format 'mp4 / MP4 (MPEG-4 Part 14)'\n",
      "OpenCV: FFMPEG: fallback to use tag 0x7634706d/'mp4v'\n",
      "OpenCV: FFMPEG: tag 0x44495658/'XVID' is not supported with codec id 12 and format 'mp4 / MP4 (MPEG-4 Part 14)'\n",
      "OpenCV: FFMPEG: fallback to use tag 0x7634706d/'mp4v'\n"
     ]
    },
    {
     "name": "stdout",
     "output_type": "stream",
     "text": [
      "비디오 저장 완료: UCF_Crimes_10crop/Videos/Testing_Normal_Videos_Anomaly/Normal_Videos_034_x264__1.mp4\n",
      "비디오 저장 완료: UCF_Crimes_10crop/Videos/Testing_Normal_Videos_Anomaly/Normal_Videos_034_x264__6.mp4\n",
      "<class 'list'>\n",
      "<class 'numpy.ndarray'>\n",
      "(120, 160, 3)\n"
     ]
    },
    {
     "name": "stderr",
     "output_type": "stream",
     "text": [
      "OpenCV: FFMPEG: tag 0x44495658/'XVID' is not supported with codec id 12 and format 'mp4 / MP4 (MPEG-4 Part 14)'\n",
      "OpenCV: FFMPEG: fallback to use tag 0x7634706d/'mp4v'\n",
      "OpenCV: FFMPEG: tag 0x44495658/'XVID' is not supported with codec id 12 and format 'mp4 / MP4 (MPEG-4 Part 14)'\n",
      "OpenCV: FFMPEG: fallback to use tag 0x7634706d/'mp4v'\n"
     ]
    },
    {
     "name": "stdout",
     "output_type": "stream",
     "text": [
      "비디오 저장 완료: UCF_Crimes_10crop/Videos/Testing_Normal_Videos_Anomaly/Normal_Videos_034_x264__2.mp4\n",
      "비디오 저장 완료: UCF_Crimes_10crop/Videos/Testing_Normal_Videos_Anomaly/Normal_Videos_034_x264__7.mp4\n",
      "<class 'list'>\n",
      "<class 'numpy.ndarray'>\n",
      "(120, 160, 3)\n"
     ]
    },
    {
     "name": "stderr",
     "output_type": "stream",
     "text": [
      "OpenCV: FFMPEG: tag 0x44495658/'XVID' is not supported with codec id 12 and format 'mp4 / MP4 (MPEG-4 Part 14)'\n",
      "OpenCV: FFMPEG: fallback to use tag 0x7634706d/'mp4v'\n",
      "OpenCV: FFMPEG: tag 0x44495658/'XVID' is not supported with codec id 12 and format 'mp4 / MP4 (MPEG-4 Part 14)'\n",
      "OpenCV: FFMPEG: fallback to use tag 0x7634706d/'mp4v'\n"
     ]
    },
    {
     "name": "stdout",
     "output_type": "stream",
     "text": [
      "비디오 저장 완료: UCF_Crimes_10crop/Videos/Testing_Normal_Videos_Anomaly/Normal_Videos_034_x264__3.mp4\n",
      "비디오 저장 완료: UCF_Crimes_10crop/Videos/Testing_Normal_Videos_Anomaly/Normal_Videos_034_x264__8.mp4\n",
      "<class 'list'>\n",
      "<class 'numpy.ndarray'>\n",
      "(120, 160, 3)\n"
     ]
    },
    {
     "name": "stderr",
     "output_type": "stream",
     "text": [
      "OpenCV: FFMPEG: tag 0x44495658/'XVID' is not supported with codec id 12 and format 'mp4 / MP4 (MPEG-4 Part 14)'\n",
      "OpenCV: FFMPEG: fallback to use tag 0x7634706d/'mp4v'\n",
      "OpenCV: FFMPEG: tag 0x44495658/'XVID' is not supported with codec id 12 and format 'mp4 / MP4 (MPEG-4 Part 14)'\n",
      "OpenCV: FFMPEG: fallback to use tag 0x7634706d/'mp4v'\n"
     ]
    },
    {
     "name": "stdout",
     "output_type": "stream",
     "text": [
      "비디오 저장 완료: UCF_Crimes_10crop/Videos/Testing_Normal_Videos_Anomaly/Normal_Videos_034_x264__4.mp4\n",
      "비디오 저장 완료: UCF_Crimes_10crop/Videos/Testing_Normal_Videos_Anomaly/Normal_Videos_034_x264__9.mp4\n",
      "320   240\n",
      "FPS: 30.0\n",
      "<class 'list'>\n",
      "<class 'numpy.ndarray'>\n",
      "(120, 160, 3)\n"
     ]
    },
    {
     "name": "stderr",
     "output_type": "stream",
     "text": [
      "OpenCV: FFMPEG: tag 0x44495658/'XVID' is not supported with codec id 12 and format 'mp4 / MP4 (MPEG-4 Part 14)'\n",
      "OpenCV: FFMPEG: fallback to use tag 0x7634706d/'mp4v'\n",
      "OpenCV: FFMPEG: tag 0x44495658/'XVID' is not supported with codec id 12 and format 'mp4 / MP4 (MPEG-4 Part 14)'\n",
      "OpenCV: FFMPEG: fallback to use tag 0x7634706d/'mp4v'\n"
     ]
    },
    {
     "name": "stdout",
     "output_type": "stream",
     "text": [
      "비디오 저장 완료: UCF_Crimes_10crop/Videos/Testing_Normal_Videos_Anomaly/Normal_Videos_882_x264__0.mp4\n",
      "비디오 저장 완료: UCF_Crimes_10crop/Videos/Testing_Normal_Videos_Anomaly/Normal_Videos_882_x264__5.mp4\n",
      "<class 'list'>\n",
      "<class 'numpy.ndarray'>\n",
      "(120, 160, 3)\n"
     ]
    },
    {
     "name": "stderr",
     "output_type": "stream",
     "text": [
      "OpenCV: FFMPEG: tag 0x44495658/'XVID' is not supported with codec id 12 and format 'mp4 / MP4 (MPEG-4 Part 14)'\n",
      "OpenCV: FFMPEG: fallback to use tag 0x7634706d/'mp4v'\n",
      "OpenCV: FFMPEG: tag 0x44495658/'XVID' is not supported with codec id 12 and format 'mp4 / MP4 (MPEG-4 Part 14)'\n",
      "OpenCV: FFMPEG: fallback to use tag 0x7634706d/'mp4v'\n"
     ]
    },
    {
     "name": "stdout",
     "output_type": "stream",
     "text": [
      "비디오 저장 완료: UCF_Crimes_10crop/Videos/Testing_Normal_Videos_Anomaly/Normal_Videos_882_x264__1.mp4\n",
      "비디오 저장 완료: UCF_Crimes_10crop/Videos/Testing_Normal_Videos_Anomaly/Normal_Videos_882_x264__6.mp4\n",
      "<class 'list'>\n",
      "<class 'numpy.ndarray'>\n",
      "(120, 160, 3)\n"
     ]
    },
    {
     "name": "stderr",
     "output_type": "stream",
     "text": [
      "OpenCV: FFMPEG: tag 0x44495658/'XVID' is not supported with codec id 12 and format 'mp4 / MP4 (MPEG-4 Part 14)'\n",
      "OpenCV: FFMPEG: fallback to use tag 0x7634706d/'mp4v'\n",
      "OpenCV: FFMPEG: tag 0x44495658/'XVID' is not supported with codec id 12 and format 'mp4 / MP4 (MPEG-4 Part 14)'\n",
      "OpenCV: FFMPEG: fallback to use tag 0x7634706d/'mp4v'\n"
     ]
    },
    {
     "name": "stdout",
     "output_type": "stream",
     "text": [
      "비디오 저장 완료: UCF_Crimes_10crop/Videos/Testing_Normal_Videos_Anomaly/Normal_Videos_882_x264__2.mp4\n",
      "비디오 저장 완료: UCF_Crimes_10crop/Videos/Testing_Normal_Videos_Anomaly/Normal_Videos_882_x264__7.mp4\n",
      "<class 'list'>\n",
      "<class 'numpy.ndarray'>\n",
      "(120, 160, 3)\n"
     ]
    },
    {
     "name": "stderr",
     "output_type": "stream",
     "text": [
      "OpenCV: FFMPEG: tag 0x44495658/'XVID' is not supported with codec id 12 and format 'mp4 / MP4 (MPEG-4 Part 14)'\n",
      "OpenCV: FFMPEG: fallback to use tag 0x7634706d/'mp4v'\n",
      "OpenCV: FFMPEG: tag 0x44495658/'XVID' is not supported with codec id 12 and format 'mp4 / MP4 (MPEG-4 Part 14)'\n",
      "OpenCV: FFMPEG: fallback to use tag 0x7634706d/'mp4v'\n"
     ]
    },
    {
     "name": "stdout",
     "output_type": "stream",
     "text": [
      "비디오 저장 완료: UCF_Crimes_10crop/Videos/Testing_Normal_Videos_Anomaly/Normal_Videos_882_x264__3.mp4\n",
      "비디오 저장 완료: UCF_Crimes_10crop/Videos/Testing_Normal_Videos_Anomaly/Normal_Videos_882_x264__8.mp4\n",
      "<class 'list'>\n",
      "<class 'numpy.ndarray'>\n",
      "(120, 160, 3)\n"
     ]
    },
    {
     "name": "stderr",
     "output_type": "stream",
     "text": [
      "OpenCV: FFMPEG: tag 0x44495658/'XVID' is not supported with codec id 12 and format 'mp4 / MP4 (MPEG-4 Part 14)'\n",
      "OpenCV: FFMPEG: fallback to use tag 0x7634706d/'mp4v'\n",
      "OpenCV: FFMPEG: tag 0x44495658/'XVID' is not supported with codec id 12 and format 'mp4 / MP4 (MPEG-4 Part 14)'\n",
      "OpenCV: FFMPEG: fallback to use tag 0x7634706d/'mp4v'\n"
     ]
    },
    {
     "name": "stdout",
     "output_type": "stream",
     "text": [
      "비디오 저장 완료: UCF_Crimes_10crop/Videos/Testing_Normal_Videos_Anomaly/Normal_Videos_882_x264__4.mp4\n",
      "비디오 저장 완료: UCF_Crimes_10crop/Videos/Testing_Normal_Videos_Anomaly/Normal_Videos_882_x264__9.mp4\n",
      "320   240\n",
      "FPS: 30.0\n",
      "<class 'list'>\n",
      "<class 'numpy.ndarray'>\n",
      "(120, 160, 3)\n"
     ]
    },
    {
     "name": "stderr",
     "output_type": "stream",
     "text": [
      "OpenCV: FFMPEG: tag 0x44495658/'XVID' is not supported with codec id 12 and format 'mp4 / MP4 (MPEG-4 Part 14)'\n",
      "OpenCV: FFMPEG: fallback to use tag 0x7634706d/'mp4v'\n",
      "OpenCV: FFMPEG: tag 0x44495658/'XVID' is not supported with codec id 12 and format 'mp4 / MP4 (MPEG-4 Part 14)'\n",
      "OpenCV: FFMPEG: fallback to use tag 0x7634706d/'mp4v'\n"
     ]
    },
    {
     "name": "stdout",
     "output_type": "stream",
     "text": [
      "비디오 저장 완료: UCF_Crimes_10crop/Videos/Testing_Normal_Videos_Anomaly/Normal_Videos_931_x264__0.mp4\n",
      "비디오 저장 완료: UCF_Crimes_10crop/Videos/Testing_Normal_Videos_Anomaly/Normal_Videos_931_x264__5.mp4\n",
      "<class 'list'>\n",
      "<class 'numpy.ndarray'>\n",
      "(120, 160, 3)\n"
     ]
    },
    {
     "name": "stderr",
     "output_type": "stream",
     "text": [
      "OpenCV: FFMPEG: tag 0x44495658/'XVID' is not supported with codec id 12 and format 'mp4 / MP4 (MPEG-4 Part 14)'\n",
      "OpenCV: FFMPEG: fallback to use tag 0x7634706d/'mp4v'\n",
      "OpenCV: FFMPEG: tag 0x44495658/'XVID' is not supported with codec id 12 and format 'mp4 / MP4 (MPEG-4 Part 14)'\n",
      "OpenCV: FFMPEG: fallback to use tag 0x7634706d/'mp4v'\n"
     ]
    },
    {
     "name": "stdout",
     "output_type": "stream",
     "text": [
      "비디오 저장 완료: UCF_Crimes_10crop/Videos/Testing_Normal_Videos_Anomaly/Normal_Videos_931_x264__1.mp4\n",
      "비디오 저장 완료: UCF_Crimes_10crop/Videos/Testing_Normal_Videos_Anomaly/Normal_Videos_931_x264__6.mp4\n",
      "<class 'list'>\n",
      "<class 'numpy.ndarray'>\n",
      "(120, 160, 3)\n"
     ]
    },
    {
     "name": "stderr",
     "output_type": "stream",
     "text": [
      "OpenCV: FFMPEG: tag 0x44495658/'XVID' is not supported with codec id 12 and format 'mp4 / MP4 (MPEG-4 Part 14)'\n",
      "OpenCV: FFMPEG: fallback to use tag 0x7634706d/'mp4v'\n",
      "OpenCV: FFMPEG: tag 0x44495658/'XVID' is not supported with codec id 12 and format 'mp4 / MP4 (MPEG-4 Part 14)'\n",
      "OpenCV: FFMPEG: fallback to use tag 0x7634706d/'mp4v'\n"
     ]
    },
    {
     "name": "stdout",
     "output_type": "stream",
     "text": [
      "비디오 저장 완료: UCF_Crimes_10crop/Videos/Testing_Normal_Videos_Anomaly/Normal_Videos_931_x264__2.mp4\n",
      "비디오 저장 완료: UCF_Crimes_10crop/Videos/Testing_Normal_Videos_Anomaly/Normal_Videos_931_x264__7.mp4\n",
      "<class 'list'>\n",
      "<class 'numpy.ndarray'>\n",
      "(120, 160, 3)\n"
     ]
    },
    {
     "name": "stderr",
     "output_type": "stream",
     "text": [
      "OpenCV: FFMPEG: tag 0x44495658/'XVID' is not supported with codec id 12 and format 'mp4 / MP4 (MPEG-4 Part 14)'\n",
      "OpenCV: FFMPEG: fallback to use tag 0x7634706d/'mp4v'\n",
      "OpenCV: FFMPEG: tag 0x44495658/'XVID' is not supported with codec id 12 and format 'mp4 / MP4 (MPEG-4 Part 14)'\n",
      "OpenCV: FFMPEG: fallback to use tag 0x7634706d/'mp4v'\n"
     ]
    },
    {
     "name": "stdout",
     "output_type": "stream",
     "text": [
      "비디오 저장 완료: UCF_Crimes_10crop/Videos/Testing_Normal_Videos_Anomaly/Normal_Videos_931_x264__3.mp4\n",
      "비디오 저장 완료: UCF_Crimes_10crop/Videos/Testing_Normal_Videos_Anomaly/Normal_Videos_931_x264__8.mp4\n",
      "<class 'list'>\n",
      "<class 'numpy.ndarray'>\n",
      "(120, 160, 3)\n"
     ]
    },
    {
     "name": "stderr",
     "output_type": "stream",
     "text": [
      "OpenCV: FFMPEG: tag 0x44495658/'XVID' is not supported with codec id 12 and format 'mp4 / MP4 (MPEG-4 Part 14)'\n",
      "OpenCV: FFMPEG: fallback to use tag 0x7634706d/'mp4v'\n",
      "OpenCV: FFMPEG: tag 0x44495658/'XVID' is not supported with codec id 12 and format 'mp4 / MP4 (MPEG-4 Part 14)'\n",
      "OpenCV: FFMPEG: fallback to use tag 0x7634706d/'mp4v'\n"
     ]
    },
    {
     "name": "stdout",
     "output_type": "stream",
     "text": [
      "비디오 저장 완료: UCF_Crimes_10crop/Videos/Testing_Normal_Videos_Anomaly/Normal_Videos_931_x264__4.mp4\n",
      "비디오 저장 완료: UCF_Crimes_10crop/Videos/Testing_Normal_Videos_Anomaly/Normal_Videos_931_x264__9.mp4\n",
      "320   240\n",
      "FPS: 30.0\n",
      "<class 'list'>\n",
      "<class 'numpy.ndarray'>\n",
      "(120, 160, 3)\n"
     ]
    },
    {
     "name": "stderr",
     "output_type": "stream",
     "text": [
      "OpenCV: FFMPEG: tag 0x44495658/'XVID' is not supported with codec id 12 and format 'mp4 / MP4 (MPEG-4 Part 14)'\n",
      "OpenCV: FFMPEG: fallback to use tag 0x7634706d/'mp4v'\n",
      "OpenCV: FFMPEG: tag 0x44495658/'XVID' is not supported with codec id 12 and format 'mp4 / MP4 (MPEG-4 Part 14)'\n",
      "OpenCV: FFMPEG: fallback to use tag 0x7634706d/'mp4v'\n"
     ]
    },
    {
     "name": "stdout",
     "output_type": "stream",
     "text": [
      "비디오 저장 완료: UCF_Crimes_10crop/Videos/Testing_Normal_Videos_Anomaly/Normal_Videos_050_x264__0.mp4\n",
      "비디오 저장 완료: UCF_Crimes_10crop/Videos/Testing_Normal_Videos_Anomaly/Normal_Videos_050_x264__5.mp4\n",
      "<class 'list'>\n",
      "<class 'numpy.ndarray'>\n",
      "(120, 160, 3)\n"
     ]
    },
    {
     "name": "stderr",
     "output_type": "stream",
     "text": [
      "OpenCV: FFMPEG: tag 0x44495658/'XVID' is not supported with codec id 12 and format 'mp4 / MP4 (MPEG-4 Part 14)'\n",
      "OpenCV: FFMPEG: fallback to use tag 0x7634706d/'mp4v'\n",
      "OpenCV: FFMPEG: tag 0x44495658/'XVID' is not supported with codec id 12 and format 'mp4 / MP4 (MPEG-4 Part 14)'\n",
      "OpenCV: FFMPEG: fallback to use tag 0x7634706d/'mp4v'\n"
     ]
    },
    {
     "name": "stdout",
     "output_type": "stream",
     "text": [
      "비디오 저장 완료: UCF_Crimes_10crop/Videos/Testing_Normal_Videos_Anomaly/Normal_Videos_050_x264__1.mp4\n",
      "비디오 저장 완료: UCF_Crimes_10crop/Videos/Testing_Normal_Videos_Anomaly/Normal_Videos_050_x264__6.mp4\n",
      "<class 'list'>\n",
      "<class 'numpy.ndarray'>\n",
      "(120, 160, 3)\n"
     ]
    },
    {
     "name": "stderr",
     "output_type": "stream",
     "text": [
      "OpenCV: FFMPEG: tag 0x44495658/'XVID' is not supported with codec id 12 and format 'mp4 / MP4 (MPEG-4 Part 14)'\n",
      "OpenCV: FFMPEG: fallback to use tag 0x7634706d/'mp4v'\n",
      "OpenCV: FFMPEG: tag 0x44495658/'XVID' is not supported with codec id 12 and format 'mp4 / MP4 (MPEG-4 Part 14)'\n",
      "OpenCV: FFMPEG: fallback to use tag 0x7634706d/'mp4v'\n"
     ]
    },
    {
     "name": "stdout",
     "output_type": "stream",
     "text": [
      "비디오 저장 완료: UCF_Crimes_10crop/Videos/Testing_Normal_Videos_Anomaly/Normal_Videos_050_x264__2.mp4\n",
      "비디오 저장 완료: UCF_Crimes_10crop/Videos/Testing_Normal_Videos_Anomaly/Normal_Videos_050_x264__7.mp4\n",
      "<class 'list'>\n",
      "<class 'numpy.ndarray'>\n",
      "(120, 160, 3)\n"
     ]
    },
    {
     "name": "stderr",
     "output_type": "stream",
     "text": [
      "OpenCV: FFMPEG: tag 0x44495658/'XVID' is not supported with codec id 12 and format 'mp4 / MP4 (MPEG-4 Part 14)'\n",
      "OpenCV: FFMPEG: fallback to use tag 0x7634706d/'mp4v'\n",
      "OpenCV: FFMPEG: tag 0x44495658/'XVID' is not supported with codec id 12 and format 'mp4 / MP4 (MPEG-4 Part 14)'\n",
      "OpenCV: FFMPEG: fallback to use tag 0x7634706d/'mp4v'\n"
     ]
    },
    {
     "name": "stdout",
     "output_type": "stream",
     "text": [
      "비디오 저장 완료: UCF_Crimes_10crop/Videos/Testing_Normal_Videos_Anomaly/Normal_Videos_050_x264__3.mp4\n",
      "비디오 저장 완료: UCF_Crimes_10crop/Videos/Testing_Normal_Videos_Anomaly/Normal_Videos_050_x264__8.mp4\n",
      "<class 'list'>\n",
      "<class 'numpy.ndarray'>\n",
      "(120, 160, 3)\n"
     ]
    },
    {
     "name": "stderr",
     "output_type": "stream",
     "text": [
      "OpenCV: FFMPEG: tag 0x44495658/'XVID' is not supported with codec id 12 and format 'mp4 / MP4 (MPEG-4 Part 14)'\n",
      "OpenCV: FFMPEG: fallback to use tag 0x7634706d/'mp4v'\n",
      "OpenCV: FFMPEG: tag 0x44495658/'XVID' is not supported with codec id 12 and format 'mp4 / MP4 (MPEG-4 Part 14)'\n",
      "OpenCV: FFMPEG: fallback to use tag 0x7634706d/'mp4v'\n"
     ]
    },
    {
     "name": "stdout",
     "output_type": "stream",
     "text": [
      "비디오 저장 완료: UCF_Crimes_10crop/Videos/Testing_Normal_Videos_Anomaly/Normal_Videos_050_x264__4.mp4\n",
      "비디오 저장 완료: UCF_Crimes_10crop/Videos/Testing_Normal_Videos_Anomaly/Normal_Videos_050_x264__9.mp4\n",
      "320   240\n",
      "FPS: 30.0\n",
      "<class 'list'>\n",
      "<class 'numpy.ndarray'>\n",
      "(120, 160, 3)\n"
     ]
    },
    {
     "name": "stderr",
     "output_type": "stream",
     "text": [
      "OpenCV: FFMPEG: tag 0x44495658/'XVID' is not supported with codec id 12 and format 'mp4 / MP4 (MPEG-4 Part 14)'\n",
      "OpenCV: FFMPEG: fallback to use tag 0x7634706d/'mp4v'\n",
      "OpenCV: FFMPEG: tag 0x44495658/'XVID' is not supported with codec id 12 and format 'mp4 / MP4 (MPEG-4 Part 14)'\n",
      "OpenCV: FFMPEG: fallback to use tag 0x7634706d/'mp4v'\n"
     ]
    },
    {
     "name": "stdout",
     "output_type": "stream",
     "text": [
      "비디오 저장 완료: UCF_Crimes_10crop/Videos/Testing_Normal_Videos_Anomaly/Normal_Videos_871_x264__0.mp4\n",
      "비디오 저장 완료: UCF_Crimes_10crop/Videos/Testing_Normal_Videos_Anomaly/Normal_Videos_871_x264__5.mp4\n",
      "<class 'list'>\n",
      "<class 'numpy.ndarray'>\n",
      "(120, 160, 3)\n"
     ]
    },
    {
     "name": "stderr",
     "output_type": "stream",
     "text": [
      "OpenCV: FFMPEG: tag 0x44495658/'XVID' is not supported with codec id 12 and format 'mp4 / MP4 (MPEG-4 Part 14)'\n",
      "OpenCV: FFMPEG: fallback to use tag 0x7634706d/'mp4v'\n",
      "OpenCV: FFMPEG: tag 0x44495658/'XVID' is not supported with codec id 12 and format 'mp4 / MP4 (MPEG-4 Part 14)'\n",
      "OpenCV: FFMPEG: fallback to use tag 0x7634706d/'mp4v'\n"
     ]
    },
    {
     "name": "stdout",
     "output_type": "stream",
     "text": [
      "비디오 저장 완료: UCF_Crimes_10crop/Videos/Testing_Normal_Videos_Anomaly/Normal_Videos_871_x264__1.mp4\n",
      "비디오 저장 완료: UCF_Crimes_10crop/Videos/Testing_Normal_Videos_Anomaly/Normal_Videos_871_x264__6.mp4\n",
      "<class 'list'>\n",
      "<class 'numpy.ndarray'>\n",
      "(120, 160, 3)\n"
     ]
    },
    {
     "name": "stderr",
     "output_type": "stream",
     "text": [
      "OpenCV: FFMPEG: tag 0x44495658/'XVID' is not supported with codec id 12 and format 'mp4 / MP4 (MPEG-4 Part 14)'\n",
      "OpenCV: FFMPEG: fallback to use tag 0x7634706d/'mp4v'\n",
      "OpenCV: FFMPEG: tag 0x44495658/'XVID' is not supported with codec id 12 and format 'mp4 / MP4 (MPEG-4 Part 14)'\n",
      "OpenCV: FFMPEG: fallback to use tag 0x7634706d/'mp4v'\n"
     ]
    },
    {
     "name": "stdout",
     "output_type": "stream",
     "text": [
      "비디오 저장 완료: UCF_Crimes_10crop/Videos/Testing_Normal_Videos_Anomaly/Normal_Videos_871_x264__2.mp4\n",
      "비디오 저장 완료: UCF_Crimes_10crop/Videos/Testing_Normal_Videos_Anomaly/Normal_Videos_871_x264__7.mp4\n",
      "<class 'list'>\n",
      "<class 'numpy.ndarray'>\n",
      "(120, 160, 3)\n"
     ]
    },
    {
     "name": "stderr",
     "output_type": "stream",
     "text": [
      "OpenCV: FFMPEG: tag 0x44495658/'XVID' is not supported with codec id 12 and format 'mp4 / MP4 (MPEG-4 Part 14)'\n",
      "OpenCV: FFMPEG: fallback to use tag 0x7634706d/'mp4v'\n",
      "OpenCV: FFMPEG: tag 0x44495658/'XVID' is not supported with codec id 12 and format 'mp4 / MP4 (MPEG-4 Part 14)'\n",
      "OpenCV: FFMPEG: fallback to use tag 0x7634706d/'mp4v'\n"
     ]
    },
    {
     "name": "stdout",
     "output_type": "stream",
     "text": [
      "비디오 저장 완료: UCF_Crimes_10crop/Videos/Testing_Normal_Videos_Anomaly/Normal_Videos_871_x264__3.mp4\n",
      "비디오 저장 완료: UCF_Crimes_10crop/Videos/Testing_Normal_Videos_Anomaly/Normal_Videos_871_x264__8.mp4\n",
      "<class 'list'>\n",
      "<class 'numpy.ndarray'>\n",
      "(120, 160, 3)\n"
     ]
    },
    {
     "name": "stderr",
     "output_type": "stream",
     "text": [
      "OpenCV: FFMPEG: tag 0x44495658/'XVID' is not supported with codec id 12 and format 'mp4 / MP4 (MPEG-4 Part 14)'\n",
      "OpenCV: FFMPEG: fallback to use tag 0x7634706d/'mp4v'\n",
      "OpenCV: FFMPEG: tag 0x44495658/'XVID' is not supported with codec id 12 and format 'mp4 / MP4 (MPEG-4 Part 14)'\n",
      "OpenCV: FFMPEG: fallback to use tag 0x7634706d/'mp4v'\n"
     ]
    },
    {
     "name": "stdout",
     "output_type": "stream",
     "text": [
      "비디오 저장 완료: UCF_Crimes_10crop/Videos/Testing_Normal_Videos_Anomaly/Normal_Videos_871_x264__4.mp4\n",
      "비디오 저장 완료: UCF_Crimes_10crop/Videos/Testing_Normal_Videos_Anomaly/Normal_Videos_871_x264__9.mp4\n",
      "320   240\n",
      "FPS: 30.0\n",
      "<class 'list'>\n",
      "<class 'numpy.ndarray'>\n",
      "(120, 160, 3)\n"
     ]
    },
    {
     "name": "stderr",
     "output_type": "stream",
     "text": [
      "OpenCV: FFMPEG: tag 0x44495658/'XVID' is not supported with codec id 12 and format 'mp4 / MP4 (MPEG-4 Part 14)'\n",
      "OpenCV: FFMPEG: fallback to use tag 0x7634706d/'mp4v'\n",
      "OpenCV: FFMPEG: tag 0x44495658/'XVID' is not supported with codec id 12 and format 'mp4 / MP4 (MPEG-4 Part 14)'\n",
      "OpenCV: FFMPEG: fallback to use tag 0x7634706d/'mp4v'\n"
     ]
    },
    {
     "name": "stdout",
     "output_type": "stream",
     "text": [
      "비디오 저장 완료: UCF_Crimes_10crop/Videos/Testing_Normal_Videos_Anomaly/Normal_Videos_927_x264__0.mp4\n",
      "비디오 저장 완료: UCF_Crimes_10crop/Videos/Testing_Normal_Videos_Anomaly/Normal_Videos_927_x264__5.mp4\n",
      "<class 'list'>\n",
      "<class 'numpy.ndarray'>\n",
      "(120, 160, 3)\n"
     ]
    },
    {
     "name": "stderr",
     "output_type": "stream",
     "text": [
      "OpenCV: FFMPEG: tag 0x44495658/'XVID' is not supported with codec id 12 and format 'mp4 / MP4 (MPEG-4 Part 14)'\n",
      "OpenCV: FFMPEG: fallback to use tag 0x7634706d/'mp4v'\n",
      "OpenCV: FFMPEG: tag 0x44495658/'XVID' is not supported with codec id 12 and format 'mp4 / MP4 (MPEG-4 Part 14)'\n",
      "OpenCV: FFMPEG: fallback to use tag 0x7634706d/'mp4v'\n"
     ]
    },
    {
     "name": "stdout",
     "output_type": "stream",
     "text": [
      "비디오 저장 완료: UCF_Crimes_10crop/Videos/Testing_Normal_Videos_Anomaly/Normal_Videos_927_x264__1.mp4\n",
      "비디오 저장 완료: UCF_Crimes_10crop/Videos/Testing_Normal_Videos_Anomaly/Normal_Videos_927_x264__6.mp4\n",
      "<class 'list'>\n",
      "<class 'numpy.ndarray'>\n",
      "(120, 160, 3)\n"
     ]
    },
    {
     "name": "stderr",
     "output_type": "stream",
     "text": [
      "OpenCV: FFMPEG: tag 0x44495658/'XVID' is not supported with codec id 12 and format 'mp4 / MP4 (MPEG-4 Part 14)'\n",
      "OpenCV: FFMPEG: fallback to use tag 0x7634706d/'mp4v'\n",
      "OpenCV: FFMPEG: tag 0x44495658/'XVID' is not supported with codec id 12 and format 'mp4 / MP4 (MPEG-4 Part 14)'\n",
      "OpenCV: FFMPEG: fallback to use tag 0x7634706d/'mp4v'\n"
     ]
    },
    {
     "name": "stdout",
     "output_type": "stream",
     "text": [
      "비디오 저장 완료: UCF_Crimes_10crop/Videos/Testing_Normal_Videos_Anomaly/Normal_Videos_927_x264__2.mp4\n",
      "비디오 저장 완료: UCF_Crimes_10crop/Videos/Testing_Normal_Videos_Anomaly/Normal_Videos_927_x264__7.mp4\n",
      "<class 'list'>\n",
      "<class 'numpy.ndarray'>\n",
      "(120, 160, 3)\n"
     ]
    },
    {
     "name": "stderr",
     "output_type": "stream",
     "text": [
      "OpenCV: FFMPEG: tag 0x44495658/'XVID' is not supported with codec id 12 and format 'mp4 / MP4 (MPEG-4 Part 14)'\n",
      "OpenCV: FFMPEG: fallback to use tag 0x7634706d/'mp4v'\n",
      "OpenCV: FFMPEG: tag 0x44495658/'XVID' is not supported with codec id 12 and format 'mp4 / MP4 (MPEG-4 Part 14)'\n",
      "OpenCV: FFMPEG: fallback to use tag 0x7634706d/'mp4v'\n"
     ]
    },
    {
     "name": "stdout",
     "output_type": "stream",
     "text": [
      "비디오 저장 완료: UCF_Crimes_10crop/Videos/Testing_Normal_Videos_Anomaly/Normal_Videos_927_x264__3.mp4\n",
      "비디오 저장 완료: UCF_Crimes_10crop/Videos/Testing_Normal_Videos_Anomaly/Normal_Videos_927_x264__8.mp4\n",
      "<class 'list'>\n",
      "<class 'numpy.ndarray'>\n",
      "(120, 160, 3)\n"
     ]
    },
    {
     "name": "stderr",
     "output_type": "stream",
     "text": [
      "OpenCV: FFMPEG: tag 0x44495658/'XVID' is not supported with codec id 12 and format 'mp4 / MP4 (MPEG-4 Part 14)'\n",
      "OpenCV: FFMPEG: fallback to use tag 0x7634706d/'mp4v'\n",
      "OpenCV: FFMPEG: tag 0x44495658/'XVID' is not supported with codec id 12 and format 'mp4 / MP4 (MPEG-4 Part 14)'\n",
      "OpenCV: FFMPEG: fallback to use tag 0x7634706d/'mp4v'\n"
     ]
    },
    {
     "name": "stdout",
     "output_type": "stream",
     "text": [
      "비디오 저장 완료: UCF_Crimes_10crop/Videos/Testing_Normal_Videos_Anomaly/Normal_Videos_927_x264__4.mp4\n",
      "비디오 저장 완료: UCF_Crimes_10crop/Videos/Testing_Normal_Videos_Anomaly/Normal_Videos_927_x264__9.mp4\n",
      "320   240\n",
      "FPS: 30.0\n",
      "<class 'list'>\n",
      "<class 'numpy.ndarray'>\n",
      "(120, 160, 3)\n"
     ]
    },
    {
     "name": "stderr",
     "output_type": "stream",
     "text": [
      "OpenCV: FFMPEG: tag 0x44495658/'XVID' is not supported with codec id 12 and format 'mp4 / MP4 (MPEG-4 Part 14)'\n",
      "OpenCV: FFMPEG: fallback to use tag 0x7634706d/'mp4v'\n",
      "OpenCV: FFMPEG: tag 0x44495658/'XVID' is not supported with codec id 12 and format 'mp4 / MP4 (MPEG-4 Part 14)'\n",
      "OpenCV: FFMPEG: fallback to use tag 0x7634706d/'mp4v'\n"
     ]
    },
    {
     "name": "stdout",
     "output_type": "stream",
     "text": [
      "비디오 저장 완료: UCF_Crimes_10crop/Videos/Testing_Normal_Videos_Anomaly/Normal_Videos_722_x264__0.mp4\n",
      "비디오 저장 완료: UCF_Crimes_10crop/Videos/Testing_Normal_Videos_Anomaly/Normal_Videos_722_x264__5.mp4\n",
      "<class 'list'>\n",
      "<class 'numpy.ndarray'>\n",
      "(120, 160, 3)\n"
     ]
    },
    {
     "name": "stderr",
     "output_type": "stream",
     "text": [
      "OpenCV: FFMPEG: tag 0x44495658/'XVID' is not supported with codec id 12 and format 'mp4 / MP4 (MPEG-4 Part 14)'\n",
      "OpenCV: FFMPEG: fallback to use tag 0x7634706d/'mp4v'\n",
      "OpenCV: FFMPEG: tag 0x44495658/'XVID' is not supported with codec id 12 and format 'mp4 / MP4 (MPEG-4 Part 14)'\n",
      "OpenCV: FFMPEG: fallback to use tag 0x7634706d/'mp4v'\n"
     ]
    },
    {
     "name": "stdout",
     "output_type": "stream",
     "text": [
      "비디오 저장 완료: UCF_Crimes_10crop/Videos/Testing_Normal_Videos_Anomaly/Normal_Videos_722_x264__1.mp4\n",
      "비디오 저장 완료: UCF_Crimes_10crop/Videos/Testing_Normal_Videos_Anomaly/Normal_Videos_722_x264__6.mp4\n",
      "<class 'list'>\n",
      "<class 'numpy.ndarray'>\n",
      "(120, 160, 3)\n"
     ]
    },
    {
     "name": "stderr",
     "output_type": "stream",
     "text": [
      "OpenCV: FFMPEG: tag 0x44495658/'XVID' is not supported with codec id 12 and format 'mp4 / MP4 (MPEG-4 Part 14)'\n",
      "OpenCV: FFMPEG: fallback to use tag 0x7634706d/'mp4v'\n",
      "OpenCV: FFMPEG: tag 0x44495658/'XVID' is not supported with codec id 12 and format 'mp4 / MP4 (MPEG-4 Part 14)'\n",
      "OpenCV: FFMPEG: fallback to use tag 0x7634706d/'mp4v'\n"
     ]
    },
    {
     "name": "stdout",
     "output_type": "stream",
     "text": [
      "비디오 저장 완료: UCF_Crimes_10crop/Videos/Testing_Normal_Videos_Anomaly/Normal_Videos_722_x264__2.mp4\n",
      "비디오 저장 완료: UCF_Crimes_10crop/Videos/Testing_Normal_Videos_Anomaly/Normal_Videos_722_x264__7.mp4\n",
      "<class 'list'>\n",
      "<class 'numpy.ndarray'>\n",
      "(120, 160, 3)\n"
     ]
    },
    {
     "name": "stderr",
     "output_type": "stream",
     "text": [
      "OpenCV: FFMPEG: tag 0x44495658/'XVID' is not supported with codec id 12 and format 'mp4 / MP4 (MPEG-4 Part 14)'\n",
      "OpenCV: FFMPEG: fallback to use tag 0x7634706d/'mp4v'\n",
      "OpenCV: FFMPEG: tag 0x44495658/'XVID' is not supported with codec id 12 and format 'mp4 / MP4 (MPEG-4 Part 14)'\n",
      "OpenCV: FFMPEG: fallback to use tag 0x7634706d/'mp4v'\n"
     ]
    },
    {
     "name": "stdout",
     "output_type": "stream",
     "text": [
      "비디오 저장 완료: UCF_Crimes_10crop/Videos/Testing_Normal_Videos_Anomaly/Normal_Videos_722_x264__3.mp4\n",
      "비디오 저장 완료: UCF_Crimes_10crop/Videos/Testing_Normal_Videos_Anomaly/Normal_Videos_722_x264__8.mp4\n",
      "<class 'list'>\n",
      "<class 'numpy.ndarray'>\n",
      "(120, 160, 3)\n"
     ]
    },
    {
     "name": "stderr",
     "output_type": "stream",
     "text": [
      "OpenCV: FFMPEG: tag 0x44495658/'XVID' is not supported with codec id 12 and format 'mp4 / MP4 (MPEG-4 Part 14)'\n",
      "OpenCV: FFMPEG: fallback to use tag 0x7634706d/'mp4v'\n",
      "OpenCV: FFMPEG: tag 0x44495658/'XVID' is not supported with codec id 12 and format 'mp4 / MP4 (MPEG-4 Part 14)'\n",
      "OpenCV: FFMPEG: fallback to use tag 0x7634706d/'mp4v'\n"
     ]
    },
    {
     "name": "stdout",
     "output_type": "stream",
     "text": [
      "비디오 저장 완료: UCF_Crimes_10crop/Videos/Testing_Normal_Videos_Anomaly/Normal_Videos_722_x264__4.mp4\n",
      "비디오 저장 완료: UCF_Crimes_10crop/Videos/Testing_Normal_Videos_Anomaly/Normal_Videos_722_x264__9.mp4\n",
      "320   240\n",
      "FPS: 30.0\n",
      "<class 'list'>\n",
      "<class 'numpy.ndarray'>\n",
      "(120, 160, 3)\n"
     ]
    },
    {
     "name": "stderr",
     "output_type": "stream",
     "text": [
      "OpenCV: FFMPEG: tag 0x44495658/'XVID' is not supported with codec id 12 and format 'mp4 / MP4 (MPEG-4 Part 14)'\n",
      "OpenCV: FFMPEG: fallback to use tag 0x7634706d/'mp4v'\n",
      "OpenCV: FFMPEG: tag 0x44495658/'XVID' is not supported with codec id 12 and format 'mp4 / MP4 (MPEG-4 Part 14)'\n",
      "OpenCV: FFMPEG: fallback to use tag 0x7634706d/'mp4v'\n"
     ]
    },
    {
     "name": "stdout",
     "output_type": "stream",
     "text": [
      "비디오 저장 완료: UCF_Crimes_10crop/Videos/Testing_Normal_Videos_Anomaly/Normal_Videos_873_x264__0.mp4\n",
      "비디오 저장 완료: UCF_Crimes_10crop/Videos/Testing_Normal_Videos_Anomaly/Normal_Videos_873_x264__5.mp4\n",
      "<class 'list'>\n",
      "<class 'numpy.ndarray'>\n",
      "(120, 160, 3)\n"
     ]
    },
    {
     "name": "stderr",
     "output_type": "stream",
     "text": [
      "OpenCV: FFMPEG: tag 0x44495658/'XVID' is not supported with codec id 12 and format 'mp4 / MP4 (MPEG-4 Part 14)'\n",
      "OpenCV: FFMPEG: fallback to use tag 0x7634706d/'mp4v'\n",
      "OpenCV: FFMPEG: tag 0x44495658/'XVID' is not supported with codec id 12 and format 'mp4 / MP4 (MPEG-4 Part 14)'\n",
      "OpenCV: FFMPEG: fallback to use tag 0x7634706d/'mp4v'\n"
     ]
    },
    {
     "name": "stdout",
     "output_type": "stream",
     "text": [
      "비디오 저장 완료: UCF_Crimes_10crop/Videos/Testing_Normal_Videos_Anomaly/Normal_Videos_873_x264__1.mp4\n",
      "비디오 저장 완료: UCF_Crimes_10crop/Videos/Testing_Normal_Videos_Anomaly/Normal_Videos_873_x264__6.mp4\n",
      "<class 'list'>\n",
      "<class 'numpy.ndarray'>\n",
      "(120, 160, 3)\n"
     ]
    },
    {
     "name": "stderr",
     "output_type": "stream",
     "text": [
      "OpenCV: FFMPEG: tag 0x44495658/'XVID' is not supported with codec id 12 and format 'mp4 / MP4 (MPEG-4 Part 14)'\n",
      "OpenCV: FFMPEG: fallback to use tag 0x7634706d/'mp4v'\n",
      "OpenCV: FFMPEG: tag 0x44495658/'XVID' is not supported with codec id 12 and format 'mp4 / MP4 (MPEG-4 Part 14)'\n",
      "OpenCV: FFMPEG: fallback to use tag 0x7634706d/'mp4v'\n"
     ]
    },
    {
     "name": "stdout",
     "output_type": "stream",
     "text": [
      "비디오 저장 완료: UCF_Crimes_10crop/Videos/Testing_Normal_Videos_Anomaly/Normal_Videos_873_x264__2.mp4\n",
      "비디오 저장 완료: UCF_Crimes_10crop/Videos/Testing_Normal_Videos_Anomaly/Normal_Videos_873_x264__7.mp4\n",
      "<class 'list'>\n",
      "<class 'numpy.ndarray'>\n",
      "(120, 160, 3)\n"
     ]
    },
    {
     "name": "stderr",
     "output_type": "stream",
     "text": [
      "OpenCV: FFMPEG: tag 0x44495658/'XVID' is not supported with codec id 12 and format 'mp4 / MP4 (MPEG-4 Part 14)'\n",
      "OpenCV: FFMPEG: fallback to use tag 0x7634706d/'mp4v'\n",
      "OpenCV: FFMPEG: tag 0x44495658/'XVID' is not supported with codec id 12 and format 'mp4 / MP4 (MPEG-4 Part 14)'\n",
      "OpenCV: FFMPEG: fallback to use tag 0x7634706d/'mp4v'\n"
     ]
    },
    {
     "name": "stdout",
     "output_type": "stream",
     "text": [
      "비디오 저장 완료: UCF_Crimes_10crop/Videos/Testing_Normal_Videos_Anomaly/Normal_Videos_873_x264__3.mp4\n",
      "비디오 저장 완료: UCF_Crimes_10crop/Videos/Testing_Normal_Videos_Anomaly/Normal_Videos_873_x264__8.mp4\n",
      "<class 'list'>\n",
      "<class 'numpy.ndarray'>\n",
      "(120, 160, 3)\n"
     ]
    },
    {
     "name": "stderr",
     "output_type": "stream",
     "text": [
      "OpenCV: FFMPEG: tag 0x44495658/'XVID' is not supported with codec id 12 and format 'mp4 / MP4 (MPEG-4 Part 14)'\n",
      "OpenCV: FFMPEG: fallback to use tag 0x7634706d/'mp4v'\n",
      "OpenCV: FFMPEG: tag 0x44495658/'XVID' is not supported with codec id 12 and format 'mp4 / MP4 (MPEG-4 Part 14)'\n",
      "OpenCV: FFMPEG: fallback to use tag 0x7634706d/'mp4v'\n"
     ]
    },
    {
     "name": "stdout",
     "output_type": "stream",
     "text": [
      "비디오 저장 완료: UCF_Crimes_10crop/Videos/Testing_Normal_Videos_Anomaly/Normal_Videos_873_x264__4.mp4\n",
      "비디오 저장 완료: UCF_Crimes_10crop/Videos/Testing_Normal_Videos_Anomaly/Normal_Videos_873_x264__9.mp4\n",
      "320   240\n",
      "FPS: 30.0\n",
      "<class 'list'>\n",
      "<class 'numpy.ndarray'>\n",
      "(120, 160, 3)\n"
     ]
    },
    {
     "name": "stderr",
     "output_type": "stream",
     "text": [
      "OpenCV: FFMPEG: tag 0x44495658/'XVID' is not supported with codec id 12 and format 'mp4 / MP4 (MPEG-4 Part 14)'\n",
      "OpenCV: FFMPEG: fallback to use tag 0x7634706d/'mp4v'\n",
      "OpenCV: FFMPEG: tag 0x44495658/'XVID' is not supported with codec id 12 and format 'mp4 / MP4 (MPEG-4 Part 14)'\n",
      "OpenCV: FFMPEG: fallback to use tag 0x7634706d/'mp4v'\n"
     ]
    },
    {
     "name": "stdout",
     "output_type": "stream",
     "text": [
      "비디오 저장 완료: UCF_Crimes_10crop/Videos/Testing_Normal_Videos_Anomaly/Normal_Videos_041_x264__0.mp4\n",
      "비디오 저장 완료: UCF_Crimes_10crop/Videos/Testing_Normal_Videos_Anomaly/Normal_Videos_041_x264__5.mp4\n",
      "<class 'list'>\n",
      "<class 'numpy.ndarray'>\n",
      "(120, 160, 3)\n"
     ]
    },
    {
     "name": "stderr",
     "output_type": "stream",
     "text": [
      "OpenCV: FFMPEG: tag 0x44495658/'XVID' is not supported with codec id 12 and format 'mp4 / MP4 (MPEG-4 Part 14)'\n",
      "OpenCV: FFMPEG: fallback to use tag 0x7634706d/'mp4v'\n",
      "OpenCV: FFMPEG: tag 0x44495658/'XVID' is not supported with codec id 12 and format 'mp4 / MP4 (MPEG-4 Part 14)'\n",
      "OpenCV: FFMPEG: fallback to use tag 0x7634706d/'mp4v'\n"
     ]
    },
    {
     "name": "stdout",
     "output_type": "stream",
     "text": [
      "비디오 저장 완료: UCF_Crimes_10crop/Videos/Testing_Normal_Videos_Anomaly/Normal_Videos_041_x264__1.mp4\n",
      "비디오 저장 완료: UCF_Crimes_10crop/Videos/Testing_Normal_Videos_Anomaly/Normal_Videos_041_x264__6.mp4\n",
      "<class 'list'>\n",
      "<class 'numpy.ndarray'>\n",
      "(120, 160, 3)\n"
     ]
    },
    {
     "name": "stderr",
     "output_type": "stream",
     "text": [
      "OpenCV: FFMPEG: tag 0x44495658/'XVID' is not supported with codec id 12 and format 'mp4 / MP4 (MPEG-4 Part 14)'\n",
      "OpenCV: FFMPEG: fallback to use tag 0x7634706d/'mp4v'\n",
      "OpenCV: FFMPEG: tag 0x44495658/'XVID' is not supported with codec id 12 and format 'mp4 / MP4 (MPEG-4 Part 14)'\n",
      "OpenCV: FFMPEG: fallback to use tag 0x7634706d/'mp4v'\n"
     ]
    },
    {
     "name": "stdout",
     "output_type": "stream",
     "text": [
      "비디오 저장 완료: UCF_Crimes_10crop/Videos/Testing_Normal_Videos_Anomaly/Normal_Videos_041_x264__2.mp4\n",
      "비디오 저장 완료: UCF_Crimes_10crop/Videos/Testing_Normal_Videos_Anomaly/Normal_Videos_041_x264__7.mp4\n",
      "<class 'list'>\n",
      "<class 'numpy.ndarray'>\n",
      "(120, 160, 3)\n"
     ]
    },
    {
     "name": "stderr",
     "output_type": "stream",
     "text": [
      "OpenCV: FFMPEG: tag 0x44495658/'XVID' is not supported with codec id 12 and format 'mp4 / MP4 (MPEG-4 Part 14)'\n",
      "OpenCV: FFMPEG: fallback to use tag 0x7634706d/'mp4v'\n",
      "OpenCV: FFMPEG: tag 0x44495658/'XVID' is not supported with codec id 12 and format 'mp4 / MP4 (MPEG-4 Part 14)'\n",
      "OpenCV: FFMPEG: fallback to use tag 0x7634706d/'mp4v'\n"
     ]
    },
    {
     "name": "stdout",
     "output_type": "stream",
     "text": [
      "비디오 저장 완료: UCF_Crimes_10crop/Videos/Testing_Normal_Videos_Anomaly/Normal_Videos_041_x264__3.mp4\n",
      "비디오 저장 완료: UCF_Crimes_10crop/Videos/Testing_Normal_Videos_Anomaly/Normal_Videos_041_x264__8.mp4\n",
      "<class 'list'>\n",
      "<class 'numpy.ndarray'>\n",
      "(120, 160, 3)\n"
     ]
    },
    {
     "name": "stderr",
     "output_type": "stream",
     "text": [
      "OpenCV: FFMPEG: tag 0x44495658/'XVID' is not supported with codec id 12 and format 'mp4 / MP4 (MPEG-4 Part 14)'\n",
      "OpenCV: FFMPEG: fallback to use tag 0x7634706d/'mp4v'\n",
      "OpenCV: FFMPEG: tag 0x44495658/'XVID' is not supported with codec id 12 and format 'mp4 / MP4 (MPEG-4 Part 14)'\n",
      "OpenCV: FFMPEG: fallback to use tag 0x7634706d/'mp4v'\n"
     ]
    },
    {
     "name": "stdout",
     "output_type": "stream",
     "text": [
      "비디오 저장 완료: UCF_Crimes_10crop/Videos/Testing_Normal_Videos_Anomaly/Normal_Videos_041_x264__4.mp4\n",
      "비디오 저장 완료: UCF_Crimes_10crop/Videos/Testing_Normal_Videos_Anomaly/Normal_Videos_041_x264__9.mp4\n",
      "320   240\n",
      "FPS: 30.0\n",
      "<class 'list'>\n",
      "<class 'numpy.ndarray'>\n",
      "(120, 160, 3)\n"
     ]
    },
    {
     "name": "stderr",
     "output_type": "stream",
     "text": [
      "OpenCV: FFMPEG: tag 0x44495658/'XVID' is not supported with codec id 12 and format 'mp4 / MP4 (MPEG-4 Part 14)'\n",
      "OpenCV: FFMPEG: fallback to use tag 0x7634706d/'mp4v'\n",
      "OpenCV: FFMPEG: tag 0x44495658/'XVID' is not supported with codec id 12 and format 'mp4 / MP4 (MPEG-4 Part 14)'\n",
      "OpenCV: FFMPEG: fallback to use tag 0x7634706d/'mp4v'\n"
     ]
    },
    {
     "name": "stdout",
     "output_type": "stream",
     "text": [
      "비디오 저장 완료: UCF_Crimes_10crop/Videos/Testing_Normal_Videos_Anomaly/Normal_Videos_930_x264__0.mp4\n",
      "비디오 저장 완료: UCF_Crimes_10crop/Videos/Testing_Normal_Videos_Anomaly/Normal_Videos_930_x264__5.mp4\n",
      "<class 'list'>\n",
      "<class 'numpy.ndarray'>\n",
      "(120, 160, 3)\n"
     ]
    },
    {
     "name": "stderr",
     "output_type": "stream",
     "text": [
      "OpenCV: FFMPEG: tag 0x44495658/'XVID' is not supported with codec id 12 and format 'mp4 / MP4 (MPEG-4 Part 14)'\n",
      "OpenCV: FFMPEG: fallback to use tag 0x7634706d/'mp4v'\n",
      "OpenCV: FFMPEG: tag 0x44495658/'XVID' is not supported with codec id 12 and format 'mp4 / MP4 (MPEG-4 Part 14)'\n",
      "OpenCV: FFMPEG: fallback to use tag 0x7634706d/'mp4v'\n"
     ]
    },
    {
     "name": "stdout",
     "output_type": "stream",
     "text": [
      "비디오 저장 완료: UCF_Crimes_10crop/Videos/Testing_Normal_Videos_Anomaly/Normal_Videos_930_x264__1.mp4\n",
      "비디오 저장 완료: UCF_Crimes_10crop/Videos/Testing_Normal_Videos_Anomaly/Normal_Videos_930_x264__6.mp4\n",
      "<class 'list'>\n",
      "<class 'numpy.ndarray'>\n",
      "(120, 160, 3)\n"
     ]
    },
    {
     "name": "stderr",
     "output_type": "stream",
     "text": [
      "OpenCV: FFMPEG: tag 0x44495658/'XVID' is not supported with codec id 12 and format 'mp4 / MP4 (MPEG-4 Part 14)'\n",
      "OpenCV: FFMPEG: fallback to use tag 0x7634706d/'mp4v'\n",
      "OpenCV: FFMPEG: tag 0x44495658/'XVID' is not supported with codec id 12 and format 'mp4 / MP4 (MPEG-4 Part 14)'\n",
      "OpenCV: FFMPEG: fallback to use tag 0x7634706d/'mp4v'\n"
     ]
    },
    {
     "name": "stdout",
     "output_type": "stream",
     "text": [
      "비디오 저장 완료: UCF_Crimes_10crop/Videos/Testing_Normal_Videos_Anomaly/Normal_Videos_930_x264__2.mp4\n",
      "비디오 저장 완료: UCF_Crimes_10crop/Videos/Testing_Normal_Videos_Anomaly/Normal_Videos_930_x264__7.mp4\n",
      "<class 'list'>\n",
      "<class 'numpy.ndarray'>\n",
      "(120, 160, 3)\n"
     ]
    },
    {
     "name": "stderr",
     "output_type": "stream",
     "text": [
      "OpenCV: FFMPEG: tag 0x44495658/'XVID' is not supported with codec id 12 and format 'mp4 / MP4 (MPEG-4 Part 14)'\n",
      "OpenCV: FFMPEG: fallback to use tag 0x7634706d/'mp4v'\n",
      "OpenCV: FFMPEG: tag 0x44495658/'XVID' is not supported with codec id 12 and format 'mp4 / MP4 (MPEG-4 Part 14)'\n",
      "OpenCV: FFMPEG: fallback to use tag 0x7634706d/'mp4v'\n"
     ]
    },
    {
     "name": "stdout",
     "output_type": "stream",
     "text": [
      "비디오 저장 완료: UCF_Crimes_10crop/Videos/Testing_Normal_Videos_Anomaly/Normal_Videos_930_x264__3.mp4\n",
      "비디오 저장 완료: UCF_Crimes_10crop/Videos/Testing_Normal_Videos_Anomaly/Normal_Videos_930_x264__8.mp4\n",
      "<class 'list'>\n",
      "<class 'numpy.ndarray'>\n",
      "(120, 160, 3)\n"
     ]
    },
    {
     "name": "stderr",
     "output_type": "stream",
     "text": [
      "OpenCV: FFMPEG: tag 0x44495658/'XVID' is not supported with codec id 12 and format 'mp4 / MP4 (MPEG-4 Part 14)'\n",
      "OpenCV: FFMPEG: fallback to use tag 0x7634706d/'mp4v'\n",
      "OpenCV: FFMPEG: tag 0x44495658/'XVID' is not supported with codec id 12 and format 'mp4 / MP4 (MPEG-4 Part 14)'\n",
      "OpenCV: FFMPEG: fallback to use tag 0x7634706d/'mp4v'\n"
     ]
    },
    {
     "name": "stdout",
     "output_type": "stream",
     "text": [
      "비디오 저장 완료: UCF_Crimes_10crop/Videos/Testing_Normal_Videos_Anomaly/Normal_Videos_930_x264__4.mp4\n",
      "비디오 저장 완료: UCF_Crimes_10crop/Videos/Testing_Normal_Videos_Anomaly/Normal_Videos_930_x264__9.mp4\n",
      "320   240\n",
      "FPS: 30.0\n",
      "<class 'list'>\n",
      "<class 'numpy.ndarray'>\n",
      "(120, 160, 3)\n"
     ]
    },
    {
     "name": "stderr",
     "output_type": "stream",
     "text": [
      "OpenCV: FFMPEG: tag 0x44495658/'XVID' is not supported with codec id 12 and format 'mp4 / MP4 (MPEG-4 Part 14)'\n",
      "OpenCV: FFMPEG: fallback to use tag 0x7634706d/'mp4v'\n",
      "OpenCV: FFMPEG: tag 0x44495658/'XVID' is not supported with codec id 12 and format 'mp4 / MP4 (MPEG-4 Part 14)'\n",
      "OpenCV: FFMPEG: fallback to use tag 0x7634706d/'mp4v'\n"
     ]
    },
    {
     "name": "stdout",
     "output_type": "stream",
     "text": [
      "비디오 저장 완료: UCF_Crimes_10crop/Videos/Testing_Normal_Videos_Anomaly/Normal_Videos_417_x264__0.mp4\n",
      "비디오 저장 완료: UCF_Crimes_10crop/Videos/Testing_Normal_Videos_Anomaly/Normal_Videos_417_x264__5.mp4\n",
      "<class 'list'>\n",
      "<class 'numpy.ndarray'>\n",
      "(120, 160, 3)\n"
     ]
    },
    {
     "name": "stderr",
     "output_type": "stream",
     "text": [
      "OpenCV: FFMPEG: tag 0x44495658/'XVID' is not supported with codec id 12 and format 'mp4 / MP4 (MPEG-4 Part 14)'\n",
      "OpenCV: FFMPEG: fallback to use tag 0x7634706d/'mp4v'\n",
      "OpenCV: FFMPEG: tag 0x44495658/'XVID' is not supported with codec id 12 and format 'mp4 / MP4 (MPEG-4 Part 14)'\n",
      "OpenCV: FFMPEG: fallback to use tag 0x7634706d/'mp4v'\n"
     ]
    },
    {
     "name": "stdout",
     "output_type": "stream",
     "text": [
      "비디오 저장 완료: UCF_Crimes_10crop/Videos/Testing_Normal_Videos_Anomaly/Normal_Videos_417_x264__1.mp4\n",
      "비디오 저장 완료: UCF_Crimes_10crop/Videos/Testing_Normal_Videos_Anomaly/Normal_Videos_417_x264__6.mp4\n",
      "<class 'list'>\n",
      "<class 'numpy.ndarray'>\n",
      "(120, 160, 3)\n"
     ]
    },
    {
     "name": "stderr",
     "output_type": "stream",
     "text": [
      "OpenCV: FFMPEG: tag 0x44495658/'XVID' is not supported with codec id 12 and format 'mp4 / MP4 (MPEG-4 Part 14)'\n",
      "OpenCV: FFMPEG: fallback to use tag 0x7634706d/'mp4v'\n",
      "OpenCV: FFMPEG: tag 0x44495658/'XVID' is not supported with codec id 12 and format 'mp4 / MP4 (MPEG-4 Part 14)'\n",
      "OpenCV: FFMPEG: fallback to use tag 0x7634706d/'mp4v'\n"
     ]
    },
    {
     "name": "stdout",
     "output_type": "stream",
     "text": [
      "비디오 저장 완료: UCF_Crimes_10crop/Videos/Testing_Normal_Videos_Anomaly/Normal_Videos_417_x264__2.mp4\n",
      "비디오 저장 완료: UCF_Crimes_10crop/Videos/Testing_Normal_Videos_Anomaly/Normal_Videos_417_x264__7.mp4\n",
      "<class 'list'>\n",
      "<class 'numpy.ndarray'>\n",
      "(120, 160, 3)\n"
     ]
    },
    {
     "name": "stderr",
     "output_type": "stream",
     "text": [
      "OpenCV: FFMPEG: tag 0x44495658/'XVID' is not supported with codec id 12 and format 'mp4 / MP4 (MPEG-4 Part 14)'\n",
      "OpenCV: FFMPEG: fallback to use tag 0x7634706d/'mp4v'\n",
      "OpenCV: FFMPEG: tag 0x44495658/'XVID' is not supported with codec id 12 and format 'mp4 / MP4 (MPEG-4 Part 14)'\n",
      "OpenCV: FFMPEG: fallback to use tag 0x7634706d/'mp4v'\n"
     ]
    },
    {
     "name": "stdout",
     "output_type": "stream",
     "text": [
      "비디오 저장 완료: UCF_Crimes_10crop/Videos/Testing_Normal_Videos_Anomaly/Normal_Videos_417_x264__3.mp4\n",
      "비디오 저장 완료: UCF_Crimes_10crop/Videos/Testing_Normal_Videos_Anomaly/Normal_Videos_417_x264__8.mp4\n",
      "<class 'list'>\n",
      "<class 'numpy.ndarray'>\n",
      "(120, 160, 3)\n",
      "비디오 저장 완료: UCF_Crimes_10crop/Videos/Testing_Normal_Videos_Anomaly/Normal_Videos_417_x264__4.mp4\n",
      "비디오 저장 완료: UCF_Crimes_10crop/Videos/Testing_Normal_Videos_Anomaly/Normal_Videos_417_x264__9.mp4\n"
     ]
    },
    {
     "name": "stderr",
     "output_type": "stream",
     "text": [
      "OpenCV: FFMPEG: tag 0x44495658/'XVID' is not supported with codec id 12 and format 'mp4 / MP4 (MPEG-4 Part 14)'\n",
      "OpenCV: FFMPEG: fallback to use tag 0x7634706d/'mp4v'\n",
      "OpenCV: FFMPEG: tag 0x44495658/'XVID' is not supported with codec id 12 and format 'mp4 / MP4 (MPEG-4 Part 14)'\n",
      "OpenCV: FFMPEG: fallback to use tag 0x7634706d/'mp4v'\n"
     ]
    },
    {
     "name": "stdout",
     "output_type": "stream",
     "text": [
      "320   240\n",
      "FPS: 30.0\n",
      "<class 'list'>\n",
      "<class 'numpy.ndarray'>\n",
      "(120, 160, 3)\n"
     ]
    },
    {
     "name": "stderr",
     "output_type": "stream",
     "text": [
      "OpenCV: FFMPEG: tag 0x44495658/'XVID' is not supported with codec id 12 and format 'mp4 / MP4 (MPEG-4 Part 14)'\n",
      "OpenCV: FFMPEG: fallback to use tag 0x7634706d/'mp4v'\n",
      "OpenCV: FFMPEG: tag 0x44495658/'XVID' is not supported with codec id 12 and format 'mp4 / MP4 (MPEG-4 Part 14)'\n",
      "OpenCV: FFMPEG: fallback to use tag 0x7634706d/'mp4v'\n"
     ]
    },
    {
     "name": "stdout",
     "output_type": "stream",
     "text": [
      "비디오 저장 완료: UCF_Crimes_10crop/Videos/Testing_Normal_Videos_Anomaly/Normal_Videos_894_x264__0.mp4\n",
      "비디오 저장 완료: UCF_Crimes_10crop/Videos/Testing_Normal_Videos_Anomaly/Normal_Videos_894_x264__5.mp4\n",
      "<class 'list'>\n",
      "<class 'numpy.ndarray'>\n",
      "(120, 160, 3)\n"
     ]
    },
    {
     "name": "stderr",
     "output_type": "stream",
     "text": [
      "OpenCV: FFMPEG: tag 0x44495658/'XVID' is not supported with codec id 12 and format 'mp4 / MP4 (MPEG-4 Part 14)'\n",
      "OpenCV: FFMPEG: fallback to use tag 0x7634706d/'mp4v'\n",
      "OpenCV: FFMPEG: tag 0x44495658/'XVID' is not supported with codec id 12 and format 'mp4 / MP4 (MPEG-4 Part 14)'\n",
      "OpenCV: FFMPEG: fallback to use tag 0x7634706d/'mp4v'\n"
     ]
    },
    {
     "name": "stdout",
     "output_type": "stream",
     "text": [
      "비디오 저장 완료: UCF_Crimes_10crop/Videos/Testing_Normal_Videos_Anomaly/Normal_Videos_894_x264__1.mp4\n",
      "비디오 저장 완료: UCF_Crimes_10crop/Videos/Testing_Normal_Videos_Anomaly/Normal_Videos_894_x264__6.mp4\n",
      "<class 'list'>\n",
      "<class 'numpy.ndarray'>\n",
      "(120, 160, 3)\n"
     ]
    },
    {
     "name": "stderr",
     "output_type": "stream",
     "text": [
      "OpenCV: FFMPEG: tag 0x44495658/'XVID' is not supported with codec id 12 and format 'mp4 / MP4 (MPEG-4 Part 14)'\n",
      "OpenCV: FFMPEG: fallback to use tag 0x7634706d/'mp4v'\n",
      "OpenCV: FFMPEG: tag 0x44495658/'XVID' is not supported with codec id 12 and format 'mp4 / MP4 (MPEG-4 Part 14)'\n",
      "OpenCV: FFMPEG: fallback to use tag 0x7634706d/'mp4v'\n"
     ]
    },
    {
     "name": "stdout",
     "output_type": "stream",
     "text": [
      "비디오 저장 완료: UCF_Crimes_10crop/Videos/Testing_Normal_Videos_Anomaly/Normal_Videos_894_x264__2.mp4\n",
      "비디오 저장 완료: UCF_Crimes_10crop/Videos/Testing_Normal_Videos_Anomaly/Normal_Videos_894_x264__7.mp4\n",
      "<class 'list'>\n",
      "<class 'numpy.ndarray'>\n",
      "(120, 160, 3)\n"
     ]
    },
    {
     "name": "stderr",
     "output_type": "stream",
     "text": [
      "OpenCV: FFMPEG: tag 0x44495658/'XVID' is not supported with codec id 12 and format 'mp4 / MP4 (MPEG-4 Part 14)'\n",
      "OpenCV: FFMPEG: fallback to use tag 0x7634706d/'mp4v'\n",
      "OpenCV: FFMPEG: tag 0x44495658/'XVID' is not supported with codec id 12 and format 'mp4 / MP4 (MPEG-4 Part 14)'\n",
      "OpenCV: FFMPEG: fallback to use tag 0x7634706d/'mp4v'\n"
     ]
    },
    {
     "name": "stdout",
     "output_type": "stream",
     "text": [
      "비디오 저장 완료: UCF_Crimes_10crop/Videos/Testing_Normal_Videos_Anomaly/Normal_Videos_894_x264__3.mp4\n",
      "비디오 저장 완료: UCF_Crimes_10crop/Videos/Testing_Normal_Videos_Anomaly/Normal_Videos_894_x264__8.mp4\n",
      "<class 'list'>\n",
      "<class 'numpy.ndarray'>\n",
      "(120, 160, 3)\n"
     ]
    },
    {
     "name": "stderr",
     "output_type": "stream",
     "text": [
      "OpenCV: FFMPEG: tag 0x44495658/'XVID' is not supported with codec id 12 and format 'mp4 / MP4 (MPEG-4 Part 14)'\n",
      "OpenCV: FFMPEG: fallback to use tag 0x7634706d/'mp4v'\n",
      "OpenCV: FFMPEG: tag 0x44495658/'XVID' is not supported with codec id 12 and format 'mp4 / MP4 (MPEG-4 Part 14)'\n",
      "OpenCV: FFMPEG: fallback to use tag 0x7634706d/'mp4v'\n"
     ]
    },
    {
     "name": "stdout",
     "output_type": "stream",
     "text": [
      "비디오 저장 완료: UCF_Crimes_10crop/Videos/Testing_Normal_Videos_Anomaly/Normal_Videos_894_x264__4.mp4\n",
      "비디오 저장 완료: UCF_Crimes_10crop/Videos/Testing_Normal_Videos_Anomaly/Normal_Videos_894_x264__9.mp4\n",
      "320   240\n",
      "FPS: 30.0\n",
      "<class 'list'>\n",
      "<class 'numpy.ndarray'>\n",
      "(120, 160, 3)\n"
     ]
    },
    {
     "name": "stderr",
     "output_type": "stream",
     "text": [
      "OpenCV: FFMPEG: tag 0x44495658/'XVID' is not supported with codec id 12 and format 'mp4 / MP4 (MPEG-4 Part 14)'\n",
      "OpenCV: FFMPEG: fallback to use tag 0x7634706d/'mp4v'\n",
      "OpenCV: FFMPEG: tag 0x44495658/'XVID' is not supported with codec id 12 and format 'mp4 / MP4 (MPEG-4 Part 14)'\n",
      "OpenCV: FFMPEG: fallback to use tag 0x7634706d/'mp4v'\n"
     ]
    },
    {
     "name": "stdout",
     "output_type": "stream",
     "text": [
      "비디오 저장 완료: UCF_Crimes_10crop/Videos/Testing_Normal_Videos_Anomaly/Normal_Videos_710_x264__0.mp4\n",
      "비디오 저장 완료: UCF_Crimes_10crop/Videos/Testing_Normal_Videos_Anomaly/Normal_Videos_710_x264__5.mp4\n",
      "<class 'list'>\n",
      "<class 'numpy.ndarray'>\n",
      "(120, 160, 3)\n"
     ]
    },
    {
     "name": "stderr",
     "output_type": "stream",
     "text": [
      "OpenCV: FFMPEG: tag 0x44495658/'XVID' is not supported with codec id 12 and format 'mp4 / MP4 (MPEG-4 Part 14)'\n",
      "OpenCV: FFMPEG: fallback to use tag 0x7634706d/'mp4v'\n",
      "OpenCV: FFMPEG: tag 0x44495658/'XVID' is not supported with codec id 12 and format 'mp4 / MP4 (MPEG-4 Part 14)'\n",
      "OpenCV: FFMPEG: fallback to use tag 0x7634706d/'mp4v'\n"
     ]
    },
    {
     "name": "stdout",
     "output_type": "stream",
     "text": [
      "비디오 저장 완료: UCF_Crimes_10crop/Videos/Testing_Normal_Videos_Anomaly/Normal_Videos_710_x264__1.mp4\n",
      "비디오 저장 완료: UCF_Crimes_10crop/Videos/Testing_Normal_Videos_Anomaly/Normal_Videos_710_x264__6.mp4\n",
      "<class 'list'>\n",
      "<class 'numpy.ndarray'>\n",
      "(120, 160, 3)\n"
     ]
    },
    {
     "name": "stderr",
     "output_type": "stream",
     "text": [
      "OpenCV: FFMPEG: tag 0x44495658/'XVID' is not supported with codec id 12 and format 'mp4 / MP4 (MPEG-4 Part 14)'\n",
      "OpenCV: FFMPEG: fallback to use tag 0x7634706d/'mp4v'\n",
      "OpenCV: FFMPEG: tag 0x44495658/'XVID' is not supported with codec id 12 and format 'mp4 / MP4 (MPEG-4 Part 14)'\n",
      "OpenCV: FFMPEG: fallback to use tag 0x7634706d/'mp4v'\n"
     ]
    },
    {
     "name": "stdout",
     "output_type": "stream",
     "text": [
      "비디오 저장 완료: UCF_Crimes_10crop/Videos/Testing_Normal_Videos_Anomaly/Normal_Videos_710_x264__2.mp4\n",
      "비디오 저장 완료: UCF_Crimes_10crop/Videos/Testing_Normal_Videos_Anomaly/Normal_Videos_710_x264__7.mp4\n",
      "<class 'list'>\n",
      "<class 'numpy.ndarray'>\n",
      "(120, 160, 3)\n"
     ]
    },
    {
     "name": "stderr",
     "output_type": "stream",
     "text": [
      "OpenCV: FFMPEG: tag 0x44495658/'XVID' is not supported with codec id 12 and format 'mp4 / MP4 (MPEG-4 Part 14)'\n",
      "OpenCV: FFMPEG: fallback to use tag 0x7634706d/'mp4v'\n",
      "OpenCV: FFMPEG: tag 0x44495658/'XVID' is not supported with codec id 12 and format 'mp4 / MP4 (MPEG-4 Part 14)'\n",
      "OpenCV: FFMPEG: fallback to use tag 0x7634706d/'mp4v'\n"
     ]
    },
    {
     "name": "stdout",
     "output_type": "stream",
     "text": [
      "비디오 저장 완료: UCF_Crimes_10crop/Videos/Testing_Normal_Videos_Anomaly/Normal_Videos_710_x264__3.mp4\n",
      "비디오 저장 완료: UCF_Crimes_10crop/Videos/Testing_Normal_Videos_Anomaly/Normal_Videos_710_x264__8.mp4\n",
      "<class 'list'>\n",
      "<class 'numpy.ndarray'>\n",
      "(120, 160, 3)\n"
     ]
    },
    {
     "name": "stderr",
     "output_type": "stream",
     "text": [
      "OpenCV: FFMPEG: tag 0x44495658/'XVID' is not supported with codec id 12 and format 'mp4 / MP4 (MPEG-4 Part 14)'\n",
      "OpenCV: FFMPEG: fallback to use tag 0x7634706d/'mp4v'\n",
      "OpenCV: FFMPEG: tag 0x44495658/'XVID' is not supported with codec id 12 and format 'mp4 / MP4 (MPEG-4 Part 14)'\n",
      "OpenCV: FFMPEG: fallback to use tag 0x7634706d/'mp4v'\n"
     ]
    },
    {
     "name": "stdout",
     "output_type": "stream",
     "text": [
      "비디오 저장 완료: UCF_Crimes_10crop/Videos/Testing_Normal_Videos_Anomaly/Normal_Videos_710_x264__4.mp4\n",
      "비디오 저장 완료: UCF_Crimes_10crop/Videos/Testing_Normal_Videos_Anomaly/Normal_Videos_710_x264__9.mp4\n",
      "320   240\n",
      "FPS: 30.0\n",
      "<class 'list'>\n",
      "<class 'numpy.ndarray'>\n",
      "(120, 160, 3)\n"
     ]
    },
    {
     "name": "stderr",
     "output_type": "stream",
     "text": [
      "OpenCV: FFMPEG: tag 0x44495658/'XVID' is not supported with codec id 12 and format 'mp4 / MP4 (MPEG-4 Part 14)'\n",
      "OpenCV: FFMPEG: fallback to use tag 0x7634706d/'mp4v'\n",
      "OpenCV: FFMPEG: tag 0x44495658/'XVID' is not supported with codec id 12 and format 'mp4 / MP4 (MPEG-4 Part 14)'\n",
      "OpenCV: FFMPEG: fallback to use tag 0x7634706d/'mp4v'\n"
     ]
    },
    {
     "name": "stdout",
     "output_type": "stream",
     "text": [
      "비디오 저장 완료: UCF_Crimes_10crop/Videos/Testing_Normal_Videos_Anomaly/Normal_Videos_019_x264__0.mp4\n",
      "비디오 저장 완료: UCF_Crimes_10crop/Videos/Testing_Normal_Videos_Anomaly/Normal_Videos_019_x264__5.mp4\n",
      "<class 'list'>\n",
      "<class 'numpy.ndarray'>\n",
      "(120, 160, 3)\n"
     ]
    },
    {
     "name": "stderr",
     "output_type": "stream",
     "text": [
      "OpenCV: FFMPEG: tag 0x44495658/'XVID' is not supported with codec id 12 and format 'mp4 / MP4 (MPEG-4 Part 14)'\n",
      "OpenCV: FFMPEG: fallback to use tag 0x7634706d/'mp4v'\n",
      "OpenCV: FFMPEG: tag 0x44495658/'XVID' is not supported with codec id 12 and format 'mp4 / MP4 (MPEG-4 Part 14)'\n",
      "OpenCV: FFMPEG: fallback to use tag 0x7634706d/'mp4v'\n"
     ]
    },
    {
     "name": "stdout",
     "output_type": "stream",
     "text": [
      "비디오 저장 완료: UCF_Crimes_10crop/Videos/Testing_Normal_Videos_Anomaly/Normal_Videos_019_x264__1.mp4\n",
      "비디오 저장 완료: UCF_Crimes_10crop/Videos/Testing_Normal_Videos_Anomaly/Normal_Videos_019_x264__6.mp4\n",
      "<class 'list'>\n",
      "<class 'numpy.ndarray'>\n",
      "(120, 160, 3)\n"
     ]
    },
    {
     "name": "stderr",
     "output_type": "stream",
     "text": [
      "OpenCV: FFMPEG: tag 0x44495658/'XVID' is not supported with codec id 12 and format 'mp4 / MP4 (MPEG-4 Part 14)'\n",
      "OpenCV: FFMPEG: fallback to use tag 0x7634706d/'mp4v'\n",
      "OpenCV: FFMPEG: tag 0x44495658/'XVID' is not supported with codec id 12 and format 'mp4 / MP4 (MPEG-4 Part 14)'\n",
      "OpenCV: FFMPEG: fallback to use tag 0x7634706d/'mp4v'\n"
     ]
    },
    {
     "name": "stdout",
     "output_type": "stream",
     "text": [
      "비디오 저장 완료: UCF_Crimes_10crop/Videos/Testing_Normal_Videos_Anomaly/Normal_Videos_019_x264__2.mp4\n",
      "비디오 저장 완료: UCF_Crimes_10crop/Videos/Testing_Normal_Videos_Anomaly/Normal_Videos_019_x264__7.mp4\n",
      "<class 'list'>\n",
      "<class 'numpy.ndarray'>\n",
      "(120, 160, 3)\n"
     ]
    },
    {
     "name": "stderr",
     "output_type": "stream",
     "text": [
      "OpenCV: FFMPEG: tag 0x44495658/'XVID' is not supported with codec id 12 and format 'mp4 / MP4 (MPEG-4 Part 14)'\n",
      "OpenCV: FFMPEG: fallback to use tag 0x7634706d/'mp4v'\n",
      "OpenCV: FFMPEG: tag 0x44495658/'XVID' is not supported with codec id 12 and format 'mp4 / MP4 (MPEG-4 Part 14)'\n",
      "OpenCV: FFMPEG: fallback to use tag 0x7634706d/'mp4v'\n"
     ]
    },
    {
     "name": "stdout",
     "output_type": "stream",
     "text": [
      "비디오 저장 완료: UCF_Crimes_10crop/Videos/Testing_Normal_Videos_Anomaly/Normal_Videos_019_x264__3.mp4\n",
      "비디오 저장 완료: UCF_Crimes_10crop/Videos/Testing_Normal_Videos_Anomaly/Normal_Videos_019_x264__8.mp4\n",
      "<class 'list'>\n",
      "<class 'numpy.ndarray'>\n",
      "(120, 160, 3)\n"
     ]
    },
    {
     "name": "stderr",
     "output_type": "stream",
     "text": [
      "OpenCV: FFMPEG: tag 0x44495658/'XVID' is not supported with codec id 12 and format 'mp4 / MP4 (MPEG-4 Part 14)'\n",
      "OpenCV: FFMPEG: fallback to use tag 0x7634706d/'mp4v'\n",
      "OpenCV: FFMPEG: tag 0x44495658/'XVID' is not supported with codec id 12 and format 'mp4 / MP4 (MPEG-4 Part 14)'\n",
      "OpenCV: FFMPEG: fallback to use tag 0x7634706d/'mp4v'\n"
     ]
    },
    {
     "name": "stdout",
     "output_type": "stream",
     "text": [
      "비디오 저장 완료: UCF_Crimes_10crop/Videos/Testing_Normal_Videos_Anomaly/Normal_Videos_019_x264__4.mp4\n",
      "비디오 저장 완료: UCF_Crimes_10crop/Videos/Testing_Normal_Videos_Anomaly/Normal_Videos_019_x264__9.mp4\n",
      "320   240\n",
      "FPS: 30.0\n",
      "<class 'list'>\n",
      "<class 'numpy.ndarray'>\n",
      "(120, 160, 3)\n",
      "비디오 저장 완료: UCF_Crimes_10crop/Videos/Testing_Normal_Videos_Anomaly/Normal_Videos_906_x264__0.mp4\n",
      "비디오 저장 완료: UCF_Crimes_10crop/Videos/Testing_Normal_Videos_Anomaly/Normal_Videos_906_x264__5.mp4\n",
      "<class 'list'>\n",
      "<class 'numpy.ndarray'>\n",
      "(120, 160, 3)\n"
     ]
    },
    {
     "name": "stderr",
     "output_type": "stream",
     "text": [
      "OpenCV: FFMPEG: tag 0x44495658/'XVID' is not supported with codec id 12 and format 'mp4 / MP4 (MPEG-4 Part 14)'\n",
      "OpenCV: FFMPEG: fallback to use tag 0x7634706d/'mp4v'\n",
      "OpenCV: FFMPEG: tag 0x44495658/'XVID' is not supported with codec id 12 and format 'mp4 / MP4 (MPEG-4 Part 14)'\n",
      "OpenCV: FFMPEG: fallback to use tag 0x7634706d/'mp4v'\n",
      "OpenCV: FFMPEG: tag 0x44495658/'XVID' is not supported with codec id 12 and format 'mp4 / MP4 (MPEG-4 Part 14)'\n",
      "OpenCV: FFMPEG: fallback to use tag 0x7634706d/'mp4v'\n",
      "OpenCV: FFMPEG: tag 0x44495658/'XVID' is not supported with codec id 12 and format 'mp4 / MP4 (MPEG-4 Part 14)'\n",
      "OpenCV: FFMPEG: fallback to use tag 0x7634706d/'mp4v'\n"
     ]
    },
    {
     "name": "stdout",
     "output_type": "stream",
     "text": [
      "비디오 저장 완료: UCF_Crimes_10crop/Videos/Testing_Normal_Videos_Anomaly/Normal_Videos_906_x264__1.mp4\n",
      "비디오 저장 완료: UCF_Crimes_10crop/Videos/Testing_Normal_Videos_Anomaly/Normal_Videos_906_x264__6.mp4\n",
      "<class 'list'>\n",
      "<class 'numpy.ndarray'>\n",
      "(120, 160, 3)\n",
      "비디오 저장 완료: UCF_Crimes_10crop/Videos/Testing_Normal_Videos_Anomaly/Normal_Videos_906_x264__2.mp4\n",
      "비디오 저장 완료: UCF_Crimes_10crop/Videos/Testing_Normal_Videos_Anomaly/Normal_Videos_906_x264__7.mp4\n",
      "<class 'list'>\n",
      "<class 'numpy.ndarray'>\n",
      "(120, 160, 3)\n"
     ]
    },
    {
     "name": "stderr",
     "output_type": "stream",
     "text": [
      "OpenCV: FFMPEG: tag 0x44495658/'XVID' is not supported with codec id 12 and format 'mp4 / MP4 (MPEG-4 Part 14)'\n",
      "OpenCV: FFMPEG: fallback to use tag 0x7634706d/'mp4v'\n",
      "OpenCV: FFMPEG: tag 0x44495658/'XVID' is not supported with codec id 12 and format 'mp4 / MP4 (MPEG-4 Part 14)'\n",
      "OpenCV: FFMPEG: fallback to use tag 0x7634706d/'mp4v'\n",
      "OpenCV: FFMPEG: tag 0x44495658/'XVID' is not supported with codec id 12 and format 'mp4 / MP4 (MPEG-4 Part 14)'\n",
      "OpenCV: FFMPEG: fallback to use tag 0x7634706d/'mp4v'\n",
      "OpenCV: FFMPEG: tag 0x44495658/'XVID' is not supported with codec id 12 and format 'mp4 / MP4 (MPEG-4 Part 14)'\n",
      "OpenCV: FFMPEG: fallback to use tag 0x7634706d/'mp4v'\n"
     ]
    },
    {
     "name": "stdout",
     "output_type": "stream",
     "text": [
      "비디오 저장 완료: UCF_Crimes_10crop/Videos/Testing_Normal_Videos_Anomaly/Normal_Videos_906_x264__3.mp4\n",
      "비디오 저장 완료: UCF_Crimes_10crop/Videos/Testing_Normal_Videos_Anomaly/Normal_Videos_906_x264__8.mp4\n",
      "<class 'list'>\n",
      "<class 'numpy.ndarray'>\n",
      "(120, 160, 3)\n",
      "비디오 저장 완료: UCF_Crimes_10crop/Videos/Testing_Normal_Videos_Anomaly/Normal_Videos_906_x264__4.mp4\n",
      "비디오 저장 완료: UCF_Crimes_10crop/Videos/Testing_Normal_Videos_Anomaly/Normal_Videos_906_x264__9.mp4\n"
     ]
    },
    {
     "name": "stderr",
     "output_type": "stream",
     "text": [
      "OpenCV: FFMPEG: tag 0x44495658/'XVID' is not supported with codec id 12 and format 'mp4 / MP4 (MPEG-4 Part 14)'\n",
      "OpenCV: FFMPEG: fallback to use tag 0x7634706d/'mp4v'\n",
      "OpenCV: FFMPEG: tag 0x44495658/'XVID' is not supported with codec id 12 and format 'mp4 / MP4 (MPEG-4 Part 14)'\n",
      "OpenCV: FFMPEG: fallback to use tag 0x7634706d/'mp4v'\n"
     ]
    },
    {
     "name": "stdout",
     "output_type": "stream",
     "text": [
      "320   240\n",
      "FPS: 30.0\n",
      "<class 'list'>\n",
      "<class 'numpy.ndarray'>\n",
      "(120, 160, 3)\n"
     ]
    },
    {
     "name": "stderr",
     "output_type": "stream",
     "text": [
      "OpenCV: FFMPEG: tag 0x44495658/'XVID' is not supported with codec id 12 and format 'mp4 / MP4 (MPEG-4 Part 14)'\n",
      "OpenCV: FFMPEG: fallback to use tag 0x7634706d/'mp4v'\n",
      "OpenCV: FFMPEG: tag 0x44495658/'XVID' is not supported with codec id 12 and format 'mp4 / MP4 (MPEG-4 Part 14)'\n",
      "OpenCV: FFMPEG: fallback to use tag 0x7634706d/'mp4v'\n"
     ]
    },
    {
     "name": "stdout",
     "output_type": "stream",
     "text": [
      "비디오 저장 완료: UCF_Crimes_10crop/Videos/Testing_Normal_Videos_Anomaly/Normal_Videos_621_x264__0.mp4\n",
      "비디오 저장 완료: UCF_Crimes_10crop/Videos/Testing_Normal_Videos_Anomaly/Normal_Videos_621_x264__5.mp4\n",
      "<class 'list'>\n",
      "<class 'numpy.ndarray'>\n",
      "(120, 160, 3)\n"
     ]
    },
    {
     "name": "stderr",
     "output_type": "stream",
     "text": [
      "OpenCV: FFMPEG: tag 0x44495658/'XVID' is not supported with codec id 12 and format 'mp4 / MP4 (MPEG-4 Part 14)'\n",
      "OpenCV: FFMPEG: fallback to use tag 0x7634706d/'mp4v'\n",
      "OpenCV: FFMPEG: tag 0x44495658/'XVID' is not supported with codec id 12 and format 'mp4 / MP4 (MPEG-4 Part 14)'\n",
      "OpenCV: FFMPEG: fallback to use tag 0x7634706d/'mp4v'\n"
     ]
    },
    {
     "name": "stdout",
     "output_type": "stream",
     "text": [
      "비디오 저장 완료: UCF_Crimes_10crop/Videos/Testing_Normal_Videos_Anomaly/Normal_Videos_621_x264__1.mp4\n",
      "비디오 저장 완료: UCF_Crimes_10crop/Videos/Testing_Normal_Videos_Anomaly/Normal_Videos_621_x264__6.mp4\n",
      "<class 'list'>\n",
      "<class 'numpy.ndarray'>\n",
      "(120, 160, 3)\n"
     ]
    },
    {
     "name": "stderr",
     "output_type": "stream",
     "text": [
      "OpenCV: FFMPEG: tag 0x44495658/'XVID' is not supported with codec id 12 and format 'mp4 / MP4 (MPEG-4 Part 14)'\n",
      "OpenCV: FFMPEG: fallback to use tag 0x7634706d/'mp4v'\n",
      "OpenCV: FFMPEG: tag 0x44495658/'XVID' is not supported with codec id 12 and format 'mp4 / MP4 (MPEG-4 Part 14)'\n",
      "OpenCV: FFMPEG: fallback to use tag 0x7634706d/'mp4v'\n"
     ]
    },
    {
     "name": "stdout",
     "output_type": "stream",
     "text": [
      "비디오 저장 완료: UCF_Crimes_10crop/Videos/Testing_Normal_Videos_Anomaly/Normal_Videos_621_x264__2.mp4\n",
      "비디오 저장 완료: UCF_Crimes_10crop/Videos/Testing_Normal_Videos_Anomaly/Normal_Videos_621_x264__7.mp4\n",
      "<class 'list'>\n",
      "<class 'numpy.ndarray'>\n",
      "(120, 160, 3)\n"
     ]
    },
    {
     "name": "stderr",
     "output_type": "stream",
     "text": [
      "OpenCV: FFMPEG: tag 0x44495658/'XVID' is not supported with codec id 12 and format 'mp4 / MP4 (MPEG-4 Part 14)'\n",
      "OpenCV: FFMPEG: fallback to use tag 0x7634706d/'mp4v'\n",
      "OpenCV: FFMPEG: tag 0x44495658/'XVID' is not supported with codec id 12 and format 'mp4 / MP4 (MPEG-4 Part 14)'\n",
      "OpenCV: FFMPEG: fallback to use tag 0x7634706d/'mp4v'\n"
     ]
    },
    {
     "name": "stdout",
     "output_type": "stream",
     "text": [
      "비디오 저장 완료: UCF_Crimes_10crop/Videos/Testing_Normal_Videos_Anomaly/Normal_Videos_621_x264__3.mp4\n",
      "비디오 저장 완료: UCF_Crimes_10crop/Videos/Testing_Normal_Videos_Anomaly/Normal_Videos_621_x264__8.mp4\n",
      "<class 'list'>\n",
      "<class 'numpy.ndarray'>\n",
      "(120, 160, 3)\n"
     ]
    },
    {
     "name": "stderr",
     "output_type": "stream",
     "text": [
      "OpenCV: FFMPEG: tag 0x44495658/'XVID' is not supported with codec id 12 and format 'mp4 / MP4 (MPEG-4 Part 14)'\n",
      "OpenCV: FFMPEG: fallback to use tag 0x7634706d/'mp4v'\n",
      "OpenCV: FFMPEG: tag 0x44495658/'XVID' is not supported with codec id 12 and format 'mp4 / MP4 (MPEG-4 Part 14)'\n",
      "OpenCV: FFMPEG: fallback to use tag 0x7634706d/'mp4v'\n"
     ]
    },
    {
     "name": "stdout",
     "output_type": "stream",
     "text": [
      "비디오 저장 완료: UCF_Crimes_10crop/Videos/Testing_Normal_Videos_Anomaly/Normal_Videos_621_x264__4.mp4\n",
      "비디오 저장 완료: UCF_Crimes_10crop/Videos/Testing_Normal_Videos_Anomaly/Normal_Videos_621_x264__9.mp4\n",
      "320   240\n",
      "FPS: 30.0\n",
      "<class 'list'>\n",
      "<class 'numpy.ndarray'>\n",
      "(120, 160, 3)\n",
      "비디오 저장 완료: UCF_Crimes_10crop/Videos/Testing_Normal_Videos_Anomaly/Normal_Videos_289_x264__0.mp4\n",
      "비디오 저장 완료: UCF_Crimes_10crop/Videos/Testing_Normal_Videos_Anomaly/Normal_Videos_289_x264__5.mp4\n",
      "<class 'list'>\n",
      "<class 'numpy.ndarray'>\n",
      "(120, 160, 3)\n"
     ]
    },
    {
     "name": "stderr",
     "output_type": "stream",
     "text": [
      "OpenCV: FFMPEG: tag 0x44495658/'XVID' is not supported with codec id 12 and format 'mp4 / MP4 (MPEG-4 Part 14)'\n",
      "OpenCV: FFMPEG: fallback to use tag 0x7634706d/'mp4v'\n",
      "OpenCV: FFMPEG: tag 0x44495658/'XVID' is not supported with codec id 12 and format 'mp4 / MP4 (MPEG-4 Part 14)'\n",
      "OpenCV: FFMPEG: fallback to use tag 0x7634706d/'mp4v'\n",
      "OpenCV: FFMPEG: tag 0x44495658/'XVID' is not supported with codec id 12 and format 'mp4 / MP4 (MPEG-4 Part 14)'\n",
      "OpenCV: FFMPEG: fallback to use tag 0x7634706d/'mp4v'\n",
      "OpenCV: FFMPEG: tag 0x44495658/'XVID' is not supported with codec id 12 and format 'mp4 / MP4 (MPEG-4 Part 14)'\n",
      "OpenCV: FFMPEG: fallback to use tag 0x7634706d/'mp4v'\n"
     ]
    },
    {
     "name": "stdout",
     "output_type": "stream",
     "text": [
      "비디오 저장 완료: UCF_Crimes_10crop/Videos/Testing_Normal_Videos_Anomaly/Normal_Videos_289_x264__1.mp4\n",
      "비디오 저장 완료: UCF_Crimes_10crop/Videos/Testing_Normal_Videos_Anomaly/Normal_Videos_289_x264__6.mp4\n",
      "<class 'list'>\n",
      "<class 'numpy.ndarray'>\n",
      "(120, 160, 3)\n",
      "비디오 저장 완료: UCF_Crimes_10crop/Videos/Testing_Normal_Videos_Anomaly/Normal_Videos_289_x264__2.mp4\n",
      "비디오 저장 완료: UCF_Crimes_10crop/Videos/Testing_Normal_Videos_Anomaly/Normal_Videos_289_x264__7.mp4\n",
      "<class 'list'>\n",
      "<class 'numpy.ndarray'>\n",
      "(120, 160, 3)\n"
     ]
    },
    {
     "name": "stderr",
     "output_type": "stream",
     "text": [
      "OpenCV: FFMPEG: tag 0x44495658/'XVID' is not supported with codec id 12 and format 'mp4 / MP4 (MPEG-4 Part 14)'\n",
      "OpenCV: FFMPEG: fallback to use tag 0x7634706d/'mp4v'\n",
      "OpenCV: FFMPEG: tag 0x44495658/'XVID' is not supported with codec id 12 and format 'mp4 / MP4 (MPEG-4 Part 14)'\n",
      "OpenCV: FFMPEG: fallback to use tag 0x7634706d/'mp4v'\n",
      "OpenCV: FFMPEG: tag 0x44495658/'XVID' is not supported with codec id 12 and format 'mp4 / MP4 (MPEG-4 Part 14)'\n",
      "OpenCV: FFMPEG: fallback to use tag 0x7634706d/'mp4v'\n",
      "OpenCV: FFMPEG: tag 0x44495658/'XVID' is not supported with codec id 12 and format 'mp4 / MP4 (MPEG-4 Part 14)'\n",
      "OpenCV: FFMPEG: fallback to use tag 0x7634706d/'mp4v'\n"
     ]
    },
    {
     "name": "stdout",
     "output_type": "stream",
     "text": [
      "비디오 저장 완료: UCF_Crimes_10crop/Videos/Testing_Normal_Videos_Anomaly/Normal_Videos_289_x264__3.mp4\n",
      "비디오 저장 완료: UCF_Crimes_10crop/Videos/Testing_Normal_Videos_Anomaly/Normal_Videos_289_x264__8.mp4\n",
      "<class 'list'>\n",
      "<class 'numpy.ndarray'>\n",
      "(120, 160, 3)\n",
      "비디오 저장 완료: UCF_Crimes_10crop/Videos/Testing_Normal_Videos_Anomaly/Normal_Videos_289_x264__4.mp4\n",
      "비디오 저장 완료: UCF_Crimes_10crop/Videos/Testing_Normal_Videos_Anomaly/Normal_Videos_289_x264__9.mp4\n"
     ]
    },
    {
     "name": "stderr",
     "output_type": "stream",
     "text": [
      "OpenCV: FFMPEG: tag 0x44495658/'XVID' is not supported with codec id 12 and format 'mp4 / MP4 (MPEG-4 Part 14)'\n",
      "OpenCV: FFMPEG: fallback to use tag 0x7634706d/'mp4v'\n",
      "OpenCV: FFMPEG: tag 0x44495658/'XVID' is not supported with codec id 12 and format 'mp4 / MP4 (MPEG-4 Part 14)'\n",
      "OpenCV: FFMPEG: fallback to use tag 0x7634706d/'mp4v'\n"
     ]
    },
    {
     "name": "stdout",
     "output_type": "stream",
     "text": [
      "320   240\n",
      "FPS: 30.0\n",
      "<class 'list'>\n",
      "<class 'numpy.ndarray'>\n",
      "(120, 160, 3)\n",
      "비디오 저장 완료: UCF_Crimes_10crop/Videos/Testing_Normal_Videos_Anomaly/Normal_Videos_317_x264__0.mp4\n",
      "비디오 저장 완료: UCF_Crimes_10crop/Videos/Testing_Normal_Videos_Anomaly/Normal_Videos_317_x264__5.mp4\n",
      "<class 'list'>\n",
      "<class 'numpy.ndarray'>\n",
      "(120, 160, 3)\n"
     ]
    },
    {
     "name": "stderr",
     "output_type": "stream",
     "text": [
      "OpenCV: FFMPEG: tag 0x44495658/'XVID' is not supported with codec id 12 and format 'mp4 / MP4 (MPEG-4 Part 14)'\n",
      "OpenCV: FFMPEG: fallback to use tag 0x7634706d/'mp4v'\n",
      "OpenCV: FFMPEG: tag 0x44495658/'XVID' is not supported with codec id 12 and format 'mp4 / MP4 (MPEG-4 Part 14)'\n",
      "OpenCV: FFMPEG: fallback to use tag 0x7634706d/'mp4v'\n",
      "OpenCV: FFMPEG: tag 0x44495658/'XVID' is not supported with codec id 12 and format 'mp4 / MP4 (MPEG-4 Part 14)'\n",
      "OpenCV: FFMPEG: fallback to use tag 0x7634706d/'mp4v'\n",
      "OpenCV: FFMPEG: tag 0x44495658/'XVID' is not supported with codec id 12 and format 'mp4 / MP4 (MPEG-4 Part 14)'\n",
      "OpenCV: FFMPEG: fallback to use tag 0x7634706d/'mp4v'\n"
     ]
    },
    {
     "name": "stdout",
     "output_type": "stream",
     "text": [
      "비디오 저장 완료: UCF_Crimes_10crop/Videos/Testing_Normal_Videos_Anomaly/Normal_Videos_317_x264__1.mp4\n",
      "비디오 저장 완료: UCF_Crimes_10crop/Videos/Testing_Normal_Videos_Anomaly/Normal_Videos_317_x264__6.mp4\n",
      "<class 'list'>\n",
      "<class 'numpy.ndarray'>\n",
      "(120, 160, 3)\n",
      "비디오 저장 완료: UCF_Crimes_10crop/Videos/Testing_Normal_Videos_Anomaly/Normal_Videos_317_x264__2.mp4\n",
      "비디오 저장 완료: UCF_Crimes_10crop/Videos/Testing_Normal_Videos_Anomaly/Normal_Videos_317_x264__7.mp4\n",
      "<class 'list'>\n",
      "<class 'numpy.ndarray'>\n",
      "(120, 160, 3)\n"
     ]
    },
    {
     "name": "stderr",
     "output_type": "stream",
     "text": [
      "OpenCV: FFMPEG: tag 0x44495658/'XVID' is not supported with codec id 12 and format 'mp4 / MP4 (MPEG-4 Part 14)'\n",
      "OpenCV: FFMPEG: fallback to use tag 0x7634706d/'mp4v'\n",
      "OpenCV: FFMPEG: tag 0x44495658/'XVID' is not supported with codec id 12 and format 'mp4 / MP4 (MPEG-4 Part 14)'\n",
      "OpenCV: FFMPEG: fallback to use tag 0x7634706d/'mp4v'\n",
      "OpenCV: FFMPEG: tag 0x44495658/'XVID' is not supported with codec id 12 and format 'mp4 / MP4 (MPEG-4 Part 14)'\n",
      "OpenCV: FFMPEG: fallback to use tag 0x7634706d/'mp4v'\n",
      "OpenCV: FFMPEG: tag 0x44495658/'XVID' is not supported with codec id 12 and format 'mp4 / MP4 (MPEG-4 Part 14)'\n",
      "OpenCV: FFMPEG: fallback to use tag 0x7634706d/'mp4v'\n"
     ]
    },
    {
     "name": "stdout",
     "output_type": "stream",
     "text": [
      "비디오 저장 완료: UCF_Crimes_10crop/Videos/Testing_Normal_Videos_Anomaly/Normal_Videos_317_x264__3.mp4\n",
      "비디오 저장 완료: UCF_Crimes_10crop/Videos/Testing_Normal_Videos_Anomaly/Normal_Videos_317_x264__8.mp4\n",
      "<class 'list'>\n",
      "<class 'numpy.ndarray'>\n",
      "(120, 160, 3)\n",
      "비디오 저장 완료: UCF_Crimes_10crop/Videos/Testing_Normal_Videos_Anomaly/Normal_Videos_317_x264__4.mp4\n",
      "비디오 저장 완료: UCF_Crimes_10crop/Videos/Testing_Normal_Videos_Anomaly/Normal_Videos_317_x264__9.mp4\n"
     ]
    },
    {
     "name": "stderr",
     "output_type": "stream",
     "text": [
      "OpenCV: FFMPEG: tag 0x44495658/'XVID' is not supported with codec id 12 and format 'mp4 / MP4 (MPEG-4 Part 14)'\n",
      "OpenCV: FFMPEG: fallback to use tag 0x7634706d/'mp4v'\n",
      "OpenCV: FFMPEG: tag 0x44495658/'XVID' is not supported with codec id 12 and format 'mp4 / MP4 (MPEG-4 Part 14)'\n",
      "OpenCV: FFMPEG: fallback to use tag 0x7634706d/'mp4v'\n"
     ]
    },
    {
     "name": "stdout",
     "output_type": "stream",
     "text": [
      "320   240\n",
      "FPS: 30.0\n",
      "<class 'list'>\n",
      "<class 'numpy.ndarray'>\n",
      "(120, 160, 3)\n",
      "비디오 저장 완료: UCF_Crimes_10crop/Videos/Testing_Normal_Videos_Anomaly/Normal_Videos_452_x264__0.mp4\n",
      "비디오 저장 완료: UCF_Crimes_10crop/Videos/Testing_Normal_Videos_Anomaly/Normal_Videos_452_x264__5.mp4\n",
      "<class 'list'>\n",
      "<class 'numpy.ndarray'>\n",
      "(120, 160, 3)\n",
      "비디오 저장 완료: UCF_Crimes_10crop/Videos/Testing_Normal_Videos_Anomaly/Normal_Videos_452_x264__1.mp4\n",
      "비디오 저장 완료: UCF_Crimes_10crop/Videos/Testing_Normal_Videos_Anomaly/Normal_Videos_452_x264__6.mp4\n",
      "<class 'list'>\n",
      "<class 'numpy.ndarray'>\n",
      "(120, 160, 3)\n"
     ]
    },
    {
     "name": "stderr",
     "output_type": "stream",
     "text": [
      "OpenCV: FFMPEG: tag 0x44495658/'XVID' is not supported with codec id 12 and format 'mp4 / MP4 (MPEG-4 Part 14)'\n",
      "OpenCV: FFMPEG: fallback to use tag 0x7634706d/'mp4v'\n",
      "OpenCV: FFMPEG: tag 0x44495658/'XVID' is not supported with codec id 12 and format 'mp4 / MP4 (MPEG-4 Part 14)'\n",
      "OpenCV: FFMPEG: fallback to use tag 0x7634706d/'mp4v'\n",
      "OpenCV: FFMPEG: tag 0x44495658/'XVID' is not supported with codec id 12 and format 'mp4 / MP4 (MPEG-4 Part 14)'\n",
      "OpenCV: FFMPEG: fallback to use tag 0x7634706d/'mp4v'\n",
      "OpenCV: FFMPEG: tag 0x44495658/'XVID' is not supported with codec id 12 and format 'mp4 / MP4 (MPEG-4 Part 14)'\n",
      "OpenCV: FFMPEG: fallback to use tag 0x7634706d/'mp4v'\n",
      "OpenCV: FFMPEG: tag 0x44495658/'XVID' is not supported with codec id 12 and format 'mp4 / MP4 (MPEG-4 Part 14)'\n",
      "OpenCV: FFMPEG: fallback to use tag 0x7634706d/'mp4v'\n",
      "OpenCV: FFMPEG: tag 0x44495658/'XVID' is not supported with codec id 12 and format 'mp4 / MP4 (MPEG-4 Part 14)'\n",
      "OpenCV: FFMPEG: fallback to use tag 0x7634706d/'mp4v'\n"
     ]
    },
    {
     "name": "stdout",
     "output_type": "stream",
     "text": [
      "비디오 저장 완료: UCF_Crimes_10crop/Videos/Testing_Normal_Videos_Anomaly/Normal_Videos_452_x264__2.mp4\n",
      "비디오 저장 완료: UCF_Crimes_10crop/Videos/Testing_Normal_Videos_Anomaly/Normal_Videos_452_x264__7.mp4\n",
      "<class 'list'>\n",
      "<class 'numpy.ndarray'>\n",
      "(120, 160, 3)\n",
      "비디오 저장 완료: UCF_Crimes_10crop/Videos/Testing_Normal_Videos_Anomaly/Normal_Videos_452_x264__3.mp4\n",
      "비디오 저장 완료: UCF_Crimes_10crop/Videos/Testing_Normal_Videos_Anomaly/Normal_Videos_452_x264__8.mp4\n",
      "<class 'list'>\n",
      "<class 'numpy.ndarray'>\n",
      "(120, 160, 3)\n",
      "비디오 저장 완료: UCF_Crimes_10crop/Videos/Testing_Normal_Videos_Anomaly/Normal_Videos_452_x264__4.mp4\n",
      "비디오 저장 완료: UCF_Crimes_10crop/Videos/Testing_Normal_Videos_Anomaly/Normal_Videos_452_x264__9.mp4\n"
     ]
    },
    {
     "name": "stderr",
     "output_type": "stream",
     "text": [
      "OpenCV: FFMPEG: tag 0x44495658/'XVID' is not supported with codec id 12 and format 'mp4 / MP4 (MPEG-4 Part 14)'\n",
      "OpenCV: FFMPEG: fallback to use tag 0x7634706d/'mp4v'\n",
      "OpenCV: FFMPEG: tag 0x44495658/'XVID' is not supported with codec id 12 and format 'mp4 / MP4 (MPEG-4 Part 14)'\n",
      "OpenCV: FFMPEG: fallback to use tag 0x7634706d/'mp4v'\n",
      "OpenCV: FFMPEG: tag 0x44495658/'XVID' is not supported with codec id 12 and format 'mp4 / MP4 (MPEG-4 Part 14)'\n",
      "OpenCV: FFMPEG: fallback to use tag 0x7634706d/'mp4v'\n",
      "OpenCV: FFMPEG: tag 0x44495658/'XVID' is not supported with codec id 12 and format 'mp4 / MP4 (MPEG-4 Part 14)'\n",
      "OpenCV: FFMPEG: fallback to use tag 0x7634706d/'mp4v'\n"
     ]
    },
    {
     "name": "stdout",
     "output_type": "stream",
     "text": [
      "320   240\n",
      "FPS: 30.0\n",
      "<class 'list'>\n",
      "<class 'numpy.ndarray'>\n",
      "(120, 160, 3)\n",
      "비디오 저장 완료: UCF_Crimes_10crop/Videos/Testing_Normal_Videos_Anomaly/Normal_Videos_883_x264__0.mp4\n",
      "비디오 저장 완료: UCF_Crimes_10crop/Videos/Testing_Normal_Videos_Anomaly/Normal_Videos_883_x264__5.mp4\n",
      "<class 'list'>\n",
      "<class 'numpy.ndarray'>\n",
      "(120, 160, 3)\n",
      "비디오 저장 완료: UCF_Crimes_10crop/Videos/Testing_Normal_Videos_Anomaly/Normal_Videos_883_x264__1.mp4\n",
      "비디오 저장 완료: UCF_Crimes_10crop/Videos/Testing_Normal_Videos_Anomaly/Normal_Videos_883_x264__6.mp4\n",
      "<class 'list'>\n",
      "<class 'numpy.ndarray'>\n",
      "(120, 160, 3)\n",
      "비디오 저장 완료: UCF_Crimes_10crop/Videos/Testing_Normal_Videos_Anomaly/Normal_Videos_883_x264__2.mp4\n",
      "비디오 저장 완료: UCF_Crimes_10crop/Videos/Testing_Normal_Videos_Anomaly/Normal_Videos_883_x264__7.mp4\n",
      "<class 'list'>\n",
      "<class 'numpy.ndarray'>\n",
      "(120, 160, 3)\n"
     ]
    },
    {
     "name": "stderr",
     "output_type": "stream",
     "text": [
      "OpenCV: FFMPEG: tag 0x44495658/'XVID' is not supported with codec id 12 and format 'mp4 / MP4 (MPEG-4 Part 14)'\n",
      "OpenCV: FFMPEG: fallback to use tag 0x7634706d/'mp4v'\n",
      "OpenCV: FFMPEG: tag 0x44495658/'XVID' is not supported with codec id 12 and format 'mp4 / MP4 (MPEG-4 Part 14)'\n",
      "OpenCV: FFMPEG: fallback to use tag 0x7634706d/'mp4v'\n",
      "OpenCV: FFMPEG: tag 0x44495658/'XVID' is not supported with codec id 12 and format 'mp4 / MP4 (MPEG-4 Part 14)'\n",
      "OpenCV: FFMPEG: fallback to use tag 0x7634706d/'mp4v'\n",
      "OpenCV: FFMPEG: tag 0x44495658/'XVID' is not supported with codec id 12 and format 'mp4 / MP4 (MPEG-4 Part 14)'\n",
      "OpenCV: FFMPEG: fallback to use tag 0x7634706d/'mp4v'\n",
      "OpenCV: FFMPEG: tag 0x44495658/'XVID' is not supported with codec id 12 and format 'mp4 / MP4 (MPEG-4 Part 14)'\n",
      "OpenCV: FFMPEG: fallback to use tag 0x7634706d/'mp4v'\n",
      "OpenCV: FFMPEG: tag 0x44495658/'XVID' is not supported with codec id 12 and format 'mp4 / MP4 (MPEG-4 Part 14)'\n",
      "OpenCV: FFMPEG: fallback to use tag 0x7634706d/'mp4v'\n",
      "OpenCV: FFMPEG: tag 0x44495658/'XVID' is not supported with codec id 12 and format 'mp4 / MP4 (MPEG-4 Part 14)'\n",
      "OpenCV: FFMPEG: fallback to use tag 0x7634706d/'mp4v'\n",
      "OpenCV: FFMPEG: tag 0x44495658/'XVID' is not supported with codec id 12 and format 'mp4 / MP4 (MPEG-4 Part 14)'\n",
      "OpenCV: FFMPEG: fallback to use tag 0x7634706d/'mp4v'\n"
     ]
    },
    {
     "name": "stdout",
     "output_type": "stream",
     "text": [
      "비디오 저장 완료: UCF_Crimes_10crop/Videos/Testing_Normal_Videos_Anomaly/Normal_Videos_883_x264__3.mp4\n",
      "비디오 저장 완료: UCF_Crimes_10crop/Videos/Testing_Normal_Videos_Anomaly/Normal_Videos_883_x264__8.mp4\n",
      "<class 'list'>\n",
      "<class 'numpy.ndarray'>\n",
      "(120, 160, 3)\n",
      "비디오 저장 완료: UCF_Crimes_10crop/Videos/Testing_Normal_Videos_Anomaly/Normal_Videos_883_x264__4.mp4\n",
      "비디오 저장 완료: UCF_Crimes_10crop/Videos/Testing_Normal_Videos_Anomaly/Normal_Videos_883_x264__9.mp4\n",
      "320   240\n",
      "FPS: 30.0\n"
     ]
    },
    {
     "name": "stderr",
     "output_type": "stream",
     "text": [
      "OpenCV: FFMPEG: tag 0x44495658/'XVID' is not supported with codec id 12 and format 'mp4 / MP4 (MPEG-4 Part 14)'\n",
      "OpenCV: FFMPEG: fallback to use tag 0x7634706d/'mp4v'\n",
      "OpenCV: FFMPEG: tag 0x44495658/'XVID' is not supported with codec id 12 and format 'mp4 / MP4 (MPEG-4 Part 14)'\n",
      "OpenCV: FFMPEG: fallback to use tag 0x7634706d/'mp4v'\n"
     ]
    },
    {
     "name": "stdout",
     "output_type": "stream",
     "text": [
      "<class 'list'>\n",
      "<class 'numpy.ndarray'>\n",
      "(120, 160, 3)\n",
      "비디오 저장 완료: UCF_Crimes_10crop/Videos/Testing_Normal_Videos_Anomaly/Normal_Videos_010_x264__0.mp4\n",
      "비디오 저장 완료: UCF_Crimes_10crop/Videos/Testing_Normal_Videos_Anomaly/Normal_Videos_010_x264__5.mp4\n",
      "<class 'list'>\n",
      "<class 'numpy.ndarray'>\n",
      "(120, 160, 3)\n"
     ]
    },
    {
     "name": "stderr",
     "output_type": "stream",
     "text": [
      "OpenCV: FFMPEG: tag 0x44495658/'XVID' is not supported with codec id 12 and format 'mp4 / MP4 (MPEG-4 Part 14)'\n",
      "OpenCV: FFMPEG: fallback to use tag 0x7634706d/'mp4v'\n",
      "OpenCV: FFMPEG: tag 0x44495658/'XVID' is not supported with codec id 12 and format 'mp4 / MP4 (MPEG-4 Part 14)'\n",
      "OpenCV: FFMPEG: fallback to use tag 0x7634706d/'mp4v'\n",
      "OpenCV: FFMPEG: tag 0x44495658/'XVID' is not supported with codec id 12 and format 'mp4 / MP4 (MPEG-4 Part 14)'\n",
      "OpenCV: FFMPEG: fallback to use tag 0x7634706d/'mp4v'\n",
      "OpenCV: FFMPEG: tag 0x44495658/'XVID' is not supported with codec id 12 and format 'mp4 / MP4 (MPEG-4 Part 14)'\n",
      "OpenCV: FFMPEG: fallback to use tag 0x7634706d/'mp4v'\n"
     ]
    },
    {
     "name": "stdout",
     "output_type": "stream",
     "text": [
      "비디오 저장 완료: UCF_Crimes_10crop/Videos/Testing_Normal_Videos_Anomaly/Normal_Videos_010_x264__1.mp4\n",
      "비디오 저장 완료: UCF_Crimes_10crop/Videos/Testing_Normal_Videos_Anomaly/Normal_Videos_010_x264__6.mp4\n",
      "<class 'list'>\n",
      "<class 'numpy.ndarray'>\n",
      "(120, 160, 3)\n",
      "비디오 저장 완료: UCF_Crimes_10crop/Videos/Testing_Normal_Videos_Anomaly/Normal_Videos_010_x264__2.mp4\n",
      "비디오 저장 완료: UCF_Crimes_10crop/Videos/Testing_Normal_Videos_Anomaly/Normal_Videos_010_x264__7.mp4\n",
      "<class 'list'>\n",
      "<class 'numpy.ndarray'>\n",
      "(120, 160, 3)\n"
     ]
    },
    {
     "name": "stderr",
     "output_type": "stream",
     "text": [
      "OpenCV: FFMPEG: tag 0x44495658/'XVID' is not supported with codec id 12 and format 'mp4 / MP4 (MPEG-4 Part 14)'\n",
      "OpenCV: FFMPEG: fallback to use tag 0x7634706d/'mp4v'\n",
      "OpenCV: FFMPEG: tag 0x44495658/'XVID' is not supported with codec id 12 and format 'mp4 / MP4 (MPEG-4 Part 14)'\n",
      "OpenCV: FFMPEG: fallback to use tag 0x7634706d/'mp4v'\n",
      "OpenCV: FFMPEG: tag 0x44495658/'XVID' is not supported with codec id 12 and format 'mp4 / MP4 (MPEG-4 Part 14)'\n",
      "OpenCV: FFMPEG: fallback to use tag 0x7634706d/'mp4v'\n",
      "OpenCV: FFMPEG: tag 0x44495658/'XVID' is not supported with codec id 12 and format 'mp4 / MP4 (MPEG-4 Part 14)'\n",
      "OpenCV: FFMPEG: fallback to use tag 0x7634706d/'mp4v'\n"
     ]
    },
    {
     "name": "stdout",
     "output_type": "stream",
     "text": [
      "비디오 저장 완료: UCF_Crimes_10crop/Videos/Testing_Normal_Videos_Anomaly/Normal_Videos_010_x264__3.mp4\n",
      "비디오 저장 완료: UCF_Crimes_10crop/Videos/Testing_Normal_Videos_Anomaly/Normal_Videos_010_x264__8.mp4\n",
      "<class 'list'>\n",
      "<class 'numpy.ndarray'>\n",
      "(120, 160, 3)\n",
      "비디오 저장 완료: UCF_Crimes_10crop/Videos/Testing_Normal_Videos_Anomaly/Normal_Videos_010_x264__4.mp4\n",
      "비디오 저장 완료: UCF_Crimes_10crop/Videos/Testing_Normal_Videos_Anomaly/Normal_Videos_010_x264__9.mp4\n"
     ]
    },
    {
     "name": "stderr",
     "output_type": "stream",
     "text": [
      "OpenCV: FFMPEG: tag 0x44495658/'XVID' is not supported with codec id 12 and format 'mp4 / MP4 (MPEG-4 Part 14)'\n",
      "OpenCV: FFMPEG: fallback to use tag 0x7634706d/'mp4v'\n",
      "OpenCV: FFMPEG: tag 0x44495658/'XVID' is not supported with codec id 12 and format 'mp4 / MP4 (MPEG-4 Part 14)'\n",
      "OpenCV: FFMPEG: fallback to use tag 0x7634706d/'mp4v'\n"
     ]
    },
    {
     "name": "stdout",
     "output_type": "stream",
     "text": [
      "320   240\n",
      "FPS: 30.0\n",
      "<class 'list'>\n",
      "<class 'numpy.ndarray'>\n",
      "(120, 160, 3)\n",
      "비디오 저장 완료: UCF_Crimes_10crop/Videos/Testing_Normal_Videos_Anomaly/Normal_Videos_870_x264__0.mp4\n",
      "비디오 저장 완료: UCF_Crimes_10crop/Videos/Testing_Normal_Videos_Anomaly/Normal_Videos_870_x264__5.mp4\n",
      "<class 'list'>\n",
      "<class 'numpy.ndarray'>\n",
      "(120, 160, 3)\n"
     ]
    },
    {
     "name": "stderr",
     "output_type": "stream",
     "text": [
      "OpenCV: FFMPEG: tag 0x44495658/'XVID' is not supported with codec id 12 and format 'mp4 / MP4 (MPEG-4 Part 14)'\n",
      "OpenCV: FFMPEG: fallback to use tag 0x7634706d/'mp4v'\n",
      "OpenCV: FFMPEG: tag 0x44495658/'XVID' is not supported with codec id 12 and format 'mp4 / MP4 (MPEG-4 Part 14)'\n",
      "OpenCV: FFMPEG: fallback to use tag 0x7634706d/'mp4v'\n",
      "OpenCV: FFMPEG: tag 0x44495658/'XVID' is not supported with codec id 12 and format 'mp4 / MP4 (MPEG-4 Part 14)'\n",
      "OpenCV: FFMPEG: fallback to use tag 0x7634706d/'mp4v'\n",
      "OpenCV: FFMPEG: tag 0x44495658/'XVID' is not supported with codec id 12 and format 'mp4 / MP4 (MPEG-4 Part 14)'\n",
      "OpenCV: FFMPEG: fallback to use tag 0x7634706d/'mp4v'\n"
     ]
    },
    {
     "name": "stdout",
     "output_type": "stream",
     "text": [
      "비디오 저장 완료: UCF_Crimes_10crop/Videos/Testing_Normal_Videos_Anomaly/Normal_Videos_870_x264__1.mp4\n",
      "비디오 저장 완료: UCF_Crimes_10crop/Videos/Testing_Normal_Videos_Anomaly/Normal_Videos_870_x264__6.mp4\n",
      "<class 'list'>\n",
      "<class 'numpy.ndarray'>\n",
      "(120, 160, 3)\n",
      "비디오 저장 완료: UCF_Crimes_10crop/Videos/Testing_Normal_Videos_Anomaly/Normal_Videos_870_x264__2.mp4\n",
      "비디오 저장 완료: UCF_Crimes_10crop/Videos/Testing_Normal_Videos_Anomaly/Normal_Videos_870_x264__7.mp4\n",
      "<class 'list'>\n",
      "<class 'numpy.ndarray'>\n",
      "(120, 160, 3)\n"
     ]
    },
    {
     "name": "stderr",
     "output_type": "stream",
     "text": [
      "OpenCV: FFMPEG: tag 0x44495658/'XVID' is not supported with codec id 12 and format 'mp4 / MP4 (MPEG-4 Part 14)'\n",
      "OpenCV: FFMPEG: fallback to use tag 0x7634706d/'mp4v'\n",
      "OpenCV: FFMPEG: tag 0x44495658/'XVID' is not supported with codec id 12 and format 'mp4 / MP4 (MPEG-4 Part 14)'\n",
      "OpenCV: FFMPEG: fallback to use tag 0x7634706d/'mp4v'\n",
      "OpenCV: FFMPEG: tag 0x44495658/'XVID' is not supported with codec id 12 and format 'mp4 / MP4 (MPEG-4 Part 14)'\n",
      "OpenCV: FFMPEG: fallback to use tag 0x7634706d/'mp4v'\n",
      "OpenCV: FFMPEG: tag 0x44495658/'XVID' is not supported with codec id 12 and format 'mp4 / MP4 (MPEG-4 Part 14)'\n",
      "OpenCV: FFMPEG: fallback to use tag 0x7634706d/'mp4v'\n"
     ]
    },
    {
     "name": "stdout",
     "output_type": "stream",
     "text": [
      "비디오 저장 완료: UCF_Crimes_10crop/Videos/Testing_Normal_Videos_Anomaly/Normal_Videos_870_x264__3.mp4\n",
      "비디오 저장 완료: UCF_Crimes_10crop/Videos/Testing_Normal_Videos_Anomaly/Normal_Videos_870_x264__8.mp4\n",
      "<class 'list'>\n",
      "<class 'numpy.ndarray'>\n",
      "(120, 160, 3)\n",
      "비디오 저장 완료: UCF_Crimes_10crop/Videos/Testing_Normal_Videos_Anomaly/Normal_Videos_870_x264__4.mp4\n",
      "비디오 저장 완료: UCF_Crimes_10crop/Videos/Testing_Normal_Videos_Anomaly/Normal_Videos_870_x264__9.mp4\n",
      "320   240\n",
      "FPS: 30.0\n"
     ]
    },
    {
     "name": "stderr",
     "output_type": "stream",
     "text": [
      "OpenCV: FFMPEG: tag 0x44495658/'XVID' is not supported with codec id 12 and format 'mp4 / MP4 (MPEG-4 Part 14)'\n",
      "OpenCV: FFMPEG: fallback to use tag 0x7634706d/'mp4v'\n",
      "OpenCV: FFMPEG: tag 0x44495658/'XVID' is not supported with codec id 12 and format 'mp4 / MP4 (MPEG-4 Part 14)'\n",
      "OpenCV: FFMPEG: fallback to use tag 0x7634706d/'mp4v'\n"
     ]
    },
    {
     "name": "stdout",
     "output_type": "stream",
     "text": [
      "<class 'list'>\n",
      "<class 'numpy.ndarray'>\n",
      "(120, 160, 3)\n"
     ]
    },
    {
     "name": "stderr",
     "output_type": "stream",
     "text": [
      "OpenCV: FFMPEG: tag 0x44495658/'XVID' is not supported with codec id 12 and format 'mp4 / MP4 (MPEG-4 Part 14)'\n",
      "OpenCV: FFMPEG: fallback to use tag 0x7634706d/'mp4v'\n",
      "OpenCV: FFMPEG: tag 0x44495658/'XVID' is not supported with codec id 12 and format 'mp4 / MP4 (MPEG-4 Part 14)'\n",
      "OpenCV: FFMPEG: fallback to use tag 0x7634706d/'mp4v'\n"
     ]
    },
    {
     "name": "stdout",
     "output_type": "stream",
     "text": [
      "비디오 저장 완료: UCF_Crimes_10crop/Videos/Testing_Normal_Videos_Anomaly/Normal_Videos_866_x264__0.mp4\n",
      "비디오 저장 완료: UCF_Crimes_10crop/Videos/Testing_Normal_Videos_Anomaly/Normal_Videos_866_x264__5.mp4\n",
      "<class 'list'>\n",
      "<class 'numpy.ndarray'>\n",
      "(120, 160, 3)\n"
     ]
    },
    {
     "name": "stderr",
     "output_type": "stream",
     "text": [
      "OpenCV: FFMPEG: tag 0x44495658/'XVID' is not supported with codec id 12 and format 'mp4 / MP4 (MPEG-4 Part 14)'\n",
      "OpenCV: FFMPEG: fallback to use tag 0x7634706d/'mp4v'\n",
      "OpenCV: FFMPEG: tag 0x44495658/'XVID' is not supported with codec id 12 and format 'mp4 / MP4 (MPEG-4 Part 14)'\n",
      "OpenCV: FFMPEG: fallback to use tag 0x7634706d/'mp4v'\n"
     ]
    },
    {
     "name": "stdout",
     "output_type": "stream",
     "text": [
      "비디오 저장 완료: UCF_Crimes_10crop/Videos/Testing_Normal_Videos_Anomaly/Normal_Videos_866_x264__1.mp4\n",
      "비디오 저장 완료: UCF_Crimes_10crop/Videos/Testing_Normal_Videos_Anomaly/Normal_Videos_866_x264__6.mp4\n",
      "<class 'list'>\n",
      "<class 'numpy.ndarray'>\n",
      "(120, 160, 3)\n"
     ]
    },
    {
     "name": "stderr",
     "output_type": "stream",
     "text": [
      "OpenCV: FFMPEG: tag 0x44495658/'XVID' is not supported with codec id 12 and format 'mp4 / MP4 (MPEG-4 Part 14)'\n",
      "OpenCV: FFMPEG: fallback to use tag 0x7634706d/'mp4v'\n",
      "OpenCV: FFMPEG: tag 0x44495658/'XVID' is not supported with codec id 12 and format 'mp4 / MP4 (MPEG-4 Part 14)'\n",
      "OpenCV: FFMPEG: fallback to use tag 0x7634706d/'mp4v'\n"
     ]
    },
    {
     "name": "stdout",
     "output_type": "stream",
     "text": [
      "비디오 저장 완료: UCF_Crimes_10crop/Videos/Testing_Normal_Videos_Anomaly/Normal_Videos_866_x264__2.mp4\n",
      "비디오 저장 완료: UCF_Crimes_10crop/Videos/Testing_Normal_Videos_Anomaly/Normal_Videos_866_x264__7.mp4\n",
      "<class 'list'>\n",
      "<class 'numpy.ndarray'>\n",
      "(120, 160, 3)\n"
     ]
    },
    {
     "name": "stderr",
     "output_type": "stream",
     "text": [
      "OpenCV: FFMPEG: tag 0x44495658/'XVID' is not supported with codec id 12 and format 'mp4 / MP4 (MPEG-4 Part 14)'\n",
      "OpenCV: FFMPEG: fallback to use tag 0x7634706d/'mp4v'\n",
      "OpenCV: FFMPEG: tag 0x44495658/'XVID' is not supported with codec id 12 and format 'mp4 / MP4 (MPEG-4 Part 14)'\n",
      "OpenCV: FFMPEG: fallback to use tag 0x7634706d/'mp4v'\n"
     ]
    },
    {
     "name": "stdout",
     "output_type": "stream",
     "text": [
      "비디오 저장 완료: UCF_Crimes_10crop/Videos/Testing_Normal_Videos_Anomaly/Normal_Videos_866_x264__3.mp4\n",
      "비디오 저장 완료: UCF_Crimes_10crop/Videos/Testing_Normal_Videos_Anomaly/Normal_Videos_866_x264__8.mp4\n",
      "<class 'list'>\n",
      "<class 'numpy.ndarray'>\n",
      "(120, 160, 3)\n"
     ]
    },
    {
     "name": "stderr",
     "output_type": "stream",
     "text": [
      "OpenCV: FFMPEG: tag 0x44495658/'XVID' is not supported with codec id 12 and format 'mp4 / MP4 (MPEG-4 Part 14)'\n",
      "OpenCV: FFMPEG: fallback to use tag 0x7634706d/'mp4v'\n",
      "OpenCV: FFMPEG: tag 0x44495658/'XVID' is not supported with codec id 12 and format 'mp4 / MP4 (MPEG-4 Part 14)'\n",
      "OpenCV: FFMPEG: fallback to use tag 0x7634706d/'mp4v'\n"
     ]
    },
    {
     "name": "stdout",
     "output_type": "stream",
     "text": [
      "비디오 저장 완료: UCF_Crimes_10crop/Videos/Testing_Normal_Videos_Anomaly/Normal_Videos_866_x264__4.mp4\n",
      "비디오 저장 완료: UCF_Crimes_10crop/Videos/Testing_Normal_Videos_Anomaly/Normal_Videos_866_x264__9.mp4\n",
      "320   240\n",
      "FPS: 30.0\n",
      "<class 'list'>\n",
      "<class 'numpy.ndarray'>\n",
      "(120, 160, 3)\n",
      "비디오 저장 완료: UCF_Crimes_10crop/Videos/Testing_Normal_Videos_Anomaly/Normal_Videos_913_x264__0.mp4\n",
      "비디오 저장 완료: UCF_Crimes_10crop/Videos/Testing_Normal_Videos_Anomaly/Normal_Videos_913_x264__5.mp4\n",
      "<class 'list'>\n",
      "<class 'numpy.ndarray'>\n",
      "(120, 160, 3)\n"
     ]
    },
    {
     "name": "stderr",
     "output_type": "stream",
     "text": [
      "OpenCV: FFMPEG: tag 0x44495658/'XVID' is not supported with codec id 12 and format 'mp4 / MP4 (MPEG-4 Part 14)'\n",
      "OpenCV: FFMPEG: fallback to use tag 0x7634706d/'mp4v'\n",
      "OpenCV: FFMPEG: tag 0x44495658/'XVID' is not supported with codec id 12 and format 'mp4 / MP4 (MPEG-4 Part 14)'\n",
      "OpenCV: FFMPEG: fallback to use tag 0x7634706d/'mp4v'\n",
      "OpenCV: FFMPEG: tag 0x44495658/'XVID' is not supported with codec id 12 and format 'mp4 / MP4 (MPEG-4 Part 14)'\n",
      "OpenCV: FFMPEG: fallback to use tag 0x7634706d/'mp4v'\n",
      "OpenCV: FFMPEG: tag 0x44495658/'XVID' is not supported with codec id 12 and format 'mp4 / MP4 (MPEG-4 Part 14)'\n",
      "OpenCV: FFMPEG: fallback to use tag 0x7634706d/'mp4v'\n"
     ]
    },
    {
     "name": "stdout",
     "output_type": "stream",
     "text": [
      "비디오 저장 완료: UCF_Crimes_10crop/Videos/Testing_Normal_Videos_Anomaly/Normal_Videos_913_x264__1.mp4\n",
      "비디오 저장 완료: UCF_Crimes_10crop/Videos/Testing_Normal_Videos_Anomaly/Normal_Videos_913_x264__6.mp4\n",
      "<class 'list'>\n",
      "<class 'numpy.ndarray'>\n",
      "(120, 160, 3)\n",
      "비디오 저장 완료: UCF_Crimes_10crop/Videos/Testing_Normal_Videos_Anomaly/Normal_Videos_913_x264__2.mp4\n",
      "비디오 저장 완료: UCF_Crimes_10crop/Videos/Testing_Normal_Videos_Anomaly/Normal_Videos_913_x264__7.mp4\n",
      "<class 'list'>\n",
      "<class 'numpy.ndarray'>\n",
      "(120, 160, 3)\n"
     ]
    },
    {
     "name": "stderr",
     "output_type": "stream",
     "text": [
      "OpenCV: FFMPEG: tag 0x44495658/'XVID' is not supported with codec id 12 and format 'mp4 / MP4 (MPEG-4 Part 14)'\n",
      "OpenCV: FFMPEG: fallback to use tag 0x7634706d/'mp4v'\n",
      "OpenCV: FFMPEG: tag 0x44495658/'XVID' is not supported with codec id 12 and format 'mp4 / MP4 (MPEG-4 Part 14)'\n",
      "OpenCV: FFMPEG: fallback to use tag 0x7634706d/'mp4v'\n",
      "OpenCV: FFMPEG: tag 0x44495658/'XVID' is not supported with codec id 12 and format 'mp4 / MP4 (MPEG-4 Part 14)'\n",
      "OpenCV: FFMPEG: fallback to use tag 0x7634706d/'mp4v'\n",
      "OpenCV: FFMPEG: tag 0x44495658/'XVID' is not supported with codec id 12 and format 'mp4 / MP4 (MPEG-4 Part 14)'\n",
      "OpenCV: FFMPEG: fallback to use tag 0x7634706d/'mp4v'\n"
     ]
    },
    {
     "name": "stdout",
     "output_type": "stream",
     "text": [
      "비디오 저장 완료: UCF_Crimes_10crop/Videos/Testing_Normal_Videos_Anomaly/Normal_Videos_913_x264__3.mp4\n",
      "비디오 저장 완료: UCF_Crimes_10crop/Videos/Testing_Normal_Videos_Anomaly/Normal_Videos_913_x264__8.mp4\n",
      "<class 'list'>\n",
      "<class 'numpy.ndarray'>\n",
      "(120, 160, 3)\n",
      "비디오 저장 완료: UCF_Crimes_10crop/Videos/Testing_Normal_Videos_Anomaly/Normal_Videos_913_x264__4.mp4\n",
      "비디오 저장 완료: UCF_Crimes_10crop/Videos/Testing_Normal_Videos_Anomaly/Normal_Videos_913_x264__9.mp4\n",
      "320   240\n",
      "FPS: 30.0\n"
     ]
    },
    {
     "name": "stderr",
     "output_type": "stream",
     "text": [
      "OpenCV: FFMPEG: tag 0x44495658/'XVID' is not supported with codec id 12 and format 'mp4 / MP4 (MPEG-4 Part 14)'\n",
      "OpenCV: FFMPEG: fallback to use tag 0x7634706d/'mp4v'\n",
      "OpenCV: FFMPEG: tag 0x44495658/'XVID' is not supported with codec id 12 and format 'mp4 / MP4 (MPEG-4 Part 14)'\n",
      "OpenCV: FFMPEG: fallback to use tag 0x7634706d/'mp4v'\n"
     ]
    },
    {
     "name": "stdout",
     "output_type": "stream",
     "text": [
      "<class 'list'>\n",
      "<class 'numpy.ndarray'>\n",
      "(120, 160, 3)\n",
      "비디오 저장 완료: UCF_Crimes_10crop/Videos/Testing_Normal_Videos_Anomaly/Normal_Videos_867_x264__0.mp4\n",
      "비디오 저장 완료: UCF_Crimes_10crop/Videos/Testing_Normal_Videos_Anomaly/Normal_Videos_867_x264__5.mp4\n",
      "<class 'list'>\n",
      "<class 'numpy.ndarray'>\n",
      "(120, 160, 3)\n"
     ]
    },
    {
     "name": "stderr",
     "output_type": "stream",
     "text": [
      "OpenCV: FFMPEG: tag 0x44495658/'XVID' is not supported with codec id 12 and format 'mp4 / MP4 (MPEG-4 Part 14)'\n",
      "OpenCV: FFMPEG: fallback to use tag 0x7634706d/'mp4v'\n",
      "OpenCV: FFMPEG: tag 0x44495658/'XVID' is not supported with codec id 12 and format 'mp4 / MP4 (MPEG-4 Part 14)'\n",
      "OpenCV: FFMPEG: fallback to use tag 0x7634706d/'mp4v'\n",
      "OpenCV: FFMPEG: tag 0x44495658/'XVID' is not supported with codec id 12 and format 'mp4 / MP4 (MPEG-4 Part 14)'\n",
      "OpenCV: FFMPEG: fallback to use tag 0x7634706d/'mp4v'\n",
      "OpenCV: FFMPEG: tag 0x44495658/'XVID' is not supported with codec id 12 and format 'mp4 / MP4 (MPEG-4 Part 14)'\n",
      "OpenCV: FFMPEG: fallback to use tag 0x7634706d/'mp4v'\n"
     ]
    },
    {
     "name": "stdout",
     "output_type": "stream",
     "text": [
      "비디오 저장 완료: UCF_Crimes_10crop/Videos/Testing_Normal_Videos_Anomaly/Normal_Videos_867_x264__1.mp4\n",
      "비디오 저장 완료: UCF_Crimes_10crop/Videos/Testing_Normal_Videos_Anomaly/Normal_Videos_867_x264__6.mp4\n",
      "<class 'list'>\n",
      "<class 'numpy.ndarray'>\n",
      "(120, 160, 3)\n",
      "비디오 저장 완료: UCF_Crimes_10crop/Videos/Testing_Normal_Videos_Anomaly/Normal_Videos_867_x264__2.mp4\n",
      "비디오 저장 완료: UCF_Crimes_10crop/Videos/Testing_Normal_Videos_Anomaly/Normal_Videos_867_x264__7.mp4\n",
      "<class 'list'>\n",
      "<class 'numpy.ndarray'>\n",
      "(120, 160, 3)\n"
     ]
    },
    {
     "name": "stderr",
     "output_type": "stream",
     "text": [
      "OpenCV: FFMPEG: tag 0x44495658/'XVID' is not supported with codec id 12 and format 'mp4 / MP4 (MPEG-4 Part 14)'\n",
      "OpenCV: FFMPEG: fallback to use tag 0x7634706d/'mp4v'\n",
      "OpenCV: FFMPEG: tag 0x44495658/'XVID' is not supported with codec id 12 and format 'mp4 / MP4 (MPEG-4 Part 14)'\n",
      "OpenCV: FFMPEG: fallback to use tag 0x7634706d/'mp4v'\n",
      "OpenCV: FFMPEG: tag 0x44495658/'XVID' is not supported with codec id 12 and format 'mp4 / MP4 (MPEG-4 Part 14)'\n",
      "OpenCV: FFMPEG: fallback to use tag 0x7634706d/'mp4v'\n",
      "OpenCV: FFMPEG: tag 0x44495658/'XVID' is not supported with codec id 12 and format 'mp4 / MP4 (MPEG-4 Part 14)'\n",
      "OpenCV: FFMPEG: fallback to use tag 0x7634706d/'mp4v'\n"
     ]
    },
    {
     "name": "stdout",
     "output_type": "stream",
     "text": [
      "비디오 저장 완료: UCF_Crimes_10crop/Videos/Testing_Normal_Videos_Anomaly/Normal_Videos_867_x264__3.mp4\n",
      "비디오 저장 완료: UCF_Crimes_10crop/Videos/Testing_Normal_Videos_Anomaly/Normal_Videos_867_x264__8.mp4\n",
      "<class 'list'>\n",
      "<class 'numpy.ndarray'>\n",
      "(120, 160, 3)\n",
      "비디오 저장 완료: UCF_Crimes_10crop/Videos/Testing_Normal_Videos_Anomaly/Normal_Videos_867_x264__4.mp4\n",
      "비디오 저장 완료: UCF_Crimes_10crop/Videos/Testing_Normal_Videos_Anomaly/Normal_Videos_867_x264__9.mp4\n"
     ]
    },
    {
     "name": "stderr",
     "output_type": "stream",
     "text": [
      "OpenCV: FFMPEG: tag 0x44495658/'XVID' is not supported with codec id 12 and format 'mp4 / MP4 (MPEG-4 Part 14)'\n",
      "OpenCV: FFMPEG: fallback to use tag 0x7634706d/'mp4v'\n",
      "OpenCV: FFMPEG: tag 0x44495658/'XVID' is not supported with codec id 12 and format 'mp4 / MP4 (MPEG-4 Part 14)'\n",
      "OpenCV: FFMPEG: fallback to use tag 0x7634706d/'mp4v'\n"
     ]
    },
    {
     "name": "stdout",
     "output_type": "stream",
     "text": [
      "320   240\n",
      "FPS: 30.0\n",
      "<class 'list'>\n",
      "<class 'numpy.ndarray'>\n",
      "(120, 160, 3)\n"
     ]
    },
    {
     "name": "stderr",
     "output_type": "stream",
     "text": [
      "OpenCV: FFMPEG: tag 0x44495658/'XVID' is not supported with codec id 12 and format 'mp4 / MP4 (MPEG-4 Part 14)'\n",
      "OpenCV: FFMPEG: fallback to use tag 0x7634706d/'mp4v'\n",
      "OpenCV: FFMPEG: tag 0x44495658/'XVID' is not supported with codec id 12 and format 'mp4 / MP4 (MPEG-4 Part 14)'\n",
      "OpenCV: FFMPEG: fallback to use tag 0x7634706d/'mp4v'\n"
     ]
    },
    {
     "name": "stdout",
     "output_type": "stream",
     "text": [
      "비디오 저장 완료: UCF_Crimes_10crop/Videos/Testing_Normal_Videos_Anomaly/Normal_Videos_933_x264__0.mp4\n",
      "비디오 저장 완료: UCF_Crimes_10crop/Videos/Testing_Normal_Videos_Anomaly/Normal_Videos_933_x264__5.mp4\n",
      "<class 'list'>\n",
      "<class 'numpy.ndarray'>\n",
      "(120, 160, 3)\n"
     ]
    },
    {
     "name": "stderr",
     "output_type": "stream",
     "text": [
      "OpenCV: FFMPEG: tag 0x44495658/'XVID' is not supported with codec id 12 and format 'mp4 / MP4 (MPEG-4 Part 14)'\n",
      "OpenCV: FFMPEG: fallback to use tag 0x7634706d/'mp4v'\n",
      "OpenCV: FFMPEG: tag 0x44495658/'XVID' is not supported with codec id 12 and format 'mp4 / MP4 (MPEG-4 Part 14)'\n",
      "OpenCV: FFMPEG: fallback to use tag 0x7634706d/'mp4v'\n"
     ]
    },
    {
     "name": "stdout",
     "output_type": "stream",
     "text": [
      "비디오 저장 완료: UCF_Crimes_10crop/Videos/Testing_Normal_Videos_Anomaly/Normal_Videos_933_x264__1.mp4\n",
      "비디오 저장 완료: UCF_Crimes_10crop/Videos/Testing_Normal_Videos_Anomaly/Normal_Videos_933_x264__6.mp4\n",
      "<class 'list'>\n",
      "<class 'numpy.ndarray'>\n",
      "(120, 160, 3)\n"
     ]
    },
    {
     "name": "stderr",
     "output_type": "stream",
     "text": [
      "OpenCV: FFMPEG: tag 0x44495658/'XVID' is not supported with codec id 12 and format 'mp4 / MP4 (MPEG-4 Part 14)'\n",
      "OpenCV: FFMPEG: fallback to use tag 0x7634706d/'mp4v'\n",
      "OpenCV: FFMPEG: tag 0x44495658/'XVID' is not supported with codec id 12 and format 'mp4 / MP4 (MPEG-4 Part 14)'\n",
      "OpenCV: FFMPEG: fallback to use tag 0x7634706d/'mp4v'\n"
     ]
    },
    {
     "name": "stdout",
     "output_type": "stream",
     "text": [
      "비디오 저장 완료: UCF_Crimes_10crop/Videos/Testing_Normal_Videos_Anomaly/Normal_Videos_933_x264__2.mp4\n",
      "비디오 저장 완료: UCF_Crimes_10crop/Videos/Testing_Normal_Videos_Anomaly/Normal_Videos_933_x264__7.mp4\n",
      "<class 'list'>\n",
      "<class 'numpy.ndarray'>\n",
      "(120, 160, 3)\n"
     ]
    },
    {
     "name": "stderr",
     "output_type": "stream",
     "text": [
      "OpenCV: FFMPEG: tag 0x44495658/'XVID' is not supported with codec id 12 and format 'mp4 / MP4 (MPEG-4 Part 14)'\n",
      "OpenCV: FFMPEG: fallback to use tag 0x7634706d/'mp4v'\n",
      "OpenCV: FFMPEG: tag 0x44495658/'XVID' is not supported with codec id 12 and format 'mp4 / MP4 (MPEG-4 Part 14)'\n",
      "OpenCV: FFMPEG: fallback to use tag 0x7634706d/'mp4v'\n"
     ]
    },
    {
     "name": "stdout",
     "output_type": "stream",
     "text": [
      "비디오 저장 완료: UCF_Crimes_10crop/Videos/Testing_Normal_Videos_Anomaly/Normal_Videos_933_x264__3.mp4\n",
      "비디오 저장 완료: UCF_Crimes_10crop/Videos/Testing_Normal_Videos_Anomaly/Normal_Videos_933_x264__8.mp4\n",
      "<class 'list'>\n",
      "<class 'numpy.ndarray'>\n",
      "(120, 160, 3)\n"
     ]
    },
    {
     "name": "stderr",
     "output_type": "stream",
     "text": [
      "OpenCV: FFMPEG: tag 0x44495658/'XVID' is not supported with codec id 12 and format 'mp4 / MP4 (MPEG-4 Part 14)'\n",
      "OpenCV: FFMPEG: fallback to use tag 0x7634706d/'mp4v'\n",
      "OpenCV: FFMPEG: tag 0x44495658/'XVID' is not supported with codec id 12 and format 'mp4 / MP4 (MPEG-4 Part 14)'\n",
      "OpenCV: FFMPEG: fallback to use tag 0x7634706d/'mp4v'\n"
     ]
    },
    {
     "name": "stdout",
     "output_type": "stream",
     "text": [
      "비디오 저장 완료: UCF_Crimes_10crop/Videos/Testing_Normal_Videos_Anomaly/Normal_Videos_933_x264__4.mp4\n",
      "비디오 저장 완료: UCF_Crimes_10crop/Videos/Testing_Normal_Videos_Anomaly/Normal_Videos_933_x264__9.mp4\n",
      "320   240\n",
      "FPS: 30.0\n",
      "<class 'list'>\n",
      "<class 'numpy.ndarray'>\n",
      "(120, 160, 3)\n",
      "비디오 저장 완료: UCF_Crimes_10crop/Videos/Testing_Normal_Videos_Anomaly/Normal_Videos_939_x264__0.mp4\n",
      "비디오 저장 완료: UCF_Crimes_10crop/Videos/Testing_Normal_Videos_Anomaly/Normal_Videos_939_x264__5.mp4\n",
      "<class 'list'>\n",
      "<class 'numpy.ndarray'>\n",
      "(120, 160, 3)\n"
     ]
    },
    {
     "name": "stderr",
     "output_type": "stream",
     "text": [
      "OpenCV: FFMPEG: tag 0x44495658/'XVID' is not supported with codec id 12 and format 'mp4 / MP4 (MPEG-4 Part 14)'\n",
      "OpenCV: FFMPEG: fallback to use tag 0x7634706d/'mp4v'\n",
      "OpenCV: FFMPEG: tag 0x44495658/'XVID' is not supported with codec id 12 and format 'mp4 / MP4 (MPEG-4 Part 14)'\n",
      "OpenCV: FFMPEG: fallback to use tag 0x7634706d/'mp4v'\n",
      "OpenCV: FFMPEG: tag 0x44495658/'XVID' is not supported with codec id 12 and format 'mp4 / MP4 (MPEG-4 Part 14)'\n",
      "OpenCV: FFMPEG: fallback to use tag 0x7634706d/'mp4v'\n",
      "OpenCV: FFMPEG: tag 0x44495658/'XVID' is not supported with codec id 12 and format 'mp4 / MP4 (MPEG-4 Part 14)'\n",
      "OpenCV: FFMPEG: fallback to use tag 0x7634706d/'mp4v'\n"
     ]
    },
    {
     "name": "stdout",
     "output_type": "stream",
     "text": [
      "비디오 저장 완료: UCF_Crimes_10crop/Videos/Testing_Normal_Videos_Anomaly/Normal_Videos_939_x264__1.mp4\n",
      "비디오 저장 완료: UCF_Crimes_10crop/Videos/Testing_Normal_Videos_Anomaly/Normal_Videos_939_x264__6.mp4\n",
      "<class 'list'>\n",
      "<class 'numpy.ndarray'>\n",
      "(120, 160, 3)\n",
      "비디오 저장 완료: UCF_Crimes_10crop/Videos/Testing_Normal_Videos_Anomaly/Normal_Videos_939_x264__2.mp4\n",
      "비디오 저장 완료: UCF_Crimes_10crop/Videos/Testing_Normal_Videos_Anomaly/Normal_Videos_939_x264__7.mp4\n",
      "<class 'list'>\n",
      "<class 'numpy.ndarray'>\n",
      "(120, 160, 3)\n"
     ]
    },
    {
     "name": "stderr",
     "output_type": "stream",
     "text": [
      "OpenCV: FFMPEG: tag 0x44495658/'XVID' is not supported with codec id 12 and format 'mp4 / MP4 (MPEG-4 Part 14)'\n",
      "OpenCV: FFMPEG: fallback to use tag 0x7634706d/'mp4v'\n",
      "OpenCV: FFMPEG: tag 0x44495658/'XVID' is not supported with codec id 12 and format 'mp4 / MP4 (MPEG-4 Part 14)'\n",
      "OpenCV: FFMPEG: fallback to use tag 0x7634706d/'mp4v'\n",
      "OpenCV: FFMPEG: tag 0x44495658/'XVID' is not supported with codec id 12 and format 'mp4 / MP4 (MPEG-4 Part 14)'\n",
      "OpenCV: FFMPEG: fallback to use tag 0x7634706d/'mp4v'\n",
      "OpenCV: FFMPEG: tag 0x44495658/'XVID' is not supported with codec id 12 and format 'mp4 / MP4 (MPEG-4 Part 14)'\n",
      "OpenCV: FFMPEG: fallback to use tag 0x7634706d/'mp4v'\n"
     ]
    },
    {
     "name": "stdout",
     "output_type": "stream",
     "text": [
      "비디오 저장 완료: UCF_Crimes_10crop/Videos/Testing_Normal_Videos_Anomaly/Normal_Videos_939_x264__3.mp4\n",
      "비디오 저장 완료: UCF_Crimes_10crop/Videos/Testing_Normal_Videos_Anomaly/Normal_Videos_939_x264__8.mp4\n",
      "<class 'list'>\n",
      "<class 'numpy.ndarray'>\n",
      "(120, 160, 3)\n",
      "비디오 저장 완료: UCF_Crimes_10crop/Videos/Testing_Normal_Videos_Anomaly/Normal_Videos_939_x264__4.mp4\n",
      "비디오 저장 완료: UCF_Crimes_10crop/Videos/Testing_Normal_Videos_Anomaly/Normal_Videos_939_x264__9.mp4\n"
     ]
    },
    {
     "name": "stderr",
     "output_type": "stream",
     "text": [
      "OpenCV: FFMPEG: tag 0x44495658/'XVID' is not supported with codec id 12 and format 'mp4 / MP4 (MPEG-4 Part 14)'\n",
      "OpenCV: FFMPEG: fallback to use tag 0x7634706d/'mp4v'\n",
      "OpenCV: FFMPEG: tag 0x44495658/'XVID' is not supported with codec id 12 and format 'mp4 / MP4 (MPEG-4 Part 14)'\n",
      "OpenCV: FFMPEG: fallback to use tag 0x7634706d/'mp4v'\n"
     ]
    },
    {
     "name": "stdout",
     "output_type": "stream",
     "text": [
      "320   240\n",
      "FPS: 30.0\n",
      "<class 'list'>\n",
      "<class 'numpy.ndarray'>\n",
      "(120, 160, 3)\n"
     ]
    },
    {
     "name": "stderr",
     "output_type": "stream",
     "text": [
      "OpenCV: FFMPEG: tag 0x44495658/'XVID' is not supported with codec id 12 and format 'mp4 / MP4 (MPEG-4 Part 14)'\n",
      "OpenCV: FFMPEG: fallback to use tag 0x7634706d/'mp4v'\n",
      "OpenCV: FFMPEG: tag 0x44495658/'XVID' is not supported with codec id 12 and format 'mp4 / MP4 (MPEG-4 Part 14)'\n",
      "OpenCV: FFMPEG: fallback to use tag 0x7634706d/'mp4v'\n"
     ]
    },
    {
     "name": "stdout",
     "output_type": "stream",
     "text": [
      "비디오 저장 완료: UCF_Crimes_10crop/Videos/Testing_Normal_Videos_Anomaly/Normal_Videos_360_x264__0.mp4\n",
      "비디오 저장 완료: UCF_Crimes_10crop/Videos/Testing_Normal_Videos_Anomaly/Normal_Videos_360_x264__5.mp4\n",
      "<class 'list'>\n",
      "<class 'numpy.ndarray'>\n",
      "(120, 160, 3)\n",
      "비디오 저장 완료: UCF_Crimes_10crop/Videos/Testing_Normal_Videos_Anomaly/Normal_Videos_360_x264__1.mp4\n",
      "비디오 저장 완료: UCF_Crimes_10crop/Videos/Testing_Normal_Videos_Anomaly/Normal_Videos_360_x264__6.mp4\n",
      "<class 'list'>\n",
      "<class 'numpy.ndarray'>\n",
      "(120, 160, 3)\n"
     ]
    },
    {
     "name": "stderr",
     "output_type": "stream",
     "text": [
      "OpenCV: FFMPEG: tag 0x44495658/'XVID' is not supported with codec id 12 and format 'mp4 / MP4 (MPEG-4 Part 14)'\n",
      "OpenCV: FFMPEG: fallback to use tag 0x7634706d/'mp4v'\n",
      "OpenCV: FFMPEG: tag 0x44495658/'XVID' is not supported with codec id 12 and format 'mp4 / MP4 (MPEG-4 Part 14)'\n",
      "OpenCV: FFMPEG: fallback to use tag 0x7634706d/'mp4v'\n",
      "OpenCV: FFMPEG: tag 0x44495658/'XVID' is not supported with codec id 12 and format 'mp4 / MP4 (MPEG-4 Part 14)'\n",
      "OpenCV: FFMPEG: fallback to use tag 0x7634706d/'mp4v'\n",
      "OpenCV: FFMPEG: tag 0x44495658/'XVID' is not supported with codec id 12 and format 'mp4 / MP4 (MPEG-4 Part 14)'\n",
      "OpenCV: FFMPEG: fallback to use tag 0x7634706d/'mp4v'\n"
     ]
    },
    {
     "name": "stdout",
     "output_type": "stream",
     "text": [
      "비디오 저장 완료: UCF_Crimes_10crop/Videos/Testing_Normal_Videos_Anomaly/Normal_Videos_360_x264__2.mp4\n",
      "비디오 저장 완료: UCF_Crimes_10crop/Videos/Testing_Normal_Videos_Anomaly/Normal_Videos_360_x264__7.mp4\n",
      "<class 'list'>\n",
      "<class 'numpy.ndarray'>\n",
      "(120, 160, 3)\n",
      "비디오 저장 완료: UCF_Crimes_10crop/Videos/Testing_Normal_Videos_Anomaly/Normal_Videos_360_x264__3.mp4\n",
      "비디오 저장 완료: UCF_Crimes_10crop/Videos/Testing_Normal_Videos_Anomaly/Normal_Videos_360_x264__8.mp4\n",
      "<class 'list'>\n",
      "<class 'numpy.ndarray'>\n",
      "(120, 160, 3)\n"
     ]
    },
    {
     "name": "stderr",
     "output_type": "stream",
     "text": [
      "OpenCV: FFMPEG: tag 0x44495658/'XVID' is not supported with codec id 12 and format 'mp4 / MP4 (MPEG-4 Part 14)'\n",
      "OpenCV: FFMPEG: fallback to use tag 0x7634706d/'mp4v'\n",
      "OpenCV: FFMPEG: tag 0x44495658/'XVID' is not supported with codec id 12 and format 'mp4 / MP4 (MPEG-4 Part 14)'\n",
      "OpenCV: FFMPEG: fallback to use tag 0x7634706d/'mp4v'\n",
      "OpenCV: FFMPEG: tag 0x44495658/'XVID' is not supported with codec id 12 and format 'mp4 / MP4 (MPEG-4 Part 14)'\n",
      "OpenCV: FFMPEG: fallback to use tag 0x7634706d/'mp4v'\n",
      "OpenCV: FFMPEG: tag 0x44495658/'XVID' is not supported with codec id 12 and format 'mp4 / MP4 (MPEG-4 Part 14)'\n",
      "OpenCV: FFMPEG: fallback to use tag 0x7634706d/'mp4v'\n"
     ]
    },
    {
     "name": "stdout",
     "output_type": "stream",
     "text": [
      "비디오 저장 완료: UCF_Crimes_10crop/Videos/Testing_Normal_Videos_Anomaly/Normal_Videos_360_x264__4.mp4\n",
      "비디오 저장 완료: UCF_Crimes_10crop/Videos/Testing_Normal_Videos_Anomaly/Normal_Videos_360_x264__9.mp4\n",
      "320   240\n",
      "FPS: 30.0\n",
      "<class 'list'>\n",
      "<class 'numpy.ndarray'>\n",
      "(120, 160, 3)\n"
     ]
    },
    {
     "name": "stderr",
     "output_type": "stream",
     "text": [
      "OpenCV: FFMPEG: tag 0x44495658/'XVID' is not supported with codec id 12 and format 'mp4 / MP4 (MPEG-4 Part 14)'\n",
      "OpenCV: FFMPEG: fallback to use tag 0x7634706d/'mp4v'\n",
      "OpenCV: FFMPEG: tag 0x44495658/'XVID' is not supported with codec id 12 and format 'mp4 / MP4 (MPEG-4 Part 14)'\n",
      "OpenCV: FFMPEG: fallback to use tag 0x7634706d/'mp4v'\n"
     ]
    },
    {
     "name": "stdout",
     "output_type": "stream",
     "text": [
      "비디오 저장 완료: UCF_Crimes_10crop/Videos/Testing_Normal_Videos_Anomaly/Normal_Videos_312_x264__0.mp4\n",
      "비디오 저장 완료: UCF_Crimes_10crop/Videos/Testing_Normal_Videos_Anomaly/Normal_Videos_312_x264__5.mp4\n",
      "<class 'list'>\n",
      "<class 'numpy.ndarray'>\n",
      "(120, 160, 3)\n"
     ]
    },
    {
     "name": "stderr",
     "output_type": "stream",
     "text": [
      "OpenCV: FFMPEG: tag 0x44495658/'XVID' is not supported with codec id 12 and format 'mp4 / MP4 (MPEG-4 Part 14)'\n",
      "OpenCV: FFMPEG: fallback to use tag 0x7634706d/'mp4v'\n",
      "OpenCV: FFMPEG: tag 0x44495658/'XVID' is not supported with codec id 12 and format 'mp4 / MP4 (MPEG-4 Part 14)'\n",
      "OpenCV: FFMPEG: fallback to use tag 0x7634706d/'mp4v'\n"
     ]
    },
    {
     "name": "stdout",
     "output_type": "stream",
     "text": [
      "비디오 저장 완료: UCF_Crimes_10crop/Videos/Testing_Normal_Videos_Anomaly/Normal_Videos_312_x264__1.mp4\n",
      "비디오 저장 완료: UCF_Crimes_10crop/Videos/Testing_Normal_Videos_Anomaly/Normal_Videos_312_x264__6.mp4\n",
      "<class 'list'>\n",
      "<class 'numpy.ndarray'>\n",
      "(120, 160, 3)\n"
     ]
    },
    {
     "name": "stderr",
     "output_type": "stream",
     "text": [
      "OpenCV: FFMPEG: tag 0x44495658/'XVID' is not supported with codec id 12 and format 'mp4 / MP4 (MPEG-4 Part 14)'\n",
      "OpenCV: FFMPEG: fallback to use tag 0x7634706d/'mp4v'\n",
      "OpenCV: FFMPEG: tag 0x44495658/'XVID' is not supported with codec id 12 and format 'mp4 / MP4 (MPEG-4 Part 14)'\n",
      "OpenCV: FFMPEG: fallback to use tag 0x7634706d/'mp4v'\n"
     ]
    },
    {
     "name": "stdout",
     "output_type": "stream",
     "text": [
      "비디오 저장 완료: UCF_Crimes_10crop/Videos/Testing_Normal_Videos_Anomaly/Normal_Videos_312_x264__2.mp4\n",
      "비디오 저장 완료: UCF_Crimes_10crop/Videos/Testing_Normal_Videos_Anomaly/Normal_Videos_312_x264__7.mp4\n",
      "<class 'list'>\n",
      "<class 'numpy.ndarray'>\n",
      "(120, 160, 3)\n"
     ]
    },
    {
     "name": "stderr",
     "output_type": "stream",
     "text": [
      "OpenCV: FFMPEG: tag 0x44495658/'XVID' is not supported with codec id 12 and format 'mp4 / MP4 (MPEG-4 Part 14)'\n",
      "OpenCV: FFMPEG: fallback to use tag 0x7634706d/'mp4v'\n",
      "OpenCV: FFMPEG: tag 0x44495658/'XVID' is not supported with codec id 12 and format 'mp4 / MP4 (MPEG-4 Part 14)'\n",
      "OpenCV: FFMPEG: fallback to use tag 0x7634706d/'mp4v'\n"
     ]
    },
    {
     "name": "stdout",
     "output_type": "stream",
     "text": [
      "비디오 저장 완료: UCF_Crimes_10crop/Videos/Testing_Normal_Videos_Anomaly/Normal_Videos_312_x264__3.mp4\n",
      "비디오 저장 완료: UCF_Crimes_10crop/Videos/Testing_Normal_Videos_Anomaly/Normal_Videos_312_x264__8.mp4\n",
      "<class 'list'>\n",
      "<class 'numpy.ndarray'>\n",
      "(120, 160, 3)\n"
     ]
    },
    {
     "name": "stderr",
     "output_type": "stream",
     "text": [
      "OpenCV: FFMPEG: tag 0x44495658/'XVID' is not supported with codec id 12 and format 'mp4 / MP4 (MPEG-4 Part 14)'\n",
      "OpenCV: FFMPEG: fallback to use tag 0x7634706d/'mp4v'\n",
      "OpenCV: FFMPEG: tag 0x44495658/'XVID' is not supported with codec id 12 and format 'mp4 / MP4 (MPEG-4 Part 14)'\n",
      "OpenCV: FFMPEG: fallback to use tag 0x7634706d/'mp4v'\n"
     ]
    },
    {
     "name": "stdout",
     "output_type": "stream",
     "text": [
      "비디오 저장 완료: UCF_Crimes_10crop/Videos/Testing_Normal_Videos_Anomaly/Normal_Videos_312_x264__4.mp4\n",
      "비디오 저장 완료: UCF_Crimes_10crop/Videos/Testing_Normal_Videos_Anomaly/Normal_Videos_312_x264__9.mp4\n",
      "320   240\n",
      "FPS: 30.0\n",
      "<class 'list'>\n",
      "<class 'numpy.ndarray'>\n",
      "(120, 160, 3)\n"
     ]
    },
    {
     "name": "stderr",
     "output_type": "stream",
     "text": [
      "OpenCV: FFMPEG: tag 0x44495658/'XVID' is not supported with codec id 12 and format 'mp4 / MP4 (MPEG-4 Part 14)'\n",
      "OpenCV: FFMPEG: fallback to use tag 0x7634706d/'mp4v'\n",
      "OpenCV: FFMPEG: tag 0x44495658/'XVID' is not supported with codec id 12 and format 'mp4 / MP4 (MPEG-4 Part 14)'\n",
      "OpenCV: FFMPEG: fallback to use tag 0x7634706d/'mp4v'\n"
     ]
    },
    {
     "name": "stdout",
     "output_type": "stream",
     "text": [
      "비디오 저장 완료: UCF_Crimes_10crop/Videos/Testing_Normal_Videos_Anomaly/Normal_Videos_641_x264__0.mp4\n",
      "비디오 저장 완료: UCF_Crimes_10crop/Videos/Testing_Normal_Videos_Anomaly/Normal_Videos_641_x264__5.mp4\n",
      "<class 'list'>\n",
      "<class 'numpy.ndarray'>\n",
      "(120, 160, 3)\n"
     ]
    },
    {
     "name": "stderr",
     "output_type": "stream",
     "text": [
      "OpenCV: FFMPEG: tag 0x44495658/'XVID' is not supported with codec id 12 and format 'mp4 / MP4 (MPEG-4 Part 14)'\n",
      "OpenCV: FFMPEG: fallback to use tag 0x7634706d/'mp4v'\n",
      "OpenCV: FFMPEG: tag 0x44495658/'XVID' is not supported with codec id 12 and format 'mp4 / MP4 (MPEG-4 Part 14)'\n",
      "OpenCV: FFMPEG: fallback to use tag 0x7634706d/'mp4v'\n"
     ]
    },
    {
     "name": "stdout",
     "output_type": "stream",
     "text": [
      "비디오 저장 완료: UCF_Crimes_10crop/Videos/Testing_Normal_Videos_Anomaly/Normal_Videos_641_x264__1.mp4\n",
      "비디오 저장 완료: UCF_Crimes_10crop/Videos/Testing_Normal_Videos_Anomaly/Normal_Videos_641_x264__6.mp4\n",
      "<class 'list'>\n",
      "<class 'numpy.ndarray'>\n",
      "(120, 160, 3)\n"
     ]
    },
    {
     "name": "stderr",
     "output_type": "stream",
     "text": [
      "OpenCV: FFMPEG: tag 0x44495658/'XVID' is not supported with codec id 12 and format 'mp4 / MP4 (MPEG-4 Part 14)'\n",
      "OpenCV: FFMPEG: fallback to use tag 0x7634706d/'mp4v'\n",
      "OpenCV: FFMPEG: tag 0x44495658/'XVID' is not supported with codec id 12 and format 'mp4 / MP4 (MPEG-4 Part 14)'\n",
      "OpenCV: FFMPEG: fallback to use tag 0x7634706d/'mp4v'\n"
     ]
    },
    {
     "name": "stdout",
     "output_type": "stream",
     "text": [
      "비디오 저장 완료: UCF_Crimes_10crop/Videos/Testing_Normal_Videos_Anomaly/Normal_Videos_641_x264__2.mp4\n",
      "비디오 저장 완료: UCF_Crimes_10crop/Videos/Testing_Normal_Videos_Anomaly/Normal_Videos_641_x264__7.mp4\n",
      "<class 'list'>\n",
      "<class 'numpy.ndarray'>\n",
      "(120, 160, 3)\n"
     ]
    },
    {
     "name": "stderr",
     "output_type": "stream",
     "text": [
      "OpenCV: FFMPEG: tag 0x44495658/'XVID' is not supported with codec id 12 and format 'mp4 / MP4 (MPEG-4 Part 14)'\n",
      "OpenCV: FFMPEG: fallback to use tag 0x7634706d/'mp4v'\n",
      "OpenCV: FFMPEG: tag 0x44495658/'XVID' is not supported with codec id 12 and format 'mp4 / MP4 (MPEG-4 Part 14)'\n",
      "OpenCV: FFMPEG: fallback to use tag 0x7634706d/'mp4v'\n"
     ]
    },
    {
     "name": "stdout",
     "output_type": "stream",
     "text": [
      "비디오 저장 완료: UCF_Crimes_10crop/Videos/Testing_Normal_Videos_Anomaly/Normal_Videos_641_x264__3.mp4\n",
      "비디오 저장 완료: UCF_Crimes_10crop/Videos/Testing_Normal_Videos_Anomaly/Normal_Videos_641_x264__8.mp4\n",
      "<class 'list'>\n",
      "<class 'numpy.ndarray'>\n",
      "(120, 160, 3)\n"
     ]
    },
    {
     "name": "stderr",
     "output_type": "stream",
     "text": [
      "OpenCV: FFMPEG: tag 0x44495658/'XVID' is not supported with codec id 12 and format 'mp4 / MP4 (MPEG-4 Part 14)'\n",
      "OpenCV: FFMPEG: fallback to use tag 0x7634706d/'mp4v'\n",
      "OpenCV: FFMPEG: tag 0x44495658/'XVID' is not supported with codec id 12 and format 'mp4 / MP4 (MPEG-4 Part 14)'\n",
      "OpenCV: FFMPEG: fallback to use tag 0x7634706d/'mp4v'\n"
     ]
    },
    {
     "name": "stdout",
     "output_type": "stream",
     "text": [
      "비디오 저장 완료: UCF_Crimes_10crop/Videos/Testing_Normal_Videos_Anomaly/Normal_Videos_641_x264__4.mp4\n",
      "비디오 저장 완료: UCF_Crimes_10crop/Videos/Testing_Normal_Videos_Anomaly/Normal_Videos_641_x264__9.mp4\n",
      "320   240\n",
      "FPS: 30.0\n",
      "<class 'list'>\n",
      "<class 'numpy.ndarray'>\n",
      "(120, 160, 3)\n"
     ]
    },
    {
     "name": "stderr",
     "output_type": "stream",
     "text": [
      "OpenCV: FFMPEG: tag 0x44495658/'XVID' is not supported with codec id 12 and format 'mp4 / MP4 (MPEG-4 Part 14)'\n",
      "OpenCV: FFMPEG: fallback to use tag 0x7634706d/'mp4v'\n",
      "OpenCV: FFMPEG: tag 0x44495658/'XVID' is not supported with codec id 12 and format 'mp4 / MP4 (MPEG-4 Part 14)'\n",
      "OpenCV: FFMPEG: fallback to use tag 0x7634706d/'mp4v'\n"
     ]
    },
    {
     "name": "stdout",
     "output_type": "stream",
     "text": [
      "비디오 저장 완료: UCF_Crimes_10crop/Videos/Testing_Normal_Videos_Anomaly/Normal_Videos_781_x264__0.mp4\n",
      "비디오 저장 완료: UCF_Crimes_10crop/Videos/Testing_Normal_Videos_Anomaly/Normal_Videos_781_x264__5.mp4\n",
      "<class 'list'>\n",
      "<class 'numpy.ndarray'>\n",
      "(120, 160, 3)\n"
     ]
    },
    {
     "name": "stderr",
     "output_type": "stream",
     "text": [
      "OpenCV: FFMPEG: tag 0x44495658/'XVID' is not supported with codec id 12 and format 'mp4 / MP4 (MPEG-4 Part 14)'\n",
      "OpenCV: FFMPEG: fallback to use tag 0x7634706d/'mp4v'\n",
      "OpenCV: FFMPEG: tag 0x44495658/'XVID' is not supported with codec id 12 and format 'mp4 / MP4 (MPEG-4 Part 14)'\n",
      "OpenCV: FFMPEG: fallback to use tag 0x7634706d/'mp4v'\n"
     ]
    },
    {
     "name": "stdout",
     "output_type": "stream",
     "text": [
      "비디오 저장 완료: UCF_Crimes_10crop/Videos/Testing_Normal_Videos_Anomaly/Normal_Videos_781_x264__1.mp4\n",
      "비디오 저장 완료: UCF_Crimes_10crop/Videos/Testing_Normal_Videos_Anomaly/Normal_Videos_781_x264__6.mp4\n",
      "<class 'list'>\n",
      "<class 'numpy.ndarray'>\n",
      "(120, 160, 3)\n"
     ]
    },
    {
     "name": "stderr",
     "output_type": "stream",
     "text": [
      "OpenCV: FFMPEG: tag 0x44495658/'XVID' is not supported with codec id 12 and format 'mp4 / MP4 (MPEG-4 Part 14)'\n",
      "OpenCV: FFMPEG: fallback to use tag 0x7634706d/'mp4v'\n",
      "OpenCV: FFMPEG: tag 0x44495658/'XVID' is not supported with codec id 12 and format 'mp4 / MP4 (MPEG-4 Part 14)'\n",
      "OpenCV: FFMPEG: fallback to use tag 0x7634706d/'mp4v'\n"
     ]
    },
    {
     "name": "stdout",
     "output_type": "stream",
     "text": [
      "비디오 저장 완료: UCF_Crimes_10crop/Videos/Testing_Normal_Videos_Anomaly/Normal_Videos_781_x264__2.mp4\n",
      "비디오 저장 완료: UCF_Crimes_10crop/Videos/Testing_Normal_Videos_Anomaly/Normal_Videos_781_x264__7.mp4\n",
      "<class 'list'>\n",
      "<class 'numpy.ndarray'>\n",
      "(120, 160, 3)\n"
     ]
    },
    {
     "name": "stderr",
     "output_type": "stream",
     "text": [
      "OpenCV: FFMPEG: tag 0x44495658/'XVID' is not supported with codec id 12 and format 'mp4 / MP4 (MPEG-4 Part 14)'\n",
      "OpenCV: FFMPEG: fallback to use tag 0x7634706d/'mp4v'\n",
      "OpenCV: FFMPEG: tag 0x44495658/'XVID' is not supported with codec id 12 and format 'mp4 / MP4 (MPEG-4 Part 14)'\n",
      "OpenCV: FFMPEG: fallback to use tag 0x7634706d/'mp4v'\n"
     ]
    },
    {
     "name": "stdout",
     "output_type": "stream",
     "text": [
      "비디오 저장 완료: UCF_Crimes_10crop/Videos/Testing_Normal_Videos_Anomaly/Normal_Videos_781_x264__3.mp4\n",
      "비디오 저장 완료: UCF_Crimes_10crop/Videos/Testing_Normal_Videos_Anomaly/Normal_Videos_781_x264__8.mp4\n",
      "<class 'list'>\n",
      "<class 'numpy.ndarray'>\n",
      "(120, 160, 3)\n"
     ]
    },
    {
     "name": "stderr",
     "output_type": "stream",
     "text": [
      "OpenCV: FFMPEG: tag 0x44495658/'XVID' is not supported with codec id 12 and format 'mp4 / MP4 (MPEG-4 Part 14)'\n",
      "OpenCV: FFMPEG: fallback to use tag 0x7634706d/'mp4v'\n",
      "OpenCV: FFMPEG: tag 0x44495658/'XVID' is not supported with codec id 12 and format 'mp4 / MP4 (MPEG-4 Part 14)'\n",
      "OpenCV: FFMPEG: fallback to use tag 0x7634706d/'mp4v'\n"
     ]
    },
    {
     "name": "stdout",
     "output_type": "stream",
     "text": [
      "비디오 저장 완료: UCF_Crimes_10crop/Videos/Testing_Normal_Videos_Anomaly/Normal_Videos_781_x264__4.mp4\n",
      "비디오 저장 완료: UCF_Crimes_10crop/Videos/Testing_Normal_Videos_Anomaly/Normal_Videos_781_x264__9.mp4\n",
      "320   240\n",
      "FPS: 30.0\n",
      "<class 'list'>\n",
      "<class 'numpy.ndarray'>\n",
      "(120, 160, 3)\n"
     ]
    },
    {
     "name": "stderr",
     "output_type": "stream",
     "text": [
      "OpenCV: FFMPEG: tag 0x44495658/'XVID' is not supported with codec id 12 and format 'mp4 / MP4 (MPEG-4 Part 14)'\n",
      "OpenCV: FFMPEG: fallback to use tag 0x7634706d/'mp4v'\n",
      "OpenCV: FFMPEG: tag 0x44495658/'XVID' is not supported with codec id 12 and format 'mp4 / MP4 (MPEG-4 Part 14)'\n",
      "OpenCV: FFMPEG: fallback to use tag 0x7634706d/'mp4v'\n"
     ]
    },
    {
     "name": "stdout",
     "output_type": "stream",
     "text": [
      "비디오 저장 완료: UCF_Crimes_10crop/Videos/Testing_Normal_Videos_Anomaly/Normal_Videos_877_x264__0.mp4\n",
      "비디오 저장 완료: UCF_Crimes_10crop/Videos/Testing_Normal_Videos_Anomaly/Normal_Videos_877_x264__5.mp4\n",
      "<class 'list'>\n",
      "<class 'numpy.ndarray'>\n",
      "(120, 160, 3)\n"
     ]
    },
    {
     "name": "stderr",
     "output_type": "stream",
     "text": [
      "OpenCV: FFMPEG: tag 0x44495658/'XVID' is not supported with codec id 12 and format 'mp4 / MP4 (MPEG-4 Part 14)'\n",
      "OpenCV: FFMPEG: fallback to use tag 0x7634706d/'mp4v'\n",
      "OpenCV: FFMPEG: tag 0x44495658/'XVID' is not supported with codec id 12 and format 'mp4 / MP4 (MPEG-4 Part 14)'\n",
      "OpenCV: FFMPEG: fallback to use tag 0x7634706d/'mp4v'\n"
     ]
    },
    {
     "name": "stdout",
     "output_type": "stream",
     "text": [
      "비디오 저장 완료: UCF_Crimes_10crop/Videos/Testing_Normal_Videos_Anomaly/Normal_Videos_877_x264__1.mp4\n",
      "비디오 저장 완료: UCF_Crimes_10crop/Videos/Testing_Normal_Videos_Anomaly/Normal_Videos_877_x264__6.mp4\n",
      "<class 'list'>\n",
      "<class 'numpy.ndarray'>\n",
      "(120, 160, 3)\n"
     ]
    },
    {
     "name": "stderr",
     "output_type": "stream",
     "text": [
      "OpenCV: FFMPEG: tag 0x44495658/'XVID' is not supported with codec id 12 and format 'mp4 / MP4 (MPEG-4 Part 14)'\n",
      "OpenCV: FFMPEG: fallback to use tag 0x7634706d/'mp4v'\n",
      "OpenCV: FFMPEG: tag 0x44495658/'XVID' is not supported with codec id 12 and format 'mp4 / MP4 (MPEG-4 Part 14)'\n",
      "OpenCV: FFMPEG: fallback to use tag 0x7634706d/'mp4v'\n"
     ]
    },
    {
     "name": "stdout",
     "output_type": "stream",
     "text": [
      "비디오 저장 완료: UCF_Crimes_10crop/Videos/Testing_Normal_Videos_Anomaly/Normal_Videos_877_x264__2.mp4\n",
      "비디오 저장 완료: UCF_Crimes_10crop/Videos/Testing_Normal_Videos_Anomaly/Normal_Videos_877_x264__7.mp4\n",
      "<class 'list'>\n",
      "<class 'numpy.ndarray'>\n",
      "(120, 160, 3)\n"
     ]
    },
    {
     "name": "stderr",
     "output_type": "stream",
     "text": [
      "OpenCV: FFMPEG: tag 0x44495658/'XVID' is not supported with codec id 12 and format 'mp4 / MP4 (MPEG-4 Part 14)'\n",
      "OpenCV: FFMPEG: fallback to use tag 0x7634706d/'mp4v'\n",
      "OpenCV: FFMPEG: tag 0x44495658/'XVID' is not supported with codec id 12 and format 'mp4 / MP4 (MPEG-4 Part 14)'\n",
      "OpenCV: FFMPEG: fallback to use tag 0x7634706d/'mp4v'\n"
     ]
    },
    {
     "name": "stdout",
     "output_type": "stream",
     "text": [
      "비디오 저장 완료: UCF_Crimes_10crop/Videos/Testing_Normal_Videos_Anomaly/Normal_Videos_877_x264__3.mp4\n",
      "비디오 저장 완료: UCF_Crimes_10crop/Videos/Testing_Normal_Videos_Anomaly/Normal_Videos_877_x264__8.mp4\n",
      "<class 'list'>\n",
      "<class 'numpy.ndarray'>\n",
      "(120, 160, 3)\n"
     ]
    },
    {
     "name": "stderr",
     "output_type": "stream",
     "text": [
      "OpenCV: FFMPEG: tag 0x44495658/'XVID' is not supported with codec id 12 and format 'mp4 / MP4 (MPEG-4 Part 14)'\n",
      "OpenCV: FFMPEG: fallback to use tag 0x7634706d/'mp4v'\n",
      "OpenCV: FFMPEG: tag 0x44495658/'XVID' is not supported with codec id 12 and format 'mp4 / MP4 (MPEG-4 Part 14)'\n",
      "OpenCV: FFMPEG: fallback to use tag 0x7634706d/'mp4v'\n"
     ]
    },
    {
     "name": "stdout",
     "output_type": "stream",
     "text": [
      "비디오 저장 완료: UCF_Crimes_10crop/Videos/Testing_Normal_Videos_Anomaly/Normal_Videos_877_x264__4.mp4\n",
      "비디오 저장 완료: UCF_Crimes_10crop/Videos/Testing_Normal_Videos_Anomaly/Normal_Videos_877_x264__9.mp4\n",
      "320   240\n",
      "FPS: 30.0\n",
      "<class 'list'>\n",
      "<class 'numpy.ndarray'>\n",
      "(120, 160, 3)\n"
     ]
    },
    {
     "name": "stderr",
     "output_type": "stream",
     "text": [
      "OpenCV: FFMPEG: tag 0x44495658/'XVID' is not supported with codec id 12 and format 'mp4 / MP4 (MPEG-4 Part 14)'\n",
      "OpenCV: FFMPEG: fallback to use tag 0x7634706d/'mp4v'\n",
      "OpenCV: FFMPEG: tag 0x44495658/'XVID' is not supported with codec id 12 and format 'mp4 / MP4 (MPEG-4 Part 14)'\n",
      "OpenCV: FFMPEG: fallback to use tag 0x7634706d/'mp4v'\n"
     ]
    },
    {
     "name": "stdout",
     "output_type": "stream",
     "text": [
      "비디오 저장 완료: UCF_Crimes_10crop/Videos/Testing_Normal_Videos_Anomaly/Normal_Videos_246_x264__0.mp4\n",
      "비디오 저장 완료: UCF_Crimes_10crop/Videos/Testing_Normal_Videos_Anomaly/Normal_Videos_246_x264__5.mp4\n",
      "<class 'list'>\n",
      "<class 'numpy.ndarray'>\n",
      "(120, 160, 3)\n"
     ]
    },
    {
     "name": "stderr",
     "output_type": "stream",
     "text": [
      "OpenCV: FFMPEG: tag 0x44495658/'XVID' is not supported with codec id 12 and format 'mp4 / MP4 (MPEG-4 Part 14)'\n",
      "OpenCV: FFMPEG: fallback to use tag 0x7634706d/'mp4v'\n",
      "OpenCV: FFMPEG: tag 0x44495658/'XVID' is not supported with codec id 12 and format 'mp4 / MP4 (MPEG-4 Part 14)'\n",
      "OpenCV: FFMPEG: fallback to use tag 0x7634706d/'mp4v'\n"
     ]
    },
    {
     "name": "stdout",
     "output_type": "stream",
     "text": [
      "비디오 저장 완료: UCF_Crimes_10crop/Videos/Testing_Normal_Videos_Anomaly/Normal_Videos_246_x264__1.mp4\n",
      "비디오 저장 완료: UCF_Crimes_10crop/Videos/Testing_Normal_Videos_Anomaly/Normal_Videos_246_x264__6.mp4\n",
      "<class 'list'>\n",
      "<class 'numpy.ndarray'>\n",
      "(120, 160, 3)\n"
     ]
    },
    {
     "name": "stderr",
     "output_type": "stream",
     "text": [
      "OpenCV: FFMPEG: tag 0x44495658/'XVID' is not supported with codec id 12 and format 'mp4 / MP4 (MPEG-4 Part 14)'\n",
      "OpenCV: FFMPEG: fallback to use tag 0x7634706d/'mp4v'\n",
      "OpenCV: FFMPEG: tag 0x44495658/'XVID' is not supported with codec id 12 and format 'mp4 / MP4 (MPEG-4 Part 14)'\n",
      "OpenCV: FFMPEG: fallback to use tag 0x7634706d/'mp4v'\n"
     ]
    },
    {
     "name": "stdout",
     "output_type": "stream",
     "text": [
      "비디오 저장 완료: UCF_Crimes_10crop/Videos/Testing_Normal_Videos_Anomaly/Normal_Videos_246_x264__2.mp4\n",
      "비디오 저장 완료: UCF_Crimes_10crop/Videos/Testing_Normal_Videos_Anomaly/Normal_Videos_246_x264__7.mp4\n",
      "<class 'list'>\n",
      "<class 'numpy.ndarray'>\n",
      "(120, 160, 3)\n"
     ]
    },
    {
     "name": "stderr",
     "output_type": "stream",
     "text": [
      "OpenCV: FFMPEG: tag 0x44495658/'XVID' is not supported with codec id 12 and format 'mp4 / MP4 (MPEG-4 Part 14)'\n",
      "OpenCV: FFMPEG: fallback to use tag 0x7634706d/'mp4v'\n",
      "OpenCV: FFMPEG: tag 0x44495658/'XVID' is not supported with codec id 12 and format 'mp4 / MP4 (MPEG-4 Part 14)'\n",
      "OpenCV: FFMPEG: fallback to use tag 0x7634706d/'mp4v'\n"
     ]
    },
    {
     "name": "stdout",
     "output_type": "stream",
     "text": [
      "비디오 저장 완료: UCF_Crimes_10crop/Videos/Testing_Normal_Videos_Anomaly/Normal_Videos_246_x264__3.mp4\n",
      "비디오 저장 완료: UCF_Crimes_10crop/Videos/Testing_Normal_Videos_Anomaly/Normal_Videos_246_x264__8.mp4\n",
      "<class 'list'>\n",
      "<class 'numpy.ndarray'>\n",
      "(120, 160, 3)\n"
     ]
    },
    {
     "name": "stderr",
     "output_type": "stream",
     "text": [
      "OpenCV: FFMPEG: tag 0x44495658/'XVID' is not supported with codec id 12 and format 'mp4 / MP4 (MPEG-4 Part 14)'\n",
      "OpenCV: FFMPEG: fallback to use tag 0x7634706d/'mp4v'\n",
      "OpenCV: FFMPEG: tag 0x44495658/'XVID' is not supported with codec id 12 and format 'mp4 / MP4 (MPEG-4 Part 14)'\n",
      "OpenCV: FFMPEG: fallback to use tag 0x7634706d/'mp4v'\n"
     ]
    },
    {
     "name": "stdout",
     "output_type": "stream",
     "text": [
      "비디오 저장 완료: UCF_Crimes_10crop/Videos/Testing_Normal_Videos_Anomaly/Normal_Videos_246_x264__4.mp4\n",
      "비디오 저장 완료: UCF_Crimes_10crop/Videos/Testing_Normal_Videos_Anomaly/Normal_Videos_246_x264__9.mp4\n",
      "320   240\n",
      "FPS: 30.0\n",
      "<class 'list'>\n",
      "<class 'numpy.ndarray'>\n",
      "(120, 160, 3)\n"
     ]
    },
    {
     "name": "stderr",
     "output_type": "stream",
     "text": [
      "OpenCV: FFMPEG: tag 0x44495658/'XVID' is not supported with codec id 12 and format 'mp4 / MP4 (MPEG-4 Part 14)'\n",
      "OpenCV: FFMPEG: fallback to use tag 0x7634706d/'mp4v'\n",
      "OpenCV: FFMPEG: tag 0x44495658/'XVID' is not supported with codec id 12 and format 'mp4 / MP4 (MPEG-4 Part 14)'\n",
      "OpenCV: FFMPEG: fallback to use tag 0x7634706d/'mp4v'\n"
     ]
    },
    {
     "name": "stdout",
     "output_type": "stream",
     "text": [
      "비디오 저장 완료: UCF_Crimes_10crop/Videos/Testing_Normal_Videos_Anomaly/Normal_Videos_887_x264__0.mp4\n",
      "비디오 저장 완료: UCF_Crimes_10crop/Videos/Testing_Normal_Videos_Anomaly/Normal_Videos_887_x264__5.mp4\n",
      "<class 'list'>\n",
      "<class 'numpy.ndarray'>\n",
      "(120, 160, 3)\n"
     ]
    },
    {
     "name": "stderr",
     "output_type": "stream",
     "text": [
      "OpenCV: FFMPEG: tag 0x44495658/'XVID' is not supported with codec id 12 and format 'mp4 / MP4 (MPEG-4 Part 14)'\n",
      "OpenCV: FFMPEG: fallback to use tag 0x7634706d/'mp4v'\n",
      "OpenCV: FFMPEG: tag 0x44495658/'XVID' is not supported with codec id 12 and format 'mp4 / MP4 (MPEG-4 Part 14)'\n",
      "OpenCV: FFMPEG: fallback to use tag 0x7634706d/'mp4v'\n"
     ]
    },
    {
     "name": "stdout",
     "output_type": "stream",
     "text": [
      "비디오 저장 완료: UCF_Crimes_10crop/Videos/Testing_Normal_Videos_Anomaly/Normal_Videos_887_x264__1.mp4\n",
      "비디오 저장 완료: UCF_Crimes_10crop/Videos/Testing_Normal_Videos_Anomaly/Normal_Videos_887_x264__6.mp4\n",
      "<class 'list'>\n",
      "<class 'numpy.ndarray'>\n",
      "(120, 160, 3)\n"
     ]
    },
    {
     "name": "stderr",
     "output_type": "stream",
     "text": [
      "OpenCV: FFMPEG: tag 0x44495658/'XVID' is not supported with codec id 12 and format 'mp4 / MP4 (MPEG-4 Part 14)'\n",
      "OpenCV: FFMPEG: fallback to use tag 0x7634706d/'mp4v'\n",
      "OpenCV: FFMPEG: tag 0x44495658/'XVID' is not supported with codec id 12 and format 'mp4 / MP4 (MPEG-4 Part 14)'\n",
      "OpenCV: FFMPEG: fallback to use tag 0x7634706d/'mp4v'\n"
     ]
    },
    {
     "name": "stdout",
     "output_type": "stream",
     "text": [
      "비디오 저장 완료: UCF_Crimes_10crop/Videos/Testing_Normal_Videos_Anomaly/Normal_Videos_887_x264__2.mp4\n",
      "비디오 저장 완료: UCF_Crimes_10crop/Videos/Testing_Normal_Videos_Anomaly/Normal_Videos_887_x264__7.mp4\n",
      "<class 'list'>\n",
      "<class 'numpy.ndarray'>\n",
      "(120, 160, 3)\n"
     ]
    },
    {
     "name": "stderr",
     "output_type": "stream",
     "text": [
      "OpenCV: FFMPEG: tag 0x44495658/'XVID' is not supported with codec id 12 and format 'mp4 / MP4 (MPEG-4 Part 14)'\n",
      "OpenCV: FFMPEG: fallback to use tag 0x7634706d/'mp4v'\n",
      "OpenCV: FFMPEG: tag 0x44495658/'XVID' is not supported with codec id 12 and format 'mp4 / MP4 (MPEG-4 Part 14)'\n",
      "OpenCV: FFMPEG: fallback to use tag 0x7634706d/'mp4v'\n"
     ]
    },
    {
     "name": "stdout",
     "output_type": "stream",
     "text": [
      "비디오 저장 완료: UCF_Crimes_10crop/Videos/Testing_Normal_Videos_Anomaly/Normal_Videos_887_x264__3.mp4\n",
      "비디오 저장 완료: UCF_Crimes_10crop/Videos/Testing_Normal_Videos_Anomaly/Normal_Videos_887_x264__8.mp4\n",
      "<class 'list'>\n",
      "<class 'numpy.ndarray'>\n",
      "(120, 160, 3)\n"
     ]
    },
    {
     "name": "stderr",
     "output_type": "stream",
     "text": [
      "OpenCV: FFMPEG: tag 0x44495658/'XVID' is not supported with codec id 12 and format 'mp4 / MP4 (MPEG-4 Part 14)'\n",
      "OpenCV: FFMPEG: fallback to use tag 0x7634706d/'mp4v'\n",
      "OpenCV: FFMPEG: tag 0x44495658/'XVID' is not supported with codec id 12 and format 'mp4 / MP4 (MPEG-4 Part 14)'\n",
      "OpenCV: FFMPEG: fallback to use tag 0x7634706d/'mp4v'\n"
     ]
    },
    {
     "name": "stdout",
     "output_type": "stream",
     "text": [
      "비디오 저장 완료: UCF_Crimes_10crop/Videos/Testing_Normal_Videos_Anomaly/Normal_Videos_887_x264__4.mp4\n",
      "비디오 저장 완료: UCF_Crimes_10crop/Videos/Testing_Normal_Videos_Anomaly/Normal_Videos_887_x264__9.mp4\n",
      "320   240\n",
      "FPS: 30.0\n",
      "<class 'list'>\n",
      "<class 'numpy.ndarray'>\n",
      "(120, 160, 3)\n"
     ]
    },
    {
     "name": "stderr",
     "output_type": "stream",
     "text": [
      "OpenCV: FFMPEG: tag 0x44495658/'XVID' is not supported with codec id 12 and format 'mp4 / MP4 (MPEG-4 Part 14)'\n",
      "OpenCV: FFMPEG: fallback to use tag 0x7634706d/'mp4v'\n",
      "OpenCV: FFMPEG: tag 0x44495658/'XVID' is not supported with codec id 12 and format 'mp4 / MP4 (MPEG-4 Part 14)'\n",
      "OpenCV: FFMPEG: fallback to use tag 0x7634706d/'mp4v'\n"
     ]
    },
    {
     "name": "stdout",
     "output_type": "stream",
     "text": [
      "비디오 저장 완료: UCF_Crimes_10crop/Videos/Testing_Normal_Videos_Anomaly/Normal_Videos_702_x264__0.mp4\n",
      "비디오 저장 완료: UCF_Crimes_10crop/Videos/Testing_Normal_Videos_Anomaly/Normal_Videos_702_x264__5.mp4\n",
      "<class 'list'>\n",
      "<class 'numpy.ndarray'>\n",
      "(120, 160, 3)\n"
     ]
    },
    {
     "name": "stderr",
     "output_type": "stream",
     "text": [
      "OpenCV: FFMPEG: tag 0x44495658/'XVID' is not supported with codec id 12 and format 'mp4 / MP4 (MPEG-4 Part 14)'\n",
      "OpenCV: FFMPEG: fallback to use tag 0x7634706d/'mp4v'\n",
      "OpenCV: FFMPEG: tag 0x44495658/'XVID' is not supported with codec id 12 and format 'mp4 / MP4 (MPEG-4 Part 14)'\n",
      "OpenCV: FFMPEG: fallback to use tag 0x7634706d/'mp4v'\n"
     ]
    },
    {
     "name": "stdout",
     "output_type": "stream",
     "text": [
      "비디오 저장 완료: UCF_Crimes_10crop/Videos/Testing_Normal_Videos_Anomaly/Normal_Videos_702_x264__1.mp4\n",
      "비디오 저장 완료: UCF_Crimes_10crop/Videos/Testing_Normal_Videos_Anomaly/Normal_Videos_702_x264__6.mp4\n",
      "<class 'list'>\n",
      "<class 'numpy.ndarray'>\n",
      "(120, 160, 3)\n"
     ]
    },
    {
     "name": "stderr",
     "output_type": "stream",
     "text": [
      "OpenCV: FFMPEG: tag 0x44495658/'XVID' is not supported with codec id 12 and format 'mp4 / MP4 (MPEG-4 Part 14)'\n",
      "OpenCV: FFMPEG: fallback to use tag 0x7634706d/'mp4v'\n",
      "OpenCV: FFMPEG: tag 0x44495658/'XVID' is not supported with codec id 12 and format 'mp4 / MP4 (MPEG-4 Part 14)'\n",
      "OpenCV: FFMPEG: fallback to use tag 0x7634706d/'mp4v'\n"
     ]
    },
    {
     "name": "stdout",
     "output_type": "stream",
     "text": [
      "비디오 저장 완료: UCF_Crimes_10crop/Videos/Testing_Normal_Videos_Anomaly/Normal_Videos_702_x264__2.mp4\n",
      "비디오 저장 완료: UCF_Crimes_10crop/Videos/Testing_Normal_Videos_Anomaly/Normal_Videos_702_x264__7.mp4\n",
      "<class 'list'>\n",
      "<class 'numpy.ndarray'>\n",
      "(120, 160, 3)\n"
     ]
    },
    {
     "name": "stderr",
     "output_type": "stream",
     "text": [
      "OpenCV: FFMPEG: tag 0x44495658/'XVID' is not supported with codec id 12 and format 'mp4 / MP4 (MPEG-4 Part 14)'\n",
      "OpenCV: FFMPEG: fallback to use tag 0x7634706d/'mp4v'\n",
      "OpenCV: FFMPEG: tag 0x44495658/'XVID' is not supported with codec id 12 and format 'mp4 / MP4 (MPEG-4 Part 14)'\n",
      "OpenCV: FFMPEG: fallback to use tag 0x7634706d/'mp4v'\n"
     ]
    },
    {
     "name": "stdout",
     "output_type": "stream",
     "text": [
      "비디오 저장 완료: UCF_Crimes_10crop/Videos/Testing_Normal_Videos_Anomaly/Normal_Videos_702_x264__3.mp4\n",
      "비디오 저장 완료: UCF_Crimes_10crop/Videos/Testing_Normal_Videos_Anomaly/Normal_Videos_702_x264__8.mp4\n",
      "<class 'list'>\n",
      "<class 'numpy.ndarray'>\n",
      "(120, 160, 3)\n"
     ]
    },
    {
     "name": "stderr",
     "output_type": "stream",
     "text": [
      "OpenCV: FFMPEG: tag 0x44495658/'XVID' is not supported with codec id 12 and format 'mp4 / MP4 (MPEG-4 Part 14)'\n",
      "OpenCV: FFMPEG: fallback to use tag 0x7634706d/'mp4v'\n",
      "OpenCV: FFMPEG: tag 0x44495658/'XVID' is not supported with codec id 12 and format 'mp4 / MP4 (MPEG-4 Part 14)'\n",
      "OpenCV: FFMPEG: fallback to use tag 0x7634706d/'mp4v'\n"
     ]
    },
    {
     "name": "stdout",
     "output_type": "stream",
     "text": [
      "비디오 저장 완료: UCF_Crimes_10crop/Videos/Testing_Normal_Videos_Anomaly/Normal_Videos_702_x264__4.mp4\n",
      "비디오 저장 완료: UCF_Crimes_10crop/Videos/Testing_Normal_Videos_Anomaly/Normal_Videos_702_x264__9.mp4\n",
      "320   240\n",
      "FPS: 30.0\n",
      "<class 'list'>\n",
      "<class 'numpy.ndarray'>\n",
      "(120, 160, 3)\n"
     ]
    },
    {
     "name": "stderr",
     "output_type": "stream",
     "text": [
      "OpenCV: FFMPEG: tag 0x44495658/'XVID' is not supported with codec id 12 and format 'mp4 / MP4 (MPEG-4 Part 14)'\n",
      "OpenCV: FFMPEG: fallback to use tag 0x7634706d/'mp4v'\n",
      "OpenCV: FFMPEG: tag 0x44495658/'XVID' is not supported with codec id 12 and format 'mp4 / MP4 (MPEG-4 Part 14)'\n",
      "OpenCV: FFMPEG: fallback to use tag 0x7634706d/'mp4v'\n"
     ]
    },
    {
     "name": "stdout",
     "output_type": "stream",
     "text": [
      "비디오 저장 완료: UCF_Crimes_10crop/Videos/Testing_Normal_Videos_Anomaly/Normal_Videos_905_x264__0.mp4\n",
      "비디오 저장 완료: UCF_Crimes_10crop/Videos/Testing_Normal_Videos_Anomaly/Normal_Videos_905_x264__5.mp4\n",
      "<class 'list'>\n",
      "<class 'numpy.ndarray'>\n",
      "(120, 160, 3)\n",
      "비디오 저장 완료: UCF_Crimes_10crop/Videos/Testing_Normal_Videos_Anomaly/Normal_Videos_905_x264__1.mp4\n",
      "비디오 저장 완료: UCF_Crimes_10crop/Videos/Testing_Normal_Videos_Anomaly/Normal_Videos_905_x264__6.mp4\n",
      "<class 'list'>\n",
      "<class 'numpy.ndarray'>\n",
      "(120, 160, 3)\n"
     ]
    },
    {
     "name": "stderr",
     "output_type": "stream",
     "text": [
      "OpenCV: FFMPEG: tag 0x44495658/'XVID' is not supported with codec id 12 and format 'mp4 / MP4 (MPEG-4 Part 14)'\n",
      "OpenCV: FFMPEG: fallback to use tag 0x7634706d/'mp4v'\n",
      "OpenCV: FFMPEG: tag 0x44495658/'XVID' is not supported with codec id 12 and format 'mp4 / MP4 (MPEG-4 Part 14)'\n",
      "OpenCV: FFMPEG: fallback to use tag 0x7634706d/'mp4v'\n",
      "OpenCV: FFMPEG: tag 0x44495658/'XVID' is not supported with codec id 12 and format 'mp4 / MP4 (MPEG-4 Part 14)'\n",
      "OpenCV: FFMPEG: fallback to use tag 0x7634706d/'mp4v'\n",
      "OpenCV: FFMPEG: tag 0x44495658/'XVID' is not supported with codec id 12 and format 'mp4 / MP4 (MPEG-4 Part 14)'\n",
      "OpenCV: FFMPEG: fallback to use tag 0x7634706d/'mp4v'\n"
     ]
    },
    {
     "name": "stdout",
     "output_type": "stream",
     "text": [
      "비디오 저장 완료: UCF_Crimes_10crop/Videos/Testing_Normal_Videos_Anomaly/Normal_Videos_905_x264__2.mp4\n",
      "비디오 저장 완료: UCF_Crimes_10crop/Videos/Testing_Normal_Videos_Anomaly/Normal_Videos_905_x264__7.mp4\n",
      "<class 'list'>\n",
      "<class 'numpy.ndarray'>\n",
      "(120, 160, 3)\n",
      "비디오 저장 완료: UCF_Crimes_10crop/Videos/Testing_Normal_Videos_Anomaly/Normal_Videos_905_x264__3.mp4\n",
      "비디오 저장 완료: UCF_Crimes_10crop/Videos/Testing_Normal_Videos_Anomaly/Normal_Videos_905_x264__8.mp4\n",
      "<class 'list'>\n",
      "<class 'numpy.ndarray'>\n",
      "(120, 160, 3)\n"
     ]
    },
    {
     "name": "stderr",
     "output_type": "stream",
     "text": [
      "OpenCV: FFMPEG: tag 0x44495658/'XVID' is not supported with codec id 12 and format 'mp4 / MP4 (MPEG-4 Part 14)'\n",
      "OpenCV: FFMPEG: fallback to use tag 0x7634706d/'mp4v'\n",
      "OpenCV: FFMPEG: tag 0x44495658/'XVID' is not supported with codec id 12 and format 'mp4 / MP4 (MPEG-4 Part 14)'\n",
      "OpenCV: FFMPEG: fallback to use tag 0x7634706d/'mp4v'\n",
      "OpenCV: FFMPEG: tag 0x44495658/'XVID' is not supported with codec id 12 and format 'mp4 / MP4 (MPEG-4 Part 14)'\n",
      "OpenCV: FFMPEG: fallback to use tag 0x7634706d/'mp4v'\n",
      "OpenCV: FFMPEG: tag 0x44495658/'XVID' is not supported with codec id 12 and format 'mp4 / MP4 (MPEG-4 Part 14)'\n",
      "OpenCV: FFMPEG: fallback to use tag 0x7634706d/'mp4v'\n"
     ]
    },
    {
     "name": "stdout",
     "output_type": "stream",
     "text": [
      "비디오 저장 완료: UCF_Crimes_10crop/Videos/Testing_Normal_Videos_Anomaly/Normal_Videos_905_x264__4.mp4\n",
      "비디오 저장 완료: UCF_Crimes_10crop/Videos/Testing_Normal_Videos_Anomaly/Normal_Videos_905_x264__9.mp4\n",
      "320   240\n",
      "FPS: 30.0\n",
      "<class 'list'>\n",
      "<class 'numpy.ndarray'>\n",
      "(120, 160, 3)\n"
     ]
    },
    {
     "name": "stderr",
     "output_type": "stream",
     "text": [
      "OpenCV: FFMPEG: tag 0x44495658/'XVID' is not supported with codec id 12 and format 'mp4 / MP4 (MPEG-4 Part 14)'\n",
      "OpenCV: FFMPEG: fallback to use tag 0x7634706d/'mp4v'\n",
      "OpenCV: FFMPEG: tag 0x44495658/'XVID' is not supported with codec id 12 and format 'mp4 / MP4 (MPEG-4 Part 14)'\n",
      "OpenCV: FFMPEG: fallback to use tag 0x7634706d/'mp4v'\n"
     ]
    },
    {
     "name": "stdout",
     "output_type": "stream",
     "text": [
      "비디오 저장 완료: UCF_Crimes_10crop/Videos/Testing_Normal_Videos_Anomaly/Normal_Videos_941_x264__0.mp4\n",
      "비디오 저장 완료: UCF_Crimes_10crop/Videos/Testing_Normal_Videos_Anomaly/Normal_Videos_941_x264__5.mp4\n",
      "<class 'list'>\n",
      "<class 'numpy.ndarray'>\n",
      "(120, 160, 3)\n"
     ]
    },
    {
     "name": "stderr",
     "output_type": "stream",
     "text": [
      "OpenCV: FFMPEG: tag 0x44495658/'XVID' is not supported with codec id 12 and format 'mp4 / MP4 (MPEG-4 Part 14)'\n",
      "OpenCV: FFMPEG: fallback to use tag 0x7634706d/'mp4v'\n",
      "OpenCV: FFMPEG: tag 0x44495658/'XVID' is not supported with codec id 12 and format 'mp4 / MP4 (MPEG-4 Part 14)'\n",
      "OpenCV: FFMPEG: fallback to use tag 0x7634706d/'mp4v'\n"
     ]
    },
    {
     "name": "stdout",
     "output_type": "stream",
     "text": [
      "비디오 저장 완료: UCF_Crimes_10crop/Videos/Testing_Normal_Videos_Anomaly/Normal_Videos_941_x264__1.mp4\n",
      "비디오 저장 완료: UCF_Crimes_10crop/Videos/Testing_Normal_Videos_Anomaly/Normal_Videos_941_x264__6.mp4\n",
      "<class 'list'>\n",
      "<class 'numpy.ndarray'>\n",
      "(120, 160, 3)\n"
     ]
    },
    {
     "name": "stderr",
     "output_type": "stream",
     "text": [
      "OpenCV: FFMPEG: tag 0x44495658/'XVID' is not supported with codec id 12 and format 'mp4 / MP4 (MPEG-4 Part 14)'\n",
      "OpenCV: FFMPEG: fallback to use tag 0x7634706d/'mp4v'\n",
      "OpenCV: FFMPEG: tag 0x44495658/'XVID' is not supported with codec id 12 and format 'mp4 / MP4 (MPEG-4 Part 14)'\n",
      "OpenCV: FFMPEG: fallback to use tag 0x7634706d/'mp4v'\n"
     ]
    },
    {
     "name": "stdout",
     "output_type": "stream",
     "text": [
      "비디오 저장 완료: UCF_Crimes_10crop/Videos/Testing_Normal_Videos_Anomaly/Normal_Videos_941_x264__2.mp4\n",
      "비디오 저장 완료: UCF_Crimes_10crop/Videos/Testing_Normal_Videos_Anomaly/Normal_Videos_941_x264__7.mp4\n",
      "<class 'list'>\n",
      "<class 'numpy.ndarray'>\n",
      "(120, 160, 3)\n"
     ]
    },
    {
     "name": "stderr",
     "output_type": "stream",
     "text": [
      "OpenCV: FFMPEG: tag 0x44495658/'XVID' is not supported with codec id 12 and format 'mp4 / MP4 (MPEG-4 Part 14)'\n",
      "OpenCV: FFMPEG: fallback to use tag 0x7634706d/'mp4v'\n",
      "OpenCV: FFMPEG: tag 0x44495658/'XVID' is not supported with codec id 12 and format 'mp4 / MP4 (MPEG-4 Part 14)'\n",
      "OpenCV: FFMPEG: fallback to use tag 0x7634706d/'mp4v'\n"
     ]
    },
    {
     "name": "stdout",
     "output_type": "stream",
     "text": [
      "비디오 저장 완료: UCF_Crimes_10crop/Videos/Testing_Normal_Videos_Anomaly/Normal_Videos_941_x264__3.mp4\n",
      "비디오 저장 완료: UCF_Crimes_10crop/Videos/Testing_Normal_Videos_Anomaly/Normal_Videos_941_x264__8.mp4\n",
      "<class 'list'>\n",
      "<class 'numpy.ndarray'>\n",
      "(120, 160, 3)\n"
     ]
    },
    {
     "name": "stderr",
     "output_type": "stream",
     "text": [
      "OpenCV: FFMPEG: tag 0x44495658/'XVID' is not supported with codec id 12 and format 'mp4 / MP4 (MPEG-4 Part 14)'\n",
      "OpenCV: FFMPEG: fallback to use tag 0x7634706d/'mp4v'\n",
      "OpenCV: FFMPEG: tag 0x44495658/'XVID' is not supported with codec id 12 and format 'mp4 / MP4 (MPEG-4 Part 14)'\n",
      "OpenCV: FFMPEG: fallback to use tag 0x7634706d/'mp4v'\n"
     ]
    },
    {
     "name": "stdout",
     "output_type": "stream",
     "text": [
      "비디오 저장 완료: UCF_Crimes_10crop/Videos/Testing_Normal_Videos_Anomaly/Normal_Videos_941_x264__4.mp4\n",
      "비디오 저장 완료: UCF_Crimes_10crop/Videos/Testing_Normal_Videos_Anomaly/Normal_Videos_941_x264__9.mp4\n",
      "320   240\n",
      "FPS: 30.0\n",
      "<class 'list'>\n",
      "<class 'numpy.ndarray'>\n",
      "(120, 160, 3)\n"
     ]
    },
    {
     "name": "stderr",
     "output_type": "stream",
     "text": [
      "OpenCV: FFMPEG: tag 0x44495658/'XVID' is not supported with codec id 12 and format 'mp4 / MP4 (MPEG-4 Part 14)'\n",
      "OpenCV: FFMPEG: fallback to use tag 0x7634706d/'mp4v'\n",
      "OpenCV: FFMPEG: tag 0x44495658/'XVID' is not supported with codec id 12 and format 'mp4 / MP4 (MPEG-4 Part 14)'\n",
      "OpenCV: FFMPEG: fallback to use tag 0x7634706d/'mp4v'\n"
     ]
    },
    {
     "name": "stdout",
     "output_type": "stream",
     "text": [
      "비디오 저장 완료: UCF_Crimes_10crop/Videos/Testing_Normal_Videos_Anomaly/Normal_Videos_893_x264__0.mp4\n",
      "비디오 저장 완료: UCF_Crimes_10crop/Videos/Testing_Normal_Videos_Anomaly/Normal_Videos_893_x264__5.mp4\n",
      "<class 'list'>\n",
      "<class 'numpy.ndarray'>\n",
      "(120, 160, 3)\n"
     ]
    },
    {
     "name": "stderr",
     "output_type": "stream",
     "text": [
      "OpenCV: FFMPEG: tag 0x44495658/'XVID' is not supported with codec id 12 and format 'mp4 / MP4 (MPEG-4 Part 14)'\n",
      "OpenCV: FFMPEG: fallback to use tag 0x7634706d/'mp4v'\n",
      "OpenCV: FFMPEG: tag 0x44495658/'XVID' is not supported with codec id 12 and format 'mp4 / MP4 (MPEG-4 Part 14)'\n",
      "OpenCV: FFMPEG: fallback to use tag 0x7634706d/'mp4v'\n"
     ]
    },
    {
     "name": "stdout",
     "output_type": "stream",
     "text": [
      "비디오 저장 완료: UCF_Crimes_10crop/Videos/Testing_Normal_Videos_Anomaly/Normal_Videos_893_x264__1.mp4\n",
      "비디오 저장 완료: UCF_Crimes_10crop/Videos/Testing_Normal_Videos_Anomaly/Normal_Videos_893_x264__6.mp4\n",
      "<class 'list'>\n",
      "<class 'numpy.ndarray'>\n",
      "(120, 160, 3)\n"
     ]
    },
    {
     "name": "stderr",
     "output_type": "stream",
     "text": [
      "OpenCV: FFMPEG: tag 0x44495658/'XVID' is not supported with codec id 12 and format 'mp4 / MP4 (MPEG-4 Part 14)'\n",
      "OpenCV: FFMPEG: fallback to use tag 0x7634706d/'mp4v'\n",
      "OpenCV: FFMPEG: tag 0x44495658/'XVID' is not supported with codec id 12 and format 'mp4 / MP4 (MPEG-4 Part 14)'\n",
      "OpenCV: FFMPEG: fallback to use tag 0x7634706d/'mp4v'\n"
     ]
    },
    {
     "name": "stdout",
     "output_type": "stream",
     "text": [
      "비디오 저장 완료: UCF_Crimes_10crop/Videos/Testing_Normal_Videos_Anomaly/Normal_Videos_893_x264__2.mp4\n",
      "비디오 저장 완료: UCF_Crimes_10crop/Videos/Testing_Normal_Videos_Anomaly/Normal_Videos_893_x264__7.mp4\n",
      "<class 'list'>\n",
      "<class 'numpy.ndarray'>\n",
      "(120, 160, 3)\n"
     ]
    },
    {
     "name": "stderr",
     "output_type": "stream",
     "text": [
      "OpenCV: FFMPEG: tag 0x44495658/'XVID' is not supported with codec id 12 and format 'mp4 / MP4 (MPEG-4 Part 14)'\n",
      "OpenCV: FFMPEG: fallback to use tag 0x7634706d/'mp4v'\n",
      "OpenCV: FFMPEG: tag 0x44495658/'XVID' is not supported with codec id 12 and format 'mp4 / MP4 (MPEG-4 Part 14)'\n",
      "OpenCV: FFMPEG: fallback to use tag 0x7634706d/'mp4v'\n"
     ]
    },
    {
     "name": "stdout",
     "output_type": "stream",
     "text": [
      "비디오 저장 완료: UCF_Crimes_10crop/Videos/Testing_Normal_Videos_Anomaly/Normal_Videos_893_x264__3.mp4\n",
      "비디오 저장 완료: UCF_Crimes_10crop/Videos/Testing_Normal_Videos_Anomaly/Normal_Videos_893_x264__8.mp4\n",
      "<class 'list'>\n",
      "<class 'numpy.ndarray'>\n",
      "(120, 160, 3)\n"
     ]
    },
    {
     "name": "stderr",
     "output_type": "stream",
     "text": [
      "OpenCV: FFMPEG: tag 0x44495658/'XVID' is not supported with codec id 12 and format 'mp4 / MP4 (MPEG-4 Part 14)'\n",
      "OpenCV: FFMPEG: fallback to use tag 0x7634706d/'mp4v'\n",
      "OpenCV: FFMPEG: tag 0x44495658/'XVID' is not supported with codec id 12 and format 'mp4 / MP4 (MPEG-4 Part 14)'\n",
      "OpenCV: FFMPEG: fallback to use tag 0x7634706d/'mp4v'\n"
     ]
    },
    {
     "name": "stdout",
     "output_type": "stream",
     "text": [
      "비디오 저장 완료: UCF_Crimes_10crop/Videos/Testing_Normal_Videos_Anomaly/Normal_Videos_893_x264__4.mp4\n",
      "비디오 저장 완료: UCF_Crimes_10crop/Videos/Testing_Normal_Videos_Anomaly/Normal_Videos_893_x264__9.mp4\n",
      "320   240\n",
      "FPS: 30.0\n",
      "<class 'list'>\n",
      "<class 'numpy.ndarray'>\n",
      "(120, 160, 3)\n"
     ]
    },
    {
     "name": "stderr",
     "output_type": "stream",
     "text": [
      "OpenCV: FFMPEG: tag 0x44495658/'XVID' is not supported with codec id 12 and format 'mp4 / MP4 (MPEG-4 Part 14)'\n",
      "OpenCV: FFMPEG: fallback to use tag 0x7634706d/'mp4v'\n",
      "OpenCV: FFMPEG: tag 0x44495658/'XVID' is not supported with codec id 12 and format 'mp4 / MP4 (MPEG-4 Part 14)'\n",
      "OpenCV: FFMPEG: fallback to use tag 0x7634706d/'mp4v'\n"
     ]
    },
    {
     "name": "stdout",
     "output_type": "stream",
     "text": [
      "비디오 저장 완료: UCF_Crimes_10crop/Videos/Testing_Normal_Videos_Anomaly/Normal_Videos_606_x264__0.mp4\n",
      "비디오 저장 완료: UCF_Crimes_10crop/Videos/Testing_Normal_Videos_Anomaly/Normal_Videos_606_x264__5.mp4\n",
      "<class 'list'>\n",
      "<class 'numpy.ndarray'>\n",
      "(120, 160, 3)\n"
     ]
    },
    {
     "name": "stderr",
     "output_type": "stream",
     "text": [
      "OpenCV: FFMPEG: tag 0x44495658/'XVID' is not supported with codec id 12 and format 'mp4 / MP4 (MPEG-4 Part 14)'\n",
      "OpenCV: FFMPEG: fallback to use tag 0x7634706d/'mp4v'\n",
      "OpenCV: FFMPEG: tag 0x44495658/'XVID' is not supported with codec id 12 and format 'mp4 / MP4 (MPEG-4 Part 14)'\n",
      "OpenCV: FFMPEG: fallback to use tag 0x7634706d/'mp4v'\n"
     ]
    },
    {
     "name": "stdout",
     "output_type": "stream",
     "text": [
      "비디오 저장 완료: UCF_Crimes_10crop/Videos/Testing_Normal_Videos_Anomaly/Normal_Videos_606_x264__1.mp4\n",
      "비디오 저장 완료: UCF_Crimes_10crop/Videos/Testing_Normal_Videos_Anomaly/Normal_Videos_606_x264__6.mp4\n",
      "<class 'list'>\n",
      "<class 'numpy.ndarray'>\n",
      "(120, 160, 3)\n"
     ]
    },
    {
     "name": "stderr",
     "output_type": "stream",
     "text": [
      "OpenCV: FFMPEG: tag 0x44495658/'XVID' is not supported with codec id 12 and format 'mp4 / MP4 (MPEG-4 Part 14)'\n",
      "OpenCV: FFMPEG: fallback to use tag 0x7634706d/'mp4v'\n",
      "OpenCV: FFMPEG: tag 0x44495658/'XVID' is not supported with codec id 12 and format 'mp4 / MP4 (MPEG-4 Part 14)'\n",
      "OpenCV: FFMPEG: fallback to use tag 0x7634706d/'mp4v'\n"
     ]
    },
    {
     "name": "stdout",
     "output_type": "stream",
     "text": [
      "비디오 저장 완료: UCF_Crimes_10crop/Videos/Testing_Normal_Videos_Anomaly/Normal_Videos_606_x264__2.mp4\n",
      "비디오 저장 완료: UCF_Crimes_10crop/Videos/Testing_Normal_Videos_Anomaly/Normal_Videos_606_x264__7.mp4\n",
      "<class 'list'>\n",
      "<class 'numpy.ndarray'>\n",
      "(120, 160, 3)\n"
     ]
    },
    {
     "name": "stderr",
     "output_type": "stream",
     "text": [
      "OpenCV: FFMPEG: tag 0x44495658/'XVID' is not supported with codec id 12 and format 'mp4 / MP4 (MPEG-4 Part 14)'\n",
      "OpenCV: FFMPEG: fallback to use tag 0x7634706d/'mp4v'\n",
      "OpenCV: FFMPEG: tag 0x44495658/'XVID' is not supported with codec id 12 and format 'mp4 / MP4 (MPEG-4 Part 14)'\n",
      "OpenCV: FFMPEG: fallback to use tag 0x7634706d/'mp4v'\n"
     ]
    },
    {
     "name": "stdout",
     "output_type": "stream",
     "text": [
      "비디오 저장 완료: UCF_Crimes_10crop/Videos/Testing_Normal_Videos_Anomaly/Normal_Videos_606_x264__3.mp4\n",
      "비디오 저장 완료: UCF_Crimes_10crop/Videos/Testing_Normal_Videos_Anomaly/Normal_Videos_606_x264__8.mp4\n",
      "<class 'list'>\n",
      "<class 'numpy.ndarray'>\n",
      "(120, 160, 3)\n"
     ]
    },
    {
     "name": "stderr",
     "output_type": "stream",
     "text": [
      "OpenCV: FFMPEG: tag 0x44495658/'XVID' is not supported with codec id 12 and format 'mp4 / MP4 (MPEG-4 Part 14)'\n",
      "OpenCV: FFMPEG: fallback to use tag 0x7634706d/'mp4v'\n",
      "OpenCV: FFMPEG: tag 0x44495658/'XVID' is not supported with codec id 12 and format 'mp4 / MP4 (MPEG-4 Part 14)'\n",
      "OpenCV: FFMPEG: fallback to use tag 0x7634706d/'mp4v'\n"
     ]
    },
    {
     "name": "stdout",
     "output_type": "stream",
     "text": [
      "비디오 저장 완료: UCF_Crimes_10crop/Videos/Testing_Normal_Videos_Anomaly/Normal_Videos_606_x264__4.mp4\n",
      "비디오 저장 완료: UCF_Crimes_10crop/Videos/Testing_Normal_Videos_Anomaly/Normal_Videos_606_x264__9.mp4\n",
      "320   240\n",
      "FPS: 30.0\n",
      "<class 'list'>\n",
      "<class 'numpy.ndarray'>\n",
      "(120, 160, 3)\n",
      "비디오 저장 완료: UCF_Crimes_10crop/Videos/Testing_Normal_Videos_Anomaly/Normal_Videos_929_x264__0.mp4\n",
      "비디오 저장 완료: UCF_Crimes_10crop/Videos/Testing_Normal_Videos_Anomaly/Normal_Videos_929_x264__5.mp4\n",
      "<class 'list'>\n",
      "<class 'numpy.ndarray'>\n",
      "(120, 160, 3)\n"
     ]
    },
    {
     "name": "stderr",
     "output_type": "stream",
     "text": [
      "OpenCV: FFMPEG: tag 0x44495658/'XVID' is not supported with codec id 12 and format 'mp4 / MP4 (MPEG-4 Part 14)'\n",
      "OpenCV: FFMPEG: fallback to use tag 0x7634706d/'mp4v'\n",
      "OpenCV: FFMPEG: tag 0x44495658/'XVID' is not supported with codec id 12 and format 'mp4 / MP4 (MPEG-4 Part 14)'\n",
      "OpenCV: FFMPEG: fallback to use tag 0x7634706d/'mp4v'\n",
      "OpenCV: FFMPEG: tag 0x44495658/'XVID' is not supported with codec id 12 and format 'mp4 / MP4 (MPEG-4 Part 14)'\n",
      "OpenCV: FFMPEG: fallback to use tag 0x7634706d/'mp4v'\n",
      "OpenCV: FFMPEG: tag 0x44495658/'XVID' is not supported with codec id 12 and format 'mp4 / MP4 (MPEG-4 Part 14)'\n",
      "OpenCV: FFMPEG: fallback to use tag 0x7634706d/'mp4v'\n"
     ]
    },
    {
     "name": "stdout",
     "output_type": "stream",
     "text": [
      "비디오 저장 완료: UCF_Crimes_10crop/Videos/Testing_Normal_Videos_Anomaly/Normal_Videos_929_x264__1.mp4\n",
      "비디오 저장 완료: UCF_Crimes_10crop/Videos/Testing_Normal_Videos_Anomaly/Normal_Videos_929_x264__6.mp4\n",
      "<class 'list'>\n",
      "<class 'numpy.ndarray'>\n",
      "(120, 160, 3)\n",
      "비디오 저장 완료: UCF_Crimes_10crop/Videos/Testing_Normal_Videos_Anomaly/Normal_Videos_929_x264__2.mp4\n",
      "비디오 저장 완료: UCF_Crimes_10crop/Videos/Testing_Normal_Videos_Anomaly/Normal_Videos_929_x264__7.mp4\n",
      "<class 'list'>\n",
      "<class 'numpy.ndarray'>\n",
      "(120, 160, 3)\n"
     ]
    },
    {
     "name": "stderr",
     "output_type": "stream",
     "text": [
      "OpenCV: FFMPEG: tag 0x44495658/'XVID' is not supported with codec id 12 and format 'mp4 / MP4 (MPEG-4 Part 14)'\n",
      "OpenCV: FFMPEG: fallback to use tag 0x7634706d/'mp4v'\n",
      "OpenCV: FFMPEG: tag 0x44495658/'XVID' is not supported with codec id 12 and format 'mp4 / MP4 (MPEG-4 Part 14)'\n",
      "OpenCV: FFMPEG: fallback to use tag 0x7634706d/'mp4v'\n",
      "OpenCV: FFMPEG: tag 0x44495658/'XVID' is not supported with codec id 12 and format 'mp4 / MP4 (MPEG-4 Part 14)'\n",
      "OpenCV: FFMPEG: fallback to use tag 0x7634706d/'mp4v'\n",
      "OpenCV: FFMPEG: tag 0x44495658/'XVID' is not supported with codec id 12 and format 'mp4 / MP4 (MPEG-4 Part 14)'\n",
      "OpenCV: FFMPEG: fallback to use tag 0x7634706d/'mp4v'\n"
     ]
    },
    {
     "name": "stdout",
     "output_type": "stream",
     "text": [
      "비디오 저장 완료: UCF_Crimes_10crop/Videos/Testing_Normal_Videos_Anomaly/Normal_Videos_929_x264__3.mp4\n",
      "비디오 저장 완료: UCF_Crimes_10crop/Videos/Testing_Normal_Videos_Anomaly/Normal_Videos_929_x264__8.mp4\n",
      "<class 'list'>\n",
      "<class 'numpy.ndarray'>\n",
      "(120, 160, 3)\n",
      "비디오 저장 완료: UCF_Crimes_10crop/Videos/Testing_Normal_Videos_Anomaly/Normal_Videos_929_x264__4.mp4\n",
      "비디오 저장 완료: UCF_Crimes_10crop/Videos/Testing_Normal_Videos_Anomaly/Normal_Videos_929_x264__9.mp4\n"
     ]
    },
    {
     "name": "stderr",
     "output_type": "stream",
     "text": [
      "OpenCV: FFMPEG: tag 0x44495658/'XVID' is not supported with codec id 12 and format 'mp4 / MP4 (MPEG-4 Part 14)'\n",
      "OpenCV: FFMPEG: fallback to use tag 0x7634706d/'mp4v'\n",
      "OpenCV: FFMPEG: tag 0x44495658/'XVID' is not supported with codec id 12 and format 'mp4 / MP4 (MPEG-4 Part 14)'\n",
      "OpenCV: FFMPEG: fallback to use tag 0x7634706d/'mp4v'\n"
     ]
    },
    {
     "name": "stdout",
     "output_type": "stream",
     "text": [
      "320   240\n",
      "FPS: 30.0\n",
      "<class 'list'>\n",
      "<class 'numpy.ndarray'>\n",
      "(120, 160, 3)\n"
     ]
    },
    {
     "name": "stderr",
     "output_type": "stream",
     "text": [
      "OpenCV: FFMPEG: tag 0x44495658/'XVID' is not supported with codec id 12 and format 'mp4 / MP4 (MPEG-4 Part 14)'\n",
      "OpenCV: FFMPEG: fallback to use tag 0x7634706d/'mp4v'\n",
      "OpenCV: FFMPEG: tag 0x44495658/'XVID' is not supported with codec id 12 and format 'mp4 / MP4 (MPEG-4 Part 14)'\n",
      "OpenCV: FFMPEG: fallback to use tag 0x7634706d/'mp4v'\n"
     ]
    },
    {
     "name": "stdout",
     "output_type": "stream",
     "text": [
      "비디오 저장 완료: UCF_Crimes_10crop/Videos/Testing_Normal_Videos_Anomaly/Normal_Videos_033_x264__0.mp4\n",
      "비디오 저장 완료: UCF_Crimes_10crop/Videos/Testing_Normal_Videos_Anomaly/Normal_Videos_033_x264__5.mp4\n",
      "<class 'list'>\n",
      "<class 'numpy.ndarray'>\n",
      "(120, 160, 3)\n"
     ]
    },
    {
     "name": "stderr",
     "output_type": "stream",
     "text": [
      "OpenCV: FFMPEG: tag 0x44495658/'XVID' is not supported with codec id 12 and format 'mp4 / MP4 (MPEG-4 Part 14)'\n",
      "OpenCV: FFMPEG: fallback to use tag 0x7634706d/'mp4v'\n",
      "OpenCV: FFMPEG: tag 0x44495658/'XVID' is not supported with codec id 12 and format 'mp4 / MP4 (MPEG-4 Part 14)'\n",
      "OpenCV: FFMPEG: fallback to use tag 0x7634706d/'mp4v'\n"
     ]
    },
    {
     "name": "stdout",
     "output_type": "stream",
     "text": [
      "비디오 저장 완료: UCF_Crimes_10crop/Videos/Testing_Normal_Videos_Anomaly/Normal_Videos_033_x264__1.mp4\n",
      "비디오 저장 완료: UCF_Crimes_10crop/Videos/Testing_Normal_Videos_Anomaly/Normal_Videos_033_x264__6.mp4\n",
      "<class 'list'>\n",
      "<class 'numpy.ndarray'>\n",
      "(120, 160, 3)\n"
     ]
    },
    {
     "name": "stderr",
     "output_type": "stream",
     "text": [
      "OpenCV: FFMPEG: tag 0x44495658/'XVID' is not supported with codec id 12 and format 'mp4 / MP4 (MPEG-4 Part 14)'\n",
      "OpenCV: FFMPEG: fallback to use tag 0x7634706d/'mp4v'\n",
      "OpenCV: FFMPEG: tag 0x44495658/'XVID' is not supported with codec id 12 and format 'mp4 / MP4 (MPEG-4 Part 14)'\n",
      "OpenCV: FFMPEG: fallback to use tag 0x7634706d/'mp4v'\n"
     ]
    },
    {
     "name": "stdout",
     "output_type": "stream",
     "text": [
      "비디오 저장 완료: UCF_Crimes_10crop/Videos/Testing_Normal_Videos_Anomaly/Normal_Videos_033_x264__2.mp4\n",
      "비디오 저장 완료: UCF_Crimes_10crop/Videos/Testing_Normal_Videos_Anomaly/Normal_Videos_033_x264__7.mp4\n",
      "<class 'list'>\n",
      "<class 'numpy.ndarray'>\n",
      "(120, 160, 3)\n"
     ]
    },
    {
     "name": "stderr",
     "output_type": "stream",
     "text": [
      "OpenCV: FFMPEG: tag 0x44495658/'XVID' is not supported with codec id 12 and format 'mp4 / MP4 (MPEG-4 Part 14)'\n",
      "OpenCV: FFMPEG: fallback to use tag 0x7634706d/'mp4v'\n",
      "OpenCV: FFMPEG: tag 0x44495658/'XVID' is not supported with codec id 12 and format 'mp4 / MP4 (MPEG-4 Part 14)'\n",
      "OpenCV: FFMPEG: fallback to use tag 0x7634706d/'mp4v'\n"
     ]
    },
    {
     "name": "stdout",
     "output_type": "stream",
     "text": [
      "비디오 저장 완료: UCF_Crimes_10crop/Videos/Testing_Normal_Videos_Anomaly/Normal_Videos_033_x264__3.mp4\n",
      "비디오 저장 완료: UCF_Crimes_10crop/Videos/Testing_Normal_Videos_Anomaly/Normal_Videos_033_x264__8.mp4\n",
      "<class 'list'>\n",
      "<class 'numpy.ndarray'>\n",
      "(120, 160, 3)\n"
     ]
    },
    {
     "name": "stderr",
     "output_type": "stream",
     "text": [
      "OpenCV: FFMPEG: tag 0x44495658/'XVID' is not supported with codec id 12 and format 'mp4 / MP4 (MPEG-4 Part 14)'\n",
      "OpenCV: FFMPEG: fallback to use tag 0x7634706d/'mp4v'\n",
      "OpenCV: FFMPEG: tag 0x44495658/'XVID' is not supported with codec id 12 and format 'mp4 / MP4 (MPEG-4 Part 14)'\n",
      "OpenCV: FFMPEG: fallback to use tag 0x7634706d/'mp4v'\n"
     ]
    },
    {
     "name": "stdout",
     "output_type": "stream",
     "text": [
      "비디오 저장 완료: UCF_Crimes_10crop/Videos/Testing_Normal_Videos_Anomaly/Normal_Videos_033_x264__4.mp4\n",
      "비디오 저장 완료: UCF_Crimes_10crop/Videos/Testing_Normal_Videos_Anomaly/Normal_Videos_033_x264__9.mp4\n",
      "320   240\n",
      "FPS: 30.0\n",
      "<class 'list'>\n",
      "<class 'numpy.ndarray'>\n",
      "(120, 160, 3)\n",
      "비디오 저장 완료: UCF_Crimes_10crop/Videos/Testing_Normal_Videos_Anomaly/Normal_Videos_889_x264__0.mp4\n",
      "비디오 저장 완료: UCF_Crimes_10crop/Videos/Testing_Normal_Videos_Anomaly/Normal_Videos_889_x264__5.mp4\n",
      "<class 'list'>\n",
      "<class 'numpy.ndarray'>\n",
      "(120, 160, 3)\n",
      "비디오 저장 완료: UCF_Crimes_10crop/Videos/Testing_Normal_Videos_Anomaly/Normal_Videos_889_x264__1.mp4\n",
      "비디오 저장 완료: UCF_Crimes_10crop/Videos/Testing_Normal_Videos_Anomaly/Normal_Videos_889_x264__6.mp4\n",
      "<class 'list'>\n",
      "<class 'numpy.ndarray'>\n",
      "(120, 160, 3)\n",
      "비디오 저장 완료: UCF_Crimes_10crop/Videos/Testing_Normal_Videos_Anomaly/Normal_Videos_889_x264__2.mp4\n",
      "비디오 저장 완료: UCF_Crimes_10crop/Videos/Testing_Normal_Videos_Anomaly/Normal_Videos_889_x264__7.mp4\n",
      "<class 'list'>\n",
      "<class 'numpy.ndarray'>\n",
      "(120, 160, 3)\n"
     ]
    },
    {
     "name": "stderr",
     "output_type": "stream",
     "text": [
      "OpenCV: FFMPEG: tag 0x44495658/'XVID' is not supported with codec id 12 and format 'mp4 / MP4 (MPEG-4 Part 14)'\n",
      "OpenCV: FFMPEG: fallback to use tag 0x7634706d/'mp4v'\n",
      "OpenCV: FFMPEG: tag 0x44495658/'XVID' is not supported with codec id 12 and format 'mp4 / MP4 (MPEG-4 Part 14)'\n",
      "OpenCV: FFMPEG: fallback to use tag 0x7634706d/'mp4v'\n",
      "OpenCV: FFMPEG: tag 0x44495658/'XVID' is not supported with codec id 12 and format 'mp4 / MP4 (MPEG-4 Part 14)'\n",
      "OpenCV: FFMPEG: fallback to use tag 0x7634706d/'mp4v'\n",
      "OpenCV: FFMPEG: tag 0x44495658/'XVID' is not supported with codec id 12 and format 'mp4 / MP4 (MPEG-4 Part 14)'\n",
      "OpenCV: FFMPEG: fallback to use tag 0x7634706d/'mp4v'\n",
      "OpenCV: FFMPEG: tag 0x44495658/'XVID' is not supported with codec id 12 and format 'mp4 / MP4 (MPEG-4 Part 14)'\n",
      "OpenCV: FFMPEG: fallback to use tag 0x7634706d/'mp4v'\n",
      "OpenCV: FFMPEG: tag 0x44495658/'XVID' is not supported with codec id 12 and format 'mp4 / MP4 (MPEG-4 Part 14)'\n",
      "OpenCV: FFMPEG: fallback to use tag 0x7634706d/'mp4v'\n",
      "OpenCV: FFMPEG: tag 0x44495658/'XVID' is not supported with codec id 12 and format 'mp4 / MP4 (MPEG-4 Part 14)'\n",
      "OpenCV: FFMPEG: fallback to use tag 0x7634706d/'mp4v'\n",
      "OpenCV: FFMPEG: tag 0x44495658/'XVID' is not supported with codec id 12 and format 'mp4 / MP4 (MPEG-4 Part 14)'\n",
      "OpenCV: FFMPEG: fallback to use tag 0x7634706d/'mp4v'\n"
     ]
    },
    {
     "name": "stdout",
     "output_type": "stream",
     "text": [
      "비디오 저장 완료: UCF_Crimes_10crop/Videos/Testing_Normal_Videos_Anomaly/Normal_Videos_889_x264__3.mp4\n",
      "비디오 저장 완료: UCF_Crimes_10crop/Videos/Testing_Normal_Videos_Anomaly/Normal_Videos_889_x264__8.mp4\n",
      "<class 'list'>\n",
      "<class 'numpy.ndarray'>\n",
      "(120, 160, 3)\n",
      "비디오 저장 완료: UCF_Crimes_10crop/Videos/Testing_Normal_Videos_Anomaly/Normal_Videos_889_x264__4.mp4\n",
      "비디오 저장 완료: UCF_Crimes_10crop/Videos/Testing_Normal_Videos_Anomaly/Normal_Videos_889_x264__9.mp4\n"
     ]
    },
    {
     "name": "stderr",
     "output_type": "stream",
     "text": [
      "OpenCV: FFMPEG: tag 0x44495658/'XVID' is not supported with codec id 12 and format 'mp4 / MP4 (MPEG-4 Part 14)'\n",
      "OpenCV: FFMPEG: fallback to use tag 0x7634706d/'mp4v'\n",
      "OpenCV: FFMPEG: tag 0x44495658/'XVID' is not supported with codec id 12 and format 'mp4 / MP4 (MPEG-4 Part 14)'\n",
      "OpenCV: FFMPEG: fallback to use tag 0x7634706d/'mp4v'\n"
     ]
    },
    {
     "name": "stdout",
     "output_type": "stream",
     "text": [
      "320   240\n",
      "FPS: 30.0\n",
      "<class 'list'>\n",
      "<class 'numpy.ndarray'>\n",
      "(120, 160, 3)\n"
     ]
    },
    {
     "name": "stderr",
     "output_type": "stream",
     "text": [
      "OpenCV: FFMPEG: tag 0x44495658/'XVID' is not supported with codec id 12 and format 'mp4 / MP4 (MPEG-4 Part 14)'\n",
      "OpenCV: FFMPEG: fallback to use tag 0x7634706d/'mp4v'\n",
      "OpenCV: FFMPEG: tag 0x44495658/'XVID' is not supported with codec id 12 and format 'mp4 / MP4 (MPEG-4 Part 14)'\n",
      "OpenCV: FFMPEG: fallback to use tag 0x7634706d/'mp4v'\n"
     ]
    },
    {
     "name": "stdout",
     "output_type": "stream",
     "text": [
      "비디오 저장 완료: UCF_Crimes_10crop/Videos/Testing_Normal_Videos_Anomaly/Normal_Videos_056_x264__0.mp4\n",
      "비디오 저장 완료: UCF_Crimes_10crop/Videos/Testing_Normal_Videos_Anomaly/Normal_Videos_056_x264__5.mp4\n",
      "<class 'list'>\n",
      "<class 'numpy.ndarray'>\n",
      "(120, 160, 3)\n"
     ]
    },
    {
     "name": "stderr",
     "output_type": "stream",
     "text": [
      "OpenCV: FFMPEG: tag 0x44495658/'XVID' is not supported with codec id 12 and format 'mp4 / MP4 (MPEG-4 Part 14)'\n",
      "OpenCV: FFMPEG: fallback to use tag 0x7634706d/'mp4v'\n",
      "OpenCV: FFMPEG: tag 0x44495658/'XVID' is not supported with codec id 12 and format 'mp4 / MP4 (MPEG-4 Part 14)'\n",
      "OpenCV: FFMPEG: fallback to use tag 0x7634706d/'mp4v'\n"
     ]
    },
    {
     "name": "stdout",
     "output_type": "stream",
     "text": [
      "비디오 저장 완료: UCF_Crimes_10crop/Videos/Testing_Normal_Videos_Anomaly/Normal_Videos_056_x264__1.mp4\n",
      "비디오 저장 완료: UCF_Crimes_10crop/Videos/Testing_Normal_Videos_Anomaly/Normal_Videos_056_x264__6.mp4\n",
      "<class 'list'>\n",
      "<class 'numpy.ndarray'>\n",
      "(120, 160, 3)\n"
     ]
    },
    {
     "name": "stderr",
     "output_type": "stream",
     "text": [
      "OpenCV: FFMPEG: tag 0x44495658/'XVID' is not supported with codec id 12 and format 'mp4 / MP4 (MPEG-4 Part 14)'\n",
      "OpenCV: FFMPEG: fallback to use tag 0x7634706d/'mp4v'\n",
      "OpenCV: FFMPEG: tag 0x44495658/'XVID' is not supported with codec id 12 and format 'mp4 / MP4 (MPEG-4 Part 14)'\n",
      "OpenCV: FFMPEG: fallback to use tag 0x7634706d/'mp4v'\n"
     ]
    },
    {
     "name": "stdout",
     "output_type": "stream",
     "text": [
      "비디오 저장 완료: UCF_Crimes_10crop/Videos/Testing_Normal_Videos_Anomaly/Normal_Videos_056_x264__2.mp4\n",
      "비디오 저장 완료: UCF_Crimes_10crop/Videos/Testing_Normal_Videos_Anomaly/Normal_Videos_056_x264__7.mp4\n",
      "<class 'list'>\n",
      "<class 'numpy.ndarray'>\n",
      "(120, 160, 3)\n"
     ]
    },
    {
     "name": "stderr",
     "output_type": "stream",
     "text": [
      "OpenCV: FFMPEG: tag 0x44495658/'XVID' is not supported with codec id 12 and format 'mp4 / MP4 (MPEG-4 Part 14)'\n",
      "OpenCV: FFMPEG: fallback to use tag 0x7634706d/'mp4v'\n",
      "OpenCV: FFMPEG: tag 0x44495658/'XVID' is not supported with codec id 12 and format 'mp4 / MP4 (MPEG-4 Part 14)'\n",
      "OpenCV: FFMPEG: fallback to use tag 0x7634706d/'mp4v'\n"
     ]
    },
    {
     "name": "stdout",
     "output_type": "stream",
     "text": [
      "비디오 저장 완료: UCF_Crimes_10crop/Videos/Testing_Normal_Videos_Anomaly/Normal_Videos_056_x264__3.mp4\n",
      "비디오 저장 완료: UCF_Crimes_10crop/Videos/Testing_Normal_Videos_Anomaly/Normal_Videos_056_x264__8.mp4\n",
      "<class 'list'>\n",
      "<class 'numpy.ndarray'>\n",
      "(120, 160, 3)\n"
     ]
    },
    {
     "name": "stderr",
     "output_type": "stream",
     "text": [
      "OpenCV: FFMPEG: tag 0x44495658/'XVID' is not supported with codec id 12 and format 'mp4 / MP4 (MPEG-4 Part 14)'\n",
      "OpenCV: FFMPEG: fallback to use tag 0x7634706d/'mp4v'\n",
      "OpenCV: FFMPEG: tag 0x44495658/'XVID' is not supported with codec id 12 and format 'mp4 / MP4 (MPEG-4 Part 14)'\n",
      "OpenCV: FFMPEG: fallback to use tag 0x7634706d/'mp4v'\n"
     ]
    },
    {
     "name": "stdout",
     "output_type": "stream",
     "text": [
      "비디오 저장 완료: UCF_Crimes_10crop/Videos/Testing_Normal_Videos_Anomaly/Normal_Videos_056_x264__4.mp4\n",
      "비디오 저장 완료: UCF_Crimes_10crop/Videos/Testing_Normal_Videos_Anomaly/Normal_Videos_056_x264__9.mp4\n",
      "320   240\n",
      "FPS: 30.0\n",
      "<class 'list'>\n",
      "<class 'numpy.ndarray'>\n",
      "(120, 160, 3)\n"
     ]
    },
    {
     "name": "stderr",
     "output_type": "stream",
     "text": [
      "OpenCV: FFMPEG: tag 0x44495658/'XVID' is not supported with codec id 12 and format 'mp4 / MP4 (MPEG-4 Part 14)'\n",
      "OpenCV: FFMPEG: fallback to use tag 0x7634706d/'mp4v'\n",
      "OpenCV: FFMPEG: tag 0x44495658/'XVID' is not supported with codec id 12 and format 'mp4 / MP4 (MPEG-4 Part 14)'\n",
      "OpenCV: FFMPEG: fallback to use tag 0x7634706d/'mp4v'\n"
     ]
    },
    {
     "name": "stdout",
     "output_type": "stream",
     "text": [
      "비디오 저장 완료: UCF_Crimes_10crop/Videos/Testing_Normal_Videos_Anomaly/Normal_Videos_217_x264__0.mp4\n",
      "비디오 저장 완료: UCF_Crimes_10crop/Videos/Testing_Normal_Videos_Anomaly/Normal_Videos_217_x264__5.mp4\n",
      "<class 'list'>\n",
      "<class 'numpy.ndarray'>\n",
      "(120, 160, 3)\n"
     ]
    },
    {
     "name": "stderr",
     "output_type": "stream",
     "text": [
      "OpenCV: FFMPEG: tag 0x44495658/'XVID' is not supported with codec id 12 and format 'mp4 / MP4 (MPEG-4 Part 14)'\n",
      "OpenCV: FFMPEG: fallback to use tag 0x7634706d/'mp4v'\n",
      "OpenCV: FFMPEG: tag 0x44495658/'XVID' is not supported with codec id 12 and format 'mp4 / MP4 (MPEG-4 Part 14)'\n",
      "OpenCV: FFMPEG: fallback to use tag 0x7634706d/'mp4v'\n"
     ]
    },
    {
     "name": "stdout",
     "output_type": "stream",
     "text": [
      "비디오 저장 완료: UCF_Crimes_10crop/Videos/Testing_Normal_Videos_Anomaly/Normal_Videos_217_x264__1.mp4\n",
      "비디오 저장 완료: UCF_Crimes_10crop/Videos/Testing_Normal_Videos_Anomaly/Normal_Videos_217_x264__6.mp4\n",
      "<class 'list'>\n",
      "<class 'numpy.ndarray'>\n",
      "(120, 160, 3)\n"
     ]
    },
    {
     "name": "stderr",
     "output_type": "stream",
     "text": [
      "OpenCV: FFMPEG: tag 0x44495658/'XVID' is not supported with codec id 12 and format 'mp4 / MP4 (MPEG-4 Part 14)'\n",
      "OpenCV: FFMPEG: fallback to use tag 0x7634706d/'mp4v'\n",
      "OpenCV: FFMPEG: tag 0x44495658/'XVID' is not supported with codec id 12 and format 'mp4 / MP4 (MPEG-4 Part 14)'\n",
      "OpenCV: FFMPEG: fallback to use tag 0x7634706d/'mp4v'\n"
     ]
    },
    {
     "name": "stdout",
     "output_type": "stream",
     "text": [
      "비디오 저장 완료: UCF_Crimes_10crop/Videos/Testing_Normal_Videos_Anomaly/Normal_Videos_217_x264__2.mp4\n",
      "비디오 저장 완료: UCF_Crimes_10crop/Videos/Testing_Normal_Videos_Anomaly/Normal_Videos_217_x264__7.mp4\n",
      "<class 'list'>\n",
      "<class 'numpy.ndarray'>\n",
      "(120, 160, 3)\n"
     ]
    },
    {
     "name": "stderr",
     "output_type": "stream",
     "text": [
      "OpenCV: FFMPEG: tag 0x44495658/'XVID' is not supported with codec id 12 and format 'mp4 / MP4 (MPEG-4 Part 14)'\n",
      "OpenCV: FFMPEG: fallback to use tag 0x7634706d/'mp4v'\n",
      "OpenCV: FFMPEG: tag 0x44495658/'XVID' is not supported with codec id 12 and format 'mp4 / MP4 (MPEG-4 Part 14)'\n",
      "OpenCV: FFMPEG: fallback to use tag 0x7634706d/'mp4v'\n"
     ]
    },
    {
     "name": "stdout",
     "output_type": "stream",
     "text": [
      "비디오 저장 완료: UCF_Crimes_10crop/Videos/Testing_Normal_Videos_Anomaly/Normal_Videos_217_x264__3.mp4\n",
      "비디오 저장 완료: UCF_Crimes_10crop/Videos/Testing_Normal_Videos_Anomaly/Normal_Videos_217_x264__8.mp4\n",
      "<class 'list'>\n",
      "<class 'numpy.ndarray'>\n",
      "(120, 160, 3)\n"
     ]
    },
    {
     "name": "stderr",
     "output_type": "stream",
     "text": [
      "OpenCV: FFMPEG: tag 0x44495658/'XVID' is not supported with codec id 12 and format 'mp4 / MP4 (MPEG-4 Part 14)'\n",
      "OpenCV: FFMPEG: fallback to use tag 0x7634706d/'mp4v'\n",
      "OpenCV: FFMPEG: tag 0x44495658/'XVID' is not supported with codec id 12 and format 'mp4 / MP4 (MPEG-4 Part 14)'\n",
      "OpenCV: FFMPEG: fallback to use tag 0x7634706d/'mp4v'\n"
     ]
    },
    {
     "name": "stdout",
     "output_type": "stream",
     "text": [
      "비디오 저장 완료: UCF_Crimes_10crop/Videos/Testing_Normal_Videos_Anomaly/Normal_Videos_217_x264__4.mp4\n",
      "비디오 저장 완료: UCF_Crimes_10crop/Videos/Testing_Normal_Videos_Anomaly/Normal_Videos_217_x264__9.mp4\n",
      "320   240\n",
      "FPS: 30.0\n",
      "<class 'list'>\n",
      "<class 'numpy.ndarray'>\n",
      "(120, 160, 3)\n"
     ]
    },
    {
     "name": "stderr",
     "output_type": "stream",
     "text": [
      "OpenCV: FFMPEG: tag 0x44495658/'XVID' is not supported with codec id 12 and format 'mp4 / MP4 (MPEG-4 Part 14)'\n",
      "OpenCV: FFMPEG: fallback to use tag 0x7634706d/'mp4v'\n",
      "OpenCV: FFMPEG: tag 0x44495658/'XVID' is not supported with codec id 12 and format 'mp4 / MP4 (MPEG-4 Part 14)'\n",
      "OpenCV: FFMPEG: fallback to use tag 0x7634706d/'mp4v'\n"
     ]
    },
    {
     "name": "stdout",
     "output_type": "stream",
     "text": [
      "비디오 저장 완료: UCF_Crimes_10crop/Videos/Testing_Normal_Videos_Anomaly/Normal_Videos_247_x264__0.mp4\n",
      "비디오 저장 완료: UCF_Crimes_10crop/Videos/Testing_Normal_Videos_Anomaly/Normal_Videos_247_x264__5.mp4\n",
      "<class 'list'>\n",
      "<class 'numpy.ndarray'>\n",
      "(120, 160, 3)\n"
     ]
    },
    {
     "name": "stderr",
     "output_type": "stream",
     "text": [
      "OpenCV: FFMPEG: tag 0x44495658/'XVID' is not supported with codec id 12 and format 'mp4 / MP4 (MPEG-4 Part 14)'\n",
      "OpenCV: FFMPEG: fallback to use tag 0x7634706d/'mp4v'\n",
      "OpenCV: FFMPEG: tag 0x44495658/'XVID' is not supported with codec id 12 and format 'mp4 / MP4 (MPEG-4 Part 14)'\n",
      "OpenCV: FFMPEG: fallback to use tag 0x7634706d/'mp4v'\n"
     ]
    },
    {
     "name": "stdout",
     "output_type": "stream",
     "text": [
      "비디오 저장 완료: UCF_Crimes_10crop/Videos/Testing_Normal_Videos_Anomaly/Normal_Videos_247_x264__1.mp4\n",
      "비디오 저장 완료: UCF_Crimes_10crop/Videos/Testing_Normal_Videos_Anomaly/Normal_Videos_247_x264__6.mp4\n",
      "<class 'list'>\n",
      "<class 'numpy.ndarray'>\n",
      "(120, 160, 3)\n"
     ]
    },
    {
     "name": "stderr",
     "output_type": "stream",
     "text": [
      "OpenCV: FFMPEG: tag 0x44495658/'XVID' is not supported with codec id 12 and format 'mp4 / MP4 (MPEG-4 Part 14)'\n",
      "OpenCV: FFMPEG: fallback to use tag 0x7634706d/'mp4v'\n",
      "OpenCV: FFMPEG: tag 0x44495658/'XVID' is not supported with codec id 12 and format 'mp4 / MP4 (MPEG-4 Part 14)'\n",
      "OpenCV: FFMPEG: fallback to use tag 0x7634706d/'mp4v'\n"
     ]
    },
    {
     "name": "stdout",
     "output_type": "stream",
     "text": [
      "비디오 저장 완료: UCF_Crimes_10crop/Videos/Testing_Normal_Videos_Anomaly/Normal_Videos_247_x264__2.mp4\n",
      "비디오 저장 완료: UCF_Crimes_10crop/Videos/Testing_Normal_Videos_Anomaly/Normal_Videos_247_x264__7.mp4\n",
      "<class 'list'>\n",
      "<class 'numpy.ndarray'>\n",
      "(120, 160, 3)\n"
     ]
    },
    {
     "name": "stderr",
     "output_type": "stream",
     "text": [
      "OpenCV: FFMPEG: tag 0x44495658/'XVID' is not supported with codec id 12 and format 'mp4 / MP4 (MPEG-4 Part 14)'\n",
      "OpenCV: FFMPEG: fallback to use tag 0x7634706d/'mp4v'\n",
      "OpenCV: FFMPEG: tag 0x44495658/'XVID' is not supported with codec id 12 and format 'mp4 / MP4 (MPEG-4 Part 14)'\n",
      "OpenCV: FFMPEG: fallback to use tag 0x7634706d/'mp4v'\n"
     ]
    },
    {
     "name": "stdout",
     "output_type": "stream",
     "text": [
      "비디오 저장 완료: UCF_Crimes_10crop/Videos/Testing_Normal_Videos_Anomaly/Normal_Videos_247_x264__3.mp4\n",
      "비디오 저장 완료: UCF_Crimes_10crop/Videos/Testing_Normal_Videos_Anomaly/Normal_Videos_247_x264__8.mp4\n",
      "<class 'list'>\n",
      "<class 'numpy.ndarray'>\n",
      "(120, 160, 3)\n"
     ]
    },
    {
     "name": "stderr",
     "output_type": "stream",
     "text": [
      "OpenCV: FFMPEG: tag 0x44495658/'XVID' is not supported with codec id 12 and format 'mp4 / MP4 (MPEG-4 Part 14)'\n",
      "OpenCV: FFMPEG: fallback to use tag 0x7634706d/'mp4v'\n",
      "OpenCV: FFMPEG: tag 0x44495658/'XVID' is not supported with codec id 12 and format 'mp4 / MP4 (MPEG-4 Part 14)'\n",
      "OpenCV: FFMPEG: fallback to use tag 0x7634706d/'mp4v'\n"
     ]
    },
    {
     "name": "stdout",
     "output_type": "stream",
     "text": [
      "비디오 저장 완료: UCF_Crimes_10crop/Videos/Testing_Normal_Videos_Anomaly/Normal_Videos_247_x264__4.mp4\n",
      "비디오 저장 완료: UCF_Crimes_10crop/Videos/Testing_Normal_Videos_Anomaly/Normal_Videos_247_x264__9.mp4\n",
      "320   240\n",
      "FPS: 30.0\n",
      "<class 'list'>\n",
      "<class 'numpy.ndarray'>\n",
      "(120, 160, 3)\n",
      "비디오 저장 완료: UCF_Crimes_10crop/Videos/Testing_Normal_Videos_Anomaly/Normal_Videos_898_x264__0.mp4\n",
      "비디오 저장 완료: UCF_Crimes_10crop/Videos/Testing_Normal_Videos_Anomaly/Normal_Videos_898_x264__5.mp4\n",
      "<class 'list'>\n",
      "<class 'numpy.ndarray'>\n",
      "(120, 160, 3)\n"
     ]
    },
    {
     "name": "stderr",
     "output_type": "stream",
     "text": [
      "OpenCV: FFMPEG: tag 0x44495658/'XVID' is not supported with codec id 12 and format 'mp4 / MP4 (MPEG-4 Part 14)'\n",
      "OpenCV: FFMPEG: fallback to use tag 0x7634706d/'mp4v'\n",
      "OpenCV: FFMPEG: tag 0x44495658/'XVID' is not supported with codec id 12 and format 'mp4 / MP4 (MPEG-4 Part 14)'\n",
      "OpenCV: FFMPEG: fallback to use tag 0x7634706d/'mp4v'\n",
      "OpenCV: FFMPEG: tag 0x44495658/'XVID' is not supported with codec id 12 and format 'mp4 / MP4 (MPEG-4 Part 14)'\n",
      "OpenCV: FFMPEG: fallback to use tag 0x7634706d/'mp4v'\n",
      "OpenCV: FFMPEG: tag 0x44495658/'XVID' is not supported with codec id 12 and format 'mp4 / MP4 (MPEG-4 Part 14)'\n",
      "OpenCV: FFMPEG: fallback to use tag 0x7634706d/'mp4v'\n"
     ]
    },
    {
     "name": "stdout",
     "output_type": "stream",
     "text": [
      "비디오 저장 완료: UCF_Crimes_10crop/Videos/Testing_Normal_Videos_Anomaly/Normal_Videos_898_x264__1.mp4\n",
      "비디오 저장 완료: UCF_Crimes_10crop/Videos/Testing_Normal_Videos_Anomaly/Normal_Videos_898_x264__6.mp4\n",
      "<class 'list'>\n",
      "<class 'numpy.ndarray'>\n",
      "(120, 160, 3)\n",
      "비디오 저장 완료: UCF_Crimes_10crop/Videos/Testing_Normal_Videos_Anomaly/Normal_Videos_898_x264__2.mp4\n",
      "비디오 저장 완료: UCF_Crimes_10crop/Videos/Testing_Normal_Videos_Anomaly/Normal_Videos_898_x264__7.mp4\n",
      "<class 'list'>\n",
      "<class 'numpy.ndarray'>\n",
      "(120, 160, 3)\n"
     ]
    },
    {
     "name": "stderr",
     "output_type": "stream",
     "text": [
      "OpenCV: FFMPEG: tag 0x44495658/'XVID' is not supported with codec id 12 and format 'mp4 / MP4 (MPEG-4 Part 14)'\n",
      "OpenCV: FFMPEG: fallback to use tag 0x7634706d/'mp4v'\n",
      "OpenCV: FFMPEG: tag 0x44495658/'XVID' is not supported with codec id 12 and format 'mp4 / MP4 (MPEG-4 Part 14)'\n",
      "OpenCV: FFMPEG: fallback to use tag 0x7634706d/'mp4v'\n",
      "OpenCV: FFMPEG: tag 0x44495658/'XVID' is not supported with codec id 12 and format 'mp4 / MP4 (MPEG-4 Part 14)'\n",
      "OpenCV: FFMPEG: fallback to use tag 0x7634706d/'mp4v'\n",
      "OpenCV: FFMPEG: tag 0x44495658/'XVID' is not supported with codec id 12 and format 'mp4 / MP4 (MPEG-4 Part 14)'\n",
      "OpenCV: FFMPEG: fallback to use tag 0x7634706d/'mp4v'\n"
     ]
    },
    {
     "name": "stdout",
     "output_type": "stream",
     "text": [
      "비디오 저장 완료: UCF_Crimes_10crop/Videos/Testing_Normal_Videos_Anomaly/Normal_Videos_898_x264__3.mp4\n",
      "비디오 저장 완료: UCF_Crimes_10crop/Videos/Testing_Normal_Videos_Anomaly/Normal_Videos_898_x264__8.mp4\n",
      "<class 'list'>\n",
      "<class 'numpy.ndarray'>\n",
      "(120, 160, 3)\n",
      "비디오 저장 완료: UCF_Crimes_10crop/Videos/Testing_Normal_Videos_Anomaly/Normal_Videos_898_x264__4.mp4\n",
      "비디오 저장 완료: UCF_Crimes_10crop/Videos/Testing_Normal_Videos_Anomaly/Normal_Videos_898_x264__9.mp4\n",
      "320   240\n",
      "FPS: 30.0\n"
     ]
    },
    {
     "name": "stderr",
     "output_type": "stream",
     "text": [
      "OpenCV: FFMPEG: tag 0x44495658/'XVID' is not supported with codec id 12 and format 'mp4 / MP4 (MPEG-4 Part 14)'\n",
      "OpenCV: FFMPEG: fallback to use tag 0x7634706d/'mp4v'\n",
      "OpenCV: FFMPEG: tag 0x44495658/'XVID' is not supported with codec id 12 and format 'mp4 / MP4 (MPEG-4 Part 14)'\n",
      "OpenCV: FFMPEG: fallback to use tag 0x7634706d/'mp4v'\n"
     ]
    },
    {
     "name": "stdout",
     "output_type": "stream",
     "text": [
      "<class 'list'>\n",
      "<class 'numpy.ndarray'>\n",
      "(120, 160, 3)\n"
     ]
    },
    {
     "name": "stderr",
     "output_type": "stream",
     "text": [
      "OpenCV: FFMPEG: tag 0x44495658/'XVID' is not supported with codec id 12 and format 'mp4 / MP4 (MPEG-4 Part 14)'\n",
      "OpenCV: FFMPEG: fallback to use tag 0x7634706d/'mp4v'\n",
      "OpenCV: FFMPEG: tag 0x44495658/'XVID' is not supported with codec id 12 and format 'mp4 / MP4 (MPEG-4 Part 14)'\n",
      "OpenCV: FFMPEG: fallback to use tag 0x7634706d/'mp4v'\n"
     ]
    },
    {
     "name": "stdout",
     "output_type": "stream",
     "text": [
      "비디오 저장 완료: UCF_Crimes_10crop/Videos/Testing_Normal_Videos_Anomaly/Normal_Videos_938_x264__0.mp4\n",
      "비디오 저장 완료: UCF_Crimes_10crop/Videos/Testing_Normal_Videos_Anomaly/Normal_Videos_938_x264__5.mp4\n",
      "<class 'list'>\n",
      "<class 'numpy.ndarray'>\n",
      "(120, 160, 3)\n"
     ]
    },
    {
     "name": "stderr",
     "output_type": "stream",
     "text": [
      "OpenCV: FFMPEG: tag 0x44495658/'XVID' is not supported with codec id 12 and format 'mp4 / MP4 (MPEG-4 Part 14)'\n",
      "OpenCV: FFMPEG: fallback to use tag 0x7634706d/'mp4v'\n",
      "OpenCV: FFMPEG: tag 0x44495658/'XVID' is not supported with codec id 12 and format 'mp4 / MP4 (MPEG-4 Part 14)'\n",
      "OpenCV: FFMPEG: fallback to use tag 0x7634706d/'mp4v'\n"
     ]
    },
    {
     "name": "stdout",
     "output_type": "stream",
     "text": [
      "비디오 저장 완료: UCF_Crimes_10crop/Videos/Testing_Normal_Videos_Anomaly/Normal_Videos_938_x264__1.mp4\n",
      "비디오 저장 완료: UCF_Crimes_10crop/Videos/Testing_Normal_Videos_Anomaly/Normal_Videos_938_x264__6.mp4\n",
      "<class 'list'>\n",
      "<class 'numpy.ndarray'>\n",
      "(120, 160, 3)\n"
     ]
    },
    {
     "name": "stderr",
     "output_type": "stream",
     "text": [
      "OpenCV: FFMPEG: tag 0x44495658/'XVID' is not supported with codec id 12 and format 'mp4 / MP4 (MPEG-4 Part 14)'\n",
      "OpenCV: FFMPEG: fallback to use tag 0x7634706d/'mp4v'\n",
      "OpenCV: FFMPEG: tag 0x44495658/'XVID' is not supported with codec id 12 and format 'mp4 / MP4 (MPEG-4 Part 14)'\n",
      "OpenCV: FFMPEG: fallback to use tag 0x7634706d/'mp4v'\n"
     ]
    },
    {
     "name": "stdout",
     "output_type": "stream",
     "text": [
      "비디오 저장 완료: UCF_Crimes_10crop/Videos/Testing_Normal_Videos_Anomaly/Normal_Videos_938_x264__2.mp4\n",
      "비디오 저장 완료: UCF_Crimes_10crop/Videos/Testing_Normal_Videos_Anomaly/Normal_Videos_938_x264__7.mp4\n",
      "<class 'list'>\n",
      "<class 'numpy.ndarray'>\n",
      "(120, 160, 3)\n"
     ]
    },
    {
     "name": "stderr",
     "output_type": "stream",
     "text": [
      "OpenCV: FFMPEG: tag 0x44495658/'XVID' is not supported with codec id 12 and format 'mp4 / MP4 (MPEG-4 Part 14)'\n",
      "OpenCV: FFMPEG: fallback to use tag 0x7634706d/'mp4v'\n",
      "OpenCV: FFMPEG: tag 0x44495658/'XVID' is not supported with codec id 12 and format 'mp4 / MP4 (MPEG-4 Part 14)'\n",
      "OpenCV: FFMPEG: fallback to use tag 0x7634706d/'mp4v'\n"
     ]
    },
    {
     "name": "stdout",
     "output_type": "stream",
     "text": [
      "비디오 저장 완료: UCF_Crimes_10crop/Videos/Testing_Normal_Videos_Anomaly/Normal_Videos_938_x264__3.mp4\n",
      "비디오 저장 완료: UCF_Crimes_10crop/Videos/Testing_Normal_Videos_Anomaly/Normal_Videos_938_x264__8.mp4\n",
      "<class 'list'>\n",
      "<class 'numpy.ndarray'>\n",
      "(120, 160, 3)\n"
     ]
    },
    {
     "name": "stderr",
     "output_type": "stream",
     "text": [
      "OpenCV: FFMPEG: tag 0x44495658/'XVID' is not supported with codec id 12 and format 'mp4 / MP4 (MPEG-4 Part 14)'\n",
      "OpenCV: FFMPEG: fallback to use tag 0x7634706d/'mp4v'\n",
      "OpenCV: FFMPEG: tag 0x44495658/'XVID' is not supported with codec id 12 and format 'mp4 / MP4 (MPEG-4 Part 14)'\n",
      "OpenCV: FFMPEG: fallback to use tag 0x7634706d/'mp4v'\n"
     ]
    },
    {
     "name": "stdout",
     "output_type": "stream",
     "text": [
      "비디오 저장 완료: UCF_Crimes_10crop/Videos/Testing_Normal_Videos_Anomaly/Normal_Videos_938_x264__4.mp4\n",
      "비디오 저장 완료: UCF_Crimes_10crop/Videos/Testing_Normal_Videos_Anomaly/Normal_Videos_938_x264__9.mp4\n",
      "320   240\n",
      "FPS: 30.0\n",
      "<class 'list'>\n",
      "<class 'numpy.ndarray'>\n",
      "(120, 160, 3)\n"
     ]
    },
    {
     "name": "stderr",
     "output_type": "stream",
     "text": [
      "OpenCV: FFMPEG: tag 0x44495658/'XVID' is not supported with codec id 12 and format 'mp4 / MP4 (MPEG-4 Part 14)'\n",
      "OpenCV: FFMPEG: fallback to use tag 0x7634706d/'mp4v'\n",
      "OpenCV: FFMPEG: tag 0x44495658/'XVID' is not supported with codec id 12 and format 'mp4 / MP4 (MPEG-4 Part 14)'\n",
      "OpenCV: FFMPEG: fallback to use tag 0x7634706d/'mp4v'\n"
     ]
    },
    {
     "name": "stdout",
     "output_type": "stream",
     "text": [
      "비디오 저장 완료: UCF_Crimes_10crop/Videos/Testing_Normal_Videos_Anomaly/Normal_Videos_014_x264__0.mp4\n",
      "비디오 저장 완료: UCF_Crimes_10crop/Videos/Testing_Normal_Videos_Anomaly/Normal_Videos_014_x264__5.mp4\n",
      "<class 'list'>\n",
      "<class 'numpy.ndarray'>\n",
      "(120, 160, 3)\n"
     ]
    },
    {
     "name": "stderr",
     "output_type": "stream",
     "text": [
      "OpenCV: FFMPEG: tag 0x44495658/'XVID' is not supported with codec id 12 and format 'mp4 / MP4 (MPEG-4 Part 14)'\n",
      "OpenCV: FFMPEG: fallback to use tag 0x7634706d/'mp4v'\n",
      "OpenCV: FFMPEG: tag 0x44495658/'XVID' is not supported with codec id 12 and format 'mp4 / MP4 (MPEG-4 Part 14)'\n",
      "OpenCV: FFMPEG: fallback to use tag 0x7634706d/'mp4v'\n"
     ]
    },
    {
     "name": "stdout",
     "output_type": "stream",
     "text": [
      "비디오 저장 완료: UCF_Crimes_10crop/Videos/Testing_Normal_Videos_Anomaly/Normal_Videos_014_x264__1.mp4\n",
      "비디오 저장 완료: UCF_Crimes_10crop/Videos/Testing_Normal_Videos_Anomaly/Normal_Videos_014_x264__6.mp4\n",
      "<class 'list'>\n",
      "<class 'numpy.ndarray'>\n",
      "(120, 160, 3)\n"
     ]
    },
    {
     "name": "stderr",
     "output_type": "stream",
     "text": [
      "OpenCV: FFMPEG: tag 0x44495658/'XVID' is not supported with codec id 12 and format 'mp4 / MP4 (MPEG-4 Part 14)'\n",
      "OpenCV: FFMPEG: fallback to use tag 0x7634706d/'mp4v'\n",
      "OpenCV: FFMPEG: tag 0x44495658/'XVID' is not supported with codec id 12 and format 'mp4 / MP4 (MPEG-4 Part 14)'\n",
      "OpenCV: FFMPEG: fallback to use tag 0x7634706d/'mp4v'\n"
     ]
    },
    {
     "name": "stdout",
     "output_type": "stream",
     "text": [
      "비디오 저장 완료: UCF_Crimes_10crop/Videos/Testing_Normal_Videos_Anomaly/Normal_Videos_014_x264__2.mp4\n",
      "비디오 저장 완료: UCF_Crimes_10crop/Videos/Testing_Normal_Videos_Anomaly/Normal_Videos_014_x264__7.mp4\n",
      "<class 'list'>\n",
      "<class 'numpy.ndarray'>\n",
      "(120, 160, 3)\n"
     ]
    },
    {
     "name": "stderr",
     "output_type": "stream",
     "text": [
      "OpenCV: FFMPEG: tag 0x44495658/'XVID' is not supported with codec id 12 and format 'mp4 / MP4 (MPEG-4 Part 14)'\n",
      "OpenCV: FFMPEG: fallback to use tag 0x7634706d/'mp4v'\n",
      "OpenCV: FFMPEG: tag 0x44495658/'XVID' is not supported with codec id 12 and format 'mp4 / MP4 (MPEG-4 Part 14)'\n",
      "OpenCV: FFMPEG: fallback to use tag 0x7634706d/'mp4v'\n"
     ]
    },
    {
     "name": "stdout",
     "output_type": "stream",
     "text": [
      "비디오 저장 완료: UCF_Crimes_10crop/Videos/Testing_Normal_Videos_Anomaly/Normal_Videos_014_x264__3.mp4\n",
      "비디오 저장 완료: UCF_Crimes_10crop/Videos/Testing_Normal_Videos_Anomaly/Normal_Videos_014_x264__8.mp4\n",
      "<class 'list'>\n",
      "<class 'numpy.ndarray'>\n",
      "(120, 160, 3)\n"
     ]
    },
    {
     "name": "stderr",
     "output_type": "stream",
     "text": [
      "OpenCV: FFMPEG: tag 0x44495658/'XVID' is not supported with codec id 12 and format 'mp4 / MP4 (MPEG-4 Part 14)'\n",
      "OpenCV: FFMPEG: fallback to use tag 0x7634706d/'mp4v'\n",
      "OpenCV: FFMPEG: tag 0x44495658/'XVID' is not supported with codec id 12 and format 'mp4 / MP4 (MPEG-4 Part 14)'\n",
      "OpenCV: FFMPEG: fallback to use tag 0x7634706d/'mp4v'\n"
     ]
    },
    {
     "name": "stdout",
     "output_type": "stream",
     "text": [
      "비디오 저장 완료: UCF_Crimes_10crop/Videos/Testing_Normal_Videos_Anomaly/Normal_Videos_014_x264__4.mp4\n",
      "비디오 저장 완료: UCF_Crimes_10crop/Videos/Testing_Normal_Videos_Anomaly/Normal_Videos_014_x264__9.mp4\n",
      "320   240\n",
      "FPS: 30.0\n",
      "<class 'list'>\n",
      "<class 'numpy.ndarray'>\n",
      "(120, 160, 3)\n",
      "비디오 저장 완료: UCF_Crimes_10crop/Videos/Testing_Normal_Videos_Anomaly/Normal_Videos_910_x264__0.mp4\n",
      "비디오 저장 완료: UCF_Crimes_10crop/Videos/Testing_Normal_Videos_Anomaly/Normal_Videos_910_x264__5.mp4\n",
      "<class 'list'>\n",
      "<class 'numpy.ndarray'>\n",
      "(120, 160, 3)\n"
     ]
    },
    {
     "name": "stderr",
     "output_type": "stream",
     "text": [
      "OpenCV: FFMPEG: tag 0x44495658/'XVID' is not supported with codec id 12 and format 'mp4 / MP4 (MPEG-4 Part 14)'\n",
      "OpenCV: FFMPEG: fallback to use tag 0x7634706d/'mp4v'\n",
      "OpenCV: FFMPEG: tag 0x44495658/'XVID' is not supported with codec id 12 and format 'mp4 / MP4 (MPEG-4 Part 14)'\n",
      "OpenCV: FFMPEG: fallback to use tag 0x7634706d/'mp4v'\n",
      "OpenCV: FFMPEG: tag 0x44495658/'XVID' is not supported with codec id 12 and format 'mp4 / MP4 (MPEG-4 Part 14)'\n",
      "OpenCV: FFMPEG: fallback to use tag 0x7634706d/'mp4v'\n",
      "OpenCV: FFMPEG: tag 0x44495658/'XVID' is not supported with codec id 12 and format 'mp4 / MP4 (MPEG-4 Part 14)'\n",
      "OpenCV: FFMPEG: fallback to use tag 0x7634706d/'mp4v'\n"
     ]
    },
    {
     "name": "stdout",
     "output_type": "stream",
     "text": [
      "비디오 저장 완료: UCF_Crimes_10crop/Videos/Testing_Normal_Videos_Anomaly/Normal_Videos_910_x264__1.mp4\n",
      "비디오 저장 완료: UCF_Crimes_10crop/Videos/Testing_Normal_Videos_Anomaly/Normal_Videos_910_x264__6.mp4\n",
      "<class 'list'>\n",
      "<class 'numpy.ndarray'>\n",
      "(120, 160, 3)\n",
      "비디오 저장 완료: UCF_Crimes_10crop/Videos/Testing_Normal_Videos_Anomaly/Normal_Videos_910_x264__2.mp4\n",
      "비디오 저장 완료: UCF_Crimes_10crop/Videos/Testing_Normal_Videos_Anomaly/Normal_Videos_910_x264__7.mp4\n",
      "<class 'list'>\n",
      "<class 'numpy.ndarray'>\n",
      "(120, 160, 3)\n"
     ]
    },
    {
     "name": "stderr",
     "output_type": "stream",
     "text": [
      "OpenCV: FFMPEG: tag 0x44495658/'XVID' is not supported with codec id 12 and format 'mp4 / MP4 (MPEG-4 Part 14)'\n",
      "OpenCV: FFMPEG: fallback to use tag 0x7634706d/'mp4v'\n",
      "OpenCV: FFMPEG: tag 0x44495658/'XVID' is not supported with codec id 12 and format 'mp4 / MP4 (MPEG-4 Part 14)'\n",
      "OpenCV: FFMPEG: fallback to use tag 0x7634706d/'mp4v'\n",
      "OpenCV: FFMPEG: tag 0x44495658/'XVID' is not supported with codec id 12 and format 'mp4 / MP4 (MPEG-4 Part 14)'\n",
      "OpenCV: FFMPEG: fallback to use tag 0x7634706d/'mp4v'\n",
      "OpenCV: FFMPEG: tag 0x44495658/'XVID' is not supported with codec id 12 and format 'mp4 / MP4 (MPEG-4 Part 14)'\n",
      "OpenCV: FFMPEG: fallback to use tag 0x7634706d/'mp4v'\n"
     ]
    },
    {
     "name": "stdout",
     "output_type": "stream",
     "text": [
      "비디오 저장 완료: UCF_Crimes_10crop/Videos/Testing_Normal_Videos_Anomaly/Normal_Videos_910_x264__3.mp4\n",
      "비디오 저장 완료: UCF_Crimes_10crop/Videos/Testing_Normal_Videos_Anomaly/Normal_Videos_910_x264__8.mp4\n",
      "<class 'list'>\n",
      "<class 'numpy.ndarray'>\n",
      "(120, 160, 3)\n",
      "비디오 저장 완료: UCF_Crimes_10crop/Videos/Testing_Normal_Videos_Anomaly/Normal_Videos_910_x264__4.mp4\n",
      "비디오 저장 완료: UCF_Crimes_10crop/Videos/Testing_Normal_Videos_Anomaly/Normal_Videos_910_x264__9.mp4\n"
     ]
    },
    {
     "name": "stderr",
     "output_type": "stream",
     "text": [
      "OpenCV: FFMPEG: tag 0x44495658/'XVID' is not supported with codec id 12 and format 'mp4 / MP4 (MPEG-4 Part 14)'\n",
      "OpenCV: FFMPEG: fallback to use tag 0x7634706d/'mp4v'\n",
      "OpenCV: FFMPEG: tag 0x44495658/'XVID' is not supported with codec id 12 and format 'mp4 / MP4 (MPEG-4 Part 14)'\n",
      "OpenCV: FFMPEG: fallback to use tag 0x7634706d/'mp4v'\n"
     ]
    },
    {
     "name": "stdout",
     "output_type": "stream",
     "text": [
      "320   240\n",
      "FPS: 30.0\n",
      "<class 'list'>\n",
      "<class 'numpy.ndarray'>\n",
      "(120, 160, 3)\n"
     ]
    },
    {
     "name": "stderr",
     "output_type": "stream",
     "text": [
      "OpenCV: FFMPEG: tag 0x44495658/'XVID' is not supported with codec id 12 and format 'mp4 / MP4 (MPEG-4 Part 14)'\n",
      "OpenCV: FFMPEG: fallback to use tag 0x7634706d/'mp4v'\n",
      "OpenCV: FFMPEG: tag 0x44495658/'XVID' is not supported with codec id 12 and format 'mp4 / MP4 (MPEG-4 Part 14)'\n",
      "OpenCV: FFMPEG: fallback to use tag 0x7634706d/'mp4v'\n"
     ]
    },
    {
     "name": "stdout",
     "output_type": "stream",
     "text": [
      "비디오 저장 완료: UCF_Crimes_10crop/Videos/Testing_Normal_Videos_Anomaly/Normal_Videos_168_x264__0.mp4\n",
      "비디오 저장 완료: UCF_Crimes_10crop/Videos/Testing_Normal_Videos_Anomaly/Normal_Videos_168_x264__5.mp4\n",
      "<class 'list'>\n",
      "<class 'numpy.ndarray'>\n",
      "(120, 160, 3)\n"
     ]
    },
    {
     "name": "stderr",
     "output_type": "stream",
     "text": [
      "OpenCV: FFMPEG: tag 0x44495658/'XVID' is not supported with codec id 12 and format 'mp4 / MP4 (MPEG-4 Part 14)'\n",
      "OpenCV: FFMPEG: fallback to use tag 0x7634706d/'mp4v'\n",
      "OpenCV: FFMPEG: tag 0x44495658/'XVID' is not supported with codec id 12 and format 'mp4 / MP4 (MPEG-4 Part 14)'\n",
      "OpenCV: FFMPEG: fallback to use tag 0x7634706d/'mp4v'\n"
     ]
    },
    {
     "name": "stdout",
     "output_type": "stream",
     "text": [
      "비디오 저장 완료: UCF_Crimes_10crop/Videos/Testing_Normal_Videos_Anomaly/Normal_Videos_168_x264__1.mp4\n",
      "비디오 저장 완료: UCF_Crimes_10crop/Videos/Testing_Normal_Videos_Anomaly/Normal_Videos_168_x264__6.mp4\n",
      "<class 'list'>\n",
      "<class 'numpy.ndarray'>\n",
      "(120, 160, 3)\n"
     ]
    },
    {
     "name": "stderr",
     "output_type": "stream",
     "text": [
      "OpenCV: FFMPEG: tag 0x44495658/'XVID' is not supported with codec id 12 and format 'mp4 / MP4 (MPEG-4 Part 14)'\n",
      "OpenCV: FFMPEG: fallback to use tag 0x7634706d/'mp4v'\n",
      "OpenCV: FFMPEG: tag 0x44495658/'XVID' is not supported with codec id 12 and format 'mp4 / MP4 (MPEG-4 Part 14)'\n",
      "OpenCV: FFMPEG: fallback to use tag 0x7634706d/'mp4v'\n"
     ]
    },
    {
     "name": "stdout",
     "output_type": "stream",
     "text": [
      "비디오 저장 완료: UCF_Crimes_10crop/Videos/Testing_Normal_Videos_Anomaly/Normal_Videos_168_x264__2.mp4\n",
      "비디오 저장 완료: UCF_Crimes_10crop/Videos/Testing_Normal_Videos_Anomaly/Normal_Videos_168_x264__7.mp4\n",
      "<class 'list'>\n",
      "<class 'numpy.ndarray'>\n",
      "(120, 160, 3)\n"
     ]
    },
    {
     "name": "stderr",
     "output_type": "stream",
     "text": [
      "OpenCV: FFMPEG: tag 0x44495658/'XVID' is not supported with codec id 12 and format 'mp4 / MP4 (MPEG-4 Part 14)'\n",
      "OpenCV: FFMPEG: fallback to use tag 0x7634706d/'mp4v'\n",
      "OpenCV: FFMPEG: tag 0x44495658/'XVID' is not supported with codec id 12 and format 'mp4 / MP4 (MPEG-4 Part 14)'\n",
      "OpenCV: FFMPEG: fallback to use tag 0x7634706d/'mp4v'\n"
     ]
    },
    {
     "name": "stdout",
     "output_type": "stream",
     "text": [
      "비디오 저장 완료: UCF_Crimes_10crop/Videos/Testing_Normal_Videos_Anomaly/Normal_Videos_168_x264__3.mp4\n",
      "비디오 저장 완료: UCF_Crimes_10crop/Videos/Testing_Normal_Videos_Anomaly/Normal_Videos_168_x264__8.mp4\n",
      "<class 'list'>\n",
      "<class 'numpy.ndarray'>\n",
      "(120, 160, 3)\n"
     ]
    },
    {
     "name": "stderr",
     "output_type": "stream",
     "text": [
      "OpenCV: FFMPEG: tag 0x44495658/'XVID' is not supported with codec id 12 and format 'mp4 / MP4 (MPEG-4 Part 14)'\n",
      "OpenCV: FFMPEG: fallback to use tag 0x7634706d/'mp4v'\n",
      "OpenCV: FFMPEG: tag 0x44495658/'XVID' is not supported with codec id 12 and format 'mp4 / MP4 (MPEG-4 Part 14)'\n",
      "OpenCV: FFMPEG: fallback to use tag 0x7634706d/'mp4v'\n"
     ]
    },
    {
     "name": "stdout",
     "output_type": "stream",
     "text": [
      "비디오 저장 완료: UCF_Crimes_10crop/Videos/Testing_Normal_Videos_Anomaly/Normal_Videos_168_x264__4.mp4\n",
      "비디오 저장 완료: UCF_Crimes_10crop/Videos/Testing_Normal_Videos_Anomaly/Normal_Videos_168_x264__9.mp4\n",
      "320   240\n",
      "FPS: 30.0\n",
      "<class 'list'>\n",
      "<class 'numpy.ndarray'>\n",
      "(120, 160, 3)\n"
     ]
    },
    {
     "name": "stderr",
     "output_type": "stream",
     "text": [
      "OpenCV: FFMPEG: tag 0x44495658/'XVID' is not supported with codec id 12 and format 'mp4 / MP4 (MPEG-4 Part 14)'\n",
      "OpenCV: FFMPEG: fallback to use tag 0x7634706d/'mp4v'\n",
      "OpenCV: FFMPEG: tag 0x44495658/'XVID' is not supported with codec id 12 and format 'mp4 / MP4 (MPEG-4 Part 14)'\n",
      "OpenCV: FFMPEG: fallback to use tag 0x7634706d/'mp4v'\n"
     ]
    },
    {
     "name": "stdout",
     "output_type": "stream",
     "text": [
      "비디오 저장 완료: UCF_Crimes_10crop/Videos/Testing_Normal_Videos_Anomaly/Normal_Videos_042_x264__0.mp4\n",
      "비디오 저장 완료: UCF_Crimes_10crop/Videos/Testing_Normal_Videos_Anomaly/Normal_Videos_042_x264__5.mp4\n",
      "<class 'list'>\n",
      "<class 'numpy.ndarray'>\n",
      "(120, 160, 3)\n"
     ]
    },
    {
     "name": "stderr",
     "output_type": "stream",
     "text": [
      "OpenCV: FFMPEG: tag 0x44495658/'XVID' is not supported with codec id 12 and format 'mp4 / MP4 (MPEG-4 Part 14)'\n",
      "OpenCV: FFMPEG: fallback to use tag 0x7634706d/'mp4v'\n",
      "OpenCV: FFMPEG: tag 0x44495658/'XVID' is not supported with codec id 12 and format 'mp4 / MP4 (MPEG-4 Part 14)'\n",
      "OpenCV: FFMPEG: fallback to use tag 0x7634706d/'mp4v'\n"
     ]
    },
    {
     "name": "stdout",
     "output_type": "stream",
     "text": [
      "비디오 저장 완료: UCF_Crimes_10crop/Videos/Testing_Normal_Videos_Anomaly/Normal_Videos_042_x264__1.mp4\n",
      "비디오 저장 완료: UCF_Crimes_10crop/Videos/Testing_Normal_Videos_Anomaly/Normal_Videos_042_x264__6.mp4\n",
      "<class 'list'>\n",
      "<class 'numpy.ndarray'>\n",
      "(120, 160, 3)\n"
     ]
    },
    {
     "name": "stderr",
     "output_type": "stream",
     "text": [
      "OpenCV: FFMPEG: tag 0x44495658/'XVID' is not supported with codec id 12 and format 'mp4 / MP4 (MPEG-4 Part 14)'\n",
      "OpenCV: FFMPEG: fallback to use tag 0x7634706d/'mp4v'\n",
      "OpenCV: FFMPEG: tag 0x44495658/'XVID' is not supported with codec id 12 and format 'mp4 / MP4 (MPEG-4 Part 14)'\n",
      "OpenCV: FFMPEG: fallback to use tag 0x7634706d/'mp4v'\n"
     ]
    },
    {
     "name": "stdout",
     "output_type": "stream",
     "text": [
      "비디오 저장 완료: UCF_Crimes_10crop/Videos/Testing_Normal_Videos_Anomaly/Normal_Videos_042_x264__2.mp4\n",
      "비디오 저장 완료: UCF_Crimes_10crop/Videos/Testing_Normal_Videos_Anomaly/Normal_Videos_042_x264__7.mp4\n",
      "<class 'list'>\n",
      "<class 'numpy.ndarray'>\n",
      "(120, 160, 3)\n"
     ]
    },
    {
     "name": "stderr",
     "output_type": "stream",
     "text": [
      "OpenCV: FFMPEG: tag 0x44495658/'XVID' is not supported with codec id 12 and format 'mp4 / MP4 (MPEG-4 Part 14)'\n",
      "OpenCV: FFMPEG: fallback to use tag 0x7634706d/'mp4v'\n",
      "OpenCV: FFMPEG: tag 0x44495658/'XVID' is not supported with codec id 12 and format 'mp4 / MP4 (MPEG-4 Part 14)'\n",
      "OpenCV: FFMPEG: fallback to use tag 0x7634706d/'mp4v'\n"
     ]
    },
    {
     "name": "stdout",
     "output_type": "stream",
     "text": [
      "비디오 저장 완료: UCF_Crimes_10crop/Videos/Testing_Normal_Videos_Anomaly/Normal_Videos_042_x264__3.mp4\n",
      "비디오 저장 완료: UCF_Crimes_10crop/Videos/Testing_Normal_Videos_Anomaly/Normal_Videos_042_x264__8.mp4\n",
      "<class 'list'>\n",
      "<class 'numpy.ndarray'>\n",
      "(120, 160, 3)\n"
     ]
    },
    {
     "name": "stderr",
     "output_type": "stream",
     "text": [
      "OpenCV: FFMPEG: tag 0x44495658/'XVID' is not supported with codec id 12 and format 'mp4 / MP4 (MPEG-4 Part 14)'\n",
      "OpenCV: FFMPEG: fallback to use tag 0x7634706d/'mp4v'\n",
      "OpenCV: FFMPEG: tag 0x44495658/'XVID' is not supported with codec id 12 and format 'mp4 / MP4 (MPEG-4 Part 14)'\n",
      "OpenCV: FFMPEG: fallback to use tag 0x7634706d/'mp4v'\n"
     ]
    },
    {
     "name": "stdout",
     "output_type": "stream",
     "text": [
      "비디오 저장 완료: UCF_Crimes_10crop/Videos/Testing_Normal_Videos_Anomaly/Normal_Videos_042_x264__4.mp4\n",
      "비디오 저장 완료: UCF_Crimes_10crop/Videos/Testing_Normal_Videos_Anomaly/Normal_Videos_042_x264__9.mp4\n",
      "320   240\n",
      "FPS: 30.0\n",
      "<class 'list'>\n",
      "<class 'numpy.ndarray'>\n",
      "(120, 160, 3)\n"
     ]
    },
    {
     "name": "stderr",
     "output_type": "stream",
     "text": [
      "OpenCV: FFMPEG: tag 0x44495658/'XVID' is not supported with codec id 12 and format 'mp4 / MP4 (MPEG-4 Part 14)'\n",
      "OpenCV: FFMPEG: fallback to use tag 0x7634706d/'mp4v'\n",
      "OpenCV: FFMPEG: tag 0x44495658/'XVID' is not supported with codec id 12 and format 'mp4 / MP4 (MPEG-4 Part 14)'\n",
      "OpenCV: FFMPEG: fallback to use tag 0x7634706d/'mp4v'\n"
     ]
    },
    {
     "name": "stdout",
     "output_type": "stream",
     "text": [
      "비디오 저장 완료: UCF_Crimes_10crop/Videos/Testing_Normal_Videos_Anomaly/Normal_Videos_717_x264__0.mp4\n",
      "비디오 저장 완료: UCF_Crimes_10crop/Videos/Testing_Normal_Videos_Anomaly/Normal_Videos_717_x264__5.mp4\n",
      "<class 'list'>\n",
      "<class 'numpy.ndarray'>\n",
      "(120, 160, 3)\n"
     ]
    },
    {
     "name": "stderr",
     "output_type": "stream",
     "text": [
      "OpenCV: FFMPEG: tag 0x44495658/'XVID' is not supported with codec id 12 and format 'mp4 / MP4 (MPEG-4 Part 14)'\n",
      "OpenCV: FFMPEG: fallback to use tag 0x7634706d/'mp4v'\n",
      "OpenCV: FFMPEG: tag 0x44495658/'XVID' is not supported with codec id 12 and format 'mp4 / MP4 (MPEG-4 Part 14)'\n",
      "OpenCV: FFMPEG: fallback to use tag 0x7634706d/'mp4v'\n"
     ]
    },
    {
     "name": "stdout",
     "output_type": "stream",
     "text": [
      "비디오 저장 완료: UCF_Crimes_10crop/Videos/Testing_Normal_Videos_Anomaly/Normal_Videos_717_x264__1.mp4\n",
      "비디오 저장 완료: UCF_Crimes_10crop/Videos/Testing_Normal_Videos_Anomaly/Normal_Videos_717_x264__6.mp4\n",
      "<class 'list'>\n",
      "<class 'numpy.ndarray'>\n",
      "(120, 160, 3)\n"
     ]
    },
    {
     "name": "stderr",
     "output_type": "stream",
     "text": [
      "OpenCV: FFMPEG: tag 0x44495658/'XVID' is not supported with codec id 12 and format 'mp4 / MP4 (MPEG-4 Part 14)'\n",
      "OpenCV: FFMPEG: fallback to use tag 0x7634706d/'mp4v'\n",
      "OpenCV: FFMPEG: tag 0x44495658/'XVID' is not supported with codec id 12 and format 'mp4 / MP4 (MPEG-4 Part 14)'\n",
      "OpenCV: FFMPEG: fallback to use tag 0x7634706d/'mp4v'\n"
     ]
    },
    {
     "name": "stdout",
     "output_type": "stream",
     "text": [
      "비디오 저장 완료: UCF_Crimes_10crop/Videos/Testing_Normal_Videos_Anomaly/Normal_Videos_717_x264__2.mp4\n",
      "비디오 저장 완료: UCF_Crimes_10crop/Videos/Testing_Normal_Videos_Anomaly/Normal_Videos_717_x264__7.mp4\n",
      "<class 'list'>\n",
      "<class 'numpy.ndarray'>\n",
      "(120, 160, 3)\n"
     ]
    },
    {
     "name": "stderr",
     "output_type": "stream",
     "text": [
      "OpenCV: FFMPEG: tag 0x44495658/'XVID' is not supported with codec id 12 and format 'mp4 / MP4 (MPEG-4 Part 14)'\n",
      "OpenCV: FFMPEG: fallback to use tag 0x7634706d/'mp4v'\n",
      "OpenCV: FFMPEG: tag 0x44495658/'XVID' is not supported with codec id 12 and format 'mp4 / MP4 (MPEG-4 Part 14)'\n",
      "OpenCV: FFMPEG: fallback to use tag 0x7634706d/'mp4v'\n"
     ]
    },
    {
     "name": "stdout",
     "output_type": "stream",
     "text": [
      "비디오 저장 완료: UCF_Crimes_10crop/Videos/Testing_Normal_Videos_Anomaly/Normal_Videos_717_x264__3.mp4\n",
      "비디오 저장 완료: UCF_Crimes_10crop/Videos/Testing_Normal_Videos_Anomaly/Normal_Videos_717_x264__8.mp4\n",
      "<class 'list'>\n",
      "<class 'numpy.ndarray'>\n",
      "(120, 160, 3)\n"
     ]
    },
    {
     "name": "stderr",
     "output_type": "stream",
     "text": [
      "OpenCV: FFMPEG: tag 0x44495658/'XVID' is not supported with codec id 12 and format 'mp4 / MP4 (MPEG-4 Part 14)'\n",
      "OpenCV: FFMPEG: fallback to use tag 0x7634706d/'mp4v'\n",
      "OpenCV: FFMPEG: tag 0x44495658/'XVID' is not supported with codec id 12 and format 'mp4 / MP4 (MPEG-4 Part 14)'\n",
      "OpenCV: FFMPEG: fallback to use tag 0x7634706d/'mp4v'\n"
     ]
    },
    {
     "name": "stdout",
     "output_type": "stream",
     "text": [
      "비디오 저장 완료: UCF_Crimes_10crop/Videos/Testing_Normal_Videos_Anomaly/Normal_Videos_717_x264__4.mp4\n",
      "비디오 저장 완료: UCF_Crimes_10crop/Videos/Testing_Normal_Videos_Anomaly/Normal_Videos_717_x264__9.mp4\n",
      "320   240\n",
      "FPS: 30.0\n",
      "<class 'list'>\n",
      "<class 'numpy.ndarray'>\n",
      "(120, 160, 3)\n"
     ]
    },
    {
     "name": "stderr",
     "output_type": "stream",
     "text": [
      "OpenCV: FFMPEG: tag 0x44495658/'XVID' is not supported with codec id 12 and format 'mp4 / MP4 (MPEG-4 Part 14)'\n",
      "OpenCV: FFMPEG: fallback to use tag 0x7634706d/'mp4v'\n",
      "OpenCV: FFMPEG: tag 0x44495658/'XVID' is not supported with codec id 12 and format 'mp4 / MP4 (MPEG-4 Part 14)'\n",
      "OpenCV: FFMPEG: fallback to use tag 0x7634706d/'mp4v'\n"
     ]
    },
    {
     "name": "stdout",
     "output_type": "stream",
     "text": [
      "비디오 저장 완료: UCF_Crimes_10crop/Videos/Testing_Normal_Videos_Anomaly/Normal_Videos_203_x264__0.mp4\n",
      "비디오 저장 완료: UCF_Crimes_10crop/Videos/Testing_Normal_Videos_Anomaly/Normal_Videos_203_x264__5.mp4\n",
      "<class 'list'>\n",
      "<class 'numpy.ndarray'>\n",
      "(120, 160, 3)\n"
     ]
    },
    {
     "name": "stderr",
     "output_type": "stream",
     "text": [
      "OpenCV: FFMPEG: tag 0x44495658/'XVID' is not supported with codec id 12 and format 'mp4 / MP4 (MPEG-4 Part 14)'\n",
      "OpenCV: FFMPEG: fallback to use tag 0x7634706d/'mp4v'\n",
      "OpenCV: FFMPEG: tag 0x44495658/'XVID' is not supported with codec id 12 and format 'mp4 / MP4 (MPEG-4 Part 14)'\n",
      "OpenCV: FFMPEG: fallback to use tag 0x7634706d/'mp4v'\n"
     ]
    },
    {
     "name": "stdout",
     "output_type": "stream",
     "text": [
      "비디오 저장 완료: UCF_Crimes_10crop/Videos/Testing_Normal_Videos_Anomaly/Normal_Videos_203_x264__1.mp4\n",
      "비디오 저장 완료: UCF_Crimes_10crop/Videos/Testing_Normal_Videos_Anomaly/Normal_Videos_203_x264__6.mp4\n",
      "<class 'list'>\n",
      "<class 'numpy.ndarray'>\n",
      "(120, 160, 3)\n"
     ]
    },
    {
     "name": "stderr",
     "output_type": "stream",
     "text": [
      "OpenCV: FFMPEG: tag 0x44495658/'XVID' is not supported with codec id 12 and format 'mp4 / MP4 (MPEG-4 Part 14)'\n",
      "OpenCV: FFMPEG: fallback to use tag 0x7634706d/'mp4v'\n",
      "OpenCV: FFMPEG: tag 0x44495658/'XVID' is not supported with codec id 12 and format 'mp4 / MP4 (MPEG-4 Part 14)'\n",
      "OpenCV: FFMPEG: fallback to use tag 0x7634706d/'mp4v'\n"
     ]
    },
    {
     "name": "stdout",
     "output_type": "stream",
     "text": [
      "비디오 저장 완료: UCF_Crimes_10crop/Videos/Testing_Normal_Videos_Anomaly/Normal_Videos_203_x264__2.mp4\n",
      "비디오 저장 완료: UCF_Crimes_10crop/Videos/Testing_Normal_Videos_Anomaly/Normal_Videos_203_x264__7.mp4\n",
      "<class 'list'>\n",
      "<class 'numpy.ndarray'>\n",
      "(120, 160, 3)\n"
     ]
    },
    {
     "name": "stderr",
     "output_type": "stream",
     "text": [
      "OpenCV: FFMPEG: tag 0x44495658/'XVID' is not supported with codec id 12 and format 'mp4 / MP4 (MPEG-4 Part 14)'\n",
      "OpenCV: FFMPEG: fallback to use tag 0x7634706d/'mp4v'\n",
      "OpenCV: FFMPEG: tag 0x44495658/'XVID' is not supported with codec id 12 and format 'mp4 / MP4 (MPEG-4 Part 14)'\n",
      "OpenCV: FFMPEG: fallback to use tag 0x7634706d/'mp4v'\n"
     ]
    },
    {
     "name": "stdout",
     "output_type": "stream",
     "text": [
      "비디오 저장 완료: UCF_Crimes_10crop/Videos/Testing_Normal_Videos_Anomaly/Normal_Videos_203_x264__3.mp4\n",
      "비디오 저장 완료: UCF_Crimes_10crop/Videos/Testing_Normal_Videos_Anomaly/Normal_Videos_203_x264__8.mp4\n",
      "<class 'list'>\n",
      "<class 'numpy.ndarray'>\n",
      "(120, 160, 3)\n"
     ]
    },
    {
     "name": "stderr",
     "output_type": "stream",
     "text": [
      "OpenCV: FFMPEG: tag 0x44495658/'XVID' is not supported with codec id 12 and format 'mp4 / MP4 (MPEG-4 Part 14)'\n",
      "OpenCV: FFMPEG: fallback to use tag 0x7634706d/'mp4v'\n",
      "OpenCV: FFMPEG: tag 0x44495658/'XVID' is not supported with codec id 12 and format 'mp4 / MP4 (MPEG-4 Part 14)'\n",
      "OpenCV: FFMPEG: fallback to use tag 0x7634706d/'mp4v'\n"
     ]
    },
    {
     "name": "stdout",
     "output_type": "stream",
     "text": [
      "비디오 저장 완료: UCF_Crimes_10crop/Videos/Testing_Normal_Videos_Anomaly/Normal_Videos_203_x264__4.mp4\n",
      "비디오 저장 완료: UCF_Crimes_10crop/Videos/Testing_Normal_Videos_Anomaly/Normal_Videos_203_x264__9.mp4\n",
      "320   240\n",
      "FPS: 30.0\n",
      "<class 'list'>\n",
      "<class 'numpy.ndarray'>\n",
      "(120, 160, 3)\n",
      "비디오 저장 완료: UCF_Crimes_10crop/Videos/Testing_Normal_Videos_Anomaly/Normal_Videos_189_x264__0.mp4\n",
      "비디오 저장 완료: UCF_Crimes_10crop/Videos/Testing_Normal_Videos_Anomaly/Normal_Videos_189_x264__5.mp4\n",
      "<class 'list'>\n",
      "<class 'numpy.ndarray'>\n",
      "(120, 160, 3)\n"
     ]
    },
    {
     "name": "stderr",
     "output_type": "stream",
     "text": [
      "OpenCV: FFMPEG: tag 0x44495658/'XVID' is not supported with codec id 12 and format 'mp4 / MP4 (MPEG-4 Part 14)'\n",
      "OpenCV: FFMPEG: fallback to use tag 0x7634706d/'mp4v'\n",
      "OpenCV: FFMPEG: tag 0x44495658/'XVID' is not supported with codec id 12 and format 'mp4 / MP4 (MPEG-4 Part 14)'\n",
      "OpenCV: FFMPEG: fallback to use tag 0x7634706d/'mp4v'\n",
      "OpenCV: FFMPEG: tag 0x44495658/'XVID' is not supported with codec id 12 and format 'mp4 / MP4 (MPEG-4 Part 14)'\n",
      "OpenCV: FFMPEG: fallback to use tag 0x7634706d/'mp4v'\n",
      "OpenCV: FFMPEG: tag 0x44495658/'XVID' is not supported with codec id 12 and format 'mp4 / MP4 (MPEG-4 Part 14)'\n",
      "OpenCV: FFMPEG: fallback to use tag 0x7634706d/'mp4v'\n"
     ]
    },
    {
     "name": "stdout",
     "output_type": "stream",
     "text": [
      "비디오 저장 완료: UCF_Crimes_10crop/Videos/Testing_Normal_Videos_Anomaly/Normal_Videos_189_x264__1.mp4\n",
      "비디오 저장 완료: UCF_Crimes_10crop/Videos/Testing_Normal_Videos_Anomaly/Normal_Videos_189_x264__6.mp4\n",
      "<class 'list'>\n",
      "<class 'numpy.ndarray'>\n",
      "(120, 160, 3)\n",
      "비디오 저장 완료: UCF_Crimes_10crop/Videos/Testing_Normal_Videos_Anomaly/Normal_Videos_189_x264__2.mp4\n",
      "비디오 저장 완료: UCF_Crimes_10crop/Videos/Testing_Normal_Videos_Anomaly/Normal_Videos_189_x264__7.mp4\n",
      "<class 'list'>\n",
      "<class 'numpy.ndarray'>\n",
      "(120, 160, 3)\n"
     ]
    },
    {
     "name": "stderr",
     "output_type": "stream",
     "text": [
      "OpenCV: FFMPEG: tag 0x44495658/'XVID' is not supported with codec id 12 and format 'mp4 / MP4 (MPEG-4 Part 14)'\n",
      "OpenCV: FFMPEG: fallback to use tag 0x7634706d/'mp4v'\n",
      "OpenCV: FFMPEG: tag 0x44495658/'XVID' is not supported with codec id 12 and format 'mp4 / MP4 (MPEG-4 Part 14)'\n",
      "OpenCV: FFMPEG: fallback to use tag 0x7634706d/'mp4v'\n",
      "OpenCV: FFMPEG: tag 0x44495658/'XVID' is not supported with codec id 12 and format 'mp4 / MP4 (MPEG-4 Part 14)'\n",
      "OpenCV: FFMPEG: fallback to use tag 0x7634706d/'mp4v'\n",
      "OpenCV: FFMPEG: tag 0x44495658/'XVID' is not supported with codec id 12 and format 'mp4 / MP4 (MPEG-4 Part 14)'\n",
      "OpenCV: FFMPEG: fallback to use tag 0x7634706d/'mp4v'\n"
     ]
    },
    {
     "name": "stdout",
     "output_type": "stream",
     "text": [
      "비디오 저장 완료: UCF_Crimes_10crop/Videos/Testing_Normal_Videos_Anomaly/Normal_Videos_189_x264__3.mp4\n",
      "비디오 저장 완료: UCF_Crimes_10crop/Videos/Testing_Normal_Videos_Anomaly/Normal_Videos_189_x264__8.mp4\n",
      "<class 'list'>\n",
      "<class 'numpy.ndarray'>\n",
      "(120, 160, 3)\n",
      "비디오 저장 완료: UCF_Crimes_10crop/Videos/Testing_Normal_Videos_Anomaly/Normal_Videos_189_x264__4.mp4\n",
      "비디오 저장 완료: UCF_Crimes_10crop/Videos/Testing_Normal_Videos_Anomaly/Normal_Videos_189_x264__9.mp4\n",
      "320   240\n",
      "FPS: 30.0\n"
     ]
    },
    {
     "name": "stderr",
     "output_type": "stream",
     "text": [
      "OpenCV: FFMPEG: tag 0x44495658/'XVID' is not supported with codec id 12 and format 'mp4 / MP4 (MPEG-4 Part 14)'\n",
      "OpenCV: FFMPEG: fallback to use tag 0x7634706d/'mp4v'\n",
      "OpenCV: FFMPEG: tag 0x44495658/'XVID' is not supported with codec id 12 and format 'mp4 / MP4 (MPEG-4 Part 14)'\n",
      "OpenCV: FFMPEG: fallback to use tag 0x7634706d/'mp4v'\n"
     ]
    },
    {
     "name": "stdout",
     "output_type": "stream",
     "text": [
      "<class 'list'>\n",
      "<class 'numpy.ndarray'>\n",
      "(120, 160, 3)\n"
     ]
    },
    {
     "name": "stderr",
     "output_type": "stream",
     "text": [
      "OpenCV: FFMPEG: tag 0x44495658/'XVID' is not supported with codec id 12 and format 'mp4 / MP4 (MPEG-4 Part 14)'\n",
      "OpenCV: FFMPEG: fallback to use tag 0x7634706d/'mp4v'\n",
      "OpenCV: FFMPEG: tag 0x44495658/'XVID' is not supported with codec id 12 and format 'mp4 / MP4 (MPEG-4 Part 14)'\n",
      "OpenCV: FFMPEG: fallback to use tag 0x7634706d/'mp4v'\n"
     ]
    },
    {
     "name": "stdout",
     "output_type": "stream",
     "text": [
      "비디오 저장 완료: UCF_Crimes_10crop/Videos/Testing_Normal_Videos_Anomaly/Normal_Videos_798_x264__0.mp4\n",
      "비디오 저장 완료: UCF_Crimes_10crop/Videos/Testing_Normal_Videos_Anomaly/Normal_Videos_798_x264__5.mp4\n",
      "<class 'list'>\n",
      "<class 'numpy.ndarray'>\n",
      "(120, 160, 3)\n"
     ]
    },
    {
     "name": "stderr",
     "output_type": "stream",
     "text": [
      "OpenCV: FFMPEG: tag 0x44495658/'XVID' is not supported with codec id 12 and format 'mp4 / MP4 (MPEG-4 Part 14)'\n",
      "OpenCV: FFMPEG: fallback to use tag 0x7634706d/'mp4v'\n",
      "OpenCV: FFMPEG: tag 0x44495658/'XVID' is not supported with codec id 12 and format 'mp4 / MP4 (MPEG-4 Part 14)'\n",
      "OpenCV: FFMPEG: fallback to use tag 0x7634706d/'mp4v'\n"
     ]
    },
    {
     "name": "stdout",
     "output_type": "stream",
     "text": [
      "비디오 저장 완료: UCF_Crimes_10crop/Videos/Testing_Normal_Videos_Anomaly/Normal_Videos_798_x264__1.mp4\n",
      "비디오 저장 완료: UCF_Crimes_10crop/Videos/Testing_Normal_Videos_Anomaly/Normal_Videos_798_x264__6.mp4\n",
      "<class 'list'>\n",
      "<class 'numpy.ndarray'>\n",
      "(120, 160, 3)\n"
     ]
    },
    {
     "name": "stderr",
     "output_type": "stream",
     "text": [
      "OpenCV: FFMPEG: tag 0x44495658/'XVID' is not supported with codec id 12 and format 'mp4 / MP4 (MPEG-4 Part 14)'\n",
      "OpenCV: FFMPEG: fallback to use tag 0x7634706d/'mp4v'\n",
      "OpenCV: FFMPEG: tag 0x44495658/'XVID' is not supported with codec id 12 and format 'mp4 / MP4 (MPEG-4 Part 14)'\n",
      "OpenCV: FFMPEG: fallback to use tag 0x7634706d/'mp4v'\n"
     ]
    },
    {
     "name": "stdout",
     "output_type": "stream",
     "text": [
      "비디오 저장 완료: UCF_Crimes_10crop/Videos/Testing_Normal_Videos_Anomaly/Normal_Videos_798_x264__2.mp4\n",
      "비디오 저장 완료: UCF_Crimes_10crop/Videos/Testing_Normal_Videos_Anomaly/Normal_Videos_798_x264__7.mp4\n",
      "<class 'list'>\n",
      "<class 'numpy.ndarray'>\n",
      "(120, 160, 3)\n"
     ]
    },
    {
     "name": "stderr",
     "output_type": "stream",
     "text": [
      "OpenCV: FFMPEG: tag 0x44495658/'XVID' is not supported with codec id 12 and format 'mp4 / MP4 (MPEG-4 Part 14)'\n",
      "OpenCV: FFMPEG: fallback to use tag 0x7634706d/'mp4v'\n",
      "OpenCV: FFMPEG: tag 0x44495658/'XVID' is not supported with codec id 12 and format 'mp4 / MP4 (MPEG-4 Part 14)'\n",
      "OpenCV: FFMPEG: fallback to use tag 0x7634706d/'mp4v'\n"
     ]
    },
    {
     "name": "stdout",
     "output_type": "stream",
     "text": [
      "비디오 저장 완료: UCF_Crimes_10crop/Videos/Testing_Normal_Videos_Anomaly/Normal_Videos_798_x264__3.mp4\n",
      "비디오 저장 완료: UCF_Crimes_10crop/Videos/Testing_Normal_Videos_Anomaly/Normal_Videos_798_x264__8.mp4\n",
      "<class 'list'>\n",
      "<class 'numpy.ndarray'>\n",
      "(120, 160, 3)\n"
     ]
    },
    {
     "name": "stderr",
     "output_type": "stream",
     "text": [
      "OpenCV: FFMPEG: tag 0x44495658/'XVID' is not supported with codec id 12 and format 'mp4 / MP4 (MPEG-4 Part 14)'\n",
      "OpenCV: FFMPEG: fallback to use tag 0x7634706d/'mp4v'\n",
      "OpenCV: FFMPEG: tag 0x44495658/'XVID' is not supported with codec id 12 and format 'mp4 / MP4 (MPEG-4 Part 14)'\n",
      "OpenCV: FFMPEG: fallback to use tag 0x7634706d/'mp4v'\n"
     ]
    },
    {
     "name": "stdout",
     "output_type": "stream",
     "text": [
      "비디오 저장 완료: UCF_Crimes_10crop/Videos/Testing_Normal_Videos_Anomaly/Normal_Videos_798_x264__4.mp4\n",
      "비디오 저장 완료: UCF_Crimes_10crop/Videos/Testing_Normal_Videos_Anomaly/Normal_Videos_798_x264__9.mp4\n",
      "320   240\n",
      "FPS: 30.0\n",
      "<class 'list'>\n",
      "<class 'numpy.ndarray'>\n",
      "(120, 160, 3)\n"
     ]
    },
    {
     "name": "stderr",
     "output_type": "stream",
     "text": [
      "OpenCV: FFMPEG: tag 0x44495658/'XVID' is not supported with codec id 12 and format 'mp4 / MP4 (MPEG-4 Part 14)'\n",
      "OpenCV: FFMPEG: fallback to use tag 0x7634706d/'mp4v'\n",
      "OpenCV: FFMPEG: tag 0x44495658/'XVID' is not supported with codec id 12 and format 'mp4 / MP4 (MPEG-4 Part 14)'\n",
      "OpenCV: FFMPEG: fallback to use tag 0x7634706d/'mp4v'\n"
     ]
    },
    {
     "name": "stdout",
     "output_type": "stream",
     "text": [
      "비디오 저장 완료: UCF_Crimes_10crop/Videos/Testing_Normal_Videos_Anomaly/Normal_Videos_902_x264__0.mp4\n",
      "비디오 저장 완료: UCF_Crimes_10crop/Videos/Testing_Normal_Videos_Anomaly/Normal_Videos_902_x264__5.mp4\n",
      "<class 'list'>\n",
      "<class 'numpy.ndarray'>\n",
      "(120, 160, 3)\n"
     ]
    },
    {
     "name": "stderr",
     "output_type": "stream",
     "text": [
      "OpenCV: FFMPEG: tag 0x44495658/'XVID' is not supported with codec id 12 and format 'mp4 / MP4 (MPEG-4 Part 14)'\n",
      "OpenCV: FFMPEG: fallback to use tag 0x7634706d/'mp4v'\n",
      "OpenCV: FFMPEG: tag 0x44495658/'XVID' is not supported with codec id 12 and format 'mp4 / MP4 (MPEG-4 Part 14)'\n",
      "OpenCV: FFMPEG: fallback to use tag 0x7634706d/'mp4v'\n"
     ]
    },
    {
     "name": "stdout",
     "output_type": "stream",
     "text": [
      "비디오 저장 완료: UCF_Crimes_10crop/Videos/Testing_Normal_Videos_Anomaly/Normal_Videos_902_x264__1.mp4\n",
      "비디오 저장 완료: UCF_Crimes_10crop/Videos/Testing_Normal_Videos_Anomaly/Normal_Videos_902_x264__6.mp4\n",
      "<class 'list'>\n",
      "<class 'numpy.ndarray'>\n",
      "(120, 160, 3)\n"
     ]
    },
    {
     "name": "stderr",
     "output_type": "stream",
     "text": [
      "OpenCV: FFMPEG: tag 0x44495658/'XVID' is not supported with codec id 12 and format 'mp4 / MP4 (MPEG-4 Part 14)'\n",
      "OpenCV: FFMPEG: fallback to use tag 0x7634706d/'mp4v'\n",
      "OpenCV: FFMPEG: tag 0x44495658/'XVID' is not supported with codec id 12 and format 'mp4 / MP4 (MPEG-4 Part 14)'\n",
      "OpenCV: FFMPEG: fallback to use tag 0x7634706d/'mp4v'\n"
     ]
    },
    {
     "name": "stdout",
     "output_type": "stream",
     "text": [
      "비디오 저장 완료: UCF_Crimes_10crop/Videos/Testing_Normal_Videos_Anomaly/Normal_Videos_902_x264__2.mp4\n",
      "비디오 저장 완료: UCF_Crimes_10crop/Videos/Testing_Normal_Videos_Anomaly/Normal_Videos_902_x264__7.mp4\n",
      "<class 'list'>\n",
      "<class 'numpy.ndarray'>\n",
      "(120, 160, 3)\n"
     ]
    },
    {
     "name": "stderr",
     "output_type": "stream",
     "text": [
      "OpenCV: FFMPEG: tag 0x44495658/'XVID' is not supported with codec id 12 and format 'mp4 / MP4 (MPEG-4 Part 14)'\n",
      "OpenCV: FFMPEG: fallback to use tag 0x7634706d/'mp4v'\n",
      "OpenCV: FFMPEG: tag 0x44495658/'XVID' is not supported with codec id 12 and format 'mp4 / MP4 (MPEG-4 Part 14)'\n",
      "OpenCV: FFMPEG: fallback to use tag 0x7634706d/'mp4v'\n"
     ]
    },
    {
     "name": "stdout",
     "output_type": "stream",
     "text": [
      "비디오 저장 완료: UCF_Crimes_10crop/Videos/Testing_Normal_Videos_Anomaly/Normal_Videos_902_x264__3.mp4\n",
      "비디오 저장 완료: UCF_Crimes_10crop/Videos/Testing_Normal_Videos_Anomaly/Normal_Videos_902_x264__8.mp4\n",
      "<class 'list'>\n",
      "<class 'numpy.ndarray'>\n",
      "(120, 160, 3)\n"
     ]
    },
    {
     "name": "stderr",
     "output_type": "stream",
     "text": [
      "OpenCV: FFMPEG: tag 0x44495658/'XVID' is not supported with codec id 12 and format 'mp4 / MP4 (MPEG-4 Part 14)'\n",
      "OpenCV: FFMPEG: fallback to use tag 0x7634706d/'mp4v'\n",
      "OpenCV: FFMPEG: tag 0x44495658/'XVID' is not supported with codec id 12 and format 'mp4 / MP4 (MPEG-4 Part 14)'\n",
      "OpenCV: FFMPEG: fallback to use tag 0x7634706d/'mp4v'\n"
     ]
    },
    {
     "name": "stdout",
     "output_type": "stream",
     "text": [
      "비디오 저장 완료: UCF_Crimes_10crop/Videos/Testing_Normal_Videos_Anomaly/Normal_Videos_902_x264__4.mp4\n",
      "비디오 저장 완료: UCF_Crimes_10crop/Videos/Testing_Normal_Videos_Anomaly/Normal_Videos_902_x264__9.mp4\n",
      "320   240\n",
      "FPS: 30.0\n",
      "<class 'list'>\n",
      "<class 'numpy.ndarray'>\n",
      "(120, 160, 3)\n",
      "비디오 저장 완료: UCF_Crimes_10crop/Videos/Testing_Normal_Videos_Anomaly/Normal_Videos_831_x264__0.mp4\n",
      "비디오 저장 완료: UCF_Crimes_10crop/Videos/Testing_Normal_Videos_Anomaly/Normal_Videos_831_x264__5.mp4\n",
      "<class 'list'>\n",
      "<class 'numpy.ndarray'>\n",
      "(120, 160, 3)\n",
      "비디오 저장 완료: UCF_Crimes_10crop/Videos/Testing_Normal_Videos_Anomaly/Normal_Videos_831_x264__1.mp4\n",
      "비디오 저장 완료: UCF_Crimes_10crop/Videos/Testing_Normal_Videos_Anomaly/Normal_Videos_831_x264__6.mp4\n",
      "<class 'list'>\n",
      "<class 'numpy.ndarray'>\n",
      "(120, 160, 3)\n"
     ]
    },
    {
     "name": "stderr",
     "output_type": "stream",
     "text": [
      "OpenCV: FFMPEG: tag 0x44495658/'XVID' is not supported with codec id 12 and format 'mp4 / MP4 (MPEG-4 Part 14)'\n",
      "OpenCV: FFMPEG: fallback to use tag 0x7634706d/'mp4v'\n",
      "OpenCV: FFMPEG: tag 0x44495658/'XVID' is not supported with codec id 12 and format 'mp4 / MP4 (MPEG-4 Part 14)'\n",
      "OpenCV: FFMPEG: fallback to use tag 0x7634706d/'mp4v'\n",
      "OpenCV: FFMPEG: tag 0x44495658/'XVID' is not supported with codec id 12 and format 'mp4 / MP4 (MPEG-4 Part 14)'\n",
      "OpenCV: FFMPEG: fallback to use tag 0x7634706d/'mp4v'\n",
      "OpenCV: FFMPEG: tag 0x44495658/'XVID' is not supported with codec id 12 and format 'mp4 / MP4 (MPEG-4 Part 14)'\n",
      "OpenCV: FFMPEG: fallback to use tag 0x7634706d/'mp4v'\n",
      "OpenCV: FFMPEG: tag 0x44495658/'XVID' is not supported with codec id 12 and format 'mp4 / MP4 (MPEG-4 Part 14)'\n",
      "OpenCV: FFMPEG: fallback to use tag 0x7634706d/'mp4v'\n",
      "OpenCV: FFMPEG: tag 0x44495658/'XVID' is not supported with codec id 12 and format 'mp4 / MP4 (MPEG-4 Part 14)'\n",
      "OpenCV: FFMPEG: fallback to use tag 0x7634706d/'mp4v'\n"
     ]
    },
    {
     "name": "stdout",
     "output_type": "stream",
     "text": [
      "비디오 저장 완료: UCF_Crimes_10crop/Videos/Testing_Normal_Videos_Anomaly/Normal_Videos_831_x264__2.mp4\n",
      "비디오 저장 완료: UCF_Crimes_10crop/Videos/Testing_Normal_Videos_Anomaly/Normal_Videos_831_x264__7.mp4\n",
      "<class 'list'>\n",
      "<class 'numpy.ndarray'>\n",
      "(120, 160, 3)\n",
      "비디오 저장 완료: UCF_Crimes_10crop/Videos/Testing_Normal_Videos_Anomaly/Normal_Videos_831_x264__3.mp4\n",
      "비디오 저장 완료: UCF_Crimes_10crop/Videos/Testing_Normal_Videos_Anomaly/Normal_Videos_831_x264__8.mp4\n",
      "<class 'list'>\n",
      "<class 'numpy.ndarray'>\n",
      "(120, 160, 3)\n",
      "비디오 저장 완료: UCF_Crimes_10crop/Videos/Testing_Normal_Videos_Anomaly/Normal_Videos_831_x264__4.mp4\n",
      "비디오 저장 완료: UCF_Crimes_10crop/Videos/Testing_Normal_Videos_Anomaly/Normal_Videos_831_x264__9.mp4\n"
     ]
    },
    {
     "name": "stderr",
     "output_type": "stream",
     "text": [
      "OpenCV: FFMPEG: tag 0x44495658/'XVID' is not supported with codec id 12 and format 'mp4 / MP4 (MPEG-4 Part 14)'\n",
      "OpenCV: FFMPEG: fallback to use tag 0x7634706d/'mp4v'\n",
      "OpenCV: FFMPEG: tag 0x44495658/'XVID' is not supported with codec id 12 and format 'mp4 / MP4 (MPEG-4 Part 14)'\n",
      "OpenCV: FFMPEG: fallback to use tag 0x7634706d/'mp4v'\n",
      "OpenCV: FFMPEG: tag 0x44495658/'XVID' is not supported with codec id 12 and format 'mp4 / MP4 (MPEG-4 Part 14)'\n",
      "OpenCV: FFMPEG: fallback to use tag 0x7634706d/'mp4v'\n",
      "OpenCV: FFMPEG: tag 0x44495658/'XVID' is not supported with codec id 12 and format 'mp4 / MP4 (MPEG-4 Part 14)'\n",
      "OpenCV: FFMPEG: fallback to use tag 0x7634706d/'mp4v'\n"
     ]
    },
    {
     "name": "stdout",
     "output_type": "stream",
     "text": [
      "320   240\n",
      "FPS: 30.0\n",
      "<class 'list'>\n",
      "<class 'numpy.ndarray'>\n",
      "(120, 160, 3)\n"
     ]
    },
    {
     "name": "stderr",
     "output_type": "stream",
     "text": [
      "OpenCV: FFMPEG: tag 0x44495658/'XVID' is not supported with codec id 12 and format 'mp4 / MP4 (MPEG-4 Part 14)'\n",
      "OpenCV: FFMPEG: fallback to use tag 0x7634706d/'mp4v'\n",
      "OpenCV: FFMPEG: tag 0x44495658/'XVID' is not supported with codec id 12 and format 'mp4 / MP4 (MPEG-4 Part 14)'\n",
      "OpenCV: FFMPEG: fallback to use tag 0x7634706d/'mp4v'\n"
     ]
    },
    {
     "name": "stdout",
     "output_type": "stream",
     "text": [
      "비디오 저장 완료: UCF_Crimes_10crop/Videos/Testing_Normal_Videos_Anomaly/Normal_Videos_899_x264__0.mp4\n",
      "비디오 저장 완료: UCF_Crimes_10crop/Videos/Testing_Normal_Videos_Anomaly/Normal_Videos_899_x264__5.mp4\n",
      "<class 'list'>\n",
      "<class 'numpy.ndarray'>\n",
      "(120, 160, 3)\n"
     ]
    },
    {
     "name": "stderr",
     "output_type": "stream",
     "text": [
      "OpenCV: FFMPEG: tag 0x44495658/'XVID' is not supported with codec id 12 and format 'mp4 / MP4 (MPEG-4 Part 14)'\n",
      "OpenCV: FFMPEG: fallback to use tag 0x7634706d/'mp4v'\n",
      "OpenCV: FFMPEG: tag 0x44495658/'XVID' is not supported with codec id 12 and format 'mp4 / MP4 (MPEG-4 Part 14)'\n",
      "OpenCV: FFMPEG: fallback to use tag 0x7634706d/'mp4v'\n"
     ]
    },
    {
     "name": "stdout",
     "output_type": "stream",
     "text": [
      "비디오 저장 완료: UCF_Crimes_10crop/Videos/Testing_Normal_Videos_Anomaly/Normal_Videos_899_x264__1.mp4\n",
      "비디오 저장 완료: UCF_Crimes_10crop/Videos/Testing_Normal_Videos_Anomaly/Normal_Videos_899_x264__6.mp4\n",
      "<class 'list'>\n",
      "<class 'numpy.ndarray'>\n",
      "(120, 160, 3)\n"
     ]
    },
    {
     "name": "stderr",
     "output_type": "stream",
     "text": [
      "OpenCV: FFMPEG: tag 0x44495658/'XVID' is not supported with codec id 12 and format 'mp4 / MP4 (MPEG-4 Part 14)'\n",
      "OpenCV: FFMPEG: fallback to use tag 0x7634706d/'mp4v'\n",
      "OpenCV: FFMPEG: tag 0x44495658/'XVID' is not supported with codec id 12 and format 'mp4 / MP4 (MPEG-4 Part 14)'\n",
      "OpenCV: FFMPEG: fallback to use tag 0x7634706d/'mp4v'\n"
     ]
    },
    {
     "name": "stdout",
     "output_type": "stream",
     "text": [
      "비디오 저장 완료: UCF_Crimes_10crop/Videos/Testing_Normal_Videos_Anomaly/Normal_Videos_899_x264__2.mp4\n",
      "비디오 저장 완료: UCF_Crimes_10crop/Videos/Testing_Normal_Videos_Anomaly/Normal_Videos_899_x264__7.mp4\n",
      "<class 'list'>\n",
      "<class 'numpy.ndarray'>\n",
      "(120, 160, 3)\n"
     ]
    },
    {
     "name": "stderr",
     "output_type": "stream",
     "text": [
      "OpenCV: FFMPEG: tag 0x44495658/'XVID' is not supported with codec id 12 and format 'mp4 / MP4 (MPEG-4 Part 14)'\n",
      "OpenCV: FFMPEG: fallback to use tag 0x7634706d/'mp4v'\n",
      "OpenCV: FFMPEG: tag 0x44495658/'XVID' is not supported with codec id 12 and format 'mp4 / MP4 (MPEG-4 Part 14)'\n",
      "OpenCV: FFMPEG: fallback to use tag 0x7634706d/'mp4v'\n"
     ]
    },
    {
     "name": "stdout",
     "output_type": "stream",
     "text": [
      "비디오 저장 완료: UCF_Crimes_10crop/Videos/Testing_Normal_Videos_Anomaly/Normal_Videos_899_x264__3.mp4\n",
      "비디오 저장 완료: UCF_Crimes_10crop/Videos/Testing_Normal_Videos_Anomaly/Normal_Videos_899_x264__8.mp4\n",
      "<class 'list'>\n",
      "<class 'numpy.ndarray'>\n",
      "(120, 160, 3)\n"
     ]
    },
    {
     "name": "stderr",
     "output_type": "stream",
     "text": [
      "OpenCV: FFMPEG: tag 0x44495658/'XVID' is not supported with codec id 12 and format 'mp4 / MP4 (MPEG-4 Part 14)'\n",
      "OpenCV: FFMPEG: fallback to use tag 0x7634706d/'mp4v'\n",
      "OpenCV: FFMPEG: tag 0x44495658/'XVID' is not supported with codec id 12 and format 'mp4 / MP4 (MPEG-4 Part 14)'\n",
      "OpenCV: FFMPEG: fallback to use tag 0x7634706d/'mp4v'\n"
     ]
    },
    {
     "name": "stdout",
     "output_type": "stream",
     "text": [
      "비디오 저장 완료: UCF_Crimes_10crop/Videos/Testing_Normal_Videos_Anomaly/Normal_Videos_899_x264__4.mp4\n",
      "비디오 저장 완료: UCF_Crimes_10crop/Videos/Testing_Normal_Videos_Anomaly/Normal_Videos_899_x264__9.mp4\n",
      "320   240\n",
      "FPS: 30.0\n",
      "<class 'list'>\n",
      "<class 'numpy.ndarray'>\n",
      "(120, 160, 3)\n"
     ]
    },
    {
     "name": "stderr",
     "output_type": "stream",
     "text": [
      "OpenCV: FFMPEG: tag 0x44495658/'XVID' is not supported with codec id 12 and format 'mp4 / MP4 (MPEG-4 Part 14)'\n",
      "OpenCV: FFMPEG: fallback to use tag 0x7634706d/'mp4v'\n",
      "OpenCV: FFMPEG: tag 0x44495658/'XVID' is not supported with codec id 12 and format 'mp4 / MP4 (MPEG-4 Part 14)'\n",
      "OpenCV: FFMPEG: fallback to use tag 0x7634706d/'mp4v'\n"
     ]
    },
    {
     "name": "stdout",
     "output_type": "stream",
     "text": [
      "비디오 저장 완료: UCF_Crimes_10crop/Videos/Testing_Normal_Videos_Anomaly/Normal_Videos_884_x264__0.mp4\n",
      "비디오 저장 완료: UCF_Crimes_10crop/Videos/Testing_Normal_Videos_Anomaly/Normal_Videos_884_x264__5.mp4\n",
      "<class 'list'>\n",
      "<class 'numpy.ndarray'>\n",
      "(120, 160, 3)\n"
     ]
    },
    {
     "name": "stderr",
     "output_type": "stream",
     "text": [
      "OpenCV: FFMPEG: tag 0x44495658/'XVID' is not supported with codec id 12 and format 'mp4 / MP4 (MPEG-4 Part 14)'\n",
      "OpenCV: FFMPEG: fallback to use tag 0x7634706d/'mp4v'\n",
      "OpenCV: FFMPEG: tag 0x44495658/'XVID' is not supported with codec id 12 and format 'mp4 / MP4 (MPEG-4 Part 14)'\n",
      "OpenCV: FFMPEG: fallback to use tag 0x7634706d/'mp4v'\n"
     ]
    },
    {
     "name": "stdout",
     "output_type": "stream",
     "text": [
      "비디오 저장 완료: UCF_Crimes_10crop/Videos/Testing_Normal_Videos_Anomaly/Normal_Videos_884_x264__1.mp4\n",
      "비디오 저장 완료: UCF_Crimes_10crop/Videos/Testing_Normal_Videos_Anomaly/Normal_Videos_884_x264__6.mp4\n",
      "<class 'list'>\n",
      "<class 'numpy.ndarray'>\n",
      "(120, 160, 3)\n"
     ]
    },
    {
     "name": "stderr",
     "output_type": "stream",
     "text": [
      "OpenCV: FFMPEG: tag 0x44495658/'XVID' is not supported with codec id 12 and format 'mp4 / MP4 (MPEG-4 Part 14)'\n",
      "OpenCV: FFMPEG: fallback to use tag 0x7634706d/'mp4v'\n",
      "OpenCV: FFMPEG: tag 0x44495658/'XVID' is not supported with codec id 12 and format 'mp4 / MP4 (MPEG-4 Part 14)'\n",
      "OpenCV: FFMPEG: fallback to use tag 0x7634706d/'mp4v'\n"
     ]
    },
    {
     "name": "stdout",
     "output_type": "stream",
     "text": [
      "비디오 저장 완료: UCF_Crimes_10crop/Videos/Testing_Normal_Videos_Anomaly/Normal_Videos_884_x264__2.mp4\n",
      "비디오 저장 완료: UCF_Crimes_10crop/Videos/Testing_Normal_Videos_Anomaly/Normal_Videos_884_x264__7.mp4\n",
      "<class 'list'>\n",
      "<class 'numpy.ndarray'>\n",
      "(120, 160, 3)\n"
     ]
    },
    {
     "name": "stderr",
     "output_type": "stream",
     "text": [
      "OpenCV: FFMPEG: tag 0x44495658/'XVID' is not supported with codec id 12 and format 'mp4 / MP4 (MPEG-4 Part 14)'\n",
      "OpenCV: FFMPEG: fallback to use tag 0x7634706d/'mp4v'\n",
      "OpenCV: FFMPEG: tag 0x44495658/'XVID' is not supported with codec id 12 and format 'mp4 / MP4 (MPEG-4 Part 14)'\n",
      "OpenCV: FFMPEG: fallback to use tag 0x7634706d/'mp4v'\n"
     ]
    },
    {
     "name": "stdout",
     "output_type": "stream",
     "text": [
      "비디오 저장 완료: UCF_Crimes_10crop/Videos/Testing_Normal_Videos_Anomaly/Normal_Videos_884_x264__3.mp4\n",
      "비디오 저장 완료: UCF_Crimes_10crop/Videos/Testing_Normal_Videos_Anomaly/Normal_Videos_884_x264__8.mp4\n",
      "<class 'list'>\n",
      "<class 'numpy.ndarray'>\n",
      "(120, 160, 3)\n"
     ]
    },
    {
     "name": "stderr",
     "output_type": "stream",
     "text": [
      "OpenCV: FFMPEG: tag 0x44495658/'XVID' is not supported with codec id 12 and format 'mp4 / MP4 (MPEG-4 Part 14)'\n",
      "OpenCV: FFMPEG: fallback to use tag 0x7634706d/'mp4v'\n",
      "OpenCV: FFMPEG: tag 0x44495658/'XVID' is not supported with codec id 12 and format 'mp4 / MP4 (MPEG-4 Part 14)'\n",
      "OpenCV: FFMPEG: fallback to use tag 0x7634706d/'mp4v'\n"
     ]
    },
    {
     "name": "stdout",
     "output_type": "stream",
     "text": [
      "비디오 저장 완료: UCF_Crimes_10crop/Videos/Testing_Normal_Videos_Anomaly/Normal_Videos_884_x264__4.mp4\n",
      "비디오 저장 완료: UCF_Crimes_10crop/Videos/Testing_Normal_Videos_Anomaly/Normal_Videos_884_x264__9.mp4\n",
      "320   240\n",
      "FPS: 30.0\n",
      "<class 'list'>\n",
      "<class 'numpy.ndarray'>\n",
      "(120, 160, 3)\n",
      "비디오 저장 완료: UCF_Crimes_10crop/Videos/Testing_Normal_Videos_Anomaly/Normal_Videos_725_x264__0.mp4\n",
      "비디오 저장 완료: UCF_Crimes_10crop/Videos/Testing_Normal_Videos_Anomaly/Normal_Videos_725_x264__5.mp4\n",
      "<class 'list'>\n",
      "<class 'numpy.ndarray'>\n",
      "(120, 160, 3)\n"
     ]
    },
    {
     "name": "stderr",
     "output_type": "stream",
     "text": [
      "OpenCV: FFMPEG: tag 0x44495658/'XVID' is not supported with codec id 12 and format 'mp4 / MP4 (MPEG-4 Part 14)'\n",
      "OpenCV: FFMPEG: fallback to use tag 0x7634706d/'mp4v'\n",
      "OpenCV: FFMPEG: tag 0x44495658/'XVID' is not supported with codec id 12 and format 'mp4 / MP4 (MPEG-4 Part 14)'\n",
      "OpenCV: FFMPEG: fallback to use tag 0x7634706d/'mp4v'\n",
      "OpenCV: FFMPEG: tag 0x44495658/'XVID' is not supported with codec id 12 and format 'mp4 / MP4 (MPEG-4 Part 14)'\n",
      "OpenCV: FFMPEG: fallback to use tag 0x7634706d/'mp4v'\n",
      "OpenCV: FFMPEG: tag 0x44495658/'XVID' is not supported with codec id 12 and format 'mp4 / MP4 (MPEG-4 Part 14)'\n",
      "OpenCV: FFMPEG: fallback to use tag 0x7634706d/'mp4v'\n"
     ]
    },
    {
     "name": "stdout",
     "output_type": "stream",
     "text": [
      "비디오 저장 완료: UCF_Crimes_10crop/Videos/Testing_Normal_Videos_Anomaly/Normal_Videos_725_x264__1.mp4\n",
      "비디오 저장 완료: UCF_Crimes_10crop/Videos/Testing_Normal_Videos_Anomaly/Normal_Videos_725_x264__6.mp4\n",
      "<class 'list'>\n",
      "<class 'numpy.ndarray'>\n",
      "(120, 160, 3)\n",
      "비디오 저장 완료: UCF_Crimes_10crop/Videos/Testing_Normal_Videos_Anomaly/Normal_Videos_725_x264__2.mp4\n",
      "비디오 저장 완료: UCF_Crimes_10crop/Videos/Testing_Normal_Videos_Anomaly/Normal_Videos_725_x264__7.mp4\n",
      "<class 'list'>\n",
      "<class 'numpy.ndarray'>\n",
      "(120, 160, 3)\n"
     ]
    },
    {
     "name": "stderr",
     "output_type": "stream",
     "text": [
      "OpenCV: FFMPEG: tag 0x44495658/'XVID' is not supported with codec id 12 and format 'mp4 / MP4 (MPEG-4 Part 14)'\n",
      "OpenCV: FFMPEG: fallback to use tag 0x7634706d/'mp4v'\n",
      "OpenCV: FFMPEG: tag 0x44495658/'XVID' is not supported with codec id 12 and format 'mp4 / MP4 (MPEG-4 Part 14)'\n",
      "OpenCV: FFMPEG: fallback to use tag 0x7634706d/'mp4v'\n",
      "OpenCV: FFMPEG: tag 0x44495658/'XVID' is not supported with codec id 12 and format 'mp4 / MP4 (MPEG-4 Part 14)'\n",
      "OpenCV: FFMPEG: fallback to use tag 0x7634706d/'mp4v'\n",
      "OpenCV: FFMPEG: tag 0x44495658/'XVID' is not supported with codec id 12 and format 'mp4 / MP4 (MPEG-4 Part 14)'\n",
      "OpenCV: FFMPEG: fallback to use tag 0x7634706d/'mp4v'\n"
     ]
    },
    {
     "name": "stdout",
     "output_type": "stream",
     "text": [
      "비디오 저장 완료: UCF_Crimes_10crop/Videos/Testing_Normal_Videos_Anomaly/Normal_Videos_725_x264__3.mp4\n",
      "비디오 저장 완료: UCF_Crimes_10crop/Videos/Testing_Normal_Videos_Anomaly/Normal_Videos_725_x264__8.mp4\n",
      "<class 'list'>\n",
      "<class 'numpy.ndarray'>\n",
      "(120, 160, 3)\n",
      "비디오 저장 완료: UCF_Crimes_10crop/Videos/Testing_Normal_Videos_Anomaly/Normal_Videos_725_x264__4.mp4\n",
      "비디오 저장 완료: UCF_Crimes_10crop/Videos/Testing_Normal_Videos_Anomaly/Normal_Videos_725_x264__9.mp4\n"
     ]
    },
    {
     "name": "stderr",
     "output_type": "stream",
     "text": [
      "OpenCV: FFMPEG: tag 0x44495658/'XVID' is not supported with codec id 12 and format 'mp4 / MP4 (MPEG-4 Part 14)'\n",
      "OpenCV: FFMPEG: fallback to use tag 0x7634706d/'mp4v'\n",
      "OpenCV: FFMPEG: tag 0x44495658/'XVID' is not supported with codec id 12 and format 'mp4 / MP4 (MPEG-4 Part 14)'\n",
      "OpenCV: FFMPEG: fallback to use tag 0x7634706d/'mp4v'\n"
     ]
    },
    {
     "name": "stdout",
     "output_type": "stream",
     "text": [
      "320   240\n",
      "FPS: 30.0\n",
      "<class 'list'>\n",
      "<class 'numpy.ndarray'>\n",
      "(120, 160, 3)\n"
     ]
    },
    {
     "name": "stderr",
     "output_type": "stream",
     "text": [
      "OpenCV: FFMPEG: tag 0x44495658/'XVID' is not supported with codec id 12 and format 'mp4 / MP4 (MPEG-4 Part 14)'\n",
      "OpenCV: FFMPEG: fallback to use tag 0x7634706d/'mp4v'\n",
      "OpenCV: FFMPEG: tag 0x44495658/'XVID' is not supported with codec id 12 and format 'mp4 / MP4 (MPEG-4 Part 14)'\n",
      "OpenCV: FFMPEG: fallback to use tag 0x7634706d/'mp4v'\n"
     ]
    },
    {
     "name": "stdout",
     "output_type": "stream",
     "text": [
      "비디오 저장 완료: UCF_Crimes_10crop/Videos/Testing_Normal_Videos_Anomaly/Normal_Videos_196_x264__0.mp4\n",
      "비디오 저장 완료: UCF_Crimes_10crop/Videos/Testing_Normal_Videos_Anomaly/Normal_Videos_196_x264__5.mp4\n",
      "<class 'list'>\n",
      "<class 'numpy.ndarray'>\n",
      "(120, 160, 3)\n"
     ]
    },
    {
     "name": "stderr",
     "output_type": "stream",
     "text": [
      "OpenCV: FFMPEG: tag 0x44495658/'XVID' is not supported with codec id 12 and format 'mp4 / MP4 (MPEG-4 Part 14)'\n",
      "OpenCV: FFMPEG: fallback to use tag 0x7634706d/'mp4v'\n",
      "OpenCV: FFMPEG: tag 0x44495658/'XVID' is not supported with codec id 12 and format 'mp4 / MP4 (MPEG-4 Part 14)'\n",
      "OpenCV: FFMPEG: fallback to use tag 0x7634706d/'mp4v'\n"
     ]
    },
    {
     "name": "stdout",
     "output_type": "stream",
     "text": [
      "비디오 저장 완료: UCF_Crimes_10crop/Videos/Testing_Normal_Videos_Anomaly/Normal_Videos_196_x264__1.mp4\n",
      "비디오 저장 완료: UCF_Crimes_10crop/Videos/Testing_Normal_Videos_Anomaly/Normal_Videos_196_x264__6.mp4\n",
      "<class 'list'>\n",
      "<class 'numpy.ndarray'>\n",
      "(120, 160, 3)\n"
     ]
    },
    {
     "name": "stderr",
     "output_type": "stream",
     "text": [
      "OpenCV: FFMPEG: tag 0x44495658/'XVID' is not supported with codec id 12 and format 'mp4 / MP4 (MPEG-4 Part 14)'\n",
      "OpenCV: FFMPEG: fallback to use tag 0x7634706d/'mp4v'\n",
      "OpenCV: FFMPEG: tag 0x44495658/'XVID' is not supported with codec id 12 and format 'mp4 / MP4 (MPEG-4 Part 14)'\n",
      "OpenCV: FFMPEG: fallback to use tag 0x7634706d/'mp4v'\n"
     ]
    },
    {
     "name": "stdout",
     "output_type": "stream",
     "text": [
      "비디오 저장 완료: UCF_Crimes_10crop/Videos/Testing_Normal_Videos_Anomaly/Normal_Videos_196_x264__2.mp4\n",
      "비디오 저장 완료: UCF_Crimes_10crop/Videos/Testing_Normal_Videos_Anomaly/Normal_Videos_196_x264__7.mp4\n",
      "<class 'list'>\n",
      "<class 'numpy.ndarray'>\n",
      "(120, 160, 3)\n"
     ]
    },
    {
     "name": "stderr",
     "output_type": "stream",
     "text": [
      "OpenCV: FFMPEG: tag 0x44495658/'XVID' is not supported with codec id 12 and format 'mp4 / MP4 (MPEG-4 Part 14)'\n",
      "OpenCV: FFMPEG: fallback to use tag 0x7634706d/'mp4v'\n",
      "OpenCV: FFMPEG: tag 0x44495658/'XVID' is not supported with codec id 12 and format 'mp4 / MP4 (MPEG-4 Part 14)'\n",
      "OpenCV: FFMPEG: fallback to use tag 0x7634706d/'mp4v'\n"
     ]
    },
    {
     "name": "stdout",
     "output_type": "stream",
     "text": [
      "비디오 저장 완료: UCF_Crimes_10crop/Videos/Testing_Normal_Videos_Anomaly/Normal_Videos_196_x264__3.mp4\n",
      "비디오 저장 완료: UCF_Crimes_10crop/Videos/Testing_Normal_Videos_Anomaly/Normal_Videos_196_x264__8.mp4\n",
      "<class 'list'>\n",
      "<class 'numpy.ndarray'>\n",
      "(120, 160, 3)\n"
     ]
    },
    {
     "name": "stderr",
     "output_type": "stream",
     "text": [
      "OpenCV: FFMPEG: tag 0x44495658/'XVID' is not supported with codec id 12 and format 'mp4 / MP4 (MPEG-4 Part 14)'\n",
      "OpenCV: FFMPEG: fallback to use tag 0x7634706d/'mp4v'\n",
      "OpenCV: FFMPEG: tag 0x44495658/'XVID' is not supported with codec id 12 and format 'mp4 / MP4 (MPEG-4 Part 14)'\n",
      "OpenCV: FFMPEG: fallback to use tag 0x7634706d/'mp4v'\n"
     ]
    },
    {
     "name": "stdout",
     "output_type": "stream",
     "text": [
      "비디오 저장 완료: UCF_Crimes_10crop/Videos/Testing_Normal_Videos_Anomaly/Normal_Videos_196_x264__4.mp4\n",
      "비디오 저장 완료: UCF_Crimes_10crop/Videos/Testing_Normal_Videos_Anomaly/Normal_Videos_196_x264__9.mp4\n",
      "320   240\n",
      "FPS: 30.0\n",
      "<class 'list'>\n",
      "<class 'numpy.ndarray'>\n",
      "(120, 160, 3)\n"
     ]
    },
    {
     "name": "stderr",
     "output_type": "stream",
     "text": [
      "OpenCV: FFMPEG: tag 0x44495658/'XVID' is not supported with codec id 12 and format 'mp4 / MP4 (MPEG-4 Part 14)'\n",
      "OpenCV: FFMPEG: fallback to use tag 0x7634706d/'mp4v'\n",
      "OpenCV: FFMPEG: tag 0x44495658/'XVID' is not supported with codec id 12 and format 'mp4 / MP4 (MPEG-4 Part 14)'\n",
      "OpenCV: FFMPEG: fallback to use tag 0x7634706d/'mp4v'\n"
     ]
    },
    {
     "name": "stdout",
     "output_type": "stream",
     "text": [
      "비디오 저장 완료: UCF_Crimes_10crop/Videos/Testing_Normal_Videos_Anomaly/Normal_Videos_696_x264__0.mp4\n",
      "비디오 저장 완료: UCF_Crimes_10crop/Videos/Testing_Normal_Videos_Anomaly/Normal_Videos_696_x264__5.mp4\n",
      "<class 'list'>\n",
      "<class 'numpy.ndarray'>\n",
      "(120, 160, 3)\n"
     ]
    },
    {
     "name": "stderr",
     "output_type": "stream",
     "text": [
      "OpenCV: FFMPEG: tag 0x44495658/'XVID' is not supported with codec id 12 and format 'mp4 / MP4 (MPEG-4 Part 14)'\n",
      "OpenCV: FFMPEG: fallback to use tag 0x7634706d/'mp4v'\n",
      "OpenCV: FFMPEG: tag 0x44495658/'XVID' is not supported with codec id 12 and format 'mp4 / MP4 (MPEG-4 Part 14)'\n",
      "OpenCV: FFMPEG: fallback to use tag 0x7634706d/'mp4v'\n"
     ]
    },
    {
     "name": "stdout",
     "output_type": "stream",
     "text": [
      "비디오 저장 완료: UCF_Crimes_10crop/Videos/Testing_Normal_Videos_Anomaly/Normal_Videos_696_x264__1.mp4\n",
      "비디오 저장 완료: UCF_Crimes_10crop/Videos/Testing_Normal_Videos_Anomaly/Normal_Videos_696_x264__6.mp4\n",
      "<class 'list'>\n",
      "<class 'numpy.ndarray'>\n",
      "(120, 160, 3)\n"
     ]
    },
    {
     "name": "stderr",
     "output_type": "stream",
     "text": [
      "OpenCV: FFMPEG: tag 0x44495658/'XVID' is not supported with codec id 12 and format 'mp4 / MP4 (MPEG-4 Part 14)'\n",
      "OpenCV: FFMPEG: fallback to use tag 0x7634706d/'mp4v'\n",
      "OpenCV: FFMPEG: tag 0x44495658/'XVID' is not supported with codec id 12 and format 'mp4 / MP4 (MPEG-4 Part 14)'\n",
      "OpenCV: FFMPEG: fallback to use tag 0x7634706d/'mp4v'\n"
     ]
    },
    {
     "name": "stdout",
     "output_type": "stream",
     "text": [
      "비디오 저장 완료: UCF_Crimes_10crop/Videos/Testing_Normal_Videos_Anomaly/Normal_Videos_696_x264__2.mp4\n",
      "비디오 저장 완료: UCF_Crimes_10crop/Videos/Testing_Normal_Videos_Anomaly/Normal_Videos_696_x264__7.mp4\n",
      "<class 'list'>\n",
      "<class 'numpy.ndarray'>\n",
      "(120, 160, 3)\n"
     ]
    },
    {
     "name": "stderr",
     "output_type": "stream",
     "text": [
      "OpenCV: FFMPEG: tag 0x44495658/'XVID' is not supported with codec id 12 and format 'mp4 / MP4 (MPEG-4 Part 14)'\n",
      "OpenCV: FFMPEG: fallback to use tag 0x7634706d/'mp4v'\n",
      "OpenCV: FFMPEG: tag 0x44495658/'XVID' is not supported with codec id 12 and format 'mp4 / MP4 (MPEG-4 Part 14)'\n",
      "OpenCV: FFMPEG: fallback to use tag 0x7634706d/'mp4v'\n"
     ]
    },
    {
     "name": "stdout",
     "output_type": "stream",
     "text": [
      "비디오 저장 완료: UCF_Crimes_10crop/Videos/Testing_Normal_Videos_Anomaly/Normal_Videos_696_x264__3.mp4\n",
      "비디오 저장 완료: UCF_Crimes_10crop/Videos/Testing_Normal_Videos_Anomaly/Normal_Videos_696_x264__8.mp4\n",
      "<class 'list'>\n",
      "<class 'numpy.ndarray'>\n",
      "(120, 160, 3)\n"
     ]
    },
    {
     "name": "stderr",
     "output_type": "stream",
     "text": [
      "OpenCV: FFMPEG: tag 0x44495658/'XVID' is not supported with codec id 12 and format 'mp4 / MP4 (MPEG-4 Part 14)'\n",
      "OpenCV: FFMPEG: fallback to use tag 0x7634706d/'mp4v'\n",
      "OpenCV: FFMPEG: tag 0x44495658/'XVID' is not supported with codec id 12 and format 'mp4 / MP4 (MPEG-4 Part 14)'\n",
      "OpenCV: FFMPEG: fallback to use tag 0x7634706d/'mp4v'\n"
     ]
    },
    {
     "name": "stdout",
     "output_type": "stream",
     "text": [
      "비디오 저장 완료: UCF_Crimes_10crop/Videos/Testing_Normal_Videos_Anomaly/Normal_Videos_696_x264__4.mp4\n",
      "비디오 저장 완료: UCF_Crimes_10crop/Videos/Testing_Normal_Videos_Anomaly/Normal_Videos_696_x264__9.mp4\n",
      "320   240\n",
      "FPS: 30.0\n",
      "<class 'list'>\n",
      "<class 'numpy.ndarray'>\n",
      "(120, 160, 3)\n"
     ]
    },
    {
     "name": "stderr",
     "output_type": "stream",
     "text": [
      "OpenCV: FFMPEG: tag 0x44495658/'XVID' is not supported with codec id 12 and format 'mp4 / MP4 (MPEG-4 Part 14)'\n",
      "OpenCV: FFMPEG: fallback to use tag 0x7634706d/'mp4v'\n",
      "OpenCV: FFMPEG: tag 0x44495658/'XVID' is not supported with codec id 12 and format 'mp4 / MP4 (MPEG-4 Part 14)'\n",
      "OpenCV: FFMPEG: fallback to use tag 0x7634706d/'mp4v'\n"
     ]
    },
    {
     "name": "stdout",
     "output_type": "stream",
     "text": [
      "비디오 저장 완료: UCF_Crimes_10crop/Videos/Testing_Normal_Videos_Anomaly/Normal_Videos_310_x264__0.mp4\n",
      "비디오 저장 완료: UCF_Crimes_10crop/Videos/Testing_Normal_Videos_Anomaly/Normal_Videos_310_x264__5.mp4\n",
      "<class 'list'>\n",
      "<class 'numpy.ndarray'>\n",
      "(120, 160, 3)\n"
     ]
    },
    {
     "name": "stderr",
     "output_type": "stream",
     "text": [
      "OpenCV: FFMPEG: tag 0x44495658/'XVID' is not supported with codec id 12 and format 'mp4 / MP4 (MPEG-4 Part 14)'\n",
      "OpenCV: FFMPEG: fallback to use tag 0x7634706d/'mp4v'\n",
      "OpenCV: FFMPEG: tag 0x44495658/'XVID' is not supported with codec id 12 and format 'mp4 / MP4 (MPEG-4 Part 14)'\n",
      "OpenCV: FFMPEG: fallback to use tag 0x7634706d/'mp4v'\n"
     ]
    },
    {
     "name": "stdout",
     "output_type": "stream",
     "text": [
      "비디오 저장 완료: UCF_Crimes_10crop/Videos/Testing_Normal_Videos_Anomaly/Normal_Videos_310_x264__1.mp4\n",
      "비디오 저장 완료: UCF_Crimes_10crop/Videos/Testing_Normal_Videos_Anomaly/Normal_Videos_310_x264__6.mp4\n",
      "<class 'list'>\n",
      "<class 'numpy.ndarray'>\n",
      "(120, 160, 3)\n"
     ]
    },
    {
     "name": "stderr",
     "output_type": "stream",
     "text": [
      "OpenCV: FFMPEG: tag 0x44495658/'XVID' is not supported with codec id 12 and format 'mp4 / MP4 (MPEG-4 Part 14)'\n",
      "OpenCV: FFMPEG: fallback to use tag 0x7634706d/'mp4v'\n",
      "OpenCV: FFMPEG: tag 0x44495658/'XVID' is not supported with codec id 12 and format 'mp4 / MP4 (MPEG-4 Part 14)'\n",
      "OpenCV: FFMPEG: fallback to use tag 0x7634706d/'mp4v'\n"
     ]
    },
    {
     "name": "stdout",
     "output_type": "stream",
     "text": [
      "비디오 저장 완료: UCF_Crimes_10crop/Videos/Testing_Normal_Videos_Anomaly/Normal_Videos_310_x264__2.mp4\n",
      "비디오 저장 완료: UCF_Crimes_10crop/Videos/Testing_Normal_Videos_Anomaly/Normal_Videos_310_x264__7.mp4\n",
      "<class 'list'>\n",
      "<class 'numpy.ndarray'>\n",
      "(120, 160, 3)\n"
     ]
    },
    {
     "name": "stderr",
     "output_type": "stream",
     "text": [
      "OpenCV: FFMPEG: tag 0x44495658/'XVID' is not supported with codec id 12 and format 'mp4 / MP4 (MPEG-4 Part 14)'\n",
      "OpenCV: FFMPEG: fallback to use tag 0x7634706d/'mp4v'\n",
      "OpenCV: FFMPEG: tag 0x44495658/'XVID' is not supported with codec id 12 and format 'mp4 / MP4 (MPEG-4 Part 14)'\n",
      "OpenCV: FFMPEG: fallback to use tag 0x7634706d/'mp4v'\n"
     ]
    },
    {
     "name": "stdout",
     "output_type": "stream",
     "text": [
      "비디오 저장 완료: UCF_Crimes_10crop/Videos/Testing_Normal_Videos_Anomaly/Normal_Videos_310_x264__3.mp4\n",
      "비디오 저장 완료: UCF_Crimes_10crop/Videos/Testing_Normal_Videos_Anomaly/Normal_Videos_310_x264__8.mp4\n",
      "<class 'list'>\n",
      "<class 'numpy.ndarray'>\n",
      "(120, 160, 3)\n"
     ]
    },
    {
     "name": "stderr",
     "output_type": "stream",
     "text": [
      "OpenCV: FFMPEG: tag 0x44495658/'XVID' is not supported with codec id 12 and format 'mp4 / MP4 (MPEG-4 Part 14)'\n",
      "OpenCV: FFMPEG: fallback to use tag 0x7634706d/'mp4v'\n",
      "OpenCV: FFMPEG: tag 0x44495658/'XVID' is not supported with codec id 12 and format 'mp4 / MP4 (MPEG-4 Part 14)'\n",
      "OpenCV: FFMPEG: fallback to use tag 0x7634706d/'mp4v'\n"
     ]
    },
    {
     "name": "stdout",
     "output_type": "stream",
     "text": [
      "비디오 저장 완료: UCF_Crimes_10crop/Videos/Testing_Normal_Videos_Anomaly/Normal_Videos_310_x264__4.mp4\n",
      "비디오 저장 완료: UCF_Crimes_10crop/Videos/Testing_Normal_Videos_Anomaly/Normal_Videos_310_x264__9.mp4\n",
      "320   240\n",
      "FPS: 30.0\n",
      "<class 'list'>\n",
      "<class 'numpy.ndarray'>\n",
      "(120, 160, 3)\n"
     ]
    },
    {
     "name": "stderr",
     "output_type": "stream",
     "text": [
      "OpenCV: FFMPEG: tag 0x44495658/'XVID' is not supported with codec id 12 and format 'mp4 / MP4 (MPEG-4 Part 14)'\n",
      "OpenCV: FFMPEG: fallback to use tag 0x7634706d/'mp4v'\n",
      "OpenCV: FFMPEG: tag 0x44495658/'XVID' is not supported with codec id 12 and format 'mp4 / MP4 (MPEG-4 Part 14)'\n",
      "OpenCV: FFMPEG: fallback to use tag 0x7634706d/'mp4v'\n"
     ]
    },
    {
     "name": "stdout",
     "output_type": "stream",
     "text": [
      "비디오 저장 완료: UCF_Crimes_10crop/Videos/Testing_Normal_Videos_Anomaly/Normal_Videos_895_x264__0.mp4\n",
      "비디오 저장 완료: UCF_Crimes_10crop/Videos/Testing_Normal_Videos_Anomaly/Normal_Videos_895_x264__5.mp4\n",
      "<class 'list'>\n",
      "<class 'numpy.ndarray'>\n",
      "(120, 160, 3)\n"
     ]
    },
    {
     "name": "stderr",
     "output_type": "stream",
     "text": [
      "OpenCV: FFMPEG: tag 0x44495658/'XVID' is not supported with codec id 12 and format 'mp4 / MP4 (MPEG-4 Part 14)'\n",
      "OpenCV: FFMPEG: fallback to use tag 0x7634706d/'mp4v'\n",
      "OpenCV: FFMPEG: tag 0x44495658/'XVID' is not supported with codec id 12 and format 'mp4 / MP4 (MPEG-4 Part 14)'\n",
      "OpenCV: FFMPEG: fallback to use tag 0x7634706d/'mp4v'\n"
     ]
    },
    {
     "name": "stdout",
     "output_type": "stream",
     "text": [
      "비디오 저장 완료: UCF_Crimes_10crop/Videos/Testing_Normal_Videos_Anomaly/Normal_Videos_895_x264__1.mp4\n",
      "비디오 저장 완료: UCF_Crimes_10crop/Videos/Testing_Normal_Videos_Anomaly/Normal_Videos_895_x264__6.mp4\n",
      "<class 'list'>\n",
      "<class 'numpy.ndarray'>\n",
      "(120, 160, 3)\n"
     ]
    },
    {
     "name": "stderr",
     "output_type": "stream",
     "text": [
      "OpenCV: FFMPEG: tag 0x44495658/'XVID' is not supported with codec id 12 and format 'mp4 / MP4 (MPEG-4 Part 14)'\n",
      "OpenCV: FFMPEG: fallback to use tag 0x7634706d/'mp4v'\n",
      "OpenCV: FFMPEG: tag 0x44495658/'XVID' is not supported with codec id 12 and format 'mp4 / MP4 (MPEG-4 Part 14)'\n",
      "OpenCV: FFMPEG: fallback to use tag 0x7634706d/'mp4v'\n"
     ]
    },
    {
     "name": "stdout",
     "output_type": "stream",
     "text": [
      "비디오 저장 완료: UCF_Crimes_10crop/Videos/Testing_Normal_Videos_Anomaly/Normal_Videos_895_x264__2.mp4\n",
      "비디오 저장 완료: UCF_Crimes_10crop/Videos/Testing_Normal_Videos_Anomaly/Normal_Videos_895_x264__7.mp4\n",
      "<class 'list'>\n",
      "<class 'numpy.ndarray'>\n",
      "(120, 160, 3)\n"
     ]
    },
    {
     "name": "stderr",
     "output_type": "stream",
     "text": [
      "OpenCV: FFMPEG: tag 0x44495658/'XVID' is not supported with codec id 12 and format 'mp4 / MP4 (MPEG-4 Part 14)'\n",
      "OpenCV: FFMPEG: fallback to use tag 0x7634706d/'mp4v'\n",
      "OpenCV: FFMPEG: tag 0x44495658/'XVID' is not supported with codec id 12 and format 'mp4 / MP4 (MPEG-4 Part 14)'\n",
      "OpenCV: FFMPEG: fallback to use tag 0x7634706d/'mp4v'\n"
     ]
    },
    {
     "name": "stdout",
     "output_type": "stream",
     "text": [
      "비디오 저장 완료: UCF_Crimes_10crop/Videos/Testing_Normal_Videos_Anomaly/Normal_Videos_895_x264__3.mp4\n",
      "비디오 저장 완료: UCF_Crimes_10crop/Videos/Testing_Normal_Videos_Anomaly/Normal_Videos_895_x264__8.mp4\n",
      "<class 'list'>\n",
      "<class 'numpy.ndarray'>\n",
      "(120, 160, 3)\n"
     ]
    },
    {
     "name": "stderr",
     "output_type": "stream",
     "text": [
      "OpenCV: FFMPEG: tag 0x44495658/'XVID' is not supported with codec id 12 and format 'mp4 / MP4 (MPEG-4 Part 14)'\n",
      "OpenCV: FFMPEG: fallback to use tag 0x7634706d/'mp4v'\n",
      "OpenCV: FFMPEG: tag 0x44495658/'XVID' is not supported with codec id 12 and format 'mp4 / MP4 (MPEG-4 Part 14)'\n",
      "OpenCV: FFMPEG: fallback to use tag 0x7634706d/'mp4v'\n"
     ]
    },
    {
     "name": "stdout",
     "output_type": "stream",
     "text": [
      "비디오 저장 완료: UCF_Crimes_10crop/Videos/Testing_Normal_Videos_Anomaly/Normal_Videos_895_x264__4.mp4\n",
      "비디오 저장 완료: UCF_Crimes_10crop/Videos/Testing_Normal_Videos_Anomaly/Normal_Videos_895_x264__9.mp4\n",
      "320   240\n",
      "FPS: 30.0\n",
      "<class 'list'>\n",
      "<class 'numpy.ndarray'>\n",
      "(120, 160, 3)\n",
      "비디오 저장 완료: UCF_Crimes_10crop/Videos/Testing_Normal_Videos_Anomaly/Normal_Videos_100_x264__0.mp4\n",
      "비디오 저장 완료: UCF_Crimes_10crop/Videos/Testing_Normal_Videos_Anomaly/Normal_Videos_100_x264__5.mp4\n",
      "<class 'list'>\n",
      "<class 'numpy.ndarray'>\n",
      "(120, 160, 3)\n"
     ]
    },
    {
     "name": "stderr",
     "output_type": "stream",
     "text": [
      "OpenCV: FFMPEG: tag 0x44495658/'XVID' is not supported with codec id 12 and format 'mp4 / MP4 (MPEG-4 Part 14)'\n",
      "OpenCV: FFMPEG: fallback to use tag 0x7634706d/'mp4v'\n",
      "OpenCV: FFMPEG: tag 0x44495658/'XVID' is not supported with codec id 12 and format 'mp4 / MP4 (MPEG-4 Part 14)'\n",
      "OpenCV: FFMPEG: fallback to use tag 0x7634706d/'mp4v'\n",
      "OpenCV: FFMPEG: tag 0x44495658/'XVID' is not supported with codec id 12 and format 'mp4 / MP4 (MPEG-4 Part 14)'\n",
      "OpenCV: FFMPEG: fallback to use tag 0x7634706d/'mp4v'\n",
      "OpenCV: FFMPEG: tag 0x44495658/'XVID' is not supported with codec id 12 and format 'mp4 / MP4 (MPEG-4 Part 14)'\n",
      "OpenCV: FFMPEG: fallback to use tag 0x7634706d/'mp4v'\n"
     ]
    },
    {
     "name": "stdout",
     "output_type": "stream",
     "text": [
      "비디오 저장 완료: UCF_Crimes_10crop/Videos/Testing_Normal_Videos_Anomaly/Normal_Videos_100_x264__1.mp4\n",
      "비디오 저장 완료: UCF_Crimes_10crop/Videos/Testing_Normal_Videos_Anomaly/Normal_Videos_100_x264__6.mp4\n",
      "<class 'list'>\n",
      "<class 'numpy.ndarray'>\n",
      "(120, 160, 3)\n",
      "비디오 저장 완료: UCF_Crimes_10crop/Videos/Testing_Normal_Videos_Anomaly/Normal_Videos_100_x264__2.mp4\n",
      "비디오 저장 완료: UCF_Crimes_10crop/Videos/Testing_Normal_Videos_Anomaly/Normal_Videos_100_x264__7.mp4\n",
      "<class 'list'>\n",
      "<class 'numpy.ndarray'>\n",
      "(120, 160, 3)\n"
     ]
    },
    {
     "name": "stderr",
     "output_type": "stream",
     "text": [
      "OpenCV: FFMPEG: tag 0x44495658/'XVID' is not supported with codec id 12 and format 'mp4 / MP4 (MPEG-4 Part 14)'\n",
      "OpenCV: FFMPEG: fallback to use tag 0x7634706d/'mp4v'\n",
      "OpenCV: FFMPEG: tag 0x44495658/'XVID' is not supported with codec id 12 and format 'mp4 / MP4 (MPEG-4 Part 14)'\n",
      "OpenCV: FFMPEG: fallback to use tag 0x7634706d/'mp4v'\n",
      "OpenCV: FFMPEG: tag 0x44495658/'XVID' is not supported with codec id 12 and format 'mp4 / MP4 (MPEG-4 Part 14)'\n",
      "OpenCV: FFMPEG: fallback to use tag 0x7634706d/'mp4v'\n",
      "OpenCV: FFMPEG: tag 0x44495658/'XVID' is not supported with codec id 12 and format 'mp4 / MP4 (MPEG-4 Part 14)'\n",
      "OpenCV: FFMPEG: fallback to use tag 0x7634706d/'mp4v'\n"
     ]
    },
    {
     "name": "stdout",
     "output_type": "stream",
     "text": [
      "비디오 저장 완료: UCF_Crimes_10crop/Videos/Testing_Normal_Videos_Anomaly/Normal_Videos_100_x264__3.mp4\n",
      "비디오 저장 완료: UCF_Crimes_10crop/Videos/Testing_Normal_Videos_Anomaly/Normal_Videos_100_x264__8.mp4\n",
      "<class 'list'>\n",
      "<class 'numpy.ndarray'>\n",
      "(120, 160, 3)\n",
      "비디오 저장 완료: UCF_Crimes_10crop/Videos/Testing_Normal_Videos_Anomaly/Normal_Videos_100_x264__4.mp4\n",
      "비디오 저장 완료: UCF_Crimes_10crop/Videos/Testing_Normal_Videos_Anomaly/Normal_Videos_100_x264__9.mp4\n"
     ]
    },
    {
     "name": "stderr",
     "output_type": "stream",
     "text": [
      "OpenCV: FFMPEG: tag 0x44495658/'XVID' is not supported with codec id 12 and format 'mp4 / MP4 (MPEG-4 Part 14)'\n",
      "OpenCV: FFMPEG: fallback to use tag 0x7634706d/'mp4v'\n",
      "OpenCV: FFMPEG: tag 0x44495658/'XVID' is not supported with codec id 12 and format 'mp4 / MP4 (MPEG-4 Part 14)'\n",
      "OpenCV: FFMPEG: fallback to use tag 0x7634706d/'mp4v'\n"
     ]
    },
    {
     "name": "stdout",
     "output_type": "stream",
     "text": [
      "320   240\n",
      "FPS: 30.0\n",
      "<class 'list'>\n",
      "<class 'numpy.ndarray'>\n",
      "(120, 160, 3)\n"
     ]
    },
    {
     "name": "stderr",
     "output_type": "stream",
     "text": [
      "OpenCV: FFMPEG: tag 0x44495658/'XVID' is not supported with codec id 12 and format 'mp4 / MP4 (MPEG-4 Part 14)'\n",
      "OpenCV: FFMPEG: fallback to use tag 0x7634706d/'mp4v'\n",
      "OpenCV: FFMPEG: tag 0x44495658/'XVID' is not supported with codec id 12 and format 'mp4 / MP4 (MPEG-4 Part 14)'\n",
      "OpenCV: FFMPEG: fallback to use tag 0x7634706d/'mp4v'\n"
     ]
    },
    {
     "name": "stdout",
     "output_type": "stream",
     "text": [
      "비디오 저장 완료: UCF_Crimes_10crop/Videos/Testing_Normal_Videos_Anomaly/Normal_Videos_891_x264__0.mp4\n",
      "비디오 저장 완료: UCF_Crimes_10crop/Videos/Testing_Normal_Videos_Anomaly/Normal_Videos_891_x264__5.mp4\n",
      "<class 'list'>\n",
      "<class 'numpy.ndarray'>\n",
      "(120, 160, 3)\n"
     ]
    },
    {
     "name": "stderr",
     "output_type": "stream",
     "text": [
      "OpenCV: FFMPEG: tag 0x44495658/'XVID' is not supported with codec id 12 and format 'mp4 / MP4 (MPEG-4 Part 14)'\n",
      "OpenCV: FFMPEG: fallback to use tag 0x7634706d/'mp4v'\n",
      "OpenCV: FFMPEG: tag 0x44495658/'XVID' is not supported with codec id 12 and format 'mp4 / MP4 (MPEG-4 Part 14)'\n",
      "OpenCV: FFMPEG: fallback to use tag 0x7634706d/'mp4v'\n"
     ]
    },
    {
     "name": "stdout",
     "output_type": "stream",
     "text": [
      "비디오 저장 완료: UCF_Crimes_10crop/Videos/Testing_Normal_Videos_Anomaly/Normal_Videos_891_x264__1.mp4\n",
      "비디오 저장 완료: UCF_Crimes_10crop/Videos/Testing_Normal_Videos_Anomaly/Normal_Videos_891_x264__6.mp4\n",
      "<class 'list'>\n",
      "<class 'numpy.ndarray'>\n",
      "(120, 160, 3)\n"
     ]
    },
    {
     "name": "stderr",
     "output_type": "stream",
     "text": [
      "OpenCV: FFMPEG: tag 0x44495658/'XVID' is not supported with codec id 12 and format 'mp4 / MP4 (MPEG-4 Part 14)'\n",
      "OpenCV: FFMPEG: fallback to use tag 0x7634706d/'mp4v'\n",
      "OpenCV: FFMPEG: tag 0x44495658/'XVID' is not supported with codec id 12 and format 'mp4 / MP4 (MPEG-4 Part 14)'\n",
      "OpenCV: FFMPEG: fallback to use tag 0x7634706d/'mp4v'\n"
     ]
    },
    {
     "name": "stdout",
     "output_type": "stream",
     "text": [
      "비디오 저장 완료: UCF_Crimes_10crop/Videos/Testing_Normal_Videos_Anomaly/Normal_Videos_891_x264__2.mp4\n",
      "비디오 저장 완료: UCF_Crimes_10crop/Videos/Testing_Normal_Videos_Anomaly/Normal_Videos_891_x264__7.mp4\n",
      "<class 'list'>\n",
      "<class 'numpy.ndarray'>\n",
      "(120, 160, 3)\n"
     ]
    },
    {
     "name": "stderr",
     "output_type": "stream",
     "text": [
      "OpenCV: FFMPEG: tag 0x44495658/'XVID' is not supported with codec id 12 and format 'mp4 / MP4 (MPEG-4 Part 14)'\n",
      "OpenCV: FFMPEG: fallback to use tag 0x7634706d/'mp4v'\n",
      "OpenCV: FFMPEG: tag 0x44495658/'XVID' is not supported with codec id 12 and format 'mp4 / MP4 (MPEG-4 Part 14)'\n",
      "OpenCV: FFMPEG: fallback to use tag 0x7634706d/'mp4v'\n"
     ]
    },
    {
     "name": "stdout",
     "output_type": "stream",
     "text": [
      "비디오 저장 완료: UCF_Crimes_10crop/Videos/Testing_Normal_Videos_Anomaly/Normal_Videos_891_x264__3.mp4\n",
      "비디오 저장 완료: UCF_Crimes_10crop/Videos/Testing_Normal_Videos_Anomaly/Normal_Videos_891_x264__8.mp4\n",
      "<class 'list'>\n",
      "<class 'numpy.ndarray'>\n",
      "(120, 160, 3)\n"
     ]
    },
    {
     "name": "stderr",
     "output_type": "stream",
     "text": [
      "OpenCV: FFMPEG: tag 0x44495658/'XVID' is not supported with codec id 12 and format 'mp4 / MP4 (MPEG-4 Part 14)'\n",
      "OpenCV: FFMPEG: fallback to use tag 0x7634706d/'mp4v'\n",
      "OpenCV: FFMPEG: tag 0x44495658/'XVID' is not supported with codec id 12 and format 'mp4 / MP4 (MPEG-4 Part 14)'\n",
      "OpenCV: FFMPEG: fallback to use tag 0x7634706d/'mp4v'\n"
     ]
    },
    {
     "name": "stdout",
     "output_type": "stream",
     "text": [
      "비디오 저장 완료: UCF_Crimes_10crop/Videos/Testing_Normal_Videos_Anomaly/Normal_Videos_891_x264__4.mp4\n",
      "비디오 저장 완료: UCF_Crimes_10crop/Videos/Testing_Normal_Videos_Anomaly/Normal_Videos_891_x264__9.mp4\n",
      "320   240\n",
      "FPS: 30.0\n",
      "<class 'list'>\n",
      "<class 'numpy.ndarray'>\n",
      "(120, 160, 3)\n",
      "비디오 저장 완료: UCF_Crimes_10crop/Videos/Testing_Normal_Videos_Anomaly/Normal_Videos_070_x264__0.mp4\n",
      "비디오 저장 완료: UCF_Crimes_10crop/Videos/Testing_Normal_Videos_Anomaly/Normal_Videos_070_x264__5.mp4\n",
      "<class 'list'>\n",
      "<class 'numpy.ndarray'>\n",
      "(120, 160, 3)\n"
     ]
    },
    {
     "name": "stderr",
     "output_type": "stream",
     "text": [
      "OpenCV: FFMPEG: tag 0x44495658/'XVID' is not supported with codec id 12 and format 'mp4 / MP4 (MPEG-4 Part 14)'\n",
      "OpenCV: FFMPEG: fallback to use tag 0x7634706d/'mp4v'\n",
      "OpenCV: FFMPEG: tag 0x44495658/'XVID' is not supported with codec id 12 and format 'mp4 / MP4 (MPEG-4 Part 14)'\n",
      "OpenCV: FFMPEG: fallback to use tag 0x7634706d/'mp4v'\n",
      "OpenCV: FFMPEG: tag 0x44495658/'XVID' is not supported with codec id 12 and format 'mp4 / MP4 (MPEG-4 Part 14)'\n",
      "OpenCV: FFMPEG: fallback to use tag 0x7634706d/'mp4v'\n",
      "OpenCV: FFMPEG: tag 0x44495658/'XVID' is not supported with codec id 12 and format 'mp4 / MP4 (MPEG-4 Part 14)'\n",
      "OpenCV: FFMPEG: fallback to use tag 0x7634706d/'mp4v'\n"
     ]
    },
    {
     "name": "stdout",
     "output_type": "stream",
     "text": [
      "비디오 저장 완료: UCF_Crimes_10crop/Videos/Testing_Normal_Videos_Anomaly/Normal_Videos_070_x264__1.mp4\n",
      "비디오 저장 완료: UCF_Crimes_10crop/Videos/Testing_Normal_Videos_Anomaly/Normal_Videos_070_x264__6.mp4\n",
      "<class 'list'>\n",
      "<class 'numpy.ndarray'>\n",
      "(120, 160, 3)\n",
      "비디오 저장 완료: UCF_Crimes_10crop/Videos/Testing_Normal_Videos_Anomaly/Normal_Videos_070_x264__2.mp4\n",
      "비디오 저장 완료: UCF_Crimes_10crop/Videos/Testing_Normal_Videos_Anomaly/Normal_Videos_070_x264__7.mp4\n",
      "<class 'list'>\n",
      "<class 'numpy.ndarray'>\n",
      "(120, 160, 3)\n"
     ]
    },
    {
     "name": "stderr",
     "output_type": "stream",
     "text": [
      "OpenCV: FFMPEG: tag 0x44495658/'XVID' is not supported with codec id 12 and format 'mp4 / MP4 (MPEG-4 Part 14)'\n",
      "OpenCV: FFMPEG: fallback to use tag 0x7634706d/'mp4v'\n",
      "OpenCV: FFMPEG: tag 0x44495658/'XVID' is not supported with codec id 12 and format 'mp4 / MP4 (MPEG-4 Part 14)'\n",
      "OpenCV: FFMPEG: fallback to use tag 0x7634706d/'mp4v'\n",
      "OpenCV: FFMPEG: tag 0x44495658/'XVID' is not supported with codec id 12 and format 'mp4 / MP4 (MPEG-4 Part 14)'\n",
      "OpenCV: FFMPEG: fallback to use tag 0x7634706d/'mp4v'\n",
      "OpenCV: FFMPEG: tag 0x44495658/'XVID' is not supported with codec id 12 and format 'mp4 / MP4 (MPEG-4 Part 14)'\n",
      "OpenCV: FFMPEG: fallback to use tag 0x7634706d/'mp4v'\n"
     ]
    },
    {
     "name": "stdout",
     "output_type": "stream",
     "text": [
      "비디오 저장 완료: UCF_Crimes_10crop/Videos/Testing_Normal_Videos_Anomaly/Normal_Videos_070_x264__3.mp4\n",
      "비디오 저장 완료: UCF_Crimes_10crop/Videos/Testing_Normal_Videos_Anomaly/Normal_Videos_070_x264__8.mp4\n",
      "<class 'list'>\n",
      "<class 'numpy.ndarray'>\n",
      "(120, 160, 3)\n",
      "비디오 저장 완료: UCF_Crimes_10crop/Videos/Testing_Normal_Videos_Anomaly/Normal_Videos_070_x264__4.mp4\n",
      "비디오 저장 완료: UCF_Crimes_10crop/Videos/Testing_Normal_Videos_Anomaly/Normal_Videos_070_x264__9.mp4\n"
     ]
    },
    {
     "name": "stderr",
     "output_type": "stream",
     "text": [
      "OpenCV: FFMPEG: tag 0x44495658/'XVID' is not supported with codec id 12 and format 'mp4 / MP4 (MPEG-4 Part 14)'\n",
      "OpenCV: FFMPEG: fallback to use tag 0x7634706d/'mp4v'\n",
      "OpenCV: FFMPEG: tag 0x44495658/'XVID' is not supported with codec id 12 and format 'mp4 / MP4 (MPEG-4 Part 14)'\n",
      "OpenCV: FFMPEG: fallback to use tag 0x7634706d/'mp4v'\n"
     ]
    },
    {
     "name": "stdout",
     "output_type": "stream",
     "text": [
      "320   240\n",
      "FPS: 30.0\n",
      "<class 'list'>\n",
      "<class 'numpy.ndarray'>\n",
      "(120, 160, 3)\n"
     ]
    },
    {
     "name": "stderr",
     "output_type": "stream",
     "text": [
      "OpenCV: FFMPEG: tag 0x44495658/'XVID' is not supported with codec id 12 and format 'mp4 / MP4 (MPEG-4 Part 14)'\n",
      "OpenCV: FFMPEG: fallback to use tag 0x7634706d/'mp4v'\n",
      "OpenCV: FFMPEG: tag 0x44495658/'XVID' is not supported with codec id 12 and format 'mp4 / MP4 (MPEG-4 Part 14)'\n",
      "OpenCV: FFMPEG: fallback to use tag 0x7634706d/'mp4v'\n"
     ]
    },
    {
     "name": "stdout",
     "output_type": "stream",
     "text": [
      "비디오 저장 완료: UCF_Crimes_10crop/Videos/Testing_Normal_Videos_Anomaly/Normal_Videos_365_x264__0.mp4\n",
      "비디오 저장 완료: UCF_Crimes_10crop/Videos/Testing_Normal_Videos_Anomaly/Normal_Videos_365_x264__5.mp4\n",
      "<class 'list'>\n",
      "<class 'numpy.ndarray'>\n",
      "(120, 160, 3)\n"
     ]
    },
    {
     "name": "stderr",
     "output_type": "stream",
     "text": [
      "OpenCV: FFMPEG: tag 0x44495658/'XVID' is not supported with codec id 12 and format 'mp4 / MP4 (MPEG-4 Part 14)'\n",
      "OpenCV: FFMPEG: fallback to use tag 0x7634706d/'mp4v'\n",
      "OpenCV: FFMPEG: tag 0x44495658/'XVID' is not supported with codec id 12 and format 'mp4 / MP4 (MPEG-4 Part 14)'\n",
      "OpenCV: FFMPEG: fallback to use tag 0x7634706d/'mp4v'\n"
     ]
    },
    {
     "name": "stdout",
     "output_type": "stream",
     "text": [
      "비디오 저장 완료: UCF_Crimes_10crop/Videos/Testing_Normal_Videos_Anomaly/Normal_Videos_365_x264__1.mp4\n",
      "비디오 저장 완료: UCF_Crimes_10crop/Videos/Testing_Normal_Videos_Anomaly/Normal_Videos_365_x264__6.mp4\n",
      "<class 'list'>\n",
      "<class 'numpy.ndarray'>\n",
      "(120, 160, 3)\n"
     ]
    },
    {
     "name": "stderr",
     "output_type": "stream",
     "text": [
      "OpenCV: FFMPEG: tag 0x44495658/'XVID' is not supported with codec id 12 and format 'mp4 / MP4 (MPEG-4 Part 14)'\n",
      "OpenCV: FFMPEG: fallback to use tag 0x7634706d/'mp4v'\n",
      "OpenCV: FFMPEG: tag 0x44495658/'XVID' is not supported with codec id 12 and format 'mp4 / MP4 (MPEG-4 Part 14)'\n",
      "OpenCV: FFMPEG: fallback to use tag 0x7634706d/'mp4v'\n"
     ]
    },
    {
     "name": "stdout",
     "output_type": "stream",
     "text": [
      "비디오 저장 완료: UCF_Crimes_10crop/Videos/Testing_Normal_Videos_Anomaly/Normal_Videos_365_x264__2.mp4\n",
      "비디오 저장 완료: UCF_Crimes_10crop/Videos/Testing_Normal_Videos_Anomaly/Normal_Videos_365_x264__7.mp4\n",
      "<class 'list'>\n",
      "<class 'numpy.ndarray'>\n",
      "(120, 160, 3)\n"
     ]
    },
    {
     "name": "stderr",
     "output_type": "stream",
     "text": [
      "OpenCV: FFMPEG: tag 0x44495658/'XVID' is not supported with codec id 12 and format 'mp4 / MP4 (MPEG-4 Part 14)'\n",
      "OpenCV: FFMPEG: fallback to use tag 0x7634706d/'mp4v'\n",
      "OpenCV: FFMPEG: tag 0x44495658/'XVID' is not supported with codec id 12 and format 'mp4 / MP4 (MPEG-4 Part 14)'\n",
      "OpenCV: FFMPEG: fallback to use tag 0x7634706d/'mp4v'\n"
     ]
    },
    {
     "name": "stdout",
     "output_type": "stream",
     "text": [
      "비디오 저장 완료: UCF_Crimes_10crop/Videos/Testing_Normal_Videos_Anomaly/Normal_Videos_365_x264__3.mp4\n",
      "비디오 저장 완료: UCF_Crimes_10crop/Videos/Testing_Normal_Videos_Anomaly/Normal_Videos_365_x264__8.mp4\n",
      "<class 'list'>\n",
      "<class 'numpy.ndarray'>\n",
      "(120, 160, 3)\n"
     ]
    },
    {
     "name": "stderr",
     "output_type": "stream",
     "text": [
      "OpenCV: FFMPEG: tag 0x44495658/'XVID' is not supported with codec id 12 and format 'mp4 / MP4 (MPEG-4 Part 14)'\n",
      "OpenCV: FFMPEG: fallback to use tag 0x7634706d/'mp4v'\n",
      "OpenCV: FFMPEG: tag 0x44495658/'XVID' is not supported with codec id 12 and format 'mp4 / MP4 (MPEG-4 Part 14)'\n",
      "OpenCV: FFMPEG: fallback to use tag 0x7634706d/'mp4v'\n"
     ]
    },
    {
     "name": "stdout",
     "output_type": "stream",
     "text": [
      "비디오 저장 완료: UCF_Crimes_10crop/Videos/Testing_Normal_Videos_Anomaly/Normal_Videos_365_x264__4.mp4\n",
      "비디오 저장 완료: UCF_Crimes_10crop/Videos/Testing_Normal_Videos_Anomaly/Normal_Videos_365_x264__9.mp4\n",
      "320   240\n",
      "FPS: 30.0\n",
      "<class 'list'>\n",
      "<class 'numpy.ndarray'>\n",
      "(120, 160, 3)\n"
     ]
    },
    {
     "name": "stderr",
     "output_type": "stream",
     "text": [
      "OpenCV: FFMPEG: tag 0x44495658/'XVID' is not supported with codec id 12 and format 'mp4 / MP4 (MPEG-4 Part 14)'\n",
      "OpenCV: FFMPEG: fallback to use tag 0x7634706d/'mp4v'\n",
      "OpenCV: FFMPEG: tag 0x44495658/'XVID' is not supported with codec id 12 and format 'mp4 / MP4 (MPEG-4 Part 14)'\n",
      "OpenCV: FFMPEG: fallback to use tag 0x7634706d/'mp4v'\n"
     ]
    },
    {
     "name": "stdout",
     "output_type": "stream",
     "text": [
      "비디오 저장 완료: UCF_Crimes_10crop/Videos/Testing_Normal_Videos_Anomaly/Normal_Videos_940_x264__0.mp4\n",
      "비디오 저장 완료: UCF_Crimes_10crop/Videos/Testing_Normal_Videos_Anomaly/Normal_Videos_940_x264__5.mp4\n",
      "<class 'list'>\n",
      "<class 'numpy.ndarray'>\n",
      "(120, 160, 3)\n"
     ]
    },
    {
     "name": "stderr",
     "output_type": "stream",
     "text": [
      "OpenCV: FFMPEG: tag 0x44495658/'XVID' is not supported with codec id 12 and format 'mp4 / MP4 (MPEG-4 Part 14)'\n",
      "OpenCV: FFMPEG: fallback to use tag 0x7634706d/'mp4v'\n",
      "OpenCV: FFMPEG: tag 0x44495658/'XVID' is not supported with codec id 12 and format 'mp4 / MP4 (MPEG-4 Part 14)'\n",
      "OpenCV: FFMPEG: fallback to use tag 0x7634706d/'mp4v'\n"
     ]
    },
    {
     "name": "stdout",
     "output_type": "stream",
     "text": [
      "비디오 저장 완료: UCF_Crimes_10crop/Videos/Testing_Normal_Videos_Anomaly/Normal_Videos_940_x264__1.mp4\n",
      "비디오 저장 완료: UCF_Crimes_10crop/Videos/Testing_Normal_Videos_Anomaly/Normal_Videos_940_x264__6.mp4\n",
      "<class 'list'>\n",
      "<class 'numpy.ndarray'>\n",
      "(120, 160, 3)\n"
     ]
    },
    {
     "name": "stderr",
     "output_type": "stream",
     "text": [
      "OpenCV: FFMPEG: tag 0x44495658/'XVID' is not supported with codec id 12 and format 'mp4 / MP4 (MPEG-4 Part 14)'\n",
      "OpenCV: FFMPEG: fallback to use tag 0x7634706d/'mp4v'\n",
      "OpenCV: FFMPEG: tag 0x44495658/'XVID' is not supported with codec id 12 and format 'mp4 / MP4 (MPEG-4 Part 14)'\n",
      "OpenCV: FFMPEG: fallback to use tag 0x7634706d/'mp4v'\n"
     ]
    },
    {
     "name": "stdout",
     "output_type": "stream",
     "text": [
      "비디오 저장 완료: UCF_Crimes_10crop/Videos/Testing_Normal_Videos_Anomaly/Normal_Videos_940_x264__2.mp4\n",
      "비디오 저장 완료: UCF_Crimes_10crop/Videos/Testing_Normal_Videos_Anomaly/Normal_Videos_940_x264__7.mp4\n",
      "<class 'list'>\n",
      "<class 'numpy.ndarray'>\n",
      "(120, 160, 3)\n"
     ]
    },
    {
     "name": "stderr",
     "output_type": "stream",
     "text": [
      "OpenCV: FFMPEG: tag 0x44495658/'XVID' is not supported with codec id 12 and format 'mp4 / MP4 (MPEG-4 Part 14)'\n",
      "OpenCV: FFMPEG: fallback to use tag 0x7634706d/'mp4v'\n",
      "OpenCV: FFMPEG: tag 0x44495658/'XVID' is not supported with codec id 12 and format 'mp4 / MP4 (MPEG-4 Part 14)'\n",
      "OpenCV: FFMPEG: fallback to use tag 0x7634706d/'mp4v'\n"
     ]
    },
    {
     "name": "stdout",
     "output_type": "stream",
     "text": [
      "비디오 저장 완료: UCF_Crimes_10crop/Videos/Testing_Normal_Videos_Anomaly/Normal_Videos_940_x264__3.mp4\n",
      "비디오 저장 완료: UCF_Crimes_10crop/Videos/Testing_Normal_Videos_Anomaly/Normal_Videos_940_x264__8.mp4\n",
      "<class 'list'>\n",
      "<class 'numpy.ndarray'>\n",
      "(120, 160, 3)\n"
     ]
    },
    {
     "name": "stderr",
     "output_type": "stream",
     "text": [
      "OpenCV: FFMPEG: tag 0x44495658/'XVID' is not supported with codec id 12 and format 'mp4 / MP4 (MPEG-4 Part 14)'\n",
      "OpenCV: FFMPEG: fallback to use tag 0x7634706d/'mp4v'\n",
      "OpenCV: FFMPEG: tag 0x44495658/'XVID' is not supported with codec id 12 and format 'mp4 / MP4 (MPEG-4 Part 14)'\n",
      "OpenCV: FFMPEG: fallback to use tag 0x7634706d/'mp4v'\n"
     ]
    },
    {
     "name": "stdout",
     "output_type": "stream",
     "text": [
      "비디오 저장 완료: UCF_Crimes_10crop/Videos/Testing_Normal_Videos_Anomaly/Normal_Videos_940_x264__4.mp4\n",
      "비디오 저장 완료: UCF_Crimes_10crop/Videos/Testing_Normal_Videos_Anomaly/Normal_Videos_940_x264__9.mp4\n",
      "320   240\n",
      "FPS: 30.0\n",
      "<class 'list'>\n",
      "<class 'numpy.ndarray'>\n",
      "(120, 160, 3)\n"
     ]
    },
    {
     "name": "stderr",
     "output_type": "stream",
     "text": [
      "OpenCV: FFMPEG: tag 0x44495658/'XVID' is not supported with codec id 12 and format 'mp4 / MP4 (MPEG-4 Part 14)'\n",
      "OpenCV: FFMPEG: fallback to use tag 0x7634706d/'mp4v'\n",
      "OpenCV: FFMPEG: tag 0x44495658/'XVID' is not supported with codec id 12 and format 'mp4 / MP4 (MPEG-4 Part 14)'\n",
      "OpenCV: FFMPEG: fallback to use tag 0x7634706d/'mp4v'\n"
     ]
    },
    {
     "name": "stdout",
     "output_type": "stream",
     "text": [
      "비디오 저장 완료: UCF_Crimes_10crop/Videos/Testing_Normal_Videos_Anomaly/Normal_Videos_944_x264__0.mp4\n",
      "비디오 저장 완료: UCF_Crimes_10crop/Videos/Testing_Normal_Videos_Anomaly/Normal_Videos_944_x264__5.mp4\n",
      "<class 'list'>\n",
      "<class 'numpy.ndarray'>\n",
      "(120, 160, 3)\n"
     ]
    },
    {
     "name": "stderr",
     "output_type": "stream",
     "text": [
      "OpenCV: FFMPEG: tag 0x44495658/'XVID' is not supported with codec id 12 and format 'mp4 / MP4 (MPEG-4 Part 14)'\n",
      "OpenCV: FFMPEG: fallback to use tag 0x7634706d/'mp4v'\n",
      "OpenCV: FFMPEG: tag 0x44495658/'XVID' is not supported with codec id 12 and format 'mp4 / MP4 (MPEG-4 Part 14)'\n",
      "OpenCV: FFMPEG: fallback to use tag 0x7634706d/'mp4v'\n"
     ]
    },
    {
     "name": "stdout",
     "output_type": "stream",
     "text": [
      "비디오 저장 완료: UCF_Crimes_10crop/Videos/Testing_Normal_Videos_Anomaly/Normal_Videos_944_x264__1.mp4\n",
      "비디오 저장 완료: UCF_Crimes_10crop/Videos/Testing_Normal_Videos_Anomaly/Normal_Videos_944_x264__6.mp4\n",
      "<class 'list'>\n",
      "<class 'numpy.ndarray'>\n",
      "(120, 160, 3)\n"
     ]
    },
    {
     "name": "stderr",
     "output_type": "stream",
     "text": [
      "OpenCV: FFMPEG: tag 0x44495658/'XVID' is not supported with codec id 12 and format 'mp4 / MP4 (MPEG-4 Part 14)'\n",
      "OpenCV: FFMPEG: fallback to use tag 0x7634706d/'mp4v'\n",
      "OpenCV: FFMPEG: tag 0x44495658/'XVID' is not supported with codec id 12 and format 'mp4 / MP4 (MPEG-4 Part 14)'\n",
      "OpenCV: FFMPEG: fallback to use tag 0x7634706d/'mp4v'\n"
     ]
    },
    {
     "name": "stdout",
     "output_type": "stream",
     "text": [
      "비디오 저장 완료: UCF_Crimes_10crop/Videos/Testing_Normal_Videos_Anomaly/Normal_Videos_944_x264__2.mp4\n",
      "비디오 저장 완료: UCF_Crimes_10crop/Videos/Testing_Normal_Videos_Anomaly/Normal_Videos_944_x264__7.mp4\n",
      "<class 'list'>\n",
      "<class 'numpy.ndarray'>\n",
      "(120, 160, 3)\n"
     ]
    },
    {
     "name": "stderr",
     "output_type": "stream",
     "text": [
      "OpenCV: FFMPEG: tag 0x44495658/'XVID' is not supported with codec id 12 and format 'mp4 / MP4 (MPEG-4 Part 14)'\n",
      "OpenCV: FFMPEG: fallback to use tag 0x7634706d/'mp4v'\n",
      "OpenCV: FFMPEG: tag 0x44495658/'XVID' is not supported with codec id 12 and format 'mp4 / MP4 (MPEG-4 Part 14)'\n",
      "OpenCV: FFMPEG: fallback to use tag 0x7634706d/'mp4v'\n"
     ]
    },
    {
     "name": "stdout",
     "output_type": "stream",
     "text": [
      "비디오 저장 완료: UCF_Crimes_10crop/Videos/Testing_Normal_Videos_Anomaly/Normal_Videos_944_x264__3.mp4\n",
      "비디오 저장 완료: UCF_Crimes_10crop/Videos/Testing_Normal_Videos_Anomaly/Normal_Videos_944_x264__8.mp4\n",
      "<class 'list'>\n",
      "<class 'numpy.ndarray'>\n",
      "(120, 160, 3)\n"
     ]
    },
    {
     "name": "stderr",
     "output_type": "stream",
     "text": [
      "OpenCV: FFMPEG: tag 0x44495658/'XVID' is not supported with codec id 12 and format 'mp4 / MP4 (MPEG-4 Part 14)'\n",
      "OpenCV: FFMPEG: fallback to use tag 0x7634706d/'mp4v'\n",
      "OpenCV: FFMPEG: tag 0x44495658/'XVID' is not supported with codec id 12 and format 'mp4 / MP4 (MPEG-4 Part 14)'\n",
      "OpenCV: FFMPEG: fallback to use tag 0x7634706d/'mp4v'\n"
     ]
    },
    {
     "name": "stdout",
     "output_type": "stream",
     "text": [
      "비디오 저장 완료: UCF_Crimes_10crop/Videos/Testing_Normal_Videos_Anomaly/Normal_Videos_944_x264__4.mp4\n",
      "비디오 저장 완료: UCF_Crimes_10crop/Videos/Testing_Normal_Videos_Anomaly/Normal_Videos_944_x264__9.mp4\n",
      "320   240\n",
      "FPS: 30.0\n",
      "<class 'list'>\n",
      "<class 'numpy.ndarray'>\n",
      "(120, 160, 3)\n"
     ]
    },
    {
     "name": "stderr",
     "output_type": "stream",
     "text": [
      "OpenCV: FFMPEG: tag 0x44495658/'XVID' is not supported with codec id 12 and format 'mp4 / MP4 (MPEG-4 Part 14)'\n",
      "OpenCV: FFMPEG: fallback to use tag 0x7634706d/'mp4v'\n",
      "OpenCV: FFMPEG: tag 0x44495658/'XVID' is not supported with codec id 12 and format 'mp4 / MP4 (MPEG-4 Part 14)'\n",
      "OpenCV: FFMPEG: fallback to use tag 0x7634706d/'mp4v'\n"
     ]
    },
    {
     "name": "stdout",
     "output_type": "stream",
     "text": [
      "비디오 저장 완료: UCF_Crimes_10crop/Videos/Testing_Normal_Videos_Anomaly/Normal_Videos_828_x264__0.mp4\n",
      "비디오 저장 완료: UCF_Crimes_10crop/Videos/Testing_Normal_Videos_Anomaly/Normal_Videos_828_x264__5.mp4\n",
      "<class 'list'>\n",
      "<class 'numpy.ndarray'>\n",
      "(120, 160, 3)\n",
      "비디오 저장 완료: UCF_Crimes_10crop/Videos/Testing_Normal_Videos_Anomaly/Normal_Videos_828_x264__1.mp4\n",
      "비디오 저장 완료: UCF_Crimes_10crop/Videos/Testing_Normal_Videos_Anomaly/Normal_Videos_828_x264__6.mp4\n",
      "<class 'list'>\n",
      "<class 'numpy.ndarray'>\n",
      "(120, 160, 3)\n"
     ]
    },
    {
     "name": "stderr",
     "output_type": "stream",
     "text": [
      "OpenCV: FFMPEG: tag 0x44495658/'XVID' is not supported with codec id 12 and format 'mp4 / MP4 (MPEG-4 Part 14)'\n",
      "OpenCV: FFMPEG: fallback to use tag 0x7634706d/'mp4v'\n",
      "OpenCV: FFMPEG: tag 0x44495658/'XVID' is not supported with codec id 12 and format 'mp4 / MP4 (MPEG-4 Part 14)'\n",
      "OpenCV: FFMPEG: fallback to use tag 0x7634706d/'mp4v'\n",
      "OpenCV: FFMPEG: tag 0x44495658/'XVID' is not supported with codec id 12 and format 'mp4 / MP4 (MPEG-4 Part 14)'\n",
      "OpenCV: FFMPEG: fallback to use tag 0x7634706d/'mp4v'\n",
      "OpenCV: FFMPEG: tag 0x44495658/'XVID' is not supported with codec id 12 and format 'mp4 / MP4 (MPEG-4 Part 14)'\n",
      "OpenCV: FFMPEG: fallback to use tag 0x7634706d/'mp4v'\n"
     ]
    },
    {
     "name": "stdout",
     "output_type": "stream",
     "text": [
      "비디오 저장 완료: UCF_Crimes_10crop/Videos/Testing_Normal_Videos_Anomaly/Normal_Videos_828_x264__2.mp4\n",
      "비디오 저장 완료: UCF_Crimes_10crop/Videos/Testing_Normal_Videos_Anomaly/Normal_Videos_828_x264__7.mp4\n",
      "<class 'list'>\n",
      "<class 'numpy.ndarray'>\n",
      "(120, 160, 3)\n",
      "비디오 저장 완료: UCF_Crimes_10crop/Videos/Testing_Normal_Videos_Anomaly/Normal_Videos_828_x264__3.mp4\n",
      "비디오 저장 완료: UCF_Crimes_10crop/Videos/Testing_Normal_Videos_Anomaly/Normal_Videos_828_x264__8.mp4\n",
      "<class 'list'>\n",
      "<class 'numpy.ndarray'>\n",
      "(120, 160, 3)\n"
     ]
    },
    {
     "name": "stderr",
     "output_type": "stream",
     "text": [
      "OpenCV: FFMPEG: tag 0x44495658/'XVID' is not supported with codec id 12 and format 'mp4 / MP4 (MPEG-4 Part 14)'\n",
      "OpenCV: FFMPEG: fallback to use tag 0x7634706d/'mp4v'\n",
      "OpenCV: FFMPEG: tag 0x44495658/'XVID' is not supported with codec id 12 and format 'mp4 / MP4 (MPEG-4 Part 14)'\n",
      "OpenCV: FFMPEG: fallback to use tag 0x7634706d/'mp4v'\n",
      "OpenCV: FFMPEG: tag 0x44495658/'XVID' is not supported with codec id 12 and format 'mp4 / MP4 (MPEG-4 Part 14)'\n",
      "OpenCV: FFMPEG: fallback to use tag 0x7634706d/'mp4v'\n",
      "OpenCV: FFMPEG: tag 0x44495658/'XVID' is not supported with codec id 12 and format 'mp4 / MP4 (MPEG-4 Part 14)'\n",
      "OpenCV: FFMPEG: fallback to use tag 0x7634706d/'mp4v'\n"
     ]
    },
    {
     "name": "stdout",
     "output_type": "stream",
     "text": [
      "비디오 저장 완료: UCF_Crimes_10crop/Videos/Testing_Normal_Videos_Anomaly/Normal_Videos_828_x264__4.mp4\n",
      "비디오 저장 완료: UCF_Crimes_10crop/Videos/Testing_Normal_Videos_Anomaly/Normal_Videos_828_x264__9.mp4\n",
      "320   240\n",
      "FPS: 30.0\n",
      "<class 'list'>\n",
      "<class 'numpy.ndarray'>\n",
      "(120, 160, 3)\n",
      "비디오 저장 완료: UCF_Crimes_10crop/Videos/Testing_Normal_Videos_Anomaly/Normal_Videos_885_x264__0.mp4\n",
      "비디오 저장 완료: UCF_Crimes_10crop/Videos/Testing_Normal_Videos_Anomaly/Normal_Videos_885_x264__5.mp4\n",
      "<class 'list'>\n",
      "<class 'numpy.ndarray'>\n",
      "(120, 160, 3)\n",
      "비디오 저장 완료: UCF_Crimes_10crop/Videos/Testing_Normal_Videos_Anomaly/Normal_Videos_885_x264__1.mp4\n",
      "비디오 저장 완료: UCF_Crimes_10crop/Videos/Testing_Normal_Videos_Anomaly/Normal_Videos_885_x264__6.mp4\n",
      "<class 'list'>\n",
      "<class 'numpy.ndarray'>\n",
      "(120, 160, 3)\n"
     ]
    },
    {
     "name": "stderr",
     "output_type": "stream",
     "text": [
      "OpenCV: FFMPEG: tag 0x44495658/'XVID' is not supported with codec id 12 and format 'mp4 / MP4 (MPEG-4 Part 14)'\n",
      "OpenCV: FFMPEG: fallback to use tag 0x7634706d/'mp4v'\n",
      "OpenCV: FFMPEG: tag 0x44495658/'XVID' is not supported with codec id 12 and format 'mp4 / MP4 (MPEG-4 Part 14)'\n",
      "OpenCV: FFMPEG: fallback to use tag 0x7634706d/'mp4v'\n",
      "OpenCV: FFMPEG: tag 0x44495658/'XVID' is not supported with codec id 12 and format 'mp4 / MP4 (MPEG-4 Part 14)'\n",
      "OpenCV: FFMPEG: fallback to use tag 0x7634706d/'mp4v'\n",
      "OpenCV: FFMPEG: tag 0x44495658/'XVID' is not supported with codec id 12 and format 'mp4 / MP4 (MPEG-4 Part 14)'\n",
      "OpenCV: FFMPEG: fallback to use tag 0x7634706d/'mp4v'\n",
      "OpenCV: FFMPEG: tag 0x44495658/'XVID' is not supported with codec id 12 and format 'mp4 / MP4 (MPEG-4 Part 14)'\n",
      "OpenCV: FFMPEG: fallback to use tag 0x7634706d/'mp4v'\n",
      "OpenCV: FFMPEG: tag 0x44495658/'XVID' is not supported with codec id 12 and format 'mp4 / MP4 (MPEG-4 Part 14)'\n",
      "OpenCV: FFMPEG: fallback to use tag 0x7634706d/'mp4v'\n"
     ]
    },
    {
     "name": "stdout",
     "output_type": "stream",
     "text": [
      "비디오 저장 완료: UCF_Crimes_10crop/Videos/Testing_Normal_Videos_Anomaly/Normal_Videos_885_x264__2.mp4\n",
      "비디오 저장 완료: UCF_Crimes_10crop/Videos/Testing_Normal_Videos_Anomaly/Normal_Videos_885_x264__7.mp4\n",
      "<class 'list'>\n",
      "<class 'numpy.ndarray'>\n",
      "(120, 160, 3)\n",
      "비디오 저장 완료: UCF_Crimes_10crop/Videos/Testing_Normal_Videos_Anomaly/Normal_Videos_885_x264__3.mp4\n",
      "비디오 저장 완료: UCF_Crimes_10crop/Videos/Testing_Normal_Videos_Anomaly/Normal_Videos_885_x264__8.mp4\n",
      "<class 'list'>\n",
      "<class 'numpy.ndarray'>\n",
      "(120, 160, 3)\n",
      "비디오 저장 완료: UCF_Crimes_10crop/Videos/Testing_Normal_Videos_Anomaly/Normal_Videos_885_x264__4.mp4\n",
      "비디오 저장 완료: UCF_Crimes_10crop/Videos/Testing_Normal_Videos_Anomaly/Normal_Videos_885_x264__9.mp4\n"
     ]
    },
    {
     "name": "stderr",
     "output_type": "stream",
     "text": [
      "OpenCV: FFMPEG: tag 0x44495658/'XVID' is not supported with codec id 12 and format 'mp4 / MP4 (MPEG-4 Part 14)'\n",
      "OpenCV: FFMPEG: fallback to use tag 0x7634706d/'mp4v'\n",
      "OpenCV: FFMPEG: tag 0x44495658/'XVID' is not supported with codec id 12 and format 'mp4 / MP4 (MPEG-4 Part 14)'\n",
      "OpenCV: FFMPEG: fallback to use tag 0x7634706d/'mp4v'\n",
      "OpenCV: FFMPEG: tag 0x44495658/'XVID' is not supported with codec id 12 and format 'mp4 / MP4 (MPEG-4 Part 14)'\n",
      "OpenCV: FFMPEG: fallback to use tag 0x7634706d/'mp4v'\n",
      "OpenCV: FFMPEG: tag 0x44495658/'XVID' is not supported with codec id 12 and format 'mp4 / MP4 (MPEG-4 Part 14)'\n",
      "OpenCV: FFMPEG: fallback to use tag 0x7634706d/'mp4v'\n"
     ]
    },
    {
     "name": "stdout",
     "output_type": "stream",
     "text": [
      "320   240\n",
      "FPS: 30.0\n",
      "<class 'list'>\n",
      "<class 'numpy.ndarray'>\n",
      "(120, 160, 3)\n"
     ]
    },
    {
     "name": "stderr",
     "output_type": "stream",
     "text": [
      "OpenCV: FFMPEG: tag 0x44495658/'XVID' is not supported with codec id 12 and format 'mp4 / MP4 (MPEG-4 Part 14)'\n",
      "OpenCV: FFMPEG: fallback to use tag 0x7634706d/'mp4v'\n",
      "OpenCV: FFMPEG: tag 0x44495658/'XVID' is not supported with codec id 12 and format 'mp4 / MP4 (MPEG-4 Part 14)'\n",
      "OpenCV: FFMPEG: fallback to use tag 0x7634706d/'mp4v'\n"
     ]
    },
    {
     "name": "stdout",
     "output_type": "stream",
     "text": [
      "비디오 저장 완료: UCF_Crimes_10crop/Videos/Testing_Normal_Videos_Anomaly/Normal_Videos_758_x264__0.mp4\n",
      "비디오 저장 완료: UCF_Crimes_10crop/Videos/Testing_Normal_Videos_Anomaly/Normal_Videos_758_x264__5.mp4\n",
      "<class 'list'>\n",
      "<class 'numpy.ndarray'>\n",
      "(120, 160, 3)\n"
     ]
    },
    {
     "name": "stderr",
     "output_type": "stream",
     "text": [
      "OpenCV: FFMPEG: tag 0x44495658/'XVID' is not supported with codec id 12 and format 'mp4 / MP4 (MPEG-4 Part 14)'\n",
      "OpenCV: FFMPEG: fallback to use tag 0x7634706d/'mp4v'\n",
      "OpenCV: FFMPEG: tag 0x44495658/'XVID' is not supported with codec id 12 and format 'mp4 / MP4 (MPEG-4 Part 14)'\n",
      "OpenCV: FFMPEG: fallback to use tag 0x7634706d/'mp4v'\n"
     ]
    },
    {
     "name": "stdout",
     "output_type": "stream",
     "text": [
      "비디오 저장 완료: UCF_Crimes_10crop/Videos/Testing_Normal_Videos_Anomaly/Normal_Videos_758_x264__1.mp4\n",
      "비디오 저장 완료: UCF_Crimes_10crop/Videos/Testing_Normal_Videos_Anomaly/Normal_Videos_758_x264__6.mp4\n",
      "<class 'list'>\n",
      "<class 'numpy.ndarray'>\n",
      "(120, 160, 3)\n"
     ]
    },
    {
     "name": "stderr",
     "output_type": "stream",
     "text": [
      "OpenCV: FFMPEG: tag 0x44495658/'XVID' is not supported with codec id 12 and format 'mp4 / MP4 (MPEG-4 Part 14)'\n",
      "OpenCV: FFMPEG: fallback to use tag 0x7634706d/'mp4v'\n",
      "OpenCV: FFMPEG: tag 0x44495658/'XVID' is not supported with codec id 12 and format 'mp4 / MP4 (MPEG-4 Part 14)'\n",
      "OpenCV: FFMPEG: fallback to use tag 0x7634706d/'mp4v'\n"
     ]
    },
    {
     "name": "stdout",
     "output_type": "stream",
     "text": [
      "비디오 저장 완료: UCF_Crimes_10crop/Videos/Testing_Normal_Videos_Anomaly/Normal_Videos_758_x264__2.mp4\n",
      "비디오 저장 완료: UCF_Crimes_10crop/Videos/Testing_Normal_Videos_Anomaly/Normal_Videos_758_x264__7.mp4\n",
      "<class 'list'>\n",
      "<class 'numpy.ndarray'>\n",
      "(120, 160, 3)\n"
     ]
    },
    {
     "name": "stderr",
     "output_type": "stream",
     "text": [
      "OpenCV: FFMPEG: tag 0x44495658/'XVID' is not supported with codec id 12 and format 'mp4 / MP4 (MPEG-4 Part 14)'\n",
      "OpenCV: FFMPEG: fallback to use tag 0x7634706d/'mp4v'\n",
      "OpenCV: FFMPEG: tag 0x44495658/'XVID' is not supported with codec id 12 and format 'mp4 / MP4 (MPEG-4 Part 14)'\n",
      "OpenCV: FFMPEG: fallback to use tag 0x7634706d/'mp4v'\n"
     ]
    },
    {
     "name": "stdout",
     "output_type": "stream",
     "text": [
      "비디오 저장 완료: UCF_Crimes_10crop/Videos/Testing_Normal_Videos_Anomaly/Normal_Videos_758_x264__3.mp4\n",
      "비디오 저장 완료: UCF_Crimes_10crop/Videos/Testing_Normal_Videos_Anomaly/Normal_Videos_758_x264__8.mp4\n",
      "<class 'list'>\n",
      "<class 'numpy.ndarray'>\n",
      "(120, 160, 3)\n"
     ]
    },
    {
     "name": "stderr",
     "output_type": "stream",
     "text": [
      "OpenCV: FFMPEG: tag 0x44495658/'XVID' is not supported with codec id 12 and format 'mp4 / MP4 (MPEG-4 Part 14)'\n",
      "OpenCV: FFMPEG: fallback to use tag 0x7634706d/'mp4v'\n",
      "OpenCV: FFMPEG: tag 0x44495658/'XVID' is not supported with codec id 12 and format 'mp4 / MP4 (MPEG-4 Part 14)'\n",
      "OpenCV: FFMPEG: fallback to use tag 0x7634706d/'mp4v'\n"
     ]
    },
    {
     "name": "stdout",
     "output_type": "stream",
     "text": [
      "비디오 저장 완료: UCF_Crimes_10crop/Videos/Testing_Normal_Videos_Anomaly/Normal_Videos_758_x264__4.mp4\n",
      "비디오 저장 완료: UCF_Crimes_10crop/Videos/Testing_Normal_Videos_Anomaly/Normal_Videos_758_x264__9.mp4\n",
      "320   240\n",
      "FPS: 30.0\n",
      "<class 'list'>\n",
      "<class 'numpy.ndarray'>\n",
      "(120, 160, 3)\n",
      "비디오 저장 완료: UCF_Crimes_10crop/Videos/Testing_Normal_Videos_Anomaly/Normal_Videos_914_x264__0.mp4\n",
      "비디오 저장 완료: UCF_Crimes_10crop/Videos/Testing_Normal_Videos_Anomaly/Normal_Videos_914_x264__5.mp4\n",
      "<class 'list'>\n",
      "<class 'numpy.ndarray'>\n",
      "(120, 160, 3)\n"
     ]
    },
    {
     "name": "stderr",
     "output_type": "stream",
     "text": [
      "OpenCV: FFMPEG: tag 0x44495658/'XVID' is not supported with codec id 12 and format 'mp4 / MP4 (MPEG-4 Part 14)'\n",
      "OpenCV: FFMPEG: fallback to use tag 0x7634706d/'mp4v'\n",
      "OpenCV: FFMPEG: tag 0x44495658/'XVID' is not supported with codec id 12 and format 'mp4 / MP4 (MPEG-4 Part 14)'\n",
      "OpenCV: FFMPEG: fallback to use tag 0x7634706d/'mp4v'\n",
      "OpenCV: FFMPEG: tag 0x44495658/'XVID' is not supported with codec id 12 and format 'mp4 / MP4 (MPEG-4 Part 14)'\n",
      "OpenCV: FFMPEG: fallback to use tag 0x7634706d/'mp4v'\n",
      "OpenCV: FFMPEG: tag 0x44495658/'XVID' is not supported with codec id 12 and format 'mp4 / MP4 (MPEG-4 Part 14)'\n",
      "OpenCV: FFMPEG: fallback to use tag 0x7634706d/'mp4v'\n"
     ]
    },
    {
     "name": "stdout",
     "output_type": "stream",
     "text": [
      "비디오 저장 완료: UCF_Crimes_10crop/Videos/Testing_Normal_Videos_Anomaly/Normal_Videos_914_x264__1.mp4\n",
      "비디오 저장 완료: UCF_Crimes_10crop/Videos/Testing_Normal_Videos_Anomaly/Normal_Videos_914_x264__6.mp4\n",
      "<class 'list'>\n",
      "<class 'numpy.ndarray'>\n",
      "(120, 160, 3)\n",
      "비디오 저장 완료: UCF_Crimes_10crop/Videos/Testing_Normal_Videos_Anomaly/Normal_Videos_914_x264__2.mp4\n",
      "비디오 저장 완료: UCF_Crimes_10crop/Videos/Testing_Normal_Videos_Anomaly/Normal_Videos_914_x264__7.mp4\n",
      "<class 'list'>\n",
      "<class 'numpy.ndarray'>\n",
      "(120, 160, 3)\n"
     ]
    },
    {
     "name": "stderr",
     "output_type": "stream",
     "text": [
      "OpenCV: FFMPEG: tag 0x44495658/'XVID' is not supported with codec id 12 and format 'mp4 / MP4 (MPEG-4 Part 14)'\n",
      "OpenCV: FFMPEG: fallback to use tag 0x7634706d/'mp4v'\n",
      "OpenCV: FFMPEG: tag 0x44495658/'XVID' is not supported with codec id 12 and format 'mp4 / MP4 (MPEG-4 Part 14)'\n",
      "OpenCV: FFMPEG: fallback to use tag 0x7634706d/'mp4v'\n",
      "OpenCV: FFMPEG: tag 0x44495658/'XVID' is not supported with codec id 12 and format 'mp4 / MP4 (MPEG-4 Part 14)'\n",
      "OpenCV: FFMPEG: fallback to use tag 0x7634706d/'mp4v'\n",
      "OpenCV: FFMPEG: tag 0x44495658/'XVID' is not supported with codec id 12 and format 'mp4 / MP4 (MPEG-4 Part 14)'\n",
      "OpenCV: FFMPEG: fallback to use tag 0x7634706d/'mp4v'\n"
     ]
    },
    {
     "name": "stdout",
     "output_type": "stream",
     "text": [
      "비디오 저장 완료: UCF_Crimes_10crop/Videos/Testing_Normal_Videos_Anomaly/Normal_Videos_914_x264__3.mp4\n",
      "비디오 저장 완료: UCF_Crimes_10crop/Videos/Testing_Normal_Videos_Anomaly/Normal_Videos_914_x264__8.mp4\n",
      "<class 'list'>\n",
      "<class 'numpy.ndarray'>\n",
      "(120, 160, 3)\n",
      "비디오 저장 완료: UCF_Crimes_10crop/Videos/Testing_Normal_Videos_Anomaly/Normal_Videos_914_x264__4.mp4\n",
      "비디오 저장 완료: UCF_Crimes_10crop/Videos/Testing_Normal_Videos_Anomaly/Normal_Videos_914_x264__9.mp4\n",
      "320   240\n",
      "FPS: 30.0\n"
     ]
    },
    {
     "name": "stderr",
     "output_type": "stream",
     "text": [
      "OpenCV: FFMPEG: tag 0x44495658/'XVID' is not supported with codec id 12 and format 'mp4 / MP4 (MPEG-4 Part 14)'\n",
      "OpenCV: FFMPEG: fallback to use tag 0x7634706d/'mp4v'\n",
      "OpenCV: FFMPEG: tag 0x44495658/'XVID' is not supported with codec id 12 and format 'mp4 / MP4 (MPEG-4 Part 14)'\n",
      "OpenCV: FFMPEG: fallback to use tag 0x7634706d/'mp4v'\n"
     ]
    },
    {
     "name": "stdout",
     "output_type": "stream",
     "text": [
      "<class 'list'>\n",
      "<class 'numpy.ndarray'>\n",
      "(120, 160, 3)\n",
      "비디오 저장 완료: UCF_Crimes_10crop/Videos/Testing_Normal_Videos_Anomaly/Normal_Videos_943_x264__0.mp4\n",
      "비디오 저장 완료: UCF_Crimes_10crop/Videos/Testing_Normal_Videos_Anomaly/Normal_Videos_943_x264__5.mp4\n",
      "<class 'list'>\n",
      "<class 'numpy.ndarray'>\n",
      "(120, 160, 3)\n"
     ]
    },
    {
     "name": "stderr",
     "output_type": "stream",
     "text": [
      "OpenCV: FFMPEG: tag 0x44495658/'XVID' is not supported with codec id 12 and format 'mp4 / MP4 (MPEG-4 Part 14)'\n",
      "OpenCV: FFMPEG: fallback to use tag 0x7634706d/'mp4v'\n",
      "OpenCV: FFMPEG: tag 0x44495658/'XVID' is not supported with codec id 12 and format 'mp4 / MP4 (MPEG-4 Part 14)'\n",
      "OpenCV: FFMPEG: fallback to use tag 0x7634706d/'mp4v'\n",
      "OpenCV: FFMPEG: tag 0x44495658/'XVID' is not supported with codec id 12 and format 'mp4 / MP4 (MPEG-4 Part 14)'\n",
      "OpenCV: FFMPEG: fallback to use tag 0x7634706d/'mp4v'\n",
      "OpenCV: FFMPEG: tag 0x44495658/'XVID' is not supported with codec id 12 and format 'mp4 / MP4 (MPEG-4 Part 14)'\n",
      "OpenCV: FFMPEG: fallback to use tag 0x7634706d/'mp4v'\n"
     ]
    },
    {
     "name": "stdout",
     "output_type": "stream",
     "text": [
      "비디오 저장 완료: UCF_Crimes_10crop/Videos/Testing_Normal_Videos_Anomaly/Normal_Videos_943_x264__1.mp4\n",
      "비디오 저장 완료: UCF_Crimes_10crop/Videos/Testing_Normal_Videos_Anomaly/Normal_Videos_943_x264__6.mp4\n",
      "<class 'list'>\n",
      "<class 'numpy.ndarray'>\n",
      "(120, 160, 3)\n",
      "비디오 저장 완료: UCF_Crimes_10crop/Videos/Testing_Normal_Videos_Anomaly/Normal_Videos_943_x264__2.mp4\n",
      "비디오 저장 완료: UCF_Crimes_10crop/Videos/Testing_Normal_Videos_Anomaly/Normal_Videos_943_x264__7.mp4\n",
      "<class 'list'>\n",
      "<class 'numpy.ndarray'>\n",
      "(120, 160, 3)\n"
     ]
    },
    {
     "name": "stderr",
     "output_type": "stream",
     "text": [
      "OpenCV: FFMPEG: tag 0x44495658/'XVID' is not supported with codec id 12 and format 'mp4 / MP4 (MPEG-4 Part 14)'\n",
      "OpenCV: FFMPEG: fallback to use tag 0x7634706d/'mp4v'\n",
      "OpenCV: FFMPEG: tag 0x44495658/'XVID' is not supported with codec id 12 and format 'mp4 / MP4 (MPEG-4 Part 14)'\n",
      "OpenCV: FFMPEG: fallback to use tag 0x7634706d/'mp4v'\n",
      "OpenCV: FFMPEG: tag 0x44495658/'XVID' is not supported with codec id 12 and format 'mp4 / MP4 (MPEG-4 Part 14)'\n",
      "OpenCV: FFMPEG: fallback to use tag 0x7634706d/'mp4v'\n",
      "OpenCV: FFMPEG: tag 0x44495658/'XVID' is not supported with codec id 12 and format 'mp4 / MP4 (MPEG-4 Part 14)'\n",
      "OpenCV: FFMPEG: fallback to use tag 0x7634706d/'mp4v'\n"
     ]
    },
    {
     "name": "stdout",
     "output_type": "stream",
     "text": [
      "비디오 저장 완료: UCF_Crimes_10crop/Videos/Testing_Normal_Videos_Anomaly/Normal_Videos_943_x264__3.mp4\n",
      "비디오 저장 완료: UCF_Crimes_10crop/Videos/Testing_Normal_Videos_Anomaly/Normal_Videos_943_x264__8.mp4\n",
      "<class 'list'>\n",
      "<class 'numpy.ndarray'>\n",
      "(120, 160, 3)\n",
      "비디오 저장 완료: UCF_Crimes_10crop/Videos/Testing_Normal_Videos_Anomaly/Normal_Videos_943_x264__4.mp4\n",
      "비디오 저장 완료: UCF_Crimes_10crop/Videos/Testing_Normal_Videos_Anomaly/Normal_Videos_943_x264__9.mp4\n"
     ]
    },
    {
     "name": "stderr",
     "output_type": "stream",
     "text": [
      "OpenCV: FFMPEG: tag 0x44495658/'XVID' is not supported with codec id 12 and format 'mp4 / MP4 (MPEG-4 Part 14)'\n",
      "OpenCV: FFMPEG: fallback to use tag 0x7634706d/'mp4v'\n",
      "OpenCV: FFMPEG: tag 0x44495658/'XVID' is not supported with codec id 12 and format 'mp4 / MP4 (MPEG-4 Part 14)'\n",
      "OpenCV: FFMPEG: fallback to use tag 0x7634706d/'mp4v'\n"
     ]
    },
    {
     "name": "stdout",
     "output_type": "stream",
     "text": [
      "320   240\n",
      "FPS: 30.0\n",
      "<class 'list'>\n",
      "<class 'numpy.ndarray'>\n",
      "(120, 160, 3)\n"
     ]
    },
    {
     "name": "stderr",
     "output_type": "stream",
     "text": [
      "OpenCV: FFMPEG: tag 0x44495658/'XVID' is not supported with codec id 12 and format 'mp4 / MP4 (MPEG-4 Part 14)'\n",
      "OpenCV: FFMPEG: fallback to use tag 0x7634706d/'mp4v'\n",
      "OpenCV: FFMPEG: tag 0x44495658/'XVID' is not supported with codec id 12 and format 'mp4 / MP4 (MPEG-4 Part 14)'\n",
      "OpenCV: FFMPEG: fallback to use tag 0x7634706d/'mp4v'\n"
     ]
    },
    {
     "name": "stdout",
     "output_type": "stream",
     "text": [
      "비디오 저장 완료: UCF_Crimes_10crop/Videos/Testing_Normal_Videos_Anomaly/Normal_Videos_018_x264__0.mp4\n",
      "비디오 저장 완료: UCF_Crimes_10crop/Videos/Testing_Normal_Videos_Anomaly/Normal_Videos_018_x264__5.mp4\n",
      "<class 'list'>\n",
      "<class 'numpy.ndarray'>\n",
      "(120, 160, 3)\n"
     ]
    },
    {
     "name": "stderr",
     "output_type": "stream",
     "text": [
      "OpenCV: FFMPEG: tag 0x44495658/'XVID' is not supported with codec id 12 and format 'mp4 / MP4 (MPEG-4 Part 14)'\n",
      "OpenCV: FFMPEG: fallback to use tag 0x7634706d/'mp4v'\n",
      "OpenCV: FFMPEG: tag 0x44495658/'XVID' is not supported with codec id 12 and format 'mp4 / MP4 (MPEG-4 Part 14)'\n",
      "OpenCV: FFMPEG: fallback to use tag 0x7634706d/'mp4v'\n"
     ]
    },
    {
     "name": "stdout",
     "output_type": "stream",
     "text": [
      "비디오 저장 완료: UCF_Crimes_10crop/Videos/Testing_Normal_Videos_Anomaly/Normal_Videos_018_x264__1.mp4\n",
      "비디오 저장 완료: UCF_Crimes_10crop/Videos/Testing_Normal_Videos_Anomaly/Normal_Videos_018_x264__6.mp4\n",
      "<class 'list'>\n",
      "<class 'numpy.ndarray'>\n",
      "(120, 160, 3)\n"
     ]
    },
    {
     "name": "stderr",
     "output_type": "stream",
     "text": [
      "OpenCV: FFMPEG: tag 0x44495658/'XVID' is not supported with codec id 12 and format 'mp4 / MP4 (MPEG-4 Part 14)'\n",
      "OpenCV: FFMPEG: fallback to use tag 0x7634706d/'mp4v'\n",
      "OpenCV: FFMPEG: tag 0x44495658/'XVID' is not supported with codec id 12 and format 'mp4 / MP4 (MPEG-4 Part 14)'\n",
      "OpenCV: FFMPEG: fallback to use tag 0x7634706d/'mp4v'\n"
     ]
    },
    {
     "name": "stdout",
     "output_type": "stream",
     "text": [
      "비디오 저장 완료: UCF_Crimes_10crop/Videos/Testing_Normal_Videos_Anomaly/Normal_Videos_018_x264__2.mp4\n",
      "비디오 저장 완료: UCF_Crimes_10crop/Videos/Testing_Normal_Videos_Anomaly/Normal_Videos_018_x264__7.mp4\n",
      "<class 'list'>\n",
      "<class 'numpy.ndarray'>\n",
      "(120, 160, 3)\n"
     ]
    },
    {
     "name": "stderr",
     "output_type": "stream",
     "text": [
      "OpenCV: FFMPEG: tag 0x44495658/'XVID' is not supported with codec id 12 and format 'mp4 / MP4 (MPEG-4 Part 14)'\n",
      "OpenCV: FFMPEG: fallback to use tag 0x7634706d/'mp4v'\n",
      "OpenCV: FFMPEG: tag 0x44495658/'XVID' is not supported with codec id 12 and format 'mp4 / MP4 (MPEG-4 Part 14)'\n",
      "OpenCV: FFMPEG: fallback to use tag 0x7634706d/'mp4v'\n"
     ]
    },
    {
     "name": "stdout",
     "output_type": "stream",
     "text": [
      "비디오 저장 완료: UCF_Crimes_10crop/Videos/Testing_Normal_Videos_Anomaly/Normal_Videos_018_x264__3.mp4\n",
      "비디오 저장 완료: UCF_Crimes_10crop/Videos/Testing_Normal_Videos_Anomaly/Normal_Videos_018_x264__8.mp4\n",
      "<class 'list'>\n",
      "<class 'numpy.ndarray'>\n",
      "(120, 160, 3)\n"
     ]
    },
    {
     "name": "stderr",
     "output_type": "stream",
     "text": [
      "OpenCV: FFMPEG: tag 0x44495658/'XVID' is not supported with codec id 12 and format 'mp4 / MP4 (MPEG-4 Part 14)'\n",
      "OpenCV: FFMPEG: fallback to use tag 0x7634706d/'mp4v'\n",
      "OpenCV: FFMPEG: tag 0x44495658/'XVID' is not supported with codec id 12 and format 'mp4 / MP4 (MPEG-4 Part 14)'\n",
      "OpenCV: FFMPEG: fallback to use tag 0x7634706d/'mp4v'\n"
     ]
    },
    {
     "name": "stdout",
     "output_type": "stream",
     "text": [
      "비디오 저장 완료: UCF_Crimes_10crop/Videos/Testing_Normal_Videos_Anomaly/Normal_Videos_018_x264__4.mp4\n",
      "비디오 저장 완료: UCF_Crimes_10crop/Videos/Testing_Normal_Videos_Anomaly/Normal_Videos_018_x264__9.mp4\n",
      "320   240\n",
      "FPS: 30.0\n",
      "<class 'list'>\n",
      "<class 'numpy.ndarray'>\n",
      "(120, 160, 3)\n",
      "비디오 저장 완료: UCF_Crimes_10crop/Videos/Testing_Normal_Videos_Anomaly/Normal_Videos_928_x264__0.mp4\n",
      "비디오 저장 완료: UCF_Crimes_10crop/Videos/Testing_Normal_Videos_Anomaly/Normal_Videos_928_x264__5.mp4\n",
      "<class 'list'>\n",
      "<class 'numpy.ndarray'>\n",
      "(120, 160, 3)\n"
     ]
    },
    {
     "name": "stderr",
     "output_type": "stream",
     "text": [
      "OpenCV: FFMPEG: tag 0x44495658/'XVID' is not supported with codec id 12 and format 'mp4 / MP4 (MPEG-4 Part 14)'\n",
      "OpenCV: FFMPEG: fallback to use tag 0x7634706d/'mp4v'\n",
      "OpenCV: FFMPEG: tag 0x44495658/'XVID' is not supported with codec id 12 and format 'mp4 / MP4 (MPEG-4 Part 14)'\n",
      "OpenCV: FFMPEG: fallback to use tag 0x7634706d/'mp4v'\n",
      "OpenCV: FFMPEG: tag 0x44495658/'XVID' is not supported with codec id 12 and format 'mp4 / MP4 (MPEG-4 Part 14)'\n",
      "OpenCV: FFMPEG: fallback to use tag 0x7634706d/'mp4v'\n",
      "OpenCV: FFMPEG: tag 0x44495658/'XVID' is not supported with codec id 12 and format 'mp4 / MP4 (MPEG-4 Part 14)'\n",
      "OpenCV: FFMPEG: fallback to use tag 0x7634706d/'mp4v'\n"
     ]
    },
    {
     "name": "stdout",
     "output_type": "stream",
     "text": [
      "비디오 저장 완료: UCF_Crimes_10crop/Videos/Testing_Normal_Videos_Anomaly/Normal_Videos_928_x264__1.mp4\n",
      "비디오 저장 완료: UCF_Crimes_10crop/Videos/Testing_Normal_Videos_Anomaly/Normal_Videos_928_x264__6.mp4\n",
      "<class 'list'>\n",
      "<class 'numpy.ndarray'>\n",
      "(120, 160, 3)\n",
      "비디오 저장 완료: UCF_Crimes_10crop/Videos/Testing_Normal_Videos_Anomaly/Normal_Videos_928_x264__2.mp4\n",
      "비디오 저장 완료: UCF_Crimes_10crop/Videos/Testing_Normal_Videos_Anomaly/Normal_Videos_928_x264__7.mp4\n",
      "<class 'list'>\n",
      "<class 'numpy.ndarray'>\n",
      "(120, 160, 3)\n"
     ]
    },
    {
     "name": "stderr",
     "output_type": "stream",
     "text": [
      "OpenCV: FFMPEG: tag 0x44495658/'XVID' is not supported with codec id 12 and format 'mp4 / MP4 (MPEG-4 Part 14)'\n",
      "OpenCV: FFMPEG: fallback to use tag 0x7634706d/'mp4v'\n",
      "OpenCV: FFMPEG: tag 0x44495658/'XVID' is not supported with codec id 12 and format 'mp4 / MP4 (MPEG-4 Part 14)'\n",
      "OpenCV: FFMPEG: fallback to use tag 0x7634706d/'mp4v'\n",
      "OpenCV: FFMPEG: tag 0x44495658/'XVID' is not supported with codec id 12 and format 'mp4 / MP4 (MPEG-4 Part 14)'\n",
      "OpenCV: FFMPEG: fallback to use tag 0x7634706d/'mp4v'\n",
      "OpenCV: FFMPEG: tag 0x44495658/'XVID' is not supported with codec id 12 and format 'mp4 / MP4 (MPEG-4 Part 14)'\n",
      "OpenCV: FFMPEG: fallback to use tag 0x7634706d/'mp4v'\n"
     ]
    },
    {
     "name": "stdout",
     "output_type": "stream",
     "text": [
      "비디오 저장 완료: UCF_Crimes_10crop/Videos/Testing_Normal_Videos_Anomaly/Normal_Videos_928_x264__3.mp4\n",
      "비디오 저장 완료: UCF_Crimes_10crop/Videos/Testing_Normal_Videos_Anomaly/Normal_Videos_928_x264__8.mp4\n",
      "<class 'list'>\n",
      "<class 'numpy.ndarray'>\n",
      "(120, 160, 3)\n",
      "비디오 저장 완료: UCF_Crimes_10crop/Videos/Testing_Normal_Videos_Anomaly/Normal_Videos_928_x264__4.mp4\n",
      "비디오 저장 완료: UCF_Crimes_10crop/Videos/Testing_Normal_Videos_Anomaly/Normal_Videos_928_x264__9.mp4\n",
      "320   240\n",
      "FPS: 30.0\n"
     ]
    },
    {
     "name": "stderr",
     "output_type": "stream",
     "text": [
      "OpenCV: FFMPEG: tag 0x44495658/'XVID' is not supported with codec id 12 and format 'mp4 / MP4 (MPEG-4 Part 14)'\n",
      "OpenCV: FFMPEG: fallback to use tag 0x7634706d/'mp4v'\n",
      "OpenCV: FFMPEG: tag 0x44495658/'XVID' is not supported with codec id 12 and format 'mp4 / MP4 (MPEG-4 Part 14)'\n",
      "OpenCV: FFMPEG: fallback to use tag 0x7634706d/'mp4v'\n"
     ]
    },
    {
     "name": "stdout",
     "output_type": "stream",
     "text": [
      "<class 'list'>\n",
      "<class 'numpy.ndarray'>\n",
      "(120, 160, 3)\n",
      "비디오 저장 완료: UCF_Crimes_10crop/Videos/Testing_Normal_Videos_Anomaly/Normal_Videos_909_x264__0.mp4\n",
      "비디오 저장 완료: UCF_Crimes_10crop/Videos/Testing_Normal_Videos_Anomaly/Normal_Videos_909_x264__5.mp4\n",
      "<class 'list'>\n",
      "<class 'numpy.ndarray'>\n",
      "(120, 160, 3)\n"
     ]
    },
    {
     "name": "stderr",
     "output_type": "stream",
     "text": [
      "OpenCV: FFMPEG: tag 0x44495658/'XVID' is not supported with codec id 12 and format 'mp4 / MP4 (MPEG-4 Part 14)'\n",
      "OpenCV: FFMPEG: fallback to use tag 0x7634706d/'mp4v'\n",
      "OpenCV: FFMPEG: tag 0x44495658/'XVID' is not supported with codec id 12 and format 'mp4 / MP4 (MPEG-4 Part 14)'\n",
      "OpenCV: FFMPEG: fallback to use tag 0x7634706d/'mp4v'\n",
      "OpenCV: FFMPEG: tag 0x44495658/'XVID' is not supported with codec id 12 and format 'mp4 / MP4 (MPEG-4 Part 14)'\n",
      "OpenCV: FFMPEG: fallback to use tag 0x7634706d/'mp4v'\n",
      "OpenCV: FFMPEG: tag 0x44495658/'XVID' is not supported with codec id 12 and format 'mp4 / MP4 (MPEG-4 Part 14)'\n",
      "OpenCV: FFMPEG: fallback to use tag 0x7634706d/'mp4v'\n"
     ]
    },
    {
     "name": "stdout",
     "output_type": "stream",
     "text": [
      "비디오 저장 완료: UCF_Crimes_10crop/Videos/Testing_Normal_Videos_Anomaly/Normal_Videos_909_x264__1.mp4\n",
      "비디오 저장 완료: UCF_Crimes_10crop/Videos/Testing_Normal_Videos_Anomaly/Normal_Videos_909_x264__6.mp4\n",
      "<class 'list'>\n",
      "<class 'numpy.ndarray'>\n",
      "(120, 160, 3)\n",
      "비디오 저장 완료: UCF_Crimes_10crop/Videos/Testing_Normal_Videos_Anomaly/Normal_Videos_909_x264__2.mp4\n",
      "비디오 저장 완료: UCF_Crimes_10crop/Videos/Testing_Normal_Videos_Anomaly/Normal_Videos_909_x264__7.mp4\n",
      "<class 'list'>\n",
      "<class 'numpy.ndarray'>\n",
      "(120, 160, 3)\n"
     ]
    },
    {
     "name": "stderr",
     "output_type": "stream",
     "text": [
      "OpenCV: FFMPEG: tag 0x44495658/'XVID' is not supported with codec id 12 and format 'mp4 / MP4 (MPEG-4 Part 14)'\n",
      "OpenCV: FFMPEG: fallback to use tag 0x7634706d/'mp4v'\n",
      "OpenCV: FFMPEG: tag 0x44495658/'XVID' is not supported with codec id 12 and format 'mp4 / MP4 (MPEG-4 Part 14)'\n",
      "OpenCV: FFMPEG: fallback to use tag 0x7634706d/'mp4v'\n",
      "OpenCV: FFMPEG: tag 0x44495658/'XVID' is not supported with codec id 12 and format 'mp4 / MP4 (MPEG-4 Part 14)'\n",
      "OpenCV: FFMPEG: fallback to use tag 0x7634706d/'mp4v'\n",
      "OpenCV: FFMPEG: tag 0x44495658/'XVID' is not supported with codec id 12 and format 'mp4 / MP4 (MPEG-4 Part 14)'\n",
      "OpenCV: FFMPEG: fallback to use tag 0x7634706d/'mp4v'\n"
     ]
    },
    {
     "name": "stdout",
     "output_type": "stream",
     "text": [
      "비디오 저장 완료: UCF_Crimes_10crop/Videos/Testing_Normal_Videos_Anomaly/Normal_Videos_909_x264__3.mp4\n",
      "비디오 저장 완료: UCF_Crimes_10crop/Videos/Testing_Normal_Videos_Anomaly/Normal_Videos_909_x264__8.mp4\n",
      "<class 'list'>\n",
      "<class 'numpy.ndarray'>\n",
      "(120, 160, 3)\n",
      "비디오 저장 완료: UCF_Crimes_10crop/Videos/Testing_Normal_Videos_Anomaly/Normal_Videos_909_x264__4.mp4\n",
      "비디오 저장 완료: UCF_Crimes_10crop/Videos/Testing_Normal_Videos_Anomaly/Normal_Videos_909_x264__9.mp4\n"
     ]
    },
    {
     "name": "stderr",
     "output_type": "stream",
     "text": [
      "OpenCV: FFMPEG: tag 0x44495658/'XVID' is not supported with codec id 12 and format 'mp4 / MP4 (MPEG-4 Part 14)'\n",
      "OpenCV: FFMPEG: fallback to use tag 0x7634706d/'mp4v'\n",
      "OpenCV: FFMPEG: tag 0x44495658/'XVID' is not supported with codec id 12 and format 'mp4 / MP4 (MPEG-4 Part 14)'\n",
      "OpenCV: FFMPEG: fallback to use tag 0x7634706d/'mp4v'\n"
     ]
    },
    {
     "name": "stdout",
     "output_type": "stream",
     "text": [
      "320   240\n",
      "FPS: 30.0\n",
      "<class 'list'>\n",
      "<class 'numpy.ndarray'>\n",
      "(120, 160, 3)\n"
     ]
    },
    {
     "name": "stderr",
     "output_type": "stream",
     "text": [
      "OpenCV: FFMPEG: tag 0x44495658/'XVID' is not supported with codec id 12 and format 'mp4 / MP4 (MPEG-4 Part 14)'\n",
      "OpenCV: FFMPEG: fallback to use tag 0x7634706d/'mp4v'\n",
      "OpenCV: FFMPEG: tag 0x44495658/'XVID' is not supported with codec id 12 and format 'mp4 / MP4 (MPEG-4 Part 14)'\n",
      "OpenCV: FFMPEG: fallback to use tag 0x7634706d/'mp4v'\n"
     ]
    },
    {
     "name": "stdout",
     "output_type": "stream",
     "text": [
      "비디오 저장 완료: UCF_Crimes_10crop/Videos/Testing_Normal_Videos_Anomaly/Normal_Videos_886_x264__0.mp4\n",
      "비디오 저장 완료: UCF_Crimes_10crop/Videos/Testing_Normal_Videos_Anomaly/Normal_Videos_886_x264__5.mp4\n",
      "<class 'list'>\n",
      "<class 'numpy.ndarray'>\n",
      "(120, 160, 3)\n"
     ]
    },
    {
     "name": "stderr",
     "output_type": "stream",
     "text": [
      "OpenCV: FFMPEG: tag 0x44495658/'XVID' is not supported with codec id 12 and format 'mp4 / MP4 (MPEG-4 Part 14)'\n",
      "OpenCV: FFMPEG: fallback to use tag 0x7634706d/'mp4v'\n",
      "OpenCV: FFMPEG: tag 0x44495658/'XVID' is not supported with codec id 12 and format 'mp4 / MP4 (MPEG-4 Part 14)'\n",
      "OpenCV: FFMPEG: fallback to use tag 0x7634706d/'mp4v'\n"
     ]
    },
    {
     "name": "stdout",
     "output_type": "stream",
     "text": [
      "비디오 저장 완료: UCF_Crimes_10crop/Videos/Testing_Normal_Videos_Anomaly/Normal_Videos_886_x264__1.mp4\n",
      "비디오 저장 완료: UCF_Crimes_10crop/Videos/Testing_Normal_Videos_Anomaly/Normal_Videos_886_x264__6.mp4\n",
      "<class 'list'>\n",
      "<class 'numpy.ndarray'>\n",
      "(120, 160, 3)\n"
     ]
    },
    {
     "name": "stderr",
     "output_type": "stream",
     "text": [
      "OpenCV: FFMPEG: tag 0x44495658/'XVID' is not supported with codec id 12 and format 'mp4 / MP4 (MPEG-4 Part 14)'\n",
      "OpenCV: FFMPEG: fallback to use tag 0x7634706d/'mp4v'\n",
      "OpenCV: FFMPEG: tag 0x44495658/'XVID' is not supported with codec id 12 and format 'mp4 / MP4 (MPEG-4 Part 14)'\n",
      "OpenCV: FFMPEG: fallback to use tag 0x7634706d/'mp4v'\n"
     ]
    },
    {
     "name": "stdout",
     "output_type": "stream",
     "text": [
      "비디오 저장 완료: UCF_Crimes_10crop/Videos/Testing_Normal_Videos_Anomaly/Normal_Videos_886_x264__2.mp4\n",
      "비디오 저장 완료: UCF_Crimes_10crop/Videos/Testing_Normal_Videos_Anomaly/Normal_Videos_886_x264__7.mp4\n",
      "<class 'list'>\n",
      "<class 'numpy.ndarray'>\n",
      "(120, 160, 3)\n"
     ]
    },
    {
     "name": "stderr",
     "output_type": "stream",
     "text": [
      "OpenCV: FFMPEG: tag 0x44495658/'XVID' is not supported with codec id 12 and format 'mp4 / MP4 (MPEG-4 Part 14)'\n",
      "OpenCV: FFMPEG: fallback to use tag 0x7634706d/'mp4v'\n",
      "OpenCV: FFMPEG: tag 0x44495658/'XVID' is not supported with codec id 12 and format 'mp4 / MP4 (MPEG-4 Part 14)'\n",
      "OpenCV: FFMPEG: fallback to use tag 0x7634706d/'mp4v'\n"
     ]
    },
    {
     "name": "stdout",
     "output_type": "stream",
     "text": [
      "비디오 저장 완료: UCF_Crimes_10crop/Videos/Testing_Normal_Videos_Anomaly/Normal_Videos_886_x264__3.mp4\n",
      "비디오 저장 완료: UCF_Crimes_10crop/Videos/Testing_Normal_Videos_Anomaly/Normal_Videos_886_x264__8.mp4\n",
      "<class 'list'>\n",
      "<class 'numpy.ndarray'>\n",
      "(120, 160, 3)\n"
     ]
    },
    {
     "name": "stderr",
     "output_type": "stream",
     "text": [
      "OpenCV: FFMPEG: tag 0x44495658/'XVID' is not supported with codec id 12 and format 'mp4 / MP4 (MPEG-4 Part 14)'\n",
      "OpenCV: FFMPEG: fallback to use tag 0x7634706d/'mp4v'\n",
      "OpenCV: FFMPEG: tag 0x44495658/'XVID' is not supported with codec id 12 and format 'mp4 / MP4 (MPEG-4 Part 14)'\n",
      "OpenCV: FFMPEG: fallback to use tag 0x7634706d/'mp4v'\n"
     ]
    },
    {
     "name": "stdout",
     "output_type": "stream",
     "text": [
      "비디오 저장 완료: UCF_Crimes_10crop/Videos/Testing_Normal_Videos_Anomaly/Normal_Videos_886_x264__4.mp4\n",
      "비디오 저장 완료: UCF_Crimes_10crop/Videos/Testing_Normal_Videos_Anomaly/Normal_Videos_886_x264__9.mp4\n",
      "320   240\n",
      "FPS: 30.0\n",
      "<class 'list'>\n",
      "<class 'numpy.ndarray'>\n",
      "(120, 160, 3)\n"
     ]
    },
    {
     "name": "stderr",
     "output_type": "stream",
     "text": [
      "OpenCV: FFMPEG: tag 0x44495658/'XVID' is not supported with codec id 12 and format 'mp4 / MP4 (MPEG-4 Part 14)'\n",
      "OpenCV: FFMPEG: fallback to use tag 0x7634706d/'mp4v'\n",
      "OpenCV: FFMPEG: tag 0x44495658/'XVID' is not supported with codec id 12 and format 'mp4 / MP4 (MPEG-4 Part 14)'\n",
      "OpenCV: FFMPEG: fallback to use tag 0x7634706d/'mp4v'\n"
     ]
    },
    {
     "name": "stdout",
     "output_type": "stream",
     "text": [
      "비디오 저장 완료: UCF_Crimes_10crop/Videos/Testing_Normal_Videos_Anomaly/Normal_Videos_901_x264__0.mp4\n",
      "비디오 저장 완료: UCF_Crimes_10crop/Videos/Testing_Normal_Videos_Anomaly/Normal_Videos_901_x264__5.mp4\n",
      "<class 'list'>\n",
      "<class 'numpy.ndarray'>\n",
      "(120, 160, 3)\n"
     ]
    },
    {
     "name": "stderr",
     "output_type": "stream",
     "text": [
      "OpenCV: FFMPEG: tag 0x44495658/'XVID' is not supported with codec id 12 and format 'mp4 / MP4 (MPEG-4 Part 14)'\n",
      "OpenCV: FFMPEG: fallback to use tag 0x7634706d/'mp4v'\n",
      "OpenCV: FFMPEG: tag 0x44495658/'XVID' is not supported with codec id 12 and format 'mp4 / MP4 (MPEG-4 Part 14)'\n",
      "OpenCV: FFMPEG: fallback to use tag 0x7634706d/'mp4v'\n"
     ]
    },
    {
     "name": "stdout",
     "output_type": "stream",
     "text": [
      "비디오 저장 완료: UCF_Crimes_10crop/Videos/Testing_Normal_Videos_Anomaly/Normal_Videos_901_x264__1.mp4\n",
      "비디오 저장 완료: UCF_Crimes_10crop/Videos/Testing_Normal_Videos_Anomaly/Normal_Videos_901_x264__6.mp4\n",
      "<class 'list'>\n",
      "<class 'numpy.ndarray'>\n",
      "(120, 160, 3)\n"
     ]
    },
    {
     "name": "stderr",
     "output_type": "stream",
     "text": [
      "OpenCV: FFMPEG: tag 0x44495658/'XVID' is not supported with codec id 12 and format 'mp4 / MP4 (MPEG-4 Part 14)'\n",
      "OpenCV: FFMPEG: fallback to use tag 0x7634706d/'mp4v'\n",
      "OpenCV: FFMPEG: tag 0x44495658/'XVID' is not supported with codec id 12 and format 'mp4 / MP4 (MPEG-4 Part 14)'\n",
      "OpenCV: FFMPEG: fallback to use tag 0x7634706d/'mp4v'\n"
     ]
    },
    {
     "name": "stdout",
     "output_type": "stream",
     "text": [
      "비디오 저장 완료: UCF_Crimes_10crop/Videos/Testing_Normal_Videos_Anomaly/Normal_Videos_901_x264__2.mp4\n",
      "비디오 저장 완료: UCF_Crimes_10crop/Videos/Testing_Normal_Videos_Anomaly/Normal_Videos_901_x264__7.mp4\n",
      "<class 'list'>\n",
      "<class 'numpy.ndarray'>\n",
      "(120, 160, 3)\n",
      "비디오 저장 완료: UCF_Crimes_10crop/Videos/Testing_Normal_Videos_Anomaly/Normal_Videos_901_x264__3.mp4\n",
      "비디오 저장 완료: UCF_Crimes_10crop/Videos/Testing_Normal_Videos_Anomaly/Normal_Videos_901_x264__8.mp4\n",
      "<class 'list'>\n",
      "<class 'numpy.ndarray'>\n",
      "(120, 160, 3)\n"
     ]
    },
    {
     "name": "stderr",
     "output_type": "stream",
     "text": [
      "OpenCV: FFMPEG: tag 0x44495658/'XVID' is not supported with codec id 12 and format 'mp4 / MP4 (MPEG-4 Part 14)'\n",
      "OpenCV: FFMPEG: fallback to use tag 0x7634706d/'mp4v'\n",
      "OpenCV: FFMPEG: tag 0x44495658/'XVID' is not supported with codec id 12 and format 'mp4 / MP4 (MPEG-4 Part 14)'\n",
      "OpenCV: FFMPEG: fallback to use tag 0x7634706d/'mp4v'\n",
      "OpenCV: FFMPEG: tag 0x44495658/'XVID' is not supported with codec id 12 and format 'mp4 / MP4 (MPEG-4 Part 14)'\n",
      "OpenCV: FFMPEG: fallback to use tag 0x7634706d/'mp4v'\n",
      "OpenCV: FFMPEG: tag 0x44495658/'XVID' is not supported with codec id 12 and format 'mp4 / MP4 (MPEG-4 Part 14)'\n",
      "OpenCV: FFMPEG: fallback to use tag 0x7634706d/'mp4v'\n"
     ]
    },
    {
     "name": "stdout",
     "output_type": "stream",
     "text": [
      "비디오 저장 완료: UCF_Crimes_10crop/Videos/Testing_Normal_Videos_Anomaly/Normal_Videos_901_x264__4.mp4\n",
      "비디오 저장 완료: UCF_Crimes_10crop/Videos/Testing_Normal_Videos_Anomaly/Normal_Videos_901_x264__9.mp4\n",
      "320   240\n",
      "FPS: 30.0\n",
      "<class 'list'>\n",
      "<class 'numpy.ndarray'>\n",
      "(120, 160, 3)\n"
     ]
    },
    {
     "name": "stderr",
     "output_type": "stream",
     "text": [
      "OpenCV: FFMPEG: tag 0x44495658/'XVID' is not supported with codec id 12 and format 'mp4 / MP4 (MPEG-4 Part 14)'\n",
      "OpenCV: FFMPEG: fallback to use tag 0x7634706d/'mp4v'\n",
      "OpenCV: FFMPEG: tag 0x44495658/'XVID' is not supported with codec id 12 and format 'mp4 / MP4 (MPEG-4 Part 14)'\n",
      "OpenCV: FFMPEG: fallback to use tag 0x7634706d/'mp4v'\n"
     ]
    },
    {
     "name": "stdout",
     "output_type": "stream",
     "text": [
      "비디오 저장 완료: UCF_Crimes_10crop/Videos/Testing_Normal_Videos_Anomaly/Normal_Videos_782_x264__0.mp4\n",
      "비디오 저장 완료: UCF_Crimes_10crop/Videos/Testing_Normal_Videos_Anomaly/Normal_Videos_782_x264__5.mp4\n",
      "<class 'list'>\n",
      "<class 'numpy.ndarray'>\n",
      "(120, 160, 3)\n"
     ]
    },
    {
     "name": "stderr",
     "output_type": "stream",
     "text": [
      "OpenCV: FFMPEG: tag 0x44495658/'XVID' is not supported with codec id 12 and format 'mp4 / MP4 (MPEG-4 Part 14)'\n",
      "OpenCV: FFMPEG: fallback to use tag 0x7634706d/'mp4v'\n",
      "OpenCV: FFMPEG: tag 0x44495658/'XVID' is not supported with codec id 12 and format 'mp4 / MP4 (MPEG-4 Part 14)'\n",
      "OpenCV: FFMPEG: fallback to use tag 0x7634706d/'mp4v'\n"
     ]
    },
    {
     "name": "stdout",
     "output_type": "stream",
     "text": [
      "비디오 저장 완료: UCF_Crimes_10crop/Videos/Testing_Normal_Videos_Anomaly/Normal_Videos_782_x264__1.mp4\n",
      "비디오 저장 완료: UCF_Crimes_10crop/Videos/Testing_Normal_Videos_Anomaly/Normal_Videos_782_x264__6.mp4\n",
      "<class 'list'>\n",
      "<class 'numpy.ndarray'>\n",
      "(120, 160, 3)\n"
     ]
    },
    {
     "name": "stderr",
     "output_type": "stream",
     "text": [
      "OpenCV: FFMPEG: tag 0x44495658/'XVID' is not supported with codec id 12 and format 'mp4 / MP4 (MPEG-4 Part 14)'\n",
      "OpenCV: FFMPEG: fallback to use tag 0x7634706d/'mp4v'\n",
      "OpenCV: FFMPEG: tag 0x44495658/'XVID' is not supported with codec id 12 and format 'mp4 / MP4 (MPEG-4 Part 14)'\n",
      "OpenCV: FFMPEG: fallback to use tag 0x7634706d/'mp4v'\n"
     ]
    },
    {
     "name": "stdout",
     "output_type": "stream",
     "text": [
      "비디오 저장 완료: UCF_Crimes_10crop/Videos/Testing_Normal_Videos_Anomaly/Normal_Videos_782_x264__2.mp4\n",
      "비디오 저장 완료: UCF_Crimes_10crop/Videos/Testing_Normal_Videos_Anomaly/Normal_Videos_782_x264__7.mp4\n",
      "<class 'list'>\n",
      "<class 'numpy.ndarray'>\n",
      "(120, 160, 3)\n"
     ]
    },
    {
     "name": "stderr",
     "output_type": "stream",
     "text": [
      "OpenCV: FFMPEG: tag 0x44495658/'XVID' is not supported with codec id 12 and format 'mp4 / MP4 (MPEG-4 Part 14)'\n",
      "OpenCV: FFMPEG: fallback to use tag 0x7634706d/'mp4v'\n",
      "OpenCV: FFMPEG: tag 0x44495658/'XVID' is not supported with codec id 12 and format 'mp4 / MP4 (MPEG-4 Part 14)'\n",
      "OpenCV: FFMPEG: fallback to use tag 0x7634706d/'mp4v'\n"
     ]
    },
    {
     "name": "stdout",
     "output_type": "stream",
     "text": [
      "비디오 저장 완료: UCF_Crimes_10crop/Videos/Testing_Normal_Videos_Anomaly/Normal_Videos_782_x264__3.mp4\n",
      "비디오 저장 완료: UCF_Crimes_10crop/Videos/Testing_Normal_Videos_Anomaly/Normal_Videos_782_x264__8.mp4\n",
      "<class 'list'>\n",
      "<class 'numpy.ndarray'>\n",
      "(120, 160, 3)\n"
     ]
    },
    {
     "name": "stderr",
     "output_type": "stream",
     "text": [
      "OpenCV: FFMPEG: tag 0x44495658/'XVID' is not supported with codec id 12 and format 'mp4 / MP4 (MPEG-4 Part 14)'\n",
      "OpenCV: FFMPEG: fallback to use tag 0x7634706d/'mp4v'\n",
      "OpenCV: FFMPEG: tag 0x44495658/'XVID' is not supported with codec id 12 and format 'mp4 / MP4 (MPEG-4 Part 14)'\n",
      "OpenCV: FFMPEG: fallback to use tag 0x7634706d/'mp4v'\n"
     ]
    },
    {
     "name": "stdout",
     "output_type": "stream",
     "text": [
      "비디오 저장 완료: UCF_Crimes_10crop/Videos/Testing_Normal_Videos_Anomaly/Normal_Videos_782_x264__4.mp4\n",
      "비디오 저장 완료: UCF_Crimes_10crop/Videos/Testing_Normal_Videos_Anomaly/Normal_Videos_782_x264__9.mp4\n",
      "320   240\n",
      "FPS: 30.0\n",
      "<class 'list'>\n",
      "<class 'numpy.ndarray'>\n",
      "(120, 160, 3)\n"
     ]
    },
    {
     "name": "stderr",
     "output_type": "stream",
     "text": [
      "OpenCV: FFMPEG: tag 0x44495658/'XVID' is not supported with codec id 12 and format 'mp4 / MP4 (MPEG-4 Part 14)'\n",
      "OpenCV: FFMPEG: fallback to use tag 0x7634706d/'mp4v'\n",
      "OpenCV: FFMPEG: tag 0x44495658/'XVID' is not supported with codec id 12 and format 'mp4 / MP4 (MPEG-4 Part 14)'\n",
      "OpenCV: FFMPEG: fallback to use tag 0x7634706d/'mp4v'\n"
     ]
    },
    {
     "name": "stdout",
     "output_type": "stream",
     "text": [
      "비디오 저장 완료: UCF_Crimes_10crop/Videos/Testing_Normal_Videos_Anomaly/Normal_Videos_923_x264__0.mp4\n",
      "비디오 저장 완료: UCF_Crimes_10crop/Videos/Testing_Normal_Videos_Anomaly/Normal_Videos_923_x264__5.mp4\n",
      "<class 'list'>\n",
      "<class 'numpy.ndarray'>\n",
      "(120, 160, 3)\n"
     ]
    },
    {
     "name": "stderr",
     "output_type": "stream",
     "text": [
      "OpenCV: FFMPEG: tag 0x44495658/'XVID' is not supported with codec id 12 and format 'mp4 / MP4 (MPEG-4 Part 14)'\n",
      "OpenCV: FFMPEG: fallback to use tag 0x7634706d/'mp4v'\n",
      "OpenCV: FFMPEG: tag 0x44495658/'XVID' is not supported with codec id 12 and format 'mp4 / MP4 (MPEG-4 Part 14)'\n",
      "OpenCV: FFMPEG: fallback to use tag 0x7634706d/'mp4v'\n"
     ]
    },
    {
     "name": "stdout",
     "output_type": "stream",
     "text": [
      "비디오 저장 완료: UCF_Crimes_10crop/Videos/Testing_Normal_Videos_Anomaly/Normal_Videos_923_x264__1.mp4\n",
      "비디오 저장 완료: UCF_Crimes_10crop/Videos/Testing_Normal_Videos_Anomaly/Normal_Videos_923_x264__6.mp4\n",
      "<class 'list'>\n",
      "<class 'numpy.ndarray'>\n",
      "(120, 160, 3)\n"
     ]
    },
    {
     "name": "stderr",
     "output_type": "stream",
     "text": [
      "OpenCV: FFMPEG: tag 0x44495658/'XVID' is not supported with codec id 12 and format 'mp4 / MP4 (MPEG-4 Part 14)'\n",
      "OpenCV: FFMPEG: fallback to use tag 0x7634706d/'mp4v'\n",
      "OpenCV: FFMPEG: tag 0x44495658/'XVID' is not supported with codec id 12 and format 'mp4 / MP4 (MPEG-4 Part 14)'\n",
      "OpenCV: FFMPEG: fallback to use tag 0x7634706d/'mp4v'\n"
     ]
    },
    {
     "name": "stdout",
     "output_type": "stream",
     "text": [
      "비디오 저장 완료: UCF_Crimes_10crop/Videos/Testing_Normal_Videos_Anomaly/Normal_Videos_923_x264__2.mp4\n",
      "비디오 저장 완료: UCF_Crimes_10crop/Videos/Testing_Normal_Videos_Anomaly/Normal_Videos_923_x264__7.mp4\n",
      "<class 'list'>\n",
      "<class 'numpy.ndarray'>\n",
      "(120, 160, 3)\n"
     ]
    },
    {
     "name": "stderr",
     "output_type": "stream",
     "text": [
      "OpenCV: FFMPEG: tag 0x44495658/'XVID' is not supported with codec id 12 and format 'mp4 / MP4 (MPEG-4 Part 14)'\n",
      "OpenCV: FFMPEG: fallback to use tag 0x7634706d/'mp4v'\n",
      "OpenCV: FFMPEG: tag 0x44495658/'XVID' is not supported with codec id 12 and format 'mp4 / MP4 (MPEG-4 Part 14)'\n",
      "OpenCV: FFMPEG: fallback to use tag 0x7634706d/'mp4v'\n"
     ]
    },
    {
     "name": "stdout",
     "output_type": "stream",
     "text": [
      "비디오 저장 완료: UCF_Crimes_10crop/Videos/Testing_Normal_Videos_Anomaly/Normal_Videos_923_x264__3.mp4\n",
      "비디오 저장 완료: UCF_Crimes_10crop/Videos/Testing_Normal_Videos_Anomaly/Normal_Videos_923_x264__8.mp4\n",
      "<class 'list'>\n",
      "<class 'numpy.ndarray'>\n",
      "(120, 160, 3)\n"
     ]
    },
    {
     "name": "stderr",
     "output_type": "stream",
     "text": [
      "OpenCV: FFMPEG: tag 0x44495658/'XVID' is not supported with codec id 12 and format 'mp4 / MP4 (MPEG-4 Part 14)'\n",
      "OpenCV: FFMPEG: fallback to use tag 0x7634706d/'mp4v'\n",
      "OpenCV: FFMPEG: tag 0x44495658/'XVID' is not supported with codec id 12 and format 'mp4 / MP4 (MPEG-4 Part 14)'\n",
      "OpenCV: FFMPEG: fallback to use tag 0x7634706d/'mp4v'\n"
     ]
    },
    {
     "name": "stdout",
     "output_type": "stream",
     "text": [
      "비디오 저장 완료: UCF_Crimes_10crop/Videos/Testing_Normal_Videos_Anomaly/Normal_Videos_923_x264__4.mp4\n",
      "비디오 저장 완료: UCF_Crimes_10crop/Videos/Testing_Normal_Videos_Anomaly/Normal_Videos_923_x264__9.mp4\n",
      "320   240\n",
      "FPS: 30.0\n",
      "<class 'list'>\n",
      "<class 'numpy.ndarray'>\n",
      "(120, 160, 3)\n"
     ]
    },
    {
     "name": "stderr",
     "output_type": "stream",
     "text": [
      "OpenCV: FFMPEG: tag 0x44495658/'XVID' is not supported with codec id 12 and format 'mp4 / MP4 (MPEG-4 Part 14)'\n",
      "OpenCV: FFMPEG: fallback to use tag 0x7634706d/'mp4v'\n",
      "OpenCV: FFMPEG: tag 0x44495658/'XVID' is not supported with codec id 12 and format 'mp4 / MP4 (MPEG-4 Part 14)'\n",
      "OpenCV: FFMPEG: fallback to use tag 0x7634706d/'mp4v'\n"
     ]
    },
    {
     "name": "stdout",
     "output_type": "stream",
     "text": [
      "비디오 저장 완료: UCF_Crimes_10crop/Videos/Testing_Normal_Videos_Anomaly/Normal_Videos_872_x264__0.mp4\n",
      "비디오 저장 완료: UCF_Crimes_10crop/Videos/Testing_Normal_Videos_Anomaly/Normal_Videos_872_x264__5.mp4\n",
      "<class 'list'>\n",
      "<class 'numpy.ndarray'>\n",
      "(120, 160, 3)\n",
      "비디오 저장 완료: UCF_Crimes_10crop/Videos/Testing_Normal_Videos_Anomaly/Normal_Videos_872_x264__1.mp4\n",
      "비디오 저장 완료: UCF_Crimes_10crop/Videos/Testing_Normal_Videos_Anomaly/Normal_Videos_872_x264__6.mp4\n",
      "<class 'list'>\n",
      "<class 'numpy.ndarray'>\n",
      "(120, 160, 3)\n",
      "비디오 저장 완료: UCF_Crimes_10crop/Videos/Testing_Normal_Videos_Anomaly/Normal_Videos_872_x264__2.mp4\n",
      "비디오 저장 완료: UCF_Crimes_10crop/Videos/Testing_Normal_Videos_Anomaly/Normal_Videos_872_x264__7.mp4\n",
      "<class 'list'>\n",
      "<class 'numpy.ndarray'>\n",
      "(120, 160, 3)\n"
     ]
    },
    {
     "name": "stderr",
     "output_type": "stream",
     "text": [
      "OpenCV: FFMPEG: tag 0x44495658/'XVID' is not supported with codec id 12 and format 'mp4 / MP4 (MPEG-4 Part 14)'\n",
      "OpenCV: FFMPEG: fallback to use tag 0x7634706d/'mp4v'\n",
      "OpenCV: FFMPEG: tag 0x44495658/'XVID' is not supported with codec id 12 and format 'mp4 / MP4 (MPEG-4 Part 14)'\n",
      "OpenCV: FFMPEG: fallback to use tag 0x7634706d/'mp4v'\n",
      "OpenCV: FFMPEG: tag 0x44495658/'XVID' is not supported with codec id 12 and format 'mp4 / MP4 (MPEG-4 Part 14)'\n",
      "OpenCV: FFMPEG: fallback to use tag 0x7634706d/'mp4v'\n",
      "OpenCV: FFMPEG: tag 0x44495658/'XVID' is not supported with codec id 12 and format 'mp4 / MP4 (MPEG-4 Part 14)'\n",
      "OpenCV: FFMPEG: fallback to use tag 0x7634706d/'mp4v'\n",
      "OpenCV: FFMPEG: tag 0x44495658/'XVID' is not supported with codec id 12 and format 'mp4 / MP4 (MPEG-4 Part 14)'\n",
      "OpenCV: FFMPEG: fallback to use tag 0x7634706d/'mp4v'\n",
      "OpenCV: FFMPEG: tag 0x44495658/'XVID' is not supported with codec id 12 and format 'mp4 / MP4 (MPEG-4 Part 14)'\n",
      "OpenCV: FFMPEG: fallback to use tag 0x7634706d/'mp4v'\n"
     ]
    },
    {
     "name": "stdout",
     "output_type": "stream",
     "text": [
      "비디오 저장 완료: UCF_Crimes_10crop/Videos/Testing_Normal_Videos_Anomaly/Normal_Videos_872_x264__3.mp4\n",
      "비디오 저장 완료: UCF_Crimes_10crop/Videos/Testing_Normal_Videos_Anomaly/Normal_Videos_872_x264__8.mp4\n",
      "<class 'list'>\n",
      "<class 'numpy.ndarray'>\n",
      "(120, 160, 3)\n",
      "비디오 저장 완료: UCF_Crimes_10crop/Videos/Testing_Normal_Videos_Anomaly/Normal_Videos_872_x264__4.mp4\n",
      "비디오 저장 완료: UCF_Crimes_10crop/Videos/Testing_Normal_Videos_Anomaly/Normal_Videos_872_x264__9.mp4\n"
     ]
    },
    {
     "name": "stderr",
     "output_type": "stream",
     "text": [
      "OpenCV: FFMPEG: tag 0x44495658/'XVID' is not supported with codec id 12 and format 'mp4 / MP4 (MPEG-4 Part 14)'\n",
      "OpenCV: FFMPEG: fallback to use tag 0x7634706d/'mp4v'\n",
      "OpenCV: FFMPEG: tag 0x44495658/'XVID' is not supported with codec id 12 and format 'mp4 / MP4 (MPEG-4 Part 14)'\n",
      "OpenCV: FFMPEG: fallback to use tag 0x7634706d/'mp4v'\n"
     ]
    },
    {
     "name": "stdout",
     "output_type": "stream",
     "text": [
      "320   240\n",
      "FPS: 30.0\n",
      "<class 'list'>\n",
      "<class 'numpy.ndarray'>\n",
      "(120, 160, 3)\n"
     ]
    },
    {
     "name": "stderr",
     "output_type": "stream",
     "text": [
      "OpenCV: FFMPEG: tag 0x44495658/'XVID' is not supported with codec id 12 and format 'mp4 / MP4 (MPEG-4 Part 14)'\n",
      "OpenCV: FFMPEG: fallback to use tag 0x7634706d/'mp4v'\n",
      "OpenCV: FFMPEG: tag 0x44495658/'XVID' is not supported with codec id 12 and format 'mp4 / MP4 (MPEG-4 Part 14)'\n",
      "OpenCV: FFMPEG: fallback to use tag 0x7634706d/'mp4v'\n"
     ]
    },
    {
     "name": "stdout",
     "output_type": "stream",
     "text": [
      "비디오 저장 완료: UCF_Crimes_10crop/Videos/Testing_Normal_Videos_Anomaly/Normal_Videos_597_x264__0.mp4\n",
      "비디오 저장 완료: UCF_Crimes_10crop/Videos/Testing_Normal_Videos_Anomaly/Normal_Videos_597_x264__5.mp4\n",
      "<class 'list'>\n",
      "<class 'numpy.ndarray'>\n",
      "(120, 160, 3)\n"
     ]
    },
    {
     "name": "stderr",
     "output_type": "stream",
     "text": [
      "OpenCV: FFMPEG: tag 0x44495658/'XVID' is not supported with codec id 12 and format 'mp4 / MP4 (MPEG-4 Part 14)'\n",
      "OpenCV: FFMPEG: fallback to use tag 0x7634706d/'mp4v'\n",
      "OpenCV: FFMPEG: tag 0x44495658/'XVID' is not supported with codec id 12 and format 'mp4 / MP4 (MPEG-4 Part 14)'\n",
      "OpenCV: FFMPEG: fallback to use tag 0x7634706d/'mp4v'\n"
     ]
    },
    {
     "name": "stdout",
     "output_type": "stream",
     "text": [
      "비디오 저장 완료: UCF_Crimes_10crop/Videos/Testing_Normal_Videos_Anomaly/Normal_Videos_597_x264__1.mp4\n",
      "비디오 저장 완료: UCF_Crimes_10crop/Videos/Testing_Normal_Videos_Anomaly/Normal_Videos_597_x264__6.mp4\n",
      "<class 'list'>\n",
      "<class 'numpy.ndarray'>\n",
      "(120, 160, 3)\n"
     ]
    },
    {
     "name": "stderr",
     "output_type": "stream",
     "text": [
      "OpenCV: FFMPEG: tag 0x44495658/'XVID' is not supported with codec id 12 and format 'mp4 / MP4 (MPEG-4 Part 14)'\n",
      "OpenCV: FFMPEG: fallback to use tag 0x7634706d/'mp4v'\n",
      "OpenCV: FFMPEG: tag 0x44495658/'XVID' is not supported with codec id 12 and format 'mp4 / MP4 (MPEG-4 Part 14)'\n",
      "OpenCV: FFMPEG: fallback to use tag 0x7634706d/'mp4v'\n"
     ]
    },
    {
     "name": "stdout",
     "output_type": "stream",
     "text": [
      "비디오 저장 완료: UCF_Crimes_10crop/Videos/Testing_Normal_Videos_Anomaly/Normal_Videos_597_x264__2.mp4\n",
      "비디오 저장 완료: UCF_Crimes_10crop/Videos/Testing_Normal_Videos_Anomaly/Normal_Videos_597_x264__7.mp4\n",
      "<class 'list'>\n",
      "<class 'numpy.ndarray'>\n",
      "(120, 160, 3)\n"
     ]
    },
    {
     "name": "stderr",
     "output_type": "stream",
     "text": [
      "OpenCV: FFMPEG: tag 0x44495658/'XVID' is not supported with codec id 12 and format 'mp4 / MP4 (MPEG-4 Part 14)'\n",
      "OpenCV: FFMPEG: fallback to use tag 0x7634706d/'mp4v'\n",
      "OpenCV: FFMPEG: tag 0x44495658/'XVID' is not supported with codec id 12 and format 'mp4 / MP4 (MPEG-4 Part 14)'\n",
      "OpenCV: FFMPEG: fallback to use tag 0x7634706d/'mp4v'\n"
     ]
    },
    {
     "name": "stdout",
     "output_type": "stream",
     "text": [
      "비디오 저장 완료: UCF_Crimes_10crop/Videos/Testing_Normal_Videos_Anomaly/Normal_Videos_597_x264__3.mp4\n",
      "비디오 저장 완료: UCF_Crimes_10crop/Videos/Testing_Normal_Videos_Anomaly/Normal_Videos_597_x264__8.mp4\n",
      "<class 'list'>\n",
      "<class 'numpy.ndarray'>\n",
      "(120, 160, 3)\n"
     ]
    },
    {
     "name": "stderr",
     "output_type": "stream",
     "text": [
      "OpenCV: FFMPEG: tag 0x44495658/'XVID' is not supported with codec id 12 and format 'mp4 / MP4 (MPEG-4 Part 14)'\n",
      "OpenCV: FFMPEG: fallback to use tag 0x7634706d/'mp4v'\n",
      "OpenCV: FFMPEG: tag 0x44495658/'XVID' is not supported with codec id 12 and format 'mp4 / MP4 (MPEG-4 Part 14)'\n",
      "OpenCV: FFMPEG: fallback to use tag 0x7634706d/'mp4v'\n"
     ]
    },
    {
     "name": "stdout",
     "output_type": "stream",
     "text": [
      "비디오 저장 완료: UCF_Crimes_10crop/Videos/Testing_Normal_Videos_Anomaly/Normal_Videos_597_x264__4.mp4\n",
      "비디오 저장 완료: UCF_Crimes_10crop/Videos/Testing_Normal_Videos_Anomaly/Normal_Videos_597_x264__9.mp4\n",
      "320   240\n",
      "FPS: 30.0\n",
      "<class 'list'>\n",
      "<class 'numpy.ndarray'>\n",
      "(120, 160, 3)\n"
     ]
    },
    {
     "name": "stderr",
     "output_type": "stream",
     "text": [
      "OpenCV: FFMPEG: tag 0x44495658/'XVID' is not supported with codec id 12 and format 'mp4 / MP4 (MPEG-4 Part 14)'\n",
      "OpenCV: FFMPEG: fallback to use tag 0x7634706d/'mp4v'\n",
      "OpenCV: FFMPEG: tag 0x44495658/'XVID' is not supported with codec id 12 and format 'mp4 / MP4 (MPEG-4 Part 14)'\n",
      "OpenCV: FFMPEG: fallback to use tag 0x7634706d/'mp4v'\n"
     ]
    },
    {
     "name": "stdout",
     "output_type": "stream",
     "text": [
      "비디오 저장 완료: UCF_Crimes_10crop/Videos/Testing_Normal_Videos_Anomaly/Normal_Videos_875_x264__0.mp4\n",
      "비디오 저장 완료: UCF_Crimes_10crop/Videos/Testing_Normal_Videos_Anomaly/Normal_Videos_875_x264__5.mp4\n",
      "<class 'list'>\n",
      "<class 'numpy.ndarray'>\n",
      "(120, 160, 3)\n"
     ]
    },
    {
     "name": "stderr",
     "output_type": "stream",
     "text": [
      "OpenCV: FFMPEG: tag 0x44495658/'XVID' is not supported with codec id 12 and format 'mp4 / MP4 (MPEG-4 Part 14)'\n",
      "OpenCV: FFMPEG: fallback to use tag 0x7634706d/'mp4v'\n",
      "OpenCV: FFMPEG: tag 0x44495658/'XVID' is not supported with codec id 12 and format 'mp4 / MP4 (MPEG-4 Part 14)'\n",
      "OpenCV: FFMPEG: fallback to use tag 0x7634706d/'mp4v'\n"
     ]
    },
    {
     "name": "stdout",
     "output_type": "stream",
     "text": [
      "비디오 저장 완료: UCF_Crimes_10crop/Videos/Testing_Normal_Videos_Anomaly/Normal_Videos_875_x264__1.mp4\n",
      "비디오 저장 완료: UCF_Crimes_10crop/Videos/Testing_Normal_Videos_Anomaly/Normal_Videos_875_x264__6.mp4\n",
      "<class 'list'>\n",
      "<class 'numpy.ndarray'>\n",
      "(120, 160, 3)\n"
     ]
    },
    {
     "name": "stderr",
     "output_type": "stream",
     "text": [
      "OpenCV: FFMPEG: tag 0x44495658/'XVID' is not supported with codec id 12 and format 'mp4 / MP4 (MPEG-4 Part 14)'\n",
      "OpenCV: FFMPEG: fallback to use tag 0x7634706d/'mp4v'\n",
      "OpenCV: FFMPEG: tag 0x44495658/'XVID' is not supported with codec id 12 and format 'mp4 / MP4 (MPEG-4 Part 14)'\n",
      "OpenCV: FFMPEG: fallback to use tag 0x7634706d/'mp4v'\n"
     ]
    },
    {
     "name": "stdout",
     "output_type": "stream",
     "text": [
      "비디오 저장 완료: UCF_Crimes_10crop/Videos/Testing_Normal_Videos_Anomaly/Normal_Videos_875_x264__2.mp4\n",
      "비디오 저장 완료: UCF_Crimes_10crop/Videos/Testing_Normal_Videos_Anomaly/Normal_Videos_875_x264__7.mp4\n",
      "<class 'list'>\n",
      "<class 'numpy.ndarray'>\n",
      "(120, 160, 3)\n"
     ]
    },
    {
     "name": "stderr",
     "output_type": "stream",
     "text": [
      "OpenCV: FFMPEG: tag 0x44495658/'XVID' is not supported with codec id 12 and format 'mp4 / MP4 (MPEG-4 Part 14)'\n",
      "OpenCV: FFMPEG: fallback to use tag 0x7634706d/'mp4v'\n",
      "OpenCV: FFMPEG: tag 0x44495658/'XVID' is not supported with codec id 12 and format 'mp4 / MP4 (MPEG-4 Part 14)'\n",
      "OpenCV: FFMPEG: fallback to use tag 0x7634706d/'mp4v'\n"
     ]
    },
    {
     "name": "stdout",
     "output_type": "stream",
     "text": [
      "비디오 저장 완료: UCF_Crimes_10crop/Videos/Testing_Normal_Videos_Anomaly/Normal_Videos_875_x264__3.mp4\n",
      "비디오 저장 완료: UCF_Crimes_10crop/Videos/Testing_Normal_Videos_Anomaly/Normal_Videos_875_x264__8.mp4\n",
      "<class 'list'>\n",
      "<class 'numpy.ndarray'>\n",
      "(120, 160, 3)\n"
     ]
    },
    {
     "name": "stderr",
     "output_type": "stream",
     "text": [
      "OpenCV: FFMPEG: tag 0x44495658/'XVID' is not supported with codec id 12 and format 'mp4 / MP4 (MPEG-4 Part 14)'\n",
      "OpenCV: FFMPEG: fallback to use tag 0x7634706d/'mp4v'\n",
      "OpenCV: FFMPEG: tag 0x44495658/'XVID' is not supported with codec id 12 and format 'mp4 / MP4 (MPEG-4 Part 14)'\n",
      "OpenCV: FFMPEG: fallback to use tag 0x7634706d/'mp4v'\n"
     ]
    },
    {
     "name": "stdout",
     "output_type": "stream",
     "text": [
      "비디오 저장 완료: UCF_Crimes_10crop/Videos/Testing_Normal_Videos_Anomaly/Normal_Videos_875_x264__4.mp4\n",
      "비디오 저장 완료: UCF_Crimes_10crop/Videos/Testing_Normal_Videos_Anomaly/Normal_Videos_875_x264__9.mp4\n",
      "320   240\n",
      "FPS: 30.0\n",
      "<class 'list'>\n",
      "<class 'numpy.ndarray'>\n",
      "(120, 160, 3)\n"
     ]
    },
    {
     "name": "stderr",
     "output_type": "stream",
     "text": [
      "OpenCV: FFMPEG: tag 0x44495658/'XVID' is not supported with codec id 12 and format 'mp4 / MP4 (MPEG-4 Part 14)'\n",
      "OpenCV: FFMPEG: fallback to use tag 0x7634706d/'mp4v'\n",
      "OpenCV: FFMPEG: tag 0x44495658/'XVID' is not supported with codec id 12 and format 'mp4 / MP4 (MPEG-4 Part 14)'\n",
      "OpenCV: FFMPEG: fallback to use tag 0x7634706d/'mp4v'\n"
     ]
    },
    {
     "name": "stdout",
     "output_type": "stream",
     "text": [
      "비디오 저장 완료: UCF_Crimes_10crop/Videos/Testing_Normal_Videos_Anomaly/Normal_Videos_003_x264__0.mp4\n",
      "비디오 저장 완료: UCF_Crimes_10crop/Videos/Testing_Normal_Videos_Anomaly/Normal_Videos_003_x264__5.mp4\n",
      "<class 'list'>\n",
      "<class 'numpy.ndarray'>\n",
      "(120, 160, 3)\n"
     ]
    },
    {
     "name": "stderr",
     "output_type": "stream",
     "text": [
      "OpenCV: FFMPEG: tag 0x44495658/'XVID' is not supported with codec id 12 and format 'mp4 / MP4 (MPEG-4 Part 14)'\n",
      "OpenCV: FFMPEG: fallback to use tag 0x7634706d/'mp4v'\n",
      "OpenCV: FFMPEG: tag 0x44495658/'XVID' is not supported with codec id 12 and format 'mp4 / MP4 (MPEG-4 Part 14)'\n",
      "OpenCV: FFMPEG: fallback to use tag 0x7634706d/'mp4v'\n"
     ]
    },
    {
     "name": "stdout",
     "output_type": "stream",
     "text": [
      "비디오 저장 완료: UCF_Crimes_10crop/Videos/Testing_Normal_Videos_Anomaly/Normal_Videos_003_x264__1.mp4\n",
      "비디오 저장 완료: UCF_Crimes_10crop/Videos/Testing_Normal_Videos_Anomaly/Normal_Videos_003_x264__6.mp4\n",
      "<class 'list'>\n",
      "<class 'numpy.ndarray'>\n",
      "(120, 160, 3)\n"
     ]
    },
    {
     "name": "stderr",
     "output_type": "stream",
     "text": [
      "OpenCV: FFMPEG: tag 0x44495658/'XVID' is not supported with codec id 12 and format 'mp4 / MP4 (MPEG-4 Part 14)'\n",
      "OpenCV: FFMPEG: fallback to use tag 0x7634706d/'mp4v'\n",
      "OpenCV: FFMPEG: tag 0x44495658/'XVID' is not supported with codec id 12 and format 'mp4 / MP4 (MPEG-4 Part 14)'\n",
      "OpenCV: FFMPEG: fallback to use tag 0x7634706d/'mp4v'\n"
     ]
    },
    {
     "name": "stdout",
     "output_type": "stream",
     "text": [
      "비디오 저장 완료: UCF_Crimes_10crop/Videos/Testing_Normal_Videos_Anomaly/Normal_Videos_003_x264__2.mp4\n",
      "비디오 저장 완료: UCF_Crimes_10crop/Videos/Testing_Normal_Videos_Anomaly/Normal_Videos_003_x264__7.mp4\n",
      "<class 'list'>\n",
      "<class 'numpy.ndarray'>\n",
      "(120, 160, 3)\n"
     ]
    },
    {
     "name": "stderr",
     "output_type": "stream",
     "text": [
      "OpenCV: FFMPEG: tag 0x44495658/'XVID' is not supported with codec id 12 and format 'mp4 / MP4 (MPEG-4 Part 14)'\n",
      "OpenCV: FFMPEG: fallback to use tag 0x7634706d/'mp4v'\n",
      "OpenCV: FFMPEG: tag 0x44495658/'XVID' is not supported with codec id 12 and format 'mp4 / MP4 (MPEG-4 Part 14)'\n",
      "OpenCV: FFMPEG: fallback to use tag 0x7634706d/'mp4v'\n"
     ]
    },
    {
     "name": "stdout",
     "output_type": "stream",
     "text": [
      "비디오 저장 완료: UCF_Crimes_10crop/Videos/Testing_Normal_Videos_Anomaly/Normal_Videos_003_x264__3.mp4\n",
      "비디오 저장 완료: UCF_Crimes_10crop/Videos/Testing_Normal_Videos_Anomaly/Normal_Videos_003_x264__8.mp4\n",
      "<class 'list'>\n",
      "<class 'numpy.ndarray'>\n",
      "(120, 160, 3)\n"
     ]
    },
    {
     "name": "stderr",
     "output_type": "stream",
     "text": [
      "OpenCV: FFMPEG: tag 0x44495658/'XVID' is not supported with codec id 12 and format 'mp4 / MP4 (MPEG-4 Part 14)'\n",
      "OpenCV: FFMPEG: fallback to use tag 0x7634706d/'mp4v'\n",
      "OpenCV: FFMPEG: tag 0x44495658/'XVID' is not supported with codec id 12 and format 'mp4 / MP4 (MPEG-4 Part 14)'\n",
      "OpenCV: FFMPEG: fallback to use tag 0x7634706d/'mp4v'\n"
     ]
    },
    {
     "name": "stdout",
     "output_type": "stream",
     "text": [
      "비디오 저장 완료: UCF_Crimes_10crop/Videos/Testing_Normal_Videos_Anomaly/Normal_Videos_003_x264__4.mp4\n",
      "비디오 저장 완료: UCF_Crimes_10crop/Videos/Testing_Normal_Videos_Anomaly/Normal_Videos_003_x264__9.mp4\n",
      "320   240\n",
      "FPS: 30.0\n",
      "<class 'list'>\n",
      "<class 'numpy.ndarray'>\n",
      "(120, 160, 3)\n",
      "비디오 저장 완료: UCF_Crimes_10crop/Videos/Testing_Normal_Videos_Anomaly/Normal_Videos_015_x264__0.mp4\n",
      "비디오 저장 완료: UCF_Crimes_10crop/Videos/Testing_Normal_Videos_Anomaly/Normal_Videos_015_x264__5.mp4\n",
      "<class 'list'>\n",
      "<class 'numpy.ndarray'>\n",
      "(120, 160, 3)\n",
      "비디오 저장 완료: UCF_Crimes_10crop/Videos/Testing_Normal_Videos_Anomaly/Normal_Videos_015_x264__1.mp4\n",
      "비디오 저장 완료: UCF_Crimes_10crop/Videos/Testing_Normal_Videos_Anomaly/Normal_Videos_015_x264__6.mp4\n",
      "<class 'list'>\n",
      "<class 'numpy.ndarray'>\n",
      "(120, 160, 3)\n"
     ]
    },
    {
     "name": "stderr",
     "output_type": "stream",
     "text": [
      "OpenCV: FFMPEG: tag 0x44495658/'XVID' is not supported with codec id 12 and format 'mp4 / MP4 (MPEG-4 Part 14)'\n",
      "OpenCV: FFMPEG: fallback to use tag 0x7634706d/'mp4v'\n",
      "OpenCV: FFMPEG: tag 0x44495658/'XVID' is not supported with codec id 12 and format 'mp4 / MP4 (MPEG-4 Part 14)'\n",
      "OpenCV: FFMPEG: fallback to use tag 0x7634706d/'mp4v'\n",
      "OpenCV: FFMPEG: tag 0x44495658/'XVID' is not supported with codec id 12 and format 'mp4 / MP4 (MPEG-4 Part 14)'\n",
      "OpenCV: FFMPEG: fallback to use tag 0x7634706d/'mp4v'\n",
      "OpenCV: FFMPEG: tag 0x44495658/'XVID' is not supported with codec id 12 and format 'mp4 / MP4 (MPEG-4 Part 14)'\n",
      "OpenCV: FFMPEG: fallback to use tag 0x7634706d/'mp4v'\n",
      "OpenCV: FFMPEG: tag 0x44495658/'XVID' is not supported with codec id 12 and format 'mp4 / MP4 (MPEG-4 Part 14)'\n",
      "OpenCV: FFMPEG: fallback to use tag 0x7634706d/'mp4v'\n",
      "OpenCV: FFMPEG: tag 0x44495658/'XVID' is not supported with codec id 12 and format 'mp4 / MP4 (MPEG-4 Part 14)'\n",
      "OpenCV: FFMPEG: fallback to use tag 0x7634706d/'mp4v'\n"
     ]
    },
    {
     "name": "stdout",
     "output_type": "stream",
     "text": [
      "비디오 저장 완료: UCF_Crimes_10crop/Videos/Testing_Normal_Videos_Anomaly/Normal_Videos_015_x264__2.mp4\n",
      "비디오 저장 완료: UCF_Crimes_10crop/Videos/Testing_Normal_Videos_Anomaly/Normal_Videos_015_x264__7.mp4\n",
      "<class 'list'>\n",
      "<class 'numpy.ndarray'>\n",
      "(120, 160, 3)\n",
      "비디오 저장 완료: UCF_Crimes_10crop/Videos/Testing_Normal_Videos_Anomaly/Normal_Videos_015_x264__3.mp4\n",
      "비디오 저장 완료: UCF_Crimes_10crop/Videos/Testing_Normal_Videos_Anomaly/Normal_Videos_015_x264__8.mp4\n",
      "<class 'list'>\n",
      "<class 'numpy.ndarray'>\n",
      "(120, 160, 3)\n",
      "비디오 저장 완료: UCF_Crimes_10crop/Videos/Testing_Normal_Videos_Anomaly/Normal_Videos_015_x264__4.mp4\n",
      "비디오 저장 완료: UCF_Crimes_10crop/Videos/Testing_Normal_Videos_Anomaly/Normal_Videos_015_x264__9.mp4\n",
      "320   240\n",
      "FPS: 30.0\n"
     ]
    },
    {
     "name": "stderr",
     "output_type": "stream",
     "text": [
      "OpenCV: FFMPEG: tag 0x44495658/'XVID' is not supported with codec id 12 and format 'mp4 / MP4 (MPEG-4 Part 14)'\n",
      "OpenCV: FFMPEG: fallback to use tag 0x7634706d/'mp4v'\n",
      "OpenCV: FFMPEG: tag 0x44495658/'XVID' is not supported with codec id 12 and format 'mp4 / MP4 (MPEG-4 Part 14)'\n",
      "OpenCV: FFMPEG: fallback to use tag 0x7634706d/'mp4v'\n",
      "OpenCV: FFMPEG: tag 0x44495658/'XVID' is not supported with codec id 12 and format 'mp4 / MP4 (MPEG-4 Part 14)'\n",
      "OpenCV: FFMPEG: fallback to use tag 0x7634706d/'mp4v'\n",
      "OpenCV: FFMPEG: tag 0x44495658/'XVID' is not supported with codec id 12 and format 'mp4 / MP4 (MPEG-4 Part 14)'\n",
      "OpenCV: FFMPEG: fallback to use tag 0x7634706d/'mp4v'\n"
     ]
    },
    {
     "name": "stdout",
     "output_type": "stream",
     "text": [
      "<class 'list'>\n",
      "<class 'numpy.ndarray'>\n",
      "(120, 160, 3)\n",
      "비디오 저장 완료: UCF_Crimes_10crop/Videos/Testing_Normal_Videos_Anomaly/Normal_Videos_251_x264__0.mp4\n",
      "비디오 저장 완료: UCF_Crimes_10crop/Videos/Testing_Normal_Videos_Anomaly/Normal_Videos_251_x264__5.mp4\n",
      "<class 'list'>\n",
      "<class 'numpy.ndarray'>\n",
      "(120, 160, 3)\n",
      "비디오 저장 완료: UCF_Crimes_10crop/Videos/Testing_Normal_Videos_Anomaly/Normal_Videos_251_x264__1.mp4\n",
      "비디오 저장 완료: UCF_Crimes_10crop/Videos/Testing_Normal_Videos_Anomaly/Normal_Videos_251_x264__6.mp4\n",
      "<class 'list'>\n",
      "<class 'numpy.ndarray'>\n",
      "(120, 160, 3)\n"
     ]
    },
    {
     "name": "stderr",
     "output_type": "stream",
     "text": [
      "OpenCV: FFMPEG: tag 0x44495658/'XVID' is not supported with codec id 12 and format 'mp4 / MP4 (MPEG-4 Part 14)'\n",
      "OpenCV: FFMPEG: fallback to use tag 0x7634706d/'mp4v'\n",
      "OpenCV: FFMPEG: tag 0x44495658/'XVID' is not supported with codec id 12 and format 'mp4 / MP4 (MPEG-4 Part 14)'\n",
      "OpenCV: FFMPEG: fallback to use tag 0x7634706d/'mp4v'\n",
      "OpenCV: FFMPEG: tag 0x44495658/'XVID' is not supported with codec id 12 and format 'mp4 / MP4 (MPEG-4 Part 14)'\n",
      "OpenCV: FFMPEG: fallback to use tag 0x7634706d/'mp4v'\n",
      "OpenCV: FFMPEG: tag 0x44495658/'XVID' is not supported with codec id 12 and format 'mp4 / MP4 (MPEG-4 Part 14)'\n",
      "OpenCV: FFMPEG: fallback to use tag 0x7634706d/'mp4v'\n",
      "OpenCV: FFMPEG: tag 0x44495658/'XVID' is not supported with codec id 12 and format 'mp4 / MP4 (MPEG-4 Part 14)'\n",
      "OpenCV: FFMPEG: fallback to use tag 0x7634706d/'mp4v'\n",
      "OpenCV: FFMPEG: tag 0x44495658/'XVID' is not supported with codec id 12 and format 'mp4 / MP4 (MPEG-4 Part 14)'\n",
      "OpenCV: FFMPEG: fallback to use tag 0x7634706d/'mp4v'\n"
     ]
    },
    {
     "name": "stdout",
     "output_type": "stream",
     "text": [
      "비디오 저장 완료: UCF_Crimes_10crop/Videos/Testing_Normal_Videos_Anomaly/Normal_Videos_251_x264__2.mp4\n",
      "비디오 저장 완료: UCF_Crimes_10crop/Videos/Testing_Normal_Videos_Anomaly/Normal_Videos_251_x264__7.mp4\n",
      "<class 'list'>\n",
      "<class 'numpy.ndarray'>\n",
      "(120, 160, 3)\n",
      "비디오 저장 완료: UCF_Crimes_10crop/Videos/Testing_Normal_Videos_Anomaly/Normal_Videos_251_x264__3.mp4\n",
      "비디오 저장 완료: UCF_Crimes_10crop/Videos/Testing_Normal_Videos_Anomaly/Normal_Videos_251_x264__8.mp4\n",
      "<class 'list'>\n",
      "<class 'numpy.ndarray'>\n",
      "(120, 160, 3)\n",
      "비디오 저장 완료: UCF_Crimes_10crop/Videos/Testing_Normal_Videos_Anomaly/Normal_Videos_251_x264__4.mp4\n",
      "비디오 저장 완료: UCF_Crimes_10crop/Videos/Testing_Normal_Videos_Anomaly/Normal_Videos_251_x264__9.mp4\n"
     ]
    },
    {
     "name": "stderr",
     "output_type": "stream",
     "text": [
      "OpenCV: FFMPEG: tag 0x44495658/'XVID' is not supported with codec id 12 and format 'mp4 / MP4 (MPEG-4 Part 14)'\n",
      "OpenCV: FFMPEG: fallback to use tag 0x7634706d/'mp4v'\n",
      "OpenCV: FFMPEG: tag 0x44495658/'XVID' is not supported with codec id 12 and format 'mp4 / MP4 (MPEG-4 Part 14)'\n",
      "OpenCV: FFMPEG: fallback to use tag 0x7634706d/'mp4v'\n",
      "OpenCV: FFMPEG: tag 0x44495658/'XVID' is not supported with codec id 12 and format 'mp4 / MP4 (MPEG-4 Part 14)'\n",
      "OpenCV: FFMPEG: fallback to use tag 0x7634706d/'mp4v'\n",
      "OpenCV: FFMPEG: tag 0x44495658/'XVID' is not supported with codec id 12 and format 'mp4 / MP4 (MPEG-4 Part 14)'\n",
      "OpenCV: FFMPEG: fallback to use tag 0x7634706d/'mp4v'\n"
     ]
    },
    {
     "name": "stdout",
     "output_type": "stream",
     "text": [
      "320   240\n",
      "FPS: 30.0\n",
      "<class 'list'>\n",
      "<class 'numpy.ndarray'>\n",
      "(120, 160, 3)\n",
      "비디오 저장 완료: UCF_Crimes_10crop/Videos/Testing_Normal_Videos_Anomaly/Normal_Videos_006_x264__0.mp4\n",
      "비디오 저장 완료: UCF_Crimes_10crop/Videos/Testing_Normal_Videos_Anomaly/Normal_Videos_006_x264__5.mp4\n",
      "<class 'list'>\n",
      "<class 'numpy.ndarray'>\n",
      "(120, 160, 3)\n",
      "비디오 저장 완료: UCF_Crimes_10crop/Videos/Testing_Normal_Videos_Anomaly/Normal_Videos_006_x264__1.mp4\n",
      "비디오 저장 완료: UCF_Crimes_10crop/Videos/Testing_Normal_Videos_Anomaly/Normal_Videos_006_x264__6.mp4\n",
      "<class 'list'>\n",
      "<class 'numpy.ndarray'>\n",
      "(120, 160, 3)\n"
     ]
    },
    {
     "name": "stderr",
     "output_type": "stream",
     "text": [
      "OpenCV: FFMPEG: tag 0x44495658/'XVID' is not supported with codec id 12 and format 'mp4 / MP4 (MPEG-4 Part 14)'\n",
      "OpenCV: FFMPEG: fallback to use tag 0x7634706d/'mp4v'\n",
      "OpenCV: FFMPEG: tag 0x44495658/'XVID' is not supported with codec id 12 and format 'mp4 / MP4 (MPEG-4 Part 14)'\n",
      "OpenCV: FFMPEG: fallback to use tag 0x7634706d/'mp4v'\n",
      "OpenCV: FFMPEG: tag 0x44495658/'XVID' is not supported with codec id 12 and format 'mp4 / MP4 (MPEG-4 Part 14)'\n",
      "OpenCV: FFMPEG: fallback to use tag 0x7634706d/'mp4v'\n",
      "OpenCV: FFMPEG: tag 0x44495658/'XVID' is not supported with codec id 12 and format 'mp4 / MP4 (MPEG-4 Part 14)'\n",
      "OpenCV: FFMPEG: fallback to use tag 0x7634706d/'mp4v'\n",
      "OpenCV: FFMPEG: tag 0x44495658/'XVID' is not supported with codec id 12 and format 'mp4 / MP4 (MPEG-4 Part 14)'\n",
      "OpenCV: FFMPEG: fallback to use tag 0x7634706d/'mp4v'\n",
      "OpenCV: FFMPEG: tag 0x44495658/'XVID' is not supported with codec id 12 and format 'mp4 / MP4 (MPEG-4 Part 14)'\n",
      "OpenCV: FFMPEG: fallback to use tag 0x7634706d/'mp4v'\n"
     ]
    },
    {
     "name": "stdout",
     "output_type": "stream",
     "text": [
      "비디오 저장 완료: UCF_Crimes_10crop/Videos/Testing_Normal_Videos_Anomaly/Normal_Videos_006_x264__2.mp4\n",
      "비디오 저장 완료: UCF_Crimes_10crop/Videos/Testing_Normal_Videos_Anomaly/Normal_Videos_006_x264__7.mp4\n",
      "<class 'list'>\n",
      "<class 'numpy.ndarray'>\n",
      "(120, 160, 3)\n",
      "비디오 저장 완료: UCF_Crimes_10crop/Videos/Testing_Normal_Videos_Anomaly/Normal_Videos_006_x264__3.mp4\n",
      "비디오 저장 완료: UCF_Crimes_10crop/Videos/Testing_Normal_Videos_Anomaly/Normal_Videos_006_x264__8.mp4\n",
      "<class 'list'>\n",
      "<class 'numpy.ndarray'>\n",
      "(120, 160, 3)\n",
      "비디오 저장 완료: UCF_Crimes_10crop/Videos/Testing_Normal_Videos_Anomaly/Normal_Videos_006_x264__4.mp4\n",
      "비디오 저장 완료: UCF_Crimes_10crop/Videos/Testing_Normal_Videos_Anomaly/Normal_Videos_006_x264__9.mp4\n"
     ]
    },
    {
     "name": "stderr",
     "output_type": "stream",
     "text": [
      "OpenCV: FFMPEG: tag 0x44495658/'XVID' is not supported with codec id 12 and format 'mp4 / MP4 (MPEG-4 Part 14)'\n",
      "OpenCV: FFMPEG: fallback to use tag 0x7634706d/'mp4v'\n",
      "OpenCV: FFMPEG: tag 0x44495658/'XVID' is not supported with codec id 12 and format 'mp4 / MP4 (MPEG-4 Part 14)'\n",
      "OpenCV: FFMPEG: fallback to use tag 0x7634706d/'mp4v'\n",
      "OpenCV: FFMPEG: tag 0x44495658/'XVID' is not supported with codec id 12 and format 'mp4 / MP4 (MPEG-4 Part 14)'\n",
      "OpenCV: FFMPEG: fallback to use tag 0x7634706d/'mp4v'\n",
      "OpenCV: FFMPEG: tag 0x44495658/'XVID' is not supported with codec id 12 and format 'mp4 / MP4 (MPEG-4 Part 14)'\n",
      "OpenCV: FFMPEG: fallback to use tag 0x7634706d/'mp4v'\n"
     ]
    },
    {
     "name": "stdout",
     "output_type": "stream",
     "text": [
      "320   240\n",
      "FPS: 30.0\n",
      "<class 'list'>\n",
      "<class 'numpy.ndarray'>\n",
      "(120, 160, 3)\n"
     ]
    },
    {
     "name": "stderr",
     "output_type": "stream",
     "text": [
      "OpenCV: FFMPEG: tag 0x44495658/'XVID' is not supported with codec id 12 and format 'mp4 / MP4 (MPEG-4 Part 14)'\n",
      "OpenCV: FFMPEG: fallback to use tag 0x7634706d/'mp4v'\n",
      "OpenCV: FFMPEG: tag 0x44495658/'XVID' is not supported with codec id 12 and format 'mp4 / MP4 (MPEG-4 Part 14)'\n",
      "OpenCV: FFMPEG: fallback to use tag 0x7634706d/'mp4v'\n"
     ]
    },
    {
     "name": "stdout",
     "output_type": "stream",
     "text": [
      "비디오 저장 완료: UCF_Crimes_10crop/Videos/Testing_Normal_Videos_Anomaly/Normal_Videos_892_x264__0.mp4\n",
      "비디오 저장 완료: UCF_Crimes_10crop/Videos/Testing_Normal_Videos_Anomaly/Normal_Videos_892_x264__5.mp4\n",
      "<class 'list'>\n",
      "<class 'numpy.ndarray'>\n",
      "(120, 160, 3)\n"
     ]
    },
    {
     "name": "stderr",
     "output_type": "stream",
     "text": [
      "OpenCV: FFMPEG: tag 0x44495658/'XVID' is not supported with codec id 12 and format 'mp4 / MP4 (MPEG-4 Part 14)'\n",
      "OpenCV: FFMPEG: fallback to use tag 0x7634706d/'mp4v'\n",
      "OpenCV: FFMPEG: tag 0x44495658/'XVID' is not supported with codec id 12 and format 'mp4 / MP4 (MPEG-4 Part 14)'\n",
      "OpenCV: FFMPEG: fallback to use tag 0x7634706d/'mp4v'\n"
     ]
    },
    {
     "name": "stdout",
     "output_type": "stream",
     "text": [
      "비디오 저장 완료: UCF_Crimes_10crop/Videos/Testing_Normal_Videos_Anomaly/Normal_Videos_892_x264__1.mp4\n",
      "비디오 저장 완료: UCF_Crimes_10crop/Videos/Testing_Normal_Videos_Anomaly/Normal_Videos_892_x264__6.mp4\n",
      "<class 'list'>\n",
      "<class 'numpy.ndarray'>\n",
      "(120, 160, 3)\n"
     ]
    },
    {
     "name": "stderr",
     "output_type": "stream",
     "text": [
      "OpenCV: FFMPEG: tag 0x44495658/'XVID' is not supported with codec id 12 and format 'mp4 / MP4 (MPEG-4 Part 14)'\n",
      "OpenCV: FFMPEG: fallback to use tag 0x7634706d/'mp4v'\n",
      "OpenCV: FFMPEG: tag 0x44495658/'XVID' is not supported with codec id 12 and format 'mp4 / MP4 (MPEG-4 Part 14)'\n",
      "OpenCV: FFMPEG: fallback to use tag 0x7634706d/'mp4v'\n"
     ]
    },
    {
     "name": "stdout",
     "output_type": "stream",
     "text": [
      "비디오 저장 완료: UCF_Crimes_10crop/Videos/Testing_Normal_Videos_Anomaly/Normal_Videos_892_x264__2.mp4\n",
      "비디오 저장 완료: UCF_Crimes_10crop/Videos/Testing_Normal_Videos_Anomaly/Normal_Videos_892_x264__7.mp4\n",
      "<class 'list'>\n",
      "<class 'numpy.ndarray'>\n",
      "(120, 160, 3)\n"
     ]
    },
    {
     "name": "stderr",
     "output_type": "stream",
     "text": [
      "OpenCV: FFMPEG: tag 0x44495658/'XVID' is not supported with codec id 12 and format 'mp4 / MP4 (MPEG-4 Part 14)'\n",
      "OpenCV: FFMPEG: fallback to use tag 0x7634706d/'mp4v'\n",
      "OpenCV: FFMPEG: tag 0x44495658/'XVID' is not supported with codec id 12 and format 'mp4 / MP4 (MPEG-4 Part 14)'\n",
      "OpenCV: FFMPEG: fallback to use tag 0x7634706d/'mp4v'\n"
     ]
    },
    {
     "name": "stdout",
     "output_type": "stream",
     "text": [
      "비디오 저장 완료: UCF_Crimes_10crop/Videos/Testing_Normal_Videos_Anomaly/Normal_Videos_892_x264__3.mp4\n",
      "비디오 저장 완료: UCF_Crimes_10crop/Videos/Testing_Normal_Videos_Anomaly/Normal_Videos_892_x264__8.mp4\n",
      "<class 'list'>\n",
      "<class 'numpy.ndarray'>\n",
      "(120, 160, 3)\n"
     ]
    },
    {
     "name": "stderr",
     "output_type": "stream",
     "text": [
      "OpenCV: FFMPEG: tag 0x44495658/'XVID' is not supported with codec id 12 and format 'mp4 / MP4 (MPEG-4 Part 14)'\n",
      "OpenCV: FFMPEG: fallback to use tag 0x7634706d/'mp4v'\n",
      "OpenCV: FFMPEG: tag 0x44495658/'XVID' is not supported with codec id 12 and format 'mp4 / MP4 (MPEG-4 Part 14)'\n",
      "OpenCV: FFMPEG: fallback to use tag 0x7634706d/'mp4v'\n"
     ]
    },
    {
     "name": "stdout",
     "output_type": "stream",
     "text": [
      "비디오 저장 완료: UCF_Crimes_10crop/Videos/Testing_Normal_Videos_Anomaly/Normal_Videos_892_x264__4.mp4\n",
      "비디오 저장 완료: UCF_Crimes_10crop/Videos/Testing_Normal_Videos_Anomaly/Normal_Videos_892_x264__9.mp4\n",
      "320   240\n",
      "FPS: 30.0\n",
      "<class 'list'>\n",
      "<class 'numpy.ndarray'>\n",
      "(120, 160, 3)\n"
     ]
    },
    {
     "name": "stderr",
     "output_type": "stream",
     "text": [
      "OpenCV: FFMPEG: tag 0x44495658/'XVID' is not supported with codec id 12 and format 'mp4 / MP4 (MPEG-4 Part 14)'\n",
      "OpenCV: FFMPEG: fallback to use tag 0x7634706d/'mp4v'\n",
      "OpenCV: FFMPEG: tag 0x44495658/'XVID' is not supported with codec id 12 and format 'mp4 / MP4 (MPEG-4 Part 14)'\n",
      "OpenCV: FFMPEG: fallback to use tag 0x7634706d/'mp4v'\n"
     ]
    },
    {
     "name": "stdout",
     "output_type": "stream",
     "text": [
      "비디오 저장 완료: UCF_Crimes_10crop/Videos/Testing_Normal_Videos_Anomaly/Normal_Videos_248_x264__0.mp4\n",
      "비디오 저장 완료: UCF_Crimes_10crop/Videos/Testing_Normal_Videos_Anomaly/Normal_Videos_248_x264__5.mp4\n",
      "<class 'list'>\n",
      "<class 'numpy.ndarray'>\n",
      "(120, 160, 3)\n",
      "비디오 저장 완료: UCF_Crimes_10crop/Videos/Testing_Normal_Videos_Anomaly/Normal_Videos_248_x264__1.mp4\n",
      "비디오 저장 완료: UCF_Crimes_10crop/Videos/Testing_Normal_Videos_Anomaly/Normal_Videos_248_x264__6.mp4\n",
      "<class 'list'>\n",
      "<class 'numpy.ndarray'>\n",
      "(120, 160, 3)\n"
     ]
    },
    {
     "name": "stderr",
     "output_type": "stream",
     "text": [
      "OpenCV: FFMPEG: tag 0x44495658/'XVID' is not supported with codec id 12 and format 'mp4 / MP4 (MPEG-4 Part 14)'\n",
      "OpenCV: FFMPEG: fallback to use tag 0x7634706d/'mp4v'\n",
      "OpenCV: FFMPEG: tag 0x44495658/'XVID' is not supported with codec id 12 and format 'mp4 / MP4 (MPEG-4 Part 14)'\n",
      "OpenCV: FFMPEG: fallback to use tag 0x7634706d/'mp4v'\n",
      "OpenCV: FFMPEG: tag 0x44495658/'XVID' is not supported with codec id 12 and format 'mp4 / MP4 (MPEG-4 Part 14)'\n",
      "OpenCV: FFMPEG: fallback to use tag 0x7634706d/'mp4v'\n",
      "OpenCV: FFMPEG: tag 0x44495658/'XVID' is not supported with codec id 12 and format 'mp4 / MP4 (MPEG-4 Part 14)'\n",
      "OpenCV: FFMPEG: fallback to use tag 0x7634706d/'mp4v'\n"
     ]
    },
    {
     "name": "stdout",
     "output_type": "stream",
     "text": [
      "비디오 저장 완료: UCF_Crimes_10crop/Videos/Testing_Normal_Videos_Anomaly/Normal_Videos_248_x264__2.mp4\n",
      "비디오 저장 완료: UCF_Crimes_10crop/Videos/Testing_Normal_Videos_Anomaly/Normal_Videos_248_x264__7.mp4\n",
      "<class 'list'>\n",
      "<class 'numpy.ndarray'>\n",
      "(120, 160, 3)\n",
      "비디오 저장 완료: UCF_Crimes_10crop/Videos/Testing_Normal_Videos_Anomaly/Normal_Videos_248_x264__3.mp4\n",
      "비디오 저장 완료: UCF_Crimes_10crop/Videos/Testing_Normal_Videos_Anomaly/Normal_Videos_248_x264__8.mp4\n",
      "<class 'list'>\n",
      "<class 'numpy.ndarray'>\n",
      "(120, 160, 3)\n"
     ]
    },
    {
     "name": "stderr",
     "output_type": "stream",
     "text": [
      "OpenCV: FFMPEG: tag 0x44495658/'XVID' is not supported with codec id 12 and format 'mp4 / MP4 (MPEG-4 Part 14)'\n",
      "OpenCV: FFMPEG: fallback to use tag 0x7634706d/'mp4v'\n",
      "OpenCV: FFMPEG: tag 0x44495658/'XVID' is not supported with codec id 12 and format 'mp4 / MP4 (MPEG-4 Part 14)'\n",
      "OpenCV: FFMPEG: fallback to use tag 0x7634706d/'mp4v'\n",
      "OpenCV: FFMPEG: tag 0x44495658/'XVID' is not supported with codec id 12 and format 'mp4 / MP4 (MPEG-4 Part 14)'\n",
      "OpenCV: FFMPEG: fallback to use tag 0x7634706d/'mp4v'\n",
      "OpenCV: FFMPEG: tag 0x44495658/'XVID' is not supported with codec id 12 and format 'mp4 / MP4 (MPEG-4 Part 14)'\n",
      "OpenCV: FFMPEG: fallback to use tag 0x7634706d/'mp4v'\n"
     ]
    },
    {
     "name": "stdout",
     "output_type": "stream",
     "text": [
      "비디오 저장 완료: UCF_Crimes_10crop/Videos/Testing_Normal_Videos_Anomaly/Normal_Videos_248_x264__4.mp4\n",
      "비디오 저장 완료: UCF_Crimes_10crop/Videos/Testing_Normal_Videos_Anomaly/Normal_Videos_248_x264__9.mp4\n",
      "320   240\n",
      "FPS: 30.0\n",
      "<class 'list'>\n",
      "<class 'numpy.ndarray'>\n",
      "(120, 160, 3)\n"
     ]
    },
    {
     "name": "stderr",
     "output_type": "stream",
     "text": [
      "OpenCV: FFMPEG: tag 0x44495658/'XVID' is not supported with codec id 12 and format 'mp4 / MP4 (MPEG-4 Part 14)'\n",
      "OpenCV: FFMPEG: fallback to use tag 0x7634706d/'mp4v'\n",
      "OpenCV: FFMPEG: tag 0x44495658/'XVID' is not supported with codec id 12 and format 'mp4 / MP4 (MPEG-4 Part 14)'\n",
      "OpenCV: FFMPEG: fallback to use tag 0x7634706d/'mp4v'\n"
     ]
    },
    {
     "name": "stdout",
     "output_type": "stream",
     "text": [
      "비디오 저장 완료: UCF_Crimes_10crop/Videos/Testing_Normal_Videos_Anomaly/Normal_Videos_401_x264__0.mp4\n",
      "비디오 저장 완료: UCF_Crimes_10crop/Videos/Testing_Normal_Videos_Anomaly/Normal_Videos_401_x264__5.mp4\n",
      "<class 'list'>\n",
      "<class 'numpy.ndarray'>\n",
      "(120, 160, 3)\n"
     ]
    },
    {
     "name": "stderr",
     "output_type": "stream",
     "text": [
      "OpenCV: FFMPEG: tag 0x44495658/'XVID' is not supported with codec id 12 and format 'mp4 / MP4 (MPEG-4 Part 14)'\n",
      "OpenCV: FFMPEG: fallback to use tag 0x7634706d/'mp4v'\n",
      "OpenCV: FFMPEG: tag 0x44495658/'XVID' is not supported with codec id 12 and format 'mp4 / MP4 (MPEG-4 Part 14)'\n",
      "OpenCV: FFMPEG: fallback to use tag 0x7634706d/'mp4v'\n"
     ]
    },
    {
     "name": "stdout",
     "output_type": "stream",
     "text": [
      "비디오 저장 완료: UCF_Crimes_10crop/Videos/Testing_Normal_Videos_Anomaly/Normal_Videos_401_x264__1.mp4\n",
      "비디오 저장 완료: UCF_Crimes_10crop/Videos/Testing_Normal_Videos_Anomaly/Normal_Videos_401_x264__6.mp4\n",
      "<class 'list'>\n",
      "<class 'numpy.ndarray'>\n",
      "(120, 160, 3)\n"
     ]
    },
    {
     "name": "stderr",
     "output_type": "stream",
     "text": [
      "OpenCV: FFMPEG: tag 0x44495658/'XVID' is not supported with codec id 12 and format 'mp4 / MP4 (MPEG-4 Part 14)'\n",
      "OpenCV: FFMPEG: fallback to use tag 0x7634706d/'mp4v'\n",
      "OpenCV: FFMPEG: tag 0x44495658/'XVID' is not supported with codec id 12 and format 'mp4 / MP4 (MPEG-4 Part 14)'\n",
      "OpenCV: FFMPEG: fallback to use tag 0x7634706d/'mp4v'\n"
     ]
    },
    {
     "name": "stdout",
     "output_type": "stream",
     "text": [
      "비디오 저장 완료: UCF_Crimes_10crop/Videos/Testing_Normal_Videos_Anomaly/Normal_Videos_401_x264__2.mp4\n",
      "비디오 저장 완료: UCF_Crimes_10crop/Videos/Testing_Normal_Videos_Anomaly/Normal_Videos_401_x264__7.mp4\n",
      "<class 'list'>\n",
      "<class 'numpy.ndarray'>\n",
      "(120, 160, 3)\n"
     ]
    },
    {
     "name": "stderr",
     "output_type": "stream",
     "text": [
      "OpenCV: FFMPEG: tag 0x44495658/'XVID' is not supported with codec id 12 and format 'mp4 / MP4 (MPEG-4 Part 14)'\n",
      "OpenCV: FFMPEG: fallback to use tag 0x7634706d/'mp4v'\n",
      "OpenCV: FFMPEG: tag 0x44495658/'XVID' is not supported with codec id 12 and format 'mp4 / MP4 (MPEG-4 Part 14)'\n",
      "OpenCV: FFMPEG: fallback to use tag 0x7634706d/'mp4v'\n"
     ]
    },
    {
     "name": "stdout",
     "output_type": "stream",
     "text": [
      "비디오 저장 완료: UCF_Crimes_10crop/Videos/Testing_Normal_Videos_Anomaly/Normal_Videos_401_x264__3.mp4\n",
      "비디오 저장 완료: UCF_Crimes_10crop/Videos/Testing_Normal_Videos_Anomaly/Normal_Videos_401_x264__8.mp4\n",
      "<class 'list'>\n",
      "<class 'numpy.ndarray'>\n",
      "(120, 160, 3)\n"
     ]
    },
    {
     "name": "stderr",
     "output_type": "stream",
     "text": [
      "OpenCV: FFMPEG: tag 0x44495658/'XVID' is not supported with codec id 12 and format 'mp4 / MP4 (MPEG-4 Part 14)'\n",
      "OpenCV: FFMPEG: fallback to use tag 0x7634706d/'mp4v'\n",
      "OpenCV: FFMPEG: tag 0x44495658/'XVID' is not supported with codec id 12 and format 'mp4 / MP4 (MPEG-4 Part 14)'\n",
      "OpenCV: FFMPEG: fallback to use tag 0x7634706d/'mp4v'\n"
     ]
    },
    {
     "name": "stdout",
     "output_type": "stream",
     "text": [
      "비디오 저장 완료: UCF_Crimes_10crop/Videos/Testing_Normal_Videos_Anomaly/Normal_Videos_401_x264__4.mp4\n",
      "비디오 저장 완료: UCF_Crimes_10crop/Videos/Testing_Normal_Videos_Anomaly/Normal_Videos_401_x264__9.mp4\n",
      "320   240\n",
      "FPS: 30.0\n",
      "<class 'list'>\n",
      "<class 'numpy.ndarray'>\n",
      "(120, 160, 3)\n"
     ]
    },
    {
     "name": "stderr",
     "output_type": "stream",
     "text": [
      "OpenCV: FFMPEG: tag 0x44495658/'XVID' is not supported with codec id 12 and format 'mp4 / MP4 (MPEG-4 Part 14)'\n",
      "OpenCV: FFMPEG: fallback to use tag 0x7634706d/'mp4v'\n",
      "OpenCV: FFMPEG: tag 0x44495658/'XVID' is not supported with codec id 12 and format 'mp4 / MP4 (MPEG-4 Part 14)'\n",
      "OpenCV: FFMPEG: fallback to use tag 0x7634706d/'mp4v'\n"
     ]
    },
    {
     "name": "stdout",
     "output_type": "stream",
     "text": [
      "비디오 저장 완료: UCF_Crimes_10crop/Videos/Testing_Normal_Videos_Anomaly/Normal_Videos_352_x264__0.mp4\n",
      "비디오 저장 완료: UCF_Crimes_10crop/Videos/Testing_Normal_Videos_Anomaly/Normal_Videos_352_x264__5.mp4\n",
      "<class 'list'>\n",
      "<class 'numpy.ndarray'>\n",
      "(120, 160, 3)\n"
     ]
    },
    {
     "name": "stderr",
     "output_type": "stream",
     "text": [
      "OpenCV: FFMPEG: tag 0x44495658/'XVID' is not supported with codec id 12 and format 'mp4 / MP4 (MPEG-4 Part 14)'\n",
      "OpenCV: FFMPEG: fallback to use tag 0x7634706d/'mp4v'\n",
      "OpenCV: FFMPEG: tag 0x44495658/'XVID' is not supported with codec id 12 and format 'mp4 / MP4 (MPEG-4 Part 14)'\n",
      "OpenCV: FFMPEG: fallback to use tag 0x7634706d/'mp4v'\n"
     ]
    },
    {
     "name": "stdout",
     "output_type": "stream",
     "text": [
      "비디오 저장 완료: UCF_Crimes_10crop/Videos/Testing_Normal_Videos_Anomaly/Normal_Videos_352_x264__1.mp4\n",
      "비디오 저장 완료: UCF_Crimes_10crop/Videos/Testing_Normal_Videos_Anomaly/Normal_Videos_352_x264__6.mp4\n",
      "<class 'list'>\n",
      "<class 'numpy.ndarray'>\n",
      "(120, 160, 3)\n"
     ]
    },
    {
     "name": "stderr",
     "output_type": "stream",
     "text": [
      "OpenCV: FFMPEG: tag 0x44495658/'XVID' is not supported with codec id 12 and format 'mp4 / MP4 (MPEG-4 Part 14)'\n",
      "OpenCV: FFMPEG: fallback to use tag 0x7634706d/'mp4v'\n",
      "OpenCV: FFMPEG: tag 0x44495658/'XVID' is not supported with codec id 12 and format 'mp4 / MP4 (MPEG-4 Part 14)'\n",
      "OpenCV: FFMPEG: fallback to use tag 0x7634706d/'mp4v'\n"
     ]
    },
    {
     "name": "stdout",
     "output_type": "stream",
     "text": [
      "비디오 저장 완료: UCF_Crimes_10crop/Videos/Testing_Normal_Videos_Anomaly/Normal_Videos_352_x264__2.mp4\n",
      "비디오 저장 완료: UCF_Crimes_10crop/Videos/Testing_Normal_Videos_Anomaly/Normal_Videos_352_x264__7.mp4\n",
      "<class 'list'>\n",
      "<class 'numpy.ndarray'>\n",
      "(120, 160, 3)\n"
     ]
    },
    {
     "name": "stderr",
     "output_type": "stream",
     "text": [
      "OpenCV: FFMPEG: tag 0x44495658/'XVID' is not supported with codec id 12 and format 'mp4 / MP4 (MPEG-4 Part 14)'\n",
      "OpenCV: FFMPEG: fallback to use tag 0x7634706d/'mp4v'\n",
      "OpenCV: FFMPEG: tag 0x44495658/'XVID' is not supported with codec id 12 and format 'mp4 / MP4 (MPEG-4 Part 14)'\n",
      "OpenCV: FFMPEG: fallback to use tag 0x7634706d/'mp4v'\n"
     ]
    },
    {
     "name": "stdout",
     "output_type": "stream",
     "text": [
      "비디오 저장 완료: UCF_Crimes_10crop/Videos/Testing_Normal_Videos_Anomaly/Normal_Videos_352_x264__3.mp4\n",
      "비디오 저장 완료: UCF_Crimes_10crop/Videos/Testing_Normal_Videos_Anomaly/Normal_Videos_352_x264__8.mp4\n",
      "<class 'list'>\n",
      "<class 'numpy.ndarray'>\n",
      "(120, 160, 3)\n"
     ]
    },
    {
     "name": "stderr",
     "output_type": "stream",
     "text": [
      "OpenCV: FFMPEG: tag 0x44495658/'XVID' is not supported with codec id 12 and format 'mp4 / MP4 (MPEG-4 Part 14)'\n",
      "OpenCV: FFMPEG: fallback to use tag 0x7634706d/'mp4v'\n",
      "OpenCV: FFMPEG: tag 0x44495658/'XVID' is not supported with codec id 12 and format 'mp4 / MP4 (MPEG-4 Part 14)'\n",
      "OpenCV: FFMPEG: fallback to use tag 0x7634706d/'mp4v'\n"
     ]
    },
    {
     "name": "stdout",
     "output_type": "stream",
     "text": [
      "비디오 저장 완료: UCF_Crimes_10crop/Videos/Testing_Normal_Videos_Anomaly/Normal_Videos_352_x264__4.mp4\n",
      "비디오 저장 완료: UCF_Crimes_10crop/Videos/Testing_Normal_Videos_Anomaly/Normal_Videos_352_x264__9.mp4\n",
      "320   240\n",
      "FPS: 30.0\n",
      "<class 'list'>\n",
      "<class 'numpy.ndarray'>\n",
      "(120, 160, 3)\n"
     ]
    },
    {
     "name": "stderr",
     "output_type": "stream",
     "text": [
      "OpenCV: FFMPEG: tag 0x44495658/'XVID' is not supported with codec id 12 and format 'mp4 / MP4 (MPEG-4 Part 14)'\n",
      "OpenCV: FFMPEG: fallback to use tag 0x7634706d/'mp4v'\n",
      "OpenCV: FFMPEG: tag 0x44495658/'XVID' is not supported with codec id 12 and format 'mp4 / MP4 (MPEG-4 Part 14)'\n",
      "OpenCV: FFMPEG: fallback to use tag 0x7634706d/'mp4v'\n"
     ]
    },
    {
     "name": "stdout",
     "output_type": "stream",
     "text": [
      "비디오 저장 완료: UCF_Crimes_10crop/Videos/Testing_Normal_Videos_Anomaly/Normal_Videos_780_x264__0.mp4\n",
      "비디오 저장 완료: UCF_Crimes_10crop/Videos/Testing_Normal_Videos_Anomaly/Normal_Videos_780_x264__5.mp4\n",
      "<class 'list'>\n",
      "<class 'numpy.ndarray'>\n",
      "(120, 160, 3)\n"
     ]
    },
    {
     "name": "stderr",
     "output_type": "stream",
     "text": [
      "OpenCV: FFMPEG: tag 0x44495658/'XVID' is not supported with codec id 12 and format 'mp4 / MP4 (MPEG-4 Part 14)'\n",
      "OpenCV: FFMPEG: fallback to use tag 0x7634706d/'mp4v'\n",
      "OpenCV: FFMPEG: tag 0x44495658/'XVID' is not supported with codec id 12 and format 'mp4 / MP4 (MPEG-4 Part 14)'\n",
      "OpenCV: FFMPEG: fallback to use tag 0x7634706d/'mp4v'\n"
     ]
    },
    {
     "name": "stdout",
     "output_type": "stream",
     "text": [
      "비디오 저장 완료: UCF_Crimes_10crop/Videos/Testing_Normal_Videos_Anomaly/Normal_Videos_780_x264__1.mp4\n",
      "비디오 저장 완료: UCF_Crimes_10crop/Videos/Testing_Normal_Videos_Anomaly/Normal_Videos_780_x264__6.mp4\n",
      "<class 'list'>\n",
      "<class 'numpy.ndarray'>\n",
      "(120, 160, 3)\n"
     ]
    },
    {
     "name": "stderr",
     "output_type": "stream",
     "text": [
      "OpenCV: FFMPEG: tag 0x44495658/'XVID' is not supported with codec id 12 and format 'mp4 / MP4 (MPEG-4 Part 14)'\n",
      "OpenCV: FFMPEG: fallback to use tag 0x7634706d/'mp4v'\n",
      "OpenCV: FFMPEG: tag 0x44495658/'XVID' is not supported with codec id 12 and format 'mp4 / MP4 (MPEG-4 Part 14)'\n",
      "OpenCV: FFMPEG: fallback to use tag 0x7634706d/'mp4v'\n"
     ]
    },
    {
     "name": "stdout",
     "output_type": "stream",
     "text": [
      "비디오 저장 완료: UCF_Crimes_10crop/Videos/Testing_Normal_Videos_Anomaly/Normal_Videos_780_x264__2.mp4\n",
      "비디오 저장 완료: UCF_Crimes_10crop/Videos/Testing_Normal_Videos_Anomaly/Normal_Videos_780_x264__7.mp4\n",
      "<class 'list'>\n",
      "<class 'numpy.ndarray'>\n",
      "(120, 160, 3)\n"
     ]
    },
    {
     "name": "stderr",
     "output_type": "stream",
     "text": [
      "OpenCV: FFMPEG: tag 0x44495658/'XVID' is not supported with codec id 12 and format 'mp4 / MP4 (MPEG-4 Part 14)'\n",
      "OpenCV: FFMPEG: fallback to use tag 0x7634706d/'mp4v'\n",
      "OpenCV: FFMPEG: tag 0x44495658/'XVID' is not supported with codec id 12 and format 'mp4 / MP4 (MPEG-4 Part 14)'\n",
      "OpenCV: FFMPEG: fallback to use tag 0x7634706d/'mp4v'\n"
     ]
    },
    {
     "name": "stdout",
     "output_type": "stream",
     "text": [
      "비디오 저장 완료: UCF_Crimes_10crop/Videos/Testing_Normal_Videos_Anomaly/Normal_Videos_780_x264__3.mp4\n",
      "비디오 저장 완료: UCF_Crimes_10crop/Videos/Testing_Normal_Videos_Anomaly/Normal_Videos_780_x264__8.mp4\n",
      "<class 'list'>\n",
      "<class 'numpy.ndarray'>\n",
      "(120, 160, 3)\n"
     ]
    },
    {
     "name": "stderr",
     "output_type": "stream",
     "text": [
      "OpenCV: FFMPEG: tag 0x44495658/'XVID' is not supported with codec id 12 and format 'mp4 / MP4 (MPEG-4 Part 14)'\n",
      "OpenCV: FFMPEG: fallback to use tag 0x7634706d/'mp4v'\n",
      "OpenCV: FFMPEG: tag 0x44495658/'XVID' is not supported with codec id 12 and format 'mp4 / MP4 (MPEG-4 Part 14)'\n",
      "OpenCV: FFMPEG: fallback to use tag 0x7634706d/'mp4v'\n"
     ]
    },
    {
     "name": "stdout",
     "output_type": "stream",
     "text": [
      "비디오 저장 완료: UCF_Crimes_10crop/Videos/Testing_Normal_Videos_Anomaly/Normal_Videos_780_x264__4.mp4\n",
      "비디오 저장 완료: UCF_Crimes_10crop/Videos/Testing_Normal_Videos_Anomaly/Normal_Videos_780_x264__9.mp4\n",
      "320   240\n",
      "FPS: 30.0\n",
      "<class 'list'>\n",
      "<class 'numpy.ndarray'>\n",
      "(120, 160, 3)\n"
     ]
    },
    {
     "name": "stderr",
     "output_type": "stream",
     "text": [
      "OpenCV: FFMPEG: tag 0x44495658/'XVID' is not supported with codec id 12 and format 'mp4 / MP4 (MPEG-4 Part 14)'\n",
      "OpenCV: FFMPEG: fallback to use tag 0x7634706d/'mp4v'\n",
      "OpenCV: FFMPEG: tag 0x44495658/'XVID' is not supported with codec id 12 and format 'mp4 / MP4 (MPEG-4 Part 14)'\n",
      "OpenCV: FFMPEG: fallback to use tag 0x7634706d/'mp4v'\n"
     ]
    },
    {
     "name": "stdout",
     "output_type": "stream",
     "text": [
      "비디오 저장 완료: UCF_Crimes_10crop/Videos/Testing_Normal_Videos_Anomaly/Normal_Videos_924_x264__0.mp4\n",
      "비디오 저장 완료: UCF_Crimes_10crop/Videos/Testing_Normal_Videos_Anomaly/Normal_Videos_924_x264__5.mp4\n",
      "<class 'list'>\n",
      "<class 'numpy.ndarray'>\n",
      "(120, 160, 3)\n"
     ]
    },
    {
     "name": "stderr",
     "output_type": "stream",
     "text": [
      "OpenCV: FFMPEG: tag 0x44495658/'XVID' is not supported with codec id 12 and format 'mp4 / MP4 (MPEG-4 Part 14)'\n",
      "OpenCV: FFMPEG: fallback to use tag 0x7634706d/'mp4v'\n",
      "OpenCV: FFMPEG: tag 0x44495658/'XVID' is not supported with codec id 12 and format 'mp4 / MP4 (MPEG-4 Part 14)'\n",
      "OpenCV: FFMPEG: fallback to use tag 0x7634706d/'mp4v'\n"
     ]
    },
    {
     "name": "stdout",
     "output_type": "stream",
     "text": [
      "비디오 저장 완료: UCF_Crimes_10crop/Videos/Testing_Normal_Videos_Anomaly/Normal_Videos_924_x264__1.mp4\n",
      "비디오 저장 완료: UCF_Crimes_10crop/Videos/Testing_Normal_Videos_Anomaly/Normal_Videos_924_x264__6.mp4\n",
      "<class 'list'>\n",
      "<class 'numpy.ndarray'>\n",
      "(120, 160, 3)\n"
     ]
    },
    {
     "name": "stderr",
     "output_type": "stream",
     "text": [
      "OpenCV: FFMPEG: tag 0x44495658/'XVID' is not supported with codec id 12 and format 'mp4 / MP4 (MPEG-4 Part 14)'\n",
      "OpenCV: FFMPEG: fallback to use tag 0x7634706d/'mp4v'\n",
      "OpenCV: FFMPEG: tag 0x44495658/'XVID' is not supported with codec id 12 and format 'mp4 / MP4 (MPEG-4 Part 14)'\n",
      "OpenCV: FFMPEG: fallback to use tag 0x7634706d/'mp4v'\n"
     ]
    },
    {
     "name": "stdout",
     "output_type": "stream",
     "text": [
      "비디오 저장 완료: UCF_Crimes_10crop/Videos/Testing_Normal_Videos_Anomaly/Normal_Videos_924_x264__2.mp4\n",
      "비디오 저장 완료: UCF_Crimes_10crop/Videos/Testing_Normal_Videos_Anomaly/Normal_Videos_924_x264__7.mp4\n",
      "<class 'list'>\n",
      "<class 'numpy.ndarray'>\n",
      "(120, 160, 3)\n"
     ]
    },
    {
     "name": "stderr",
     "output_type": "stream",
     "text": [
      "OpenCV: FFMPEG: tag 0x44495658/'XVID' is not supported with codec id 12 and format 'mp4 / MP4 (MPEG-4 Part 14)'\n",
      "OpenCV: FFMPEG: fallback to use tag 0x7634706d/'mp4v'\n",
      "OpenCV: FFMPEG: tag 0x44495658/'XVID' is not supported with codec id 12 and format 'mp4 / MP4 (MPEG-4 Part 14)'\n",
      "OpenCV: FFMPEG: fallback to use tag 0x7634706d/'mp4v'\n"
     ]
    },
    {
     "name": "stdout",
     "output_type": "stream",
     "text": [
      "비디오 저장 완료: UCF_Crimes_10crop/Videos/Testing_Normal_Videos_Anomaly/Normal_Videos_924_x264__3.mp4\n",
      "비디오 저장 완료: UCF_Crimes_10crop/Videos/Testing_Normal_Videos_Anomaly/Normal_Videos_924_x264__8.mp4\n",
      "<class 'list'>\n",
      "<class 'numpy.ndarray'>\n",
      "(120, 160, 3)\n"
     ]
    },
    {
     "name": "stderr",
     "output_type": "stream",
     "text": [
      "OpenCV: FFMPEG: tag 0x44495658/'XVID' is not supported with codec id 12 and format 'mp4 / MP4 (MPEG-4 Part 14)'\n",
      "OpenCV: FFMPEG: fallback to use tag 0x7634706d/'mp4v'\n",
      "OpenCV: FFMPEG: tag 0x44495658/'XVID' is not supported with codec id 12 and format 'mp4 / MP4 (MPEG-4 Part 14)'\n",
      "OpenCV: FFMPEG: fallback to use tag 0x7634706d/'mp4v'\n"
     ]
    },
    {
     "name": "stdout",
     "output_type": "stream",
     "text": [
      "비디오 저장 완료: UCF_Crimes_10crop/Videos/Testing_Normal_Videos_Anomaly/Normal_Videos_924_x264__4.mp4\n",
      "비디오 저장 완료: UCF_Crimes_10crop/Videos/Testing_Normal_Videos_Anomaly/Normal_Videos_924_x264__9.mp4\n",
      "320   240\n",
      "FPS: 30.0\n",
      "<class 'list'>\n",
      "<class 'numpy.ndarray'>\n",
      "(120, 160, 3)\n"
     ]
    },
    {
     "name": "stderr",
     "output_type": "stream",
     "text": [
      "OpenCV: FFMPEG: tag 0x44495658/'XVID' is not supported with codec id 12 and format 'mp4 / MP4 (MPEG-4 Part 14)'\n",
      "OpenCV: FFMPEG: fallback to use tag 0x7634706d/'mp4v'\n",
      "OpenCV: FFMPEG: tag 0x44495658/'XVID' is not supported with codec id 12 and format 'mp4 / MP4 (MPEG-4 Part 14)'\n",
      "OpenCV: FFMPEG: fallback to use tag 0x7634706d/'mp4v'\n"
     ]
    },
    {
     "name": "stdout",
     "output_type": "stream",
     "text": [
      "비디오 저장 완료: UCF_Crimes_10crop/Videos/Testing_Normal_Videos_Anomaly/Normal_Videos_801_x264__0.mp4\n",
      "비디오 저장 완료: UCF_Crimes_10crop/Videos/Testing_Normal_Videos_Anomaly/Normal_Videos_801_x264__5.mp4\n",
      "<class 'list'>\n",
      "<class 'numpy.ndarray'>\n",
      "(120, 160, 3)\n"
     ]
    },
    {
     "name": "stderr",
     "output_type": "stream",
     "text": [
      "OpenCV: FFMPEG: tag 0x44495658/'XVID' is not supported with codec id 12 and format 'mp4 / MP4 (MPEG-4 Part 14)'\n",
      "OpenCV: FFMPEG: fallback to use tag 0x7634706d/'mp4v'\n",
      "OpenCV: FFMPEG: tag 0x44495658/'XVID' is not supported with codec id 12 and format 'mp4 / MP4 (MPEG-4 Part 14)'\n",
      "OpenCV: FFMPEG: fallback to use tag 0x7634706d/'mp4v'\n"
     ]
    },
    {
     "name": "stdout",
     "output_type": "stream",
     "text": [
      "비디오 저장 완료: UCF_Crimes_10crop/Videos/Testing_Normal_Videos_Anomaly/Normal_Videos_801_x264__1.mp4\n",
      "비디오 저장 완료: UCF_Crimes_10crop/Videos/Testing_Normal_Videos_Anomaly/Normal_Videos_801_x264__6.mp4\n",
      "<class 'list'>\n",
      "<class 'numpy.ndarray'>\n",
      "(120, 160, 3)\n"
     ]
    },
    {
     "name": "stderr",
     "output_type": "stream",
     "text": [
      "OpenCV: FFMPEG: tag 0x44495658/'XVID' is not supported with codec id 12 and format 'mp4 / MP4 (MPEG-4 Part 14)'\n",
      "OpenCV: FFMPEG: fallback to use tag 0x7634706d/'mp4v'\n",
      "OpenCV: FFMPEG: tag 0x44495658/'XVID' is not supported with codec id 12 and format 'mp4 / MP4 (MPEG-4 Part 14)'\n",
      "OpenCV: FFMPEG: fallback to use tag 0x7634706d/'mp4v'\n"
     ]
    },
    {
     "name": "stdout",
     "output_type": "stream",
     "text": [
      "비디오 저장 완료: UCF_Crimes_10crop/Videos/Testing_Normal_Videos_Anomaly/Normal_Videos_801_x264__2.mp4\n",
      "비디오 저장 완료: UCF_Crimes_10crop/Videos/Testing_Normal_Videos_Anomaly/Normal_Videos_801_x264__7.mp4\n",
      "<class 'list'>\n",
      "<class 'numpy.ndarray'>\n",
      "(120, 160, 3)\n"
     ]
    },
    {
     "name": "stderr",
     "output_type": "stream",
     "text": [
      "OpenCV: FFMPEG: tag 0x44495658/'XVID' is not supported with codec id 12 and format 'mp4 / MP4 (MPEG-4 Part 14)'\n",
      "OpenCV: FFMPEG: fallback to use tag 0x7634706d/'mp4v'\n",
      "OpenCV: FFMPEG: tag 0x44495658/'XVID' is not supported with codec id 12 and format 'mp4 / MP4 (MPEG-4 Part 14)'\n",
      "OpenCV: FFMPEG: fallback to use tag 0x7634706d/'mp4v'\n"
     ]
    },
    {
     "name": "stdout",
     "output_type": "stream",
     "text": [
      "비디오 저장 완료: UCF_Crimes_10crop/Videos/Testing_Normal_Videos_Anomaly/Normal_Videos_801_x264__3.mp4\n",
      "비디오 저장 완료: UCF_Crimes_10crop/Videos/Testing_Normal_Videos_Anomaly/Normal_Videos_801_x264__8.mp4\n",
      "<class 'list'>\n",
      "<class 'numpy.ndarray'>\n",
      "(120, 160, 3)\n"
     ]
    },
    {
     "name": "stderr",
     "output_type": "stream",
     "text": [
      "OpenCV: FFMPEG: tag 0x44495658/'XVID' is not supported with codec id 12 and format 'mp4 / MP4 (MPEG-4 Part 14)'\n",
      "OpenCV: FFMPEG: fallback to use tag 0x7634706d/'mp4v'\n",
      "OpenCV: FFMPEG: tag 0x44495658/'XVID' is not supported with codec id 12 and format 'mp4 / MP4 (MPEG-4 Part 14)'\n",
      "OpenCV: FFMPEG: fallback to use tag 0x7634706d/'mp4v'\n"
     ]
    },
    {
     "name": "stdout",
     "output_type": "stream",
     "text": [
      "비디오 저장 완료: UCF_Crimes_10crop/Videos/Testing_Normal_Videos_Anomaly/Normal_Videos_801_x264__4.mp4\n",
      "비디오 저장 완료: UCF_Crimes_10crop/Videos/Testing_Normal_Videos_Anomaly/Normal_Videos_801_x264__9.mp4\n",
      "320   240\n",
      "FPS: 30.0\n",
      "<class 'list'>\n",
      "<class 'numpy.ndarray'>\n",
      "(120, 160, 3)\n"
     ]
    },
    {
     "name": "stderr",
     "output_type": "stream",
     "text": [
      "OpenCV: FFMPEG: tag 0x44495658/'XVID' is not supported with codec id 12 and format 'mp4 / MP4 (MPEG-4 Part 14)'\n",
      "OpenCV: FFMPEG: fallback to use tag 0x7634706d/'mp4v'\n",
      "OpenCV: FFMPEG: tag 0x44495658/'XVID' is not supported with codec id 12 and format 'mp4 / MP4 (MPEG-4 Part 14)'\n",
      "OpenCV: FFMPEG: fallback to use tag 0x7634706d/'mp4v'\n"
     ]
    },
    {
     "name": "stdout",
     "output_type": "stream",
     "text": [
      "비디오 저장 완료: UCF_Crimes_10crop/Videos/Testing_Normal_Videos_Anomaly/Normal_Videos_935_x264__0.mp4\n",
      "비디오 저장 완료: UCF_Crimes_10crop/Videos/Testing_Normal_Videos_Anomaly/Normal_Videos_935_x264__5.mp4\n",
      "<class 'list'>\n",
      "<class 'numpy.ndarray'>\n",
      "(120, 160, 3)\n"
     ]
    },
    {
     "name": "stderr",
     "output_type": "stream",
     "text": [
      "OpenCV: FFMPEG: tag 0x44495658/'XVID' is not supported with codec id 12 and format 'mp4 / MP4 (MPEG-4 Part 14)'\n",
      "OpenCV: FFMPEG: fallback to use tag 0x7634706d/'mp4v'\n",
      "OpenCV: FFMPEG: tag 0x44495658/'XVID' is not supported with codec id 12 and format 'mp4 / MP4 (MPEG-4 Part 14)'\n",
      "OpenCV: FFMPEG: fallback to use tag 0x7634706d/'mp4v'\n"
     ]
    },
    {
     "name": "stdout",
     "output_type": "stream",
     "text": [
      "비디오 저장 완료: UCF_Crimes_10crop/Videos/Testing_Normal_Videos_Anomaly/Normal_Videos_935_x264__1.mp4\n",
      "비디오 저장 완료: UCF_Crimes_10crop/Videos/Testing_Normal_Videos_Anomaly/Normal_Videos_935_x264__6.mp4\n",
      "<class 'list'>\n",
      "<class 'numpy.ndarray'>\n",
      "(120, 160, 3)\n"
     ]
    },
    {
     "name": "stderr",
     "output_type": "stream",
     "text": [
      "OpenCV: FFMPEG: tag 0x44495658/'XVID' is not supported with codec id 12 and format 'mp4 / MP4 (MPEG-4 Part 14)'\n",
      "OpenCV: FFMPEG: fallback to use tag 0x7634706d/'mp4v'\n",
      "OpenCV: FFMPEG: tag 0x44495658/'XVID' is not supported with codec id 12 and format 'mp4 / MP4 (MPEG-4 Part 14)'\n",
      "OpenCV: FFMPEG: fallback to use tag 0x7634706d/'mp4v'\n"
     ]
    },
    {
     "name": "stdout",
     "output_type": "stream",
     "text": [
      "비디오 저장 완료: UCF_Crimes_10crop/Videos/Testing_Normal_Videos_Anomaly/Normal_Videos_935_x264__2.mp4\n",
      "비디오 저장 완료: UCF_Crimes_10crop/Videos/Testing_Normal_Videos_Anomaly/Normal_Videos_935_x264__7.mp4\n",
      "<class 'list'>\n",
      "<class 'numpy.ndarray'>\n",
      "(120, 160, 3)\n"
     ]
    },
    {
     "name": "stderr",
     "output_type": "stream",
     "text": [
      "OpenCV: FFMPEG: tag 0x44495658/'XVID' is not supported with codec id 12 and format 'mp4 / MP4 (MPEG-4 Part 14)'\n",
      "OpenCV: FFMPEG: fallback to use tag 0x7634706d/'mp4v'\n",
      "OpenCV: FFMPEG: tag 0x44495658/'XVID' is not supported with codec id 12 and format 'mp4 / MP4 (MPEG-4 Part 14)'\n",
      "OpenCV: FFMPEG: fallback to use tag 0x7634706d/'mp4v'\n"
     ]
    },
    {
     "name": "stdout",
     "output_type": "stream",
     "text": [
      "비디오 저장 완료: UCF_Crimes_10crop/Videos/Testing_Normal_Videos_Anomaly/Normal_Videos_935_x264__3.mp4\n",
      "비디오 저장 완료: UCF_Crimes_10crop/Videos/Testing_Normal_Videos_Anomaly/Normal_Videos_935_x264__8.mp4\n",
      "<class 'list'>\n",
      "<class 'numpy.ndarray'>\n",
      "(120, 160, 3)\n"
     ]
    },
    {
     "name": "stderr",
     "output_type": "stream",
     "text": [
      "OpenCV: FFMPEG: tag 0x44495658/'XVID' is not supported with codec id 12 and format 'mp4 / MP4 (MPEG-4 Part 14)'\n",
      "OpenCV: FFMPEG: fallback to use tag 0x7634706d/'mp4v'\n",
      "OpenCV: FFMPEG: tag 0x44495658/'XVID' is not supported with codec id 12 and format 'mp4 / MP4 (MPEG-4 Part 14)'\n",
      "OpenCV: FFMPEG: fallback to use tag 0x7634706d/'mp4v'\n"
     ]
    },
    {
     "name": "stdout",
     "output_type": "stream",
     "text": [
      "비디오 저장 완료: UCF_Crimes_10crop/Videos/Testing_Normal_Videos_Anomaly/Normal_Videos_935_x264__4.mp4\n",
      "비디오 저장 완료: UCF_Crimes_10crop/Videos/Testing_Normal_Videos_Anomaly/Normal_Videos_935_x264__9.mp4\n",
      "320   240\n",
      "FPS: 30.0\n",
      "<class 'list'>\n",
      "<class 'numpy.ndarray'>\n",
      "(120, 160, 3)\n"
     ]
    },
    {
     "name": "stderr",
     "output_type": "stream",
     "text": [
      "OpenCV: FFMPEG: tag 0x44495658/'XVID' is not supported with codec id 12 and format 'mp4 / MP4 (MPEG-4 Part 14)'\n",
      "OpenCV: FFMPEG: fallback to use tag 0x7634706d/'mp4v'\n",
      "OpenCV: FFMPEG: tag 0x44495658/'XVID' is not supported with codec id 12 and format 'mp4 / MP4 (MPEG-4 Part 14)'\n",
      "OpenCV: FFMPEG: fallback to use tag 0x7634706d/'mp4v'\n"
     ]
    },
    {
     "name": "stdout",
     "output_type": "stream",
     "text": [
      "비디오 저장 완료: UCF_Crimes_10crop/Videos/Testing_Normal_Videos_Anomaly/Normal_Videos_067_x264__0.mp4\n",
      "비디오 저장 완료: UCF_Crimes_10crop/Videos/Testing_Normal_Videos_Anomaly/Normal_Videos_067_x264__5.mp4\n",
      "<class 'list'>\n",
      "<class 'numpy.ndarray'>\n",
      "(120, 160, 3)\n",
      "비디오 저장 완료: UCF_Crimes_10crop/Videos/Testing_Normal_Videos_Anomaly/Normal_Videos_067_x264__1.mp4\n",
      "비디오 저장 완료: UCF_Crimes_10crop/Videos/Testing_Normal_Videos_Anomaly/Normal_Videos_067_x264__6.mp4\n",
      "<class 'list'>\n",
      "<class 'numpy.ndarray'>\n",
      "(120, 160, 3)\n"
     ]
    },
    {
     "name": "stderr",
     "output_type": "stream",
     "text": [
      "OpenCV: FFMPEG: tag 0x44495658/'XVID' is not supported with codec id 12 and format 'mp4 / MP4 (MPEG-4 Part 14)'\n",
      "OpenCV: FFMPEG: fallback to use tag 0x7634706d/'mp4v'\n",
      "OpenCV: FFMPEG: tag 0x44495658/'XVID' is not supported with codec id 12 and format 'mp4 / MP4 (MPEG-4 Part 14)'\n",
      "OpenCV: FFMPEG: fallback to use tag 0x7634706d/'mp4v'\n",
      "OpenCV: FFMPEG: tag 0x44495658/'XVID' is not supported with codec id 12 and format 'mp4 / MP4 (MPEG-4 Part 14)'\n",
      "OpenCV: FFMPEG: fallback to use tag 0x7634706d/'mp4v'\n",
      "OpenCV: FFMPEG: tag 0x44495658/'XVID' is not supported with codec id 12 and format 'mp4 / MP4 (MPEG-4 Part 14)'\n",
      "OpenCV: FFMPEG: fallback to use tag 0x7634706d/'mp4v'\n"
     ]
    },
    {
     "name": "stdout",
     "output_type": "stream",
     "text": [
      "비디오 저장 완료: UCF_Crimes_10crop/Videos/Testing_Normal_Videos_Anomaly/Normal_Videos_067_x264__2.mp4\n",
      "비디오 저장 완료: UCF_Crimes_10crop/Videos/Testing_Normal_Videos_Anomaly/Normal_Videos_067_x264__7.mp4\n",
      "<class 'list'>\n",
      "<class 'numpy.ndarray'>\n",
      "(120, 160, 3)\n",
      "비디오 저장 완료: UCF_Crimes_10crop/Videos/Testing_Normal_Videos_Anomaly/Normal_Videos_067_x264__3.mp4\n",
      "비디오 저장 완료: UCF_Crimes_10crop/Videos/Testing_Normal_Videos_Anomaly/Normal_Videos_067_x264__8.mp4\n",
      "<class 'list'>\n",
      "<class 'numpy.ndarray'>\n",
      "(120, 160, 3)\n"
     ]
    },
    {
     "name": "stderr",
     "output_type": "stream",
     "text": [
      "OpenCV: FFMPEG: tag 0x44495658/'XVID' is not supported with codec id 12 and format 'mp4 / MP4 (MPEG-4 Part 14)'\n",
      "OpenCV: FFMPEG: fallback to use tag 0x7634706d/'mp4v'\n",
      "OpenCV: FFMPEG: tag 0x44495658/'XVID' is not supported with codec id 12 and format 'mp4 / MP4 (MPEG-4 Part 14)'\n",
      "OpenCV: FFMPEG: fallback to use tag 0x7634706d/'mp4v'\n",
      "OpenCV: FFMPEG: tag 0x44495658/'XVID' is not supported with codec id 12 and format 'mp4 / MP4 (MPEG-4 Part 14)'\n",
      "OpenCV: FFMPEG: fallback to use tag 0x7634706d/'mp4v'\n",
      "OpenCV: FFMPEG: tag 0x44495658/'XVID' is not supported with codec id 12 and format 'mp4 / MP4 (MPEG-4 Part 14)'\n",
      "OpenCV: FFMPEG: fallback to use tag 0x7634706d/'mp4v'\n"
     ]
    },
    {
     "name": "stdout",
     "output_type": "stream",
     "text": [
      "비디오 저장 완료: UCF_Crimes_10crop/Videos/Testing_Normal_Videos_Anomaly/Normal_Videos_067_x264__4.mp4\n",
      "비디오 저장 완료: UCF_Crimes_10crop/Videos/Testing_Normal_Videos_Anomaly/Normal_Videos_067_x264__9.mp4\n",
      "320   240\n",
      "FPS: 30.0\n",
      "<class 'list'>\n",
      "<class 'numpy.ndarray'>\n",
      "(120, 160, 3)\n"
     ]
    },
    {
     "name": "stderr",
     "output_type": "stream",
     "text": [
      "OpenCV: FFMPEG: tag 0x44495658/'XVID' is not supported with codec id 12 and format 'mp4 / MP4 (MPEG-4 Part 14)'\n",
      "OpenCV: FFMPEG: fallback to use tag 0x7634706d/'mp4v'\n",
      "OpenCV: FFMPEG: tag 0x44495658/'XVID' is not supported with codec id 12 and format 'mp4 / MP4 (MPEG-4 Part 14)'\n",
      "OpenCV: FFMPEG: fallback to use tag 0x7634706d/'mp4v'\n"
     ]
    },
    {
     "name": "stdout",
     "output_type": "stream",
     "text": [
      "비디오 저장 완료: UCF_Crimes_10crop/Videos/Testing_Normal_Videos_Anomaly/Normal_Videos_880_x264__0.mp4\n",
      "비디오 저장 완료: UCF_Crimes_10crop/Videos/Testing_Normal_Videos_Anomaly/Normal_Videos_880_x264__5.mp4\n",
      "<class 'list'>\n",
      "<class 'numpy.ndarray'>\n",
      "(120, 160, 3)\n"
     ]
    },
    {
     "name": "stderr",
     "output_type": "stream",
     "text": [
      "OpenCV: FFMPEG: tag 0x44495658/'XVID' is not supported with codec id 12 and format 'mp4 / MP4 (MPEG-4 Part 14)'\n",
      "OpenCV: FFMPEG: fallback to use tag 0x7634706d/'mp4v'\n",
      "OpenCV: FFMPEG: tag 0x44495658/'XVID' is not supported with codec id 12 and format 'mp4 / MP4 (MPEG-4 Part 14)'\n",
      "OpenCV: FFMPEG: fallback to use tag 0x7634706d/'mp4v'\n"
     ]
    },
    {
     "name": "stdout",
     "output_type": "stream",
     "text": [
      "비디오 저장 완료: UCF_Crimes_10crop/Videos/Testing_Normal_Videos_Anomaly/Normal_Videos_880_x264__1.mp4\n",
      "비디오 저장 완료: UCF_Crimes_10crop/Videos/Testing_Normal_Videos_Anomaly/Normal_Videos_880_x264__6.mp4\n",
      "<class 'list'>\n",
      "<class 'numpy.ndarray'>\n",
      "(120, 160, 3)\n"
     ]
    },
    {
     "name": "stderr",
     "output_type": "stream",
     "text": [
      "OpenCV: FFMPEG: tag 0x44495658/'XVID' is not supported with codec id 12 and format 'mp4 / MP4 (MPEG-4 Part 14)'\n",
      "OpenCV: FFMPEG: fallback to use tag 0x7634706d/'mp4v'\n",
      "OpenCV: FFMPEG: tag 0x44495658/'XVID' is not supported with codec id 12 and format 'mp4 / MP4 (MPEG-4 Part 14)'\n",
      "OpenCV: FFMPEG: fallback to use tag 0x7634706d/'mp4v'\n"
     ]
    },
    {
     "name": "stdout",
     "output_type": "stream",
     "text": [
      "비디오 저장 완료: UCF_Crimes_10crop/Videos/Testing_Normal_Videos_Anomaly/Normal_Videos_880_x264__2.mp4\n",
      "비디오 저장 완료: UCF_Crimes_10crop/Videos/Testing_Normal_Videos_Anomaly/Normal_Videos_880_x264__7.mp4\n",
      "<class 'list'>\n",
      "<class 'numpy.ndarray'>\n",
      "(120, 160, 3)\n"
     ]
    },
    {
     "name": "stderr",
     "output_type": "stream",
     "text": [
      "OpenCV: FFMPEG: tag 0x44495658/'XVID' is not supported with codec id 12 and format 'mp4 / MP4 (MPEG-4 Part 14)'\n",
      "OpenCV: FFMPEG: fallback to use tag 0x7634706d/'mp4v'\n",
      "OpenCV: FFMPEG: tag 0x44495658/'XVID' is not supported with codec id 12 and format 'mp4 / MP4 (MPEG-4 Part 14)'\n",
      "OpenCV: FFMPEG: fallback to use tag 0x7634706d/'mp4v'\n"
     ]
    },
    {
     "name": "stdout",
     "output_type": "stream",
     "text": [
      "비디오 저장 완료: UCF_Crimes_10crop/Videos/Testing_Normal_Videos_Anomaly/Normal_Videos_880_x264__3.mp4\n",
      "비디오 저장 완료: UCF_Crimes_10crop/Videos/Testing_Normal_Videos_Anomaly/Normal_Videos_880_x264__8.mp4\n",
      "<class 'list'>\n",
      "<class 'numpy.ndarray'>\n",
      "(120, 160, 3)\n"
     ]
    },
    {
     "name": "stderr",
     "output_type": "stream",
     "text": [
      "OpenCV: FFMPEG: tag 0x44495658/'XVID' is not supported with codec id 12 and format 'mp4 / MP4 (MPEG-4 Part 14)'\n",
      "OpenCV: FFMPEG: fallback to use tag 0x7634706d/'mp4v'\n",
      "OpenCV: FFMPEG: tag 0x44495658/'XVID' is not supported with codec id 12 and format 'mp4 / MP4 (MPEG-4 Part 14)'\n",
      "OpenCV: FFMPEG: fallback to use tag 0x7634706d/'mp4v'\n"
     ]
    },
    {
     "name": "stdout",
     "output_type": "stream",
     "text": [
      "비디오 저장 완료: UCF_Crimes_10crop/Videos/Testing_Normal_Videos_Anomaly/Normal_Videos_880_x264__4.mp4\n",
      "비디오 저장 완료: UCF_Crimes_10crop/Videos/Testing_Normal_Videos_Anomaly/Normal_Videos_880_x264__9.mp4\n",
      "320   240\n",
      "FPS: 30.0\n",
      "<class 'list'>\n",
      "<class 'numpy.ndarray'>\n",
      "(120, 160, 3)\n"
     ]
    },
    {
     "name": "stderr",
     "output_type": "stream",
     "text": [
      "OpenCV: FFMPEG: tag 0x44495658/'XVID' is not supported with codec id 12 and format 'mp4 / MP4 (MPEG-4 Part 14)'\n",
      "OpenCV: FFMPEG: fallback to use tag 0x7634706d/'mp4v'\n",
      "OpenCV: FFMPEG: tag 0x44495658/'XVID' is not supported with codec id 12 and format 'mp4 / MP4 (MPEG-4 Part 14)'\n",
      "OpenCV: FFMPEG: fallback to use tag 0x7634706d/'mp4v'\n"
     ]
    },
    {
     "name": "stdout",
     "output_type": "stream",
     "text": [
      "비디오 저장 완료: UCF_Crimes_10crop/Videos/Testing_Normal_Videos_Anomaly/Normal_Videos_879_x264__0.mp4\n",
      "비디오 저장 완료: UCF_Crimes_10crop/Videos/Testing_Normal_Videos_Anomaly/Normal_Videos_879_x264__5.mp4\n",
      "<class 'list'>\n",
      "<class 'numpy.ndarray'>\n",
      "(120, 160, 3)\n",
      "비디오 저장 완료: UCF_Crimes_10crop/Videos/Testing_Normal_Videos_Anomaly/Normal_Videos_879_x264__1.mp4\n",
      "비디오 저장 완료: UCF_Crimes_10crop/Videos/Testing_Normal_Videos_Anomaly/Normal_Videos_879_x264__6.mp4\n",
      "<class 'list'>\n",
      "<class 'numpy.ndarray'>\n",
      "(120, 160, 3)\n"
     ]
    },
    {
     "name": "stderr",
     "output_type": "stream",
     "text": [
      "OpenCV: FFMPEG: tag 0x44495658/'XVID' is not supported with codec id 12 and format 'mp4 / MP4 (MPEG-4 Part 14)'\n",
      "OpenCV: FFMPEG: fallback to use tag 0x7634706d/'mp4v'\n",
      "OpenCV: FFMPEG: tag 0x44495658/'XVID' is not supported with codec id 12 and format 'mp4 / MP4 (MPEG-4 Part 14)'\n",
      "OpenCV: FFMPEG: fallback to use tag 0x7634706d/'mp4v'\n",
      "OpenCV: FFMPEG: tag 0x44495658/'XVID' is not supported with codec id 12 and format 'mp4 / MP4 (MPEG-4 Part 14)'\n",
      "OpenCV: FFMPEG: fallback to use tag 0x7634706d/'mp4v'\n",
      "OpenCV: FFMPEG: tag 0x44495658/'XVID' is not supported with codec id 12 and format 'mp4 / MP4 (MPEG-4 Part 14)'\n",
      "OpenCV: FFMPEG: fallback to use tag 0x7634706d/'mp4v'\n"
     ]
    },
    {
     "name": "stdout",
     "output_type": "stream",
     "text": [
      "비디오 저장 완료: UCF_Crimes_10crop/Videos/Testing_Normal_Videos_Anomaly/Normal_Videos_879_x264__2.mp4\n",
      "비디오 저장 완료: UCF_Crimes_10crop/Videos/Testing_Normal_Videos_Anomaly/Normal_Videos_879_x264__7.mp4\n",
      "<class 'list'>\n",
      "<class 'numpy.ndarray'>\n",
      "(120, 160, 3)\n",
      "비디오 저장 완료: UCF_Crimes_10crop/Videos/Testing_Normal_Videos_Anomaly/Normal_Videos_879_x264__3.mp4\n",
      "비디오 저장 완료: UCF_Crimes_10crop/Videos/Testing_Normal_Videos_Anomaly/Normal_Videos_879_x264__8.mp4\n",
      "<class 'list'>\n",
      "<class 'numpy.ndarray'>\n",
      "(120, 160, 3)\n"
     ]
    },
    {
     "name": "stderr",
     "output_type": "stream",
     "text": [
      "OpenCV: FFMPEG: tag 0x44495658/'XVID' is not supported with codec id 12 and format 'mp4 / MP4 (MPEG-4 Part 14)'\n",
      "OpenCV: FFMPEG: fallback to use tag 0x7634706d/'mp4v'\n",
      "OpenCV: FFMPEG: tag 0x44495658/'XVID' is not supported with codec id 12 and format 'mp4 / MP4 (MPEG-4 Part 14)'\n",
      "OpenCV: FFMPEG: fallback to use tag 0x7634706d/'mp4v'\n",
      "OpenCV: FFMPEG: tag 0x44495658/'XVID' is not supported with codec id 12 and format 'mp4 / MP4 (MPEG-4 Part 14)'\n",
      "OpenCV: FFMPEG: fallback to use tag 0x7634706d/'mp4v'\n",
      "OpenCV: FFMPEG: tag 0x44495658/'XVID' is not supported with codec id 12 and format 'mp4 / MP4 (MPEG-4 Part 14)'\n",
      "OpenCV: FFMPEG: fallback to use tag 0x7634706d/'mp4v'\n"
     ]
    },
    {
     "name": "stdout",
     "output_type": "stream",
     "text": [
      "비디오 저장 완료: UCF_Crimes_10crop/Videos/Testing_Normal_Videos_Anomaly/Normal_Videos_879_x264__4.mp4\n",
      "비디오 저장 완료: UCF_Crimes_10crop/Videos/Testing_Normal_Videos_Anomaly/Normal_Videos_879_x264__9.mp4\n",
      "320   240\n",
      "FPS: 30.0\n",
      "<class 'list'>\n",
      "<class 'numpy.ndarray'>\n",
      "(120, 160, 3)\n"
     ]
    },
    {
     "name": "stderr",
     "output_type": "stream",
     "text": [
      "OpenCV: FFMPEG: tag 0x44495658/'XVID' is not supported with codec id 12 and format 'mp4 / MP4 (MPEG-4 Part 14)'\n",
      "OpenCV: FFMPEG: fallback to use tag 0x7634706d/'mp4v'\n",
      "OpenCV: FFMPEG: tag 0x44495658/'XVID' is not supported with codec id 12 and format 'mp4 / MP4 (MPEG-4 Part 14)'\n",
      "OpenCV: FFMPEG: fallback to use tag 0x7634706d/'mp4v'\n"
     ]
    },
    {
     "name": "stdout",
     "output_type": "stream",
     "text": [
      "비디오 저장 완료: UCF_Crimes_10crop/Videos/Testing_Normal_Videos_Anomaly/Normal_Videos_926_x264__0.mp4\n",
      "비디오 저장 완료: UCF_Crimes_10crop/Videos/Testing_Normal_Videos_Anomaly/Normal_Videos_926_x264__5.mp4\n",
      "<class 'list'>\n",
      "<class 'numpy.ndarray'>\n",
      "(120, 160, 3)\n"
     ]
    },
    {
     "name": "stderr",
     "output_type": "stream",
     "text": [
      "OpenCV: FFMPEG: tag 0x44495658/'XVID' is not supported with codec id 12 and format 'mp4 / MP4 (MPEG-4 Part 14)'\n",
      "OpenCV: FFMPEG: fallback to use tag 0x7634706d/'mp4v'\n",
      "OpenCV: FFMPEG: tag 0x44495658/'XVID' is not supported with codec id 12 and format 'mp4 / MP4 (MPEG-4 Part 14)'\n",
      "OpenCV: FFMPEG: fallback to use tag 0x7634706d/'mp4v'\n"
     ]
    },
    {
     "name": "stdout",
     "output_type": "stream",
     "text": [
      "비디오 저장 완료: UCF_Crimes_10crop/Videos/Testing_Normal_Videos_Anomaly/Normal_Videos_926_x264__1.mp4\n",
      "비디오 저장 완료: UCF_Crimes_10crop/Videos/Testing_Normal_Videos_Anomaly/Normal_Videos_926_x264__6.mp4\n",
      "<class 'list'>\n",
      "<class 'numpy.ndarray'>\n",
      "(120, 160, 3)\n"
     ]
    },
    {
     "name": "stderr",
     "output_type": "stream",
     "text": [
      "OpenCV: FFMPEG: tag 0x44495658/'XVID' is not supported with codec id 12 and format 'mp4 / MP4 (MPEG-4 Part 14)'\n",
      "OpenCV: FFMPEG: fallback to use tag 0x7634706d/'mp4v'\n",
      "OpenCV: FFMPEG: tag 0x44495658/'XVID' is not supported with codec id 12 and format 'mp4 / MP4 (MPEG-4 Part 14)'\n",
      "OpenCV: FFMPEG: fallback to use tag 0x7634706d/'mp4v'\n"
     ]
    },
    {
     "name": "stdout",
     "output_type": "stream",
     "text": [
      "비디오 저장 완료: UCF_Crimes_10crop/Videos/Testing_Normal_Videos_Anomaly/Normal_Videos_926_x264__2.mp4\n",
      "비디오 저장 완료: UCF_Crimes_10crop/Videos/Testing_Normal_Videos_Anomaly/Normal_Videos_926_x264__7.mp4\n",
      "<class 'list'>\n",
      "<class 'numpy.ndarray'>\n",
      "(120, 160, 3)\n"
     ]
    },
    {
     "name": "stderr",
     "output_type": "stream",
     "text": [
      "OpenCV: FFMPEG: tag 0x44495658/'XVID' is not supported with codec id 12 and format 'mp4 / MP4 (MPEG-4 Part 14)'\n",
      "OpenCV: FFMPEG: fallback to use tag 0x7634706d/'mp4v'\n",
      "OpenCV: FFMPEG: tag 0x44495658/'XVID' is not supported with codec id 12 and format 'mp4 / MP4 (MPEG-4 Part 14)'\n",
      "OpenCV: FFMPEG: fallback to use tag 0x7634706d/'mp4v'\n"
     ]
    },
    {
     "name": "stdout",
     "output_type": "stream",
     "text": [
      "비디오 저장 완료: UCF_Crimes_10crop/Videos/Testing_Normal_Videos_Anomaly/Normal_Videos_926_x264__3.mp4\n",
      "비디오 저장 완료: UCF_Crimes_10crop/Videos/Testing_Normal_Videos_Anomaly/Normal_Videos_926_x264__8.mp4\n",
      "<class 'list'>\n",
      "<class 'numpy.ndarray'>\n",
      "(120, 160, 3)\n"
     ]
    },
    {
     "name": "stderr",
     "output_type": "stream",
     "text": [
      "OpenCV: FFMPEG: tag 0x44495658/'XVID' is not supported with codec id 12 and format 'mp4 / MP4 (MPEG-4 Part 14)'\n",
      "OpenCV: FFMPEG: fallback to use tag 0x7634706d/'mp4v'\n",
      "OpenCV: FFMPEG: tag 0x44495658/'XVID' is not supported with codec id 12 and format 'mp4 / MP4 (MPEG-4 Part 14)'\n",
      "OpenCV: FFMPEG: fallback to use tag 0x7634706d/'mp4v'\n"
     ]
    },
    {
     "name": "stdout",
     "output_type": "stream",
     "text": [
      "비디오 저장 완료: UCF_Crimes_10crop/Videos/Testing_Normal_Videos_Anomaly/Normal_Videos_926_x264__4.mp4\n",
      "비디오 저장 완료: UCF_Crimes_10crop/Videos/Testing_Normal_Videos_Anomaly/Normal_Videos_926_x264__9.mp4\n",
      "320   240\n",
      "FPS: 30.0\n",
      "<class 'list'>\n",
      "<class 'numpy.ndarray'>\n",
      "(120, 160, 3)\n"
     ]
    },
    {
     "name": "stderr",
     "output_type": "stream",
     "text": [
      "OpenCV: FFMPEG: tag 0x44495658/'XVID' is not supported with codec id 12 and format 'mp4 / MP4 (MPEG-4 Part 14)'\n",
      "OpenCV: FFMPEG: fallback to use tag 0x7634706d/'mp4v'\n",
      "OpenCV: FFMPEG: tag 0x44495658/'XVID' is not supported with codec id 12 and format 'mp4 / MP4 (MPEG-4 Part 14)'\n",
      "OpenCV: FFMPEG: fallback to use tag 0x7634706d/'mp4v'\n"
     ]
    },
    {
     "name": "stdout",
     "output_type": "stream",
     "text": [
      "비디오 저장 완료: UCF_Crimes_10crop/Videos/Testing_Normal_Videos_Anomaly/Normal_Videos_478_x264__0.mp4\n",
      "비디오 저장 완료: UCF_Crimes_10crop/Videos/Testing_Normal_Videos_Anomaly/Normal_Videos_478_x264__5.mp4\n",
      "<class 'list'>\n",
      "<class 'numpy.ndarray'>\n",
      "(120, 160, 3)\n"
     ]
    },
    {
     "name": "stderr",
     "output_type": "stream",
     "text": [
      "OpenCV: FFMPEG: tag 0x44495658/'XVID' is not supported with codec id 12 and format 'mp4 / MP4 (MPEG-4 Part 14)'\n",
      "OpenCV: FFMPEG: fallback to use tag 0x7634706d/'mp4v'\n",
      "OpenCV: FFMPEG: tag 0x44495658/'XVID' is not supported with codec id 12 and format 'mp4 / MP4 (MPEG-4 Part 14)'\n",
      "OpenCV: FFMPEG: fallback to use tag 0x7634706d/'mp4v'\n"
     ]
    },
    {
     "name": "stdout",
     "output_type": "stream",
     "text": [
      "비디오 저장 완료: UCF_Crimes_10crop/Videos/Testing_Normal_Videos_Anomaly/Normal_Videos_478_x264__1.mp4\n",
      "비디오 저장 완료: UCF_Crimes_10crop/Videos/Testing_Normal_Videos_Anomaly/Normal_Videos_478_x264__6.mp4\n",
      "<class 'list'>\n",
      "<class 'numpy.ndarray'>\n",
      "(120, 160, 3)\n"
     ]
    },
    {
     "name": "stderr",
     "output_type": "stream",
     "text": [
      "OpenCV: FFMPEG: tag 0x44495658/'XVID' is not supported with codec id 12 and format 'mp4 / MP4 (MPEG-4 Part 14)'\n",
      "OpenCV: FFMPEG: fallback to use tag 0x7634706d/'mp4v'\n",
      "OpenCV: FFMPEG: tag 0x44495658/'XVID' is not supported with codec id 12 and format 'mp4 / MP4 (MPEG-4 Part 14)'\n",
      "OpenCV: FFMPEG: fallback to use tag 0x7634706d/'mp4v'\n"
     ]
    },
    {
     "name": "stdout",
     "output_type": "stream",
     "text": [
      "비디오 저장 완료: UCF_Crimes_10crop/Videos/Testing_Normal_Videos_Anomaly/Normal_Videos_478_x264__2.mp4\n",
      "비디오 저장 완료: UCF_Crimes_10crop/Videos/Testing_Normal_Videos_Anomaly/Normal_Videos_478_x264__7.mp4\n",
      "<class 'list'>\n",
      "<class 'numpy.ndarray'>\n",
      "(120, 160, 3)\n"
     ]
    },
    {
     "name": "stderr",
     "output_type": "stream",
     "text": [
      "OpenCV: FFMPEG: tag 0x44495658/'XVID' is not supported with codec id 12 and format 'mp4 / MP4 (MPEG-4 Part 14)'\n",
      "OpenCV: FFMPEG: fallback to use tag 0x7634706d/'mp4v'\n",
      "OpenCV: FFMPEG: tag 0x44495658/'XVID' is not supported with codec id 12 and format 'mp4 / MP4 (MPEG-4 Part 14)'\n",
      "OpenCV: FFMPEG: fallback to use tag 0x7634706d/'mp4v'\n"
     ]
    },
    {
     "name": "stdout",
     "output_type": "stream",
     "text": [
      "비디오 저장 완료: UCF_Crimes_10crop/Videos/Testing_Normal_Videos_Anomaly/Normal_Videos_478_x264__3.mp4\n",
      "비디오 저장 완료: UCF_Crimes_10crop/Videos/Testing_Normal_Videos_Anomaly/Normal_Videos_478_x264__8.mp4\n",
      "<class 'list'>\n",
      "<class 'numpy.ndarray'>\n",
      "(120, 160, 3)\n"
     ]
    },
    {
     "name": "stderr",
     "output_type": "stream",
     "text": [
      "OpenCV: FFMPEG: tag 0x44495658/'XVID' is not supported with codec id 12 and format 'mp4 / MP4 (MPEG-4 Part 14)'\n",
      "OpenCV: FFMPEG: fallback to use tag 0x7634706d/'mp4v'\n",
      "OpenCV: FFMPEG: tag 0x44495658/'XVID' is not supported with codec id 12 and format 'mp4 / MP4 (MPEG-4 Part 14)'\n",
      "OpenCV: FFMPEG: fallback to use tag 0x7634706d/'mp4v'\n"
     ]
    },
    {
     "name": "stdout",
     "output_type": "stream",
     "text": [
      "비디오 저장 완료: UCF_Crimes_10crop/Videos/Testing_Normal_Videos_Anomaly/Normal_Videos_478_x264__4.mp4\n",
      "비디오 저장 완료: UCF_Crimes_10crop/Videos/Testing_Normal_Videos_Anomaly/Normal_Videos_478_x264__9.mp4\n",
      "320   240\n",
      "FPS: 30.0\n",
      "<class 'list'>\n",
      "<class 'numpy.ndarray'>\n",
      "(120, 160, 3)\n"
     ]
    },
    {
     "name": "stderr",
     "output_type": "stream",
     "text": [
      "OpenCV: FFMPEG: tag 0x44495658/'XVID' is not supported with codec id 12 and format 'mp4 / MP4 (MPEG-4 Part 14)'\n",
      "OpenCV: FFMPEG: fallback to use tag 0x7634706d/'mp4v'\n",
      "OpenCV: FFMPEG: tag 0x44495658/'XVID' is not supported with codec id 12 and format 'mp4 / MP4 (MPEG-4 Part 14)'\n",
      "OpenCV: FFMPEG: fallback to use tag 0x7634706d/'mp4v'\n"
     ]
    },
    {
     "name": "stdout",
     "output_type": "stream",
     "text": [
      "비디오 저장 완료: UCF_Crimes_10crop/Videos/Testing_Normal_Videos_Anomaly/Normal_Videos_224_x264__0.mp4\n",
      "비디오 저장 완료: UCF_Crimes_10crop/Videos/Testing_Normal_Videos_Anomaly/Normal_Videos_224_x264__5.mp4\n",
      "<class 'list'>\n",
      "<class 'numpy.ndarray'>\n",
      "(120, 160, 3)\n"
     ]
    },
    {
     "name": "stderr",
     "output_type": "stream",
     "text": [
      "OpenCV: FFMPEG: tag 0x44495658/'XVID' is not supported with codec id 12 and format 'mp4 / MP4 (MPEG-4 Part 14)'\n",
      "OpenCV: FFMPEG: fallback to use tag 0x7634706d/'mp4v'\n",
      "OpenCV: FFMPEG: tag 0x44495658/'XVID' is not supported with codec id 12 and format 'mp4 / MP4 (MPEG-4 Part 14)'\n",
      "OpenCV: FFMPEG: fallback to use tag 0x7634706d/'mp4v'\n"
     ]
    },
    {
     "name": "stdout",
     "output_type": "stream",
     "text": [
      "비디오 저장 완료: UCF_Crimes_10crop/Videos/Testing_Normal_Videos_Anomaly/Normal_Videos_224_x264__1.mp4\n",
      "비디오 저장 완료: UCF_Crimes_10crop/Videos/Testing_Normal_Videos_Anomaly/Normal_Videos_224_x264__6.mp4\n",
      "<class 'list'>\n",
      "<class 'numpy.ndarray'>\n",
      "(120, 160, 3)\n"
     ]
    },
    {
     "name": "stderr",
     "output_type": "stream",
     "text": [
      "OpenCV: FFMPEG: tag 0x44495658/'XVID' is not supported with codec id 12 and format 'mp4 / MP4 (MPEG-4 Part 14)'\n",
      "OpenCV: FFMPEG: fallback to use tag 0x7634706d/'mp4v'\n",
      "OpenCV: FFMPEG: tag 0x44495658/'XVID' is not supported with codec id 12 and format 'mp4 / MP4 (MPEG-4 Part 14)'\n",
      "OpenCV: FFMPEG: fallback to use tag 0x7634706d/'mp4v'\n"
     ]
    },
    {
     "name": "stdout",
     "output_type": "stream",
     "text": [
      "비디오 저장 완료: UCF_Crimes_10crop/Videos/Testing_Normal_Videos_Anomaly/Normal_Videos_224_x264__2.mp4\n",
      "비디오 저장 완료: UCF_Crimes_10crop/Videos/Testing_Normal_Videos_Anomaly/Normal_Videos_224_x264__7.mp4\n",
      "<class 'list'>\n",
      "<class 'numpy.ndarray'>\n",
      "(120, 160, 3)\n"
     ]
    },
    {
     "name": "stderr",
     "output_type": "stream",
     "text": [
      "OpenCV: FFMPEG: tag 0x44495658/'XVID' is not supported with codec id 12 and format 'mp4 / MP4 (MPEG-4 Part 14)'\n",
      "OpenCV: FFMPEG: fallback to use tag 0x7634706d/'mp4v'\n",
      "OpenCV: FFMPEG: tag 0x44495658/'XVID' is not supported with codec id 12 and format 'mp4 / MP4 (MPEG-4 Part 14)'\n",
      "OpenCV: FFMPEG: fallback to use tag 0x7634706d/'mp4v'\n"
     ]
    },
    {
     "name": "stdout",
     "output_type": "stream",
     "text": [
      "비디오 저장 완료: UCF_Crimes_10crop/Videos/Testing_Normal_Videos_Anomaly/Normal_Videos_224_x264__3.mp4\n",
      "비디오 저장 완료: UCF_Crimes_10crop/Videos/Testing_Normal_Videos_Anomaly/Normal_Videos_224_x264__8.mp4\n",
      "<class 'list'>\n",
      "<class 'numpy.ndarray'>\n",
      "(120, 160, 3)\n"
     ]
    },
    {
     "name": "stderr",
     "output_type": "stream",
     "text": [
      "OpenCV: FFMPEG: tag 0x44495658/'XVID' is not supported with codec id 12 and format 'mp4 / MP4 (MPEG-4 Part 14)'\n",
      "OpenCV: FFMPEG: fallback to use tag 0x7634706d/'mp4v'\n",
      "OpenCV: FFMPEG: tag 0x44495658/'XVID' is not supported with codec id 12 and format 'mp4 / MP4 (MPEG-4 Part 14)'\n",
      "OpenCV: FFMPEG: fallback to use tag 0x7634706d/'mp4v'\n"
     ]
    },
    {
     "name": "stdout",
     "output_type": "stream",
     "text": [
      "비디오 저장 완료: UCF_Crimes_10crop/Videos/Testing_Normal_Videos_Anomaly/Normal_Videos_224_x264__4.mp4\n",
      "비디오 저장 완료: UCF_Crimes_10crop/Videos/Testing_Normal_Videos_Anomaly/Normal_Videos_224_x264__9.mp4\n",
      "320   240\n",
      "FPS: 30.0\n",
      "<class 'list'>\n",
      "<class 'numpy.ndarray'>\n",
      "(120, 160, 3)\n"
     ]
    },
    {
     "name": "stderr",
     "output_type": "stream",
     "text": [
      "OpenCV: FFMPEG: tag 0x44495658/'XVID' is not supported with codec id 12 and format 'mp4 / MP4 (MPEG-4 Part 14)'\n",
      "OpenCV: FFMPEG: fallback to use tag 0x7634706d/'mp4v'\n",
      "OpenCV: FFMPEG: tag 0x44495658/'XVID' is not supported with codec id 12 and format 'mp4 / MP4 (MPEG-4 Part 14)'\n",
      "OpenCV: FFMPEG: fallback to use tag 0x7634706d/'mp4v'\n"
     ]
    },
    {
     "name": "stdout",
     "output_type": "stream",
     "text": [
      "비디오 저장 완료: UCF_Crimes_10crop/Videos/Testing_Normal_Videos_Anomaly/Normal_Videos_024_x264__0.mp4\n",
      "비디오 저장 완료: UCF_Crimes_10crop/Videos/Testing_Normal_Videos_Anomaly/Normal_Videos_024_x264__5.mp4\n",
      "<class 'list'>\n",
      "<class 'numpy.ndarray'>\n",
      "(120, 160, 3)\n",
      "비디오 저장 완료: UCF_Crimes_10crop/Videos/Testing_Normal_Videos_Anomaly/Normal_Videos_024_x264__1.mp4\n",
      "비디오 저장 완료: UCF_Crimes_10crop/Videos/Testing_Normal_Videos_Anomaly/Normal_Videos_024_x264__6.mp4\n",
      "<class 'list'>\n",
      "<class 'numpy.ndarray'>\n",
      "(120, 160, 3)\n"
     ]
    },
    {
     "name": "stderr",
     "output_type": "stream",
     "text": [
      "OpenCV: FFMPEG: tag 0x44495658/'XVID' is not supported with codec id 12 and format 'mp4 / MP4 (MPEG-4 Part 14)'\n",
      "OpenCV: FFMPEG: fallback to use tag 0x7634706d/'mp4v'\n",
      "OpenCV: FFMPEG: tag 0x44495658/'XVID' is not supported with codec id 12 and format 'mp4 / MP4 (MPEG-4 Part 14)'\n",
      "OpenCV: FFMPEG: fallback to use tag 0x7634706d/'mp4v'\n",
      "OpenCV: FFMPEG: tag 0x44495658/'XVID' is not supported with codec id 12 and format 'mp4 / MP4 (MPEG-4 Part 14)'\n",
      "OpenCV: FFMPEG: fallback to use tag 0x7634706d/'mp4v'\n",
      "OpenCV: FFMPEG: tag 0x44495658/'XVID' is not supported with codec id 12 and format 'mp4 / MP4 (MPEG-4 Part 14)'\n",
      "OpenCV: FFMPEG: fallback to use tag 0x7634706d/'mp4v'\n"
     ]
    },
    {
     "name": "stdout",
     "output_type": "stream",
     "text": [
      "비디오 저장 완료: UCF_Crimes_10crop/Videos/Testing_Normal_Videos_Anomaly/Normal_Videos_024_x264__2.mp4\n",
      "비디오 저장 완료: UCF_Crimes_10crop/Videos/Testing_Normal_Videos_Anomaly/Normal_Videos_024_x264__7.mp4\n",
      "<class 'list'>\n",
      "<class 'numpy.ndarray'>\n",
      "(120, 160, 3)\n",
      "비디오 저장 완료: UCF_Crimes_10crop/Videos/Testing_Normal_Videos_Anomaly/Normal_Videos_024_x264__3.mp4\n",
      "비디오 저장 완료: UCF_Crimes_10crop/Videos/Testing_Normal_Videos_Anomaly/Normal_Videos_024_x264__8.mp4\n",
      "<class 'list'>\n",
      "<class 'numpy.ndarray'>\n",
      "(120, 160, 3)\n"
     ]
    },
    {
     "name": "stderr",
     "output_type": "stream",
     "text": [
      "OpenCV: FFMPEG: tag 0x44495658/'XVID' is not supported with codec id 12 and format 'mp4 / MP4 (MPEG-4 Part 14)'\n",
      "OpenCV: FFMPEG: fallback to use tag 0x7634706d/'mp4v'\n",
      "OpenCV: FFMPEG: tag 0x44495658/'XVID' is not supported with codec id 12 and format 'mp4 / MP4 (MPEG-4 Part 14)'\n",
      "OpenCV: FFMPEG: fallback to use tag 0x7634706d/'mp4v'\n",
      "OpenCV: FFMPEG: tag 0x44495658/'XVID' is not supported with codec id 12 and format 'mp4 / MP4 (MPEG-4 Part 14)'\n",
      "OpenCV: FFMPEG: fallback to use tag 0x7634706d/'mp4v'\n",
      "OpenCV: FFMPEG: tag 0x44495658/'XVID' is not supported with codec id 12 and format 'mp4 / MP4 (MPEG-4 Part 14)'\n",
      "OpenCV: FFMPEG: fallback to use tag 0x7634706d/'mp4v'\n"
     ]
    },
    {
     "name": "stdout",
     "output_type": "stream",
     "text": [
      "비디오 저장 완료: UCF_Crimes_10crop/Videos/Testing_Normal_Videos_Anomaly/Normal_Videos_024_x264__4.mp4\n",
      "비디오 저장 완료: UCF_Crimes_10crop/Videos/Testing_Normal_Videos_Anomaly/Normal_Videos_024_x264__9.mp4\n",
      "320   240\n",
      "FPS: 30.0\n",
      "<class 'list'>\n",
      "<class 'numpy.ndarray'>\n",
      "(120, 160, 3)\n"
     ]
    },
    {
     "name": "stderr",
     "output_type": "stream",
     "text": [
      "OpenCV: FFMPEG: tag 0x44495658/'XVID' is not supported with codec id 12 and format 'mp4 / MP4 (MPEG-4 Part 14)'\n",
      "OpenCV: FFMPEG: fallback to use tag 0x7634706d/'mp4v'\n",
      "OpenCV: FFMPEG: tag 0x44495658/'XVID' is not supported with codec id 12 and format 'mp4 / MP4 (MPEG-4 Part 14)'\n",
      "OpenCV: FFMPEG: fallback to use tag 0x7634706d/'mp4v'\n"
     ]
    },
    {
     "name": "stdout",
     "output_type": "stream",
     "text": [
      "비디오 저장 완료: UCF_Crimes_10crop/Videos/Testing_Normal_Videos_Anomaly/Normal_Videos_874_x264__0.mp4\n",
      "비디오 저장 완료: UCF_Crimes_10crop/Videos/Testing_Normal_Videos_Anomaly/Normal_Videos_874_x264__5.mp4\n",
      "<class 'list'>\n",
      "<class 'numpy.ndarray'>\n",
      "(120, 160, 3)\n"
     ]
    },
    {
     "name": "stderr",
     "output_type": "stream",
     "text": [
      "OpenCV: FFMPEG: tag 0x44495658/'XVID' is not supported with codec id 12 and format 'mp4 / MP4 (MPEG-4 Part 14)'\n",
      "OpenCV: FFMPEG: fallback to use tag 0x7634706d/'mp4v'\n",
      "OpenCV: FFMPEG: tag 0x44495658/'XVID' is not supported with codec id 12 and format 'mp4 / MP4 (MPEG-4 Part 14)'\n",
      "OpenCV: FFMPEG: fallback to use tag 0x7634706d/'mp4v'\n"
     ]
    },
    {
     "name": "stdout",
     "output_type": "stream",
     "text": [
      "비디오 저장 완료: UCF_Crimes_10crop/Videos/Testing_Normal_Videos_Anomaly/Normal_Videos_874_x264__1.mp4\n",
      "비디오 저장 완료: UCF_Crimes_10crop/Videos/Testing_Normal_Videos_Anomaly/Normal_Videos_874_x264__6.mp4\n",
      "<class 'list'>\n",
      "<class 'numpy.ndarray'>\n",
      "(120, 160, 3)\n"
     ]
    },
    {
     "name": "stderr",
     "output_type": "stream",
     "text": [
      "OpenCV: FFMPEG: tag 0x44495658/'XVID' is not supported with codec id 12 and format 'mp4 / MP4 (MPEG-4 Part 14)'\n",
      "OpenCV: FFMPEG: fallback to use tag 0x7634706d/'mp4v'\n",
      "OpenCV: FFMPEG: tag 0x44495658/'XVID' is not supported with codec id 12 and format 'mp4 / MP4 (MPEG-4 Part 14)'\n",
      "OpenCV: FFMPEG: fallback to use tag 0x7634706d/'mp4v'\n"
     ]
    },
    {
     "name": "stdout",
     "output_type": "stream",
     "text": [
      "비디오 저장 완료: UCF_Crimes_10crop/Videos/Testing_Normal_Videos_Anomaly/Normal_Videos_874_x264__2.mp4\n",
      "비디오 저장 완료: UCF_Crimes_10crop/Videos/Testing_Normal_Videos_Anomaly/Normal_Videos_874_x264__7.mp4\n",
      "<class 'list'>\n",
      "<class 'numpy.ndarray'>\n",
      "(120, 160, 3)\n"
     ]
    },
    {
     "name": "stderr",
     "output_type": "stream",
     "text": [
      "OpenCV: FFMPEG: tag 0x44495658/'XVID' is not supported with codec id 12 and format 'mp4 / MP4 (MPEG-4 Part 14)'\n",
      "OpenCV: FFMPEG: fallback to use tag 0x7634706d/'mp4v'\n",
      "OpenCV: FFMPEG: tag 0x44495658/'XVID' is not supported with codec id 12 and format 'mp4 / MP4 (MPEG-4 Part 14)'\n",
      "OpenCV: FFMPEG: fallback to use tag 0x7634706d/'mp4v'\n"
     ]
    },
    {
     "name": "stdout",
     "output_type": "stream",
     "text": [
      "비디오 저장 완료: UCF_Crimes_10crop/Videos/Testing_Normal_Videos_Anomaly/Normal_Videos_874_x264__3.mp4\n",
      "비디오 저장 완료: UCF_Crimes_10crop/Videos/Testing_Normal_Videos_Anomaly/Normal_Videos_874_x264__8.mp4\n",
      "<class 'list'>\n",
      "<class 'numpy.ndarray'>\n",
      "(120, 160, 3)\n"
     ]
    },
    {
     "name": "stderr",
     "output_type": "stream",
     "text": [
      "OpenCV: FFMPEG: tag 0x44495658/'XVID' is not supported with codec id 12 and format 'mp4 / MP4 (MPEG-4 Part 14)'\n",
      "OpenCV: FFMPEG: fallback to use tag 0x7634706d/'mp4v'\n",
      "OpenCV: FFMPEG: tag 0x44495658/'XVID' is not supported with codec id 12 and format 'mp4 / MP4 (MPEG-4 Part 14)'\n",
      "OpenCV: FFMPEG: fallback to use tag 0x7634706d/'mp4v'\n"
     ]
    },
    {
     "name": "stdout",
     "output_type": "stream",
     "text": [
      "비디오 저장 완료: UCF_Crimes_10crop/Videos/Testing_Normal_Videos_Anomaly/Normal_Videos_874_x264__4.mp4\n",
      "비디오 저장 완료: UCF_Crimes_10crop/Videos/Testing_Normal_Videos_Anomaly/Normal_Videos_874_x264__9.mp4\n",
      "320   240\n",
      "FPS: 30.0\n",
      "<class 'list'>\n",
      "<class 'numpy.ndarray'>\n",
      "(120, 160, 3)\n"
     ]
    },
    {
     "name": "stderr",
     "output_type": "stream",
     "text": [
      "OpenCV: FFMPEG: tag 0x44495658/'XVID' is not supported with codec id 12 and format 'mp4 / MP4 (MPEG-4 Part 14)'\n",
      "OpenCV: FFMPEG: fallback to use tag 0x7634706d/'mp4v'\n",
      "OpenCV: FFMPEG: tag 0x44495658/'XVID' is not supported with codec id 12 and format 'mp4 / MP4 (MPEG-4 Part 14)'\n",
      "OpenCV: FFMPEG: fallback to use tag 0x7634706d/'mp4v'\n"
     ]
    },
    {
     "name": "stdout",
     "output_type": "stream",
     "text": [
      "비디오 저장 완료: UCF_Crimes_10crop/Videos/Testing_Normal_Videos_Anomaly/Normal_Videos_576_x264__0.mp4\n",
      "비디오 저장 완료: UCF_Crimes_10crop/Videos/Testing_Normal_Videos_Anomaly/Normal_Videos_576_x264__5.mp4\n",
      "<class 'list'>\n",
      "<class 'numpy.ndarray'>\n",
      "(120, 160, 3)\n"
     ]
    },
    {
     "name": "stderr",
     "output_type": "stream",
     "text": [
      "OpenCV: FFMPEG: tag 0x44495658/'XVID' is not supported with codec id 12 and format 'mp4 / MP4 (MPEG-4 Part 14)'\n",
      "OpenCV: FFMPEG: fallback to use tag 0x7634706d/'mp4v'\n",
      "OpenCV: FFMPEG: tag 0x44495658/'XVID' is not supported with codec id 12 and format 'mp4 / MP4 (MPEG-4 Part 14)'\n",
      "OpenCV: FFMPEG: fallback to use tag 0x7634706d/'mp4v'\n"
     ]
    },
    {
     "name": "stdout",
     "output_type": "stream",
     "text": [
      "비디오 저장 완료: UCF_Crimes_10crop/Videos/Testing_Normal_Videos_Anomaly/Normal_Videos_576_x264__1.mp4\n",
      "비디오 저장 완료: UCF_Crimes_10crop/Videos/Testing_Normal_Videos_Anomaly/Normal_Videos_576_x264__6.mp4\n",
      "<class 'list'>\n",
      "<class 'numpy.ndarray'>\n",
      "(120, 160, 3)\n"
     ]
    },
    {
     "name": "stderr",
     "output_type": "stream",
     "text": [
      "OpenCV: FFMPEG: tag 0x44495658/'XVID' is not supported with codec id 12 and format 'mp4 / MP4 (MPEG-4 Part 14)'\n",
      "OpenCV: FFMPEG: fallback to use tag 0x7634706d/'mp4v'\n",
      "OpenCV: FFMPEG: tag 0x44495658/'XVID' is not supported with codec id 12 and format 'mp4 / MP4 (MPEG-4 Part 14)'\n",
      "OpenCV: FFMPEG: fallback to use tag 0x7634706d/'mp4v'\n"
     ]
    },
    {
     "name": "stdout",
     "output_type": "stream",
     "text": [
      "비디오 저장 완료: UCF_Crimes_10crop/Videos/Testing_Normal_Videos_Anomaly/Normal_Videos_576_x264__2.mp4\n",
      "비디오 저장 완료: UCF_Crimes_10crop/Videos/Testing_Normal_Videos_Anomaly/Normal_Videos_576_x264__7.mp4\n",
      "<class 'list'>\n",
      "<class 'numpy.ndarray'>\n",
      "(120, 160, 3)\n"
     ]
    },
    {
     "name": "stderr",
     "output_type": "stream",
     "text": [
      "OpenCV: FFMPEG: tag 0x44495658/'XVID' is not supported with codec id 12 and format 'mp4 / MP4 (MPEG-4 Part 14)'\n",
      "OpenCV: FFMPEG: fallback to use tag 0x7634706d/'mp4v'\n",
      "OpenCV: FFMPEG: tag 0x44495658/'XVID' is not supported with codec id 12 and format 'mp4 / MP4 (MPEG-4 Part 14)'\n",
      "OpenCV: FFMPEG: fallback to use tag 0x7634706d/'mp4v'\n"
     ]
    },
    {
     "name": "stdout",
     "output_type": "stream",
     "text": [
      "비디오 저장 완료: UCF_Crimes_10crop/Videos/Testing_Normal_Videos_Anomaly/Normal_Videos_576_x264__3.mp4\n",
      "비디오 저장 완료: UCF_Crimes_10crop/Videos/Testing_Normal_Videos_Anomaly/Normal_Videos_576_x264__8.mp4\n",
      "<class 'list'>\n",
      "<class 'numpy.ndarray'>\n",
      "(120, 160, 3)\n"
     ]
    },
    {
     "name": "stderr",
     "output_type": "stream",
     "text": [
      "OpenCV: FFMPEG: tag 0x44495658/'XVID' is not supported with codec id 12 and format 'mp4 / MP4 (MPEG-4 Part 14)'\n",
      "OpenCV: FFMPEG: fallback to use tag 0x7634706d/'mp4v'\n",
      "OpenCV: FFMPEG: tag 0x44495658/'XVID' is not supported with codec id 12 and format 'mp4 / MP4 (MPEG-4 Part 14)'\n",
      "OpenCV: FFMPEG: fallback to use tag 0x7634706d/'mp4v'\n"
     ]
    },
    {
     "name": "stdout",
     "output_type": "stream",
     "text": [
      "비디오 저장 완료: UCF_Crimes_10crop/Videos/Testing_Normal_Videos_Anomaly/Normal_Videos_576_x264__4.mp4\n",
      "비디오 저장 완료: UCF_Crimes_10crop/Videos/Testing_Normal_Videos_Anomaly/Normal_Videos_576_x264__9.mp4\n",
      "320   240\n",
      "FPS: 30.0\n",
      "<class 'list'>\n",
      "<class 'numpy.ndarray'>\n",
      "(120, 160, 3)\n",
      "비디오 저장 완료: UCF_Crimes_10crop/Videos/Testing_Normal_Videos_Anomaly/Normal_Videos_025_x264__0.mp4\n",
      "비디오 저장 완료: UCF_Crimes_10crop/Videos/Testing_Normal_Videos_Anomaly/Normal_Videos_025_x264__5.mp4\n",
      "<class 'list'>\n",
      "<class 'numpy.ndarray'>\n",
      "(120, 160, 3)\n"
     ]
    },
    {
     "name": "stderr",
     "output_type": "stream",
     "text": [
      "OpenCV: FFMPEG: tag 0x44495658/'XVID' is not supported with codec id 12 and format 'mp4 / MP4 (MPEG-4 Part 14)'\n",
      "OpenCV: FFMPEG: fallback to use tag 0x7634706d/'mp4v'\n",
      "OpenCV: FFMPEG: tag 0x44495658/'XVID' is not supported with codec id 12 and format 'mp4 / MP4 (MPEG-4 Part 14)'\n",
      "OpenCV: FFMPEG: fallback to use tag 0x7634706d/'mp4v'\n",
      "OpenCV: FFMPEG: tag 0x44495658/'XVID' is not supported with codec id 12 and format 'mp4 / MP4 (MPEG-4 Part 14)'\n",
      "OpenCV: FFMPEG: fallback to use tag 0x7634706d/'mp4v'\n",
      "OpenCV: FFMPEG: tag 0x44495658/'XVID' is not supported with codec id 12 and format 'mp4 / MP4 (MPEG-4 Part 14)'\n",
      "OpenCV: FFMPEG: fallback to use tag 0x7634706d/'mp4v'\n"
     ]
    },
    {
     "name": "stdout",
     "output_type": "stream",
     "text": [
      "비디오 저장 완료: UCF_Crimes_10crop/Videos/Testing_Normal_Videos_Anomaly/Normal_Videos_025_x264__1.mp4\n",
      "비디오 저장 완료: UCF_Crimes_10crop/Videos/Testing_Normal_Videos_Anomaly/Normal_Videos_025_x264__6.mp4\n",
      "<class 'list'>\n",
      "<class 'numpy.ndarray'>\n",
      "(120, 160, 3)\n",
      "비디오 저장 완료: UCF_Crimes_10crop/Videos/Testing_Normal_Videos_Anomaly/Normal_Videos_025_x264__2.mp4\n",
      "비디오 저장 완료: UCF_Crimes_10crop/Videos/Testing_Normal_Videos_Anomaly/Normal_Videos_025_x264__7.mp4\n",
      "<class 'list'>\n",
      "<class 'numpy.ndarray'>\n",
      "(120, 160, 3)\n",
      "비디오 저장 완료: UCF_Crimes_10crop/Videos/Testing_Normal_Videos_Anomaly/Normal_Videos_025_x264__3.mp4\n",
      "비디오 저장 완료: UCF_Crimes_10crop/Videos/Testing_Normal_Videos_Anomaly/Normal_Videos_025_x264__8.mp4\n",
      "<class 'list'>\n",
      "<class 'numpy.ndarray'>\n",
      "(120, 160, 3)\n"
     ]
    },
    {
     "name": "stderr",
     "output_type": "stream",
     "text": [
      "OpenCV: FFMPEG: tag 0x44495658/'XVID' is not supported with codec id 12 and format 'mp4 / MP4 (MPEG-4 Part 14)'\n",
      "OpenCV: FFMPEG: fallback to use tag 0x7634706d/'mp4v'\n",
      "OpenCV: FFMPEG: tag 0x44495658/'XVID' is not supported with codec id 12 and format 'mp4 / MP4 (MPEG-4 Part 14)'\n",
      "OpenCV: FFMPEG: fallback to use tag 0x7634706d/'mp4v'\n",
      "OpenCV: FFMPEG: tag 0x44495658/'XVID' is not supported with codec id 12 and format 'mp4 / MP4 (MPEG-4 Part 14)'\n",
      "OpenCV: FFMPEG: fallback to use tag 0x7634706d/'mp4v'\n",
      "OpenCV: FFMPEG: tag 0x44495658/'XVID' is not supported with codec id 12 and format 'mp4 / MP4 (MPEG-4 Part 14)'\n",
      "OpenCV: FFMPEG: fallback to use tag 0x7634706d/'mp4v'\n",
      "OpenCV: FFMPEG: tag 0x44495658/'XVID' is not supported with codec id 12 and format 'mp4 / MP4 (MPEG-4 Part 14)'\n",
      "OpenCV: FFMPEG: fallback to use tag 0x7634706d/'mp4v'\n",
      "OpenCV: FFMPEG: tag 0x44495658/'XVID' is not supported with codec id 12 and format 'mp4 / MP4 (MPEG-4 Part 14)'\n",
      "OpenCV: FFMPEG: fallback to use tag 0x7634706d/'mp4v'\n"
     ]
    },
    {
     "name": "stdout",
     "output_type": "stream",
     "text": [
      "비디오 저장 완료: UCF_Crimes_10crop/Videos/Testing_Normal_Videos_Anomaly/Normal_Videos_025_x264__4.mp4\n",
      "비디오 저장 완료: UCF_Crimes_10crop/Videos/Testing_Normal_Videos_Anomaly/Normal_Videos_025_x264__9.mp4\n",
      "320   240\n",
      "FPS: 30.0\n",
      "<class 'list'>\n",
      "<class 'numpy.ndarray'>\n",
      "(120, 160, 3)\n"
     ]
    },
    {
     "name": "stderr",
     "output_type": "stream",
     "text": [
      "OpenCV: FFMPEG: tag 0x44495658/'XVID' is not supported with codec id 12 and format 'mp4 / MP4 (MPEG-4 Part 14)'\n",
      "OpenCV: FFMPEG: fallback to use tag 0x7634706d/'mp4v'\n",
      "OpenCV: FFMPEG: tag 0x44495658/'XVID' is not supported with codec id 12 and format 'mp4 / MP4 (MPEG-4 Part 14)'\n",
      "OpenCV: FFMPEG: fallback to use tag 0x7634706d/'mp4v'\n"
     ]
    },
    {
     "name": "stdout",
     "output_type": "stream",
     "text": [
      "비디오 저장 완료: UCF_Crimes_10crop/Videos/Testing_Normal_Videos_Anomaly/Normal_Videos_051_x264__0.mp4\n",
      "비디오 저장 완료: UCF_Crimes_10crop/Videos/Testing_Normal_Videos_Anomaly/Normal_Videos_051_x264__5.mp4\n",
      "<class 'list'>\n",
      "<class 'numpy.ndarray'>\n",
      "(120, 160, 3)\n"
     ]
    },
    {
     "name": "stderr",
     "output_type": "stream",
     "text": [
      "OpenCV: FFMPEG: tag 0x44495658/'XVID' is not supported with codec id 12 and format 'mp4 / MP4 (MPEG-4 Part 14)'\n",
      "OpenCV: FFMPEG: fallback to use tag 0x7634706d/'mp4v'\n",
      "OpenCV: FFMPEG: tag 0x44495658/'XVID' is not supported with codec id 12 and format 'mp4 / MP4 (MPEG-4 Part 14)'\n",
      "OpenCV: FFMPEG: fallback to use tag 0x7634706d/'mp4v'\n"
     ]
    },
    {
     "name": "stdout",
     "output_type": "stream",
     "text": [
      "비디오 저장 완료: UCF_Crimes_10crop/Videos/Testing_Normal_Videos_Anomaly/Normal_Videos_051_x264__1.mp4\n",
      "비디오 저장 완료: UCF_Crimes_10crop/Videos/Testing_Normal_Videos_Anomaly/Normal_Videos_051_x264__6.mp4\n",
      "<class 'list'>\n",
      "<class 'numpy.ndarray'>\n",
      "(120, 160, 3)\n"
     ]
    },
    {
     "name": "stderr",
     "output_type": "stream",
     "text": [
      "OpenCV: FFMPEG: tag 0x44495658/'XVID' is not supported with codec id 12 and format 'mp4 / MP4 (MPEG-4 Part 14)'\n",
      "OpenCV: FFMPEG: fallback to use tag 0x7634706d/'mp4v'\n",
      "OpenCV: FFMPEG: tag 0x44495658/'XVID' is not supported with codec id 12 and format 'mp4 / MP4 (MPEG-4 Part 14)'\n",
      "OpenCV: FFMPEG: fallback to use tag 0x7634706d/'mp4v'\n"
     ]
    },
    {
     "name": "stdout",
     "output_type": "stream",
     "text": [
      "비디오 저장 완료: UCF_Crimes_10crop/Videos/Testing_Normal_Videos_Anomaly/Normal_Videos_051_x264__2.mp4\n",
      "비디오 저장 완료: UCF_Crimes_10crop/Videos/Testing_Normal_Videos_Anomaly/Normal_Videos_051_x264__7.mp4\n",
      "<class 'list'>\n",
      "<class 'numpy.ndarray'>\n",
      "(120, 160, 3)\n"
     ]
    },
    {
     "name": "stderr",
     "output_type": "stream",
     "text": [
      "OpenCV: FFMPEG: tag 0x44495658/'XVID' is not supported with codec id 12 and format 'mp4 / MP4 (MPEG-4 Part 14)'\n",
      "OpenCV: FFMPEG: fallback to use tag 0x7634706d/'mp4v'\n",
      "OpenCV: FFMPEG: tag 0x44495658/'XVID' is not supported with codec id 12 and format 'mp4 / MP4 (MPEG-4 Part 14)'\n",
      "OpenCV: FFMPEG: fallback to use tag 0x7634706d/'mp4v'\n"
     ]
    },
    {
     "name": "stdout",
     "output_type": "stream",
     "text": [
      "비디오 저장 완료: UCF_Crimes_10crop/Videos/Testing_Normal_Videos_Anomaly/Normal_Videos_051_x264__3.mp4\n",
      "비디오 저장 완료: UCF_Crimes_10crop/Videos/Testing_Normal_Videos_Anomaly/Normal_Videos_051_x264__8.mp4\n",
      "<class 'list'>\n",
      "<class 'numpy.ndarray'>\n",
      "(120, 160, 3)\n"
     ]
    },
    {
     "name": "stderr",
     "output_type": "stream",
     "text": [
      "OpenCV: FFMPEG: tag 0x44495658/'XVID' is not supported with codec id 12 and format 'mp4 / MP4 (MPEG-4 Part 14)'\n",
      "OpenCV: FFMPEG: fallback to use tag 0x7634706d/'mp4v'\n",
      "OpenCV: FFMPEG: tag 0x44495658/'XVID' is not supported with codec id 12 and format 'mp4 / MP4 (MPEG-4 Part 14)'\n",
      "OpenCV: FFMPEG: fallback to use tag 0x7634706d/'mp4v'\n"
     ]
    },
    {
     "name": "stdout",
     "output_type": "stream",
     "text": [
      "비디오 저장 완료: UCF_Crimes_10crop/Videos/Testing_Normal_Videos_Anomaly/Normal_Videos_051_x264__4.mp4\n",
      "비디오 저장 완료: UCF_Crimes_10crop/Videos/Testing_Normal_Videos_Anomaly/Normal_Videos_051_x264__9.mp4\n",
      "320   240\n",
      "FPS: 30.0\n",
      "<class 'list'>\n",
      "<class 'numpy.ndarray'>\n",
      "(120, 160, 3)\n",
      "비디오 저장 완료: UCF_Crimes_10crop/Videos/Testing_Normal_Videos_Anomaly/Normal_Videos_129_x264__0.mp4\n",
      "비디오 저장 완료: UCF_Crimes_10crop/Videos/Testing_Normal_Videos_Anomaly/Normal_Videos_129_x264__5.mp4\n",
      "<class 'list'>\n",
      "<class 'numpy.ndarray'>\n",
      "(120, 160, 3)\n",
      "비디오 저장 완료: UCF_Crimes_10crop/Videos/Testing_Normal_Videos_Anomaly/Normal_Videos_129_x264__1.mp4\n",
      "비디오 저장 완료: UCF_Crimes_10crop/Videos/Testing_Normal_Videos_Anomaly/Normal_Videos_129_x264__6.mp4\n",
      "<class 'list'>\n",
      "<class 'numpy.ndarray'>\n",
      "(120, 160, 3)\n"
     ]
    },
    {
     "name": "stderr",
     "output_type": "stream",
     "text": [
      "OpenCV: FFMPEG: tag 0x44495658/'XVID' is not supported with codec id 12 and format 'mp4 / MP4 (MPEG-4 Part 14)'\n",
      "OpenCV: FFMPEG: fallback to use tag 0x7634706d/'mp4v'\n",
      "OpenCV: FFMPEG: tag 0x44495658/'XVID' is not supported with codec id 12 and format 'mp4 / MP4 (MPEG-4 Part 14)'\n",
      "OpenCV: FFMPEG: fallback to use tag 0x7634706d/'mp4v'\n",
      "OpenCV: FFMPEG: tag 0x44495658/'XVID' is not supported with codec id 12 and format 'mp4 / MP4 (MPEG-4 Part 14)'\n",
      "OpenCV: FFMPEG: fallback to use tag 0x7634706d/'mp4v'\n",
      "OpenCV: FFMPEG: tag 0x44495658/'XVID' is not supported with codec id 12 and format 'mp4 / MP4 (MPEG-4 Part 14)'\n",
      "OpenCV: FFMPEG: fallback to use tag 0x7634706d/'mp4v'\n",
      "OpenCV: FFMPEG: tag 0x44495658/'XVID' is not supported with codec id 12 and format 'mp4 / MP4 (MPEG-4 Part 14)'\n",
      "OpenCV: FFMPEG: fallback to use tag 0x7634706d/'mp4v'\n",
      "OpenCV: FFMPEG: tag 0x44495658/'XVID' is not supported with codec id 12 and format 'mp4 / MP4 (MPEG-4 Part 14)'\n",
      "OpenCV: FFMPEG: fallback to use tag 0x7634706d/'mp4v'\n"
     ]
    },
    {
     "name": "stdout",
     "output_type": "stream",
     "text": [
      "비디오 저장 완료: UCF_Crimes_10crop/Videos/Testing_Normal_Videos_Anomaly/Normal_Videos_129_x264__2.mp4\n",
      "비디오 저장 완료: UCF_Crimes_10crop/Videos/Testing_Normal_Videos_Anomaly/Normal_Videos_129_x264__7.mp4\n",
      "<class 'list'>\n",
      "<class 'numpy.ndarray'>\n",
      "(120, 160, 3)\n",
      "비디오 저장 완료: UCF_Crimes_10crop/Videos/Testing_Normal_Videos_Anomaly/Normal_Videos_129_x264__3.mp4\n",
      "비디오 저장 완료: UCF_Crimes_10crop/Videos/Testing_Normal_Videos_Anomaly/Normal_Videos_129_x264__8.mp4\n",
      "<class 'list'>\n",
      "<class 'numpy.ndarray'>\n",
      "(120, 160, 3)\n",
      "비디오 저장 완료: UCF_Crimes_10crop/Videos/Testing_Normal_Videos_Anomaly/Normal_Videos_129_x264__4.mp4\n",
      "비디오 저장 완료: UCF_Crimes_10crop/Videos/Testing_Normal_Videos_Anomaly/Normal_Videos_129_x264__9.mp4\n",
      "320   240\n",
      "FPS: 30.0\n"
     ]
    },
    {
     "name": "stderr",
     "output_type": "stream",
     "text": [
      "OpenCV: FFMPEG: tag 0x44495658/'XVID' is not supported with codec id 12 and format 'mp4 / MP4 (MPEG-4 Part 14)'\n",
      "OpenCV: FFMPEG: fallback to use tag 0x7634706d/'mp4v'\n",
      "OpenCV: FFMPEG: tag 0x44495658/'XVID' is not supported with codec id 12 and format 'mp4 / MP4 (MPEG-4 Part 14)'\n",
      "OpenCV: FFMPEG: fallback to use tag 0x7634706d/'mp4v'\n",
      "OpenCV: FFMPEG: tag 0x44495658/'XVID' is not supported with codec id 12 and format 'mp4 / MP4 (MPEG-4 Part 14)'\n",
      "OpenCV: FFMPEG: fallback to use tag 0x7634706d/'mp4v'\n",
      "OpenCV: FFMPEG: tag 0x44495658/'XVID' is not supported with codec id 12 and format 'mp4 / MP4 (MPEG-4 Part 14)'\n",
      "OpenCV: FFMPEG: fallback to use tag 0x7634706d/'mp4v'\n"
     ]
    },
    {
     "name": "stdout",
     "output_type": "stream",
     "text": [
      "<class 'list'>\n",
      "<class 'numpy.ndarray'>\n",
      "(120, 160, 3)\n",
      "비디오 저장 완료: UCF_Crimes_10crop/Videos/Testing_Normal_Videos_Anomaly/Normal_Videos_888_x264__0.mp4\n",
      "비디오 저장 완료: UCF_Crimes_10crop/Videos/Testing_Normal_Videos_Anomaly/Normal_Videos_888_x264__5.mp4\n",
      "<class 'list'>\n",
      "<class 'numpy.ndarray'>\n",
      "(120, 160, 3)\n"
     ]
    },
    {
     "name": "stderr",
     "output_type": "stream",
     "text": [
      "OpenCV: FFMPEG: tag 0x44495658/'XVID' is not supported with codec id 12 and format 'mp4 / MP4 (MPEG-4 Part 14)'\n",
      "OpenCV: FFMPEG: fallback to use tag 0x7634706d/'mp4v'\n",
      "OpenCV: FFMPEG: tag 0x44495658/'XVID' is not supported with codec id 12 and format 'mp4 / MP4 (MPEG-4 Part 14)'\n",
      "OpenCV: FFMPEG: fallback to use tag 0x7634706d/'mp4v'\n",
      "OpenCV: FFMPEG: tag 0x44495658/'XVID' is not supported with codec id 12 and format 'mp4 / MP4 (MPEG-4 Part 14)'\n",
      "OpenCV: FFMPEG: fallback to use tag 0x7634706d/'mp4v'\n",
      "OpenCV: FFMPEG: tag 0x44495658/'XVID' is not supported with codec id 12 and format 'mp4 / MP4 (MPEG-4 Part 14)'\n",
      "OpenCV: FFMPEG: fallback to use tag 0x7634706d/'mp4v'\n"
     ]
    },
    {
     "name": "stdout",
     "output_type": "stream",
     "text": [
      "비디오 저장 완료: UCF_Crimes_10crop/Videos/Testing_Normal_Videos_Anomaly/Normal_Videos_888_x264__1.mp4\n",
      "비디오 저장 완료: UCF_Crimes_10crop/Videos/Testing_Normal_Videos_Anomaly/Normal_Videos_888_x264__6.mp4\n",
      "<class 'list'>\n",
      "<class 'numpy.ndarray'>\n",
      "(120, 160, 3)\n",
      "비디오 저장 완료: UCF_Crimes_10crop/Videos/Testing_Normal_Videos_Anomaly/Normal_Videos_888_x264__2.mp4\n",
      "비디오 저장 완료: UCF_Crimes_10crop/Videos/Testing_Normal_Videos_Anomaly/Normal_Videos_888_x264__7.mp4\n",
      "<class 'list'>\n",
      "<class 'numpy.ndarray'>\n",
      "(120, 160, 3)\n",
      "비디오 저장 완료: UCF_Crimes_10crop/Videos/Testing_Normal_Videos_Anomaly/Normal_Videos_888_x264__3.mp4\n",
      "비디오 저장 완료: UCF_Crimes_10crop/Videos/Testing_Normal_Videos_Anomaly/Normal_Videos_888_x264__8.mp4\n",
      "<class 'list'>\n",
      "<class 'numpy.ndarray'>\n",
      "(120, 160, 3)\n"
     ]
    },
    {
     "name": "stderr",
     "output_type": "stream",
     "text": [
      "OpenCV: FFMPEG: tag 0x44495658/'XVID' is not supported with codec id 12 and format 'mp4 / MP4 (MPEG-4 Part 14)'\n",
      "OpenCV: FFMPEG: fallback to use tag 0x7634706d/'mp4v'\n",
      "OpenCV: FFMPEG: tag 0x44495658/'XVID' is not supported with codec id 12 and format 'mp4 / MP4 (MPEG-4 Part 14)'\n",
      "OpenCV: FFMPEG: fallback to use tag 0x7634706d/'mp4v'\n",
      "OpenCV: FFMPEG: tag 0x44495658/'XVID' is not supported with codec id 12 and format 'mp4 / MP4 (MPEG-4 Part 14)'\n",
      "OpenCV: FFMPEG: fallback to use tag 0x7634706d/'mp4v'\n",
      "OpenCV: FFMPEG: tag 0x44495658/'XVID' is not supported with codec id 12 and format 'mp4 / MP4 (MPEG-4 Part 14)'\n",
      "OpenCV: FFMPEG: fallback to use tag 0x7634706d/'mp4v'\n",
      "OpenCV: FFMPEG: tag 0x44495658/'XVID' is not supported with codec id 12 and format 'mp4 / MP4 (MPEG-4 Part 14)'\n",
      "OpenCV: FFMPEG: fallback to use tag 0x7634706d/'mp4v'\n",
      "OpenCV: FFMPEG: tag 0x44495658/'XVID' is not supported with codec id 12 and format 'mp4 / MP4 (MPEG-4 Part 14)'\n",
      "OpenCV: FFMPEG: fallback to use tag 0x7634706d/'mp4v'\n"
     ]
    },
    {
     "name": "stdout",
     "output_type": "stream",
     "text": [
      "비디오 저장 완료: UCF_Crimes_10crop/Videos/Testing_Normal_Videos_Anomaly/Normal_Videos_888_x264__4.mp4\n",
      "비디오 저장 완료: UCF_Crimes_10crop/Videos/Testing_Normal_Videos_Anomaly/Normal_Videos_888_x264__9.mp4\n",
      "320   240\n",
      "FPS: 30.0\n",
      "<class 'list'>\n",
      "<class 'numpy.ndarray'>\n",
      "(120, 160, 3)\n"
     ]
    },
    {
     "name": "stderr",
     "output_type": "stream",
     "text": [
      "OpenCV: FFMPEG: tag 0x44495658/'XVID' is not supported with codec id 12 and format 'mp4 / MP4 (MPEG-4 Part 14)'\n",
      "OpenCV: FFMPEG: fallback to use tag 0x7634706d/'mp4v'\n",
      "OpenCV: FFMPEG: tag 0x44495658/'XVID' is not supported with codec id 12 and format 'mp4 / MP4 (MPEG-4 Part 14)'\n",
      "OpenCV: FFMPEG: fallback to use tag 0x7634706d/'mp4v'\n"
     ]
    },
    {
     "name": "stdout",
     "output_type": "stream",
     "text": [
      "비디오 저장 완료: UCF_Crimes_10crop/Videos/Testing_Normal_Videos_Anomaly/Normal_Videos_453_x264__0.mp4\n",
      "비디오 저장 완료: UCF_Crimes_10crop/Videos/Testing_Normal_Videos_Anomaly/Normal_Videos_453_x264__5.mp4\n",
      "<class 'list'>\n",
      "<class 'numpy.ndarray'>\n",
      "(120, 160, 3)\n"
     ]
    },
    {
     "name": "stderr",
     "output_type": "stream",
     "text": [
      "OpenCV: FFMPEG: tag 0x44495658/'XVID' is not supported with codec id 12 and format 'mp4 / MP4 (MPEG-4 Part 14)'\n",
      "OpenCV: FFMPEG: fallback to use tag 0x7634706d/'mp4v'\n",
      "OpenCV: FFMPEG: tag 0x44495658/'XVID' is not supported with codec id 12 and format 'mp4 / MP4 (MPEG-4 Part 14)'\n",
      "OpenCV: FFMPEG: fallback to use tag 0x7634706d/'mp4v'\n"
     ]
    },
    {
     "name": "stdout",
     "output_type": "stream",
     "text": [
      "비디오 저장 완료: UCF_Crimes_10crop/Videos/Testing_Normal_Videos_Anomaly/Normal_Videos_453_x264__1.mp4\n",
      "비디오 저장 완료: UCF_Crimes_10crop/Videos/Testing_Normal_Videos_Anomaly/Normal_Videos_453_x264__6.mp4\n",
      "<class 'list'>\n",
      "<class 'numpy.ndarray'>\n",
      "(120, 160, 3)\n"
     ]
    },
    {
     "name": "stderr",
     "output_type": "stream",
     "text": [
      "OpenCV: FFMPEG: tag 0x44495658/'XVID' is not supported with codec id 12 and format 'mp4 / MP4 (MPEG-4 Part 14)'\n",
      "OpenCV: FFMPEG: fallback to use tag 0x7634706d/'mp4v'\n",
      "OpenCV: FFMPEG: tag 0x44495658/'XVID' is not supported with codec id 12 and format 'mp4 / MP4 (MPEG-4 Part 14)'\n",
      "OpenCV: FFMPEG: fallback to use tag 0x7634706d/'mp4v'\n"
     ]
    },
    {
     "name": "stdout",
     "output_type": "stream",
     "text": [
      "비디오 저장 완료: UCF_Crimes_10crop/Videos/Testing_Normal_Videos_Anomaly/Normal_Videos_453_x264__2.mp4\n",
      "비디오 저장 완료: UCF_Crimes_10crop/Videos/Testing_Normal_Videos_Anomaly/Normal_Videos_453_x264__7.mp4\n",
      "<class 'list'>\n",
      "<class 'numpy.ndarray'>\n",
      "(120, 160, 3)\n"
     ]
    },
    {
     "name": "stderr",
     "output_type": "stream",
     "text": [
      "OpenCV: FFMPEG: tag 0x44495658/'XVID' is not supported with codec id 12 and format 'mp4 / MP4 (MPEG-4 Part 14)'\n",
      "OpenCV: FFMPEG: fallback to use tag 0x7634706d/'mp4v'\n",
      "OpenCV: FFMPEG: tag 0x44495658/'XVID' is not supported with codec id 12 and format 'mp4 / MP4 (MPEG-4 Part 14)'\n",
      "OpenCV: FFMPEG: fallback to use tag 0x7634706d/'mp4v'\n"
     ]
    },
    {
     "name": "stdout",
     "output_type": "stream",
     "text": [
      "비디오 저장 완료: UCF_Crimes_10crop/Videos/Testing_Normal_Videos_Anomaly/Normal_Videos_453_x264__3.mp4\n",
      "비디오 저장 완료: UCF_Crimes_10crop/Videos/Testing_Normal_Videos_Anomaly/Normal_Videos_453_x264__8.mp4\n",
      "<class 'list'>\n",
      "<class 'numpy.ndarray'>\n",
      "(120, 160, 3)\n"
     ]
    },
    {
     "name": "stderr",
     "output_type": "stream",
     "text": [
      "OpenCV: FFMPEG: tag 0x44495658/'XVID' is not supported with codec id 12 and format 'mp4 / MP4 (MPEG-4 Part 14)'\n",
      "OpenCV: FFMPEG: fallback to use tag 0x7634706d/'mp4v'\n",
      "OpenCV: FFMPEG: tag 0x44495658/'XVID' is not supported with codec id 12 and format 'mp4 / MP4 (MPEG-4 Part 14)'\n",
      "OpenCV: FFMPEG: fallback to use tag 0x7634706d/'mp4v'\n"
     ]
    },
    {
     "name": "stdout",
     "output_type": "stream",
     "text": [
      "비디오 저장 완료: UCF_Crimes_10crop/Videos/Testing_Normal_Videos_Anomaly/Normal_Videos_453_x264__4.mp4\n",
      "비디오 저장 완료: UCF_Crimes_10crop/Videos/Testing_Normal_Videos_Anomaly/Normal_Videos_453_x264__9.mp4\n",
      "320   240\n",
      "FPS: 30.0\n",
      "<class 'list'>\n",
      "<class 'numpy.ndarray'>\n",
      "(120, 160, 3)\n"
     ]
    },
    {
     "name": "stderr",
     "output_type": "stream",
     "text": [
      "OpenCV: FFMPEG: tag 0x44495658/'XVID' is not supported with codec id 12 and format 'mp4 / MP4 (MPEG-4 Part 14)'\n",
      "OpenCV: FFMPEG: fallback to use tag 0x7634706d/'mp4v'\n",
      "OpenCV: FFMPEG: tag 0x44495658/'XVID' is not supported with codec id 12 and format 'mp4 / MP4 (MPEG-4 Part 14)'\n",
      "OpenCV: FFMPEG: fallback to use tag 0x7634706d/'mp4v'\n"
     ]
    },
    {
     "name": "stdout",
     "output_type": "stream",
     "text": [
      "비디오 저장 완료: UCF_Crimes_10crop/Videos/Testing_Normal_Videos_Anomaly/Normal_Videos_704_x264__0.mp4\n",
      "비디오 저장 완료: UCF_Crimes_10crop/Videos/Testing_Normal_Videos_Anomaly/Normal_Videos_704_x264__5.mp4\n",
      "<class 'list'>\n",
      "<class 'numpy.ndarray'>\n",
      "(120, 160, 3)\n"
     ]
    },
    {
     "name": "stderr",
     "output_type": "stream",
     "text": [
      "OpenCV: FFMPEG: tag 0x44495658/'XVID' is not supported with codec id 12 and format 'mp4 / MP4 (MPEG-4 Part 14)'\n",
      "OpenCV: FFMPEG: fallback to use tag 0x7634706d/'mp4v'\n",
      "OpenCV: FFMPEG: tag 0x44495658/'XVID' is not supported with codec id 12 and format 'mp4 / MP4 (MPEG-4 Part 14)'\n",
      "OpenCV: FFMPEG: fallback to use tag 0x7634706d/'mp4v'\n"
     ]
    },
    {
     "name": "stdout",
     "output_type": "stream",
     "text": [
      "비디오 저장 완료: UCF_Crimes_10crop/Videos/Testing_Normal_Videos_Anomaly/Normal_Videos_704_x264__1.mp4\n",
      "비디오 저장 완료: UCF_Crimes_10crop/Videos/Testing_Normal_Videos_Anomaly/Normal_Videos_704_x264__6.mp4\n",
      "<class 'list'>\n",
      "<class 'numpy.ndarray'>\n",
      "(120, 160, 3)\n"
     ]
    },
    {
     "name": "stderr",
     "output_type": "stream",
     "text": [
      "OpenCV: FFMPEG: tag 0x44495658/'XVID' is not supported with codec id 12 and format 'mp4 / MP4 (MPEG-4 Part 14)'\n",
      "OpenCV: FFMPEG: fallback to use tag 0x7634706d/'mp4v'\n",
      "OpenCV: FFMPEG: tag 0x44495658/'XVID' is not supported with codec id 12 and format 'mp4 / MP4 (MPEG-4 Part 14)'\n",
      "OpenCV: FFMPEG: fallback to use tag 0x7634706d/'mp4v'\n"
     ]
    },
    {
     "name": "stdout",
     "output_type": "stream",
     "text": [
      "비디오 저장 완료: UCF_Crimes_10crop/Videos/Testing_Normal_Videos_Anomaly/Normal_Videos_704_x264__2.mp4\n",
      "비디오 저장 완료: UCF_Crimes_10crop/Videos/Testing_Normal_Videos_Anomaly/Normal_Videos_704_x264__7.mp4\n",
      "<class 'list'>\n",
      "<class 'numpy.ndarray'>\n",
      "(120, 160, 3)\n"
     ]
    },
    {
     "name": "stderr",
     "output_type": "stream",
     "text": [
      "OpenCV: FFMPEG: tag 0x44495658/'XVID' is not supported with codec id 12 and format 'mp4 / MP4 (MPEG-4 Part 14)'\n",
      "OpenCV: FFMPEG: fallback to use tag 0x7634706d/'mp4v'\n",
      "OpenCV: FFMPEG: tag 0x44495658/'XVID' is not supported with codec id 12 and format 'mp4 / MP4 (MPEG-4 Part 14)'\n",
      "OpenCV: FFMPEG: fallback to use tag 0x7634706d/'mp4v'\n"
     ]
    },
    {
     "name": "stdout",
     "output_type": "stream",
     "text": [
      "비디오 저장 완료: UCF_Crimes_10crop/Videos/Testing_Normal_Videos_Anomaly/Normal_Videos_704_x264__3.mp4\n",
      "비디오 저장 완료: UCF_Crimes_10crop/Videos/Testing_Normal_Videos_Anomaly/Normal_Videos_704_x264__8.mp4\n",
      "<class 'list'>\n",
      "<class 'numpy.ndarray'>\n",
      "(120, 160, 3)\n"
     ]
    },
    {
     "name": "stderr",
     "output_type": "stream",
     "text": [
      "OpenCV: FFMPEG: tag 0x44495658/'XVID' is not supported with codec id 12 and format 'mp4 / MP4 (MPEG-4 Part 14)'\n",
      "OpenCV: FFMPEG: fallback to use tag 0x7634706d/'mp4v'\n",
      "OpenCV: FFMPEG: tag 0x44495658/'XVID' is not supported with codec id 12 and format 'mp4 / MP4 (MPEG-4 Part 14)'\n",
      "OpenCV: FFMPEG: fallback to use tag 0x7634706d/'mp4v'\n"
     ]
    },
    {
     "name": "stdout",
     "output_type": "stream",
     "text": [
      "비디오 저장 완료: UCF_Crimes_10crop/Videos/Testing_Normal_Videos_Anomaly/Normal_Videos_704_x264__4.mp4\n",
      "비디오 저장 완료: UCF_Crimes_10crop/Videos/Testing_Normal_Videos_Anomaly/Normal_Videos_704_x264__9.mp4\n",
      "320   240\n",
      "FPS: 30.0\n",
      "<class 'list'>\n",
      "<class 'numpy.ndarray'>\n",
      "(120, 160, 3)\n"
     ]
    },
    {
     "name": "stderr",
     "output_type": "stream",
     "text": [
      "OpenCV: FFMPEG: tag 0x44495658/'XVID' is not supported with codec id 12 and format 'mp4 / MP4 (MPEG-4 Part 14)'\n",
      "OpenCV: FFMPEG: fallback to use tag 0x7634706d/'mp4v'\n",
      "OpenCV: FFMPEG: tag 0x44495658/'XVID' is not supported with codec id 12 and format 'mp4 / MP4 (MPEG-4 Part 14)'\n",
      "OpenCV: FFMPEG: fallback to use tag 0x7634706d/'mp4v'\n"
     ]
    },
    {
     "name": "stdout",
     "output_type": "stream",
     "text": [
      "비디오 저장 완료: UCF_Crimes_10crop/Videos/Testing_Normal_Videos_Anomaly/Normal_Videos_890_x264__0.mp4\n",
      "비디오 저장 완료: UCF_Crimes_10crop/Videos/Testing_Normal_Videos_Anomaly/Normal_Videos_890_x264__5.mp4\n",
      "<class 'list'>\n",
      "<class 'numpy.ndarray'>\n",
      "(120, 160, 3)\n"
     ]
    },
    {
     "name": "stderr",
     "output_type": "stream",
     "text": [
      "OpenCV: FFMPEG: tag 0x44495658/'XVID' is not supported with codec id 12 and format 'mp4 / MP4 (MPEG-4 Part 14)'\n",
      "OpenCV: FFMPEG: fallback to use tag 0x7634706d/'mp4v'\n",
      "OpenCV: FFMPEG: tag 0x44495658/'XVID' is not supported with codec id 12 and format 'mp4 / MP4 (MPEG-4 Part 14)'\n",
      "OpenCV: FFMPEG: fallback to use tag 0x7634706d/'mp4v'\n"
     ]
    },
    {
     "name": "stdout",
     "output_type": "stream",
     "text": [
      "비디오 저장 완료: UCF_Crimes_10crop/Videos/Testing_Normal_Videos_Anomaly/Normal_Videos_890_x264__1.mp4\n",
      "비디오 저장 완료: UCF_Crimes_10crop/Videos/Testing_Normal_Videos_Anomaly/Normal_Videos_890_x264__6.mp4\n",
      "<class 'list'>\n",
      "<class 'numpy.ndarray'>\n",
      "(120, 160, 3)\n"
     ]
    },
    {
     "name": "stderr",
     "output_type": "stream",
     "text": [
      "OpenCV: FFMPEG: tag 0x44495658/'XVID' is not supported with codec id 12 and format 'mp4 / MP4 (MPEG-4 Part 14)'\n",
      "OpenCV: FFMPEG: fallback to use tag 0x7634706d/'mp4v'\n",
      "OpenCV: FFMPEG: tag 0x44495658/'XVID' is not supported with codec id 12 and format 'mp4 / MP4 (MPEG-4 Part 14)'\n",
      "OpenCV: FFMPEG: fallback to use tag 0x7634706d/'mp4v'\n"
     ]
    },
    {
     "name": "stdout",
     "output_type": "stream",
     "text": [
      "비디오 저장 완료: UCF_Crimes_10crop/Videos/Testing_Normal_Videos_Anomaly/Normal_Videos_890_x264__2.mp4\n",
      "비디오 저장 완료: UCF_Crimes_10crop/Videos/Testing_Normal_Videos_Anomaly/Normal_Videos_890_x264__7.mp4\n",
      "<class 'list'>\n",
      "<class 'numpy.ndarray'>\n",
      "(120, 160, 3)\n"
     ]
    },
    {
     "name": "stderr",
     "output_type": "stream",
     "text": [
      "OpenCV: FFMPEG: tag 0x44495658/'XVID' is not supported with codec id 12 and format 'mp4 / MP4 (MPEG-4 Part 14)'\n",
      "OpenCV: FFMPEG: fallback to use tag 0x7634706d/'mp4v'\n",
      "OpenCV: FFMPEG: tag 0x44495658/'XVID' is not supported with codec id 12 and format 'mp4 / MP4 (MPEG-4 Part 14)'\n",
      "OpenCV: FFMPEG: fallback to use tag 0x7634706d/'mp4v'\n"
     ]
    },
    {
     "name": "stdout",
     "output_type": "stream",
     "text": [
      "비디오 저장 완료: UCF_Crimes_10crop/Videos/Testing_Normal_Videos_Anomaly/Normal_Videos_890_x264__3.mp4\n",
      "비디오 저장 완료: UCF_Crimes_10crop/Videos/Testing_Normal_Videos_Anomaly/Normal_Videos_890_x264__8.mp4\n",
      "<class 'list'>\n",
      "<class 'numpy.ndarray'>\n",
      "(120, 160, 3)\n"
     ]
    },
    {
     "name": "stderr",
     "output_type": "stream",
     "text": [
      "OpenCV: FFMPEG: tag 0x44495658/'XVID' is not supported with codec id 12 and format 'mp4 / MP4 (MPEG-4 Part 14)'\n",
      "OpenCV: FFMPEG: fallback to use tag 0x7634706d/'mp4v'\n",
      "OpenCV: FFMPEG: tag 0x44495658/'XVID' is not supported with codec id 12 and format 'mp4 / MP4 (MPEG-4 Part 14)'\n",
      "OpenCV: FFMPEG: fallback to use tag 0x7634706d/'mp4v'\n"
     ]
    },
    {
     "name": "stdout",
     "output_type": "stream",
     "text": [
      "비디오 저장 완료: UCF_Crimes_10crop/Videos/Testing_Normal_Videos_Anomaly/Normal_Videos_890_x264__4.mp4\n",
      "비디오 저장 완료: UCF_Crimes_10crop/Videos/Testing_Normal_Videos_Anomaly/Normal_Videos_890_x264__9.mp4\n",
      "320   240\n",
      "FPS: 30.0\n",
      "<class 'list'>\n",
      "<class 'numpy.ndarray'>\n",
      "(120, 160, 3)\n",
      "비디오 저장 완료: UCF_Crimes_10crop/Videos/Testing_Normal_Videos_Anomaly/Normal_Videos_904_x264__0.mp4\n",
      "비디오 저장 완료: UCF_Crimes_10crop/Videos/Testing_Normal_Videos_Anomaly/Normal_Videos_904_x264__5.mp4\n",
      "<class 'list'>\n",
      "<class 'numpy.ndarray'>\n",
      "(120, 160, 3)\n"
     ]
    },
    {
     "name": "stderr",
     "output_type": "stream",
     "text": [
      "OpenCV: FFMPEG: tag 0x44495658/'XVID' is not supported with codec id 12 and format 'mp4 / MP4 (MPEG-4 Part 14)'\n",
      "OpenCV: FFMPEG: fallback to use tag 0x7634706d/'mp4v'\n",
      "OpenCV: FFMPEG: tag 0x44495658/'XVID' is not supported with codec id 12 and format 'mp4 / MP4 (MPEG-4 Part 14)'\n",
      "OpenCV: FFMPEG: fallback to use tag 0x7634706d/'mp4v'\n",
      "OpenCV: FFMPEG: tag 0x44495658/'XVID' is not supported with codec id 12 and format 'mp4 / MP4 (MPEG-4 Part 14)'\n",
      "OpenCV: FFMPEG: fallback to use tag 0x7634706d/'mp4v'\n",
      "OpenCV: FFMPEG: tag 0x44495658/'XVID' is not supported with codec id 12 and format 'mp4 / MP4 (MPEG-4 Part 14)'\n",
      "OpenCV: FFMPEG: fallback to use tag 0x7634706d/'mp4v'\n"
     ]
    },
    {
     "name": "stdout",
     "output_type": "stream",
     "text": [
      "비디오 저장 완료: UCF_Crimes_10crop/Videos/Testing_Normal_Videos_Anomaly/Normal_Videos_904_x264__1.mp4\n",
      "비디오 저장 완료: UCF_Crimes_10crop/Videos/Testing_Normal_Videos_Anomaly/Normal_Videos_904_x264__6.mp4\n",
      "<class 'list'>\n",
      "<class 'numpy.ndarray'>\n",
      "(120, 160, 3)\n",
      "비디오 저장 완료: UCF_Crimes_10crop/Videos/Testing_Normal_Videos_Anomaly/Normal_Videos_904_x264__2.mp4\n",
      "비디오 저장 완료: UCF_Crimes_10crop/Videos/Testing_Normal_Videos_Anomaly/Normal_Videos_904_x264__7.mp4\n",
      "<class 'list'>\n",
      "<class 'numpy.ndarray'>\n",
      "(120, 160, 3)\n"
     ]
    },
    {
     "name": "stderr",
     "output_type": "stream",
     "text": [
      "OpenCV: FFMPEG: tag 0x44495658/'XVID' is not supported with codec id 12 and format 'mp4 / MP4 (MPEG-4 Part 14)'\n",
      "OpenCV: FFMPEG: fallback to use tag 0x7634706d/'mp4v'\n",
      "OpenCV: FFMPEG: tag 0x44495658/'XVID' is not supported with codec id 12 and format 'mp4 / MP4 (MPEG-4 Part 14)'\n",
      "OpenCV: FFMPEG: fallback to use tag 0x7634706d/'mp4v'\n",
      "OpenCV: FFMPEG: tag 0x44495658/'XVID' is not supported with codec id 12 and format 'mp4 / MP4 (MPEG-4 Part 14)'\n",
      "OpenCV: FFMPEG: fallback to use tag 0x7634706d/'mp4v'\n",
      "OpenCV: FFMPEG: tag 0x44495658/'XVID' is not supported with codec id 12 and format 'mp4 / MP4 (MPEG-4 Part 14)'\n",
      "OpenCV: FFMPEG: fallback to use tag 0x7634706d/'mp4v'\n"
     ]
    },
    {
     "name": "stdout",
     "output_type": "stream",
     "text": [
      "비디오 저장 완료: UCF_Crimes_10crop/Videos/Testing_Normal_Videos_Anomaly/Normal_Videos_904_x264__3.mp4\n",
      "비디오 저장 완료: UCF_Crimes_10crop/Videos/Testing_Normal_Videos_Anomaly/Normal_Videos_904_x264__8.mp4\n",
      "<class 'list'>\n",
      "<class 'numpy.ndarray'>\n",
      "(120, 160, 3)\n",
      "비디오 저장 완료: UCF_Crimes_10crop/Videos/Testing_Normal_Videos_Anomaly/Normal_Videos_904_x264__4.mp4\n",
      "비디오 저장 완료: UCF_Crimes_10crop/Videos/Testing_Normal_Videos_Anomaly/Normal_Videos_904_x264__9.mp4\n"
     ]
    },
    {
     "name": "stderr",
     "output_type": "stream",
     "text": [
      "OpenCV: FFMPEG: tag 0x44495658/'XVID' is not supported with codec id 12 and format 'mp4 / MP4 (MPEG-4 Part 14)'\n",
      "OpenCV: FFMPEG: fallback to use tag 0x7634706d/'mp4v'\n",
      "OpenCV: FFMPEG: tag 0x44495658/'XVID' is not supported with codec id 12 and format 'mp4 / MP4 (MPEG-4 Part 14)'\n",
      "OpenCV: FFMPEG: fallback to use tag 0x7634706d/'mp4v'\n"
     ]
    },
    {
     "name": "stdout",
     "output_type": "stream",
     "text": [
      "320   240\n",
      "FPS: 30.0\n",
      "<class 'list'>\n",
      "<class 'numpy.ndarray'>\n",
      "(120, 160, 3)\n"
     ]
    },
    {
     "name": "stderr",
     "output_type": "stream",
     "text": [
      "OpenCV: FFMPEG: tag 0x44495658/'XVID' is not supported with codec id 12 and format 'mp4 / MP4 (MPEG-4 Part 14)'\n",
      "OpenCV: FFMPEG: fallback to use tag 0x7634706d/'mp4v'\n",
      "OpenCV: FFMPEG: tag 0x44495658/'XVID' is not supported with codec id 12 and format 'mp4 / MP4 (MPEG-4 Part 14)'\n",
      "OpenCV: FFMPEG: fallback to use tag 0x7634706d/'mp4v'\n"
     ]
    },
    {
     "name": "stdout",
     "output_type": "stream",
     "text": [
      "비디오 저장 완료: UCF_Crimes_10crop/Videos/Testing_Normal_Videos_Anomaly/Normal_Videos_783_x264__0.mp4\n",
      "비디오 저장 완료: UCF_Crimes_10crop/Videos/Testing_Normal_Videos_Anomaly/Normal_Videos_783_x264__5.mp4\n",
      "<class 'list'>\n",
      "<class 'numpy.ndarray'>\n",
      "(120, 160, 3)\n"
     ]
    },
    {
     "name": "stderr",
     "output_type": "stream",
     "text": [
      "OpenCV: FFMPEG: tag 0x44495658/'XVID' is not supported with codec id 12 and format 'mp4 / MP4 (MPEG-4 Part 14)'\n",
      "OpenCV: FFMPEG: fallback to use tag 0x7634706d/'mp4v'\n",
      "OpenCV: FFMPEG: tag 0x44495658/'XVID' is not supported with codec id 12 and format 'mp4 / MP4 (MPEG-4 Part 14)'\n",
      "OpenCV: FFMPEG: fallback to use tag 0x7634706d/'mp4v'\n"
     ]
    },
    {
     "name": "stdout",
     "output_type": "stream",
     "text": [
      "비디오 저장 완료: UCF_Crimes_10crop/Videos/Testing_Normal_Videos_Anomaly/Normal_Videos_783_x264__1.mp4\n",
      "비디오 저장 완료: UCF_Crimes_10crop/Videos/Testing_Normal_Videos_Anomaly/Normal_Videos_783_x264__6.mp4\n",
      "<class 'list'>\n",
      "<class 'numpy.ndarray'>\n",
      "(120, 160, 3)\n"
     ]
    },
    {
     "name": "stderr",
     "output_type": "stream",
     "text": [
      "OpenCV: FFMPEG: tag 0x44495658/'XVID' is not supported with codec id 12 and format 'mp4 / MP4 (MPEG-4 Part 14)'\n",
      "OpenCV: FFMPEG: fallback to use tag 0x7634706d/'mp4v'\n",
      "OpenCV: FFMPEG: tag 0x44495658/'XVID' is not supported with codec id 12 and format 'mp4 / MP4 (MPEG-4 Part 14)'\n",
      "OpenCV: FFMPEG: fallback to use tag 0x7634706d/'mp4v'\n"
     ]
    },
    {
     "name": "stdout",
     "output_type": "stream",
     "text": [
      "비디오 저장 완료: UCF_Crimes_10crop/Videos/Testing_Normal_Videos_Anomaly/Normal_Videos_783_x264__2.mp4\n",
      "비디오 저장 완료: UCF_Crimes_10crop/Videos/Testing_Normal_Videos_Anomaly/Normal_Videos_783_x264__7.mp4\n",
      "<class 'list'>\n",
      "<class 'numpy.ndarray'>\n",
      "(120, 160, 3)\n"
     ]
    },
    {
     "name": "stderr",
     "output_type": "stream",
     "text": [
      "OpenCV: FFMPEG: tag 0x44495658/'XVID' is not supported with codec id 12 and format 'mp4 / MP4 (MPEG-4 Part 14)'\n",
      "OpenCV: FFMPEG: fallback to use tag 0x7634706d/'mp4v'\n",
      "OpenCV: FFMPEG: tag 0x44495658/'XVID' is not supported with codec id 12 and format 'mp4 / MP4 (MPEG-4 Part 14)'\n",
      "OpenCV: FFMPEG: fallback to use tag 0x7634706d/'mp4v'\n"
     ]
    },
    {
     "name": "stdout",
     "output_type": "stream",
     "text": [
      "비디오 저장 완료: UCF_Crimes_10crop/Videos/Testing_Normal_Videos_Anomaly/Normal_Videos_783_x264__3.mp4\n",
      "비디오 저장 완료: UCF_Crimes_10crop/Videos/Testing_Normal_Videos_Anomaly/Normal_Videos_783_x264__8.mp4\n",
      "<class 'list'>\n",
      "<class 'numpy.ndarray'>\n",
      "(120, 160, 3)\n"
     ]
    },
    {
     "name": "stderr",
     "output_type": "stream",
     "text": [
      "OpenCV: FFMPEG: tag 0x44495658/'XVID' is not supported with codec id 12 and format 'mp4 / MP4 (MPEG-4 Part 14)'\n",
      "OpenCV: FFMPEG: fallback to use tag 0x7634706d/'mp4v'\n",
      "OpenCV: FFMPEG: tag 0x44495658/'XVID' is not supported with codec id 12 and format 'mp4 / MP4 (MPEG-4 Part 14)'\n",
      "OpenCV: FFMPEG: fallback to use tag 0x7634706d/'mp4v'\n"
     ]
    },
    {
     "name": "stdout",
     "output_type": "stream",
     "text": [
      "비디오 저장 완료: UCF_Crimes_10crop/Videos/Testing_Normal_Videos_Anomaly/Normal_Videos_783_x264__4.mp4\n",
      "비디오 저장 완료: UCF_Crimes_10crop/Videos/Testing_Normal_Videos_Anomaly/Normal_Videos_783_x264__9.mp4\n",
      "320   240\n",
      "FPS: 30.0\n",
      "<class 'list'>\n",
      "<class 'numpy.ndarray'>\n",
      "(120, 160, 3)\n",
      "비디오 저장 완료: UCF_Crimes_10crop/Videos/Testing_Normal_Videos_Anomaly/Normal_Videos_876_x264__0.mp4\n",
      "비디오 저장 완료: UCF_Crimes_10crop/Videos/Testing_Normal_Videos_Anomaly/Normal_Videos_876_x264__5.mp4\n",
      "<class 'list'>\n",
      "<class 'numpy.ndarray'>\n",
      "(120, 160, 3)\n",
      "비디오 저장 완료: UCF_Crimes_10crop/Videos/Testing_Normal_Videos_Anomaly/Normal_Videos_876_x264__1.mp4\n",
      "비디오 저장 완료: UCF_Crimes_10crop/Videos/Testing_Normal_Videos_Anomaly/Normal_Videos_876_x264__6.mp4\n",
      "<class 'list'>\n",
      "<class 'numpy.ndarray'>\n",
      "(120, 160, 3)\n"
     ]
    },
    {
     "name": "stderr",
     "output_type": "stream",
     "text": [
      "OpenCV: FFMPEG: tag 0x44495658/'XVID' is not supported with codec id 12 and format 'mp4 / MP4 (MPEG-4 Part 14)'\n",
      "OpenCV: FFMPEG: fallback to use tag 0x7634706d/'mp4v'\n",
      "OpenCV: FFMPEG: tag 0x44495658/'XVID' is not supported with codec id 12 and format 'mp4 / MP4 (MPEG-4 Part 14)'\n",
      "OpenCV: FFMPEG: fallback to use tag 0x7634706d/'mp4v'\n",
      "OpenCV: FFMPEG: tag 0x44495658/'XVID' is not supported with codec id 12 and format 'mp4 / MP4 (MPEG-4 Part 14)'\n",
      "OpenCV: FFMPEG: fallback to use tag 0x7634706d/'mp4v'\n",
      "OpenCV: FFMPEG: tag 0x44495658/'XVID' is not supported with codec id 12 and format 'mp4 / MP4 (MPEG-4 Part 14)'\n",
      "OpenCV: FFMPEG: fallback to use tag 0x7634706d/'mp4v'\n",
      "OpenCV: FFMPEG: tag 0x44495658/'XVID' is not supported with codec id 12 and format 'mp4 / MP4 (MPEG-4 Part 14)'\n",
      "OpenCV: FFMPEG: fallback to use tag 0x7634706d/'mp4v'\n",
      "OpenCV: FFMPEG: tag 0x44495658/'XVID' is not supported with codec id 12 and format 'mp4 / MP4 (MPEG-4 Part 14)'\n",
      "OpenCV: FFMPEG: fallback to use tag 0x7634706d/'mp4v'\n"
     ]
    },
    {
     "name": "stdout",
     "output_type": "stream",
     "text": [
      "비디오 저장 완료: UCF_Crimes_10crop/Videos/Testing_Normal_Videos_Anomaly/Normal_Videos_876_x264__2.mp4\n",
      "비디오 저장 완료: UCF_Crimes_10crop/Videos/Testing_Normal_Videos_Anomaly/Normal_Videos_876_x264__7.mp4\n",
      "<class 'list'>\n",
      "<class 'numpy.ndarray'>\n",
      "(120, 160, 3)\n",
      "비디오 저장 완료: UCF_Crimes_10crop/Videos/Testing_Normal_Videos_Anomaly/Normal_Videos_876_x264__3.mp4\n",
      "비디오 저장 완료: UCF_Crimes_10crop/Videos/Testing_Normal_Videos_Anomaly/Normal_Videos_876_x264__8.mp4\n",
      "<class 'list'>\n",
      "<class 'numpy.ndarray'>\n",
      "(120, 160, 3)\n",
      "비디오 저장 완료: UCF_Crimes_10crop/Videos/Testing_Normal_Videos_Anomaly/Normal_Videos_876_x264__4.mp4\n",
      "비디오 저장 완료: UCF_Crimes_10crop/Videos/Testing_Normal_Videos_Anomaly/Normal_Videos_876_x264__9.mp4\n",
      "320   240\n",
      "FPS: 30.0\n"
     ]
    },
    {
     "name": "stderr",
     "output_type": "stream",
     "text": [
      "OpenCV: FFMPEG: tag 0x44495658/'XVID' is not supported with codec id 12 and format 'mp4 / MP4 (MPEG-4 Part 14)'\n",
      "OpenCV: FFMPEG: fallback to use tag 0x7634706d/'mp4v'\n",
      "OpenCV: FFMPEG: tag 0x44495658/'XVID' is not supported with codec id 12 and format 'mp4 / MP4 (MPEG-4 Part 14)'\n",
      "OpenCV: FFMPEG: fallback to use tag 0x7634706d/'mp4v'\n",
      "OpenCV: FFMPEG: tag 0x44495658/'XVID' is not supported with codec id 12 and format 'mp4 / MP4 (MPEG-4 Part 14)'\n",
      "OpenCV: FFMPEG: fallback to use tag 0x7634706d/'mp4v'\n",
      "OpenCV: FFMPEG: tag 0x44495658/'XVID' is not supported with codec id 12 and format 'mp4 / MP4 (MPEG-4 Part 14)'\n",
      "OpenCV: FFMPEG: fallback to use tag 0x7634706d/'mp4v'\n"
     ]
    },
    {
     "name": "stdout",
     "output_type": "stream",
     "text": [
      "<class 'list'>\n",
      "<class 'numpy.ndarray'>\n",
      "(120, 160, 3)\n",
      "비디오 저장 완료: UCF_Crimes_10crop/Videos/Testing_Normal_Videos_Anomaly/Normal_Videos_897_x264__0.mp4\n",
      "비디오 저장 완료: UCF_Crimes_10crop/Videos/Testing_Normal_Videos_Anomaly/Normal_Videos_897_x264__5.mp4\n",
      "<class 'list'>\n",
      "<class 'numpy.ndarray'>\n",
      "(120, 160, 3)\n"
     ]
    },
    {
     "name": "stderr",
     "output_type": "stream",
     "text": [
      "OpenCV: FFMPEG: tag 0x44495658/'XVID' is not supported with codec id 12 and format 'mp4 / MP4 (MPEG-4 Part 14)'\n",
      "OpenCV: FFMPEG: fallback to use tag 0x7634706d/'mp4v'\n",
      "OpenCV: FFMPEG: tag 0x44495658/'XVID' is not supported with codec id 12 and format 'mp4 / MP4 (MPEG-4 Part 14)'\n",
      "OpenCV: FFMPEG: fallback to use tag 0x7634706d/'mp4v'\n",
      "OpenCV: FFMPEG: tag 0x44495658/'XVID' is not supported with codec id 12 and format 'mp4 / MP4 (MPEG-4 Part 14)'\n",
      "OpenCV: FFMPEG: fallback to use tag 0x7634706d/'mp4v'\n",
      "OpenCV: FFMPEG: tag 0x44495658/'XVID' is not supported with codec id 12 and format 'mp4 / MP4 (MPEG-4 Part 14)'\n",
      "OpenCV: FFMPEG: fallback to use tag 0x7634706d/'mp4v'\n"
     ]
    },
    {
     "name": "stdout",
     "output_type": "stream",
     "text": [
      "비디오 저장 완료: UCF_Crimes_10crop/Videos/Testing_Normal_Videos_Anomaly/Normal_Videos_897_x264__1.mp4\n",
      "비디오 저장 완료: UCF_Crimes_10crop/Videos/Testing_Normal_Videos_Anomaly/Normal_Videos_897_x264__6.mp4\n",
      "<class 'list'>\n",
      "<class 'numpy.ndarray'>\n",
      "(120, 160, 3)\n",
      "비디오 저장 완료: UCF_Crimes_10crop/Videos/Testing_Normal_Videos_Anomaly/Normal_Videos_897_x264__2.mp4\n",
      "비디오 저장 완료: UCF_Crimes_10crop/Videos/Testing_Normal_Videos_Anomaly/Normal_Videos_897_x264__7.mp4\n",
      "<class 'list'>\n",
      "<class 'numpy.ndarray'>\n",
      "(120, 160, 3)\n"
     ]
    },
    {
     "name": "stderr",
     "output_type": "stream",
     "text": [
      "OpenCV: FFMPEG: tag 0x44495658/'XVID' is not supported with codec id 12 and format 'mp4 / MP4 (MPEG-4 Part 14)'\n",
      "OpenCV: FFMPEG: fallback to use tag 0x7634706d/'mp4v'\n",
      "OpenCV: FFMPEG: tag 0x44495658/'XVID' is not supported with codec id 12 and format 'mp4 / MP4 (MPEG-4 Part 14)'\n",
      "OpenCV: FFMPEG: fallback to use tag 0x7634706d/'mp4v'\n",
      "OpenCV: FFMPEG: tag 0x44495658/'XVID' is not supported with codec id 12 and format 'mp4 / MP4 (MPEG-4 Part 14)'\n",
      "OpenCV: FFMPEG: fallback to use tag 0x7634706d/'mp4v'\n",
      "OpenCV: FFMPEG: tag 0x44495658/'XVID' is not supported with codec id 12 and format 'mp4 / MP4 (MPEG-4 Part 14)'\n",
      "OpenCV: FFMPEG: fallback to use tag 0x7634706d/'mp4v'\n"
     ]
    },
    {
     "name": "stdout",
     "output_type": "stream",
     "text": [
      "비디오 저장 완료: UCF_Crimes_10crop/Videos/Testing_Normal_Videos_Anomaly/Normal_Videos_897_x264__3.mp4\n",
      "비디오 저장 완료: UCF_Crimes_10crop/Videos/Testing_Normal_Videos_Anomaly/Normal_Videos_897_x264__8.mp4\n",
      "<class 'list'>\n",
      "<class 'numpy.ndarray'>\n",
      "(120, 160, 3)\n",
      "비디오 저장 완료: UCF_Crimes_10crop/Videos/Testing_Normal_Videos_Anomaly/Normal_Videos_897_x264__4.mp4\n",
      "비디오 저장 완료: UCF_Crimes_10crop/Videos/Testing_Normal_Videos_Anomaly/Normal_Videos_897_x264__9.mp4\n"
     ]
    },
    {
     "name": "stderr",
     "output_type": "stream",
     "text": [
      "OpenCV: FFMPEG: tag 0x44495658/'XVID' is not supported with codec id 12 and format 'mp4 / MP4 (MPEG-4 Part 14)'\n",
      "OpenCV: FFMPEG: fallback to use tag 0x7634706d/'mp4v'\n",
      "OpenCV: FFMPEG: tag 0x44495658/'XVID' is not supported with codec id 12 and format 'mp4 / MP4 (MPEG-4 Part 14)'\n",
      "OpenCV: FFMPEG: fallback to use tag 0x7634706d/'mp4v'\n"
     ]
    },
    {
     "name": "stdout",
     "output_type": "stream",
     "text": [
      "320   240\n",
      "FPS: 30.0\n",
      "<class 'list'>\n",
      "<class 'numpy.ndarray'>\n",
      "(120, 160, 3)\n"
     ]
    },
    {
     "name": "stderr",
     "output_type": "stream",
     "text": [
      "OpenCV: FFMPEG: tag 0x44495658/'XVID' is not supported with codec id 12 and format 'mp4 / MP4 (MPEG-4 Part 14)'\n",
      "OpenCV: FFMPEG: fallback to use tag 0x7634706d/'mp4v'\n",
      "OpenCV: FFMPEG: tag 0x44495658/'XVID' is not supported with codec id 12 and format 'mp4 / MP4 (MPEG-4 Part 14)'\n",
      "OpenCV: FFMPEG: fallback to use tag 0x7634706d/'mp4v'\n"
     ]
    },
    {
     "name": "stdout",
     "output_type": "stream",
     "text": [
      "비디오 저장 완료: UCF_Crimes_10crop/Videos/Testing_Normal_Videos_Anomaly/Normal_Videos_778_x264__0.mp4\n",
      "비디오 저장 완료: UCF_Crimes_10crop/Videos/Testing_Normal_Videos_Anomaly/Normal_Videos_778_x264__5.mp4\n",
      "<class 'list'>\n",
      "<class 'numpy.ndarray'>\n",
      "(120, 160, 3)\n"
     ]
    },
    {
     "name": "stderr",
     "output_type": "stream",
     "text": [
      "OpenCV: FFMPEG: tag 0x44495658/'XVID' is not supported with codec id 12 and format 'mp4 / MP4 (MPEG-4 Part 14)'\n",
      "OpenCV: FFMPEG: fallback to use tag 0x7634706d/'mp4v'\n",
      "OpenCV: FFMPEG: tag 0x44495658/'XVID' is not supported with codec id 12 and format 'mp4 / MP4 (MPEG-4 Part 14)'\n",
      "OpenCV: FFMPEG: fallback to use tag 0x7634706d/'mp4v'\n"
     ]
    },
    {
     "name": "stdout",
     "output_type": "stream",
     "text": [
      "비디오 저장 완료: UCF_Crimes_10crop/Videos/Testing_Normal_Videos_Anomaly/Normal_Videos_778_x264__1.mp4\n",
      "비디오 저장 완료: UCF_Crimes_10crop/Videos/Testing_Normal_Videos_Anomaly/Normal_Videos_778_x264__6.mp4\n",
      "<class 'list'>\n",
      "<class 'numpy.ndarray'>\n",
      "(120, 160, 3)\n"
     ]
    },
    {
     "name": "stderr",
     "output_type": "stream",
     "text": [
      "OpenCV: FFMPEG: tag 0x44495658/'XVID' is not supported with codec id 12 and format 'mp4 / MP4 (MPEG-4 Part 14)'\n",
      "OpenCV: FFMPEG: fallback to use tag 0x7634706d/'mp4v'\n",
      "OpenCV: FFMPEG: tag 0x44495658/'XVID' is not supported with codec id 12 and format 'mp4 / MP4 (MPEG-4 Part 14)'\n",
      "OpenCV: FFMPEG: fallback to use tag 0x7634706d/'mp4v'\n"
     ]
    },
    {
     "name": "stdout",
     "output_type": "stream",
     "text": [
      "비디오 저장 완료: UCF_Crimes_10crop/Videos/Testing_Normal_Videos_Anomaly/Normal_Videos_778_x264__2.mp4\n",
      "비디오 저장 완료: UCF_Crimes_10crop/Videos/Testing_Normal_Videos_Anomaly/Normal_Videos_778_x264__7.mp4\n",
      "<class 'list'>\n",
      "<class 'numpy.ndarray'>\n",
      "(120, 160, 3)\n"
     ]
    },
    {
     "name": "stderr",
     "output_type": "stream",
     "text": [
      "OpenCV: FFMPEG: tag 0x44495658/'XVID' is not supported with codec id 12 and format 'mp4 / MP4 (MPEG-4 Part 14)'\n",
      "OpenCV: FFMPEG: fallback to use tag 0x7634706d/'mp4v'\n",
      "OpenCV: FFMPEG: tag 0x44495658/'XVID' is not supported with codec id 12 and format 'mp4 / MP4 (MPEG-4 Part 14)'\n",
      "OpenCV: FFMPEG: fallback to use tag 0x7634706d/'mp4v'\n"
     ]
    },
    {
     "name": "stdout",
     "output_type": "stream",
     "text": [
      "비디오 저장 완료: UCF_Crimes_10crop/Videos/Testing_Normal_Videos_Anomaly/Normal_Videos_778_x264__3.mp4\n",
      "비디오 저장 완료: UCF_Crimes_10crop/Videos/Testing_Normal_Videos_Anomaly/Normal_Videos_778_x264__8.mp4\n",
      "<class 'list'>\n",
      "<class 'numpy.ndarray'>\n",
      "(120, 160, 3)\n"
     ]
    },
    {
     "name": "stderr",
     "output_type": "stream",
     "text": [
      "OpenCV: FFMPEG: tag 0x44495658/'XVID' is not supported with codec id 12 and format 'mp4 / MP4 (MPEG-4 Part 14)'\n",
      "OpenCV: FFMPEG: fallback to use tag 0x7634706d/'mp4v'\n",
      "OpenCV: FFMPEG: tag 0x44495658/'XVID' is not supported with codec id 12 and format 'mp4 / MP4 (MPEG-4 Part 14)'\n",
      "OpenCV: FFMPEG: fallback to use tag 0x7634706d/'mp4v'\n"
     ]
    },
    {
     "name": "stdout",
     "output_type": "stream",
     "text": [
      "비디오 저장 완료: UCF_Crimes_10crop/Videos/Testing_Normal_Videos_Anomaly/Normal_Videos_778_x264__4.mp4\n",
      "비디오 저장 완료: UCF_Crimes_10crop/Videos/Testing_Normal_Videos_Anomaly/Normal_Videos_778_x264__9.mp4\n",
      "320   240\n",
      "FPS: 30.0\n",
      "<class 'list'>\n",
      "<class 'numpy.ndarray'>\n",
      "(120, 160, 3)\n",
      "비디오 저장 완료: UCF_Crimes_10crop/Videos/Testing_Normal_Videos_Anomaly/Normal_Videos_911_x264__0.mp4\n",
      "비디오 저장 완료: UCF_Crimes_10crop/Videos/Testing_Normal_Videos_Anomaly/Normal_Videos_911_x264__5.mp4\n",
      "<class 'list'>\n",
      "<class 'numpy.ndarray'>\n",
      "(120, 160, 3)\n"
     ]
    },
    {
     "name": "stderr",
     "output_type": "stream",
     "text": [
      "OpenCV: FFMPEG: tag 0x44495658/'XVID' is not supported with codec id 12 and format 'mp4 / MP4 (MPEG-4 Part 14)'\n",
      "OpenCV: FFMPEG: fallback to use tag 0x7634706d/'mp4v'\n",
      "OpenCV: FFMPEG: tag 0x44495658/'XVID' is not supported with codec id 12 and format 'mp4 / MP4 (MPEG-4 Part 14)'\n",
      "OpenCV: FFMPEG: fallback to use tag 0x7634706d/'mp4v'\n",
      "OpenCV: FFMPEG: tag 0x44495658/'XVID' is not supported with codec id 12 and format 'mp4 / MP4 (MPEG-4 Part 14)'\n",
      "OpenCV: FFMPEG: fallback to use tag 0x7634706d/'mp4v'\n",
      "OpenCV: FFMPEG: tag 0x44495658/'XVID' is not supported with codec id 12 and format 'mp4 / MP4 (MPEG-4 Part 14)'\n",
      "OpenCV: FFMPEG: fallback to use tag 0x7634706d/'mp4v'\n"
     ]
    },
    {
     "name": "stdout",
     "output_type": "stream",
     "text": [
      "비디오 저장 완료: UCF_Crimes_10crop/Videos/Testing_Normal_Videos_Anomaly/Normal_Videos_911_x264__1.mp4\n",
      "비디오 저장 완료: UCF_Crimes_10crop/Videos/Testing_Normal_Videos_Anomaly/Normal_Videos_911_x264__6.mp4\n",
      "<class 'list'>\n",
      "<class 'numpy.ndarray'>\n",
      "(120, 160, 3)\n",
      "비디오 저장 완료: UCF_Crimes_10crop/Videos/Testing_Normal_Videos_Anomaly/Normal_Videos_911_x264__2.mp4\n",
      "비디오 저장 완료: UCF_Crimes_10crop/Videos/Testing_Normal_Videos_Anomaly/Normal_Videos_911_x264__7.mp4\n",
      "<class 'list'>\n",
      "<class 'numpy.ndarray'>\n",
      "(120, 160, 3)\n"
     ]
    },
    {
     "name": "stderr",
     "output_type": "stream",
     "text": [
      "OpenCV: FFMPEG: tag 0x44495658/'XVID' is not supported with codec id 12 and format 'mp4 / MP4 (MPEG-4 Part 14)'\n",
      "OpenCV: FFMPEG: fallback to use tag 0x7634706d/'mp4v'\n",
      "OpenCV: FFMPEG: tag 0x44495658/'XVID' is not supported with codec id 12 and format 'mp4 / MP4 (MPEG-4 Part 14)'\n",
      "OpenCV: FFMPEG: fallback to use tag 0x7634706d/'mp4v'\n",
      "OpenCV: FFMPEG: tag 0x44495658/'XVID' is not supported with codec id 12 and format 'mp4 / MP4 (MPEG-4 Part 14)'\n",
      "OpenCV: FFMPEG: fallback to use tag 0x7634706d/'mp4v'\n",
      "OpenCV: FFMPEG: tag 0x44495658/'XVID' is not supported with codec id 12 and format 'mp4 / MP4 (MPEG-4 Part 14)'\n",
      "OpenCV: FFMPEG: fallback to use tag 0x7634706d/'mp4v'\n"
     ]
    },
    {
     "name": "stdout",
     "output_type": "stream",
     "text": [
      "비디오 저장 완료: UCF_Crimes_10crop/Videos/Testing_Normal_Videos_Anomaly/Normal_Videos_911_x264__3.mp4\n",
      "비디오 저장 완료: UCF_Crimes_10crop/Videos/Testing_Normal_Videos_Anomaly/Normal_Videos_911_x264__8.mp4\n",
      "<class 'list'>\n",
      "<class 'numpy.ndarray'>\n",
      "(120, 160, 3)\n",
      "비디오 저장 완료: UCF_Crimes_10crop/Videos/Testing_Normal_Videos_Anomaly/Normal_Videos_911_x264__4.mp4\n",
      "비디오 저장 완료: UCF_Crimes_10crop/Videos/Testing_Normal_Videos_Anomaly/Normal_Videos_911_x264__9.mp4\n"
     ]
    },
    {
     "name": "stderr",
     "output_type": "stream",
     "text": [
      "OpenCV: FFMPEG: tag 0x44495658/'XVID' is not supported with codec id 12 and format 'mp4 / MP4 (MPEG-4 Part 14)'\n",
      "OpenCV: FFMPEG: fallback to use tag 0x7634706d/'mp4v'\n",
      "OpenCV: FFMPEG: tag 0x44495658/'XVID' is not supported with codec id 12 and format 'mp4 / MP4 (MPEG-4 Part 14)'\n",
      "OpenCV: FFMPEG: fallback to use tag 0x7634706d/'mp4v'\n"
     ]
    }
   ],
   "source": [
    "import cv2\n",
    "from vidaug import augmentors as va\n",
    "\n",
    "\n",
    "# 사용자 정의 파라미터\n",
    "crop_size = 100\n",
    "frame_step = 5\n",
    "for i in mp4_files:\n",
    "    # 비디오 정보\n",
    "    cap = cv2.VideoCapture(os.path.join(path,i))\n",
    "    width = int(cap.get(cv2.CAP_PROP_FRAME_WIDTH))\n",
    "    height = int(cap.get(cv2.CAP_PROP_FRAME_HEIGHT))\n",
    "    print(width,\" \", height)\n",
    "    if not cap.isOpened():\n",
    "        print(\"Error: Could not open video.\")\n",
    "        exit()\n",
    "    # FPS 확인\n",
    "    fps = cap.get(cv2.CAP_PROP_FPS)\n",
    "    print(f\"FPS: {fps}\")\n",
    "    total_frames = int(cap.get(cv2.CAP_PROP_FRAME_COUNT))\n",
    "    video = []\n",
    "    for frame_idx in range(total_frames):\n",
    "        cap.set(cv2.CAP_PROP_POS_FRAMES, frame_idx)\n",
    "        ret, frame = cap.read()\n",
    "        if not ret:\n",
    "            break\n",
    "        frame = cv2.cvtColor(frame, cv2.COLOR_BGR2RGB)\n",
    "        video.append(frame)\n",
    "\n",
    "    crop_position =['c', 'tl', 'tr', 'bl', 'br']\n",
    "    for crop in crop_position:\n",
    "        seq= va.Sequential([\n",
    "            va.CornerCrop(size = (120,160),crop_position=crop),\n",
    "        ])\n",
    "        seq_mirrored= va.Sequential([\n",
    "            va.CornerCrop(size = (120,160),crop_position=crop),\n",
    "            va.HorizontalFlip()\n",
    "        ])\n",
    "        video_aug = seq(video)\n",
    "        video_aug_mirrored = seq_mirrored(video)\n",
    "        print(type(video_aug))\n",
    "        print(type(video_aug[0]))\n",
    "        print(video_aug[0].shape)\n",
    "        19\n",
    "        # 예제 넘파이 배열 생성 (여기서는 무작위 색상의 이미지 시퀀스를 생성)\n",
    "        frame_height, frame_width = 120 ,160 \n",
    "        fps = 30\n",
    "        crop_dict = {\n",
    "            \"c\": 0,\n",
    "            \"tl\": 1,\n",
    "            \"tr\": 2,\n",
    "            \"bl\": 3,\n",
    "            \"br\": 4,\n",
    "        }\n",
    "        mirrored_crop_dict = {\n",
    "            \"c\": 5,\n",
    "            \"tl\": 6,\n",
    "            \"tr\": 7,\n",
    "            \"bl\": 8,\n",
    "            \"br\": 9,\n",
    "        }\n",
    "        # 비디오 파일 저장 경로와 이름 설정\n",
    "        \n",
    "        output_filename = os.path.join(new_path, f\"{i[:22]}__{crop_dict[crop]}.{i[-3:]}\")\n",
    "        # 비디오 코덱 및 출력 설정\n",
    "        fourcc = cv2.VideoWriter_fourcc(*'XVID')\n",
    "        out = cv2.VideoWriter(output_filename, fourcc, fps, (frame_width, frame_height))\n",
    "        output_filename_mirrored = os.path.join(new_path,  f\"{i[:22]}__{mirrored_crop_dict[crop]}.{i[-3:]}\")\n",
    "        # 비디오 코덱 및 출력 설정\n",
    "        fourcc = cv2.VideoWriter_fourcc(*'XVID')\n",
    "        out2 = cv2.VideoWriter(output_filename_mirrored, fourcc, fps, (frame_width, frame_height))\n",
    "\n",
    "        for video_aug_item in video_aug:\n",
    "            # 프레임을 비디오에 추가\n",
    "            out.write(video_aug_item)\n",
    "        for video_aug_item_mirrored in video_aug_mirrored:\n",
    "            # 프레임을 비디오에 추가\n",
    "            out2.write(video_aug_item_mirrored)\n",
    "        # 작업 완료 후 자원 해제\n",
    "        out.release()\n",
    "        out2.release()\n",
    "\n",
    "        print(f'비디오 저장 완료: {output_filename}')\n",
    "        print(f'비디오 저장 완료: {output_filename_mirrored}')\n",
    "\n",
    "\n",
    "\n",
    "\n"
   ]
  },
  {
   "cell_type": "code",
   "execution_count": 30,
   "metadata": {},
   "outputs": [
    {
     "name": "stdout",
     "output_type": "stream",
     "text": [
      "비디오 저장 완료: output_video.avi\n"
     ]
    }
   ],
   "source": [
    "\n"
   ]
  },
  {
   "cell_type": "code",
   "execution_count": null,
   "metadata": {},
   "outputs": [],
   "source": [
    "import os\n",
    "\n",
    "mp4_files=[]\n",
    "def count_mp4_files(path):\n",
    "  \"\"\"\n",
    "  주어진 경로의 하위 파일들을 전부 검사해서 mp4 파일 개수를 센다.\n",
    "\n",
    "  Args:\n",
    "    path: 하위 파일들을 검사할 경로\n",
    "\n",
    "  Returns:\n",
    "    mp4 파일 개수\n",
    "  \"\"\"\n",
    "\n",
    "  mp4_count = 0\n",
    "  for root, dirs, files in os.walk(path):\n",
    "    for file in files:\n",
    "      if file.endswith(\".mp4\"):\n",
    "        mp4_count += 1\n",
    "        mp4_files.append(file)\n",
    "  return mp4_count\n",
    "\n",
    "rootdir= \"UCF_Crimes\"\n",
    "\n",
    "rootdir_crop= \"UCF_Crimes_10crop\"\n",
    "# 예시\n",
    "path = \"UCF_Crimes/Videos/Testing_Normal_Videos_Anomaly/\"\n",
    "new_path = \"UCF_Crimes_10crop/Videos/Testing_Normal_Videos_Anomaly/\"\n",
    "mp4_count = count_mp4_files(path)\n",
    "print(len(mp4_files))\n",
    "print(mp4_files)\n",
    "print(f\"mp4 파일 개수: {mp4_count}\")\n"
   ]
  },
  {
   "cell_type": "code",
   "execution_count": 10,
   "metadata": {},
   "outputs": [
    {
     "name": "stdout",
     "output_type": "stream",
     "text": [
      "641\n",
      "['C_3_12_33_BU_SMB_09-05_14-04-10_CB_RGB_DF2_M4.mp4', 'C_3_12_23_BU_SYA_10-06_14-30-35_CB_RGB_DF2_M3.mp4', 'C_3_12_1_BU_SMA_08-30_14-35-28_CB_RGB_DF2_M1.mp4', 'C_3_12_19_BU_SMB_09-02_15-42-00_CB_RGB_DF2_M3.mp4', 'C_3_12_15_BU_SYA_09-24_14-03-20_CD_RGB_DF2_F2.mp4', 'C_3_12_35_BU_SMC_10-16_11-11-42_CD_RGB_DF2_F1.mp4', 'C_3_12_24_BU_SMB_09-02_15-52-54_CD_RGB_DF2_M3.mp4', 'C_3_12_13_BU_SMB_09-01_14-47-28_CA_RGB_DF2_F2.mp4', 'C_3_12_17_BU_SYB_09-28_14-34-13_CC_RGB_DF2_F2.mp4', 'C_3_12_30_BU_SYA_10-06_14-37-31_CC_RGB_DF2_F3.mp4', 'C_3_12_8_BU_SYA_09-24_13-43-14_CC_RGB_DF2_M2.mp4', 'C_3_12_17_BU_SMB_09-01_14-43-10_CC_RGB_DF2_F2.mp4', 'C_3_12_3_BU_SMA_08-28_13-56-14_CA_RGB_DF2_M1.mp4', 'C_3_12_3_BU_SMA_08-30_14-41-20_CB_RGB_DF2_M1.mp4', 'C_3_12_22_BU_SYA_10-06_14-28-50_CC_RGB_DF2_M3.mp4', 'C_3_12_19_BU_SYA_10-06_14-40-28_CD_RGB_DF2_M3.mp4', 'C_3_12_17_BU_SYA_09-24_14-06-55_CB_RGB_DF2_F2.mp4', 'C_3_12_29_BU_DYA_08-10_16-50-19_CB_RGB_DF2_M2.mp4', 'C_3_12_1_BU_SMA_08-28_13-50-59_CC_RGB_DF2_M1.mp4', 'C_3_12_37_BU_DYA_08-10_17-21-24_CC_RGB_DF2_F2.mp4', 'C_3_12_26_BU_SMC_08-07_13-27-34_CD_RGB_DF2_M1.mp4', 'C_3_12_38_BU_DYA_07-29_16-02-47_CE_RGB_DF2_F2.mp4', 'C_3_12_7_BU_DYA_07-27_12-15-46_CB_RGB_DF2_M2.mp4', 'C_3_12_10_BU_SYB_09-28_14-10-50_CB_RGB_DF2_M2.mp4', 'C_3_12_25_BU_SYB_10-04_14-51-46_CB_RGB_DF2_F3.mp4', 'C_3_12_32_BU_DYA_07-31_14-26-24_CD_RGB_DF2_F1.mp4', 'C_3_12_7_BU_DYA_07-27_12-15-43_CA_RGB_DF2_M2.mp4', 'C_3_12_9_BU_SMB_09-01_13-50-35_CD_RGB_DF2_M2.mp4', 'C_3_12_17_BU_SYA_09-24_14-06-55_CC_RGB_DF2_F2.mp4', 'C_3_12_16_BU_DYA_07-31_10-55-31_CA_RGB_DF2_M3.mp4', 'C_3_12_8_BU_SYA_09-24_13-43-14_CA_RGB_DF2_M2.mp4', 'C_3_12_27_BU_SMA_09-27_11-04-22_CD_RGB_DF2_F3.mp4', 'C_3_12_10_BU_DYA_07-27_13-01-25_CC_RGB_DF2_F2.mp4', 'C_3_12_23_BU_SMB_09-02_15-50-56_CA_RGB_DF2_M3.mp4', 'C_3_12_27_BU_SMB_09-02_14-43-32_CA_RGB_DF2_F3.mp4', 'C_3_12_14_BU_SYA_09-24_14-01-32_CC_RGB_DF2_F2.mp4', 'C_3_12_4_BU_SMC_08-07_13-35-05_CA_RGB_DF2_F1.mp4', 'C_3_12_28_BU_SYB_10-04_14-40-51_CB_RGB_DF2_F3.mp4', 'C_3_12_11_BU_SYB_09-28_14-13-01_CB_RGB_DF2_M2.mp4', 'C_3_12_36_BU_SMC_10-16_11-16-23_CA_RGB_DF2_F1.mp4', 'C_3_12_29_BU_SYA_10-06_14-35-49_CA_RGB_DF2_F3.mp4', 'C_3_12_12_BU_SMB_09-01_13-58-33_CD_RGB_DF2_M2.mp4', 'C_3_12_4_BU_DYA_07-31_16-21-35_CA_RGB_DF2_F1.mp4', 'C_3_12_29_BU_SMB_09-02_14-38-53_CD_RGB_DF2_F3.mp4', 'C_3_12_32_BU_SMC_10-16_11-02-57_CE_RGB_DF2_M1.mp4', 'C_3_12_6_BU_DYA_08-10_14-12-35_CF_RGB_DF2_M2.mp4', 'C_3_12_20_BU_SMA_09-27_11-37-54_CD_RGB_DF2_M3.mp4', 'C_3_12_25_BU_SMA_09-27_10-59-52_CC_RGB_DF2_F3.mp4', 'C_3_12_8_BU_SMB_09-01_13-48-31_CD_RGB_DF2_M2.mp4', 'C_3_12_15_BU_SYB_09-28_14-30-06_CB_RGB_DF2_F2.mp4', 'C_3_12_9_BU_DYA_07-27_12-21-02_CB_RGB_DF2_M2.mp4', 'C_3_12_11_BU_SYA_09-24_13-33-53_CB_RGB_DF2_M2.mp4', 'C_3_12_7_BU_SMC_08-01_16-08-59_CF_RGB_DF2_M2.mp4', 'C_3_12_25_BU_SYA_10-06_14-46-19_CD_RGB_DF2_F3.mp4', 'C_3_12_30_BU_SYB_10-04_14-43-54_CB_RGB_DF2_F3.mp4', 'C_3_12_2_BU_DYA_07-31_16-17-26_CA_RGB_DF2_M1.mp4', 'C_3_12_29_BU_SYA_10-06_14-35-49_CC_RGB_DF2_F3.mp4', 'C_3_12_36_BU_SMB_09-05_14-02-30_CB_RGB_DF2_F4.mp4', 'C_3_12_1_BU_SMB_08-28_16-25-26_CA_RGB_DF2_M1.mp4', 'C_3_12_13_BU_DYA_07-27_13-08-52_CA_RGB_DF2_F2.mp4', 'C_3_12_9_BU_SMB_09-01_13-50-35_CC_RGB_DF2_M2.mp4', 'C_3_12_11_BU_DYA_08-10_14-59-20_CE_RGB_DF2_F2.mp4', 'C_3_12_24_BU_SMB_09-02_15-52-54_CC_RGB_DF2_M3.mp4', 'C_3_12_14_BU_SYB_09-28_14-28-05_CA_RGB_DF2_F2.mp4', 'C_3_12_12_BU_DYA_08-10_15-01-33_CF_RGB_DF2_F2.mp4', 'C_3_12_19_BU_SYA_10-06_14-40-28_CA_RGB_DF2_M3.mp4', 'C_3_12_20_BU_SYA_10-06_14-42-28_CB_RGB_DF2_M3.mp4', 'C_3_12_25_BU_SMA_09-27_10-59-52_CB_RGB_DF2_F3.mp4', 'C_3_12_10_BU_SYB_09-28_14-10-50_CD_RGB_DF2_M2.mp4', 'C_3_12_10_BU_DYA_07-27_13-01-25_CB_RGB_DF2_F2.mp4', 'C_3_12_1_BU_DYB_08-06_14-31-39_CC_RGB_DF2_M1.mp4', 'C_3_12_4_BU_SMB_08-28_16-31-01_CD_RGB_DF2_F1.mp4', 'C_3_12_15_BU_SYA_09-24_14-03-20_CA_RGB_DF2_F2.mp4', 'C_3_12_19_BU_SMB_09-02_15-42-00_CC_RGB_DF2_M3.mp4', 'C_3_12_22_BU_SMB_09-02_15-48-48_CC_RGB_DF2_M3.mp4', 'C_3_12_3_BU_SMA_08-30_14-41-20_CC_RGB_DF2_M1.mp4', 'C_3_12_8_BU_SMB_09-01_13-48-31_CA_RGB_DF2_M2.mp4', 'C_3_12_16_BU_SYB_09-28_14-32-33_CC_RGB_DF2_F2.mp4', 'C_3_12_1_BU_SMA_08-30_14-35-28_CD_RGB_DF2_M1.mp4', 'C_3_12_17_BU_DYA_07-31_10-57-48_CA_RGB_DF2_M3.mp4', 'C_3_12_10_BU_DYA_08-10_14-54-47_CF_RGB_DF2_M2.mp4', 'C_3_12_29_BU_DYA_08-10_16-50-14_CA_RGB_DF2_M2.mp4', 'C_3_12_19_BU_SYA_10-06_14-40-28_CC_RGB_DF2_M3.mp4', 'C_3_12_11_BU_SYB_09-28_14-13-01_CC_RGB_DF2_M2.mp4', 'C_3_12_25_BU_DYB_08-06_16-42-02_CD_RGB_DF2_M1.mp4', 'C_3_12_26_BU_SYB_10-04_14-53-12_CD_RGB_DF2_F3.mp4', 'C_3_12_22_BU_SYB_10-04_14-45-43_CB_RGB_DF2_M3.mp4', 'C_3_12_18_BU_SMB_09-01_14-45-04_CA_RGB_DF2_F2.mp4', 'C_3_12_23_BU_SMB_09-02_15-50-56_CC_RGB_DF2_M3.mp4', 'C_3_12_2_BU_SMA_08-30_14-38-29_CA_RGB_DF2_M1.mp4', 'C_3_12_7_BU_SMB_09-01_13-46-36_CB_RGB_DF2_M2.mp4', 'C_3_12_25_BU_DYB_08-06_16-42-02_CF_RGB_DF2_M1.mp4', 'C_3_12_24_BU_SMA_09-27_11-47-00_CB_RGB_DF2_M3.mp4', 'C_3_12_6_BU_DYA_07-27_12-13-27_CB_RGB_DF2_M2.mp4', 'C_3_12_27_BU_SYB_10-04_14-54-48_CD_RGB_DF2_F3.mp4', 'C_3_12_30_BU_SMB_09-02_14-40-47_CC_RGB_DF2_F3.mp4', 'C_3_12_5_BU_SMA_08-30_14-46-20_CC_RGB_DF2_F1.mp4', 'C_3_12_31_BU_DYA_08-10_16-54-00_CC_RGB_DF2_M2.mp4', 'C_3_12_34_BU_DYA_07-29_12-00-36_CE_RGB_DF2_M2.mp4', 'C_3_12_26_BU_SYA_10-06_14-47-44_CD_RGB_DF2_F3.mp4', 'C_3_12_6_BU_SMB_08-28_16-34-52_CD_RGB_DF2_F1.mp4', 'C_3_12_2_BU_SMB_08-30_16-55-30_CB_RGB_DF2_M1.mp4', 'C_3_12_30_BU_SYB_10-04_14-43-54_CD_RGB_DF2_F3.mp4', 'C_3_12_13_BU_DYA_08-10_14-49-01_CF_RGB_DF2_F2.mp4', 'C_3_12_21_BU_SYA_10-06_14-44-28_CC_RGB_DF2_M3.mp4', 'C_3_12_23_BU_SYB_10-04_14-48-01_CC_RGB_DF2_M3.mp4', 'C_3_12_36_BU_DYA_08-10_17-19-28_CC_RGB_DF2_F2.mp4', 'C_3_12_7_BU_SYB_09-28_14-18-22_CC_RGB_DF2_M2.mp4', 'C_3_12_19_BU_SMA_09-27_11-36-09_CA_RGB_DF2_M3.mp4', 'C_3_12_24_BU_SMB_09-02_15-52-54_CA_RGB_DF2_M3.mp4', 'C_3_12_20_BU_SMA_09-27_11-37-54_CA_RGB_DF2_M3.mp4', 'C_3_12_29_BU_SYB_10-04_14-42-16_CD_RGB_DF2_F3.mp4', 'C_3_12_30_BU_DYA_07-31_14-21-49_CF_RGB_DF2_M1.mp4', 'C_3_12_27_BU_SMC_08-07_13-29-37_CF_RGB_DF2_M1.mp4', 'C_3_12_8_BU_DYA_07-27_12-18-49_CC_RGB_DF2_M2.mp4', 'C_3_12_10_BU_SYB_09-28_14-10-50_CC_RGB_DF2_M2.mp4', 'C_3_12_1_BU_SMB_08-28_16-25-27_CC_RGB_DF2_M1.mp4', 'C_3_12_10_BU_DYA_08-10_14-54-42_CD_RGB_DF2_M2.mp4', 'C_3_12_3_BU_DYB_08-06_14-37-46_CA_RGB_DF2_F1.mp4', 'C_3_12_36_BU_DYA_08-10_17-19-23_CA_RGB_DF2_F2.mp4', 'C_3_12_6_BU_SMB_08-28_16-34-52_CC_RGB_DF2_F1.mp4', 'C_3_12_18_BU_DYA_07-31_11-28-59_CC_RGB_DF2_M3.mp4', 'C_3_12_35_BU_SMB_09-05_13-59-15_CA_RGB_DF2_F4.mp4', 'C_3_12_29_BU_SMB_09-02_14-38-53_CC_RGB_DF2_F3.mp4', 'C_3_12_28_BU_SYB_10-04_14-40-51_CA_RGB_DF2_F3.mp4', 'C_3_12_19_BU_SMA_09-27_11-36-09_CC_RGB_DF2_M3.mp4', 'C_3_12_29_BU_DYA_07-31_14-14-17_CE_RGB_DF2_M1.mp4', 'C_3_12_12_BU_SMB_09-01_13-58-33_CB_RGB_DF2_M2.mp4', 'C_3_12_3_BU_DYB_08-06_14-37-45_CB_RGB_DF2_F1.mp4', 'C_3_12_3_BU_SMA_08-30_14-41-20_CD_RGB_DF2_M1.mp4', 'C_3_12_2_BU_SMA_08-28_13-53-34_CD_RGB_DF2_M1.mp4', 'C_3_12_9_BU_SMB_09-01_13-50-35_CB_RGB_DF2_M2.mp4', 'C_3_12_32_BU_DYA_08-10_16-56-34_CA_RGB_DF2_M2.mp4', 'C_3_12_15_BU_SYB_09-28_14-30-06_CC_RGB_DF2_F2.mp4', 'C_3_12_5_BU_DYA_07-27_12-11-28_CB_RGB_DF2_M2.mp4', 'C_3_12_5_BU_SMB_08-28_16-32-53_CA_RGB_DF2_F1.mp4', 'C_3_12_23_BU_SMB_09-02_15-50-56_CB_RGB_DF2_M3.mp4', 'C_3_12_36_BU_SMC_10-16_11-16-23_CD_RGB_DF2_F1.mp4', 'C_3_12_26_BU_SMC_08-07_13-27-34_CF_RGB_DF2_M1.mp4', 'C_3_12_23_BU_SYA_10-06_14-30-35_CD_RGB_DF2_M3.mp4', 'C_3_12_14_BU_SYB_09-28_14-28-05_CD_RGB_DF2_F2.mp4', 'C_3_12_26_BU_DYB_08-06_16-44-09_CE_RGB_DF2_M1.mp4', 'C_3_12_28_BU_SYB_10-04_14-40-51_CC_RGB_DF2_F3.mp4', 'C_3_12_8_BU_SMB_09-01_13-48-31_CC_RGB_DF2_M2.mp4', 'C_3_12_27_BU_SMC_08-07_13-29-37_CD_RGB_DF2_M1.mp4', 'C_3_12_14_BU_DYA_08-10_14-51-18_CD_RGB_DF2_F2.mp4', 'C_3_12_32_BU_SMB_09-05_13-52-24_CA_RGB_DF2_M4.mp4', 'C_3_12_5_BU_DYA_08-10_14-07-32_CF_RGB_DF2_M2.mp4', 'C_3_12_35_BU_DYA_07-29_12-02-40_CF_RGB_DF2_M2.mp4', 'C_3_12_18_BU_SYB_09-28_14-35-59_CB_RGB_DF2_F2.mp4', 'C_3_12_27_BU_SMB_09-02_14-43-32_CB_RGB_DF2_F3.mp4', 'C_3_12_18_BU_SMB_09-01_14-45-04_CB_RGB_DF2_F2.mp4', 'C_3_12_8_BU_SYB_09-28_14-20-33_CD_RGB_DF2_M2.mp4', 'C_3_12_5_BU_DYA_07-27_12-11-25_CA_RGB_DF2_M2.mp4', 'C_3_12_19_BU_DYA_07-31_11-27-14_CB_RGB_DF2_M3.mp4', 'C_3_12_29_BU_SMA_09-27_10-54-11_CC_RGB_DF2_F3.mp4', 'C_3_12_39_BU_SMC_10-14_11-41-49_CD_RGB_DF2_M2.mp4', 'C_3_12_19_BU_DYA_07-31_11-27-13_CC_RGB_DF2_M3.mp4', 'C_3_12_18_BU_SYB_09-28_14-35-59_CC_RGB_DF2_F2.mp4', 'C_3_12_6_BU_SMA_08-30_14-48-20_CD_RGB_DF2_F1.mp4', 'C_3_12_37_BU_DYA_07-29_12-07-45_CE_RGB_DF2_M2.mp4', 'C_3_12_28_BU_DYB_08-06_16-51-08_CE_RGB_DF2_F1.mp4', 'C_3_12_27_BU_SYA_10-06_14-49-27_CA_RGB_DF2_F3.mp4', 'C_3_12_21_BU_SYA_10-06_14-44-28_CA_RGB_DF2_M3.mp4', 'C_3_12_23_BU_SYB_10-04_14-48-01_CB_RGB_DF2_M3.mp4', 'C_3_12_38_BU_DYA_08-10_17-23-10_CB_RGB_DF2_F2.mp4', 'C_3_12_35_BU_SMC_10-16_11-11-42_CB_RGB_DF2_F1.mp4', 'C_3_12_5_BU_SMB_08-28_16-32-53_CC_RGB_DF2_F1.mp4', 'C_3_12_21_BU_SMB_09-02_15-45-53_CD_RGB_DF2_M3.mp4', 'C_3_12_29_BU_DYA_08-10_16-50-20_CC_RGB_DF2_M2.mp4', 'C_3_12_33_BU_DYA_07-29_11-52-59_CE_RGB_DF2_M2.mp4', 'C_3_12_25_BU_SYB_10-04_14-51-46_CA_RGB_DF2_F3.mp4', 'C_3_12_21_BU_SMA_09-27_11-39-59_CB_RGB_DF2_M3.mp4', 'C_3_12_17_BU_SMB_09-01_14-43-10_CB_RGB_DF2_F2.mp4', 'C_3_12_16_BU_SMB_09-01_14-40-24_CB_RGB_DF2_F2.mp4', 'C_3_12_1_BU_SYB_09-17_11-54-32_CB_RGB_DF2_M1.mp4', 'C_3_12_10_BU_SMB_09-01_13-52-38_CC_RGB_DF2_M2.mp4', 'C_3_12_25_BU_SYA_10-06_14-46-19_CC_RGB_DF2_F3.mp4', 'C_3_12_13_BU_SMB_09-01_14-47-28_CB_RGB_DF2_F2.mp4', 'C_3_12_14_BU_SMC_07-27_13-13-46_CC_RGB_DF2_F2.mp4', 'C_3_12_36_BU_DYA_07-29_12-05-40_CD_RGB_DF2_M2.mp4', 'C_3_12_14_BU_SMB_09-01_14-49-58_CA_RGB_DF2_F2.mp4', 'C_3_12_26_BU_SMB_09-02_14-17-46_CA_RGB_DF2_F3.mp4', 'C_3_12_8_BU_SYB_09-28_14-20-33_CA_RGB_DF2_M2.mp4', 'C_3_12_38_BU_DYA_08-10_17-23-04_CA_RGB_DF2_F2.mp4', 'C_3_12_25_BU_SYA_10-06_14-46-19_CB_RGB_DF2_F3.mp4', 'C_3_12_21_BU_SYA_10-06_14-44-28_CB_RGB_DF2_M3.mp4', 'C_3_12_4_BU_DYB_08-06_14-42-11_CA_RGB_DF2_F1.mp4', 'C_3_12_25_BU_DYA_08-12_13-48-02_CC_RGB_DF2_M4.mp4', 'C_3_12_27_BU_SYB_10-04_14-54-48_CB_RGB_DF2_F3.mp4', 'C_3_12_28_BU_SMC_08-07_13-31-55_CF_RGB_DF2_F1.mp4', 'C_3_12_33_BU_SMB_09-05_14-04-07_CA_RGB_DF2_M4.mp4', 'C_3_12_26_BU_SYB_10-04_14-53-12_CB_RGB_DF2_F3.mp4', 'C_3_12_23_BU_SMA_09-27_11-44-39_CC_RGB_DF2_M3.mp4', 'C_3_12_40_BU_DYA_07-29_16-07-39_CF_RGB_DF2_F2.mp4', 'C_3_12_7_BU_DYA_08-10_14-14-52_CF_RGB_DF2_M2.mp4', 'C_3_12_27_BU_SYB_10-04_14-54-48_CC_RGB_DF2_F3.mp4', 'C_3_12_21_BU_SMB_09-02_15-45-53_CC_RGB_DF2_M3.mp4', 'C_3_12_36_BU_DYA_08-10_17-19-28_CB_RGB_DF2_F2.mp4', 'C_3_12_30_BU_DYA_07-31_14-21-46_CD_RGB_DF2_M1.mp4', 'C_3_12_27_BU_SYB_10-04_14-54-48_CA_RGB_DF2_F3.mp4', 'C_3_12_28_BU_DYB_08-06_16-51-09_CD_RGB_DF2_F1.mp4', 'C_3_12_1_BU_DYB_08-06_14-31-40_CB_RGB_DF2_M1.mp4', 'C_3_12_13_BU_SYB_09-28_14-26-16_CC_RGB_DF2_F2.mp4', 'C_3_12_34_BU_SMB_09-05_13-56-05_CB_RGB_DF2_F4.mp4', 'C_3_12_4_BU_DYB_08-06_14-42-09_CC_RGB_DF2_F1.mp4', 'C_3_12_34_BU_SMB_09-05_13-56-05_CD_RGB_DF2_F4.mp4', 'C_3_12_1_BU_SMC_08-07_13-30-11_CB_RGB_DF2_M1.mp4', 'C_3_12_16_BU_DYA_07-31_10-55-33_CC_RGB_DF2_M3.mp4', 'C_3_12_11_BU_SYA_09-24_13-33-53_CA_RGB_DF2_M2.mp4', 'C_3_12_30_BU_SMC_08-07_13-35-21_CE_RGB_DF2_F1.mp4', 'C_3_12_29_BU_SMB_09-02_14-38-53_CA_RGB_DF2_F3.mp4', 'C_3_12_7_BU_SMB_09-01_13-46-36_CC_RGB_DF2_M2.mp4', 'C_3_12_6_BU_SMB_08-28_16-34-52_CB_RGB_DF2_F1.mp4', 'C_3_12_15_BU_DYA_07-31_10-53-32_CC_RGB_DF2_M3.mp4', 'C_3_12_14_BU_SYA_09-24_14-01-32_CB_RGB_DF2_F2.mp4', 'C_3_12_8_BU_SMC_08-01_16-10-51_CE_RGB_DF2_M2.mp4', 'C_3_12_5_BU_DYA_07-27_12-11-28_CC_RGB_DF2_M2.mp4', 'C_3_12_2_BU_SMB_08-28_16-27-06_CC_RGB_DF2_M1.mp4', 'C_3_12_40_BU_DYB_10-16_14-49-01_CD_RGB_DF2_M1.mp4', 'C_3_12_18_BU_DYA_07-31_11-28-59_CB_RGB_DF2_M3.mp4', 'C_3_12_39_BU_SMC_10-14_11-41-49_CE_RGB_DF2_M2.mp4', 'C_3_12_5_BU_SMA_08-30_14-46-20_CA_RGB_DF2_F1.mp4', 'C_3_12_9_BU_SYB_09-28_14-22-30_CB_RGB_DF2_M2.mp4', 'C_3_12_6_BU_SMB_08-28_16-34-52_CA_RGB_DF2_F1.mp4', 'C_3_12_9_BU_DYA_08-10_14-19-46_CD_RGB_DF2_M2.mp4', 'C_3_12_12_BU_DYA_07-27_13-06-22_CC_RGB_DF2_F2.mp4', 'C_3_12_30_BU_SMB_09-02_14-40-47_CD_RGB_DF2_F3.mp4', 'C_3_12_26_BU_SMA_09-27_11-02-07_CA_RGB_DF2_F3.mp4', 'C_3_12_27_BU_SMA_09-27_11-04-22_CB_RGB_DF2_F3.mp4', 'C_3_12_14_BU_DYA_08-10_14-51-23_CF_RGB_DF2_F2.mp4', 'C_3_12_36_BU_DYA_07-29_12-05-40_CE_RGB_DF2_M2.mp4', 'C_3_12_3_BU_SMA_08-30_14-41-20_CA_RGB_DF2_M1.mp4', 'C_3_12_15_BU_SMB_09-01_14-52-11_CB_RGB_DF2_F2.mp4', 'C_3_12_21_BU_SMA_09-27_11-39-59_CC_RGB_DF2_M3.mp4', 'C_3_12_17_BU_SYB_09-28_14-34-13_CD_RGB_DF2_F2.mp4', 'C_3_12_7_BU_SMC_08-01_16-08-59_CE_RGB_DF2_M2.mp4', 'C_3_12_10_BU_DYA_08-10_14-54-47_CE_RGB_DF2_M2.mp4', 'C_3_12_12_BU_SMB_09-01_13-58-33_CC_RGB_DF2_M2.mp4', 'C_3_12_8_BU_SYA_09-24_13-43-14_CB_RGB_DF2_M2.mp4', 'C_3_12_32_BU_SMC_10-16_11-02-57_CD_RGB_DF2_M1.mp4', 'C_3_12_1_BU_SMB_08-28_16-25-26_CB_RGB_DF2_M1.mp4', 'C_3_12_4_BU_DYA_07-31_16-21-38_CC_RGB_DF2_F1.mp4', 'C_3_12_6_BU_DYA_07-27_12-13-27_CC_RGB_DF2_M2.mp4', 'C_3_12_4_BU_SMA_08-30_14-43-28_CA_RGB_DF2_F1.mp4', 'C_3_12_39_BU_DYA_07-29_16-05-15_CE_RGB_DF2_F2.mp4', 'C_3_12_9_BU_SMB_09-01_13-50-35_CA_RGB_DF2_M2.mp4', 'C_3_12_26_BU_SMA_09-27_11-02-07_CC_RGB_DF2_F3.mp4', 'C_3_12_21_BU_SYB_10-04_14-59-45_CB_RGB_DF2_M3.mp4', 'C_3_12_40_BU_SMC_10-14_11-43-44_CC_RGB_DF2_M2.mp4', 'C_3_12_38_BU_DYA_08-10_17-23-10_CC_RGB_DF2_F2.mp4', 'C_3_12_38_BU_SMC_10-16_11-18-38_CB_RGB_DF2_F1.mp4', 'C_3_12_40_BU_SMC_10-14_11-43-44_CB_RGB_DF2_M2.mp4', 'C_3_12_2_BU_SMC_08-07_13-31-31_CA_RGB_DF2_M1.mp4', 'C_3_12_36_BU_SMC_10-16_11-16-23_CB_RGB_DF2_F1.mp4', 'C_3_12_28_BU_SMB_09-02_14-37-10_CD_RGB_DF2_F3.mp4', 'C_3_12_7_BU_DYA_08-10_14-14-52_CE_RGB_DF2_M2.mp4', 'C_3_12_19_BU_SYB_10-04_14-56-37_CA_RGB_DF2_M3.mp4', 'C_3_12_25_BU_SYB_10-04_14-51-46_CD_RGB_DF2_F3.mp4', 'C_3_12_20_BU_SYB_10-04_14-58-13_CD_RGB_DF2_M3.mp4', 'C_3_12_2_BU_SMA_08-28_13-53-33_CC_RGB_DF2_M1.mp4', 'C_3_12_38_BU_DYA_07-29_16-02-47_CF_RGB_DF2_F2.mp4', 'C_3_12_15_BU_SMB_09-01_14-52-11_CD_RGB_DF2_F2.mp4', 'C_3_12_28_BU_SMC_08-07_13-31-55_CE_RGB_DF2_F1.mp4', 'C_3_12_13_BU_DYA_07-27_13-08-55_CC_RGB_DF2_F2.mp4', 'C_3_12_20_BU_SMA_09-27_11-37-54_CC_RGB_DF2_M3.mp4', 'C_3_12_12_BU_SYB_09-28_14-15-56_CB_RGB_DF2_M2.mp4', 'C_3_12_23_BU_SMA_09-27_11-44-39_CA_RGB_DF2_M3.mp4', 'C_3_12_2_BU_SMB_08-28_16-27-05_CA_RGB_DF2_M1.mp4', 'C_3_12_22_BU_SYB_10-04_14-45-43_CC_RGB_DF2_M3.mp4', 'C_3_12_16_BU_SYA_09-24_14-05-11_CD_RGB_DF2_F2.mp4', 'C_3_12_17_BU_DYA_07-31_10-57-50_CC_RGB_DF2_M3.mp4', 'C_3_12_9_BU_DYA_07-27_12-20-59_CA_RGB_DF2_M2.mp4', 'C_3_12_18_BU_SYA_09-24_14-08-44_CB_RGB_DF2_F2.mp4', 'C_3_12_24_BU_SYB_10-04_14-50-14_CA_RGB_DF2_M3.mp4', 'C_3_12_19_BU_SYA_10-06_14-40-28_CB_RGB_DF2_M3.mp4', 'C_3_12_26_BU_SYA_10-06_14-47-44_CB_RGB_DF2_F3.mp4', 'C_3_12_2_BU_SMC_08-07_13-31-31_CB_RGB_DF2_M1.mp4', 'C_3_12_3_BU_SMB_08-28_16-29-25_CC_RGB_DF2_M1.mp4', 'C_3_12_27_BU_SYA_10-06_14-49-27_CC_RGB_DF2_F3.mp4', 'C_3_12_15_BU_SMB_09-01_14-52-11_CC_RGB_DF2_F2.mp4', 'C_3_12_23_BU_SMA_09-27_11-44-39_CD_RGB_DF2_M3.mp4', 'C_3_12_19_BU_SMA_09-27_11-36-09_CD_RGB_DF2_M3.mp4', 'C_3_12_24_BU_SYB_10-04_14-50-14_CC_RGB_DF2_M3.mp4', 'C_3_12_11_BU_DYA_07-27_13-03-06_CA_RGB_DF2_F2.mp4', 'C_3_12_12_BU_SYB_09-28_14-15-56_CA_RGB_DF2_M2.mp4', 'C_3_12_8_BU_DYA_08-10_14-17-23_CD_RGB_DF2_M2.mp4', 'C_3_12_29_BU_SYB_10-04_14-42-16_CC_RGB_DF2_F3.mp4', 'C_3_12_1_BU_SMB_08-28_16-25-26_CD_RGB_DF2_M1.mp4', 'C_3_12_3_BU_DYA_07-31_16-19-58_CC_RGB_DF2_F1.mp4', 'C_3_12_20_BU_SMB_09-02_15-43-51_CA_RGB_DF2_M3.mp4', 'C_3_12_40_BU_DYB_10-16_14-49-01_CB_RGB_DF2_M1.mp4', 'C_3_12_36_BU_SMB_09-05_14-02-27_CA_RGB_DF2_F4.mp4', 'C_3_12_19_BU_SMB_09-02_15-42-00_CA_RGB_DF2_M3.mp4', 'C_3_12_9_BU_DYA_08-10_14-19-51_CE_RGB_DF2_M2.mp4', 'C_3_12_14_BU_SMC_07-27_13-13-47_CB_RGB_DF2_F2.mp4', 'C_3_12_2_BU_SMA_08-30_14-38-29_CB_RGB_DF2_M1.mp4', 'C_3_12_6_BU_SMB_08-30_16-48-55_CB_RGB_DF2_F1.mp4', 'C_3_12_31_BU_DYA_07-31_14-23-44_CD_RGB_DF2_F1.mp4', 'C_3_12_25_BU_DYA_08-12_13-48-02_CB_RGB_DF2_M4.mp4', 'C_3_12_3_BU_DYB_08-06_14-37-45_CC_RGB_DF2_F1.mp4', 'C_3_12_24_BU_SYA_10-06_14-32-37_CD_RGB_DF2_M3.mp4', 'C_3_12_24_BU_SYB_10-04_14-50-14_CB_RGB_DF2_M3.mp4', 'C_3_12_20_BU_SYB_10-04_14-58-13_CB_RGB_DF2_M3.mp4', 'C_3_12_2_BU_SMB_08-30_16-55-30_CA_RGB_DF2_M1.mp4', 'C_3_12_18_BU_SYA_09-24_14-08-44_CA_RGB_DF2_F2.mp4', 'C_3_12_18_BU_SMB_09-01_14-45-04_CD_RGB_DF2_F2.mp4', 'C_3_12_5_BU_DYA_08-10_14-07-27_CD_RGB_DF2_M2.mp4', 'C_3_12_6_BU_DYA_08-10_14-12-34_CE_RGB_DF2_M2.mp4', 'C_3_12_6_BU_DYA_08-10_14-12-29_CD_RGB_DF2_M2.mp4', 'C_3_12_30_BU_SMC_08-07_13-35-21_CD_RGB_DF2_F1.mp4', 'C_3_12_23_BU_SYA_10-06_14-30-35_CA_RGB_DF2_M3.mp4', 'C_3_12_35_BU_DYA_08-10_17-17-36_CC_RGB_DF2_F2.mp4', 'C_3_12_34_BU_DYA_08-10_17-14-02_CA_RGB_DF2_M2.mp4', 'C_3_12_22_BU_SMA_09-27_11-42-30_CA_RGB_DF2_M3.mp4', 'C_3_12_2_BU_SMB_08-28_16-27-06_CD_RGB_DF2_M1.mp4', 'C_3_12_10_BU_SMB_09-01_13-52-38_CA_RGB_DF2_M2.mp4', 'C_3_12_26_BU_SMA_09-27_11-02-07_CD_RGB_DF2_F3.mp4', 'C_3_12_21_BU_SMB_09-02_15-45-53_CA_RGB_DF2_M3.mp4', 'C_3_12_4_BU_DYA_07-31_16-21-38_CB_RGB_DF2_F1.mp4', 'C_3_12_3_BU_SMB_08-28_16-29-24_CA_RGB_DF2_M1.mp4', 'C_3_12_19_BU_DYA_07-31_11-28-56_CA_RGB_DF2_M3.mp4', 'C_3_12_8_BU_SYB_09-28_14-20-33_CC_RGB_DF2_M2.mp4', 'C_3_12_3_BU_SMC_08-07_13-33-07_CA_RGB_DF2_M1.mp4', 'C_3_12_24_BU_SYA_10-06_14-32-37_CA_RGB_DF2_M3.mp4', 'C_3_12_21_BU_SMA_09-27_11-39-59_CD_RGB_DF2_M3.mp4', 'C_3_12_40_BU_DYA_07-29_16-07-39_CE_RGB_DF2_F2.mp4', 'C_3_12_10_BU_SMB_09-01_13-52-38_CB_RGB_DF2_M2.mp4', 'C_3_12_5_BU_SMB_08-30_16-45-28_CA_RGB_DF2_F1.mp4', 'C_3_12_1_BU_DYA_07-31_16-15-04_CB_RGB_DF2_M1.mp4', 'C_3_12_21_BU_SMA_09-27_11-39-59_CA_RGB_DF2_M3.mp4', 'C_3_12_11_BU_SYA_09-24_13-33-53_CD_RGB_DF2_M2.mp4', 'C_3_12_10_BU_DYA_07-27_13-01-22_CA_RGB_DF2_F2.mp4', 'C_3_12_5_BU_SMB_08-28_16-32-52_CB_RGB_DF2_F1.mp4', 'C_3_12_17_BU_SMB_09-01_14-43-10_CD_RGB_DF2_F2.mp4', 'C_3_12_19_BU_SYB_10-04_14-56-37_CC_RGB_DF2_M3.mp4', 'C_3_12_5_BU_DYA_08-10_14-07-32_CE_RGB_DF2_M2.mp4', 'C_3_12_19_BU_SMA_09-27_11-36-09_CB_RGB_DF2_M3.mp4', 'C_3_12_17_BU_SYB_09-28_14-34-13_CB_RGB_DF2_F2.mp4', 'C_3_12_29_BU_SMA_09-27_10-54-11_CB_RGB_DF2_F3.mp4', 'C_3_12_40_BU_SMC_10-14_11-43-44_CA_RGB_DF2_M2.mp4', 'C_3_12_1_BU_SMC_08-07_13-30-11_CC_RGB_DF2_M1.mp4', 'C_3_12_29_BU_SMC_08-07_13-33-42_CE_RGB_DF2_F1.mp4', 'C_3_12_26_BU_SYB_10-04_14-53-12_CA_RGB_DF2_F3.mp4', 'C_3_12_3_BU_SMA_08-28_13-56-14_CB_RGB_DF2_M1.mp4', 'C_3_12_16_BU_SYB_09-28_14-32-33_CD_RGB_DF2_F2.mp4', 'C_3_12_28_BU_SYB_10-04_14-40-51_CD_RGB_DF2_F3.mp4', 'C_3_12_3_BU_DYA_07-31_16-19-54_CA_RGB_DF2_F1.mp4', 'C_3_12_27_BU_DYB_08-06_16-48-44_CF_RGB_DF2_F1.mp4', 'C_3_12_14_BU_SMB_09-01_14-49-58_CB_RGB_DF2_F2.mp4', 'C_3_12_20_BU_SMB_09-02_15-43-51_CC_RGB_DF2_M3.mp4', 'C_3_12_21_BU_SYB_10-04_14-59-45_CD_RGB_DF2_M3.mp4', 'C_3_12_5_BU_SMC_08-07_13-37-21_CB_RGB_DF2_F1.mp4', 'C_3_12_12_BU_SYB_09-28_14-15-56_CC_RGB_DF2_M2.mp4', 'C_3_12_29_BU_SMA_09-27_10-54-11_CA_RGB_DF2_F3.mp4', 'C_3_12_6_BU_SMC_08-07_13-39-04_CB_RGB_DF2_F1.mp4', 'C_3_12_25_BU_SMC_08-07_13-26-00_CF_RGB_DF2_M1.mp4', 'C_3_12_22_BU_SMA_09-27_11-42-30_CC_RGB_DF2_M3.mp4', 'C_3_12_33_BU_DYA_08-10_16-58-28_CB_RGB_DF2_M2.mp4', 'C_3_12_30_BU_SMB_09-02_14-40-47_CA_RGB_DF2_F3.mp4', 'C_3_12_24_BU_SMA_09-27_11-47-00_CC_RGB_DF2_M3.mp4', 'C_3_12_39_BU_SMC_10-14_11-41-49_CA_RGB_DF2_M2.mp4', 'C_3_12_5_BU_SMA_08-30_14-46-20_CB_RGB_DF2_F1.mp4', 'C_3_12_18_BU_DYA_07-31_11-27-11_CA_RGB_DF2_M3.mp4', 'C_3_12_10_BU_SYB_09-28_14-10-50_CA_RGB_DF2_M2.mp4', 'C_3_12_22_BU_SYA_10-06_14-28-50_CB_RGB_DF2_M3.mp4', 'C_3_12_7_BU_SMB_09-01_13-46-36_CA_RGB_DF2_M2.mp4', 'C_3_12_31_BU_DYA_08-10_16-53-54_CA_RGB_DF2_M2.mp4', 'C_3_12_39_BU_DYA_07-29_16-05-15_CD_RGB_DF2_F2.mp4', 'C_3_12_39_BU_DYB_10-16_14-45-25_CB_RGB_DF2_M1.mp4', 'C_3_12_18_BU_SMB_09-01_14-45-04_CC_RGB_DF2_F2.mp4', 'C_3_12_32_BU_DYA_07-31_14-26-27_CE_RGB_DF2_F1.mp4', 'C_3_12_26_BU_DYB_08-06_16-44-09_CF_RGB_DF2_M1.mp4', 'C_3_12_12_BU_DYA_07-27_13-06-19_CA_RGB_DF2_F2.mp4', 'C_3_12_27_BU_SYA_10-06_14-49-27_CB_RGB_DF2_F3.mp4', 'C_3_12_11_BU_SMB_09-01_13-56-40_CC_RGB_DF2_M2.mp4', 'C_3_12_9_BU_SYB_09-28_14-22-30_CC_RGB_DF2_M2.mp4', 'C_3_12_14_BU_SYA_09-24_14-01-32_CD_RGB_DF2_F2.mp4', 'C_3_12_30_BU_DYA_08-10_16-52-01_CB_RGB_DF2_M2.mp4', 'C_3_12_20_BU_SYA_10-06_14-42-28_CD_RGB_DF2_M3.mp4', 'C_3_12_39_BU_DYB_10-16_14-45-25_CD_RGB_DF2_M1.mp4', 'C_3_12_8_BU_SMC_08-01_16-10-52_CF_RGB_DF2_M2.mp4', 'C_3_12_22_BU_SMB_09-02_15-48-48_CB_RGB_DF2_M3.mp4', 'C_3_12_16_BU_SYB_09-28_14-32-33_CB_RGB_DF2_F2.mp4', 'C_3_12_14_BU_DYA_08-10_14-51-22_CE_RGB_DF2_F2.mp4', 'C_3_12_11_BU_SMB_09-01_13-56-40_CA_RGB_DF2_M2.mp4', 'C_3_12_16_BU_SYB_09-28_14-32-33_CA_RGB_DF2_F2.mp4', 'C_3_12_1_BU_SYB_09-17_11-54-32_CA_RGB_DF2_M1.mp4', 'C_3_12_1_BU_SMA_08-30_14-35-28_CC_RGB_DF2_M1.mp4', 'C_3_12_13_BU_SYB_09-28_14-26-16_CD_RGB_DF2_F2.mp4', 'C_3_12_21_BU_SYA_10-06_14-44-28_CD_RGB_DF2_M3.mp4', 'C_3_12_30_BU_SYA_10-06_14-37-31_CA_RGB_DF2_F3.mp4', 'C_3_12_2_BU_DYB_08-06_14-35-50_CC_RGB_DF2_M1.mp4', 'C_3_12_2_BU_SMC_08-07_13-31-31_CC_RGB_DF2_M1.mp4', 'C_3_12_2_BU_DYB_08-06_14-35-52_CA_RGB_DF2_M1.mp4', 'C_3_12_34_BU_DYA_07-29_12-00-36_CC_RGB_DF2_M2.mp4', 'C_3_12_5_BU_SMB_08-30_16-45-28_CB_RGB_DF2_F1.mp4', 'C_3_12_20_BU_SYB_10-04_14-58-13_CA_RGB_DF2_M3.mp4', 'C_3_12_16_BU_SYA_09-24_14-05-11_CA_RGB_DF2_F2.mp4', 'C_3_12_3_BU_SMC_08-07_13-33-07_CC_RGB_DF2_M1.mp4', 'C_3_12_28_BU_SMA_09-27_11-51-56_CA_RGB_DF2_F3.mp4', 'C_3_12_20_BU_SYB_10-04_14-58-13_CC_RGB_DF2_M3.mp4', 'C_3_12_31_BU_DYA_07-31_14-23-47_CF_RGB_DF2_F1.mp4', 'C_3_12_19_BU_SYB_10-04_14-56-37_CD_RGB_DF2_M3.mp4', 'C_3_12_8_BU_DYA_08-10_14-17-28_CE_RGB_DF2_M2.mp4', 'C_3_12_29_BU_SYB_10-04_14-42-16_CA_RGB_DF2_F3.mp4', 'C_3_12_16_BU_SMB_09-01_14-40-24_CD_RGB_DF2_F2.mp4', 'C_3_12_11_BU_SYA_09-24_13-33-53_CC_RGB_DF2_M2.mp4', 'C_3_12_4_BU_SMC_08-07_13-35-05_CC_RGB_DF2_F1.mp4', 'C_3_12_4_BU_SMA_08-30_14-43-28_CB_RGB_DF2_F1.mp4', 'C_3_12_29_BU_SMA_09-27_10-54-11_CD_RGB_DF2_F3.mp4', 'C_3_12_26_BU_SMB_09-02_14-17-46_CD_RGB_DF2_F3.mp4', 'C_3_12_5_BU_SMA_08-28_14-03-02_CA_RGB_DF2_F1.mp4', 'C_3_12_17_BU_SYB_09-28_14-34-13_CA_RGB_DF2_F2.mp4', 'C_3_12_34_BU_SYB_09-14_15-26-14_CA_RGB_DF2_F4.mp4', 'C_3_12_29_BU_SYA_10-06_14-35-49_CD_RGB_DF2_F3.mp4', 'C_3_12_5_BU_SMC_08-07_13-37-21_CC_RGB_DF2_F1.mp4', 'C_3_12_24_BU_SYB_10-04_14-50-14_CD_RGB_DF2_M3.mp4', 'C_3_12_3_BU_SMB_08-28_16-29-24_CD_RGB_DF2_M1.mp4', 'C_3_12_2_BU_SMA_08-30_14-38-29_CD_RGB_DF2_M1.mp4', 'C_3_12_11_BU_SYB_09-28_14-13-01_CA_RGB_DF2_M2.mp4', 'C_3_12_4_BU_SMA_08-30_14-43-28_CD_RGB_DF2_F1.mp4', 'C_3_12_33_BU_DYA_08-10_16-58-28_CC_RGB_DF2_M2.mp4', 'C_3_12_20_BU_SYA_10-06_14-42-28_CA_RGB_DF2_M3.mp4', 'C_3_12_2_BU_SMA_08-30_14-38-29_CC_RGB_DF2_M1.mp4', 'C_3_12_6_BU_SMA_08-28_14-04-52_CB_RGB_DF2_F1.mp4', 'C_3_12_11_BU_DYA_07-27_13-03-09_CB_RGB_DF2_F2.mp4', 'C_3_12_2_BU_DYA_07-31_16-17-29_CC_RGB_DF2_M1.mp4', 'C_3_12_22_BU_SMB_09-02_15-48-48_CA_RGB_DF2_M3.mp4', 'C_3_12_29_BU_SYB_10-04_14-42-16_CB_RGB_DF2_F3.mp4', 'C_3_12_26_BU_SYA_10-06_14-47-44_CC_RGB_DF2_F3.mp4', 'C_3_12_31_BU_SMC_10-16_11-00-59_CB_RGB_DF2_M1.mp4', 'C_3_12_15_BU_SYB_09-28_14-30-06_CA_RGB_DF2_F2.mp4', 'C_3_12_13_BU_SYB_09-28_14-26-16_CB_RGB_DF2_F2.mp4', 'C_3_12_31_BU_SMC_10-16_11-00-59_CD_RGB_DF2_M1.mp4', 'C_3_12_14_BU_SYB_09-28_14-28-05_CC_RGB_DF2_F2.mp4', 'C_3_12_5_BU_SMC_08-07_13-37-21_CA_RGB_DF2_F1.mp4', 'C_3_12_5_BU_SMB_08-28_16-32-53_CD_RGB_DF2_F1.mp4', 'C_3_12_15_BU_DYA_07-31_10-53-32_CB_RGB_DF2_M3.mp4', 'C_3_12_6_BU_SMC_08-07_13-39-04_CA_RGB_DF2_F1.mp4', 'C_3_12_13_BU_SYA_09-24_13-55-50_CB_RGB_DF2_F2.mp4', 'C_3_12_4_BU_SMA_08-30_14-43-28_CC_RGB_DF2_F1.mp4', 'C_3_12_2_BU_SMA_08-28_13-53-34_CA_RGB_DF2_M1.mp4', 'C_3_12_1_BU_DYB_08-06_14-31-40_CA_RGB_DF2_M1.mp4', 'C_3_12_28_BU_SMB_09-02_14-37-10_CB_RGB_DF2_F3.mp4', 'C_3_12_3_BU_SMA_08-28_13-56-13_CC_RGB_DF2_M1.mp4', 'C_3_12_3_BU_SMA_08-28_13-56-13_CD_RGB_DF2_M1.mp4', 'C_3_12_6_BU_DYA_07-27_12-13-25_CA_RGB_DF2_M2.mp4', 'C_3_12_24_BU_SMB_09-02_15-52-54_CB_RGB_DF2_M3.mp4', 'C_3_12_8_BU_SMC_08-01_16-10-50_CD_RGB_DF2_M2.mp4', 'C_3_12_35_BU_DYA_08-10_17-17-35_CB_RGB_DF2_F2.mp4', 'C_3_12_30_BU_SMA_09-27_10-56-48_CD_RGB_DF2_F3.mp4', 'C_3_12_26_BU_SMB_09-02_14-17-46_CB_RGB_DF2_F3.mp4', 'C_3_12_40_BU_DYB_10-16_14-49-01_CA_RGB_DF2_M1.mp4', 'C_3_12_26_BU_SMC_08-07_13-27-34_CE_RGB_DF2_M1.mp4', 'C_3_12_22_BU_SMA_09-27_11-42-30_CB_RGB_DF2_M3.mp4', 'C_3_12_32_BU_SMB_09-05_13-52-27_CB_RGB_DF2_M4.mp4', 'C_3_12_23_BU_SMA_09-27_11-44-39_CB_RGB_DF2_M3.mp4', 'C_3_12_25_BU_SMA_09-27_10-59-52_CA_RGB_DF2_F3.mp4', 'C_3_12_27_BU_SMA_09-27_11-04-22_CA_RGB_DF2_F3.mp4', 'C_3_12_13_BU_DYA_08-10_14-48-56_CD_RGB_DF2_F2.mp4', 'C_3_12_25_BU_SMC_08-07_13-26-00_CE_RGB_DF2_M1.mp4', 'C_3_12_19_BU_SYB_10-04_14-56-37_CB_RGB_DF2_M3.mp4', 'C_3_12_23_BU_SMB_09-02_15-50-56_CD_RGB_DF2_M3.mp4', 'C_3_12_28_BU_DYB_08-06_16-51-08_CF_RGB_DF2_F1.mp4', 'C_3_12_25_BU_SMC_08-07_13-26-00_CD_RGB_DF2_M1.mp4', 'C_3_12_34_BU_DYA_07-29_12-00-36_CF_RGB_DF2_M2.mp4', 'C_3_12_6_BU_SMC_08-07_13-39-04_CC_RGB_DF2_F1.mp4', 'C_3_12_15_BU_SMB_09-01_14-52-11_CA_RGB_DF2_F2.mp4', 'C_3_12_36_BU_SMC_10-16_11-16-23_CE_RGB_DF2_F1.mp4', 'C_3_12_1_BU_SMA_08-28_13-50-59_CD_RGB_DF2_M1.mp4', 'C_3_12_28_BU_SMB_09-02_14-37-10_CC_RGB_DF2_F3.mp4', 'C_3_12_23_BU_SYB_10-04_14-48-01_CD_RGB_DF2_M3.mp4', 'C_3_12_20_BU_SMA_09-27_11-37-54_CB_RGB_DF2_M3.mp4', 'C_3_12_25_BU_DYB_08-06_16-42-03_CD_RGB_DF2_M1.mp4', 'C_3_12_35_BU_SMB_09-05_13-59-18_CB_RGB_DF2_F4.mp4', 'C_3_12_30_BU_DYA_07-31_14-21-49_CE_RGB_DF2_M1.mp4', 'C_3_12_16_BU_DYA_07-31_10-55-34_CB_RGB_DF2_M3.mp4', 'C_3_12_5_BU_SMA_08-30_14-46-20_CD_RGB_DF2_F1.mp4', 'C_3_12_13_BU_DYA_08-10_14-49-01_CE_RGB_DF2_F2.mp4', 'C_3_12_22_BU_SMB_09-02_15-48-48_CD_RGB_DF2_M3.mp4', 'C_3_12_27_BU_SMC_08-07_13-29-37_CE_RGB_DF2_M1.mp4', 'C_3_12_14_BU_SYB_09-28_14-28-05_CB_RGB_DF2_F2.mp4', 'C_3_12_30_BU_SYA_10-06_14-37-31_CD_RGB_DF2_F3.mp4', 'C_3_12_16_BU_SMB_09-01_14-40-24_CC_RGB_DF2_F2.mp4', 'C_3_12_35_BU_DYA_07-29_12-02-40_CE_RGB_DF2_M2.mp4', 'C_3_12_11_BU_SMB_09-01_13-56-40_CB_RGB_DF2_M2.mp4', 'C_3_12_11_BU_SMB_09-01_13-56-40_CD_RGB_DF2_M2.mp4', 'C_3_12_24_BU_SMA_09-27_11-47-00_CA_RGB_DF2_M3.mp4', 'C_3_12_27_BU_SYA_10-06_14-49-27_CD_RGB_DF2_F3.mp4', 'C_3_12_15_BU_SYA_09-24_14-03-20_CB_RGB_DF2_F2.mp4', 'C_3_12_5_BU_SMA_08-28_14-03-02_CB_RGB_DF2_F1.mp4', 'C_3_12_30_BU_SMA_09-27_10-56-48_CC_RGB_DF2_F3.mp4', 'C_3_12_25_BU_SYA_10-06_14-46-19_CA_RGB_DF2_F3.mp4', 'C_3_12_25_BU_SMB_09-02_14-15-19_CB_RGB_DF2_F3.mp4', 'C_3_12_22_BU_SYA_10-06_14-28-50_CA_RGB_DF2_M3.mp4', 'C_3_12_27_BU_DYB_08-06_16-48-44_CE_RGB_DF2_F1.mp4', 'C_3_12_32_BU_SMC_10-16_11-02-57_CB_RGB_DF2_M1.mp4', 'C_3_12_1_BU_SMC_08-07_13-30-11_CA_RGB_DF2_M1.mp4', 'C_3_12_28_BU_SMA_09-27_11-51-56_CD_RGB_DF2_F3.mp4', 'C_3_12_36_BU_SMC_10-16_11-16-23_CC_RGB_DF2_F1.mp4', 'C_3_12_20_BU_SMB_09-02_15-43-51_CD_RGB_DF2_M3.mp4', 'C_3_12_15_BU_SYB_09-28_14-30-06_CD_RGB_DF2_F2.mp4', 'C_3_12_6_BU_SMA_08-30_14-48-20_CB_RGB_DF2_F1.mp4', 'C_3_12_1_BU_SMA_08-30_14-35-28_CA_RGB_DF2_M1.mp4', 'C_3_12_12_BU_DYA_07-27_13-06-22_CB_RGB_DF2_F2.mp4', 'C_3_12_11_BU_SYB_09-28_14-13-01_CD_RGB_DF2_M2.mp4', 'C_3_12_32_BU_SMC_10-16_11-02-57_CA_RGB_DF2_M1.mp4', 'C_3_12_17_BU_SYA_09-24_14-06-55_CA_RGB_DF2_F2.mp4', 'C_3_12_37_BU_DYA_08-10_17-21-23_CB_RGB_DF2_F2.mp4', 'C_3_12_25_BU_SMA_09-27_10-59-52_CD_RGB_DF2_F3.mp4', 'C_3_12_15_BU_DYA_07-31_10-53-29_CA_RGB_DF2_M3.mp4', 'C_3_12_32_BU_SMB_09-05_13-52-27_CD_RGB_DF2_M4.mp4', 'C_3_12_30_BU_SMC_08-07_13-35-21_CF_RGB_DF2_F1.mp4', 'C_3_12_34_BU_DYA_08-10_17-14-10_CB_RGB_DF2_M2.mp4', 'C_3_12_11_BU_DYA_07-27_13-03-09_CC_RGB_DF2_F2.mp4', 'C_3_12_31_BU_DYA_07-31_14-23-47_CE_RGB_DF2_F1.mp4', 'C_3_12_39_BU_DYA_07-29_16-05-15_CF_RGB_DF2_F2.mp4', 'C_3_12_6_BU_SMA_08-30_14-48-20_CC_RGB_DF2_F1.mp4', 'C_3_12_1_BU_DYA_07-31_16-15-04_CC_RGB_DF2_M1.mp4', 'C_3_12_13_BU_SMB_09-01_14-47-28_CC_RGB_DF2_F2.mp4', 'C_3_12_25_BU_DYA_08-12_13-48-02_CA_RGB_DF2_M4.mp4', 'C_3_12_25_BU_SMB_09-02_14-15-19_CD_RGB_DF2_F3.mp4', 'C_3_12_4_BU_SMB_08-28_16-31-01_CA_RGB_DF2_F1.mp4', 'C_3_12_4_BU_SMB_08-28_16-31-01_CB_RGB_DF2_F1.mp4', 'C_3_12_3_BU_SYB_09-17_11-58-10_CA_RGB_DF2_M1.mp4', 'C_3_12_30_BU_SYA_10-06_14-37-31_CB_RGB_DF2_F3.mp4', 'C_3_12_35_BU_DYA_07-29_12-02-40_CD_RGB_DF2_M2.mp4', 'C_3_12_8_BU_DYA_08-10_14-17-28_CF_RGB_DF2_M2.mp4', 'C_3_12_26_BU_SYA_10-06_14-47-44_CA_RGB_DF2_F3.mp4', 'C_3_12_37_BU_DYA_08-10_17-21-18_CA_RGB_DF2_F2.mp4', 'C_3_12_32_BU_DYA_07-31_14-26-27_CF_RGB_DF2_F1.mp4', 'C_3_12_5_BU_SMA_08-28_14-03-01_CC_RGB_DF2_F1.mp4', 'C_3_12_22_BU_SYA_10-06_14-28-50_CD_RGB_DF2_M3.mp4', 'C_3_12_37_BU_DYA_07-29_12-07-45_CD_RGB_DF2_M2.mp4', 'C_3_12_26_BU_SMB_09-02_14-17-46_CC_RGB_DF2_F3.mp4', 'C_3_12_9_BU_SYB_09-28_14-22-30_CA_RGB_DF2_M2.mp4', 'C_3_12_12_BU_SYB_09-28_14-15-56_CD_RGB_DF2_M2.mp4', 'C_3_12_20_BU_SYA_10-06_14-42-28_CC_RGB_DF2_M3.mp4', 'C_3_12_2_BU_SMB_08-28_16-27-05_CB_RGB_DF2_M1.mp4', 'C_3_12_30_BU_DYA_08-10_16-51-56_CA_RGB_DF2_M2.mp4', 'C_3_12_28_BU_SMA_09-27_11-51-56_CB_RGB_DF2_F3.mp4', 'C_3_12_4_BU_SMC_08-07_13-35-05_CB_RGB_DF2_F1.mp4', 'C_3_12_38_BU_SMC_10-16_11-18-38_CD_RGB_DF2_F1.mp4', 'C_3_12_21_BU_SYB_10-04_14-59-45_CA_RGB_DF2_M3.mp4', 'C_3_12_8_BU_SMB_09-01_13-48-31_CB_RGB_DF2_M2.mp4', 'C_3_12_6_BU_SMA_08-28_14-04-51_CC_RGB_DF2_F1.mp4', 'C_3_12_26_BU_SYB_10-04_14-53-12_CC_RGB_DF2_F3.mp4', 'C_3_12_23_BU_SYB_10-04_14-48-01_CA_RGB_DF2_M3.mp4', 'C_3_12_2_BU_DYA_07-31_16-17-29_CB_RGB_DF2_M1.mp4', 'C_3_12_35_BU_SMC_10-16_11-11-42_CE_RGB_DF2_F1.mp4', 'C_3_12_30_BU_DYA_08-10_16-52-02_CC_RGB_DF2_M2.mp4', 'C_3_12_19_BU_SMB_09-02_15-42-00_CD_RGB_DF2_M3.mp4', 'C_3_12_27_BU_SMB_09-02_14-43-32_CC_RGB_DF2_F3.mp4', 'C_3_12_24_BU_SMA_09-27_11-47-00_CD_RGB_DF2_M3.mp4', 'C_3_12_6_BU_SMA_08-28_14-04-51_CA_RGB_DF2_F1.mp4', 'C_3_12_22_BU_SYB_10-04_14-45-43_CA_RGB_DF2_M3.mp4', 'C_3_12_38_BU_DYA_07-29_16-02-47_CD_RGB_DF2_F2.mp4', 'C_3_12_35_BU_SMC_10-16_11-11-42_CC_RGB_DF2_F1.mp4', 'C_3_12_3_BU_SMC_08-07_13-33-07_CB_RGB_DF2_M1.mp4', 'C_3_12_3_BU_SMB_08-28_16-29-24_CB_RGB_DF2_M1.mp4', 'C_3_12_7_BU_SMC_08-01_16-08-58_CD_RGB_DF2_M2.mp4', 'C_3_12_30_BU_SMB_09-02_14-40-47_CB_RGB_DF2_F3.mp4', 'C_3_12_4_BU_DYB_08-06_14-42-10_CB_RGB_DF2_F1.mp4', 'C_3_12_37_BU_DYA_07-29_12-07-45_CF_RGB_DF2_M2.mp4', 'C_3_12_40_BU_DYA_07-29_16-07-39_CD_RGB_DF2_F2.mp4', 'C_3_12_11_BU_DYA_08-10_14-59-14_CD_RGB_DF2_F2.mp4', 'C_3_12_14_BU_SYA_09-24_14-01-32_CA_RGB_DF2_F2.mp4', 'C_3_12_23_BU_SYA_10-06_14-30-35_CC_RGB_DF2_M3.mp4', 'C_3_12_16_BU_SMB_09-01_14-40-24_CA_RGB_DF2_F2.mp4', 'C_3_12_14_BU_SMB_09-01_14-49-58_CC_RGB_DF2_F2.mp4', 'C_3_12_28_BU_SMA_09-27_11-51-56_CC_RGB_DF2_F3.mp4', 'C_3_12_36_BU_DYA_07-29_12-05-40_CF_RGB_DF2_M2.mp4', 'C_3_12_11_BU_DYA_08-10_14-59-20_CF_RGB_DF2_F2.mp4', 'C_3_12_12_BU_DYA_08-10_15-01-28_CD_RGB_DF2_F2.mp4', 'C_3_12_9_BU_DYA_07-27_12-21-02_CC_RGB_DF2_M2.mp4', 'C_3_12_29_BU_SMC_08-07_13-33-42_CD_RGB_DF2_F1.mp4', 'C_3_12_9_BU_SYB_09-28_14-22-30_CD_RGB_DF2_M2.mp4', 'C_3_12_25_BU_SMB_09-02_14-15-19_CC_RGB_DF2_F3.mp4', 'C_3_12_7_BU_SYB_09-28_14-18-22_CD_RGB_DF2_M2.mp4', 'C_3_12_34_BU_DYA_08-10_17-14-10_CC_RGB_DF2_M2.mp4', 'C_3_12_39_BU_SMC_10-14_11-41-49_CC_RGB_DF2_M2.mp4', 'C_3_12_32_BU_DYA_08-10_16-56-40_CB_RGB_DF2_M2.mp4', 'C_3_12_39_BU_SMC_10-14_11-41-49_CB_RGB_DF2_M2.mp4', 'C_3_12_9_BU_DYA_08-10_14-19-51_CF_RGB_DF2_M2.mp4', 'C_3_12_33_BU_DYA_07-29_11-52-59_CD_RGB_DF2_M2.mp4', 'C_3_12_31_BU_SMC_10-16_11-00-59_CE_RGB_DF2_M1.mp4', 'C_3_12_29_BU_SMB_09-02_14-38-53_CB_RGB_DF2_F3.mp4', 'C_3_12_22_BU_SYB_10-04_14-45-43_CD_RGB_DF2_M3.mp4', 'C_3_12_26_BU_SMA_09-27_11-02-07_CB_RGB_DF2_F3.mp4', 'C_3_12_12_BU_SMB_09-01_13-58-33_CA_RGB_DF2_M2.mp4', 'C_3_12_17_BU_DYA_07-31_10-57-50_CB_RGB_DF2_M3.mp4', 'C_3_12_7_BU_DYA_07-27_12-15-46_CC_RGB_DF2_M2.mp4', 'C_3_12_25_BU_SMB_09-02_14-15-19_CA_RGB_DF2_F3.mp4', 'C_3_12_28_BU_SMB_09-02_14-37-10_CA_RGB_DF2_F3.mp4', 'C_3_12_6_BU_SMB_08-30_16-48-54_CA_RGB_DF2_F1.mp4', 'C_3_12_15_BU_SMA_09-07_16-03-10_CA_RGB_DF2_F2.mp4', 'C_3_12_3_BU_DYA_07-31_16-19-57_CB_RGB_DF2_F1.mp4', 'C_3_12_8_BU_DYA_07-27_12-18-46_CA_RGB_DF2_M2.mp4', 'C_3_12_24_BU_SYA_10-06_14-32-37_CB_RGB_DF2_M3.mp4', 'C_3_12_13_BU_SMB_09-01_14-47-28_CD_RGB_DF2_F2.mp4', 'C_3_12_3_BU_SYB_09-17_11-58-10_CB_RGB_DF2_M1.mp4', 'C_3_12_21_BU_SMB_09-02_15-45-53_CB_RGB_DF2_M3.mp4', 'C_3_12_31_BU_DYA_08-10_16-53-59_CB_RGB_DF2_M2.mp4', 'C_3_12_29_BU_SMC_08-07_13-33-42_CF_RGB_DF2_F1.mp4', 'C_3_12_1_BU_DYA_07-31_16-15-01_CA_RGB_DF2_M1.mp4', 'C_3_12_2_BU_SMA_08-28_13-53-34_CB_RGB_DF2_M1.mp4', 'C_3_12_32_BU_SMB_09-05_13-52-24_CC_RGB_DF2_M4.mp4', 'C_3_12_27_BU_SMA_09-27_11-04-22_CC_RGB_DF2_F3.mp4', 'C_3_12_13_BU_SYB_09-28_14-26-16_CA_RGB_DF2_F2.mp4', 'C_3_12_7_BU_SMB_09-01_13-46-36_CD_RGB_DF2_M2.mp4', 'C_3_12_27_BU_DYB_08-06_16-48-45_CD_RGB_DF2_F1.mp4', 'C_3_12_22_BU_SMA_09-27_11-42-30_CD_RGB_DF2_M3.mp4', 'C_3_12_29_BU_DYA_07-31_14-14-15_CD_RGB_DF2_M1.mp4', 'C_3_12_30_BU_SMA_09-27_10-56-48_CB_RGB_DF2_F3.mp4', 'C_3_12_10_BU_SMB_09-01_13-52-38_CD_RGB_DF2_M2.mp4', 'C_3_12_12_BU_DYA_08-10_15-01-33_CE_RGB_DF2_F2.mp4', 'C_3_12_27_BU_SMB_09-02_14-43-32_CD_RGB_DF2_F3.mp4', 'C_3_12_35_BU_DYA_08-10_17-17-30_CA_RGB_DF2_F2.mp4', 'C_3_12_18_BU_SYB_09-28_14-35-59_CD_RGB_DF2_F2.mp4', 'C_3_12_7_BU_SYB_09-28_14-18-22_CB_RGB_DF2_M2.mp4', 'C_3_12_2_BU_DYB_08-06_14-35-51_CB_RGB_DF2_M1.mp4', 'C_3_12_1_BU_SMA_08-28_13-51-00_CB_RGB_DF2_M1.mp4', 'C_3_12_8_BU_SYA_09-24_13-43-14_CD_RGB_DF2_M2.mp4', 'C_3_12_33_BU_DYA_08-10_16-58-23_CA_RGB_DF2_M2.mp4', 'C_3_12_14_BU_SMC_07-27_13-13-44_CA_RGB_DF2_F2.mp4', 'C_3_12_20_BU_SMB_09-02_15-43-51_CB_RGB_DF2_M3.mp4', 'C_3_12_33_BU_SMB_09-05_14-04-10_CD_RGB_DF2_M4.mp4', 'C_3_12_1_BU_SMA_08-28_13-51-00_CA_RGB_DF2_M1.mp4', 'C_3_12_32_BU_DYA_08-10_16-56-40_CC_RGB_DF2_M2.mp4', 'C_3_12_14_BU_SMB_09-01_14-49-58_CD_RGB_DF2_F2.mp4', 'C_3_12_6_BU_SMA_08-30_14-48-20_CA_RGB_DF2_F1.mp4', 'C_3_12_8_BU_DYA_07-27_12-18-49_CB_RGB_DF2_M2.mp4', 'C_3_12_29_BU_SYA_10-06_14-35-49_CB_RGB_DF2_F3.mp4', 'C_3_12_24_BU_SYA_10-06_14-32-37_CC_RGB_DF2_M3.mp4', 'C_3_12_21_BU_SYB_10-04_14-59-45_CC_RGB_DF2_M3.mp4', 'C_3_12_30_BU_SMA_09-27_10-56-48_CA_RGB_DF2_F3.mp4', 'C_3_12_28_BU_SMC_08-07_13-31-55_CD_RGB_DF2_F1.mp4', 'C_3_12_13_BU_DYA_07-27_13-08-55_CB_RGB_DF2_F2.mp4', 'C_3_12_8_BU_SYB_09-28_14-20-33_CB_RGB_DF2_M2.mp4', 'C_3_12_25_BU_SYB_10-04_14-51-46_CC_RGB_DF2_F3.mp4']\n",
      "mp4 파일 개수: 641\n"
     ]
    }
   ],
   "source": [
    "import os\n",
    "\n",
    "\n",
    "def count_mp4_files(path):\n",
    "  \"\"\"\n",
    "  주어진 경로의 하위 파일들을 전부 검사해서 mp4 파일 개수를 센다.\n",
    "\n",
    "  Args:\n",
    "    path: 하위 파일들을 검사할 경로\n",
    "\n",
    "  Returns:\n",
    "    mp4 파일 개수\n",
    "  \"\"\"\n",
    "  mp4_files=[]\n",
    "  mp4_count = 0\n",
    "  for root, dirs, files in os.walk(path):\n",
    "    for file in files:\n",
    "      if file.endswith(\".mp4\"):\n",
    "        mp4_count += 1\n",
    "        mp4_files.append(file)\n",
    "  return mp4_files, mp4_count\n",
    "rootdir= \"UCF_Crimes\"\n",
    "\n",
    "rootdir_crop= \"UCF_Crimes_10crop\"\n",
    "# 예시\n",
    "path = \"/home/bigdeal/mnt2/238-2.실내(편의점,_매장)_사람_이상행동_데이터/01-1.정식개방데이터/Training/01.원천데이터/TS_03.이상행동_12.절도\"\n",
    "new_path = \"UCF_Crimes_npy/Shoplifting/i3d/\"\n",
    "mp4_files,mp4_count = count_mp4_files(path)\n",
    "print(len(mp4_files))\n",
    "print(mp4_files)\n",
    "print(f\"mp4 파일 개수: {mp4_count}\")\n"
   ]
  },
  {
   "cell_type": "code",
   "execution_count": 11,
   "metadata": {},
   "outputs": [],
   "source": [
    "# 파일 이름이 담긴 리스트\n",
    "\n",
    "# 파일 이름을 나열하여 저장할 텍스트 파일 열기\n",
    "with open('file_list_hrpro_train.txt', 'w') as file:\n",
    "    # 리스트의 각 파일 이름을 파일에 쓰기\n",
    "    for filename in mp4_files:\n",
    "        file.write(filename + '\\n') "
   ]
  },
  {
   "cell_type": "code",
   "execution_count": 12,
   "metadata": {},
   "outputs": [
    {
     "name": "stdout",
     "output_type": "stream",
     "text": [
      "80\n",
      "['C_3_12_47_BU_SMC_10-14_16-15-55_CD_RGB_DF2_M3.mp4', 'C_3_12_48_BU_SMC_10-14_13-46-19_CD_RGB_DF2_F3.mp4', 'C_3_12_44_BU_DYB_10-16_14-56-44_CD_RGB_DF2_F1.mp4', 'C_3_12_48_BU_DYA_07-29_14-11-06_CF_RGB_DF2_F2.mp4', 'C_3_12_41_BU_DYA_07-29_15-20-29_CE_RGB_DF2_F2.mp4', 'C_3_12_41_BU_DYB_10-16_14-50-58_CA_RGB_DF2_M1.mp4', 'C_3_12_41_BU_SMC_10-14_11-45-31_CA_RGB_DF2_M2.mp4', 'C_3_12_48_BU_SMC_10-14_13-46-19_CC_RGB_DF2_F3.mp4', 'C_3_12_49_BU_DYB_10-17_13-47-59_CC_RGB_DF2_M3.mp4', 'C_3_12_48_BU_DYB_10-17_13-46-19_CC_RGB_DF2_M3.mp4', 'C_3_12_41_BU_DYA_07-29_15-20-29_CF_RGB_DF2_F2.mp4', 'C_3_12_44_BU_DYB_10-16_14-56-44_CE_RGB_DF2_F1.mp4', 'C_3_12_47_BU_SMC_10-14_16-15-55_CC_RGB_DF2_M3.mp4', 'C_3_12_47_BU_SMC_10-14_16-15-55_CA_RGB_DF2_M3.mp4', 'C_3_12_47_BU_DYB_10-17_13-44-21_CB_RGB_DF2_M3.mp4', 'C_3_12_48_BU_DYA_07-29_14-11-06_CE_RGB_DF2_F2.mp4', 'C_3_12_49_BU_DYA_07-29_14-13-29_CF_RGB_DF2_F3.mp4', 'C_3_12_43_BU_DYB_10-16_14-55-05_CC_RGB_DF2_F1.mp4', 'C_3_12_41_BU_SMC_10-14_11-45-31_CE_RGB_DF2_M2.mp4', 'C_3_12_48_BU_DYB_10-17_13-46-19_CB_RGB_DF2_M3.mp4', 'C_3_12_49_BU_DYB_10-17_13-47-59_CE_RGB_DF2_M3.mp4', 'C_3_12_40_BU_SMC_10-14_11-43-44_CE_RGB_DF2_M2.mp4', 'C_3_12_45_BU_DYB_10-16_15-02-02_CD_RGB_DF2_F1.mp4', 'C_3_12_48_BU_DYB_10-17_13-46-19_CA_RGB_DF2_M3.mp4', 'C_3_12_45_BU_SMC_10-14_16-07-18_CA_RGB_DF2_M3.mp4', 'C_3_12_42_BU_DYA_07-29_15-23-55_CE_RGB_DF2_F2.mp4', 'C_3_12_48_BU_DYA_07-29_14-11-06_CD_RGB_DF2_F2.mp4', 'C_3_12_43_BU_DYB_10-16_14-55-05_CB_RGB_DF2_F1.mp4', 'C_3_12_44_BU_SMC_10-14_12-19-55_CA_RGB_DF2_F2.mp4', 'C_3_12_48_BU_DYB_10-17_13-46-19_CD_RGB_DF2_M3.mp4', 'C_3_12_41_BU_DYB_10-16_14-50-58_CB_RGB_DF2_M1.mp4', 'C_3_12_44_BU_SMC_10-14_12-19-55_CD_RGB_DF2_F2.mp4', 'C_3_12_48_BU_SMC_10-14_13-46-19_CB_RGB_DF2_F3.mp4', 'C_3_12_47_BU_SMC_10-14_16-15-55_CE_RGB_DF2_M3.mp4', 'C_3_12_40_BU_SMC_10-14_11-43-44_CD_RGB_DF2_M2.mp4', 'C_3_12_47_BU_DYB_10-17_13-44-21_CE_RGB_DF2_M3.mp4', 'C_3_12_45_BU_DYB_10-16_15-02-02_CE_RGB_DF2_F1.mp4', 'C_3_12_47_BU_DYB_10-17_13-44-21_CC_RGB_DF2_M3.mp4', 'C_3_12_45_BU_SMC_10-14_16-07-18_CB_RGB_DF2_M3.mp4', 'C_3_12_44_BU_SMC_10-14_12-19-55_CE_RGB_DF2_F2.mp4', 'C_3_12_44_BU_DYB_10-16_14-56-44_CC_RGB_DF2_F1.mp4', 'C_3_12_48_BU_SMC_10-14_13-46-19_CE_RGB_DF2_F3.mp4', 'C_3_12_42_BU_SMC_10-14_12-15-24_CE_RGB_DF2_F2.mp4', 'C_3_12_44_BU_DYB_10-16_14-56-44_CB_RGB_DF2_F1.mp4', 'C_3_12_41_BU_SMC_10-14_11-45-31_CC_RGB_DF2_M2.mp4', 'C_3_12_45_BU_SMC_10-14_16-07-18_CC_RGB_DF2_M3.mp4', 'C_3_12_42_BU_SMC_10-14_12-15-24_CA_RGB_DF2_F2.mp4', 'C_3_12_45_BU_DYB_10-16_15-02-02_CB_RGB_DF2_F1.mp4', 'C_3_12_48_BU_DYB_10-17_13-46-19_CE_RGB_DF2_M3.mp4', 'C_3_12_49_BU_DYB_10-17_13-47-59_CB_RGB_DF2_M3.mp4', 'C_3_12_41_BU_SMC_10-14_11-45-31_CB_RGB_DF2_M2.mp4', 'C_3_12_43_BU_DYB_10-16_14-55-05_CD_RGB_DF2_F1.mp4', 'C_3_12_48_BU_SMC_10-14_13-46-19_CA_RGB_DF2_F3.mp4', 'C_3_12_42_BU_SMC_10-14_12-15-24_CC_RGB_DF2_F2.mp4', 'C_3_12_42_BU_SMC_10-14_12-15-24_CD_RGB_DF2_F2.mp4', 'C_3_12_41_BU_SMC_10-14_11-45-31_CD_RGB_DF2_M2.mp4', 'C_3_12_49_BU_DYA_07-29_14-13-29_CE_RGB_DF2_F3.mp4', 'C_3_12_43_BU_SMC_10-14_12-17-14_CC_RGB_DF2_F2.mp4', 'C_3_12_49_BU_DYA_07-29_14-13-29_CD_RGB_DF2_F3.mp4', 'C_3_12_46_BU_SMC_10-14_16-09-57_CB_RGB_DF2_M3.mp4', 'C_3_12_47_BU_DYB_10-17_13-44-21_CA_RGB_DF2_M3.mp4', 'C_3_12_41_BU_DYA_07-29_15-20-29_CD_RGB_DF2_F2.mp4', 'C_3_12_49_BU_DYB_10-17_13-47-59_CD_RGB_DF2_M3.mp4', 'C_3_12_44_BU_SMC_10-14_12-19-55_CB_RGB_DF2_F2.mp4', 'C_3_12_47_BU_DYB_10-17_13-44-21_CD_RGB_DF2_M3.mp4', 'C_3_12_45_BU_SMC_10-14_16-07-18_CE_RGB_DF2_M3.mp4', 'C_3_12_49_BU_DYB_10-17_13-47-59_CA_RGB_DF2_M3.mp4', 'C_3_12_43_BU_DYB_10-16_14-55-05_CE_RGB_DF2_F1.mp4', 'C_3_12_44_BU_SMC_10-14_12-19-55_CC_RGB_DF2_F2.mp4', 'C_3_12_41_BU_DYB_10-16_14-50-58_CD_RGB_DF2_M1.mp4', 'C_3_12_45_BU_DYB_10-16_15-02-02_CA_RGB_DF2_F1.mp4', 'C_3_12_46_BU_SMC_10-14_16-09-57_CE_RGB_DF2_M3.mp4', 'C_3_12_45_BU_SMC_10-14_16-07-18_CD_RGB_DF2_M3.mp4', 'C_3_12_47_BU_SMC_10-14_16-15-55_CB_RGB_DF2_M3.mp4', 'C_3_12_46_BU_SMC_10-14_16-09-57_CC_RGB_DF2_M3.mp4', 'C_3_12_43_BU_DYB_10-16_14-55-05_CA_RGB_DF2_F1.mp4', 'C_3_12_44_BU_DYB_10-16_14-56-44_CA_RGB_DF2_F1.mp4', 'C_3_12_42_BU_SMC_10-14_12-15-24_CB_RGB_DF2_F2.mp4', 'C_3_12_42_BU_DYA_07-29_15-23-55_CF_RGB_DF2_F2.mp4', 'C_3_12_42_BU_DYA_07-29_15-23-55_CD_RGB_DF2_F2.mp4']\n",
      "mp4 파일 개수: 80\n"
     ]
    }
   ],
   "source": [
    "path = \"/home/bigdeal/mnt2/238-2.실내(편의점,_매장)_사람_이상행동_데이터/01-1.정식개방데이터/Validation/01.원천데이터/VS_03.이상행동_12.절도\"\n",
    "new_path = \"UCF_Crimes_npy/Shoplifting/i3d/\"\n",
    "mp4_files,mp4_count = count_mp4_files(path)\n",
    "print(len(mp4_files))\n",
    "print(mp4_files)\n",
    "print(f\"mp4 파일 개수: {mp4_count}\")\n"
   ]
  },
  {
   "cell_type": "code",
   "execution_count": 13,
   "metadata": {},
   "outputs": [],
   "source": [
    "# 파일 이름이 담긴 리스트\n",
    "\n",
    "# 파일 이름을 나열하여 저장할 텍스트 파일 열기\n",
    "with open('file_list_hrpro_test.txt', 'w') as file:\n",
    "    # 리스트의 각 파일 이름을 파일에 쓰기\n",
    "    for filename in mp4_files:\n",
    "        file.write(filename + '\\n') "
   ]
  },
  {
   "cell_type": "code",
   "execution_count": null,
   "metadata": {},
   "outputs": [],
   "source": []
  }
 ],
 "metadata": {
  "kernelspec": {
   "display_name": "wvad",
   "language": "python",
   "name": "python3"
  },
  "language_info": {
   "codemirror_mode": {
    "name": "ipython",
    "version": 3
   },
   "file_extension": ".py",
   "mimetype": "text/x-python",
   "name": "python",
   "nbconvert_exporter": "python",
   "pygments_lexer": "ipython3",
   "version": "3.11.8"
  }
 },
 "nbformat": 4,
 "nbformat_minor": 2
}
