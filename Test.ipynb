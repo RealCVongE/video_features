{
 "cells": [
  {
   "cell_type": "code",
   "execution_count": 5,
   "metadata": {},
   "outputs": [
    {
     "name": "stdout",
     "output_type": "stream",
     "text": [
      "feature_type: r21d\n",
      "model_name: r2plus1d_18_16_kinetics\n",
      "stack_size: null\n",
      "step_size: null\n",
      "extraction_fps: null\n",
      "device: cuda:0\n",
      "on_extraction: print\n",
      "output_path: ./output\\r21d\\r2plus1d_18_16_kinetics\n",
      "tmp_path: ./tmp\\r21d\\r2plus1d_18_16_kinetics\n",
      "keep_tmp_files: false\n",
      "show_pred: false\n",
      "config: null\n",
      "video_paths:\n",
      "- ./sample/v_ZNVhz7ctTq0.mp4\n",
      "- ./sample/v_GGSY1Qvo990.mp4\n",
      "file_with_video_paths: null\n",
      "\n",
      "Device: cuda:0\n",
      "The number of specified videos: 2\n",
      "r21d\n",
      "[[0.42217487 1.17241478 0.40108061 ... 0.66955972 0.06912975 1.18544972]\n",
      " [0.52834147 0.86625701 0.48407453 ... 0.87204832 0.06442701 1.27014625]\n",
      " [0.45514068 1.24139607 0.28752321 ... 1.19740975 0.04061373 1.18316901]\n",
      " ...\n",
      " [0.36856094 0.72175956 0.42999309 ... 1.50359106 0.64502478 0.92296231]\n",
      " [0.36783111 0.57700574 0.39525458 ... 1.56007409 0.47313643 0.55631542]\n",
      " [0.26918149 0.62723058 0.15492553 ... 1.86682606 0.16253105 0.45002201]]\n",
      "max: 5.85783100; mean: 0.97720358; min: 0.00000000\n",
      "\n",
      "r21d\n",
      "[[0.29413179 0.61645156 0.03124532 ... 0.46446839 0.11277261 0.30683434]\n",
      " [0.45698288 0.70914692 0.05727234 ... 0.51085204 0.24664575 0.53421676]\n",
      " [0.53577775 0.6483795  0.03308657 ... 0.41073611 0.22459793 0.42646158]\n",
      " ...\n",
      " [0.76574105 1.3606689  0.3220636  ... 0.85641134 0.33693063 0.84259647]\n",
      " [0.39218646 0.72635245 0.24187273 ... 0.12441775 0.13381284 0.73446232]\n",
      " [0.24503756 0.74645054 0.27716178 ... 0.2595416  0.46964052 0.82067555]]\n",
      "max: 5.41593599; mean: 0.73188983; min: 0.00046475\n",
      "\n"
     ]
    },
    {
     "name": "stderr",
     "output_type": "stream",
     "text": [
      "\n",
      "  0%|          | 0/2 [00:00<?, ?it/s]\n",
      " 50%|█████     | 1/2 [00:03<00:03,  3.02s/it]\n",
      "100%|██████████| 2/2 [00:03<00:00,  1.53s/it]\n",
      "100%|██████████| 2/2 [00:03<00:00,  1.76s/it]\n"
     ]
    }
   ],
   "source": [
    "!python main.py \\\n",
    "    feature_type=r21d \\\n",
    "    device=\"cuda:0\" \\\n",
    "    video_paths=\"[./sample/v_ZNVhz7ctTq0.mp4, ./sample/v_GGSY1Qvo990.mp4]\""
   ]
  },
  {
   "cell_type": "code",
   "execution_count": 9,
   "metadata": {},
   "outputs": [
    {
     "name": "stdout",
     "output_type": "stream",
     "text": [
      "feature_type: i3d\n",
      "stack_size: 64\n",
      "step_size: 64\n",
      "streams: null\n",
      "flow_type: raft\n",
      "extraction_fps: null\n",
      "device: cuda:0\n",
      "on_extraction: save_numpy\n",
      "output_path: ./output/i3d/kinetics\\i3d\n",
      "tmp_path: ./tmp\\i3d\n",
      "keep_tmp_files: false\n",
      "show_pred: false\n",
      "config: null\n",
      "video_paths:\n",
      "- ../PreProcess/ori_Training/C_3_12_1_BU_SMB_08-28_16-25-27_CC_RGB_DF2_M1.mp4\n",
      "file_with_video_paths: null\n",
      "\n",
      "Saving features to ./output/i3d/kinetics\\i3d\n",
      "Device: cuda:0\n",
      "The number of specified videos: 1\n"
     ]
    },
    {
     "name": "stderr",
     "output_type": "stream",
     "text": [
      "\n",
      "  0%|          | 0/1 [00:00<?, ?it/s]\n",
      "100%|██████████| 1/1 [00:04<00:00,  4.73s/it]\n",
      "100%|██████████| 1/1 [00:04<00:00,  4.73s/it]\n"
     ]
    }
   ],
   "source": [
    "!python main.py \\\n",
    "    feature_type=i3d \\\n",
    "    device=\"cuda:0\" \\\n",
    "    video_paths=\"[../PreProcess/ori_Training/C_3_12_1_BU_SMB_08-28_16-25-27_CC_RGB_DF2_M1.mp4]\" \\\n",
    "    on_extraction=\"save_numpy\" \\\n",
    "    output_path=\"./output/i3d/kinetics\""
   ]
  },
  {
   "cell_type": "code",
   "execution_count": null,
   "metadata": {},
   "outputs": [],
   "source": []
  }
 ],
 "metadata": {
  "kernelspec": {
   "display_name": "video_features",
   "language": "python",
   "name": "python3"
  },
  "language_info": {
   "codemirror_mode": {
    "name": "ipython",
    "version": 3
   },
   "file_extension": ".py",
   "mimetype": "text/x-python",
   "name": "python",
   "nbconvert_exporter": "python",
   "pygments_lexer": "ipython3",
   "version": "3.12.2"
  }
 },
 "nbformat": 4,
 "nbformat_minor": 2
}
